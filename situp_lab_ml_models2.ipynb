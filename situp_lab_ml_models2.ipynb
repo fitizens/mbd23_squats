{
 "cells": [
  {
   "cell_type": "markdown",
   "id": "7a26496c-e3c9-47b2-b136-ada4d9bf20b6",
   "metadata": {
    "tags": []
   },
   "source": [
    "# ETL "
   ]
  },
  {
   "cell_type": "code",
   "execution_count": 1,
   "id": "48a99f12-cbfb-40cf-b151-f245b00bb21c",
   "metadata": {},
   "outputs": [],
   "source": [
    "from fitizens_libraries.load_and_process_training_data import load_training_data\n",
    "from fitizens_libraries.load_timeseries import load_timeseries_data\n",
    "from custom_libraries.merge_data import merge_data\n",
    "from fitizens_libraries.plot_labeled_sequences import plot_labeled_sequence\n",
    "from statsmodels.graphics.tsaplots import plot_acf, plot_pacf\n",
    "from matplotlib import pyplot\n",
    "from fitizens_libraries.build_dataframe_from_list_of_signals import build_dataframe\n",
    "from collections import Counter\n",
    "from sklearn.preprocessing import OneHotEncoder, StandardScaler\n",
    "from sklearn.model_selection import train_test_split \n",
    "from sklearn.feature_selection import SelectKBest, f_classif\n",
    "from sklearn.preprocessing import LabelEncoder\n",
    "from imblearn.over_sampling import SMOTE\n",
    "from sklearn.metrics import accuracy_score\n",
    "from sklearn.metrics import confusion_matrix, classification_report\n",
    "from sklearn.metrics import roc_auc_score, roc_curve, classification_report, auc, roc_auc_score\n",
    "import plotly.graph_objects as go\n",
    "from sklearn.metrics import accuracy_score, precision_score, recall_score, f1_score\n",
    "from sklearn.metrics import roc_curve, auc\n",
    "import plotly.express as px\n",
    "import seaborn as sns\n",
    "import matplotlib.pyplot as plt\n",
    "import numpy as np\n",
    "import pandas as pd\n",
    "import os\n",
    "from pycaret.classification import *"
   ]
  },
  {
   "cell_type": "markdown",
   "id": "2e11ff26",
   "metadata": {},
   "source": [
    "# Creating Auxiliary Functions"
   ]
  },
  {
   "cell_type": "markdown",
   "id": "5271e81f",
   "metadata": {},
   "source": [
    "def create_custom_dataframe(series):\n",
    "    df =  series[[\"linAccX\", \"linAccY\", \"linAccZ\", \"gyroX\", \"gyroY\", \"gyroZ\", \"magnX\", \"magnY\", \"magnZ\"]]\n",
    "    return df"
   ]
  },
  {
   "cell_type": "code",
   "execution_count": 2,
   "id": "40326e03",
   "metadata": {},
   "outputs": [],
   "source": [
    "def create_custom_dataframe(series):\n",
    "    df =  series[[\"linAccX\", \"linAccY\", \"linAccZ\", \"gyroX\", \"gyroY\", \"gyroZ\", \"magnX\", \"magnY\", \"magnZ\"]]\n",
    "    return df"
   ]
  },
  {
   "cell_type": "code",
   "execution_count": 3,
   "id": "c8238294",
   "metadata": {},
   "outputs": [],
   "source": [
    "def create_training_data_stats(df, target):\n",
    "    stats_dict = {}\n",
    "    series = create_custom_dataframe(df)\n",
    "    \n",
    "    for column in series.columns:\n",
    "        mean = series[column].mean()\n",
    "        std = series[column].std()\n",
    "        median = series[column].median()\n",
    "        skewness = series[column].skew()\n",
    "        kurtosis = series[column].kurtosis()\n",
    "        min_val = series[column].min()\n",
    "        max_val = series[column].max()\n",
    "        range_val = max_val - min_val\n",
    "        quartile_25 = np.percentile(series[column], 25)\n",
    "        quartile_75 = np.percentile(series[column], 75)\n",
    "        iqr = quartile_75 - quartile_25\n",
    "    \n",
    "\n",
    "        stats_dict[f\"{column}_mean\"] = mean\n",
    "        stats_dict[f\"{column}_std\"] = std\n",
    "        stats_dict[f\"{column}_median\"] = median\n",
    "        stats_dict[f\"{column}_skewness\"] = skewness\n",
    "        stats_dict[f\"{column}_kurtosis\"] = kurtosis\n",
    "        stats_dict[f\"{column}_min\"] = min_val\n",
    "        stats_dict[f\"{column}_max\"] = max_val\n",
    "        stats_dict[f\"{column}_range\"] = range_val\n",
    "        stats_dict[f\"{column}_quartile_25\"] = quartile_25\n",
    "        stats_dict[f\"{column}_quartile_75\"] = quartile_75\n",
    "        stats_dict[f\"{column}_iqr\"] = iqr\n",
    "          \n",
    "    stats_dict[\"target\"] = target\n",
    "    return stats_dict"
   ]
  },
  {
   "cell_type": "markdown",
   "id": "30e95e8d",
   "metadata": {},
   "source": [
    "## LOADING DATA"
   ]
  },
  {
   "cell_type": "code",
   "execution_count": 4,
   "id": "cb92b6c3",
   "metadata": {},
   "outputs": [],
   "source": [
    "folder_path = \"SIT_UP\"\n",
    "os.makedirs(folder_path, exist_ok=True)\n",
    "file_names = [f\"{folder_path}/{name}\" for name in os.listdir(folder_path)]\n",
    "signals = ['accX', 'accY', 'accZ', 'gyroX', 'gyroY', 'gyroZ', 'magnX', 'magnY', 'magnZ', 'linAccX', 'linAccY', 'linAccZ']\n",
    "\n",
    "data, wk = load_training_data(filelist=file_names,\n",
    "                         signals= signals,\n",
    "                          target_exercise=\"SIT_UP\", other_exercises=[],is_peak_minima=True)\n",
    "#data[0]"
   ]
  },
  {
   "cell_type": "markdown",
   "id": "d949b7d1",
   "metadata": {},
   "source": [
    "## CREATING NEW DATA"
   ]
  },
  {
   "cell_type": "code",
   "execution_count": 5,
   "id": "aca69624",
   "metadata": {},
   "outputs": [
    {
     "data": {
      "text/html": [
       "<div>\n",
       "<style scoped>\n",
       "    .dataframe tbody tr th:only-of-type {\n",
       "        vertical-align: middle;\n",
       "    }\n",
       "\n",
       "    .dataframe tbody tr th {\n",
       "        vertical-align: top;\n",
       "    }\n",
       "\n",
       "    .dataframe thead th {\n",
       "        text-align: right;\n",
       "    }\n",
       "</style>\n",
       "<table border=\"1\" class=\"dataframe\">\n",
       "  <thead>\n",
       "    <tr style=\"text-align: right;\">\n",
       "      <th></th>\n",
       "      <th>linAccX_mean</th>\n",
       "      <th>linAccX_std</th>\n",
       "      <th>linAccX_median</th>\n",
       "      <th>linAccX_skewness</th>\n",
       "      <th>linAccX_kurtosis</th>\n",
       "      <th>linAccX_min</th>\n",
       "      <th>linAccX_max</th>\n",
       "      <th>linAccX_range</th>\n",
       "      <th>linAccX_quartile_25</th>\n",
       "      <th>linAccX_quartile_75</th>\n",
       "      <th>...</th>\n",
       "      <th>magnZ_median</th>\n",
       "      <th>magnZ_skewness</th>\n",
       "      <th>magnZ_kurtosis</th>\n",
       "      <th>magnZ_min</th>\n",
       "      <th>magnZ_max</th>\n",
       "      <th>magnZ_range</th>\n",
       "      <th>magnZ_quartile_25</th>\n",
       "      <th>magnZ_quartile_75</th>\n",
       "      <th>magnZ_iqr</th>\n",
       "      <th>target</th>\n",
       "    </tr>\n",
       "  </thead>\n",
       "  <tbody>\n",
       "    <tr>\n",
       "      <th>0</th>\n",
       "      <td>0.388809</td>\n",
       "      <td>0.279572</td>\n",
       "      <td>0.366983</td>\n",
       "      <td>-0.042204</td>\n",
       "      <td>-1.106181</td>\n",
       "      <td>-0.123898</td>\n",
       "      <td>0.817209</td>\n",
       "      <td>0.941108</td>\n",
       "      <td>0.193300</td>\n",
       "      <td>0.647342</td>\n",
       "      <td>...</td>\n",
       "      <td>-133.774247</td>\n",
       "      <td>0.967084</td>\n",
       "      <td>-0.384360</td>\n",
       "      <td>-141.222322</td>\n",
       "      <td>-71.998178</td>\n",
       "      <td>69.224145</td>\n",
       "      <td>-140.462345</td>\n",
       "      <td>-109.304928</td>\n",
       "      <td>31.157417</td>\n",
       "      <td>SIT_UP</td>\n",
       "    </tr>\n",
       "    <tr>\n",
       "      <th>1</th>\n",
       "      <td>0.372222</td>\n",
       "      <td>0.279694</td>\n",
       "      <td>0.385858</td>\n",
       "      <td>-0.014031</td>\n",
       "      <td>-1.209217</td>\n",
       "      <td>-0.098039</td>\n",
       "      <td>0.830182</td>\n",
       "      <td>0.928221</td>\n",
       "      <td>0.124379</td>\n",
       "      <td>0.603874</td>\n",
       "      <td>...</td>\n",
       "      <td>-132.795818</td>\n",
       "      <td>0.790671</td>\n",
       "      <td>-0.854375</td>\n",
       "      <td>-143.417692</td>\n",
       "      <td>-67.077372</td>\n",
       "      <td>76.340321</td>\n",
       "      <td>-142.322815</td>\n",
       "      <td>-100.734702</td>\n",
       "      <td>41.588113</td>\n",
       "      <td>SIT_UP</td>\n",
       "    </tr>\n",
       "    <tr>\n",
       "      <th>2</th>\n",
       "      <td>0.504073</td>\n",
       "      <td>0.243515</td>\n",
       "      <td>0.544523</td>\n",
       "      <td>-0.406295</td>\n",
       "      <td>-1.021661</td>\n",
       "      <td>-0.028379</td>\n",
       "      <td>0.835814</td>\n",
       "      <td>0.864194</td>\n",
       "      <td>0.342034</td>\n",
       "      <td>0.718465</td>\n",
       "      <td>...</td>\n",
       "      <td>-133.472091</td>\n",
       "      <td>0.855847</td>\n",
       "      <td>-0.719118</td>\n",
       "      <td>-142.445329</td>\n",
       "      <td>-70.284936</td>\n",
       "      <td>72.160392</td>\n",
       "      <td>-141.375007</td>\n",
       "      <td>-103.942723</td>\n",
       "      <td>37.432284</td>\n",
       "      <td>SIT_UP</td>\n",
       "    </tr>\n",
       "    <tr>\n",
       "      <th>3</th>\n",
       "      <td>0.517968</td>\n",
       "      <td>0.328093</td>\n",
       "      <td>0.542358</td>\n",
       "      <td>-0.216895</td>\n",
       "      <td>-0.994067</td>\n",
       "      <td>-0.067893</td>\n",
       "      <td>1.084048</td>\n",
       "      <td>1.151941</td>\n",
       "      <td>0.297515</td>\n",
       "      <td>0.795397</td>\n",
       "      <td>...</td>\n",
       "      <td>-132.888973</td>\n",
       "      <td>0.866073</td>\n",
       "      <td>-0.702640</td>\n",
       "      <td>-141.558153</td>\n",
       "      <td>-64.709851</td>\n",
       "      <td>76.848303</td>\n",
       "      <td>-140.867072</td>\n",
       "      <td>-101.929367</td>\n",
       "      <td>38.937705</td>\n",
       "      <td>SIT_UP</td>\n",
       "    </tr>\n",
       "    <tr>\n",
       "      <th>4</th>\n",
       "      <td>0.597573</td>\n",
       "      <td>0.268827</td>\n",
       "      <td>0.677022</td>\n",
       "      <td>-0.881459</td>\n",
       "      <td>-0.419613</td>\n",
       "      <td>-0.040277</td>\n",
       "      <td>0.954099</td>\n",
       "      <td>0.994376</td>\n",
       "      <td>0.446828</td>\n",
       "      <td>0.775891</td>\n",
       "      <td>...</td>\n",
       "      <td>-129.410661</td>\n",
       "      <td>0.867999</td>\n",
       "      <td>-0.708750</td>\n",
       "      <td>-137.873103</td>\n",
       "      <td>-65.389778</td>\n",
       "      <td>72.483325</td>\n",
       "      <td>-136.585987</td>\n",
       "      <td>-99.882959</td>\n",
       "      <td>36.703028</td>\n",
       "      <td>SIT_UP</td>\n",
       "    </tr>\n",
       "  </tbody>\n",
       "</table>\n",
       "<p>5 rows × 100 columns</p>\n",
       "</div>"
      ],
      "text/plain": [
       "   linAccX_mean  linAccX_std  linAccX_median  linAccX_skewness  \\\n",
       "0      0.388809     0.279572        0.366983         -0.042204   \n",
       "1      0.372222     0.279694        0.385858         -0.014031   \n",
       "2      0.504073     0.243515        0.544523         -0.406295   \n",
       "3      0.517968     0.328093        0.542358         -0.216895   \n",
       "4      0.597573     0.268827        0.677022         -0.881459   \n",
       "\n",
       "   linAccX_kurtosis  linAccX_min  linAccX_max  linAccX_range  \\\n",
       "0         -1.106181    -0.123898     0.817209       0.941108   \n",
       "1         -1.209217    -0.098039     0.830182       0.928221   \n",
       "2         -1.021661    -0.028379     0.835814       0.864194   \n",
       "3         -0.994067    -0.067893     1.084048       1.151941   \n",
       "4         -0.419613    -0.040277     0.954099       0.994376   \n",
       "\n",
       "   linAccX_quartile_25  linAccX_quartile_75  ...  magnZ_median  \\\n",
       "0             0.193300             0.647342  ...   -133.774247   \n",
       "1             0.124379             0.603874  ...   -132.795818   \n",
       "2             0.342034             0.718465  ...   -133.472091   \n",
       "3             0.297515             0.795397  ...   -132.888973   \n",
       "4             0.446828             0.775891  ...   -129.410661   \n",
       "\n",
       "   magnZ_skewness  magnZ_kurtosis   magnZ_min  magnZ_max  magnZ_range  \\\n",
       "0        0.967084       -0.384360 -141.222322 -71.998178    69.224145   \n",
       "1        0.790671       -0.854375 -143.417692 -67.077372    76.340321   \n",
       "2        0.855847       -0.719118 -142.445329 -70.284936    72.160392   \n",
       "3        0.866073       -0.702640 -141.558153 -64.709851    76.848303   \n",
       "4        0.867999       -0.708750 -137.873103 -65.389778    72.483325   \n",
       "\n",
       "   magnZ_quartile_25  magnZ_quartile_75  magnZ_iqr  target  \n",
       "0        -140.462345        -109.304928  31.157417  SIT_UP  \n",
       "1        -142.322815        -100.734702  41.588113  SIT_UP  \n",
       "2        -141.375007        -103.942723  37.432284  SIT_UP  \n",
       "3        -140.867072        -101.929367  38.937705  SIT_UP  \n",
       "4        -136.585987         -99.882959  36.703028  SIT_UP  \n",
       "\n",
       "[5 rows x 100 columns]"
      ]
     },
     "execution_count": 5,
     "metadata": {},
     "output_type": "execute_result"
    }
   ],
   "source": [
    "data_info = [create_training_data_stats(info[\"series\"], info[\"target\"]) for info in data] #calling the two functions\n",
    "data_custom = pd.DataFrame(data_info) #creating the DF\n",
    "data_custom.head()"
   ]
  },
  {
   "cell_type": "code",
   "execution_count": null,
   "id": "a5e50504-b1f2-4838-a385-ab1bf51d1aaa",
   "metadata": {},
   "outputs": [],
   "source": [
    "len(data_custom)"
   ]
  },
  {
   "cell_type": "markdown",
   "id": "9ec9eaf0-e4b6-45dd-9499-4f8fd09390fb",
   "metadata": {},
   "source": [
    "# ML WITH PYCARET"
   ]
  },
  {
   "cell_type": "code",
   "execution_count": 6,
   "id": "e699ae38-88a7-472e-87f9-061aec3f537e",
   "metadata": {},
   "outputs": [
    {
     "name": "stdout",
     "output_type": "stream",
     "text": [
      "Data for Modeling: (505, 100)\n",
      "Simulated data For Production (27, 100)\n"
     ]
    }
   ],
   "source": [
    "data_dev = data_custom.sample(frac=0.95, random_state=786)\n",
    "data_prod = data_custom.drop(data_dev.index)\n",
    "\n",
    "data_dev.reset_index(inplace=True, drop=True)\n",
    "data_prod.reset_index(inplace=True, drop=True)\n",
    "\n",
    "print('Data for Modeling: ' + str(data_dev.shape))\n",
    "print('Simulated data For Production ' + str(data_prod.shape))"
   ]
  },
  {
   "cell_type": "code",
   "execution_count": 7,
   "id": "df4d811a-3172-4928-9b87-99bcfc423973",
   "metadata": {},
   "outputs": [
    {
     "name": "stdout",
     "output_type": "stream",
     "text": [
      "[LightGBM] [Info] Number of positive: 333, number of negative: 333\n",
      "[LightGBM] [Info] Auto-choosing col-wise multi-threading, the overhead of testing was 0.000842 seconds.\n",
      "You can set `force_col_wise=true` to remove the overhead.\n",
      "[LightGBM] [Info] Total Bins 14030\n",
      "[LightGBM] [Info] Number of data points in the train set: 666, number of used features: 63\n",
      "[LightGBM] [Info] [binary:BoostFromScore]: pavg=0.500000 -> initscore=0.000000\n",
      "[LightGBM] [Warning] No further splits with positive gain, best gain: -inf\n",
      "[LightGBM] [Warning] No further splits with positive gain, best gain: -inf\n",
      "[LightGBM] [Warning] No further splits with positive gain, best gain: -inf\n",
      "[LightGBM] [Warning] No further splits with positive gain, best gain: -inf\n",
      "[LightGBM] [Warning] No further splits with positive gain, best gain: -inf\n",
      "[LightGBM] [Warning] No further splits with positive gain, best gain: -inf\n",
      "[LightGBM] [Warning] No further splits with positive gain, best gain: -inf\n",
      "[LightGBM] [Warning] No further splits with positive gain, best gain: -inf\n",
      "[LightGBM] [Warning] No further splits with positive gain, best gain: -inf\n",
      "[LightGBM] [Warning] No further splits with positive gain, best gain: -inf\n",
      "[LightGBM] [Warning] No further splits with positive gain, best gain: -inf\n",
      "[LightGBM] [Warning] No further splits with positive gain, best gain: -inf\n",
      "[LightGBM] [Warning] No further splits with positive gain, best gain: -inf\n",
      "[LightGBM] [Warning] No further splits with positive gain, best gain: -inf\n",
      "[LightGBM] [Warning] No further splits with positive gain, best gain: -inf\n",
      "[LightGBM] [Warning] No further splits with positive gain, best gain: -inf\n",
      "[LightGBM] [Warning] No further splits with positive gain, best gain: -inf\n",
      "[LightGBM] [Warning] No further splits with positive gain, best gain: -inf\n",
      "[LightGBM] [Warning] No further splits with positive gain, best gain: -inf\n",
      "[LightGBM] [Warning] No further splits with positive gain, best gain: -inf\n",
      "[LightGBM] [Warning] No further splits with positive gain, best gain: -inf\n",
      "[LightGBM] [Warning] No further splits with positive gain, best gain: -inf\n",
      "[LightGBM] [Warning] No further splits with positive gain, best gain: -inf\n",
      "[LightGBM] [Warning] No further splits with positive gain, best gain: -inf\n",
      "[LightGBM] [Warning] No further splits with positive gain, best gain: -inf\n",
      "[LightGBM] [Warning] No further splits with positive gain, best gain: -inf\n",
      "[LightGBM] [Warning] No further splits with positive gain, best gain: -inf\n",
      "[LightGBM] [Warning] No further splits with positive gain, best gain: -inf\n",
      "[LightGBM] [Warning] No further splits with positive gain, best gain: -inf\n",
      "[LightGBM] [Warning] No further splits with positive gain, best gain: -inf\n",
      "[LightGBM] [Warning] No further splits with positive gain, best gain: -inf\n",
      "[LightGBM] [Warning] No further splits with positive gain, best gain: -inf\n",
      "[LightGBM] [Warning] No further splits with positive gain, best gain: -inf\n",
      "[LightGBM] [Warning] No further splits with positive gain, best gain: -inf\n",
      "[LightGBM] [Warning] No further splits with positive gain, best gain: -inf\n",
      "[LightGBM] [Warning] No further splits with positive gain, best gain: -inf\n",
      "[LightGBM] [Warning] No further splits with positive gain, best gain: -inf\n",
      "[LightGBM] [Warning] No further splits with positive gain, best gain: -inf\n",
      "[LightGBM] [Warning] No further splits with positive gain, best gain: -inf\n",
      "[LightGBM] [Warning] No further splits with positive gain, best gain: -inf\n",
      "[LightGBM] [Warning] No further splits with positive gain, best gain: -inf\n",
      "[LightGBM] [Warning] No further splits with positive gain, best gain: -inf\n",
      "[LightGBM] [Warning] No further splits with positive gain, best gain: -inf\n",
      "[LightGBM] [Warning] No further splits with positive gain, best gain: -inf\n",
      "[LightGBM] [Warning] No further splits with positive gain, best gain: -inf\n",
      "[LightGBM] [Warning] No further splits with positive gain, best gain: -inf\n",
      "[LightGBM] [Warning] No further splits with positive gain, best gain: -inf\n",
      "[LightGBM] [Warning] No further splits with positive gain, best gain: -inf\n",
      "[LightGBM] [Warning] No further splits with positive gain, best gain: -inf\n",
      "[LightGBM] [Warning] No further splits with positive gain, best gain: -inf\n",
      "[LightGBM] [Warning] No further splits with positive gain, best gain: -inf\n",
      "[LightGBM] [Warning] No further splits with positive gain, best gain: -inf\n",
      "[LightGBM] [Warning] No further splits with positive gain, best gain: -inf\n",
      "[LightGBM] [Warning] No further splits with positive gain, best gain: -inf\n",
      "[LightGBM] [Warning] No further splits with positive gain, best gain: -inf\n",
      "[LightGBM] [Warning] No further splits with positive gain, best gain: -inf\n",
      "[LightGBM] [Warning] No further splits with positive gain, best gain: -inf\n",
      "[LightGBM] [Warning] No further splits with positive gain, best gain: -inf\n",
      "[LightGBM] [Warning] No further splits with positive gain, best gain: -inf\n",
      "[LightGBM] [Warning] No further splits with positive gain, best gain: -inf\n",
      "[LightGBM] [Warning] No further splits with positive gain, best gain: -inf\n",
      "[LightGBM] [Warning] No further splits with positive gain, best gain: -inf\n",
      "[LightGBM] [Warning] No further splits with positive gain, best gain: -inf\n",
      "[LightGBM] [Warning] No further splits with positive gain, best gain: -inf\n",
      "[LightGBM] [Warning] No further splits with positive gain, best gain: -inf\n",
      "[LightGBM] [Warning] No further splits with positive gain, best gain: -inf\n",
      "[LightGBM] [Warning] No further splits with positive gain, best gain: -inf\n",
      "[LightGBM] [Warning] No further splits with positive gain, best gain: -inf\n",
      "[LightGBM] [Warning] No further splits with positive gain, best gain: -inf\n",
      "[LightGBM] [Warning] No further splits with positive gain, best gain: -inf\n",
      "[LightGBM] [Warning] No further splits with positive gain, best gain: -inf\n",
      "[LightGBM] [Warning] No further splits with positive gain, best gain: -inf\n",
      "[LightGBM] [Warning] No further splits with positive gain, best gain: -inf\n",
      "[LightGBM] [Warning] No further splits with positive gain, best gain: -inf\n",
      "[LightGBM] [Warning] No further splits with positive gain, best gain: -inf\n",
      "[LightGBM] [Warning] No further splits with positive gain, best gain: -inf\n",
      "[LightGBM] [Warning] No further splits with positive gain, best gain: -inf\n",
      "[LightGBM] [Warning] No further splits with positive gain, best gain: -inf\n",
      "[LightGBM] [Warning] No further splits with positive gain, best gain: -inf\n",
      "[LightGBM] [Warning] No further splits with positive gain, best gain: -inf\n",
      "[LightGBM] [Warning] No further splits with positive gain, best gain: -inf\n",
      "[LightGBM] [Warning] No further splits with positive gain, best gain: -inf\n",
      "[LightGBM] [Warning] No further splits with positive gain, best gain: -inf\n",
      "[LightGBM] [Warning] No further splits with positive gain, best gain: -inf\n",
      "[LightGBM] [Warning] No further splits with positive gain, best gain: -inf\n",
      "[LightGBM] [Warning] No further splits with positive gain, best gain: -inf\n",
      "[LightGBM] [Warning] No further splits with positive gain, best gain: -inf\n",
      "[LightGBM] [Warning] No further splits with positive gain, best gain: -inf\n",
      "[LightGBM] [Warning] No further splits with positive gain, best gain: -inf\n",
      "[LightGBM] [Warning] No further splits with positive gain, best gain: -inf\n"
     ]
    },
    {
     "data": {
      "text/html": [
       "<style type=\"text/css\">\n",
       "#T_12eba_row9_col1, #T_12eba_row13_col1, #T_12eba_row15_col1, #T_12eba_row17_col1, #T_12eba_row19_col1, #T_12eba_row21_col1 {\n",
       "  background-color: lightgreen;\n",
       "}\n",
       "</style>\n",
       "<table id=\"T_12eba\">\n",
       "  <thead>\n",
       "    <tr>\n",
       "      <th class=\"blank level0\" >&nbsp;</th>\n",
       "      <th id=\"T_12eba_level0_col0\" class=\"col_heading level0 col0\" >Description</th>\n",
       "      <th id=\"T_12eba_level0_col1\" class=\"col_heading level0 col1\" >Value</th>\n",
       "    </tr>\n",
       "  </thead>\n",
       "  <tbody>\n",
       "    <tr>\n",
       "      <th id=\"T_12eba_level0_row0\" class=\"row_heading level0 row0\" >0</th>\n",
       "      <td id=\"T_12eba_row0_col0\" class=\"data row0 col0\" >Session id</td>\n",
       "      <td id=\"T_12eba_row0_col1\" class=\"data row0 col1\" >2444</td>\n",
       "    </tr>\n",
       "    <tr>\n",
       "      <th id=\"T_12eba_level0_row1\" class=\"row_heading level0 row1\" >1</th>\n",
       "      <td id=\"T_12eba_row1_col0\" class=\"data row1 col0\" >Target</td>\n",
       "      <td id=\"T_12eba_row1_col1\" class=\"data row1 col1\" >target</td>\n",
       "    </tr>\n",
       "    <tr>\n",
       "      <th id=\"T_12eba_level0_row2\" class=\"row_heading level0 row2\" >2</th>\n",
       "      <td id=\"T_12eba_row2_col0\" class=\"data row2 col0\" >Target type</td>\n",
       "      <td id=\"T_12eba_row2_col1\" class=\"data row2 col1\" >Binary</td>\n",
       "    </tr>\n",
       "    <tr>\n",
       "      <th id=\"T_12eba_level0_row3\" class=\"row_heading level0 row3\" >3</th>\n",
       "      <td id=\"T_12eba_row3_col0\" class=\"data row3 col0\" >Target mapping</td>\n",
       "      <td id=\"T_12eba_row3_col1\" class=\"data row3 col1\" >NO_EXERCISE: 0, SIT_UP: 1</td>\n",
       "    </tr>\n",
       "    <tr>\n",
       "      <th id=\"T_12eba_level0_row4\" class=\"row_heading level0 row4\" >4</th>\n",
       "      <td id=\"T_12eba_row4_col0\" class=\"data row4 col0\" >Original data shape</td>\n",
       "      <td id=\"T_12eba_row4_col1\" class=\"data row4 col1\" >(505, 100)</td>\n",
       "    </tr>\n",
       "    <tr>\n",
       "      <th id=\"T_12eba_level0_row5\" class=\"row_heading level0 row5\" >5</th>\n",
       "      <td id=\"T_12eba_row5_col0\" class=\"data row5 col0\" >Transformed data shape</td>\n",
       "      <td id=\"T_12eba_row5_col1\" class=\"data row5 col1\" >(767, 11)</td>\n",
       "    </tr>\n",
       "    <tr>\n",
       "      <th id=\"T_12eba_level0_row6\" class=\"row_heading level0 row6\" >6</th>\n",
       "      <td id=\"T_12eba_row6_col0\" class=\"data row6 col0\" >Transformed train set shape</td>\n",
       "      <td id=\"T_12eba_row6_col1\" class=\"data row6 col1\" >(666, 11)</td>\n",
       "    </tr>\n",
       "    <tr>\n",
       "      <th id=\"T_12eba_level0_row7\" class=\"row_heading level0 row7\" >7</th>\n",
       "      <td id=\"T_12eba_row7_col0\" class=\"data row7 col0\" >Transformed test set shape</td>\n",
       "      <td id=\"T_12eba_row7_col1\" class=\"data row7 col1\" >(101, 11)</td>\n",
       "    </tr>\n",
       "    <tr>\n",
       "      <th id=\"T_12eba_level0_row8\" class=\"row_heading level0 row8\" >8</th>\n",
       "      <td id=\"T_12eba_row8_col0\" class=\"data row8 col0\" >Numeric features</td>\n",
       "      <td id=\"T_12eba_row8_col1\" class=\"data row8 col1\" >99</td>\n",
       "    </tr>\n",
       "    <tr>\n",
       "      <th id=\"T_12eba_level0_row9\" class=\"row_heading level0 row9\" >9</th>\n",
       "      <td id=\"T_12eba_row9_col0\" class=\"data row9 col0\" >Preprocess</td>\n",
       "      <td id=\"T_12eba_row9_col1\" class=\"data row9 col1\" >True</td>\n",
       "    </tr>\n",
       "    <tr>\n",
       "      <th id=\"T_12eba_level0_row10\" class=\"row_heading level0 row10\" >10</th>\n",
       "      <td id=\"T_12eba_row10_col0\" class=\"data row10 col0\" >Imputation type</td>\n",
       "      <td id=\"T_12eba_row10_col1\" class=\"data row10 col1\" >simple</td>\n",
       "    </tr>\n",
       "    <tr>\n",
       "      <th id=\"T_12eba_level0_row11\" class=\"row_heading level0 row11\" >11</th>\n",
       "      <td id=\"T_12eba_row11_col0\" class=\"data row11 col0\" >Numeric imputation</td>\n",
       "      <td id=\"T_12eba_row11_col1\" class=\"data row11 col1\" >mean</td>\n",
       "    </tr>\n",
       "    <tr>\n",
       "      <th id=\"T_12eba_level0_row12\" class=\"row_heading level0 row12\" >12</th>\n",
       "      <td id=\"T_12eba_row12_col0\" class=\"data row12 col0\" >Categorical imputation</td>\n",
       "      <td id=\"T_12eba_row12_col1\" class=\"data row12 col1\" >mode</td>\n",
       "    </tr>\n",
       "    <tr>\n",
       "      <th id=\"T_12eba_level0_row13\" class=\"row_heading level0 row13\" >13</th>\n",
       "      <td id=\"T_12eba_row13_col0\" class=\"data row13 col0\" >Remove multicollinearity</td>\n",
       "      <td id=\"T_12eba_row13_col1\" class=\"data row13 col1\" >True</td>\n",
       "    </tr>\n",
       "    <tr>\n",
       "      <th id=\"T_12eba_level0_row14\" class=\"row_heading level0 row14\" >14</th>\n",
       "      <td id=\"T_12eba_row14_col0\" class=\"data row14 col0\" >Multicollinearity threshold</td>\n",
       "      <td id=\"T_12eba_row14_col1\" class=\"data row14 col1\" >0.900000</td>\n",
       "    </tr>\n",
       "    <tr>\n",
       "      <th id=\"T_12eba_level0_row15\" class=\"row_heading level0 row15\" >15</th>\n",
       "      <td id=\"T_12eba_row15_col0\" class=\"data row15 col0\" >Remove outliers</td>\n",
       "      <td id=\"T_12eba_row15_col1\" class=\"data row15 col1\" >True</td>\n",
       "    </tr>\n",
       "    <tr>\n",
       "      <th id=\"T_12eba_level0_row16\" class=\"row_heading level0 row16\" >16</th>\n",
       "      <td id=\"T_12eba_row16_col0\" class=\"data row16 col0\" >Outliers threshold</td>\n",
       "      <td id=\"T_12eba_row16_col1\" class=\"data row16 col1\" >0.030000</td>\n",
       "    </tr>\n",
       "    <tr>\n",
       "      <th id=\"T_12eba_level0_row17\" class=\"row_heading level0 row17\" >17</th>\n",
       "      <td id=\"T_12eba_row17_col0\" class=\"data row17 col0\" >Fix imbalance</td>\n",
       "      <td id=\"T_12eba_row17_col1\" class=\"data row17 col1\" >True</td>\n",
       "    </tr>\n",
       "    <tr>\n",
       "      <th id=\"T_12eba_level0_row18\" class=\"row_heading level0 row18\" >18</th>\n",
       "      <td id=\"T_12eba_row18_col0\" class=\"data row18 col0\" >Fix imbalance method</td>\n",
       "      <td id=\"T_12eba_row18_col1\" class=\"data row18 col1\" >SMOTE</td>\n",
       "    </tr>\n",
       "    <tr>\n",
       "      <th id=\"T_12eba_level0_row19\" class=\"row_heading level0 row19\" >19</th>\n",
       "      <td id=\"T_12eba_row19_col0\" class=\"data row19 col0\" >Normalize</td>\n",
       "      <td id=\"T_12eba_row19_col1\" class=\"data row19 col1\" >True</td>\n",
       "    </tr>\n",
       "    <tr>\n",
       "      <th id=\"T_12eba_level0_row20\" class=\"row_heading level0 row20\" >20</th>\n",
       "      <td id=\"T_12eba_row20_col0\" class=\"data row20 col0\" >Normalize method</td>\n",
       "      <td id=\"T_12eba_row20_col1\" class=\"data row20 col1\" >robust</td>\n",
       "    </tr>\n",
       "    <tr>\n",
       "      <th id=\"T_12eba_level0_row21\" class=\"row_heading level0 row21\" >21</th>\n",
       "      <td id=\"T_12eba_row21_col0\" class=\"data row21 col0\" >Feature selection</td>\n",
       "      <td id=\"T_12eba_row21_col1\" class=\"data row21 col1\" >True</td>\n",
       "    </tr>\n",
       "    <tr>\n",
       "      <th id=\"T_12eba_level0_row22\" class=\"row_heading level0 row22\" >22</th>\n",
       "      <td id=\"T_12eba_row22_col0\" class=\"data row22 col0\" >Feature selection method</td>\n",
       "      <td id=\"T_12eba_row22_col1\" class=\"data row22 col1\" >classic</td>\n",
       "    </tr>\n",
       "    <tr>\n",
       "      <th id=\"T_12eba_level0_row23\" class=\"row_heading level0 row23\" >23</th>\n",
       "      <td id=\"T_12eba_row23_col0\" class=\"data row23 col0\" >Feature selection estimator</td>\n",
       "      <td id=\"T_12eba_row23_col1\" class=\"data row23 col1\" >lightgbm</td>\n",
       "    </tr>\n",
       "    <tr>\n",
       "      <th id=\"T_12eba_level0_row24\" class=\"row_heading level0 row24\" >24</th>\n",
       "      <td id=\"T_12eba_row24_col0\" class=\"data row24 col0\" >Number of features selected</td>\n",
       "      <td id=\"T_12eba_row24_col1\" class=\"data row24 col1\" >10</td>\n",
       "    </tr>\n",
       "    <tr>\n",
       "      <th id=\"T_12eba_level0_row25\" class=\"row_heading level0 row25\" >25</th>\n",
       "      <td id=\"T_12eba_row25_col0\" class=\"data row25 col0\" >Fold Generator</td>\n",
       "      <td id=\"T_12eba_row25_col1\" class=\"data row25 col1\" >StratifiedKFold</td>\n",
       "    </tr>\n",
       "    <tr>\n",
       "      <th id=\"T_12eba_level0_row26\" class=\"row_heading level0 row26\" >26</th>\n",
       "      <td id=\"T_12eba_row26_col0\" class=\"data row26 col0\" >Fold Number</td>\n",
       "      <td id=\"T_12eba_row26_col1\" class=\"data row26 col1\" >10</td>\n",
       "    </tr>\n",
       "    <tr>\n",
       "      <th id=\"T_12eba_level0_row27\" class=\"row_heading level0 row27\" >27</th>\n",
       "      <td id=\"T_12eba_row27_col0\" class=\"data row27 col0\" >CPU Jobs</td>\n",
       "      <td id=\"T_12eba_row27_col1\" class=\"data row27 col1\" >-1</td>\n",
       "    </tr>\n",
       "    <tr>\n",
       "      <th id=\"T_12eba_level0_row28\" class=\"row_heading level0 row28\" >28</th>\n",
       "      <td id=\"T_12eba_row28_col0\" class=\"data row28 col0\" >Use GPU</td>\n",
       "      <td id=\"T_12eba_row28_col1\" class=\"data row28 col1\" >False</td>\n",
       "    </tr>\n",
       "    <tr>\n",
       "      <th id=\"T_12eba_level0_row29\" class=\"row_heading level0 row29\" >29</th>\n",
       "      <td id=\"T_12eba_row29_col0\" class=\"data row29 col0\" >Log Experiment</td>\n",
       "      <td id=\"T_12eba_row29_col1\" class=\"data row29 col1\" >False</td>\n",
       "    </tr>\n",
       "    <tr>\n",
       "      <th id=\"T_12eba_level0_row30\" class=\"row_heading level0 row30\" >30</th>\n",
       "      <td id=\"T_12eba_row30_col0\" class=\"data row30 col0\" >Experiment Name</td>\n",
       "      <td id=\"T_12eba_row30_col1\" class=\"data row30 col1\" >clf-default-name</td>\n",
       "    </tr>\n",
       "    <tr>\n",
       "      <th id=\"T_12eba_level0_row31\" class=\"row_heading level0 row31\" >31</th>\n",
       "      <td id=\"T_12eba_row31_col0\" class=\"data row31 col0\" >USI</td>\n",
       "      <td id=\"T_12eba_row31_col1\" class=\"data row31 col1\" >b3bf</td>\n",
       "    </tr>\n",
       "  </tbody>\n",
       "</table>\n"
      ],
      "text/plain": [
       "<pandas.io.formats.style.Styler at 0x20f065978b0>"
      ]
     },
     "metadata": {},
     "output_type": "display_data"
    }
   ],
   "source": [
    "model = setup(\n",
    "    # Basic options\n",
    "    data = data_dev,\n",
    "    target = \"target\",\n",
    "    train_size = 0.8, \n",
    "    preprocess = True,\n",
    "    \n",
    "    # Dealing with multicollinearity\n",
    "    remove_multicollinearity = True,\n",
    "    multicollinearity_threshold = 0.9,\n",
    "        \n",
    "    # Feature normalization with outliers\n",
    "    normalize = True,\n",
    "    normalize_method = 'robust',\n",
    "        \n",
    "    # Paralellization options\n",
    "    n_jobs = - 1,\n",
    "    use_gpu = False,\n",
    "    \n",
    "    # Imbalance Dataset\n",
    "    fix_imbalance=True,\n",
    "\n",
    "    remove_outliers= True, \n",
    "    outliers_threshold= 0.03,\n",
    "    \n",
    "    # Feature Importance\n",
    "    feature_selection = True,\n",
    "    n_features_to_select= 10\n",
    ")"
   ]
  },
  {
   "cell_type": "code",
   "execution_count": 8,
   "id": "fbe7b85c-23b5-47da-a9f1-602c04f58dd3",
   "metadata": {},
   "outputs": [
    {
     "data": {
      "text/html": [],
      "text/plain": [
       "<IPython.core.display.HTML object>"
      ]
     },
     "metadata": {},
     "output_type": "display_data"
    },
    {
     "data": {
      "text/html": [
       "<style type=\"text/css\">\n",
       "#T_a28ab th {\n",
       "  text-align: left;\n",
       "}\n",
       "#T_a28ab_row0_col0, #T_a28ab_row0_col2, #T_a28ab_row1_col0, #T_a28ab_row1_col1, #T_a28ab_row1_col2, #T_a28ab_row1_col3, #T_a28ab_row1_col4, #T_a28ab_row1_col5, #T_a28ab_row1_col6, #T_a28ab_row1_col7, #T_a28ab_row2_col0, #T_a28ab_row2_col1, #T_a28ab_row2_col3, #T_a28ab_row2_col4, #T_a28ab_row2_col5, #T_a28ab_row2_col6, #T_a28ab_row2_col7, #T_a28ab_row3_col0, #T_a28ab_row3_col1, #T_a28ab_row3_col2, #T_a28ab_row3_col3, #T_a28ab_row3_col4, #T_a28ab_row3_col5, #T_a28ab_row3_col6, #T_a28ab_row3_col7, #T_a28ab_row4_col0, #T_a28ab_row4_col1, #T_a28ab_row4_col2, #T_a28ab_row4_col3, #T_a28ab_row4_col4, #T_a28ab_row4_col5, #T_a28ab_row4_col6, #T_a28ab_row4_col7, #T_a28ab_row5_col0, #T_a28ab_row5_col1, #T_a28ab_row5_col2, #T_a28ab_row5_col3, #T_a28ab_row5_col4, #T_a28ab_row5_col5, #T_a28ab_row5_col6, #T_a28ab_row5_col7, #T_a28ab_row6_col0, #T_a28ab_row6_col1, #T_a28ab_row6_col2, #T_a28ab_row6_col3, #T_a28ab_row6_col4, #T_a28ab_row6_col5, #T_a28ab_row6_col6, #T_a28ab_row6_col7, #T_a28ab_row7_col0, #T_a28ab_row7_col1, #T_a28ab_row7_col2, #T_a28ab_row7_col3, #T_a28ab_row7_col4, #T_a28ab_row7_col5, #T_a28ab_row7_col6, #T_a28ab_row7_col7, #T_a28ab_row8_col0, #T_a28ab_row8_col1, #T_a28ab_row8_col2, #T_a28ab_row8_col3, #T_a28ab_row8_col4, #T_a28ab_row8_col5, #T_a28ab_row8_col6, #T_a28ab_row8_col7, #T_a28ab_row9_col0, #T_a28ab_row9_col1, #T_a28ab_row9_col2, #T_a28ab_row9_col3, #T_a28ab_row9_col4, #T_a28ab_row9_col5, #T_a28ab_row9_col6, #T_a28ab_row9_col7, #T_a28ab_row10_col0, #T_a28ab_row10_col1, #T_a28ab_row10_col2, #T_a28ab_row10_col3, #T_a28ab_row10_col4, #T_a28ab_row10_col5, #T_a28ab_row10_col6, #T_a28ab_row10_col7, #T_a28ab_row11_col0, #T_a28ab_row11_col1, #T_a28ab_row11_col2, #T_a28ab_row11_col3, #T_a28ab_row11_col4, #T_a28ab_row11_col5, #T_a28ab_row11_col6, #T_a28ab_row11_col7, #T_a28ab_row12_col0, #T_a28ab_row12_col1, #T_a28ab_row12_col2, #T_a28ab_row12_col3, #T_a28ab_row12_col4, #T_a28ab_row12_col5, #T_a28ab_row12_col6, #T_a28ab_row12_col7, #T_a28ab_row13_col0, #T_a28ab_row13_col1, #T_a28ab_row13_col2, #T_a28ab_row13_col3, #T_a28ab_row13_col4, #T_a28ab_row13_col5, #T_a28ab_row13_col6, #T_a28ab_row13_col7, #T_a28ab_row14_col0, #T_a28ab_row14_col1, #T_a28ab_row14_col2, #T_a28ab_row14_col3, #T_a28ab_row14_col4, #T_a28ab_row14_col5, #T_a28ab_row14_col6, #T_a28ab_row14_col7, #T_a28ab_row15_col0, #T_a28ab_row15_col1, #T_a28ab_row15_col2, #T_a28ab_row15_col3, #T_a28ab_row15_col4, #T_a28ab_row15_col5, #T_a28ab_row15_col6, #T_a28ab_row15_col7 {\n",
       "  text-align: left;\n",
       "}\n",
       "#T_a28ab_row0_col1, #T_a28ab_row0_col3, #T_a28ab_row0_col4, #T_a28ab_row0_col5, #T_a28ab_row0_col6, #T_a28ab_row0_col7, #T_a28ab_row2_col2 {\n",
       "  text-align: left;\n",
       "  background-color: yellow;\n",
       "}\n",
       "#T_a28ab_row0_col8, #T_a28ab_row1_col8, #T_a28ab_row2_col8, #T_a28ab_row3_col8, #T_a28ab_row4_col8, #T_a28ab_row5_col8, #T_a28ab_row6_col8, #T_a28ab_row7_col8, #T_a28ab_row8_col8, #T_a28ab_row9_col8, #T_a28ab_row10_col8, #T_a28ab_row11_col8, #T_a28ab_row12_col8, #T_a28ab_row13_col8, #T_a28ab_row14_col8 {\n",
       "  text-align: left;\n",
       "  background-color: lightgrey;\n",
       "}\n",
       "#T_a28ab_row15_col8 {\n",
       "  text-align: left;\n",
       "  background-color: yellow;\n",
       "  background-color: lightgrey;\n",
       "}\n",
       "</style>\n",
       "<table id=\"T_a28ab\">\n",
       "  <thead>\n",
       "    <tr>\n",
       "      <th class=\"blank level0\" >&nbsp;</th>\n",
       "      <th id=\"T_a28ab_level0_col0\" class=\"col_heading level0 col0\" >Model</th>\n",
       "      <th id=\"T_a28ab_level0_col1\" class=\"col_heading level0 col1\" >Accuracy</th>\n",
       "      <th id=\"T_a28ab_level0_col2\" class=\"col_heading level0 col2\" >AUC</th>\n",
       "      <th id=\"T_a28ab_level0_col3\" class=\"col_heading level0 col3\" >Recall</th>\n",
       "      <th id=\"T_a28ab_level0_col4\" class=\"col_heading level0 col4\" >Prec.</th>\n",
       "      <th id=\"T_a28ab_level0_col5\" class=\"col_heading level0 col5\" >F1</th>\n",
       "      <th id=\"T_a28ab_level0_col6\" class=\"col_heading level0 col6\" >Kappa</th>\n",
       "      <th id=\"T_a28ab_level0_col7\" class=\"col_heading level0 col7\" >MCC</th>\n",
       "      <th id=\"T_a28ab_level0_col8\" class=\"col_heading level0 col8\" >TT (Sec)</th>\n",
       "    </tr>\n",
       "  </thead>\n",
       "  <tbody>\n",
       "    <tr>\n",
       "      <th id=\"T_a28ab_level0_row0\" class=\"row_heading level0 row0\" >rf</th>\n",
       "      <td id=\"T_a28ab_row0_col0\" class=\"data row0 col0\" >Random Forest Classifier</td>\n",
       "      <td id=\"T_a28ab_row0_col1\" class=\"data row0 col1\" >0.9926</td>\n",
       "      <td id=\"T_a28ab_row0_col2\" class=\"data row0 col2\" >0.9989</td>\n",
       "      <td id=\"T_a28ab_row0_col3\" class=\"data row0 col3\" >0.9926</td>\n",
       "      <td id=\"T_a28ab_row0_col4\" class=\"data row0 col4\" >0.9927</td>\n",
       "      <td id=\"T_a28ab_row0_col5\" class=\"data row0 col5\" >0.9926</td>\n",
       "      <td id=\"T_a28ab_row0_col6\" class=\"data row0 col6\" >0.9702</td>\n",
       "      <td id=\"T_a28ab_row0_col7\" class=\"data row0 col7\" >0.9703</td>\n",
       "      <td id=\"T_a28ab_row0_col8\" class=\"data row0 col8\" >3.0150</td>\n",
       "    </tr>\n",
       "    <tr>\n",
       "      <th id=\"T_a28ab_level0_row1\" class=\"row_heading level0 row1\" >et</th>\n",
       "      <td id=\"T_a28ab_row1_col0\" class=\"data row1 col0\" >Extra Trees Classifier</td>\n",
       "      <td id=\"T_a28ab_row1_col1\" class=\"data row1 col1\" >0.9901</td>\n",
       "      <td id=\"T_a28ab_row1_col2\" class=\"data row1 col2\" >0.9990</td>\n",
       "      <td id=\"T_a28ab_row1_col3\" class=\"data row1 col3\" >0.9901</td>\n",
       "      <td id=\"T_a28ab_row1_col4\" class=\"data row1 col4\" >0.9904</td>\n",
       "      <td id=\"T_a28ab_row1_col5\" class=\"data row1 col5\" >0.9902</td>\n",
       "      <td id=\"T_a28ab_row1_col6\" class=\"data row1 col6\" >0.9603</td>\n",
       "      <td id=\"T_a28ab_row1_col7\" class=\"data row1 col7\" >0.9607</td>\n",
       "      <td id=\"T_a28ab_row1_col8\" class=\"data row1 col8\" >0.5050</td>\n",
       "    </tr>\n",
       "    <tr>\n",
       "      <th id=\"T_a28ab_level0_row2\" class=\"row_heading level0 row2\" >catboost</th>\n",
       "      <td id=\"T_a28ab_row2_col0\" class=\"data row2 col0\" >CatBoost Classifier</td>\n",
       "      <td id=\"T_a28ab_row2_col1\" class=\"data row2 col1\" >0.9876</td>\n",
       "      <td id=\"T_a28ab_row2_col2\" class=\"data row2 col2\" >0.9993</td>\n",
       "      <td id=\"T_a28ab_row2_col3\" class=\"data row2 col3\" >0.9876</td>\n",
       "      <td id=\"T_a28ab_row2_col4\" class=\"data row2 col4\" >0.9881</td>\n",
       "      <td id=\"T_a28ab_row2_col5\" class=\"data row2 col5\" >0.9877</td>\n",
       "      <td id=\"T_a28ab_row2_col6\" class=\"data row2 col6\" >0.9507</td>\n",
       "      <td id=\"T_a28ab_row2_col7\" class=\"data row2 col7\" >0.9511</td>\n",
       "      <td id=\"T_a28ab_row2_col8\" class=\"data row2 col8\" >2.5900</td>\n",
       "    </tr>\n",
       "    <tr>\n",
       "      <th id=\"T_a28ab_level0_row3\" class=\"row_heading level0 row3\" >nb</th>\n",
       "      <td id=\"T_a28ab_row3_col0\" class=\"data row3 col0\" >Naive Bayes</td>\n",
       "      <td id=\"T_a28ab_row3_col1\" class=\"data row3 col1\" >0.9827</td>\n",
       "      <td id=\"T_a28ab_row3_col2\" class=\"data row3 col2\" >0.9981</td>\n",
       "      <td id=\"T_a28ab_row3_col3\" class=\"data row3 col3\" >0.9827</td>\n",
       "      <td id=\"T_a28ab_row3_col4\" class=\"data row3 col4\" >0.9860</td>\n",
       "      <td id=\"T_a28ab_row3_col5\" class=\"data row3 col5\" >0.9834</td>\n",
       "      <td id=\"T_a28ab_row3_col6\" class=\"data row3 col6\" >0.9360</td>\n",
       "      <td id=\"T_a28ab_row3_col7\" class=\"data row3 col7\" >0.9396</td>\n",
       "      <td id=\"T_a28ab_row3_col8\" class=\"data row3 col8\" >2.7150</td>\n",
       "    </tr>\n",
       "    <tr>\n",
       "      <th id=\"T_a28ab_level0_row4\" class=\"row_heading level0 row4\" >qda</th>\n",
       "      <td id=\"T_a28ab_row4_col0\" class=\"data row4 col0\" >Quadratic Discriminant Analysis</td>\n",
       "      <td id=\"T_a28ab_row4_col1\" class=\"data row4 col1\" >0.9827</td>\n",
       "      <td id=\"T_a28ab_row4_col2\" class=\"data row4 col2\" >0.9985</td>\n",
       "      <td id=\"T_a28ab_row4_col3\" class=\"data row4 col3\" >0.9827</td>\n",
       "      <td id=\"T_a28ab_row4_col4\" class=\"data row4 col4\" >0.9828</td>\n",
       "      <td id=\"T_a28ab_row4_col5\" class=\"data row4 col5\" >0.9823</td>\n",
       "      <td id=\"T_a28ab_row4_col6\" class=\"data row4 col6\" >0.9266</td>\n",
       "      <td id=\"T_a28ab_row4_col7\" class=\"data row4 col7\" >0.9284</td>\n",
       "      <td id=\"T_a28ab_row4_col8\" class=\"data row4 col8\" >2.6350</td>\n",
       "    </tr>\n",
       "    <tr>\n",
       "      <th id=\"T_a28ab_level0_row5\" class=\"row_heading level0 row5\" >xgboost</th>\n",
       "      <td id=\"T_a28ab_row5_col0\" class=\"data row5 col0\" >Extreme Gradient Boosting</td>\n",
       "      <td id=\"T_a28ab_row5_col1\" class=\"data row5 col1\" >0.9802</td>\n",
       "      <td id=\"T_a28ab_row5_col2\" class=\"data row5 col2\" >0.9969</td>\n",
       "      <td id=\"T_a28ab_row5_col3\" class=\"data row5 col3\" >0.9802</td>\n",
       "      <td id=\"T_a28ab_row5_col4\" class=\"data row5 col4\" >0.9824</td>\n",
       "      <td id=\"T_a28ab_row5_col5\" class=\"data row5 col5\" >0.9808</td>\n",
       "      <td id=\"T_a28ab_row5_col6\" class=\"data row5 col6\" >0.9243</td>\n",
       "      <td id=\"T_a28ab_row5_col7\" class=\"data row5 col7\" >0.9264</td>\n",
       "      <td id=\"T_a28ab_row5_col8\" class=\"data row5 col8\" >0.3450</td>\n",
       "    </tr>\n",
       "    <tr>\n",
       "      <th id=\"T_a28ab_level0_row6\" class=\"row_heading level0 row6\" >ada</th>\n",
       "      <td id=\"T_a28ab_row6_col0\" class=\"data row6 col0\" >Ada Boost Classifier</td>\n",
       "      <td id=\"T_a28ab_row6_col1\" class=\"data row6 col1\" >0.9802</td>\n",
       "      <td id=\"T_a28ab_row6_col2\" class=\"data row6 col2\" >0.9968</td>\n",
       "      <td id=\"T_a28ab_row6_col3\" class=\"data row6 col3\" >0.9802</td>\n",
       "      <td id=\"T_a28ab_row6_col4\" class=\"data row6 col4\" >0.9799</td>\n",
       "      <td id=\"T_a28ab_row6_col5\" class=\"data row6 col5\" >0.9800</td>\n",
       "      <td id=\"T_a28ab_row6_col6\" class=\"data row6 col6\" >0.9177</td>\n",
       "      <td id=\"T_a28ab_row6_col7\" class=\"data row6 col7\" >0.9181</td>\n",
       "      <td id=\"T_a28ab_row6_col8\" class=\"data row6 col8\" >0.3450</td>\n",
       "    </tr>\n",
       "    <tr>\n",
       "      <th id=\"T_a28ab_level0_row7\" class=\"row_heading level0 row7\" >lr</th>\n",
       "      <td id=\"T_a28ab_row7_col0\" class=\"data row7 col0\" >Logistic Regression</td>\n",
       "      <td id=\"T_a28ab_row7_col1\" class=\"data row7 col1\" >0.9777</td>\n",
       "      <td id=\"T_a28ab_row7_col2\" class=\"data row7 col2\" >0.9982</td>\n",
       "      <td id=\"T_a28ab_row7_col3\" class=\"data row7 col3\" >0.9777</td>\n",
       "      <td id=\"T_a28ab_row7_col4\" class=\"data row7 col4\" >0.9799</td>\n",
       "      <td id=\"T_a28ab_row7_col5\" class=\"data row7 col5\" >0.9783</td>\n",
       "      <td id=\"T_a28ab_row7_col6\" class=\"data row7 col6\" >0.9139</td>\n",
       "      <td id=\"T_a28ab_row7_col7\" class=\"data row7 col7\" >0.9160</td>\n",
       "      <td id=\"T_a28ab_row7_col8\" class=\"data row7 col8\" >3.1050</td>\n",
       "    </tr>\n",
       "    <tr>\n",
       "      <th id=\"T_a28ab_level0_row8\" class=\"row_heading level0 row8\" >knn</th>\n",
       "      <td id=\"T_a28ab_row8_col0\" class=\"data row8 col0\" >K Neighbors Classifier</td>\n",
       "      <td id=\"T_a28ab_row8_col1\" class=\"data row8 col1\" >0.9752</td>\n",
       "      <td id=\"T_a28ab_row8_col2\" class=\"data row8 col2\" >0.9836</td>\n",
       "      <td id=\"T_a28ab_row8_col3\" class=\"data row8 col3\" >0.9752</td>\n",
       "      <td id=\"T_a28ab_row8_col4\" class=\"data row8 col4\" >0.9780</td>\n",
       "      <td id=\"T_a28ab_row8_col5\" class=\"data row8 col5\" >0.9759</td>\n",
       "      <td id=\"T_a28ab_row8_col6\" class=\"data row8 col6\" >0.9048</td>\n",
       "      <td id=\"T_a28ab_row8_col7\" class=\"data row8 col7\" >0.9076</td>\n",
       "      <td id=\"T_a28ab_row8_col8\" class=\"data row8 col8\" >2.6200</td>\n",
       "    </tr>\n",
       "    <tr>\n",
       "      <th id=\"T_a28ab_level0_row9\" class=\"row_heading level0 row9\" >lightgbm</th>\n",
       "      <td id=\"T_a28ab_row9_col0\" class=\"data row9 col0\" >Light Gradient Boosting Machine</td>\n",
       "      <td id=\"T_a28ab_row9_col1\" class=\"data row9 col1\" >0.9752</td>\n",
       "      <td id=\"T_a28ab_row9_col2\" class=\"data row9 col2\" >0.9976</td>\n",
       "      <td id=\"T_a28ab_row9_col3\" class=\"data row9 col3\" >0.9752</td>\n",
       "      <td id=\"T_a28ab_row9_col4\" class=\"data row9 col4\" >0.9763</td>\n",
       "      <td id=\"T_a28ab_row9_col5\" class=\"data row9 col5\" >0.9756</td>\n",
       "      <td id=\"T_a28ab_row9_col6\" class=\"data row9 col6\" >0.9022</td>\n",
       "      <td id=\"T_a28ab_row9_col7\" class=\"data row9 col7\" >0.9028</td>\n",
       "      <td id=\"T_a28ab_row9_col8\" class=\"data row9 col8\" >0.4800</td>\n",
       "    </tr>\n",
       "    <tr>\n",
       "      <th id=\"T_a28ab_level0_row10\" class=\"row_heading level0 row10\" >svm</th>\n",
       "      <td id=\"T_a28ab_row10_col0\" class=\"data row10 col0\" >SVM - Linear Kernel</td>\n",
       "      <td id=\"T_a28ab_row10_col1\" class=\"data row10 col1\" >0.9678</td>\n",
       "      <td id=\"T_a28ab_row10_col2\" class=\"data row10 col2\" >0.0000</td>\n",
       "      <td id=\"T_a28ab_row10_col3\" class=\"data row10 col3\" >0.9678</td>\n",
       "      <td id=\"T_a28ab_row10_col4\" class=\"data row10 col4\" >0.9683</td>\n",
       "      <td id=\"T_a28ab_row10_col5\" class=\"data row10 col5\" >0.9673</td>\n",
       "      <td id=\"T_a28ab_row10_col6\" class=\"data row10 col6\" >0.8654</td>\n",
       "      <td id=\"T_a28ab_row10_col7\" class=\"data row10 col7\" >0.8682</td>\n",
       "      <td id=\"T_a28ab_row10_col8\" class=\"data row10 col8\" >2.6800</td>\n",
       "    </tr>\n",
       "    <tr>\n",
       "      <th id=\"T_a28ab_level0_row11\" class=\"row_heading level0 row11\" >lda</th>\n",
       "      <td id=\"T_a28ab_row11_col0\" class=\"data row11 col0\" >Linear Discriminant Analysis</td>\n",
       "      <td id=\"T_a28ab_row11_col1\" class=\"data row11 col1\" >0.9579</td>\n",
       "      <td id=\"T_a28ab_row11_col2\" class=\"data row11 col2\" >0.9953</td>\n",
       "      <td id=\"T_a28ab_row11_col3\" class=\"data row11 col3\" >0.9579</td>\n",
       "      <td id=\"T_a28ab_row11_col4\" class=\"data row11 col4\" >0.9666</td>\n",
       "      <td id=\"T_a28ab_row11_col5\" class=\"data row11 col5\" >0.9601</td>\n",
       "      <td id=\"T_a28ab_row11_col6\" class=\"data row11 col6\" >0.8474</td>\n",
       "      <td id=\"T_a28ab_row11_col7\" class=\"data row11 col7\" >0.8557</td>\n",
       "      <td id=\"T_a28ab_row11_col8\" class=\"data row11 col8\" >0.2850</td>\n",
       "    </tr>\n",
       "    <tr>\n",
       "      <th id=\"T_a28ab_level0_row12\" class=\"row_heading level0 row12\" >ridge</th>\n",
       "      <td id=\"T_a28ab_row12_col0\" class=\"data row12 col0\" >Ridge Classifier</td>\n",
       "      <td id=\"T_a28ab_row12_col1\" class=\"data row12 col1\" >0.9554</td>\n",
       "      <td id=\"T_a28ab_row12_col2\" class=\"data row12 col2\" >0.0000</td>\n",
       "      <td id=\"T_a28ab_row12_col3\" class=\"data row12 col3\" >0.9554</td>\n",
       "      <td id=\"T_a28ab_row12_col4\" class=\"data row12 col4\" >0.9645</td>\n",
       "      <td id=\"T_a28ab_row12_col5\" class=\"data row12 col5\" >0.9577</td>\n",
       "      <td id=\"T_a28ab_row12_col6\" class=\"data row12 col6\" >0.8379</td>\n",
       "      <td id=\"T_a28ab_row12_col7\" class=\"data row12 col7\" >0.8468</td>\n",
       "      <td id=\"T_a28ab_row12_col8\" class=\"data row12 col8\" >2.7750</td>\n",
       "    </tr>\n",
       "    <tr>\n",
       "      <th id=\"T_a28ab_level0_row13\" class=\"row_heading level0 row13\" >dt</th>\n",
       "      <td id=\"T_a28ab_row13_col0\" class=\"data row13 col0\" >Decision Tree Classifier</td>\n",
       "      <td id=\"T_a28ab_row13_col1\" class=\"data row13 col1\" >0.9554</td>\n",
       "      <td id=\"T_a28ab_row13_col2\" class=\"data row13 col2\" >0.9094</td>\n",
       "      <td id=\"T_a28ab_row13_col3\" class=\"data row13 col3\" >0.9554</td>\n",
       "      <td id=\"T_a28ab_row13_col4\" class=\"data row13 col4\" >0.9588</td>\n",
       "      <td id=\"T_a28ab_row13_col5\" class=\"data row13 col5\" >0.9560</td>\n",
       "      <td id=\"T_a28ab_row13_col6\" class=\"data row13 col6\" >0.8237</td>\n",
       "      <td id=\"T_a28ab_row13_col7\" class=\"data row13 col7\" >0.8280</td>\n",
       "      <td id=\"T_a28ab_row13_col8\" class=\"data row13 col8\" >2.7600</td>\n",
       "    </tr>\n",
       "    <tr>\n",
       "      <th id=\"T_a28ab_level0_row14\" class=\"row_heading level0 row14\" >gbc</th>\n",
       "      <td id=\"T_a28ab_row14_col0\" class=\"data row14 col0\" >Gradient Boosting Classifier</td>\n",
       "      <td id=\"T_a28ab_row14_col1\" class=\"data row14 col1\" >0.9554</td>\n",
       "      <td id=\"T_a28ab_row14_col2\" class=\"data row14 col2\" >0.9682</td>\n",
       "      <td id=\"T_a28ab_row14_col3\" class=\"data row14 col3\" >0.9554</td>\n",
       "      <td id=\"T_a28ab_row14_col4\" class=\"data row14 col4\" >0.9565</td>\n",
       "      <td id=\"T_a28ab_row14_col5\" class=\"data row14 col5\" >0.9559</td>\n",
       "      <td id=\"T_a28ab_row14_col6\" class=\"data row14 col6\" >0.8227</td>\n",
       "      <td id=\"T_a28ab_row14_col7\" class=\"data row14 col7\" >0.8230</td>\n",
       "      <td id=\"T_a28ab_row14_col8\" class=\"data row14 col8\" >0.4100</td>\n",
       "    </tr>\n",
       "    <tr>\n",
       "      <th id=\"T_a28ab_level0_row15\" class=\"row_heading level0 row15\" >dummy</th>\n",
       "      <td id=\"T_a28ab_row15_col0\" class=\"data row15 col0\" >Dummy Classifier</td>\n",
       "      <td id=\"T_a28ab_row15_col1\" class=\"data row15 col1\" >0.8564</td>\n",
       "      <td id=\"T_a28ab_row15_col2\" class=\"data row15 col2\" >0.5000</td>\n",
       "      <td id=\"T_a28ab_row15_col3\" class=\"data row15 col3\" >0.8564</td>\n",
       "      <td id=\"T_a28ab_row15_col4\" class=\"data row15 col4\" >0.7335</td>\n",
       "      <td id=\"T_a28ab_row15_col5\" class=\"data row15 col5\" >0.7902</td>\n",
       "      <td id=\"T_a28ab_row15_col6\" class=\"data row15 col6\" >0.0000</td>\n",
       "      <td id=\"T_a28ab_row15_col7\" class=\"data row15 col7\" >0.0000</td>\n",
       "      <td id=\"T_a28ab_row15_col8\" class=\"data row15 col8\" >0.2750</td>\n",
       "    </tr>\n",
       "  </tbody>\n",
       "</table>\n"
      ],
      "text/plain": [
       "<pandas.io.formats.style.Styler at 0x20f067b4250>"
      ]
     },
     "metadata": {},
     "output_type": "display_data"
    },
    {
     "data": {
      "text/html": [],
      "text/plain": [
       "<IPython.core.display.HTML object>"
      ]
     },
     "metadata": {},
     "output_type": "display_data"
    },
    {
     "data": {
      "text/html": [
       "<style>#sk-container-id-1 {color: black;background-color: white;}#sk-container-id-1 pre{padding: 0;}#sk-container-id-1 div.sk-toggleable {background-color: white;}#sk-container-id-1 label.sk-toggleable__label {cursor: pointer;display: block;width: 100%;margin-bottom: 0;padding: 0.3em;box-sizing: border-box;text-align: center;}#sk-container-id-1 label.sk-toggleable__label-arrow:before {content: \"▸\";float: left;margin-right: 0.25em;color: #696969;}#sk-container-id-1 label.sk-toggleable__label-arrow:hover:before {color: black;}#sk-container-id-1 div.sk-estimator:hover label.sk-toggleable__label-arrow:before {color: black;}#sk-container-id-1 div.sk-toggleable__content {max-height: 0;max-width: 0;overflow: hidden;text-align: left;background-color: #f0f8ff;}#sk-container-id-1 div.sk-toggleable__content pre {margin: 0.2em;color: black;border-radius: 0.25em;background-color: #f0f8ff;}#sk-container-id-1 input.sk-toggleable__control:checked~div.sk-toggleable__content {max-height: 200px;max-width: 100%;overflow: auto;}#sk-container-id-1 input.sk-toggleable__control:checked~label.sk-toggleable__label-arrow:before {content: \"▾\";}#sk-container-id-1 div.sk-estimator input.sk-toggleable__control:checked~label.sk-toggleable__label {background-color: #d4ebff;}#sk-container-id-1 div.sk-label input.sk-toggleable__control:checked~label.sk-toggleable__label {background-color: #d4ebff;}#sk-container-id-1 input.sk-hidden--visually {border: 0;clip: rect(1px 1px 1px 1px);clip: rect(1px, 1px, 1px, 1px);height: 1px;margin: -1px;overflow: hidden;padding: 0;position: absolute;width: 1px;}#sk-container-id-1 div.sk-estimator {font-family: monospace;background-color: #f0f8ff;border: 1px dotted black;border-radius: 0.25em;box-sizing: border-box;margin-bottom: 0.5em;}#sk-container-id-1 div.sk-estimator:hover {background-color: #d4ebff;}#sk-container-id-1 div.sk-parallel-item::after {content: \"\";width: 100%;border-bottom: 1px solid gray;flex-grow: 1;}#sk-container-id-1 div.sk-label:hover label.sk-toggleable__label {background-color: #d4ebff;}#sk-container-id-1 div.sk-serial::before {content: \"\";position: absolute;border-left: 1px solid gray;box-sizing: border-box;top: 0;bottom: 0;left: 50%;z-index: 0;}#sk-container-id-1 div.sk-serial {display: flex;flex-direction: column;align-items: center;background-color: white;padding-right: 0.2em;padding-left: 0.2em;position: relative;}#sk-container-id-1 div.sk-item {position: relative;z-index: 1;}#sk-container-id-1 div.sk-parallel {display: flex;align-items: stretch;justify-content: center;background-color: white;position: relative;}#sk-container-id-1 div.sk-item::before, #sk-container-id-1 div.sk-parallel-item::before {content: \"\";position: absolute;border-left: 1px solid gray;box-sizing: border-box;top: 0;bottom: 0;left: 50%;z-index: -1;}#sk-container-id-1 div.sk-parallel-item {display: flex;flex-direction: column;z-index: 1;position: relative;background-color: white;}#sk-container-id-1 div.sk-parallel-item:first-child::after {align-self: flex-end;width: 50%;}#sk-container-id-1 div.sk-parallel-item:last-child::after {align-self: flex-start;width: 50%;}#sk-container-id-1 div.sk-parallel-item:only-child::after {width: 0;}#sk-container-id-1 div.sk-dashed-wrapped {border: 1px dashed gray;margin: 0 0.4em 0.5em 0.4em;box-sizing: border-box;padding-bottom: 0.4em;background-color: white;}#sk-container-id-1 div.sk-label label {font-family: monospace;font-weight: bold;display: inline-block;line-height: 1.2em;}#sk-container-id-1 div.sk-label-container {text-align: center;}#sk-container-id-1 div.sk-container {/* jupyter's `normalize.less` sets `[hidden] { display: none; }` but bootstrap.min.css set `[hidden] { display: none !important; }` so we also need the `!important` here to be able to override the default hidden behavior on the sphinx rendered scikit-learn.org. See: https://github.com/scikit-learn/scikit-learn/issues/21755 */display: inline-block !important;position: relative;}#sk-container-id-1 div.sk-text-repr-fallback {display: none;}</style><div id=\"sk-container-id-1\" class=\"sk-top-container\"><div class=\"sk-text-repr-fallback\"><pre>RandomForestClassifier(bootstrap=True, ccp_alpha=0.0, class_weight=None,\n",
       "                       criterion=&#x27;gini&#x27;, max_depth=None, max_features=&#x27;sqrt&#x27;,\n",
       "                       max_leaf_nodes=None, max_samples=None,\n",
       "                       min_impurity_decrease=0.0, min_samples_leaf=1,\n",
       "                       min_samples_split=2, min_weight_fraction_leaf=0.0,\n",
       "                       n_estimators=100, n_jobs=-1, oob_score=False,\n",
       "                       random_state=2444, verbose=0, warm_start=False)</pre><b>In a Jupyter environment, please rerun this cell to show the HTML representation or trust the notebook. <br />On GitHub, the HTML representation is unable to render, please try loading this page with nbviewer.org.</b></div><div class=\"sk-container\" hidden><div class=\"sk-item\"><div class=\"sk-estimator sk-toggleable\"><input class=\"sk-toggleable__control sk-hidden--visually\" id=\"sk-estimator-id-1\" type=\"checkbox\" checked><label for=\"sk-estimator-id-1\" class=\"sk-toggleable__label sk-toggleable__label-arrow\">RandomForestClassifier</label><div class=\"sk-toggleable__content\"><pre>RandomForestClassifier(bootstrap=True, ccp_alpha=0.0, class_weight=None,\n",
       "                       criterion=&#x27;gini&#x27;, max_depth=None, max_features=&#x27;sqrt&#x27;,\n",
       "                       max_leaf_nodes=None, max_samples=None,\n",
       "                       min_impurity_decrease=0.0, min_samples_leaf=1,\n",
       "                       min_samples_split=2, min_weight_fraction_leaf=0.0,\n",
       "                       n_estimators=100, n_jobs=-1, oob_score=False,\n",
       "                       random_state=2444, verbose=0, warm_start=False)</pre></div></div></div></div></div>"
      ],
      "text/plain": [
       "RandomForestClassifier(bootstrap=True, ccp_alpha=0.0, class_weight=None,\n",
       "                       criterion='gini', max_depth=None, max_features='sqrt',\n",
       "                       max_leaf_nodes=None, max_samples=None,\n",
       "                       min_impurity_decrease=0.0, min_samples_leaf=1,\n",
       "                       min_samples_split=2, min_weight_fraction_leaf=0.0,\n",
       "                       n_estimators=100, n_jobs=-1, oob_score=False,\n",
       "                       random_state=2444, verbose=0, warm_start=False)"
      ]
     },
     "execution_count": 8,
     "metadata": {},
     "output_type": "execute_result"
    }
   ],
   "source": [
    "models = compare_models(sort=\"F1\", fold=2)\n",
    "models"
   ]
  },
  {
   "cell_type": "code",
   "execution_count": 9,
   "id": "e56078a9-1de4-4550-bbd8-79ea228e799c",
   "metadata": {},
   "outputs": [
    {
     "data": {
      "text/html": [
       "<div>\n",
       "<style scoped>\n",
       "    .dataframe tbody tr th:only-of-type {\n",
       "        vertical-align: middle;\n",
       "    }\n",
       "\n",
       "    .dataframe tbody tr th {\n",
       "        vertical-align: top;\n",
       "    }\n",
       "\n",
       "    .dataframe thead th {\n",
       "        text-align: right;\n",
       "    }\n",
       "</style>\n",
       "<table border=\"1\" class=\"dataframe\">\n",
       "  <thead>\n",
       "    <tr style=\"text-align: right;\">\n",
       "      <th></th>\n",
       "      <th>Model</th>\n",
       "      <th>Accuracy</th>\n",
       "      <th>AUC</th>\n",
       "      <th>Recall</th>\n",
       "      <th>Prec.</th>\n",
       "      <th>F1</th>\n",
       "      <th>Kappa</th>\n",
       "      <th>MCC</th>\n",
       "      <th>TT (Sec)</th>\n",
       "    </tr>\n",
       "  </thead>\n",
       "  <tbody>\n",
       "    <tr>\n",
       "      <th>rf</th>\n",
       "      <td>Random Forest Classifier</td>\n",
       "      <td>0.9926</td>\n",
       "      <td>0.9989</td>\n",
       "      <td>0.9926</td>\n",
       "      <td>0.9927</td>\n",
       "      <td>0.9926</td>\n",
       "      <td>0.9702</td>\n",
       "      <td>0.9703</td>\n",
       "      <td>3.015</td>\n",
       "    </tr>\n",
       "    <tr>\n",
       "      <th>et</th>\n",
       "      <td>Extra Trees Classifier</td>\n",
       "      <td>0.9901</td>\n",
       "      <td>0.9990</td>\n",
       "      <td>0.9901</td>\n",
       "      <td>0.9904</td>\n",
       "      <td>0.9902</td>\n",
       "      <td>0.9603</td>\n",
       "      <td>0.9607</td>\n",
       "      <td>0.505</td>\n",
       "    </tr>\n",
       "    <tr>\n",
       "      <th>catboost</th>\n",
       "      <td>CatBoost Classifier</td>\n",
       "      <td>0.9876</td>\n",
       "      <td>0.9993</td>\n",
       "      <td>0.9876</td>\n",
       "      <td>0.9881</td>\n",
       "      <td>0.9877</td>\n",
       "      <td>0.9507</td>\n",
       "      <td>0.9511</td>\n",
       "      <td>2.590</td>\n",
       "    </tr>\n",
       "    <tr>\n",
       "      <th>nb</th>\n",
       "      <td>Naive Bayes</td>\n",
       "      <td>0.9827</td>\n",
       "      <td>0.9981</td>\n",
       "      <td>0.9827</td>\n",
       "      <td>0.9860</td>\n",
       "      <td>0.9834</td>\n",
       "      <td>0.9360</td>\n",
       "      <td>0.9396</td>\n",
       "      <td>2.715</td>\n",
       "    </tr>\n",
       "    <tr>\n",
       "      <th>qda</th>\n",
       "      <td>Quadratic Discriminant Analysis</td>\n",
       "      <td>0.9827</td>\n",
       "      <td>0.9985</td>\n",
       "      <td>0.9827</td>\n",
       "      <td>0.9828</td>\n",
       "      <td>0.9823</td>\n",
       "      <td>0.9266</td>\n",
       "      <td>0.9284</td>\n",
       "      <td>2.635</td>\n",
       "    </tr>\n",
       "    <tr>\n",
       "      <th>xgboost</th>\n",
       "      <td>Extreme Gradient Boosting</td>\n",
       "      <td>0.9802</td>\n",
       "      <td>0.9969</td>\n",
       "      <td>0.9802</td>\n",
       "      <td>0.9824</td>\n",
       "      <td>0.9808</td>\n",
       "      <td>0.9243</td>\n",
       "      <td>0.9264</td>\n",
       "      <td>0.345</td>\n",
       "    </tr>\n",
       "    <tr>\n",
       "      <th>ada</th>\n",
       "      <td>Ada Boost Classifier</td>\n",
       "      <td>0.9802</td>\n",
       "      <td>0.9968</td>\n",
       "      <td>0.9802</td>\n",
       "      <td>0.9799</td>\n",
       "      <td>0.9800</td>\n",
       "      <td>0.9177</td>\n",
       "      <td>0.9181</td>\n",
       "      <td>0.345</td>\n",
       "    </tr>\n",
       "    <tr>\n",
       "      <th>lr</th>\n",
       "      <td>Logistic Regression</td>\n",
       "      <td>0.9777</td>\n",
       "      <td>0.9982</td>\n",
       "      <td>0.9777</td>\n",
       "      <td>0.9799</td>\n",
       "      <td>0.9783</td>\n",
       "      <td>0.9139</td>\n",
       "      <td>0.9160</td>\n",
       "      <td>3.105</td>\n",
       "    </tr>\n",
       "    <tr>\n",
       "      <th>knn</th>\n",
       "      <td>K Neighbors Classifier</td>\n",
       "      <td>0.9752</td>\n",
       "      <td>0.9836</td>\n",
       "      <td>0.9752</td>\n",
       "      <td>0.9780</td>\n",
       "      <td>0.9759</td>\n",
       "      <td>0.9048</td>\n",
       "      <td>0.9076</td>\n",
       "      <td>2.620</td>\n",
       "    </tr>\n",
       "    <tr>\n",
       "      <th>lightgbm</th>\n",
       "      <td>Light Gradient Boosting Machine</td>\n",
       "      <td>0.9752</td>\n",
       "      <td>0.9976</td>\n",
       "      <td>0.9752</td>\n",
       "      <td>0.9763</td>\n",
       "      <td>0.9756</td>\n",
       "      <td>0.9022</td>\n",
       "      <td>0.9028</td>\n",
       "      <td>0.480</td>\n",
       "    </tr>\n",
       "    <tr>\n",
       "      <th>svm</th>\n",
       "      <td>SVM - Linear Kernel</td>\n",
       "      <td>0.9678</td>\n",
       "      <td>0.0000</td>\n",
       "      <td>0.9678</td>\n",
       "      <td>0.9683</td>\n",
       "      <td>0.9673</td>\n",
       "      <td>0.8654</td>\n",
       "      <td>0.8682</td>\n",
       "      <td>2.680</td>\n",
       "    </tr>\n",
       "    <tr>\n",
       "      <th>lda</th>\n",
       "      <td>Linear Discriminant Analysis</td>\n",
       "      <td>0.9579</td>\n",
       "      <td>0.9953</td>\n",
       "      <td>0.9579</td>\n",
       "      <td>0.9666</td>\n",
       "      <td>0.9601</td>\n",
       "      <td>0.8474</td>\n",
       "      <td>0.8557</td>\n",
       "      <td>0.285</td>\n",
       "    </tr>\n",
       "    <tr>\n",
       "      <th>ridge</th>\n",
       "      <td>Ridge Classifier</td>\n",
       "      <td>0.9554</td>\n",
       "      <td>0.0000</td>\n",
       "      <td>0.9554</td>\n",
       "      <td>0.9645</td>\n",
       "      <td>0.9577</td>\n",
       "      <td>0.8379</td>\n",
       "      <td>0.8468</td>\n",
       "      <td>2.775</td>\n",
       "    </tr>\n",
       "    <tr>\n",
       "      <th>dt</th>\n",
       "      <td>Decision Tree Classifier</td>\n",
       "      <td>0.9554</td>\n",
       "      <td>0.9094</td>\n",
       "      <td>0.9554</td>\n",
       "      <td>0.9588</td>\n",
       "      <td>0.9560</td>\n",
       "      <td>0.8237</td>\n",
       "      <td>0.8280</td>\n",
       "      <td>2.760</td>\n",
       "    </tr>\n",
       "    <tr>\n",
       "      <th>gbc</th>\n",
       "      <td>Gradient Boosting Classifier</td>\n",
       "      <td>0.9554</td>\n",
       "      <td>0.9682</td>\n",
       "      <td>0.9554</td>\n",
       "      <td>0.9565</td>\n",
       "      <td>0.9559</td>\n",
       "      <td>0.8227</td>\n",
       "      <td>0.8230</td>\n",
       "      <td>0.410</td>\n",
       "    </tr>\n",
       "    <tr>\n",
       "      <th>dummy</th>\n",
       "      <td>Dummy Classifier</td>\n",
       "      <td>0.8564</td>\n",
       "      <td>0.5000</td>\n",
       "      <td>0.8564</td>\n",
       "      <td>0.7335</td>\n",
       "      <td>0.7902</td>\n",
       "      <td>0.0000</td>\n",
       "      <td>0.0000</td>\n",
       "      <td>0.275</td>\n",
       "    </tr>\n",
       "  </tbody>\n",
       "</table>\n",
       "</div>"
      ],
      "text/plain": [
       "                                    Model  Accuracy     AUC  Recall   Prec.  \\\n",
       "rf               Random Forest Classifier    0.9926  0.9989  0.9926  0.9927   \n",
       "et                 Extra Trees Classifier    0.9901  0.9990  0.9901  0.9904   \n",
       "catboost              CatBoost Classifier    0.9876  0.9993  0.9876  0.9881   \n",
       "nb                            Naive Bayes    0.9827  0.9981  0.9827  0.9860   \n",
       "qda       Quadratic Discriminant Analysis    0.9827  0.9985  0.9827  0.9828   \n",
       "xgboost         Extreme Gradient Boosting    0.9802  0.9969  0.9802  0.9824   \n",
       "ada                  Ada Boost Classifier    0.9802  0.9968  0.9802  0.9799   \n",
       "lr                    Logistic Regression    0.9777  0.9982  0.9777  0.9799   \n",
       "knn                K Neighbors Classifier    0.9752  0.9836  0.9752  0.9780   \n",
       "lightgbm  Light Gradient Boosting Machine    0.9752  0.9976  0.9752  0.9763   \n",
       "svm                   SVM - Linear Kernel    0.9678  0.0000  0.9678  0.9683   \n",
       "lda          Linear Discriminant Analysis    0.9579  0.9953  0.9579  0.9666   \n",
       "ridge                    Ridge Classifier    0.9554  0.0000  0.9554  0.9645   \n",
       "dt               Decision Tree Classifier    0.9554  0.9094  0.9554  0.9588   \n",
       "gbc          Gradient Boosting Classifier    0.9554  0.9682  0.9554  0.9565   \n",
       "dummy                    Dummy Classifier    0.8564  0.5000  0.8564  0.7335   \n",
       "\n",
       "              F1   Kappa     MCC  TT (Sec)  \n",
       "rf        0.9926  0.9702  0.9703     3.015  \n",
       "et        0.9902  0.9603  0.9607     0.505  \n",
       "catboost  0.9877  0.9507  0.9511     2.590  \n",
       "nb        0.9834  0.9360  0.9396     2.715  \n",
       "qda       0.9823  0.9266  0.9284     2.635  \n",
       "xgboost   0.9808  0.9243  0.9264     0.345  \n",
       "ada       0.9800  0.9177  0.9181     0.345  \n",
       "lr        0.9783  0.9139  0.9160     3.105  \n",
       "knn       0.9759  0.9048  0.9076     2.620  \n",
       "lightgbm  0.9756  0.9022  0.9028     0.480  \n",
       "svm       0.9673  0.8654  0.8682     2.680  \n",
       "lda       0.9601  0.8474  0.8557     0.285  \n",
       "ridge     0.9577  0.8379  0.8468     2.775  \n",
       "dt        0.9560  0.8237  0.8280     2.760  \n",
       "gbc       0.9559  0.8227  0.8230     0.410  \n",
       "dummy     0.7902  0.0000  0.0000     0.275  "
      ]
     },
     "execution_count": 9,
     "metadata": {},
     "output_type": "execute_result"
    }
   ],
   "source": [
    "cnt_models_df = pull()\n",
    "cnt_models_df"
   ]
  },
  {
   "cell_type": "code",
   "execution_count": 10,
   "id": "821fe404-8dc2-4afb-b0ad-5f8d4ad009df",
   "metadata": {},
   "outputs": [
    {
     "data": {
      "text/html": [],
      "text/plain": [
       "<IPython.core.display.HTML object>"
      ]
     },
     "metadata": {},
     "output_type": "display_data"
    },
    {
     "data": {
      "text/html": [
       "<style type=\"text/css\">\n",
       "#T_64950_row2_col0, #T_64950_row2_col1, #T_64950_row2_col2, #T_64950_row2_col3, #T_64950_row2_col4, #T_64950_row2_col5, #T_64950_row2_col6 {\n",
       "  background: yellow;\n",
       "}\n",
       "</style>\n",
       "<table id=\"T_64950\">\n",
       "  <thead>\n",
       "    <tr>\n",
       "      <th class=\"blank level0\" >&nbsp;</th>\n",
       "      <th id=\"T_64950_level0_col0\" class=\"col_heading level0 col0\" >Accuracy</th>\n",
       "      <th id=\"T_64950_level0_col1\" class=\"col_heading level0 col1\" >AUC</th>\n",
       "      <th id=\"T_64950_level0_col2\" class=\"col_heading level0 col2\" >Recall</th>\n",
       "      <th id=\"T_64950_level0_col3\" class=\"col_heading level0 col3\" >Prec.</th>\n",
       "      <th id=\"T_64950_level0_col4\" class=\"col_heading level0 col4\" >F1</th>\n",
       "      <th id=\"T_64950_level0_col5\" class=\"col_heading level0 col5\" >Kappa</th>\n",
       "      <th id=\"T_64950_level0_col6\" class=\"col_heading level0 col6\" >MCC</th>\n",
       "    </tr>\n",
       "    <tr>\n",
       "      <th class=\"index_name level0\" >Fold</th>\n",
       "      <th class=\"blank col0\" >&nbsp;</th>\n",
       "      <th class=\"blank col1\" >&nbsp;</th>\n",
       "      <th class=\"blank col2\" >&nbsp;</th>\n",
       "      <th class=\"blank col3\" >&nbsp;</th>\n",
       "      <th class=\"blank col4\" >&nbsp;</th>\n",
       "      <th class=\"blank col5\" >&nbsp;</th>\n",
       "      <th class=\"blank col6\" >&nbsp;</th>\n",
       "    </tr>\n",
       "  </thead>\n",
       "  <tbody>\n",
       "    <tr>\n",
       "      <th id=\"T_64950_level0_row0\" class=\"row_heading level0 row0\" >0</th>\n",
       "      <td id=\"T_64950_row0_col0\" class=\"data row0 col0\" >0.9901</td>\n",
       "      <td id=\"T_64950_row0_col1\" class=\"data row0 col1\" >0.9990</td>\n",
       "      <td id=\"T_64950_row0_col2\" class=\"data row0 col2\" >0.9901</td>\n",
       "      <td id=\"T_64950_row0_col3\" class=\"data row0 col3\" >0.9901</td>\n",
       "      <td id=\"T_64950_row0_col4\" class=\"data row0 col4\" >0.9901</td>\n",
       "      <td id=\"T_64950_row0_col5\" class=\"data row0 col5\" >0.9597</td>\n",
       "      <td id=\"T_64950_row0_col6\" class=\"data row0 col6\" >0.9597</td>\n",
       "    </tr>\n",
       "    <tr>\n",
       "      <th id=\"T_64950_level0_row1\" class=\"row_heading level0 row1\" >1</th>\n",
       "      <td id=\"T_64950_row1_col0\" class=\"data row1 col0\" >0.9950</td>\n",
       "      <td id=\"T_64950_row1_col1\" class=\"data row1 col1\" >1.0000</td>\n",
       "      <td id=\"T_64950_row1_col2\" class=\"data row1 col2\" >0.9950</td>\n",
       "      <td id=\"T_64950_row1_col3\" class=\"data row1 col3\" >0.9952</td>\n",
       "      <td id=\"T_64950_row1_col4\" class=\"data row1 col4\" >0.9951</td>\n",
       "      <td id=\"T_64950_row1_col5\" class=\"data row1 col5\" >0.9802</td>\n",
       "      <td id=\"T_64950_row1_col6\" class=\"data row1 col6\" >0.9803</td>\n",
       "    </tr>\n",
       "    <tr>\n",
       "      <th id=\"T_64950_level0_row2\" class=\"row_heading level0 row2\" >Mean</th>\n",
       "      <td id=\"T_64950_row2_col0\" class=\"data row2 col0\" >0.9926</td>\n",
       "      <td id=\"T_64950_row2_col1\" class=\"data row2 col1\" >0.9995</td>\n",
       "      <td id=\"T_64950_row2_col2\" class=\"data row2 col2\" >0.9926</td>\n",
       "      <td id=\"T_64950_row2_col3\" class=\"data row2 col3\" >0.9927</td>\n",
       "      <td id=\"T_64950_row2_col4\" class=\"data row2 col4\" >0.9926</td>\n",
       "      <td id=\"T_64950_row2_col5\" class=\"data row2 col5\" >0.9699</td>\n",
       "      <td id=\"T_64950_row2_col6\" class=\"data row2 col6\" >0.9700</td>\n",
       "    </tr>\n",
       "    <tr>\n",
       "      <th id=\"T_64950_level0_row3\" class=\"row_heading level0 row3\" >Std</th>\n",
       "      <td id=\"T_64950_row3_col0\" class=\"data row3 col0\" >0.0025</td>\n",
       "      <td id=\"T_64950_row3_col1\" class=\"data row3 col1\" >0.0005</td>\n",
       "      <td id=\"T_64950_row3_col2\" class=\"data row3 col2\" >0.0025</td>\n",
       "      <td id=\"T_64950_row3_col3\" class=\"data row3 col3\" >0.0026</td>\n",
       "      <td id=\"T_64950_row3_col4\" class=\"data row3 col4\" >0.0025</td>\n",
       "      <td id=\"T_64950_row3_col5\" class=\"data row3 col5\" >0.0102</td>\n",
       "      <td id=\"T_64950_row3_col6\" class=\"data row3 col6\" >0.0103</td>\n",
       "    </tr>\n",
       "  </tbody>\n",
       "</table>\n"
      ],
      "text/plain": [
       "<pandas.io.formats.style.Styler at 0x20f07335090>"
      ]
     },
     "metadata": {},
     "output_type": "display_data"
    },
    {
     "data": {
      "text/html": [],
      "text/plain": [
       "<IPython.core.display.HTML object>"
      ]
     },
     "metadata": {},
     "output_type": "display_data"
    }
   ],
   "source": [
    "clf = create_model('et', fold = 2)"
   ]
  },
  {
   "cell_type": "code",
   "execution_count": 11,
   "id": "08fa2100-1517-4208-a5bf-9f94ee8858b8",
   "metadata": {},
   "outputs": [
    {
     "data": {
      "text/html": [],
      "text/plain": [
       "<IPython.core.display.HTML object>"
      ]
     },
     "metadata": {},
     "output_type": "display_data"
    },
    {
     "data": {
      "text/html": [
       "<style type=\"text/css\">\n",
       "#T_4d183_row2_col0, #T_4d183_row2_col1, #T_4d183_row2_col2, #T_4d183_row2_col3, #T_4d183_row2_col4, #T_4d183_row2_col5, #T_4d183_row2_col6 {\n",
       "  background: yellow;\n",
       "}\n",
       "</style>\n",
       "<table id=\"T_4d183\">\n",
       "  <thead>\n",
       "    <tr>\n",
       "      <th class=\"blank level0\" >&nbsp;</th>\n",
       "      <th id=\"T_4d183_level0_col0\" class=\"col_heading level0 col0\" >Accuracy</th>\n",
       "      <th id=\"T_4d183_level0_col1\" class=\"col_heading level0 col1\" >AUC</th>\n",
       "      <th id=\"T_4d183_level0_col2\" class=\"col_heading level0 col2\" >Recall</th>\n",
       "      <th id=\"T_4d183_level0_col3\" class=\"col_heading level0 col3\" >Prec.</th>\n",
       "      <th id=\"T_4d183_level0_col4\" class=\"col_heading level0 col4\" >F1</th>\n",
       "      <th id=\"T_4d183_level0_col5\" class=\"col_heading level0 col5\" >Kappa</th>\n",
       "      <th id=\"T_4d183_level0_col6\" class=\"col_heading level0 col6\" >MCC</th>\n",
       "    </tr>\n",
       "    <tr>\n",
       "      <th class=\"index_name level0\" >Fold</th>\n",
       "      <th class=\"blank col0\" >&nbsp;</th>\n",
       "      <th class=\"blank col1\" >&nbsp;</th>\n",
       "      <th class=\"blank col2\" >&nbsp;</th>\n",
       "      <th class=\"blank col3\" >&nbsp;</th>\n",
       "      <th class=\"blank col4\" >&nbsp;</th>\n",
       "      <th class=\"blank col5\" >&nbsp;</th>\n",
       "      <th class=\"blank col6\" >&nbsp;</th>\n",
       "    </tr>\n",
       "  </thead>\n",
       "  <tbody>\n",
       "    <tr>\n",
       "      <th id=\"T_4d183_level0_row0\" class=\"row_heading level0 row0\" >0</th>\n",
       "      <td id=\"T_4d183_row0_col0\" class=\"data row0 col0\" >0.9901</td>\n",
       "      <td id=\"T_4d183_row0_col1\" class=\"data row0 col1\" >0.9972</td>\n",
       "      <td id=\"T_4d183_row0_col2\" class=\"data row0 col2\" >0.9901</td>\n",
       "      <td id=\"T_4d183_row0_col3\" class=\"data row0 col3\" >0.9901</td>\n",
       "      <td id=\"T_4d183_row0_col4\" class=\"data row0 col4\" >0.9901</td>\n",
       "      <td id=\"T_4d183_row0_col5\" class=\"data row0 col5\" >0.9597</td>\n",
       "      <td id=\"T_4d183_row0_col6\" class=\"data row0 col6\" >0.9597</td>\n",
       "    </tr>\n",
       "    <tr>\n",
       "      <th id=\"T_4d183_level0_row1\" class=\"row_heading level0 row1\" >1</th>\n",
       "      <td id=\"T_4d183_row1_col0\" class=\"data row1 col0\" >0.9901</td>\n",
       "      <td id=\"T_4d183_row1_col1\" class=\"data row1 col1\" >0.9990</td>\n",
       "      <td id=\"T_4d183_row1_col2\" class=\"data row1 col2\" >0.9901</td>\n",
       "      <td id=\"T_4d183_row1_col3\" class=\"data row1 col3\" >0.9907</td>\n",
       "      <td id=\"T_4d183_row1_col4\" class=\"data row1 col4\" >0.9902</td>\n",
       "      <td id=\"T_4d183_row1_col5\" class=\"data row1 col5\" >0.9609</td>\n",
       "      <td id=\"T_4d183_row1_col6\" class=\"data row1 col6\" >0.9616</td>\n",
       "    </tr>\n",
       "    <tr>\n",
       "      <th id=\"T_4d183_level0_row2\" class=\"row_heading level0 row2\" >Mean</th>\n",
       "      <td id=\"T_4d183_row2_col0\" class=\"data row2 col0\" >0.9901</td>\n",
       "      <td id=\"T_4d183_row2_col1\" class=\"data row2 col1\" >0.9981</td>\n",
       "      <td id=\"T_4d183_row2_col2\" class=\"data row2 col2\" >0.9901</td>\n",
       "      <td id=\"T_4d183_row2_col3\" class=\"data row2 col3\" >0.9904</td>\n",
       "      <td id=\"T_4d183_row2_col4\" class=\"data row2 col4\" >0.9902</td>\n",
       "      <td id=\"T_4d183_row2_col5\" class=\"data row2 col5\" >0.9603</td>\n",
       "      <td id=\"T_4d183_row2_col6\" class=\"data row2 col6\" >0.9607</td>\n",
       "    </tr>\n",
       "    <tr>\n",
       "      <th id=\"T_4d183_level0_row3\" class=\"row_heading level0 row3\" >Std</th>\n",
       "      <td id=\"T_4d183_row3_col0\" class=\"data row3 col0\" >0.0000</td>\n",
       "      <td id=\"T_4d183_row3_col1\" class=\"data row3 col1\" >0.0009</td>\n",
       "      <td id=\"T_4d183_row3_col2\" class=\"data row3 col2\" >0.0000</td>\n",
       "      <td id=\"T_4d183_row3_col3\" class=\"data row3 col3\" >0.0003</td>\n",
       "      <td id=\"T_4d183_row3_col4\" class=\"data row3 col4\" >0.0001</td>\n",
       "      <td id=\"T_4d183_row3_col5\" class=\"data row3 col5\" >0.0006</td>\n",
       "      <td id=\"T_4d183_row3_col6\" class=\"data row3 col6\" >0.0009</td>\n",
       "    </tr>\n",
       "  </tbody>\n",
       "</table>\n"
      ],
      "text/plain": [
       "<pandas.io.formats.style.Styler at 0x20f07017d30>"
      ]
     },
     "metadata": {},
     "output_type": "display_data"
    },
    {
     "data": {
      "text/html": [],
      "text/plain": [
       "<IPython.core.display.HTML object>"
      ]
     },
     "metadata": {},
     "output_type": "display_data"
    },
    {
     "name": "stdout",
     "output_type": "stream",
     "text": [
      "Fitting 2 folds for each of 10 candidates, totalling 20 fits\n",
      "Original model was better than the tuned model, hence it will be returned. NOTE: The display metrics are for the tuned model (not the original one).\n"
     ]
    }
   ],
   "source": [
    "tuned_clf = tune_model(clf, optimize = 'F1', fold = 2)"
   ]
  },
  {
   "cell_type": "code",
   "execution_count": 12,
   "id": "ec12ed0e-ee92-46c6-bc1c-80c1d08adcb7",
   "metadata": {},
   "outputs": [
    {
     "name": "stdout",
     "output_type": "stream",
     "text": [
      "Total of features:  10\n"
     ]
    }
   ],
   "source": [
    "print(\"Total of features: \", len(tuned_clf.feature_importances_))"
   ]
  },
  {
   "cell_type": "code",
   "execution_count": 13,
   "id": "796149a4-f324-4963-af0d-55f16aed25c7",
   "metadata": {},
   "outputs": [
    {
     "data": {
      "application/vnd.jupyter.widget-view+json": {
       "model_id": "d302efaa8a2f4fb58163d2af185a3b24",
       "version_major": 2,
       "version_minor": 0
      },
      "text/plain": [
       "interactive(children=(ToggleButtons(description='Plot Type:', icons=('',), options=(('Pipeline Plot', 'pipelin…"
      ]
     },
     "metadata": {},
     "output_type": "display_data"
    }
   ],
   "source": [
    "evaluate_model(tuned_clf)"
   ]
  },
  {
   "cell_type": "code",
   "execution_count": 14,
   "id": "9d0632fe-4689-4e21-952d-1649984de5a1",
   "metadata": {},
   "outputs": [],
   "source": [
    "model_final = finalize_model(tuned_clf)"
   ]
  },
  {
   "cell_type": "code",
   "execution_count": 15,
   "id": "32e71d1b-24e5-4f18-9e0e-0826a97a6c9d",
   "metadata": {},
   "outputs": [
    {
     "name": "stdout",
     "output_type": "stream",
     "text": [
      "Transformation Pipeline and Model Successfully Saved\n"
     ]
    },
    {
     "data": {
      "text/plain": [
       "(Pipeline(memory=Memory(location=None),\n",
       "          steps=[('label_encoding',\n",
       "                  TransformerWrapperWithInverse(exclude=None, include=None,\n",
       "                                                transformer=LabelEncoder())),\n",
       "                 ('numerical_imputer',\n",
       "                  TransformerWrapper(exclude=None,\n",
       "                                     include=['linAccX_mean', 'linAccX_std',\n",
       "                                              'linAccX_median',\n",
       "                                              'linAccX_skewness',\n",
       "                                              'linAccX_kurtosis', 'linAccX_min',\n",
       "                                              'linAccX_max', 'linAccX_range',\n",
       "                                              'linAccX_qua...\n",
       "                  ExtraTreesClassifier(bootstrap=False, ccp_alpha=0.0,\n",
       "                                       class_weight=None, criterion='gini',\n",
       "                                       max_depth=None, max_features='sqrt',\n",
       "                                       max_leaf_nodes=None, max_samples=None,\n",
       "                                       min_impurity_decrease=0.0,\n",
       "                                       min_samples_leaf=1, min_samples_split=2,\n",
       "                                       min_weight_fraction_leaf=0.0,\n",
       "                                       n_estimators=100, n_jobs=-1,\n",
       "                                       oob_score=False, random_state=2444,\n",
       "                                       verbose=0, warm_start=False))],\n",
       "          verbose=False),\n",
       " 'situp_upModel.pkl')"
      ]
     },
     "execution_count": 15,
     "metadata": {},
     "output_type": "execute_result"
    }
   ],
   "source": [
    "save_model(model_final, 'situp_upModel')"
   ]
  },
  {
   "cell_type": "markdown",
   "id": "e3319275-05ec-4c67-bcc7-468949336d2b",
   "metadata": {},
   "source": [
    "# USE IN PRODUCTION"
   ]
  },
  {
   "cell_type": "code",
   "execution_count": 16,
   "id": "eaf91255-e3cf-4c06-be81-f75805c197a4",
   "metadata": {},
   "outputs": [
    {
     "name": "stdout",
     "output_type": "stream",
     "text": [
      "Transformation Pipeline and Model Successfully Loaded\n"
     ]
    }
   ],
   "source": [
    "pipeline = load_model(model_name=\"situp_upModel\")"
   ]
  },
  {
   "cell_type": "code",
   "execution_count": 17,
   "id": "22a2746c-da5d-4d55-af51-8634fa4d43ea",
   "metadata": {},
   "outputs": [
    {
     "data": {
      "text/html": [
       "<style type=\"text/css\">\n",
       "</style>\n",
       "<table id=\"T_b5306\">\n",
       "  <thead>\n",
       "    <tr>\n",
       "      <th class=\"blank level0\" >&nbsp;</th>\n",
       "      <th id=\"T_b5306_level0_col0\" class=\"col_heading level0 col0\" >Model</th>\n",
       "      <th id=\"T_b5306_level0_col1\" class=\"col_heading level0 col1\" >Accuracy</th>\n",
       "      <th id=\"T_b5306_level0_col2\" class=\"col_heading level0 col2\" >AUC</th>\n",
       "      <th id=\"T_b5306_level0_col3\" class=\"col_heading level0 col3\" >Recall</th>\n",
       "      <th id=\"T_b5306_level0_col4\" class=\"col_heading level0 col4\" >Prec.</th>\n",
       "      <th id=\"T_b5306_level0_col5\" class=\"col_heading level0 col5\" >F1</th>\n",
       "      <th id=\"T_b5306_level0_col6\" class=\"col_heading level0 col6\" >Kappa</th>\n",
       "      <th id=\"T_b5306_level0_col7\" class=\"col_heading level0 col7\" >MCC</th>\n",
       "    </tr>\n",
       "  </thead>\n",
       "  <tbody>\n",
       "    <tr>\n",
       "      <th id=\"T_b5306_level0_row0\" class=\"row_heading level0 row0\" >0</th>\n",
       "      <td id=\"T_b5306_row0_col0\" class=\"data row0 col0\" >Extra Trees Classifier</td>\n",
       "      <td id=\"T_b5306_row0_col1\" class=\"data row0 col1\" >0.9630</td>\n",
       "      <td id=\"T_b5306_row0_col2\" class=\"data row0 col2\" >1.0000</td>\n",
       "      <td id=\"T_b5306_row0_col3\" class=\"data row0 col3\" >0.9630</td>\n",
       "      <td id=\"T_b5306_row0_col4\" class=\"data row0 col4\" >0.9753</td>\n",
       "      <td id=\"T_b5306_row0_col5\" class=\"data row0 col5\" >0.9663</td>\n",
       "      <td id=\"T_b5306_row0_col6\" class=\"data row0 col6\" >0.7805</td>\n",
       "      <td id=\"T_b5306_row0_col7\" class=\"data row0 col7\" >0.8000</td>\n",
       "    </tr>\n",
       "  </tbody>\n",
       "</table>\n"
      ],
      "text/plain": [
       "<pandas.io.formats.style.Styler at 0x20f064025c0>"
      ]
     },
     "metadata": {},
     "output_type": "display_data"
    }
   ],
   "source": [
    "prediction = predict_model(pipeline, data_prod, raw_score=True)"
   ]
  },
  {
   "cell_type": "code",
   "execution_count": null,
   "id": "d2e0eb27-891a-4c30-a6eb-d79ae7686253",
   "metadata": {},
   "outputs": [],
   "source": []
  },
  {
   "cell_type": "code",
   "execution_count": null,
   "id": "82e884af",
   "metadata": {},
   "outputs": [],
   "source": [
    "data_custom['target']"
   ]
  },
  {
   "cell_type": "code",
   "execution_count": null,
   "id": "c1e98ff0",
   "metadata": {},
   "outputs": [],
   "source": [
    "data_custom['target'].count()"
   ]
  },
  {
   "cell_type": "markdown",
   "id": "b380d7e8",
   "metadata": {},
   "source": [
    "Mapping to transform it into a binqary problem ready to do the ML models:"
   ]
  },
  {
   "cell_type": "code",
   "execution_count": null,
   "id": "6a47b28e",
   "metadata": {},
   "outputs": [],
   "source": [
    "mapping = {'SIT_UP': 1, 'NO_EXERCISE': 0}\n",
    "\n",
    "# Mapping the values in the 'target' column:\n",
    "data_custom['target'] = data_custom['target'].map(mapping)"
   ]
  },
  {
   "cell_type": "code",
   "execution_count": null,
   "id": "eb5261a9",
   "metadata": {},
   "outputs": [],
   "source": [
    "data_custom.head()"
   ]
  },
  {
   "cell_type": "code",
   "execution_count": null,
   "id": "24fd3a1d",
   "metadata": {},
   "outputs": [],
   "source": [
    "data_custom['target']"
   ]
  },
  {
   "cell_type": "code",
   "execution_count": null,
   "id": "a9d46717",
   "metadata": {},
   "outputs": [],
   "source": [
    "data_custom['target'].count()"
   ]
  },
  {
   "cell_type": "code",
   "execution_count": null,
   "id": "cd039a8b",
   "metadata": {},
   "outputs": [],
   "source": [
    "data_custom.info()"
   ]
  },
  {
   "cell_type": "markdown",
   "id": "defc710a-6ac1-4c61-b612-0134506f8855",
   "metadata": {
    "jp-MarkdownHeadingCollapsed": true,
    "tags": []
   },
   "source": [
    "# EDA"
   ]
  },
  {
   "cell_type": "code",
   "execution_count": null,
   "id": "40b273a2736a7321",
   "metadata": {
    "collapsed": false,
    "jupyter": {
     "outputs_hidden": false
    }
   },
   "outputs": [],
   "source": [
    "fig = px.box(data_custom, y=\"linAccZ_mean\", color=\"target\",title = 'Distribution of linAccZ_mean vs target variable')\n",
    "fig.update_traces(quartilemethod=\"exclusive\") \n",
    "fig.show()"
   ]
  },
  {
   "cell_type": "code",
   "execution_count": null,
   "id": "2deb6671b27b5dbd",
   "metadata": {
    "collapsed": false,
    "jupyter": {
     "outputs_hidden": false
    }
   },
   "outputs": [],
   "source": [
    "fig = px.box(data_custom, y=\"linAccY_mean\", color=\"target\",title = 'Distribution of linAccY_mean vs target variable')\n",
    "fig.update_traces(quartilemethod=\"exclusive\") \n",
    "fig.show()"
   ]
  },
  {
   "cell_type": "code",
   "execution_count": null,
   "id": "6436e7eb48e43157",
   "metadata": {
    "collapsed": false,
    "jupyter": {
     "outputs_hidden": false
    }
   },
   "outputs": [],
   "source": [
    "fig = px.box(data_custom, y=\"linAccX_mean\", color=\"target\",title = 'Distribution of linAccX_mean vs target variable')\n",
    "fig.update_traces(quartilemethod=\"exclusive\") \n",
    "fig.show()"
   ]
  },
  {
   "cell_type": "code",
   "execution_count": null,
   "id": "b61dbb1b",
   "metadata": {},
   "outputs": [],
   "source": [
    "fig = px.box(data_custom, y=\"linAccZ_std\", color=\"target\",title = 'Distribution of linAccZ_std vs target variable')\n",
    "fig.update_traces(quartilemethod=\"exclusive\") \n",
    "fig.show()"
   ]
  },
  {
   "cell_type": "code",
   "execution_count": null,
   "id": "d911a6b3",
   "metadata": {},
   "outputs": [],
   "source": [
    "fig = px.box(data_custom, y=\"linAccY_std\", color=\"target\",title = 'Distribution of linAccY_std vs target variable')\n",
    "fig.update_traces(quartilemethod=\"exclusive\") \n",
    "fig.show()"
   ]
  },
  {
   "cell_type": "code",
   "execution_count": null,
   "id": "606aad252d7a3211",
   "metadata": {
    "collapsed": false,
    "jupyter": {
     "outputs_hidden": false
    }
   },
   "outputs": [],
   "source": [
    "fig = px.box(data_custom, y=\"linAccX_std\", color=\"target\",title = 'Distribution of linAccX_std vs target variable')\n",
    "fig.update_traces(quartilemethod=\"exclusive\") \n",
    "fig.show()"
   ]
  },
  {
   "cell_type": "code",
   "execution_count": null,
   "id": "f22fb8ae",
   "metadata": {},
   "outputs": [],
   "source": [
    "fig = px.box(data_custom, y=\"linAccZ_skewness\", color=\"target\",title = 'Distribution of linAccZ_skewness vs target variable')\n",
    "fig.update_traces(quartilemethod=\"exclusive\") \n",
    "fig.show()"
   ]
  },
  {
   "cell_type": "code",
   "execution_count": null,
   "id": "00621698",
   "metadata": {},
   "outputs": [],
   "source": [
    "fig = px.box(data_custom, y=\"linAccY_skewness\", color=\"target\",title = 'Distribution of linAccY_skewness vs target variable')\n",
    "fig.update_traces(quartilemethod=\"exclusive\") \n",
    "fig.show()"
   ]
  },
  {
   "cell_type": "code",
   "execution_count": null,
   "id": "332403e4",
   "metadata": {},
   "outputs": [],
   "source": [
    "fig = px.box(data_custom, y=\"linAccX_skewness\", color=\"target\",title = 'Distribution of linAccX_skewness vs target variable')\n",
    "fig.update_traces(quartilemethod=\"exclusive\") \n",
    "fig.show()"
   ]
  },
  {
   "cell_type": "markdown",
   "id": "32d201f6-c79d-4aab-a5e0-84b73af6d0d0",
   "metadata": {
    "tags": []
   },
   "source": [
    "# Data prep for model"
   ]
  },
  {
   "cell_type": "code",
   "execution_count": null,
   "id": "dcf9653b-fe1e-4eb1-9f0d-b7d567d212c8",
   "metadata": {},
   "outputs": [],
   "source": [
    "len(data_custom)"
   ]
  },
  {
   "cell_type": "code",
   "execution_count": null,
   "id": "ea81d21c-c9e0-4ab4-8591-5323dce0bddf",
   "metadata": {},
   "outputs": [],
   "source": [
    "#target imbalanced classes\n",
    "data_custom.groupby('target').size()"
   ]
  },
  {
   "cell_type": "code",
   "execution_count": null,
   "id": "ce560ff6-8882-4c2d-94ea-60151f61c6a0",
   "metadata": {},
   "outputs": [],
   "source": [
    "sns.countplot(x=data_custom['target'], label = \"pushup\")"
   ]
  },
  {
   "cell_type": "code",
   "execution_count": null,
   "id": "8e94793e-9865-4201-8123-eef928d76a55",
   "metadata": {},
   "outputs": [],
   "source": [
    "#sns.pairplot(data_custom, hue= 'target',vars=[\"linAccX_mean\", \"linAccY_mean\", \"linAccZ_mean\"])"
   ]
  },
  {
   "cell_type": "markdown",
   "id": "6747a4e4",
   "metadata": {},
   "source": [
    "## TREATING THE IMBALANCE "
   ]
  },
  {
   "cell_type": "code",
   "execution_count": null,
   "id": "b0e4383d",
   "metadata": {},
   "outputs": [],
   "source": [
    "import pandas as pd\n",
    "from sklearn.model_selection import train_test_split\n",
    "from sklearn.utils import resample\n",
    "\n",
    "\n",
    "# Separate the minority and majority classes\n",
    "minority_class = data_custom[data_custom['target'] == 1]  \n",
    "majority_class = data_custom[data_custom['target'] == 0]  \n",
    "\n",
    "# Downsample the majority class \n",
    "majority_downsampled = resample(majority_class, replace=False, n_samples=len(minority_class), random_state=42)\n",
    "\n",
    "# Concatenate BOTH\n",
    "balanced_data = pd.concat([minority_class, majority_downsampled])\n",
    "\n",
    "# SPLIT the data into features (X) and target variable (y)\n",
    "X = balanced_data.drop('target', axis=1)  # Assuming 'target' is the column to be predicted\n",
    "y = balanced_data['target']\n",
    "\n",
    "# Split the data into training and testing sets with stratification\n",
    "X_train, X_test, y_train, y_test = train_test_split(X, y, test_size=0.25, random_state=42, stratify=y)\n",
    "\n",
    "# Display shapes of the split datasets\n",
    "print(\"Shapes - X_train:\", X_train.shape, \"X_test:\", X_test.shape, \"y_train:\", y_train.shape, \"y_test:\", y_test.shape)"
   ]
  },
  {
   "cell_type": "markdown",
   "id": "dfd38356",
   "metadata": {},
   "source": [
    "## KBEST + SCALER"
   ]
  },
  {
   "cell_type": "code",
   "execution_count": null,
   "id": "2a0a6263",
   "metadata": {},
   "outputs": [],
   "source": [
    "selected = SelectKBest(score_func=f_classif, k=9)\n",
    "X_train_selected=selected.fit_transform(X_train, y_train)\n",
    "X_test_selected = selected.transform(X_test) \n",
    "selected.get_feature_names_out()"
   ]
  },
  {
   "cell_type": "code",
   "execution_count": null,
   "id": "53daca05",
   "metadata": {},
   "outputs": [],
   "source": [
    "# Scale Data\n",
    "scaler = StandardScaler()\n",
    "X_train_full = scaler.fit_transform(X_train_selected) #ONLY USING SELECTED VARIABLES\n",
    "joblib.dump(scaler,'scaler_situp.pkl')\n",
    "X_test_full = scaler.transform(X_test_selected)"
   ]
  },
  {
   "cell_type": "markdown",
   "id": "29e3963d",
   "metadata": {},
   "source": [
    "##SAVING MODELS"
   ]
  },
  {
   "cell_type": "code",
   "execution_count": null,
   "id": "1a55526e",
   "metadata": {},
   "outputs": [],
   "source": [
    "results_hard = {}\n",
    "results_soft = {}"
   ]
  },
  {
   "cell_type": "markdown",
   "id": "2b070e0f",
   "metadata": {},
   "source": [
    "## SVM"
   ]
  },
  {
   "cell_type": "code",
   "execution_count": null,
   "id": "3acf403b",
   "metadata": {},
   "outputs": [],
   "source": [
    "import sklearn\n",
    "sklearn.metrics.get_scorer_names()"
   ]
  },
  {
   "cell_type": "code",
   "execution_count": null,
   "id": "7b9bce1b",
   "metadata": {},
   "outputs": [],
   "source": [
    "from sklearn.svm import SVC\n",
    "import numpy as np\n",
    "from sklearn.model_selection import RandomizedSearchCV\n",
    "svm = SVC(probability=True)\n",
    "\n",
    "param_grid = {'C': [0.1, 1, 10, 100, 1000], \n",
    "              'gamma': [1, 0.1, 0.01, 0.001, 0.0001], \n",
    "              'kernel': ['linear']}\n",
    "\n",
    "\n",
    "# Realizar la búsqueda aleatoria de hiperparámetros\n",
    "random_search_svm = RandomizedSearchCV(\n",
    "    estimator=svm,\n",
    "    param_distributions=param_grid,\n",
    "    n_iter=5,  \n",
    "    scoring=\"roc_auc\",  \n",
    "    n_jobs=7,\n",
    "    return_train_score=True\n",
    ")\n",
    "random_search_svm.fit(X_train_full, y_train)"
   ]
  },
  {
   "cell_type": "code",
   "execution_count": null,
   "id": "cd80dd9f-7052-4ab9-a382-e02b94b2963c",
   "metadata": {},
   "outputs": [],
   "source": [
    "import joblib  \n",
    "joblib.dump(random_search_svm, 'situp_model.pkl')"
   ]
  },
  {
   "cell_type": "code",
   "execution_count": null,
   "id": "a8a04cf3",
   "metadata": {},
   "outputs": [],
   "source": [
    "#Evaluate: TRAIN\n",
    "proba_train = random_search_svm.predict_proba(X_train_full)\n",
    "pred_train = random_search_svm.predict(X_train_full)\n",
    "print(classification_report(y_train,pred_train))"
   ]
  },
  {
   "cell_type": "code",
   "execution_count": null,
   "id": "95e70f49",
   "metadata": {},
   "outputs": [],
   "source": [
    "#Evaluate: TEST\n",
    "proba_test = random_search_svm.predict_proba(X_test_full)\n",
    "pred_test = random_search_svm.predict(X_test_full)\n",
    "print(classification_report(y_test,pred_test))"
   ]
  },
  {
   "cell_type": "markdown",
   "id": "161f5511",
   "metadata": {},
   "source": [
    "## ANOTHER APPROACH"
   ]
  },
  {
   "cell_type": "code",
   "execution_count": null,
   "id": "2baceb9a",
   "metadata": {},
   "outputs": [],
   "source": [
    "from sklearn.svm import SVC\n",
    "import numpy as np\n",
    "from sklearn.model_selection import GridSearchCV\n",
    "\n",
    "param_grid = {'C': [0.1, 1, 10, 100, 1000], \n",
    "              'gamma': [1, 0.1, 0.01, 0.001, 0.0001], \n",
    "              'kernel': ['linear', 'rbf', 'poly', 'sigmoid']}\n",
    "\n",
    "# Perform GridSearchCV\n",
    "grid_search = GridSearchCV(svm, param_grid, scoring='f1', cv=6)  \n",
    "grid_search.fit(X_train_full, y_train)  \n",
    "\n",
    "# Get the best parameters and best F1 score\n",
    "best_params = grid_search.best_params_\n",
    "best_f1 = grid_search.best_score_\n",
    "\n",
    "# Use the best model for prediction on test data\n",
    "best_model = grid_search.best_estimator_\n",
    "y_pred = best_model.predict(X_test_full)\n",
    "\n",
    "# Calculate F1 score on the test set\n",
    "f1_test = f1_score(y_test, y_pred)\n",
    "\n",
    "print(\"Best Parameters:\", best_params)\n",
    "print(\"Best F1 Score (Cross-validation):\", best_f1)\n",
    "print(\"F1 Score on Test Set:\", f1_test)\n"
   ]
  },
  {
   "cell_type": "code",
   "execution_count": null,
   "id": "778d712d",
   "metadata": {},
   "outputs": [],
   "source": [
    "from sklearn.svm import SVC\n",
    "import numpy as np\n",
    "from sklearn.model_selection import GridSearchCV\n",
    "\n",
    "param_grid = {'C': [0.1, 1, 10], \n",
    "              'gamma': [1, 0.1, 0.01], \n",
    "              'kernel': ['linear']}\n",
    "\n",
    "grid= GridSearchCV(SVC(), param_grid, refit=True, verbose= 10)\n",
    "\n",
    "grid.fit(X_train_full, y_train)"
   ]
  },
  {
   "cell_type": "code",
   "execution_count": null,
   "id": "adda2d01",
   "metadata": {},
   "outputs": [],
   "source": [
    "grid_predictions= grid.predict(X_test_full)\n",
    "print(classification_report(y_test, grid_predictions))"
   ]
  },
  {
   "cell_type": "markdown",
   "id": "ba81b7e6",
   "metadata": {},
   "source": [
    "## LOGISTIC REGRESSION"
   ]
  },
  {
   "cell_type": "code",
   "execution_count": null,
   "id": "6bd8b102",
   "metadata": {},
   "outputs": [],
   "source": [
    "from sklearn.linear_model import LogisticRegression\n",
    "from sklearn.metrics import classification_report\n",
    "\n",
    "\n",
    "# Instantiate the Logistic Regression model\n",
    "logistic_model = LogisticRegression(random_state=42)\n",
    "\n",
    "# Fit the model on the resampled training data\n",
    "logistic_model.fit(X_train_full, y_train)\n",
    "\n",
    "# Predict on the test set\n",
    "y_pred = logistic_model.predict(X_test_full)\n",
    "\n",
    "# Evaluate the model\n",
    "print(classification_report(y_test, y_pred))"
   ]
  },
  {
   "cell_type": "markdown",
   "id": "993c2b96",
   "metadata": {},
   "source": [
    "## XGBOOST"
   ]
  },
  {
   "cell_type": "code",
   "execution_count": null,
   "id": "71a4046d",
   "metadata": {},
   "outputs": [],
   "source": [
    "import xgboost as xgb\n",
    "xgb = xgb.XGBClassifier()"
   ]
  },
  {
   "cell_type": "code",
   "execution_count": null,
   "id": "746a1209",
   "metadata": {},
   "outputs": [],
   "source": [
    "param_dist = {\n",
    "    'n_estimators': range(1500, 1800, 2000), \n",
    "    'max_depth': range(10, 15, 20),\n",
    "    'booster': ['gbtree', 'gblinear'],\n",
    "    'min_child_weight': range(1, 2, 3),  \n",
    "    'learning_rate': [0.1, 0.15, 0.20],\n",
    "    'gamma': [0, 0.1, 0.2, 0.3]\n",
    "}\n",
    "\n",
    "#hyperparameters\n",
    "random_search_XGB = RandomizedSearchCV(\n",
    "    estimator=xgb,\n",
    "    param_distributions=param_dist,\n",
    "    n_iter=2, #4\n",
    "    scoring=\"roc_auc\",  \n",
    "    n_jobs=5, #7\n",
    "    return_train_score=True\n",
    ")"
   ]
  },
  {
   "cell_type": "code",
   "execution_count": null,
   "id": "d1ceace4",
   "metadata": {},
   "outputs": [],
   "source": [
    "# w/o scaling \n",
    "random_search_XGB.fit(X_train_selected, y_train)"
   ]
  },
  {
   "cell_type": "code",
   "execution_count": null,
   "id": "bf2eac15",
   "metadata": {},
   "outputs": [],
   "source": [
    "print(random_search_XGB.best_params_)"
   ]
  },
  {
   "cell_type": "code",
   "execution_count": null,
   "id": "e22d18e7",
   "metadata": {},
   "outputs": [],
   "source": [
    "# train\n",
    "proba_train_XGB = random_search_XGB.predict_proba(X_train_selected)\n",
    "pred_train_XGB = random_search_XGB.predict(X_train_selected)\n",
    "print(classification_report(y_train,pred_train_XGB))"
   ]
  },
  {
   "cell_type": "code",
   "execution_count": null,
   "id": "0ae224ee",
   "metadata": {},
   "outputs": [],
   "source": [
    "# test\n",
    "proba_test_XGB = random_search_XGB.predict_proba(X_test_selected)\n",
    "pred_test_XGB = random_search_XGB.predict(X_test_selected)\n",
    "print(classification_report(y_test,pred_test_XGB))"
   ]
  },
  {
   "cell_type": "markdown",
   "id": "cd914d54",
   "metadata": {},
   "source": [
    "## NAIVE BAYES"
   ]
  },
  {
   "cell_type": "code",
   "execution_count": null,
   "id": "849d1fe9",
   "metadata": {},
   "outputs": [],
   "source": [
    "from sklearn.naive_bayes import GaussianNB\n",
    "gaus = GaussianNB()\n",
    "param_dist_NB = {\n",
    "    'priors': [[0.2, 0.8], [0.5, 0.5], [0.8, 0.2],[0.3, 0.7],[0.7, 0.3]]\n",
    "}\n",
    "\n",
    "\n",
    "random_search_NB = RandomizedSearchCV(\n",
    "    estimator=gaus,\n",
    "    param_distributions=param_dist_NB,\n",
    "    n_iter=5,  \n",
    "    scoring=\"roc_auc\",  \n",
    "    n_jobs=7,\n",
    "    return_train_score=True\n",
    ")"
   ]
  },
  {
   "cell_type": "code",
   "execution_count": null,
   "id": "8c64b4c8",
   "metadata": {},
   "outputs": [],
   "source": [
    "# Entrenar el modelo con la búsqueda aleatoria de hiperparámetros\n",
    "random_search_NB.fit(X_train_full, y_train)"
   ]
  },
  {
   "cell_type": "code",
   "execution_count": null,
   "id": "c5bd5155",
   "metadata": {},
   "outputs": [],
   "source": [
    "print(random_search_NB.best_params_)"
   ]
  },
  {
   "cell_type": "code",
   "execution_count": null,
   "id": "1d8b51c9",
   "metadata": {},
   "outputs": [],
   "source": [
    "#First evaluate on train\n",
    "proba_train_NB = random_search_NB.predict_proba(X_train_full)\n",
    "pred_train_NB = random_search_NB.predict(X_train_full)\n",
    "print(classification_report(y_train,pred_train_NB))"
   ]
  },
  {
   "cell_type": "code",
   "execution_count": null,
   "id": "00b22ece",
   "metadata": {},
   "outputs": [],
   "source": [
    "#now I will check with the test\n",
    "proba_test_NB = random_search_NB.predict_proba(X_test_full)\n",
    "pred_test_NB = random_search_NB.predict(X_test_full)\n",
    "print(classification_report(y_test,pred_test_NB))"
   ]
  },
  {
   "cell_type": "markdown",
   "id": "53a32e28-6635-40ff-aad7-0ec25a0c8981",
   "metadata": {
    "tags": []
   },
   "source": [
    "## Model evaluation"
   ]
  },
  {
   "cell_type": "code",
   "execution_count": null,
   "id": "de1d18a2-f565-4f08-8c94-308807b9d260",
   "metadata": {},
   "outputs": [],
   "source": [
    "pred_SV = random_search_svm.predict(X_test_full)\n",
    "proba_SV = random_search_svm.predict_proba(X_test_full)\n",
    "results_hard[\"Support_Vector\"] = pred_SV\n",
    "results_soft[\"Support_Vector\"] = proba_SV[:,1]\n",
    "\n",
    "proba_logistic = logistic_model.predict_proba(X_test_full)\n",
    "pred_logistic = logistic_model.predict(X_test_full)\n",
    "results_hard[\"Logistic_Regr\"] = pred_logistic\n",
    "results_soft[\"Logistic_Regr\"] = proba_logistic[:,1]\n",
    "\n",
    "proba_XGB = random_search_XGB.predict_proba(X_test_selected)\n",
    "pred_XGB = random_search_XGB.predict(X_test_selected)\n",
    "results_hard[\"XGBOOST\"] = pred_XGB\n",
    "results_soft[\"XGBOOST\"] = proba_XGB[:,1]\n",
    "\n",
    "proba_NB = random_search_NB.predict_proba(X_test_full)\n",
    "pred_NB = random_search_NB.predict(X_test_full)\n",
    "results_hard[\"Naive_Bayes\"] = pred_NB\n",
    "results_soft[\"Naive_Bayes\"] = proba_NB[:,1]\n",
    "\n",
    "results_hard = pd.DataFrame(results_hard)\n",
    "results_soft = pd.DataFrame(results_soft)"
   ]
  },
  {
   "cell_type": "code",
   "execution_count": null,
   "id": "6a079c4b-0682-4852-bbe3-5346a14446a1",
   "metadata": {},
   "outputs": [],
   "source": [
    "metrics = {}\n",
    "\n",
    "metrics[\"Accuracy\"] = {\n",
    "    \"Naive_Bayes\": accuracy_score(y_test, results_hard.Naive_Bayes),\n",
    "    \"Support_Vector\": accuracy_score(y_test, results_hard.Support_Vector),\n",
    "    \"XGBOOST\": accuracy_score(y_test, results_hard.XGBOOST),\n",
    "    \"Logistic_Regr\": accuracy_score(y_test, results_hard.Logistic_Regr)\n",
    "}\n",
    "metrics[\"Precision\"] = {\n",
    "    \"Naive_Bayes\": precision_score(y_test, results_hard.Naive_Bayes),\n",
    "    \"Support_Vector\": precision_score(y_test, results_hard.Support_Vector),\n",
    "    \"XGBOOST\": precision_score(y_test, results_hard.XGBOOST),\n",
    "    \"Logistic_Regr\": precision_score(y_test, results_hard.Logistic_Regr)\n",
    "}\n",
    "metrics[\"Recall\"] = {\n",
    "    \"Naive_Bayes\": recall_score(y_test, results_hard.Naive_Bayes),\n",
    "    \"Support_Vector\": recall_score(y_test, results_hard.Support_Vector),\n",
    "    \"XGBOOST\": recall_score(y_test, results_hard.XGBOOST),\n",
    "    \"Logistic_Regr\": recall_score(y_test, results_hard.Logistic_Regr)\n",
    "}\n",
    "metrics[\"F1\"] = {\n",
    "    \"Naive_Bayes\": f1_score(y_test, results_hard.Naive_Bayes),\n",
    "    \"Support_Vector\": f1_score(y_test, results_hard.Support_Vector),\n",
    "    \"XGBOOST\": f1_score(y_test, results_hard.XGBOOST),\n",
    "    \"Logistic_Regr\": f1_score(y_test, results_hard.Logistic_Regr)\n",
    "}\n",
    "\n",
    "metrics = pd.DataFrame(metrics)\n",
    "metrics"
   ]
  },
  {
   "cell_type": "markdown",
   "id": "221b271a-eee2-4fd5-a6ee-e36a7e63e698",
   "metadata": {},
   "source": [
    "## ROC Curves"
   ]
  },
  {
   "cell_type": "code",
   "execution_count": null,
   "id": "4f53787a-9f6b-4c7e-a19d-803cf2f03ad0",
   "metadata": {},
   "outputs": [],
   "source": [
    "# Datos de FPR y TPR para los tres modelos \n",
    "fpr_Naive_Bayes,tpr_Naive_Bayes,_ = roc_curve(y_test, results_soft.Naive_Bayes)\n",
    "fpr_Support_Vector,tpr_Support_Vector,_ = roc_curve(y_test, results_soft.Support_Vector)\n",
    "fpr_XGBOOST,tpr_XGBOOST,_ = roc_curve(y_test, results_soft.XGBOOST)\n",
    "fpr_Logistic_Reg,tpr_Logistic_Regr,_ = roc_curve(y_test, results_soft.Logistic_Regr)\n",
    "\n",
    "# Calcular el área bajo la curva ROC (AUC) para cada modelo\n",
    "auc_Naive_Bayes = auc(fpr_Naive_Bayes,tpr_Naive_Bayes)\n",
    "auc_Support_Vector = auc(fpr_Support_Vector,tpr_Support_Vector)\n",
    "auc_XGBOOST = auc(fpr_XGBOOST,tpr_XGBOOST)\n",
    "auc_Logistic_Regr = auc(fpr_Logistic_Reg,tpr_Logistic_Regr)"
   ]
  },
  {
   "cell_type": "code",
   "execution_count": null,
   "id": "3406fe27-c3fb-4b68-b666-5f2e18833d2d",
   "metadata": {},
   "outputs": [],
   "source": [
    "# Crear la gráfica ROC\n",
    "plt.figure(figsize=(8, 6))\n",
    "\n",
    "# Graficar las curvas ROC para los tres modelos\n",
    "plt.plot(fpr_Naive_Bayes,tpr_Naive_Bayes, label=f'Naive bayes (AUC = {auc_Naive_Bayes:.2f})')\n",
    "plt.plot(fpr_XGBOOST,tpr_XGBOOST, label=f'Xgboost (AUC = {auc_XGBOOST:.2f})')\n",
    "plt.plot(fpr_Support_Vector,tpr_Support_Vector, label=f'Support Vector (AUC = {auc_Support_Vector:.2f})')\n",
    "plt.plot(fpr_Logistic_Reg,tpr_Logistic_Regr, label=f'Support Vector (AUC = {auc_Logistic_Regr:.2f})')\n",
    "\n",
    "\n",
    "# Configurar la gráfica\n",
    "plt.plot([0, 1], [0, 1], 'k--', lw=2)  # Línea diagonal para referencia\n",
    "plt.xlim([0.0, 1.0])\n",
    "plt.ylim([0.0, 1.05])\n",
    "plt.xlabel('Tasa de Falsos Positivos (FPR)')\n",
    "plt.ylabel('Tasa de Verdaderos Positivos (TPR)')\n",
    "plt.title('Curva ROC de Modelos')\n",
    "plt.legend(loc=\"lower right\")\n",
    "\n",
    "# Mostrar la gráfica\n",
    "plt.show()"
   ]
  }
 ],
 "metadata": {
  "kernelspec": {
   "display_name": "Python 3 (ipykernel)",
   "language": "python",
   "name": "python3"
  },
  "language_info": {
   "codemirror_mode": {
    "name": "ipython",
    "version": 3
   },
   "file_extension": ".py",
   "mimetype": "text/x-python",
   "name": "python",
   "nbconvert_exporter": "python",
   "pygments_lexer": "ipython3",
   "version": "3.10.13"
  }
 },
 "nbformat": 4,
 "nbformat_minor": 5
}
