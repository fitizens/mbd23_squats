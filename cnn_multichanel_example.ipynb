{
 "cells": [
  {
   "cell_type": "markdown",
   "source": [
    "# [Chat GPT Example](https://docs.google.com/document/d/1h1toV2v1K-cyVkZUMM5qgS_ETnDb4z8INJg7L9F9isE/edit?usp=sharing)"
   ],
   "metadata": {
    "collapsed": false
   },
   "id": "298fb47181ed6e97"
  },
  {
   "cell_type": "code",
   "execution_count": 1,
   "id": "initial_id",
   "metadata": {
    "collapsed": true,
    "ExecuteTime": {
     "end_time": "2023-12-15T09:42:41.652389900Z",
     "start_time": "2023-12-15T09:42:27.952153200Z"
    }
   },
   "outputs": [
    {
     "name": "stdout",
     "output_type": "stream",
     "text": [
      "WARNING:tensorflow:From C:\\Users\\josec\\anaconda3\\envs\\fitizens_group\\lib\\site-packages\\keras\\src\\losses.py:2976: The name tf.losses.sparse_softmax_cross_entropy is deprecated. Please use tf.compat.v1.losses.sparse_softmax_cross_entropy instead.\n",
      "WARNING:tensorflow:From C:\\Users\\josec\\anaconda3\\envs\\fitizens_group\\lib\\site-packages\\keras\\src\\backend.py:873: The name tf.get_default_graph is deprecated. Please use tf.compat.v1.get_default_graph instead.\n",
      "WARNING:tensorflow:From C:\\Users\\josec\\anaconda3\\envs\\fitizens_group\\lib\\site-packages\\keras\\src\\backend.py:6642: The name tf.nn.max_pool is deprecated. Please use tf.nn.max_pool2d instead.\n",
      "WARNING:tensorflow:From C:\\Users\\josec\\anaconda3\\envs\\fitizens_group\\lib\\site-packages\\keras\\src\\optimizers\\__init__.py:309: The name tf.train.Optimizer is deprecated. Please use tf.compat.v1.train.Optimizer instead.\n",
      "Epoch 1/10\n",
      "WARNING:tensorflow:From C:\\Users\\josec\\anaconda3\\envs\\fitizens_group\\lib\\site-packages\\keras\\src\\utils\\tf_utils.py:492: The name tf.ragged.RaggedTensorValue is deprecated. Please use tf.compat.v1.ragged.RaggedTensorValue instead.\n",
      "WARNING:tensorflow:From C:\\Users\\josec\\anaconda3\\envs\\fitizens_group\\lib\\site-packages\\keras\\src\\engine\\base_layer_utils.py:384: The name tf.executing_eagerly_outside_functions is deprecated. Please use tf.compat.v1.executing_eagerly_outside_functions instead.\n",
      "32/32 [==============================] - 1s 4ms/step - loss: 0.7194 - accuracy: 0.5060\n",
      "Epoch 2/10\n",
      "32/32 [==============================] - 0s 5ms/step - loss: 0.6897 - accuracy: 0.5380\n",
      "Epoch 3/10\n",
      "32/32 [==============================] - 0s 7ms/step - loss: 0.6779 - accuracy: 0.5730\n",
      "Epoch 4/10\n",
      "32/32 [==============================] - 0s 5ms/step - loss: 0.6620 - accuracy: 0.6170\n",
      "Epoch 5/10\n",
      "32/32 [==============================] - 0s 5ms/step - loss: 0.6492 - accuracy: 0.6250\n",
      "Epoch 6/10\n",
      "32/32 [==============================] - 0s 4ms/step - loss: 0.6315 - accuracy: 0.6580\n",
      "Epoch 7/10\n",
      "32/32 [==============================] - 0s 4ms/step - loss: 0.5985 - accuracy: 0.6930\n",
      "Epoch 8/10\n",
      "32/32 [==============================] - 0s 4ms/step - loss: 0.5710 - accuracy: 0.7200\n",
      "Epoch 9/10\n",
      "32/32 [==============================] - 0s 4ms/step - loss: 0.5689 - accuracy: 0.6970\n",
      "Epoch 10/10\n",
      "32/32 [==============================] - 0s 4ms/step - loss: 0.5182 - accuracy: 0.7620\n"
     ]
    },
    {
     "data": {
      "text/plain": "<keras.src.callbacks.History at 0x29a44bb72b0>"
     },
     "execution_count": 1,
     "metadata": {},
     "output_type": "execute_result"
    }
   ],
   "source": [
    "import numpy as np\n",
    "from tensorflow.keras.models import Sequential\n",
    "from tensorflow.keras.layers import Conv1D, MaxPooling1D, Flatten, Dense\n",
    "from tensorflow.keras.utils import to_categorical\n",
    "\n",
    "# Number of signals (channels)\n",
    "num_channels = 6\n",
    "\n",
    "# Generate dummy data\n",
    "X_train = np.random.rand(1000, 60, num_channels)  # 1000 segments, each with 60 time steps and 6 channels\n",
    "y_train = np.random.randint(0, 2, 1000)  # Binary labels\n",
    "\n",
    "# Convert labels to one-hot encoding\n",
    "y_train_one_hot = to_categorical(y_train, num_classes=2)\n",
    "\n",
    "# Build the CNN model\n",
    "model = Sequential([\n",
    "    Conv1D(filters=32, kernel_size=3, activation='relu', input_shape=(60, num_channels)),\n",
    "    MaxPooling1D(pool_size=2),\n",
    "    Flatten(),\n",
    "    Dense(50, activation='relu'),\n",
    "    Dense(2, activation='softmax')  # Changed to 2 neurons for softmax\n",
    "])\n",
    "\n",
    "# Compile the model\n",
    "model.compile(optimizer='adam', loss='categorical_crossentropy', metrics=['accuracy'])\n",
    "\n",
    "# Train the model\n",
    "model.fit(X_train, y_train_one_hot, epochs=10, batch_size=32)\n",
    "\n",
    "# Evaluate the model (using separate test data)\n",
    "# model.evaluate(X_test, y_test_one_hot)\n"
   ]
  },
  {
   "cell_type": "code",
   "execution_count": 6,
   "outputs": [
    {
     "data": {
      "text/plain": "array([[[8.48882174e-01, 9.06515732e-01, 6.62884548e-01, 5.90913209e-01,\n         1.68997597e-01, 2.63093481e-01],\n        [1.70384246e-01, 3.70496593e-01, 7.08912205e-01, 9.01238383e-01,\n         1.84953092e-01, 9.66929575e-01],\n        [8.80019440e-02, 1.58778914e-01, 5.87327306e-01, 4.37312054e-01,\n         7.03411775e-01, 2.76763114e-01],\n        ...,\n        [8.75825869e-01, 7.84046246e-01, 9.11815765e-02, 9.27979675e-01,\n         6.21527964e-01, 7.43470864e-01],\n        [9.20944083e-01, 1.70039882e-01, 1.85842619e-01, 1.62231452e-02,\n         2.77865687e-02, 8.11602748e-01],\n        [7.96397280e-02, 4.21675336e-01, 4.66127115e-01, 4.52670169e-01,\n         1.48924258e-01, 5.01989011e-01]],\n\n       [[6.08016538e-01, 5.04861808e-02, 7.81156376e-01, 5.27340949e-02,\n         8.62035124e-01, 7.18541436e-02],\n        [5.08560184e-01, 1.05982295e-01, 9.25000636e-01, 1.81301292e-01,\n         4.04571637e-01, 3.67612193e-01],\n        [7.38252868e-01, 1.48327851e-01, 7.85581118e-01, 7.48632204e-01,\n         6.15971742e-01, 3.99845795e-01],\n        ...,\n        [2.55160930e-02, 2.80951038e-01, 8.05921379e-02, 7.57834713e-01,\n         4.48741397e-01, 9.88170432e-01],\n        [3.35727048e-01, 7.50796404e-01, 1.24335608e-01, 6.75345495e-01,\n         2.89510903e-01, 9.70623222e-01],\n        [3.27347234e-01, 7.03300310e-01, 8.39127107e-01, 6.11231364e-01,\n         2.32553292e-01, 4.66154327e-01]],\n\n       [[6.38105386e-01, 4.46369104e-03, 8.82112292e-01, 4.05345603e-01,\n         8.67438968e-01, 4.67102018e-03],\n        [6.06647574e-01, 3.48633277e-01, 9.12011947e-01, 5.65466111e-01,\n         9.82060876e-01, 7.74682961e-01],\n        [8.75657436e-02, 2.27395028e-01, 8.80098275e-01, 5.21495199e-02,\n         4.66630120e-01, 9.97587034e-01],\n        ...,\n        [2.95016870e-02, 9.03593067e-01, 6.10826678e-01, 5.12911704e-01,\n         9.11615556e-01, 4.81202044e-01],\n        [9.46015459e-01, 8.01674516e-01, 1.34632329e-01, 1.85886591e-01,\n         2.50518180e-01, 4.56359629e-01],\n        [5.17919541e-01, 7.01901253e-01, 5.36950588e-01, 9.72628517e-02,\n         4.20801717e-01, 9.50289482e-01]],\n\n       ...,\n\n       [[5.51951094e-02, 5.23392547e-01, 2.03575561e-01, 8.89042106e-01,\n         8.04854921e-01, 5.03099487e-01],\n        [7.35823567e-01, 7.33751241e-01, 5.88030686e-01, 6.56469317e-01,\n         1.90316709e-01, 4.65751689e-01],\n        [7.98719474e-01, 6.59309921e-01, 8.22002371e-01, 3.29001158e-01,\n         8.96143374e-02, 4.14825685e-03],\n        ...,\n        [3.39084883e-01, 5.55861634e-01, 6.23464287e-01, 4.67675970e-01,\n         9.85609270e-01, 1.35821239e-01],\n        [5.53647994e-01, 9.09360672e-02, 2.15502799e-01, 5.33897995e-01,\n         6.84890108e-01, 8.44078762e-01],\n        [6.20255390e-01, 4.17097286e-01, 2.85995405e-01, 9.39117239e-01,\n         2.41381070e-01, 1.11066878e-01]],\n\n       [[2.53367765e-02, 4.65870096e-01, 8.03589121e-01, 9.96812997e-02,\n         7.07503581e-01, 5.21962632e-02],\n        [6.99912593e-02, 8.26125298e-01, 9.35654193e-01, 2.32603365e-01,\n         1.27500741e-01, 5.05675175e-02],\n        [9.23022553e-02, 8.48152016e-01, 2.00934001e-01, 5.40174542e-01,\n         5.91850198e-01, 7.71975993e-01],\n        ...,\n        [3.51215888e-01, 1.46819392e-01, 1.58216068e-01, 7.84205775e-01,\n         2.21086748e-01, 6.36182690e-01],\n        [5.87996394e-01, 2.96475424e-02, 5.84080822e-01, 2.44238796e-01,\n         6.00588024e-01, 6.63580470e-01],\n        [9.51381474e-01, 6.80566783e-01, 3.98615692e-01, 9.69326033e-02,\n         8.16156697e-01, 6.70266311e-01]],\n\n       [[5.91108628e-02, 7.75617398e-01, 7.36787823e-01, 2.61872055e-01,\n         3.05092121e-01, 5.50653326e-01],\n        [9.23635940e-01, 9.08428899e-01, 6.26510347e-01, 1.58996015e-01,\n         3.11280061e-01, 5.69596402e-01],\n        [9.00609591e-01, 1.12038027e-01, 7.46718603e-01, 5.34466996e-01,\n         4.14823797e-01, 6.80227527e-01],\n        ...,\n        [1.31965709e-01, 9.47345532e-01, 1.70534136e-01, 1.65477118e-01,\n         8.57837800e-01, 6.80742789e-01],\n        [3.44954030e-01, 4.71698884e-01, 9.78063116e-01, 9.62531555e-01,\n         4.34467957e-01, 6.72519123e-01],\n        [2.26973000e-04, 9.00647370e-02, 7.47568620e-01, 8.51108580e-02,\n         4.61832725e-01, 9.54064969e-01]]])"
     },
     "execution_count": 6,
     "metadata": {},
     "output_type": "execute_result"
    }
   ],
   "source": [
    "X_train"
   ],
   "metadata": {
    "collapsed": false,
    "ExecuteTime": {
     "end_time": "2023-12-15T09:59:11.672739200Z",
     "start_time": "2023-12-15T09:59:11.607603700Z"
    }
   },
   "id": "781b7a274c99a8d1"
  },
  {
   "cell_type": "code",
   "execution_count": 5,
   "outputs": [
    {
     "data": {
      "text/plain": "array([1, 1, 1, 1, 1, 0, 0, 0, 0, 1, 0, 1, 0, 0, 0, 1, 0, 1, 0, 1, 0, 0,\n       0, 0, 0, 1, 1, 1, 1, 0, 0, 1, 0, 0, 0, 1, 1, 1, 1, 0, 0, 0, 1, 1,\n       0, 1, 0, 1, 1, 1, 0, 1, 0, 0, 1, 0, 1, 1, 0, 1, 0, 0, 0, 1, 0, 1,\n       0, 0, 1, 0, 0, 1, 0, 1, 1, 0, 0, 1, 0, 1, 0, 1, 1, 1, 0, 0, 0, 0,\n       1, 0, 0, 1, 1, 1, 0, 1, 0, 0, 1, 1, 0, 0, 0, 0, 0, 1, 1, 0, 1, 1,\n       0, 0, 1, 0, 0, 0, 1, 1, 1, 1, 0, 0, 1, 0, 1, 0, 1, 1, 1, 0, 1, 0,\n       0, 1, 1, 1, 0, 1, 1, 1, 1, 0, 0, 0, 1, 1, 1, 0, 1, 1, 1, 1, 1, 1,\n       1, 1, 1, 0, 0, 1, 1, 0, 0, 1, 0, 0, 1, 0, 1, 1, 1, 1, 0, 0, 1, 1,\n       0, 0, 1, 1, 1, 0, 0, 0, 1, 1, 1, 0, 0, 1, 1, 1, 1, 0, 1, 0, 1, 1,\n       1, 0, 0, 1, 1, 1, 1, 1, 1, 1, 1, 0, 1, 1, 1, 1, 0, 1, 1, 0, 0, 1,\n       0, 0, 0, 0, 0, 0, 1, 1, 1, 1, 0, 0, 0, 1, 1, 0, 1, 0, 0, 1, 1, 1,\n       0, 1, 0, 1, 1, 1, 1, 1, 0, 1, 1, 0, 0, 1, 0, 0, 1, 0, 0, 1, 0, 0,\n       1, 0, 0, 1, 1, 1, 0, 0, 0, 0, 1, 0, 1, 0, 1, 1, 1, 1, 1, 1, 0, 1,\n       0, 0, 0, 1, 0, 1, 0, 1, 0, 0, 1, 0, 0, 1, 0, 0, 1, 0, 0, 1, 0, 0,\n       1, 1, 1, 1, 0, 1, 0, 1, 1, 0, 0, 0, 0, 0, 0, 1, 1, 1, 1, 0, 0, 1,\n       0, 1, 0, 1, 0, 1, 1, 0, 0, 0, 1, 0, 0, 1, 0, 0, 0, 0, 1, 1, 0, 0,\n       0, 0, 1, 0, 0, 1, 0, 0, 0, 0, 1, 1, 1, 0, 1, 1, 1, 0, 1, 0, 0, 0,\n       0, 0, 1, 0, 1, 0, 0, 1, 0, 0, 0, 1, 1, 1, 0, 0, 0, 1, 0, 0, 0, 0,\n       1, 0, 0, 1, 1, 0, 1, 1, 0, 1, 0, 0, 0, 1, 0, 1, 1, 1, 1, 1, 1, 1,\n       1, 1, 0, 1, 0, 0, 0, 0, 0, 0, 0, 0, 0, 0, 1, 1, 1, 1, 1, 0, 0, 0,\n       1, 0, 0, 0, 1, 1, 0, 0, 1, 1, 1, 1, 0, 1, 1, 0, 1, 1, 1, 1, 1, 1,\n       0, 1, 1, 1, 1, 1, 1, 1, 0, 1, 1, 0, 1, 1, 1, 1, 1, 1, 1, 0, 1, 1,\n       1, 0, 0, 1, 1, 1, 1, 0, 0, 0, 0, 1, 0, 0, 0, 1, 1, 0, 1, 0, 0, 1,\n       0, 1, 1, 0, 0, 0, 1, 1, 1, 0, 0, 1, 0, 1, 0, 1, 0, 1, 1, 0, 1, 0,\n       0, 0, 1, 1, 0, 0, 1, 1, 0, 0, 1, 0, 1, 1, 1, 0, 1, 1, 0, 0, 1, 1,\n       1, 1, 0, 0, 1, 0, 1, 1, 1, 0, 0, 0, 1, 0, 0, 1, 0, 0, 0, 0, 0, 0,\n       0, 1, 1, 1, 0, 0, 0, 0, 0, 0, 1, 1, 0, 0, 1, 1, 0, 1, 0, 0, 0, 1,\n       0, 1, 0, 0, 1, 1, 1, 0, 0, 0, 1, 0, 1, 1, 1, 1, 0, 0, 1, 0, 0, 1,\n       0, 1, 0, 1, 0, 1, 1, 1, 0, 0, 1, 1, 1, 0, 1, 1, 1, 1, 0, 0, 0, 0,\n       0, 0, 0, 0, 1, 1, 1, 1, 1, 1, 0, 1, 0, 0, 0, 0, 0, 1, 0, 0, 1, 1,\n       1, 0, 1, 1, 1, 1, 1, 1, 1, 0, 0, 0, 0, 1, 1, 0, 0, 0, 1, 0, 0, 1,\n       1, 0, 1, 1, 0, 1, 1, 1, 0, 0, 1, 0, 1, 0, 0, 0, 0, 1, 0, 0, 0, 1,\n       0, 0, 0, 1, 0, 0, 1, 0, 0, 0, 1, 0, 1, 0, 1, 0, 0, 0, 0, 0, 0, 1,\n       1, 1, 0, 1, 1, 0, 0, 0, 1, 1, 0, 0, 1, 1, 1, 0, 1, 0, 0, 1, 0, 1,\n       1, 0, 1, 1, 1, 0, 0, 1, 0, 0, 0, 0, 1, 1, 1, 0, 0, 1, 1, 0, 1, 0,\n       0, 0, 1, 0, 0, 1, 0, 0, 0, 0, 1, 0, 1, 1, 1, 0, 1, 1, 1, 0, 0, 1,\n       0, 1, 1, 0, 1, 1, 1, 0, 1, 0, 1, 0, 0, 1, 0, 1, 0, 0, 0, 1, 1, 1,\n       1, 1, 0, 0, 0, 1, 0, 1, 0, 0, 0, 1, 1, 1, 1, 0, 1, 0, 0, 1, 1, 1,\n       0, 0, 0, 1, 0, 1, 0, 1, 0, 0, 0, 0, 0, 1, 0, 1, 0, 0, 0, 1, 1, 1,\n       1, 0, 0, 1, 1, 1, 0, 0, 1, 1, 0, 0, 1, 1, 0, 1, 0, 0, 0, 1, 0, 0,\n       1, 1, 0, 0, 0, 1, 1, 0, 0, 1, 1, 0, 1, 0, 1, 0, 0, 0, 0, 0, 1, 0,\n       0, 0, 1, 0, 1, 1, 0, 0, 1, 1, 1, 0, 0, 0, 1, 1, 1, 0, 0, 1, 1, 1,\n       1, 0, 1, 1, 0, 0, 0, 0, 0, 1, 1, 0, 0, 1, 0, 0, 1, 1, 1, 1, 1, 0,\n       0, 1, 1, 0, 0, 1, 1, 0, 0, 0, 0, 1, 1, 0, 0, 0, 0, 0, 1, 1, 1, 0,\n       1, 0, 1, 0, 1, 1, 0, 1, 0, 1, 1, 1, 0, 0, 1, 1, 0, 1, 0, 0, 1, 1,\n       1, 0, 0, 0, 0, 0, 1, 0, 0, 1])"
     },
     "execution_count": 5,
     "metadata": {},
     "output_type": "execute_result"
    }
   ],
   "source": [
    "y_train"
   ],
   "metadata": {
    "collapsed": false,
    "ExecuteTime": {
     "end_time": "2023-12-15T09:59:08.944534800Z",
     "start_time": "2023-12-15T09:59:08.905897200Z"
    }
   },
   "id": "52804da99a4928b1"
  }
 ],
 "metadata": {
  "kernelspec": {
   "display_name": "Python 3",
   "language": "python",
   "name": "python3"
  },
  "language_info": {
   "codemirror_mode": {
    "name": "ipython",
    "version": 2
   },
   "file_extension": ".py",
   "mimetype": "text/x-python",
   "name": "python",
   "nbconvert_exporter": "python",
   "pygments_lexer": "ipython2",
   "version": "2.7.6"
  }
 },
 "nbformat": 4,
 "nbformat_minor": 5
}
