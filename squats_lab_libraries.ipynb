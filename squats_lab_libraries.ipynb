{
 "cells": [
  {
   "cell_type": "markdown",
   "source": [
    "# Importing data"
   ],
   "metadata": {
    "collapsed": false
   },
   "id": "3f28876c015eff7"
  },
  {
   "cell_type": "code",
   "execution_count": null,
   "outputs": [],
   "source": [
    "from fitizens_libraries.load_and_process_training_data import load_training_data\n",
    "from fitizens_libraries.load_timeseries import load_timeseries_data\n",
    "from fitizens_libraries.plot_labeled_sequences import plot_labeled_sequence\n",
    "import os\n",
    "\n",
    "folder_path = \"labeled\"\n",
    "os.makedirs(folder_path, exist_ok=True)\n",
    "file_names = [f\"{folder_path}/{name}\" for name in os.listdir(folder_path)]\n",
    "signals = [\"accX\", \"accY\", \"accZ\", \"gyroX\", \"gyroY\", \"gyroZ\", \"magnX\", \"magnY\", \"magnZ\", \"linAccX\", \"linAccY\", \"linAccZ\"]"
   ],
   "metadata": {
    "collapsed": false
   },
   "id": "7ace47c02c3eeefc"
  },
  {
   "cell_type": "markdown",
   "source": [
    "# Reading training data"
   ],
   "metadata": {
    "collapsed": false
   },
   "id": "9d156d078d561f1"
  },
  {
   "cell_type": "code",
   "execution_count": null,
   "outputs": [],
   "source": [
    "data, wk = load_training_data(filelist=file_names[0:5],\n",
    "                         signals= signals,\n",
    "                          target_exercise=\"SQUAT\", other_exercises=[], is_peak_minima=True)\n",
    "data"
   ],
   "metadata": {
    "collapsed": false
   },
   "id": "209b9712ea2610e8"
  },
  {
   "cell_type": "code",
   "execution_count": null,
   "outputs": [],
   "source": [
    "from custom_libraries.merge_data import merge_data\n",
    "\n",
    "time_series = merge_data(data)"
   ],
   "metadata": {
    "collapsed": false
   },
   "id": "36864a84a106130f"
  },
  {
   "cell_type": "code",
   "execution_count": null,
   "outputs": [],
   "source": [
    "time_series"
   ],
   "metadata": {
    "collapsed": false
   },
   "id": "6db64b337f1ed843"
  },
  {
   "cell_type": "code",
   "execution_count": null,
   "outputs": [],
   "source": [
    "type(data)"
   ],
   "metadata": {
    "collapsed": false
   },
   "id": "30748f6d619d6aa8"
  },
  {
   "cell_type": "code",
   "execution_count": null,
   "outputs": [],
   "source": [
    "wk"
   ],
   "metadata": {
    "collapsed": false
   },
   "id": "2226e03dbab90d07"
  },
  {
   "cell_type": "code",
   "execution_count": null,
   "outputs": [],
   "source": [
    "type(wk)"
   ],
   "metadata": {
    "collapsed": false
   },
   "id": "20ef90564a0e90f2"
  },
  {
   "cell_type": "code",
   "execution_count": null,
   "outputs": [],
   "source": [
    "data[0][0][\"series\"]"
   ],
   "metadata": {
    "collapsed": false
   },
   "id": "e48c083548b28bd"
  },
  {
   "cell_type": "code",
   "execution_count": null,
   "outputs": [],
   "source": [
    "from fitizens_libraries.build_dataframe_from_list_of_signals import build_dataframe\n",
    "\n",
    "df = build_dataframe(data)\n",
    "df"
   ],
   "metadata": {
    "collapsed": false
   },
   "id": "ece72e70215b8370"
  },
  {
   "cell_type": "code",
   "execution_count": null,
   "outputs": [],
   "source": [
    "df.iloc[0]"
   ],
   "metadata": {
    "collapsed": false
   },
   "id": "2a22957864138204"
  },
  {
   "cell_type": "markdown",
   "source": [
    "# Plots"
   ],
   "metadata": {
    "collapsed": false
   },
   "id": "ee649a46110e9a27"
  },
  {
   "cell_type": "code",
   "execution_count": null,
   "outputs": [],
   "source": [
    "respuesta_tupla = load_timeseries_data(filelist=file_names, signals=signals, is_peak_minima=True)"
   ],
   "metadata": {
    "collapsed": false
   },
   "id": "299cc372c871d482"
  },
  {
   "cell_type": "code",
   "execution_count": null,
   "outputs": [],
   "source": [
    "respuesta_tupla"
   ],
   "metadata": {
    "collapsed": false
   },
   "id": "152c470c3293133d"
  },
  {
   "cell_type": "code",
   "execution_count": null,
   "outputs": [],
   "source": [
    "timeseries, labels_ranges = load_timeseries_data(filelist=file_names, signals=signals, is_peak_minima=True)"
   ],
   "metadata": {
    "collapsed": false
   },
   "id": "ded270ea45910295"
  },
  {
   "cell_type": "code",
   "execution_count": null,
   "outputs": [],
   "source": [
    "timeseries"
   ],
   "metadata": {
    "collapsed": false
   },
   "id": "2fa80b7b4ad5477b"
  },
  {
   "cell_type": "code",
   "execution_count": null,
   "outputs": [],
   "source": [
    "timeseries.columns"
   ],
   "metadata": {
    "collapsed": false
   },
   "id": "21ecbd00ab5e8854"
  },
  {
   "cell_type": "code",
   "execution_count": null,
   "outputs": [],
   "source": [
    "labels_ranges"
   ],
   "metadata": {
    "collapsed": false
   },
   "id": "259d15f0d9f79ad3"
  },
  {
   "cell_type": "code",
   "execution_count": null,
   "outputs": [],
   "source": [
    "# Takes time\n",
    "plot_labeled_sequence(timeseries, labels_ranges[0:5])"
   ],
   "metadata": {
    "collapsed": false
   },
   "id": "36de09c91f9c2e8a"
  }
 ],
 "metadata": {
  "kernelspec": {
   "display_name": "Python 3",
   "language": "python",
   "name": "python3"
  },
  "language_info": {
   "codemirror_mode": {
    "name": "ipython",
    "version": 2
   },
   "file_extension": ".py",
   "mimetype": "text/x-python",
   "name": "python",
   "nbconvert_exporter": "python",
   "pygments_lexer": "ipython2",
   "version": "2.7.6"
  }
 },
 "nbformat": 4,
 "nbformat_minor": 5
}
