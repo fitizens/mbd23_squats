{
 "cells": [
  {
   "cell_type": "markdown",
   "id": "7a26496c-e3c9-47b2-b136-ada4d9bf20b6",
   "metadata": {},
   "source": [
    "# ETL "
   ]
  },
  {
   "cell_type": "markdown",
   "id": "61a4e21b-46d2-4dc4-a9d3-03a902964a5d",
   "metadata": {},
   "source": [
    "Lo primero que hacemos es llamar las funciones: `Fitizens_libraries` es la carpeta en la que se encuentan los archivos .py con las funciones:"
   ]
  },
  {
   "cell_type": "code",
   "execution_count": null,
   "id": "48a99f12-cbfb-40cf-b151-f245b00bb21c",
   "metadata": {},
   "outputs": [],
   "source": [
    "from fitizens_libraries.load_and_process_training_data import load_training_data\n",
    "from fitizens_libraries.load_timeseries import load_timeseries_data\n",
    "from custom_libraries.merge_data import merge_data\n",
    "import plotly.express as px\n",
    "import seaborn as sns\n",
    "import matplotlib.pyplot as plt\n",
    "from fitizens_libraries.plot_labeled_sequences import plot_labeled_sequence\n",
    "from statsmodels.graphics.tsaplots import plot_acf, plot_pacf\n",
    "from fitizens_libraries.build_dataframe_from_list_of_signals import build_dataframe\n",
    "import pandas as pd\n",
    "import os"
   ]
  },
  {
   "cell_type": "markdown",
   "id": "cac128ea-2812-4761-8d8e-e14121b2f6bc",
   "metadata": {},
   "source": [
    "Para el proceso de ETL lo que haremos será utilizar la función de `load_training_data`:\n",
    "1. Basicamente nos busca los archivos JSON en la carpeta zip en la que se encuentren y los carga.\n",
    "2. Intenta buscar repeticiones falsas y verdaderas del ejercicio \n",
    "3. Se filtran las repeticiones falsas para que tengan una duración dentro del rango de las repeticiones reales.\n",
    "\n",
    "Es importante tener en cuenta que la función me exige unos hiperparametros obligatorios que tengo que indicar:\n",
    "\n",
    "- signals : list of str\n",
    "    List of signals to include in the dataframe. The signals must be present in the input data\n",
    "- target_exercise : str\n",
    "        Exercise to detect repetitions\n",
    "- other_exercises : list of str\n",
    "        List of exercises to use as negative examples"
   ]
  },
  {
   "cell_type": "code",
   "execution_count": null,
   "id": "71fa3214-5820-4217-bc37-8f54635e4c87",
   "metadata": {},
   "outputs": [],
   "source": [
    "folder_path = \"LABELED\"\n",
    "os.makedirs(folder_path, exist_ok=True) #Referenciamos la carpeta LABELED en la que están las carpetas zip con los json\n",
    "#Ahora voy a iterar en esa carpeta LABELED para obtener la ruta de los archivos, que es el LABELED/NOMBRE y eso lo guardo en una lista\n",
    "file_names = []\n",
    "for name in os.listdir(folder_path):\n",
    "    file_path = f\"{folder_path}/{name}\"\n",
    "    file_names.append(file_path)\n",
    "#Ahora tengo que especificar mis features \n",
    "signals = [\"accX\", \"accY\", \"accZ\", \"gyroX\", \"gyroY\", \"gyroZ\", \"magnX\", \"magnY\", \"magnZ\", \"linAccX\", \"linAccY\", \"linAccZ\"]\n",
    "#Indico mi target\n",
    "target_exercise=\"SQUAT\""
   ]
  },
  {
   "cell_type": "code",
   "execution_count": null,
   "outputs": [],
   "source": [
    "len(file_names)"
   ],
   "metadata": {
    "collapsed": false
   },
   "id": "7532dd215af99b84"
  },
  {
   "cell_type": "code",
   "execution_count": null,
   "id": "92e3732d-a355-44ff-98cb-fa4e20bbf83c",
   "metadata": {},
   "outputs": [],
   "source": [
    "data,wk = load_training_data(filelist=file_names,\n",
    "                         signals= signals,\n",
    "                          target_exercise=target_exercise, other_exercises=[], is_peak_minima=True)"
   ]
  },
  {
   "cell_type": "code",
   "execution_count": null,
   "id": "c0548b11-4182-41aa-a283-c1fd634af621",
   "metadata": {
    "collapsed": true,
    "jupyter": {
     "outputs_hidden": true
    },
    "tags": []
   },
   "outputs": [],
   "source": [
    "#Revisamos\n",
    "#data\n",
    "len(data)"
   ]
  },
  {
   "cell_type": "code",
   "execution_count": null,
   "outputs": [],
   "source": [
    "df = merge_data(data)\n",
    "len(df)"
   ],
   "metadata": {
    "collapsed": false
   },
   "id": "76970bdf9ff0b8c2"
  },
  {
   "cell_type": "code",
   "execution_count": null,
   "outputs": [],
   "source": [
    "df.head()"
   ],
   "metadata": {
    "collapsed": false
   },
   "id": "e903e2f14be6626a"
  },
  {
   "cell_type": "code",
   "execution_count": null,
   "id": "ab985f9a-3c55-4d90-bd46-b45d91700cb4",
   "metadata": {},
   "outputs": [],
   "source": [
    "df.columns"
   ]
  },
  {
   "cell_type": "markdown",
   "source": [
    "Ahora voy a convertir esto en un problema de clasificacion binario; para ello, voy a crear una columna de exercise, en la que segun la columna `exercising_periods` me diga si hay o no un squad. Si esa columna tiene un cero, indica que no hay squad, de lo contrario es un squad."
   ],
   "metadata": {
    "collapsed": false
   },
   "id": "469838a80cb45145"
  },
  {
   "cell_type": "code",
   "execution_count": null,
   "outputs": [],
   "source": [
    "def nueva_columna(exercise):\n",
    "    if exercise == 0:\n",
    "        return 'no exercise'\n",
    "    else:\n",
    "        return 'squad'\n",
    "df['squad'] = df['exercising_periods'].apply(nueva_columna)"
   ],
   "metadata": {
    "collapsed": false
   },
   "id": "9ff0ab444e9145fc"
  },
  {
   "cell_type": "code",
   "execution_count": null,
   "outputs": [],
   "source": [
    "df.head()"
   ],
   "metadata": {
    "collapsed": false
   },
   "id": "6c6c2f4fd62300b6"
  },
  {
   "cell_type": "code",
   "execution_count": null,
   "outputs": [],
   "source": [
    "df.info()"
   ],
   "metadata": {
    "collapsed": false
   },
   "id": "d297188dd9ad1886"
  },
  {
   "cell_type": "code",
   "execution_count": null,
   "outputs": [],
   "source": [
    "#revisar porcentaje de valores nulos por columnas\n",
    "((df.isnull().sum())/len(df))*100"
   ],
   "metadata": {
    "collapsed": false
   },
   "id": "7c36691aa9ad580a"
  },
  {
   "cell_type": "code",
   "execution_count": null,
   "outputs": [],
   "source": [
    "sns.countplot(x=df['squad'], label = \"squad\")"
   ],
   "metadata": {
    "collapsed": false
   },
   "id": "5f706319f45b59b8"
  },
  {
   "cell_type": "code",
   "execution_count": null,
   "outputs": [],
   "source": [
    "df.index"
   ],
   "metadata": {
    "collapsed": false
   },
   "id": "362130a7869ada2c"
  },
  {
   "cell_type": "code",
   "execution_count": null,
   "outputs": [],
   "source": [
    "fig = px.line(df, x=df.index, y='linAccZ', title='Time serie of exercise linAccZ',color='squad')\n",
    "fig.show()"
   ],
   "metadata": {
    "collapsed": false
   },
   "id": "851b313356caf3d8"
  },
  {
   "cell_type": "code",
   "execution_count": null,
   "outputs": [],
   "source": [
    "fig = px.box(df, y=\"linAccZ\", color=\"squad\",title = 'Distribution of linAccZ vs target variable')\n",
    "fig.update_traces(quartilemethod=\"exclusive\") \n",
    "fig.show()"
   ],
   "metadata": {
    "collapsed": false
   },
   "id": "40b273a2736a7321"
  },
  {
   "cell_type": "code",
   "execution_count": null,
   "outputs": [],
   "source": [
    "fig = px.box(df, y=\"linAccY\", color=\"squad\",title = 'Distribution of linAccY vs target variable')\n",
    "fig.update_traces(quartilemethod=\"exclusive\") \n",
    "fig.show()"
   ],
   "metadata": {
    "collapsed": false
   },
   "id": "2deb6671b27b5dbd"
  },
  {
   "cell_type": "code",
   "execution_count": null,
   "outputs": [],
   "source": [
    "fig = px.box(df, y=\"linAccX\", color=\"squad\",title = 'Distribution of linAccX vs target variable')\n",
    "fig.update_traces(quartilemethod=\"exclusive\") \n",
    "fig.show()"
   ],
   "metadata": {
    "collapsed": false
   },
   "id": "6436e7eb48e43157"
  },
  {
   "cell_type": "code",
   "execution_count": null,
   "outputs": [],
   "source": [
    "fig = px.box(df, y=\"accZ_mod\", color=\"squad\",title = 'Distribution of accZ_mod vs target variable')\n",
    "fig.update_traces(quartilemethod=\"exclusive\") \n",
    "fig.show()"
   ],
   "metadata": {
    "collapsed": false
   },
   "id": "606aad252d7a3211"
  },
  {
   "cell_type": "code",
   "execution_count": null,
   "outputs": [],
   "source": [
    "fig = px.box(df, y=\"accX_mod\", color=\"squad\",title = 'Distribution of accX_mod vs target variable')\n",
    "fig.update_traces(quartilemethod=\"exclusive\") \n",
    "fig.show()"
   ],
   "metadata": {
    "collapsed": false
   },
   "id": "42cb1c86c3da8a31"
  },
  {
   "cell_type": "code",
   "execution_count": null,
   "outputs": [],
   "source": [
    "fig = px.box(df, y=\"accY_mod\", color=\"squad\",title = 'Distribution of accY_mod vs target variable')\n",
    "fig.update_traces(quartilemethod=\"exclusive\") \n",
    "fig.show()"
   ],
   "metadata": {
    "collapsed": false
   },
   "id": "1e197e006d97a758"
  },
  {
   "cell_type": "code",
   "execution_count": null,
   "id": "37419811-3fc6-4e1d-9af0-9032539acd7f",
   "metadata": {},
   "outputs": [],
   "source": [
    "timeseries, labels_ranges = load_timeseries_data(filelist=file_names, signals=signals, is_peak_minima=True)"
   ]
  },
  {
   "cell_type": "code",
   "execution_count": null,
   "id": "51f8aa25-2765-4beb-b90f-1c2369eaae94",
   "metadata": {},
   "outputs": [],
   "source": [
    "timeseries.columns"
   ]
  },
  {
   "cell_type": "code",
   "execution_count": null,
   "id": "619064f6-c823-4477-91c9-ca4a617d6fd2",
   "metadata": {},
   "outputs": [],
   "source": [
    "plot_labeled_sequence(timeseries, labels_ranges[0:5])"
   ]
  },
  {
   "cell_type": "code",
   "execution_count": null,
   "outputs": [],
   "source": [
    "labels_ranges"
   ],
   "metadata": {
    "collapsed": false
   },
   "id": "a3cd84d79bb68617"
  },
  {
   "cell_type": "code",
   "execution_count": null,
   "outputs": [],
   "source": [
    "y = df['exercising_periods']\n",
    "\n",
    "num_lags=24 # to discuss\n",
    "\n",
    "plt.plot(y)\n",
    "plt.show()\n",
    "plot_acf(y,lags=num_lags)\n",
    "plt.show()\n",
    "plot_pacf(y,lags=num_lags,method=\"ols\")\n",
    "plt.show()"
   ],
   "metadata": {
    "collapsed": false
   },
   "id": "ae82b7ca183887bd"
  },
  {
   "cell_type": "code",
   "execution_count": null,
   "outputs": [],
   "source": [],
   "metadata": {
    "collapsed": false
   },
   "id": "ed1f57bae74316f4"
  }
 ],
 "metadata": {
  "kernelspec": {
   "display_name": "Python 3 (ipykernel)",
   "language": "python",
   "name": "python3"
  },
  "language_info": {
   "codemirror_mode": {
    "name": "ipython",
    "version": 3
   },
   "file_extension": ".py",
   "mimetype": "text/x-python",
   "name": "python",
   "nbconvert_exporter": "python",
   "pygments_lexer": "ipython3",
   "version": "3.10.13"
  }
 },
 "nbformat": 4,
 "nbformat_minor": 5
}
