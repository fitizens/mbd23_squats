{
 "cells": [
  {
   "cell_type": "markdown",
   "id": "7a26496c-e3c9-47b2-b136-ada4d9bf20b6",
   "metadata": {
    "jp-MarkdownHeadingCollapsed": true,
    "tags": []
   },
   "source": [
    "# ETL "
   ]
  },
  {
   "cell_type": "markdown",
   "id": "61a4e21b-46d2-4dc4-a9d3-03a902964a5d",
   "metadata": {},
   "source": [
    "Lo primero que hacemos es llamar las funciones: `Fitizens_libraries` es la carpeta en la que se encuentan los archivos .py con las funciones:"
   ]
  },
  {
   "cell_type": "code",
   "execution_count": null,
   "id": "48a99f12-cbfb-40cf-b151-f245b00bb21c",
   "metadata": {},
   "outputs": [],
   "source": [
    "from fitizens_libraries.load_and_process_training_data import load_training_data\n",
    "from fitizens_libraries.load_timeseries import load_timeseries_data\n",
    "from custom_libraries.merge_data import merge_data\n",
    "import plotly.express as px\n",
    "import seaborn as sns\n",
    "import matplotlib.pyplot as plt\n",
    "from fitizens_libraries.plot_labeled_sequences import plot_labeled_sequence\n",
    "from statsmodels.graphics.tsaplots import plot_acf, plot_pacf\n",
    "from matplotlib import pyplot\n",
    "from fitizens_libraries.build_dataframe_from_list_of_signals import build_dataframe\n",
    "import pandas as pd\n",
    "import os\n",
    "from collections import Counter\n",
    "from sklearn.preprocessing import OneHotEncoder, StandardScaler\n",
    "from sklearn.model_selection import train_test_split \n",
    "from sklearn.feature_selection import SelectKBest, f_classif\n",
    "from sklearn.preprocessing import LabelEncoder\n",
    "from imblearn.over_sampling import SMOTE\n",
    "from sklearn.metrics import accuracy_score\n",
    "from sklearn.metrics import confusion_matrix, classification_report\n",
    "from sklearn.metrics import roc_auc_score, roc_curve, classification_report, auc, roc_auc_score\n",
    "import plotly.graph_objects as go\n",
    "from sklearn.metrics import accuracy_score, precision_score, recall_score, f1_score\n",
    "from sklearn.metrics import roc_curve, auc"
   ]
  },
  {
   "cell_type": "markdown",
   "id": "cac128ea-2812-4761-8d8e-e14121b2f6bc",
   "metadata": {},
   "source": [
    "Para el proceso de ETL lo que haremos será utilizar la función de `load_training_data`:\n",
    "1. Basicamente nos busca los archivos JSON en la carpeta zip en la que se encuentren y los carga.\n",
    "2. Intenta buscar repeticiones falsas y verdaderas del ejercicio \n",
    "3. Se filtran las repeticiones falsas para que tengan una duración dentro del rango de las repeticiones reales.\n",
    "\n",
    "Es importante tener en cuenta que la función me exige unos hiperparametros obligatorios que tengo que indicar:\n",
    "\n",
    "- signals : list of str\n",
    "    List of signals to include in the dataframe. The signals must be present in the input data\n",
    "- target_exercise : str\n",
    "        Exercise to detect repetitions\n",
    "- other_exercises : list of str\n",
    "        List of exercises to use as negative examples"
   ]
  },
  {
   "cell_type": "code",
   "execution_count": null,
   "id": "71fa3214-5820-4217-bc37-8f54635e4c87",
   "metadata": {},
   "outputs": [],
   "source": [
    "folder_path = \"LABELED\"\n",
    "os.makedirs(folder_path, exist_ok=True) #Referenciamos la carpeta LABELED en la que están las carpetas zip con los json\n",
    "#Ahora voy a iterar en esa carpeta LABELED para obtener la ruta de los archivos, que es el LABELED/NOMBRE y eso lo guardo en una lista\n",
    "file_names = []\n",
    "for name in os.listdir(folder_path):\n",
    "    file_path = f\"{folder_path}/{name}\"\n",
    "    file_names.append(file_path)\n",
    "#Ahora tengo que especificar mis features \n",
    "signals = [\"accX\", \"accY\", \"accZ\", \"gyroX\", \"gyroY\", \"gyroZ\", \"magnX\", \"magnY\", \"magnZ\", \"linAccX\", \"linAccY\", \"linAccZ\"]\n",
    "#Indico mi target\n",
    "target_exercise=\"SQUAT\""
   ]
  },
  {
   "cell_type": "code",
   "execution_count": null,
   "id": "7532dd215af99b84",
   "metadata": {
    "collapsed": false
   },
   "outputs": [],
   "source": [
    "len(file_names)"
   ]
  },
  {
   "cell_type": "code",
   "execution_count": null,
   "id": "92e3732d-a355-44ff-98cb-fa4e20bbf83c",
   "metadata": {},
   "outputs": [],
   "source": [
    "data,wk = load_training_data(filelist=file_names,\n",
    "                         signals= signals,\n",
    "                          target_exercise=target_exercise, other_exercises=[], is_peak_minima=True)"
   ]
  },
  {
   "cell_type": "code",
   "execution_count": null,
   "id": "de4f4e51e52cbd3a",
   "metadata": {
    "collapsed": false
   },
   "outputs": [],
   "source": [
    "#df2=build_dataframe(data)"
   ]
  },
  {
   "cell_type": "code",
   "execution_count": null,
   "id": "352817b3e8ea798f",
   "metadata": {
    "collapsed": false
   },
   "outputs": [],
   "source": [
    "#df2.head()"
   ]
  },
  {
   "cell_type": "code",
   "execution_count": null,
   "id": "9b069a81a58c0a98",
   "metadata": {
    "tags": []
   },
   "outputs": [],
   "source": [
    "data[0]"
   ]
  },
  {
   "cell_type": "code",
   "execution_count": null,
   "id": "c0548b11-4182-41aa-a283-c1fd634af621",
   "metadata": {
    "tags": []
   },
   "outputs": [],
   "source": [
    "#Revisamos\n",
    "#data\n",
    "len(data)"
   ]
  },
  {
   "cell_type": "code",
   "execution_count": null,
   "id": "ed14bd00ad1b2575",
   "metadata": {
    "collapsed": false
   },
   "outputs": [],
   "source": [
    "data[1]['target']"
   ]
  },
  {
   "cell_type": "code",
   "execution_count": null,
   "id": "76970bdf9ff0b8c2",
   "metadata": {
    "collapsed": false
   },
   "outputs": [],
   "source": [
    "df = merge_data(data)\n",
    "len(df)"
   ]
  },
  {
   "cell_type": "code",
   "execution_count": null,
   "id": "e903e2f14be6626a",
   "metadata": {
    "collapsed": false
   },
   "outputs": [],
   "source": [
    "df.head()"
   ]
  },
  {
   "cell_type": "code",
   "execution_count": null,
   "id": "ab985f9a-3c55-4d90-bd46-b45d91700cb4",
   "metadata": {},
   "outputs": [],
   "source": [
    "df.columns"
   ]
  },
  {
   "cell_type": "markdown",
   "id": "469838a80cb45145",
   "metadata": {},
   "source": [
    "Ahora voy a convertir esto en un problema de clasificacion binario; para ello, voy a crear una columna de exercise, en la que segun la columna `exercising_periods` me diga si hay o no un squad. Si esa columna tiene un cero, indica que no hay squad, de lo contrario es un squad."
   ]
  },
  {
   "cell_type": "code",
   "execution_count": null,
   "id": "9ff0ab444e9145fc",
   "metadata": {
    "collapsed": false
   },
   "outputs": [],
   "source": [
    "def nueva_columna(exercise):\n",
    "    if exercise == 0:\n",
    "        return 'no exercise'\n",
    "    else:\n",
    "        return 'squad'\n",
    "df['squad'] = df['exercising_periods'].apply(nueva_columna)"
   ]
  },
  {
   "cell_type": "code",
   "execution_count": null,
   "id": "6c6c2f4fd62300b6",
   "metadata": {
    "collapsed": false
   },
   "outputs": [],
   "source": [
    "df.head()"
   ]
  },
  {
   "cell_type": "code",
   "execution_count": null,
   "id": "d297188dd9ad1886",
   "metadata": {
    "collapsed": false
   },
   "outputs": [],
   "source": [
    "df.info()"
   ]
  },
  {
   "cell_type": "markdown",
   "id": "defc710a-6ac1-4c61-b612-0134506f8855",
   "metadata": {
    "jp-MarkdownHeadingCollapsed": true,
    "tags": []
   },
   "source": [
    "# EDA"
   ]
  },
  {
   "cell_type": "code",
   "execution_count": null,
   "id": "7c36691aa9ad580a",
   "metadata": {
    "collapsed": false
   },
   "outputs": [],
   "source": [
    "#revisar porcentaje de valores nulos por columnas\n",
    "((df.isnull().sum())/len(df))*100"
   ]
  },
  {
   "cell_type": "code",
   "execution_count": null,
   "id": "5f706319f45b59b8",
   "metadata": {
    "collapsed": false
   },
   "outputs": [],
   "source": [
    "sns.countplot(x=df['squad'], label = \"squad\")"
   ]
  },
  {
   "cell_type": "code",
   "execution_count": null,
   "id": "362130a7869ada2c",
   "metadata": {
    "collapsed": false
   },
   "outputs": [],
   "source": [
    "df.index"
   ]
  },
  {
   "cell_type": "code",
   "execution_count": null,
   "id": "851b313356caf3d8",
   "metadata": {
    "collapsed": false
   },
   "outputs": [],
   "source": [
    "fig = px.line(df, x=df.index, y='linAccZ', title='Time serie of exercise linAccZ',color='squad')\n",
    "fig.show()"
   ]
  },
  {
   "cell_type": "code",
   "execution_count": null,
   "id": "40b273a2736a7321",
   "metadata": {
    "collapsed": false
   },
   "outputs": [],
   "source": [
    "fig = px.box(df, y=\"linAccZ\", color=\"squad\",title = 'Distribution of linAccZ vs target variable')\n",
    "fig.update_traces(quartilemethod=\"exclusive\") \n",
    "fig.show()"
   ]
  },
  {
   "cell_type": "code",
   "execution_count": null,
   "id": "2deb6671b27b5dbd",
   "metadata": {
    "collapsed": false
   },
   "outputs": [],
   "source": [
    "fig = px.box(df, y=\"linAccY\", color=\"squad\",title = 'Distribution of linAccY vs target variable')\n",
    "fig.update_traces(quartilemethod=\"exclusive\") \n",
    "fig.show()"
   ]
  },
  {
   "cell_type": "code",
   "execution_count": null,
   "id": "6436e7eb48e43157",
   "metadata": {
    "collapsed": false
   },
   "outputs": [],
   "source": [
    "fig = px.box(df, y=\"linAccX\", color=\"squad\",title = 'Distribution of linAccX vs target variable')\n",
    "fig.update_traces(quartilemethod=\"exclusive\") \n",
    "fig.show()"
   ]
  },
  {
   "cell_type": "code",
   "execution_count": null,
   "id": "606aad252d7a3211",
   "metadata": {
    "collapsed": false
   },
   "outputs": [],
   "source": [
    "fig = px.box(df, y=\"accZ_mod\", color=\"squad\",title = 'Distribution of accZ_mod vs target variable')\n",
    "fig.update_traces(quartilemethod=\"exclusive\") \n",
    "fig.show()"
   ]
  },
  {
   "cell_type": "code",
   "execution_count": null,
   "id": "42cb1c86c3da8a31",
   "metadata": {
    "collapsed": false
   },
   "outputs": [],
   "source": [
    "fig = px.box(df, y=\"accX_mod\", color=\"squad\",title = 'Distribution of accX_mod vs target variable')\n",
    "fig.update_traces(quartilemethod=\"exclusive\") \n",
    "fig.show()"
   ]
  },
  {
   "cell_type": "code",
   "execution_count": null,
   "id": "1e197e006d97a758",
   "metadata": {
    "collapsed": false
   },
   "outputs": [],
   "source": [
    "fig = px.box(df, y=\"accY_mod\", color=\"squad\",title = 'Distribution of accY_mod vs target variable')\n",
    "fig.update_traces(quartilemethod=\"exclusive\") \n",
    "fig.show()"
   ]
  },
  {
   "cell_type": "code",
   "execution_count": null,
   "id": "37419811-3fc6-4e1d-9af0-9032539acd7f",
   "metadata": {},
   "outputs": [],
   "source": [
    "timeseries, labels_ranges = load_timeseries_data(filelist=file_names, signals=signals, is_peak_minima=True)"
   ]
  },
  {
   "cell_type": "code",
   "execution_count": null,
   "id": "51f8aa25-2765-4beb-b90f-1c2369eaae94",
   "metadata": {},
   "outputs": [],
   "source": [
    "timeseries.columns"
   ]
  },
  {
   "cell_type": "code",
   "execution_count": null,
   "id": "619064f6-c823-4477-91c9-ca4a617d6fd2",
   "metadata": {},
   "outputs": [],
   "source": [
    "plot_labeled_sequence(timeseries, labels_ranges[0:5])"
   ]
  },
  {
   "cell_type": "code",
   "execution_count": null,
   "id": "a3cd84d79bb68617",
   "metadata": {
    "tags": []
   },
   "outputs": [],
   "source": [
    "labels_ranges"
   ]
  },
  {
   "cell_type": "code",
   "execution_count": null,
   "id": "ae82b7ca183887bd",
   "metadata": {
    "tags": []
   },
   "outputs": [],
   "source": [
    "y = df['exercising_periods']\n",
    "\n",
    "num_lags=24 # to discuss\n",
    "\n",
    "plt.plot(y)\n",
    "plt.show()\n",
    "plot_acf(y,lags=num_lags)\n",
    "plt.show()\n",
    "plot_pacf(y,lags=num_lags,method=\"ols\")\n",
    "plt.show()"
   ]
  },
  {
   "cell_type": "code",
   "execution_count": null,
   "id": "dea95cf0c62f5269",
   "metadata": {
    "collapsed": false
   },
   "outputs": [],
   "source": [
    "import statsmodels as sm\n",
    "\n",
    "# Ho: the process is not stationary. We need, at least, a unit root\n",
    "# H1: the process is stationary. We have to check different models (lags)\n",
    "\n",
    "\n",
    "adf_test = sm.tsa.stattools.adfuller(y,maxlag=10) \n",
    "# print(\"adf_test\", adf_test) # first output \"The test statistic\", second output \"p-value\"\n",
    "print(\"ADF test for the original series\")\n",
    "print(\"Statistic Value:\" , adf_test[0])\n",
    "print(\"p-value:\" , adf_test[1])\n",
    "# print(sm.__version__)"
   ]
  },
  {
   "cell_type": "code",
   "execution_count": null,
   "id": "ed1f57bae74316f4",
   "metadata": {
    "collapsed": false
   },
   "outputs": [],
   "source": [
    "prim_1000 = df.head(1000)"
   ]
  },
  {
   "cell_type": "code",
   "execution_count": null,
   "id": "208414d0c789373a",
   "metadata": {
    "tags": []
   },
   "outputs": [],
   "source": [
    "fig = px.line(prim_1000, x=prim_1000.index, y='linAccZ', title='Time serie of exercise linAccZ')\n",
    "fig.show()"
   ]
  },
  {
   "cell_type": "code",
   "execution_count": null,
   "id": "99f4049b988344e1",
   "metadata": {
    "collapsed": false
   },
   "outputs": [],
   "source": [
    "siguientes_2000 = df.tail(len(df) - 1000).head(1500)"
   ]
  },
  {
   "cell_type": "code",
   "execution_count": null,
   "id": "45cf2eed32f3954b",
   "metadata": {
    "tags": []
   },
   "outputs": [],
   "source": [
    "fig = px.line(siguientes_2000, x=siguientes_2000.index, y='linAccZ', title='Time serie of exercise linAccZ')\n",
    "fig.show()"
   ]
  },
  {
   "cell_type": "markdown",
   "id": "32d201f6-c79d-4aab-a5e0-84b73af6d0d0",
   "metadata": {
    "jp-MarkdownHeadingCollapsed": true,
    "tags": []
   },
   "source": [
    "# Data prep for model"
   ]
  },
  {
   "cell_type": "code",
   "execution_count": null,
   "id": "4162476d-83d8-44e2-9f16-167519475b54",
   "metadata": {},
   "outputs": [],
   "source": [
    "df = merge_data(data)\n",
    "len(df)"
   ]
  },
  {
   "cell_type": "code",
   "execution_count": null,
   "id": "49f1230d-5063-4261-9205-e46e9e61a7d5",
   "metadata": {},
   "outputs": [],
   "source": [
    "serie = pd.concat([item['series'] for item in data])"
   ]
  },
  {
   "cell_type": "code",
   "execution_count": null,
   "id": "2dbe604e-c69c-4958-baec-d75096088d9a",
   "metadata": {},
   "outputs": [],
   "source": [
    "serie.head()"
   ]
  },
  {
   "cell_type": "code",
   "execution_count": null,
   "id": "dcf9653b-fe1e-4eb1-9f0d-b7d567d212c8",
   "metadata": {},
   "outputs": [],
   "source": [
    "len(serie)"
   ]
  },
  {
   "cell_type": "code",
   "execution_count": null,
   "id": "232a836b-a409-4d6e-a434-f205fc14036e",
   "metadata": {},
   "outputs": [],
   "source": [
    "frames = []\n",
    "target = []\n",
    "for item in data:\n",
    "    frames.append(item['series'])\n",
    "    target.append(item['target'])\n",
    "\n",
    "df = pd.concat(frames)\n",
    "#df['target'] = target"
   ]
  },
  {
   "cell_type": "code",
   "execution_count": null,
   "id": "2ad7082f-6041-4f8c-a2f6-8b5cc15014a2",
   "metadata": {},
   "outputs": [],
   "source": [
    "len(frames)"
   ]
  },
  {
   "cell_type": "code",
   "execution_count": null,
   "id": "d871b1ce-3faa-4a33-90a7-8c2ecd6b8832",
   "metadata": {},
   "outputs": [],
   "source": [
    "len(target)"
   ]
  },
  {
   "cell_type": "code",
   "execution_count": null,
   "id": "ad8d0586-c799-4df7-9c22-97ccec1d5fb2",
   "metadata": {},
   "outputs": [],
   "source": [
    "Counter(target)"
   ]
  },
  {
   "cell_type": "code",
   "execution_count": null,
   "id": "e719aa4a-539f-4920-b6a6-8c34d945e34f",
   "metadata": {
    "tags": []
   },
   "outputs": [],
   "source": [
    "#vamos a crear un dataframe con los promedios\n",
    "promedios_df = pd.DataFrame()\n",
    "\n",
    "# Iterar sobre cada diccionario en la lista\n",
    "for diccionario in data:\n",
    "    # Convertir el diccionario a un DataFrame\n",
    "    df = diccionario['series']\n",
    "\n",
    "    # Calcular el promedio de cada columna y agregarlo al DataFrame de promedios\n",
    "    promedio_serie = df.mean()\n",
    "    promedios_df = promedios_df.append(promedio_serie,ignore_index=True)\n",
    "\n",
    "# Agregar la columna 'target' al DataFrame de promedios\n",
    "promedios_df['target'] = [diccionario['target'] for diccionario in data]"
   ]
  },
  {
   "cell_type": "code",
   "execution_count": null,
   "id": "61247c04-8279-4d11-8ffb-ccc5e00d126c",
   "metadata": {},
   "outputs": [],
   "source": [
    "promedios_df.head()"
   ]
  },
  {
   "cell_type": "code",
   "execution_count": null,
   "id": "6fcd9263-f13b-4f4c-8277-c64a777288c6",
   "metadata": {},
   "outputs": [],
   "source": [
    "#verificamos la longitud del dataframe que coincida con los 3805\n",
    "len(promedios_df)"
   ]
  },
  {
   "cell_type": "code",
   "execution_count": null,
   "id": "ea81d21c-c9e0-4ab4-8591-5323dce0bddf",
   "metadata": {},
   "outputs": [],
   "source": [
    "#verificamos que el target siga desbalanceado y coincidan los numeros\n",
    "promedios_df.groupby('target').size()"
   ]
  },
  {
   "cell_type": "code",
   "execution_count": null,
   "id": "50d41dce-63cd-46c0-8f52-7a456b39b9e7",
   "metadata": {},
   "outputs": [],
   "source": [
    "promedios_df.info()"
   ]
  },
  {
   "cell_type": "code",
   "execution_count": null,
   "id": "15710941-7588-462a-a0f8-0b2439c87604",
   "metadata": {},
   "outputs": [],
   "source": [
    "promedios_df.head()"
   ]
  },
  {
   "cell_type": "code",
   "execution_count": null,
   "id": "ce560ff6-8882-4c2d-94ea-60151f61c6a0",
   "metadata": {},
   "outputs": [],
   "source": [
    "sns.countplot(x=promedios_df['target'], label = \"squad\")"
   ]
  },
  {
   "cell_type": "code",
   "execution_count": null,
   "id": "b597a873-43ab-4d35-8861-371ee0896882",
   "metadata": {},
   "outputs": [],
   "source": [
    "fig = px.box(promedios_df, y=\"linAccZ\", color=\"target\",title = 'Distribution of linAccZ vs target variable')\n",
    "fig.update_traces(quartilemethod=\"exclusive\")\n",
    "fig.show()"
   ]
  },
  {
   "cell_type": "code",
   "execution_count": null,
   "id": "d0aef017-b398-4929-b6ce-e515dfbd34cd",
   "metadata": {},
   "outputs": [],
   "source": [
    "fig = px.box(promedios_df, y=\"linAccZ_orig\", color=\"target\",title = 'Distribution of linAccZ_orig vs target variable')\n",
    "fig.update_traces(quartilemethod=\"exclusive\")\n",
    "fig.show()"
   ]
  },
  {
   "cell_type": "code",
   "execution_count": null,
   "id": "ea70d7e1-b1a4-4bc9-8244-20f1ddea3477",
   "metadata": {},
   "outputs": [],
   "source": [
    "fig = px.box(promedios_df, y=\"linAccY\", color=\"target\",title = 'Distribution of linAccY vs target variable')\n",
    "fig.update_traces(quartilemethod=\"exclusive\")\n",
    "fig.show()"
   ]
  },
  {
   "cell_type": "code",
   "execution_count": null,
   "id": "96abeea8-65fa-400d-8657-98ee8cdfd4c1",
   "metadata": {},
   "outputs": [],
   "source": [
    "fig = px.box(promedios_df, y=\"linAccY_orig\", color=\"target\",title = 'Distribution of linAccY_orig vs target variable')\n",
    "fig.update_traces(quartilemethod=\"exclusive\")\n",
    "fig.show()"
   ]
  },
  {
   "cell_type": "code",
   "execution_count": null,
   "id": "94f855c6-c5d0-4c34-ba32-5f9df1aa9d7a",
   "metadata": {},
   "outputs": [],
   "source": [
    "fig = px.box(promedios_df, y=\"linAccX\", color=\"target\",title = 'Distribution of linAccX vs target variable')\n",
    "fig.update_traces(quartilemethod=\"exclusive\")\n",
    "fig.show()"
   ]
  },
  {
   "cell_type": "code",
   "execution_count": null,
   "id": "293f8602-5cf8-41e3-8d79-0eb4ee3925e4",
   "metadata": {},
   "outputs": [],
   "source": [
    "fig = px.box(promedios_df, y=\"linAccX_orig\", color=\"target\",title = 'Distribution of linAccX_orig vs target variable')\n",
    "fig.update_traces(quartilemethod=\"exclusive\")\n",
    "fig.show()"
   ]
  },
  {
   "cell_type": "code",
   "execution_count": null,
   "id": "5d891694-b379-4abc-a03a-e667e9476cc7",
   "metadata": {},
   "outputs": [],
   "source": [
    "fig = px.box(promedios_df, y=\"accZ_mod\", color=\"target\",title = 'Distribution of accZ_mod vs target variable')\n",
    "fig.update_traces(quartilemethod=\"exclusive\")\n",
    "fig.show()"
   ]
  },
  {
   "cell_type": "code",
   "execution_count": null,
   "id": "18f82a97-2549-40dc-9107-ef66446ed1c2",
   "metadata": {},
   "outputs": [],
   "source": [
    "fig = px.box(promedios_df, y=\"accZ_orig\", color=\"target\",title = 'Distribution of accZ_orig vs target variable')\n",
    "fig.update_traces(quartilemethod=\"exclusive\")\n",
    "fig.show()"
   ]
  },
  {
   "cell_type": "code",
   "execution_count": null,
   "id": "9161386e-1a19-4a15-b048-e80afa95c090",
   "metadata": {},
   "outputs": [],
   "source": [
    "fig = px.box(promedios_df, y=\"accX_mod\", color=\"target\",title = 'Distribution of accX_mod vs target variable')\n",
    "fig.update_traces(quartilemethod=\"exclusive\")\n",
    "fig.show()"
   ]
  },
  {
   "cell_type": "code",
   "execution_count": null,
   "id": "2b250142-be25-4320-b6cf-00cf04c928fe",
   "metadata": {},
   "outputs": [],
   "source": [
    "fig = px.box(promedios_df, y=\"accY_mod\", color=\"target\",title = 'Distribution of accY_mod vs target variable')\n",
    "fig.update_traces(quartilemethod=\"exclusive\")\n",
    "fig.show()"
   ]
  },
  {
   "cell_type": "code",
   "execution_count": null,
   "id": "8e94793e-9865-4201-8123-eef928d76a55",
   "metadata": {},
   "outputs": [],
   "source": [
    "sns.pairplot(promedios_df, hue= 'target',vars=[\"linAccX\", \"linAccY\", \"linAccZ\"])"
   ]
  },
  {
   "cell_type": "code",
   "execution_count": null,
   "id": "cc636fcc-2dff-421a-b1ab-6bba88ff22b8",
   "metadata": {},
   "outputs": [],
   "source": [
    "plt.figure(figsize=(30, 30))\n",
    "sns.heatmap( promedios_df.corr(), annot = True, cmap =\"coolwarm\", linewidths = .5)"
   ]
  },
  {
   "cell_type": "code",
   "execution_count": null,
   "id": "cf7ac26b-19fd-4d04-8fc7-257b1c61670f",
   "metadata": {},
   "outputs": [],
   "source": [
    "X = promedios_df.drop('target',axis=1)\n",
    "y = promedios_df['target']"
   ]
  },
  {
   "cell_type": "code",
   "execution_count": null,
   "id": "a674a086-3149-463d-8ab7-8bf8755b6417",
   "metadata": {},
   "outputs": [],
   "source": [
    "X_train, X_test, y_train, y_test = train_test_split(X, y, test_size=0.2, random_state=99,stratify=y)\n",
    "display(X_train.shape,X_test.shape,y_train.shape,y_test.shape)"
   ]
  },
  {
   "cell_type": "markdown",
   "id": "d6bc991d-2503-4744-b6dd-439f0d8fc16c",
   "metadata": {},
   "source": [
    "## SMOTE for balance my data"
   ]
  },
  {
   "cell_type": "code",
   "execution_count": null,
   "id": "932d9f92-edde-4c7f-bfa8-92bcdef8bd3d",
   "metadata": {},
   "outputs": [],
   "source": [
    "smote = SMOTE( random_state=42)\n",
    "X_train_resampled, y_train_resampled = smote.fit_resample(X_train, y_train)"
   ]
  },
  {
   "cell_type": "code",
   "execution_count": null,
   "id": "0b781664-c637-4f14-9e2c-29911ad35849",
   "metadata": {},
   "outputs": [],
   "source": [
    "#check the new sample\n",
    "import numpy as np\n",
    "np.unique(y_train_resampled,return_counts=True)"
   ]
  },
  {
   "cell_type": "markdown",
   "id": "49ee2361-1fef-44cd-91cf-f8cb3d0cf302",
   "metadata": {},
   "source": [
    "## Feature selection"
   ]
  },
  {
   "cell_type": "code",
   "execution_count": null,
   "id": "2ce38194-a205-4c4a-a0c0-3c509e05e1b9",
   "metadata": {
    "tags": []
   },
   "outputs": [],
   "source": [
    "selected = SelectKBest(score_func=f_classif, k=9)\n",
    "X_train_selected=selected.fit_transform(X_train_resampled, y_train_resampled)\n",
    "X_test_selected = selected.transform(X_test) #I have to choose also for the test"
   ]
  },
  {
   "cell_type": "code",
   "execution_count": null,
   "id": "21324292-433e-4f4f-8728-2a5f054eae36",
   "metadata": {},
   "outputs": [],
   "source": [
    "selected.get_feature_names_out()"
   ]
  },
  {
   "cell_type": "code",
   "execution_count": null,
   "id": "79ef96ad-bfdb-4918-acd7-b00718bffaef",
   "metadata": {},
   "outputs": [],
   "source": [
    "X_train_selected"
   ]
  },
  {
   "cell_type": "code",
   "execution_count": null,
   "id": "c7da453b-1f0c-4a9f-b4a3-0cb83068c081",
   "metadata": {},
   "outputs": [],
   "source": [
    "scores = pd.Series(selected.scores_, index=X.columns)\n",
    "scores = scores.sort_values(ascending=False)\n",
    "px.bar(scores, template=\"none\", title=\"F-Score of features with casual as dependent variable\")"
   ]
  },
  {
   "cell_type": "code",
   "execution_count": null,
   "id": "50bc26ba-a741-4b15-9637-bf9f1f145f46",
   "metadata": {},
   "outputs": [],
   "source": [
    "# Scale Data\n",
    "scaler = StandardScaler()\n",
    "X_train_full = scaler.fit_transform(X_train_selected) #I only use the selected variables\n",
    "# apply stanrdadization also to the test\n",
    "X_test_full = scaler.transform(X_test_selected)"
   ]
  },
  {
   "cell_type": "code",
   "execution_count": null,
   "id": "64ab9d20-0de8-4177-b029-266e6c9db4a1",
   "metadata": {},
   "outputs": [],
   "source": [
    "# ahora tengo que hacer la codificacion de la variable target \n",
    "label_encoder = LabelEncoder()\n",
    "# Aplica la transformación a la variable y\n",
    "y_train_full = label_encoder.fit_transform(y_train_resampled)\n",
    "y_test= label_encoder.transform(y_test)"
   ]
  },
  {
   "cell_type": "markdown",
   "id": "1a8d21bd-e00e-472f-83aa-0bc0ab659433",
   "metadata": {
    "jp-MarkdownHeadingCollapsed": true,
    "tags": []
   },
   "source": [
    "# Models"
   ]
  },
  {
   "cell_type": "code",
   "execution_count": null,
   "id": "b3d06ac2-51fb-4d24-9dfc-7c16ab42ad27",
   "metadata": {},
   "outputs": [],
   "source": [
    "results_hard = {}\n",
    "results_soft = {}"
   ]
  },
  {
   "cell_type": "markdown",
   "id": "d3288ef5-5c9e-4a01-b99e-ec92985ed32d",
   "metadata": {},
   "source": [
    "## SVM"
   ]
  },
  {
   "cell_type": "code",
   "execution_count": null,
   "id": "ea27ae6b-d1e2-41da-8c82-51c7241cb313",
   "metadata": {},
   "outputs": [],
   "source": [
    "from sklearn.svm import SVC\n",
    "import numpy as np\n",
    "from sklearn.model_selection import RandomizedSearchCV\n",
    "svm = SVC(probability=True)"
   ]
  },
  {
   "cell_type": "code",
   "execution_count": null,
   "id": "42c822c6-1af0-4025-9901-cab5cb801944",
   "metadata": {},
   "outputs": [],
   "source": [
    "param_grid = {'C': [0.1, 1, 10, 100], \n",
    "              'gamma': [1, 0.1, 0.01, 0.001], \n",
    "              'kernel': ['linear', 'rbf', 'poly', 'sigmoid']}\n",
    "\n",
    "\n",
    "# Realizar la búsqueda aleatoria de hiperparámetros\n",
    "random_search_svm = RandomizedSearchCV(\n",
    "    estimator=svm,\n",
    "    param_distributions=param_grid,\n",
    "    n_iter=5,  \n",
    "    scoring=\"roc_auc\",  \n",
    "    n_jobs=7,\n",
    "    return_train_score=True\n",
    ")\n",
    "random_search_svm.fit(X_train_full, y_train_full)"
   ]
  },
  {
   "cell_type": "code",
   "execution_count": null,
   "id": "88856925-df71-4552-8aef-9fa1bfbd0548",
   "metadata": {},
   "outputs": [],
   "source": [
    "print(random_search_svm.best_params_)"
   ]
  },
  {
   "cell_type": "code",
   "execution_count": null,
   "id": "36df3ee1-d0fc-470f-825c-6bb2c6180692",
   "metadata": {},
   "outputs": [],
   "source": [
    "#First evaluate on train\n",
    "proba_train = random_search_svm.predict_proba(X_train_full)\n",
    "pred_train = random_search_svm.predict(X_train_full)\n",
    "print(classification_report(y_train_full,pred_train))"
   ]
  },
  {
   "cell_type": "code",
   "execution_count": null,
   "id": "336361ed-3ac8-48fc-bf8b-d59662d85357",
   "metadata": {},
   "outputs": [],
   "source": [
    "#now I will check with the test\n",
    "proba_test = random_search_svm.predict_proba(X_test_full)\n",
    "pred_test = random_search_svm.predict(X_test_full)\n",
    "print(classification_report(y_test,pred_test))"
   ]
  },
  {
   "cell_type": "markdown",
   "id": "5510aa0f-4b59-46d9-b9e5-dd5ff8e7fca6",
   "metadata": {},
   "source": [
    "## XGBOOST"
   ]
  },
  {
   "cell_type": "code",
   "execution_count": null,
   "id": "328f846d-9b99-4104-b7d3-72460ddf1e1a",
   "metadata": {},
   "outputs": [],
   "source": [
    "import xgboost as xgb\n",
    "xgb = xgb.XGBClassifier()"
   ]
  },
  {
   "cell_type": "code",
   "execution_count": null,
   "id": "26066007-ed7e-4cd8-a892-0acb908e10a4",
   "metadata": {},
   "outputs": [],
   "source": [
    "param_dist = {\n",
    "    'n_estimators': range(10, 90, 5),\n",
    "    'max_depth': range(3, 40, 2),\n",
    "    'min_child_weight': range(1, 10),  \n",
    "    'gamma': [0, 0.1, 0.2, 0.3],  \n",
    "}\n",
    "\n",
    "# Realizar la búsqueda aleatoria de hiperparámetros\n",
    "random_search_XGB = RandomizedSearchCV(\n",
    "    estimator=xgb,\n",
    "    param_distributions=param_dist,\n",
    "    n_iter=10, \n",
    "    scoring=\"roc_auc\",  \n",
    "    n_jobs=7,\n",
    "    return_train_score=True\n",
    ")"
   ]
  },
  {
   "cell_type": "code",
   "execution_count": null,
   "id": "761959d8-8a4e-4444-9504-8a04e894ef60",
   "metadata": {},
   "outputs": [],
   "source": [
    "#para este modelo uso datos sin escalar \n",
    "random_search_XGB.fit(X_train_selected, y_train_full)"
   ]
  },
  {
   "cell_type": "code",
   "execution_count": null,
   "id": "48afbaaf-a239-409e-be39-2ef508dcafd8",
   "metadata": {},
   "outputs": [],
   "source": [
    "print(random_search_XGB.best_params_)"
   ]
  },
  {
   "cell_type": "code",
   "execution_count": null,
   "id": "44c81728-abb6-4814-af82-93624fdbd7e8",
   "metadata": {},
   "outputs": [],
   "source": [
    "#First evaluate on train\n",
    "proba_train_XGB = random_search_XGB.predict_proba(X_train_selected)\n",
    "pred_train_XGB = random_search_XGB.predict(X_train_selected)\n",
    "print(classification_report(y_train_full,pred_train_XGB))"
   ]
  },
  {
   "cell_type": "code",
   "execution_count": null,
   "id": "f04c4e1a-9968-426e-a390-123b131c53a1",
   "metadata": {},
   "outputs": [],
   "source": [
    "#now I will check with the test\n",
    "proba_test_XGB = random_search_XGB.predict_proba(X_test_selected)\n",
    "pred_test_XGB = random_search_XGB.predict(X_test_selected)\n",
    "print(classification_report(y_test,pred_test_XGB))"
   ]
  },
  {
   "cell_type": "markdown",
   "id": "a0e59a88-5cc3-45ed-bd36-ccd38d8574c6",
   "metadata": {},
   "source": [
    "## Naive Bayes"
   ]
  },
  {
   "cell_type": "code",
   "execution_count": null,
   "id": "c3a061ee-1105-4a61-8f8f-05bf4535ed14",
   "metadata": {},
   "outputs": [],
   "source": [
    "from sklearn.naive_bayes import GaussianNB\n",
    "gaus = GaussianNB()\n",
    "param_dist_NB = {\n",
    "    'priors': [[0.2, 0.8], [0.5, 0.5], [0.8, 0.2],[0.3, 0.7],[0.7, 0.3]]\n",
    "}\n",
    "\n",
    "\n",
    "random_search_NB = RandomizedSearchCV(\n",
    "    estimator=gaus,\n",
    "    param_distributions=param_dist_NB,\n",
    "    n_iter=5,  \n",
    "    scoring=\"roc_auc\",  \n",
    "    n_jobs=7,\n",
    "    return_train_score=True\n",
    ")"
   ]
  },
  {
   "cell_type": "code",
   "execution_count": null,
   "id": "789d3a4f-41e1-4d10-b847-82328c259473",
   "metadata": {},
   "outputs": [],
   "source": [
    "# Entrenar el modelo con la búsqueda aleatoria de hiperparámetros\n",
    "random_search_NB.fit(X_train_full, y_train_full)"
   ]
  },
  {
   "cell_type": "code",
   "execution_count": null,
   "id": "4e48f353-044c-4faa-abe5-bdf9747a231a",
   "metadata": {},
   "outputs": [],
   "source": [
    "print(random_search_NB.best_params_)"
   ]
  },
  {
   "cell_type": "code",
   "execution_count": null,
   "id": "42d46e26-514f-4bac-b15b-d1f119bb89a8",
   "metadata": {},
   "outputs": [],
   "source": [
    "#First evaluate on train\n",
    "proba_train_NB = random_search_NB.predict_proba(X_train_full)\n",
    "pred_train_NB = random_search_NB.predict(X_train_full)\n",
    "print(classification_report(y_train_full,pred_train_NB))"
   ]
  },
  {
   "cell_type": "code",
   "execution_count": null,
   "id": "1f212c5c-fe13-4779-a0e6-4d2e8762f50c",
   "metadata": {},
   "outputs": [],
   "source": [
    "#now I will check with the test\n",
    "proba_test_NB = random_search_NB.predict_proba(X_test_full)\n",
    "pred_test_NB = random_search_NB.predict(X_test_full)\n",
    "print(classification_report(y_test,pred_test_NB))"
   ]
  },
  {
   "cell_type": "markdown",
   "id": "53a32e28-6635-40ff-aad7-0ec25a0c8981",
   "metadata": {
    "tags": []
   },
   "source": [
    "## Model evaluation"
   ]
  },
  {
   "cell_type": "code",
   "execution_count": null,
   "id": "de1d18a2-f565-4f08-8c94-308807b9d260",
   "metadata": {},
   "outputs": [],
   "source": [
    "pred_SV = random_search_svm.predict(X_test_full)\n",
    "proba_SV = random_search_svm.predict_proba(X_test_full)\n",
    "results_hard[\"Support_Vector\"] = pred_SV\n",
    "results_soft[\"Support_Vector\"] = proba_SV[:,1]\n",
    "\n",
    "proba_XGB = random_search_XGB.predict_proba(X_test_selected)\n",
    "pred_XGB = random_search_XGB.predict(X_test_selected)\n",
    "results_hard[\"XGBOOST\"] = pred_XGB\n",
    "results_soft[\"XGBOOST\"] = proba_XGB[:,1]\n",
    "\n",
    "proba_NB = random_search_NB.predict_proba(X_test_full)\n",
    "pred_NB = random_search_NB.predict(X_test_full)\n",
    "results_hard[\"Naive_Bayes\"] = pred_NB\n",
    "results_soft[\"Naive_Bayes\"] = proba_NB[:,1]\n",
    "\n",
    "results_hard = pd.DataFrame(results_hard)\n",
    "results_soft = pd.DataFrame(results_soft)"
   ]
  },
  {
   "cell_type": "code",
   "execution_count": null,
   "id": "6a079c4b-0682-4852-bbe3-5346a14446a1",
   "metadata": {},
   "outputs": [],
   "source": [
    "metrics = {}\n",
    "\n",
    "metrics[\"Accuracy\"] = {\n",
    "    \"Naive_Bayes\": accuracy_score(y_test, results_hard.Naive_Bayes),\n",
    "    \"Support_Vector\": accuracy_score(y_test, results_hard.Support_Vector),\n",
    "    \"XGBOOST\": accuracy_score(y_test, results_hard.XGBOOST)\n",
    "}\n",
    "metrics[\"Precision\"] = {\n",
    "    \"Naive_Bayes\": precision_score(y_test, results_hard.Naive_Bayes),\n",
    "    \"Support_Vector\": precision_score(y_test, results_hard.Support_Vector),\n",
    "    \"XGBOOST\": precision_score(y_test, results_hard.XGBOOST)\n",
    "}\n",
    "metrics[\"Recall\"] = {\n",
    "    \"Naive_Bayes\": recall_score(y_test, results_hard.Naive_Bayes),\n",
    "    \"Support_Vector\": recall_score(y_test, results_hard.Support_Vector),\n",
    "    \"XGBOOST\": recall_score(y_test, results_hard.XGBOOST)\n",
    "}\n",
    "metrics[\"F1\"] = {\n",
    "    \"Naive_Bayes\": f1_score(y_test, results_hard.Naive_Bayes),\n",
    "    \"Support_Vector\": f1_score(y_test, results_hard.Support_Vector),\n",
    "    \"XGBOOST\": f1_score(y_test, results_hard.XGBOOST)\n",
    "}\n",
    "\n",
    "metrics = pd.DataFrame(metrics)\n",
    "metrics"
   ]
  },
  {
   "cell_type": "markdown",
   "id": "221b271a-eee2-4fd5-a6ee-e36a7e63e698",
   "metadata": {},
   "source": [
    "## ROC Curves"
   ]
  },
  {
   "cell_type": "code",
   "execution_count": null,
   "id": "4f53787a-9f6b-4c7e-a19d-803cf2f03ad0",
   "metadata": {},
   "outputs": [],
   "source": [
    "# Datos de FPR y TPR para los tres modelos \n",
    "fpr_Naive_Bayes,tpr_Naive_Bayes,_ = roc_curve(y_test, results_soft.Naive_Bayes)\n",
    "fpr_Support_Vector,tpr_Support_Vector,_ = roc_curve(y_test, results_soft.Support_Vector)\n",
    "fpr_XGBOOST,tpr_XGBOOST,_ = roc_curve(y_test, results_soft.XGBOOST)\n",
    "\n",
    "# Calcular el área bajo la curva ROC (AUC) para cada modelo\n",
    "auc_Naive_Bayes = auc(fpr_Naive_Bayes,tpr_Naive_Bayes)\n",
    "auc_Support_Vector = auc(fpr_Support_Vector,tpr_Support_Vector)\n",
    "auc_XGBOOST = auc(fpr_XGBOOST,tpr_XGBOOST)"
   ]
  },
  {
   "cell_type": "code",
   "execution_count": null,
   "id": "3406fe27-c3fb-4b68-b666-5f2e18833d2d",
   "metadata": {},
   "outputs": [],
   "source": [
    "# Crear la gráfica ROC\n",
    "plt.figure(figsize=(8, 6))\n",
    "\n",
    "# Graficar las curvas ROC para los tres modelos\n",
    "plt.plot(fpr_Naive_Bayes,tpr_Naive_Bayes, label=f'Naive bayes (AUC = {auc_Naive_Bayes:.2f})')\n",
    "plt.plot(fpr_XGBOOST,tpr_XGBOOST, label=f'Xgboost (AUC = {auc_XGBOOST:.2f})')\n",
    "plt.plot(fpr_Support_Vector,tpr_Support_Vector, label=f'Support Vector (AUC = {auc_Support_Vector:.2f})')\n",
    "\n",
    "\n",
    "# Configurar la gráfica\n",
    "plt.plot([0, 1], [0, 1], 'k--', lw=2)  # Línea diagonal para referencia\n",
    "plt.xlim([0.0, 1.0])\n",
    "plt.ylim([0.0, 1.05])\n",
    "plt.xlabel('Tasa de Falsos Positivos (FPR)')\n",
    "plt.ylabel('Tasa de Verdaderos Positivos (TPR)')\n",
    "plt.title('Curva ROC de Modelos')\n",
    "plt.legend(loc=\"lower right\")\n",
    "\n",
    "# Mostrar la gráfica\n",
    "plt.show()"
   ]
  },
  {
   "cell_type": "markdown",
   "id": "d6330a0c-fe22-4050-b93f-39f85fbae7f5",
   "metadata": {
    "jp-MarkdownHeadingCollapsed": true,
    "tags": []
   },
   "source": [
    "# Try out models with other features"
   ]
  },
  {
   "cell_type": "markdown",
   "id": "28f3d444-4c51-4aab-91b9-de67f44751a6",
   "metadata": {},
   "source": [
    "Para este caso solo voy a usar las variables entregadas por el sensor: \n",
    "- Raw acceleration.\n",
    "- Angular Velocity.\n",
    "- Magnetic Field.\n",
    "- Linear Acceleration."
   ]
  },
  {
   "cell_type": "code",
   "execution_count": null,
   "id": "560810de-8533-428d-82a5-849d34544e6b",
   "metadata": {},
   "outputs": [],
   "source": [
    "X = promedios_df.drop('target',axis=1)\n",
    "y = promedios_df['target']"
   ]
  },
  {
   "cell_type": "code",
   "execution_count": null,
   "id": "04916ad8-c8b3-46a2-8908-f2a9c88bba28",
   "metadata": {},
   "outputs": [],
   "source": [
    "X_train, X_test, y_train, y_test = train_test_split(X, y, test_size=0.2, random_state=99,stratify=y)\n",
    "display(X_train.shape,X_test.shape,y_train.shape,y_test.shape)"
   ]
  },
  {
   "cell_type": "code",
   "execution_count": null,
   "id": "e5fbde35-7155-4610-8b1d-35030401573d",
   "metadata": {},
   "outputs": [],
   "source": [
    "smote = SMOTE( random_state=42)\n",
    "X_train_resampled, y_train_resampled = smote.fit_resample(X_train, y_train)"
   ]
  },
  {
   "cell_type": "code",
   "execution_count": null,
   "id": "5eb67d36-ad09-4f80-87da-b5aff934466f",
   "metadata": {},
   "outputs": [],
   "source": [
    "selected_columns = ['accX_orig', 'accY_orig', 'accZ_orig', 'gyroX_orig', 'gyroY_orig',\n",
    "                    'gyroZ_orig', 'magnX_orig', 'magnY_orig', 'magnZ_orig', \n",
    "                    'linAccX_orig', 'linAccY_orig', 'linAccZ_orig', 'accX', 'accY',\n",
    "                    'accZ', 'gyroX', 'gyroY', 'gyroZ', 'magnX', 'magnY', 'magnZ', \n",
    "                    'linAccX', 'linAccY', 'linAccZ', 'accX_mod', 'accY_mod', 'accZ_mod', \n",
    "                    'gyroX_mod', 'gyroY_mod', 'gyroZ_mod', 'magnX_mod', 'magnY_mod', \n",
    "                    'magnZ_mod', 'linAccX_mod', 'linAccY_mod', 'linAccZ_mod']\n",
    "\n",
    "X_train2_ns = X_train_resampled[selected_columns].copy()\n",
    "X_test2_ns = X_test[selected_columns].copy()"
   ]
  },
  {
   "cell_type": "code",
   "execution_count": null,
   "id": "d270695b-039c-407a-9678-dcedb8463b87",
   "metadata": {},
   "outputs": [],
   "source": [
    "selected2 = SelectKBest(score_func=f_classif, k=20)\n",
    "X_train2_selected=selected2.fit_transform(X_train2_ns, y_train_resampled)\n",
    "X_test2_selected = selected2.transform(X_test2_ns) #I have to choose also for the test\n",
    "selected2.get_feature_names_out()"
   ]
  },
  {
   "cell_type": "code",
   "execution_count": null,
   "id": "c4c106d9-a05d-4963-b116-9287ce11970e",
   "metadata": {},
   "outputs": [],
   "source": [
    "# Scale Data\n",
    "scaler2 = StandardScaler()\n",
    "X_train2_full = scaler2.fit_transform(X_train2_selected) #I only use the selected variables\n",
    "# apply stanrdadization also to the test\n",
    "X_test2_full = scaler2.transform(X_test2_selected)"
   ]
  },
  {
   "cell_type": "code",
   "execution_count": null,
   "id": "5471e31f-97e4-4f37-ac5d-b9567a59f104",
   "metadata": {},
   "outputs": [],
   "source": [
    "# ahora tengo que hacer la codificacion de la variable target \n",
    "label_encoder = LabelEncoder()\n",
    "# Aplica la transformación a la variable y\n",
    "y_train_full = label_encoder.fit_transform(y_train_resampled)\n",
    "y_test= label_encoder.transform(y_test)"
   ]
  },
  {
   "cell_type": "code",
   "execution_count": null,
   "id": "90bad490-d2fd-4c15-8be5-906bf55fceec",
   "metadata": {},
   "outputs": [],
   "source": [
    "results_hard2 = {}\n",
    "results_soft2 = {}"
   ]
  },
  {
   "cell_type": "markdown",
   "id": "b0cc4ffd-3887-433b-9822-d0cd6cb21fab",
   "metadata": {},
   "source": [
    "## SVM"
   ]
  },
  {
   "cell_type": "code",
   "execution_count": null,
   "id": "6a03a544-6d8c-444e-8947-9793c63e423a",
   "metadata": {},
   "outputs": [],
   "source": [
    "from sklearn.svm import SVC\n",
    "import numpy as np\n",
    "from sklearn.model_selection import RandomizedSearchCV\n",
    "svm = SVC(probability=True)\n",
    "param_grid = {'C': [0.1, 1, 10, 100], \n",
    "              'gamma': [1, 0.1, 0.01, 0.001], \n",
    "              'kernel': ['linear', 'rbf', 'poly', 'sigmoid']}\n",
    "\n",
    "\n",
    "# Realizar la búsqueda aleatoria de hiperparámetros\n",
    "random_search_svm = RandomizedSearchCV(\n",
    "    estimator=svm,\n",
    "    param_distributions=param_grid,\n",
    "    n_iter=5,  \n",
    "    scoring=\"roc_auc\",  \n",
    "    n_jobs=7,\n",
    "    return_train_score=True\n",
    ")\n",
    "random_search_svm.fit(X_train2_selected, y_train_full)"
   ]
  },
  {
   "cell_type": "code",
   "execution_count": null,
   "id": "964eb3dc-4589-4885-a265-205ced5e61cc",
   "metadata": {},
   "outputs": [],
   "source": [
    "print(random_search_svm.best_params_)"
   ]
  },
  {
   "cell_type": "code",
   "execution_count": null,
   "id": "ca9ebab4-728c-4cc9-92d9-36e8a0b35726",
   "metadata": {},
   "outputs": [],
   "source": [
    "#First evaluate on train\n",
    "proba_train2 = random_search_svm.predict_proba(X_train2_selected)\n",
    "pred_train2 = random_search_svm.predict(X_train2_selected)\n",
    "print(classification_report(y_train_full,pred_train2))"
   ]
  },
  {
   "cell_type": "code",
   "execution_count": null,
   "id": "ff655c9f-c122-455e-bc09-84d1108ab395",
   "metadata": {},
   "outputs": [],
   "source": [
    "#now I will check with the test\n",
    "proba_test2 = random_search_svm.predict_proba(X_test2_full)\n",
    "pred_test2 = random_search_svm.predict(X_test2_full)\n",
    "print(classification_report(y_test,pred_test2))"
   ]
  },
  {
   "cell_type": "markdown",
   "id": "2d0ac7d4-e1b1-43e6-837c-f486c67b7f37",
   "metadata": {},
   "source": [
    "## XGBOOST"
   ]
  },
  {
   "cell_type": "code",
   "execution_count": null,
   "id": "f7f25520-15da-4c6e-bd48-5494820d7af0",
   "metadata": {},
   "outputs": [],
   "source": [
    "import xgboost as xgb\n",
    "xgb = xgb.XGBClassifier()\n",
    "param_dist = {\n",
    "    'n_estimators': range(10, 90, 5),\n",
    "    'max_depth': range(3, 40, 2),\n",
    "    'min_child_weight': range(1, 10),  \n",
    "    'gamma': [0, 0.1, 0.2, 0.3],  \n",
    "}\n",
    "\n",
    "# Realizar la búsqueda aleatoria de hiperparámetros\n",
    "random_search_XGB = RandomizedSearchCV(\n",
    "    estimator=xgb,\n",
    "    param_distributions=param_dist,\n",
    "    n_iter=10, \n",
    "    scoring=\"roc_auc\",  \n",
    "    n_jobs=7,\n",
    "    return_train_score=True\n",
    ")\n",
    "#para este modelo uso datos sin escalar \n",
    "random_search_XGB.fit(X_train2_selected, y_train_full)\n",
    "print(random_search_XGB.best_params_)"
   ]
  },
  {
   "cell_type": "code",
   "execution_count": null,
   "id": "cceac8b9-2aac-4967-90f7-5727da75d7f6",
   "metadata": {},
   "outputs": [],
   "source": [
    "#First evaluate on train\n",
    "proba_train_XGB2 = random_search_XGB.predict_proba(X_train2_selected)\n",
    "pred_train_XGB2 = random_search_XGB.predict(X_train2_selected)\n",
    "print(classification_report(y_train_full,pred_train_XGB2))"
   ]
  },
  {
   "cell_type": "code",
   "execution_count": null,
   "id": "ef442e84-11ed-4785-9659-01f7e831589c",
   "metadata": {},
   "outputs": [],
   "source": [
    "#now I will check with the test\n",
    "proba_test_XGB2 = random_search_XGB.predict_proba(X_test2_selected)\n",
    "pred_test_XGB2 = random_search_XGB.predict(X_test2_selected)\n",
    "print(classification_report(y_test,pred_test_XGB2))"
   ]
  },
  {
   "cell_type": "markdown",
   "id": "0d03accc-c01e-4e67-bb6f-27044a361f03",
   "metadata": {},
   "source": [
    "## Naive Bayes"
   ]
  },
  {
   "cell_type": "code",
   "execution_count": null,
   "id": "79d2ca1a-3518-4f4e-9134-feafd2d992d5",
   "metadata": {},
   "outputs": [],
   "source": [
    "from sklearn.naive_bayes import GaussianNB\n",
    "gaus = GaussianNB()\n",
    "param_dist_NB = {\n",
    "    'priors': [[0.2, 0.8], [0.5, 0.5], [0.8, 0.2],[0.3, 0.7],[0.7, 0.3]]\n",
    "}\n",
    "\n",
    "\n",
    "random_search_NB = RandomizedSearchCV(\n",
    "    estimator=gaus,\n",
    "    param_distributions=param_dist_NB,\n",
    "    n_iter=5,  \n",
    "    scoring=\"roc_auc\",  \n",
    "    n_jobs=7,\n",
    "    return_train_score=True\n",
    ")\n",
    "# Entrenar el modelo con la búsqueda aleatoria de hiperparámetros\n",
    "random_search_NB.fit(X_train2_selected, y_train_full)"
   ]
  },
  {
   "cell_type": "code",
   "execution_count": null,
   "id": "c7795095-a412-46f3-a9f5-e93c007a1b25",
   "metadata": {},
   "outputs": [],
   "source": [
    "print(random_search_NB.best_params_)"
   ]
  },
  {
   "cell_type": "code",
   "execution_count": null,
   "id": "b492327b-17db-4149-b428-3470cc509782",
   "metadata": {},
   "outputs": [],
   "source": [
    "#First evaluate on train\n",
    "proba_train_NB2 = random_search_NB.predict_proba(X_train2_selected)\n",
    "pred_train_NB2 = random_search_NB.predict(X_train2_selected)\n",
    "print(classification_report(y_train_full,pred_train_NB2))"
   ]
  },
  {
   "cell_type": "code",
   "execution_count": null,
   "id": "975f21cf-2ece-4c0a-948c-54e3a3194156",
   "metadata": {},
   "outputs": [],
   "source": [
    "#now I will check with the test\n",
    "proba_test_NB2 = random_search_NB.predict_proba(X_test2_full)\n",
    "pred_test_NB2 = random_search_NB.predict(X_test2_full)\n",
    "print(classification_report(y_test,pred_test_NB2))"
   ]
  },
  {
   "cell_type": "markdown",
   "id": "be190b69-be68-43cc-addd-caf9a26079ec",
   "metadata": {},
   "source": [
    "## Model evaluation"
   ]
  },
  {
   "cell_type": "code",
   "execution_count": null,
   "id": "b348d14b-bd38-4521-93cb-04c5202fddda",
   "metadata": {},
   "outputs": [],
   "source": [
    "pred_SV2 = random_search_svm.predict(X_test2_full)\n",
    "proba_SV2 = random_search_svm.predict_proba(X_test2_full)\n",
    "results_hard2[\"Support_Vector\"] = pred_SV2\n",
    "results_soft2[\"Support_Vector\"] = proba_SV2[:,1]\n",
    "\n",
    "proba_XGB2 = random_search_XGB.predict_proba(X_test2_selected)\n",
    "pred_XGB2 = random_search_XGB.predict(X_test2_selected)\n",
    "results_hard2[\"XGBOOST\"] = pred_XGB2\n",
    "results_soft2[\"XGBOOST\"] = proba_XGB2[:,1]\n",
    "\n",
    "proba_NB2 = random_search_NB.predict_proba(X_test2_full)\n",
    "pred_NB2 = random_search_NB.predict(X_test2_full)\n",
    "results_hard2[\"Naive_Bayes\"] = pred_NB2\n",
    "results_soft2[\"Naive_Bayes\"] = proba_NB2[:,1]\n",
    "\n",
    "results_hard2 = pd.DataFrame(results_hard2)\n",
    "results_soft2 = pd.DataFrame(results_soft2)"
   ]
  },
  {
   "cell_type": "code",
   "execution_count": null,
   "id": "45073c84-a251-4544-91ba-81c11c897c9e",
   "metadata": {},
   "outputs": [],
   "source": [
    "metrics2 = {}\n",
    "\n",
    "metrics2[\"Accuracy\"] = {\n",
    "    \"Naive_Bayes\": accuracy_score(y_test, results_hard2.Naive_Bayes),\n",
    "    \"Support_Vector\": accuracy_score(y_test, results_hard2.Support_Vector),\n",
    "    \"XGBOOST\": accuracy_score(y_test, results_hard2.XGBOOST)\n",
    "}\n",
    "metrics2[\"Precision\"] = {\n",
    "    \"Naive_Bayes\": precision_score(y_test, results_hard2.Naive_Bayes),\n",
    "    \"Support_Vector\": precision_score(y_test, results_hard2.Support_Vector),\n",
    "    \"XGBOOST\": precision_score(y_test, results_hard2.XGBOOST)\n",
    "}\n",
    "metrics2[\"Recall\"] = {\n",
    "    \"Naive_Bayes\": recall_score(y_test, results_hard2.Naive_Bayes),\n",
    "    \"Support_Vector\": recall_score(y_test, results_hard2.Support_Vector),\n",
    "    \"XGBOOST\": recall_score(y_test, results_hard2.XGBOOST)\n",
    "}\n",
    "metrics2[\"F1\"] = {\n",
    "    \"Naive_Bayes\": f1_score(y_test, results_hard2.Naive_Bayes),\n",
    "    \"Support_Vector\": f1_score(y_test, results_hard2.Support_Vector),\n",
    "    \"XGBOOST\": f1_score(y_test, results_hard2.XGBOOST)\n",
    "}\n",
    "\n",
    "metrics2 = pd.DataFrame(metrics2)\n",
    "metrics2"
   ]
  },
  {
   "cell_type": "markdown",
   "id": "58c53903-e0dd-4af4-89ac-e68666b1d95a",
   "metadata": {},
   "source": [
    "## ROC Curves"
   ]
  },
  {
   "cell_type": "code",
   "execution_count": null,
   "id": "1384f1f7-a3d4-419d-85fd-2e1b7b330daa",
   "metadata": {},
   "outputs": [],
   "source": [
    "# Datos de FPR y TPR para los tres modelos \n",
    "fpr_Naive_Bayes2,tpr_Naive_Bayes2,_ = roc_curve(y_test, results_soft2.Naive_Bayes)\n",
    "fpr_Support_Vector2,tpr_Support_Vector2,_ = roc_curve(y_test, results_soft2.Support_Vector)\n",
    "fpr_XGBOOST2,tpr_XGBOOST2,_ = roc_curve(y_test, results_soft2.XGBOOST)\n",
    "\n",
    "# Calcular el área bajo la curva ROC (AUC) para cada modelo\n",
    "auc_Naive_Bayes2 = auc(fpr_Naive_Bayes2,tpr_Naive_Bayes2)\n",
    "auc_Support_Vector2 = auc(fpr_Support_Vector2,tpr_Support_Vector2)\n",
    "auc_XGBOOST2 = auc(fpr_XGBOOST2,tpr_XGBOOST2)"
   ]
  },
  {
   "cell_type": "code",
   "execution_count": null,
   "id": "7941567b-4117-4aa0-8bda-63a82850e7f8",
   "metadata": {},
   "outputs": [],
   "source": [
    "# Crear la gráfica ROC\n",
    "plt.figure(figsize=(8, 6))\n",
    "\n",
    "# Graficar las curvas ROC para los tres modelos\n",
    "plt.plot(fpr_Naive_Bayes2,tpr_Naive_Bayes2, label=f'Naive bayes (AUC = {auc_Naive_Bayes2:.2f})')\n",
    "plt.plot(fpr_XGBOOST2,tpr_XGBOOST2, label=f'Xgboost (AUC = {auc_XGBOOST2:.2f})')\n",
    "plt.plot(fpr_Support_Vector2,tpr_Support_Vector2, label=f'Support Vector (AUC = {auc_Support_Vector2:.2f})')\n",
    "\n",
    "\n",
    "# Configurar la gráfica\n",
    "plt.plot([0, 1], [0, 1], 'k--', lw=2)  # Línea diagonal para referencia\n",
    "plt.xlim([0.0, 1.0])\n",
    "plt.ylim([0.0, 1.05])\n",
    "plt.xlabel('Tasa de Falsos Positivos (FPR)')\n",
    "plt.ylabel('Tasa de Verdaderos Positivos (TPR)')\n",
    "plt.title('Curva ROC de Modelos')\n",
    "plt.legend(loc=\"lower right\")\n",
    "\n",
    "# Mostrar la gráfica\n",
    "plt.show()"
   ]
  },
  {
   "cell_type": "markdown",
   "id": "2c528f4f-1f35-4de6-8f42-214235a0df24",
   "metadata": {
    "jp-MarkdownHeadingCollapsed": true,
    "tags": []
   },
   "source": [
    "# Nuevas variables"
   ]
  },
  {
   "cell_type": "markdown",
   "id": "ac61bacf-d87a-4aba-abab-e9145071f7fc",
   "metadata": {},
   "source": [
    "Ahora voy a probar con el promedio, desv. estandar y la mediana"
   ]
  },
  {
   "cell_type": "code",
   "execution_count": null,
   "id": "aee5ff6a-c09d-4e42-9b9d-a53589215e87",
   "metadata": {
    "tags": []
   },
   "outputs": [],
   "source": [
    "# Crear un dataframe con los promedios, desviación estándar y mediana\n",
    "nuevo_df = pd.DataFrame()\n",
    "\n",
    "# Iterar sobre cada diccionario en la lista\n",
    "for diccionario in data:\n",
    "    # Convertir el diccionario a un DataFrame\n",
    "    df = diccionario['series']\n",
    "\n",
    "    # Calcular el promedio, la desviación estándar y la mediana de cada columna y agregarlos al DataFrame de promedios\n",
    "    promedio_serie = df.mean()\n",
    "    std_serie = df.std()\n",
    "    median_serie = df.median()\n",
    "    nuevo_df = nuevo_df.append(pd.concat([promedio_serie.add_prefix('mean_'), std_serie.add_prefix('std_'), median_serie.add_prefix('median_')]), ignore_index=True)\n",
    "\n",
    "# Agregar la columna 'target' al DataFrame de promedios\n",
    "nuevo_df['target'] = [diccionario['target'] for diccionario in data]"
   ]
  },
  {
   "cell_type": "code",
   "execution_count": null,
   "id": "6d0e1388-59c1-4f52-8d3f-edd5899e01f9",
   "metadata": {},
   "outputs": [],
   "source": [
    "nuevo_df.head()"
   ]
  },
  {
   "cell_type": "code",
   "execution_count": null,
   "id": "da79f65f-1047-49f5-8b36-ae461be4fe3a",
   "metadata": {
    "tags": []
   },
   "outputs": [],
   "source": [
    "list(nuevo_df.columns)"
   ]
  },
  {
   "cell_type": "code",
   "execution_count": null,
   "id": "4cf15572-d441-4e4c-9f76-f8e092ff9052",
   "metadata": {},
   "outputs": [],
   "source": [
    "#verificamos la longitud del dataframe que coincida con los 3805\n",
    "len(nuevo_df)"
   ]
  },
  {
   "cell_type": "code",
   "execution_count": null,
   "id": "99f59be6-f35d-4a93-8098-84db6348e209",
   "metadata": {},
   "outputs": [],
   "source": [
    "#verificamos que el target siga desbalanceado y coincidan los numeros\n",
    "nuevo_df.groupby('target').size()"
   ]
  },
  {
   "cell_type": "code",
   "execution_count": null,
   "id": "3f95a9b0-0655-4912-9e9d-836b9dcf514d",
   "metadata": {},
   "outputs": [],
   "source": [
    "sns.countplot(x=nuevo_df['target'], label = \"squad\")"
   ]
  },
  {
   "cell_type": "code",
   "execution_count": null,
   "id": "612f5798-21ec-49b7-9d9e-00ef8c59ee9b",
   "metadata": {},
   "outputs": [],
   "source": [
    "fig = px.box(nuevo_df, y=[\"mean_linAccZ\", \"std_linAccZ\", \"median_linAccZ\"], color=\"target\", \n",
    "             labels={\"value\": \"Acceleration\", \"target\": \"Target\"},\n",
    "             title='Distribution of Acceleration vs Target Variable')\n",
    "\n",
    "fig.update_traces(quartilemethod=\"exclusive\")\n",
    "fig.show()"
   ]
  },
  {
   "cell_type": "code",
   "execution_count": null,
   "id": "95e6bd12-e287-4a84-ae52-cdddf04fbaca",
   "metadata": {},
   "outputs": [],
   "source": [
    "fig = px.box(nuevo_df, y=[\"mean_accZ_orig\", \"std_accZ_orig\", \"median_accZ_orig\"], color=\"target\", \n",
    "             labels={\"value\": \"Acceleration\", \"target\": \"Target\"},\n",
    "             title='Distribution of Acceleration vs Target Variable')\n",
    "\n",
    "fig.update_traces(quartilemethod=\"exclusive\")\n",
    "fig.show()"
   ]
  },
  {
   "cell_type": "code",
   "execution_count": null,
   "id": "40e34d97-6c24-4a62-a7ab-ec92a72d5b60",
   "metadata": {},
   "outputs": [],
   "source": [
    "fig = px.box(nuevo_df, y=[\"mean_accY_orig\", \"std_accY_orig\", \"median_accY_orig\"], color=\"target\", \n",
    "             labels={\"value\": \"Acceleration\", \"target\": \"Target\"},\n",
    "             title='Distribution of Acceleration vs Target Variable')\n",
    "\n",
    "fig.update_traces(quartilemethod=\"exclusive\")\n",
    "fig.show()"
   ]
  },
  {
   "cell_type": "code",
   "execution_count": null,
   "id": "a75a7ae6-b3a4-4d49-8429-630282c761b8",
   "metadata": {},
   "outputs": [],
   "source": [
    "fig = px.box(nuevo_df, y=[\"mean_gyroZ_orig\", \"std_gyroZ_orig\", \"median_gyroZ_orig\"], color=\"target\", \n",
    "             labels={\"value\": \"Acceleration\", \"target\": \"Target\"},\n",
    "             title='Distribution of Acceleration vs Target Variable')\n",
    "\n",
    "fig.update_traces(quartilemethod=\"exclusive\")\n",
    "fig.show()"
   ]
  },
  {
   "cell_type": "markdown",
   "id": "a15505b3-2c9c-4875-8557-ef28efca778b",
   "metadata": {},
   "source": [
    "## Prep data"
   ]
  },
  {
   "cell_type": "code",
   "execution_count": null,
   "id": "0a959fcd-57ba-4eb7-87e3-5bfbe1183ea8",
   "metadata": {},
   "outputs": [],
   "source": [
    "X = nuevo_df.drop('target',axis=1)\n",
    "y = nuevo_df['target']"
   ]
  },
  {
   "cell_type": "code",
   "execution_count": null,
   "id": "b9fda8d4-7d11-4534-ac60-8e053de957a5",
   "metadata": {},
   "outputs": [],
   "source": [
    "X_train, X_test, y_train, y_test = train_test_split(X, y, test_size=0.2, random_state=99,stratify=y)\n",
    "display(X_train.shape,X_test.shape,y_train.shape,y_test.shape)"
   ]
  },
  {
   "cell_type": "code",
   "execution_count": null,
   "id": "8def24d7-44fb-48a5-b862-58a5714be86f",
   "metadata": {},
   "outputs": [],
   "source": [
    "smote = SMOTE( random_state=42)\n",
    "X_train_resampled, y_train_resampled = smote.fit_resample(X_train, y_train)"
   ]
  },
  {
   "cell_type": "code",
   "execution_count": null,
   "id": "61e2262e-c831-47a2-b342-2f5d8c91a8f4",
   "metadata": {},
   "outputs": [],
   "source": [
    "selected_columns = [\n",
    "    'mean_accX_orig', 'mean_accY_orig', 'mean_accZ_orig', 'mean_gyroX_orig', 'mean_gyroY_orig', 'mean_gyroZ_orig',\n",
    "    'mean_magnX_orig', 'mean_magnY_orig', 'mean_magnZ_orig', 'mean_linAccX_orig', 'mean_linAccY_orig', 'mean_linAccZ_orig',\n",
    "    'mean_accX', 'mean_accY', 'mean_accZ', 'mean_gyroX', 'mean_gyroY', 'mean_gyroZ',\n",
    "    'mean_magnX', 'mean_magnY', 'mean_magnZ', 'mean_linAccX', 'mean_linAccY', 'mean_linAccZ', 'mean_accX_mod',\n",
    "    'mean_accY_mod', 'mean_accZ_mod', 'mean_gyroX_mod', 'mean_gyroY_mod', 'mean_gyroZ_mod', 'mean_magnX_mod',\n",
    "    'mean_magnY_mod', 'mean_magnZ_mod', 'mean_linAccX_mod', 'mean_linAccY_mod', 'mean_linAccZ_mod',\n",
    "    'std_accX_orig', 'std_accY_orig', 'std_accZ_orig', 'std_gyroX_orig', 'std_gyroY_orig', 'std_gyroZ_orig',\n",
    "    'std_magnX_orig', 'std_magnY_orig', 'std_magnZ_orig', 'std_linAccX_orig', 'std_linAccY_orig', 'std_linAccZ_orig',\n",
    "    'std_accX', 'std_accY', 'std_accZ', 'std_gyroX', 'std_gyroY', 'std_gyroZ', 'std_magnX',\n",
    "    'std_magnY', 'std_magnZ', 'std_linAccX', 'std_linAccY', 'std_linAccZ', 'std_accX_mod', 'std_accY_mod', 'std_accZ_mod',\n",
    "    'std_gyroX_mod', 'std_gyroY_mod', 'std_gyroZ_mod', 'std_magnX_mod', 'std_magnY_mod', 'std_magnZ_mod',\n",
    "    'std_linAccX_mod', 'std_linAccY_mod', 'std_linAccZ_mod', 'median_accX_orig', 'median_accY_orig',\n",
    "    'median_accZ_orig', 'median_gyroX_orig', 'median_gyroY_orig', 'median_gyroZ_orig', 'median_magnX_orig',\n",
    "    'median_magnY_orig', 'median_magnZ_orig', 'median_linAccX_orig', 'median_linAccY_orig', 'median_linAccZ_orig',\n",
    "    'median_accX', 'median_accY', 'median_accZ', 'median_gyroX', 'median_gyroY',\n",
    "    'median_gyroZ', 'median_magnX', 'median_magnY', 'median_magnZ', 'median_linAccX', 'median_linAccY',\n",
    "    'median_linAccZ', 'median_accX_mod', 'median_accY_mod', 'median_accZ_mod', 'median_gyroX_mod', 'median_gyroY_mod',\n",
    "    'median_gyroZ_mod', 'median_magnX_mod', 'median_magnY_mod', 'median_magnZ_mod', 'median_linAccX_mod',\n",
    "    'median_linAccY_mod', 'median_linAccZ_mod'\n",
    "]\n",
    "\n",
    "X_train3_ns = X_train_resampled[selected_columns].copy()\n",
    "X_test3_ns = X_test[selected_columns].copy()"
   ]
  },
  {
   "cell_type": "code",
   "execution_count": null,
   "id": "253497d6-8d57-4cbd-88fa-4caf318a94ea",
   "metadata": {},
   "outputs": [],
   "source": [
    "selected2 = SelectKBest(score_func=f_classif, k=30)\n",
    "X_train3_selected=selected2.fit_transform(X_train3_ns, y_train_resampled)\n",
    "X_test3_selected = selected2.transform(X_test3_ns) #I have to choose also for the test\n",
    "selected2.get_feature_names_out()"
   ]
  },
  {
   "cell_type": "code",
   "execution_count": null,
   "id": "e22ac26b-a465-4aa4-b855-da13342028db",
   "metadata": {},
   "outputs": [],
   "source": [
    "# Scale Data\n",
    "scaler3 = StandardScaler()\n",
    "X_train3_full = scaler3.fit_transform(X_train3_selected) #I only use the selected variables\n",
    "# apply stanrdadization also to the test\n",
    "X_test3_full = scaler3.transform(X_test3_selected)"
   ]
  },
  {
   "cell_type": "code",
   "execution_count": null,
   "id": "ec401330-f09d-4eb4-ab2f-9d9b9da261d5",
   "metadata": {},
   "outputs": [],
   "source": [
    "# ahora tengo que hacer la codificacion de la variable target \n",
    "label_encoder = LabelEncoder()\n",
    "# Aplica la transformación a la variable y\n",
    "y_train_full = label_encoder.fit_transform(y_train_resampled)\n",
    "y_test= label_encoder.transform(y_test)"
   ]
  },
  {
   "cell_type": "code",
   "execution_count": null,
   "id": "22b637ae-5c48-4816-9f04-d7ed1b4e7e4e",
   "metadata": {},
   "outputs": [],
   "source": [
    "results_hard3 = {}\n",
    "results_soft3 = {}"
   ]
  },
  {
   "cell_type": "markdown",
   "id": "5e6281cf-c3cb-4471-90d3-95cd17f7ddf9",
   "metadata": {},
   "source": [
    "## SVM"
   ]
  },
  {
   "cell_type": "code",
   "execution_count": null,
   "id": "4fca7904-dad0-430c-8ed2-5d3791a0bee9",
   "metadata": {
    "tags": []
   },
   "outputs": [],
   "source": [
    "from sklearn.svm import SVC\n",
    "import numpy as np\n",
    "from sklearn.model_selection import RandomizedSearchCV\n",
    "svm = SVC(probability=True)\n",
    "param_grid = {'C': [0.1, 1, 10, 100], \n",
    "              'gamma': [1, 0.1, 0.01, 0.001], \n",
    "              'kernel': ['linear', 'rbf', 'poly', 'sigmoid']}\n",
    "\n",
    "\n",
    "# Realizar la búsqueda aleatoria de hiperparámetros\n",
    "random_search_svm = RandomizedSearchCV(\n",
    "    estimator=svm,\n",
    "    param_distributions=param_grid,\n",
    "    n_iter=5,  \n",
    "    scoring=\"roc_auc\",  \n",
    "    n_jobs=7,\n",
    "    return_train_score=True\n",
    ")\n",
    "random_search_svm.fit(X_train3_selected, y_train_full)"
   ]
  },
  {
   "cell_type": "code",
   "execution_count": null,
   "id": "31ba4d69-8117-4159-ac6d-32f027451ada",
   "metadata": {},
   "outputs": [],
   "source": [
    "print(random_search_svm.best_params_)"
   ]
  },
  {
   "cell_type": "code",
   "execution_count": null,
   "id": "6b3392cb-e33a-4b35-a287-0dce51e6e72a",
   "metadata": {},
   "outputs": [],
   "source": [
    "#First evaluate on train\n",
    "proba_train3 = random_search_svm.predict_proba(X_train3_selected)\n",
    "pred_train3 = random_search_svm.predict(X_train3_selected)\n",
    "print(classification_report(y_train_full,pred_train3))"
   ]
  },
  {
   "cell_type": "code",
   "execution_count": null,
   "id": "02635a45-882f-478a-958d-b802ef4f9e41",
   "metadata": {},
   "outputs": [],
   "source": [
    "#now I will check with the test\n",
    "proba_test3 = random_search_svm.predict_proba(X_test3_full)\n",
    "pred_test3 = random_search_svm.predict(X_test3_full)\n",
    "print(classification_report(y_test,pred_test3))"
   ]
  },
  {
   "cell_type": "markdown",
   "id": "76ac1bd2-3d4e-4a83-a4bf-8867e5d48638",
   "metadata": {},
   "source": [
    "## XGBOOST"
   ]
  },
  {
   "cell_type": "code",
   "execution_count": null,
   "id": "8a4d8ce1-ddaf-42e2-9abb-cc3f12c167aa",
   "metadata": {},
   "outputs": [],
   "source": [
    "import xgboost as xgb\n",
    "xgb = xgb.XGBClassifier()\n",
    "param_dist = {\n",
    "    'n_estimators': range(10, 90, 5),\n",
    "    'max_depth': range(3, 40, 2),\n",
    "    'min_child_weight': range(1, 10),  \n",
    "    'gamma': [0, 0.1, 0.2, 0.3],  \n",
    "}\n",
    "\n",
    "# Realizar la búsqueda aleatoria de hiperparámetros\n",
    "random_search_XGB = RandomizedSearchCV(\n",
    "    estimator=xgb,\n",
    "    param_distributions=param_dist,\n",
    "    n_iter=10, \n",
    "    scoring=\"roc_auc\",  \n",
    "    n_jobs=7,\n",
    "    return_train_score=True\n",
    ")\n",
    "#para este modelo uso datos sin escalar \n",
    "random_search_XGB.fit(X_train3_selected, y_train_full)\n",
    "print(random_search_XGB.best_params_)"
   ]
  },
  {
   "cell_type": "code",
   "execution_count": null,
   "id": "7dbeac24-5825-496c-b55c-949e19563035",
   "metadata": {},
   "outputs": [],
   "source": [
    "#First evaluate on train\n",
    "proba_train_XGB3 = random_search_XGB.predict_proba(X_train3_selected)\n",
    "pred_train_XGB3 = random_search_XGB.predict(X_train3_selected)\n",
    "print(classification_report(y_train_full,pred_train_XGB3))"
   ]
  },
  {
   "cell_type": "code",
   "execution_count": null,
   "id": "642c4ddb-8ebd-4dce-9eb0-c417fdbe9f7e",
   "metadata": {},
   "outputs": [],
   "source": [
    "#now I will check with the test\n",
    "proba_test_XGB3 = random_search_XGB.predict_proba(X_test3_selected)\n",
    "pred_test_XGB3 = random_search_XGB.predict(X_test3_selected)\n",
    "print(classification_report(y_test,pred_test_XGB3))"
   ]
  },
  {
   "cell_type": "markdown",
   "id": "a13faa76-5f87-4f68-b914-c01be62f0bfd",
   "metadata": {},
   "source": [
    "## Naive Bayes"
   ]
  },
  {
   "cell_type": "code",
   "execution_count": null,
   "id": "a9fc8424-17be-4380-be78-3fbf397e2ed3",
   "metadata": {},
   "outputs": [],
   "source": [
    "from sklearn.naive_bayes import GaussianNB\n",
    "gaus = GaussianNB()\n",
    "param_dist_NB = {\n",
    "    'priors': [[0.2, 0.8], [0.5, 0.5], [0.8, 0.2],[0.3, 0.7],[0.7, 0.3]]\n",
    "}\n",
    "\n",
    "\n",
    "random_search_NB = RandomizedSearchCV(\n",
    "    estimator=gaus,\n",
    "    param_distributions=param_dist_NB,\n",
    "    n_iter=5,  \n",
    "    scoring=\"roc_auc\",  \n",
    "    n_jobs=7,\n",
    "    return_train_score=True\n",
    ")\n",
    "# Entrenar el modelo con la búsqueda aleatoria de hiperparámetros\n",
    "random_search_NB.fit(X_train3_selected, y_train_full)"
   ]
  },
  {
   "cell_type": "code",
   "execution_count": null,
   "id": "13d5ca61-1549-4303-a932-e75b8d07196d",
   "metadata": {},
   "outputs": [],
   "source": [
    "print(random_search_NB.best_params_)"
   ]
  },
  {
   "cell_type": "code",
   "execution_count": null,
   "id": "eac4b16a-5bd9-4f8d-905d-9bacfbe7f50c",
   "metadata": {},
   "outputs": [],
   "source": [
    "#First evaluate on train\n",
    "proba_train_NB3 = random_search_NB.predict_proba(X_train3_selected)\n",
    "pred_train_NB3 = random_search_NB.predict(X_train3_selected)\n",
    "print(classification_report(y_train_full,pred_train_NB3))"
   ]
  },
  {
   "cell_type": "code",
   "execution_count": null,
   "id": "07df4117-155a-4bc2-8ec3-43ac0550e44a",
   "metadata": {},
   "outputs": [],
   "source": [
    "#now I will check with the test\n",
    "proba_test_NB3 = random_search_NB.predict_proba(X_test3_full)\n",
    "pred_test_NB3 = random_search_NB.predict(X_test3_full)\n",
    "print(classification_report(y_test,pred_test_NB3))"
   ]
  },
  {
   "cell_type": "markdown",
   "id": "5f34b801-19d6-4db6-aa40-9cd23bf7107b",
   "metadata": {},
   "source": [
    "## Model evaluation"
   ]
  },
  {
   "cell_type": "code",
   "execution_count": null,
   "id": "f12332a3-2fa8-487e-a501-8946299f0c05",
   "metadata": {},
   "outputs": [],
   "source": [
    "#pred_SV3 = random_search_svm.predict(X_test3_full)\n",
    "#proba_SV3 = random_search_svm.predict_proba(X_test3_full)\n",
    "#results_hard3[\"Support_Vector\"] = pred_SV3\n",
    "#results_soft3[\"Support_Vector\"] = proba_SV3[:,1]\n",
    "\n",
    "proba_XGB3 = random_search_XGB.predict_proba(X_test3_selected)\n",
    "pred_XGB3 = random_search_XGB.predict(X_test3_selected)\n",
    "results_hard3[\"XGBOOST\"] = pred_XGB3\n",
    "results_soft3[\"XGBOOST\"] = proba_XGB3[:,1]\n",
    "\n",
    "proba_NB3 = random_search_NB.predict_proba(X_test3_full)\n",
    "pred_NB3 = random_search_NB.predict(X_test3_full)\n",
    "results_hard3[\"Naive_Bayes\"] = pred_NB3\n",
    "results_soft3[\"Naive_Bayes\"] = proba_NB3[:,1]\n",
    "\n",
    "results_hard3 = pd.DataFrame(results_hard3)\n",
    "results_soft3 = pd.DataFrame(results_soft3)"
   ]
  },
  {
   "cell_type": "code",
   "execution_count": null,
   "id": "d44a663a-b8e7-4485-97db-19f19da1003f",
   "metadata": {},
   "outputs": [],
   "source": [
    "metrics3 = {}\n",
    "\n",
    "metrics3[\"Accuracy\"] = {\n",
    "    \"Naive_Bayes\": accuracy_score(y_test, results_hard3.Naive_Bayes),\n",
    "    #\"Support_Vector\": accuracy_score(y_test, results_hard3.Support_Vector),\n",
    "    \"XGBOOST\": accuracy_score(y_test, results_hard3.XGBOOST)\n",
    "}\n",
    "metrics3[\"Precision\"] = {\n",
    "    \"Naive_Bayes\": precision_score(y_test, results_hard3.Naive_Bayes),\n",
    "    #\"Support_Vector\": precision_score(y_test, results_hard3.Support_Vector),\n",
    "    \"XGBOOST\": precision_score(y_test, results_hard3.XGBOOST)\n",
    "}\n",
    "metrics3[\"Recall\"] = {\n",
    "    \"Naive_Bayes\": recall_score(y_test, results_hard3.Naive_Bayes),\n",
    "    #\"Support_Vector\": recall_score(y_test, results_hard3.Support_Vector),\n",
    "    \"XGBOOST\": recall_score(y_test, results_hard3.XGBOOST)\n",
    "}\n",
    "metrics3[\"F1\"] = {\n",
    "    \"Naive_Bayes\": f1_score(y_test, results_hard3.Naive_Bayes),\n",
    "    #\"Support_Vector\": f1_score(y_test, results_hard3.Support_Vector),\n",
    "    \"XGBOOST\": f1_score(y_test, results_hard3.XGBOOST)\n",
    "}\n",
    "\n",
    "metrics3 = pd.DataFrame(metrics3)\n",
    "metrics3"
   ]
  },
  {
   "cell_type": "markdown",
   "id": "4a62aa04-92a7-4e18-acda-2362cf4f5121",
   "metadata": {},
   "source": [
    "## ROC Curves"
   ]
  },
  {
   "cell_type": "code",
   "execution_count": null,
   "id": "bd242deb-13ad-4573-a4bf-c9650a6eb907",
   "metadata": {},
   "outputs": [],
   "source": [
    "# Datos de FPR y TPR para los dos modelos \n",
    "fpr_Naive_Bayes3,tpr_Naive_Bayes3,_ = roc_curve(y_test, results_soft3.Naive_Bayes)\n",
    "#fpr_Support_Vector3,tpr_Support_Vector3,_ = roc_curve(y_test, results_soft3.Support_Vector)\n",
    "fpr_XGBOOST3,tpr_XGBOOST3,_ = roc_curve(y_test, results_soft3.XGBOOST)\n",
    "\n",
    "# Calcular el área bajo la curva ROC (AUC) para cada modelo\n",
    "auc_Naive_Bayes3 = auc(fpr_Naive_Bayes3,tpr_Naive_Bayes3)\n",
    "#auc_Support_Vector3 = auc(fpr_Support_Vector3,tpr_Support_Vector3)\n",
    "auc_XGBOOST3 = auc(fpr_XGBOOST3,tpr_XGBOOST3)"
   ]
  },
  {
   "cell_type": "code",
   "execution_count": null,
   "id": "12c05c2a-a0c9-4a70-a46c-758dd32cb57b",
   "metadata": {},
   "outputs": [],
   "source": [
    "# Crear la gráfica ROC\n",
    "plt.figure(figsize=(8, 6))\n",
    "\n",
    "# Graficar las curvas ROC para los tres modelos\n",
    "plt.plot(fpr_Naive_Bayes3,tpr_Naive_Bayes3, label=f'Naive bayes (AUC = {auc_Naive_Bayes3:.2f})')\n",
    "plt.plot(fpr_XGBOOST3,tpr_XGBOOST3, label=f'Xgboost (AUC = {auc_XGBOOST3:.2f})')\n",
    "#plt.plot(fpr_Support_Vector3,tpr_Support_Vector3, label=f'Support Vector (AUC = {auc_Support_Vector3:.2f})')\n",
    "\n",
    "\n",
    "# Configurar la gráfica\n",
    "plt.plot([0, 1], [0, 1], 'k--', lw=2)  # Línea diagonal para referencia\n",
    "plt.xlim([0.0, 1.0])\n",
    "plt.ylim([0.0, 1.05])\n",
    "plt.xlabel('Tasa de Falsos Positivos (FPR)')\n",
    "plt.ylabel('Tasa de Verdaderos Positivos (TPR)')\n",
    "plt.title('Curva ROC de Modelos')\n",
    "plt.legend(loc=\"lower right\")\n",
    "\n",
    "# Mostrar la gráfica\n",
    "plt.show()"
   ]
  },
  {
   "cell_type": "code",
   "execution_count": null,
   "id": "68228b36-9459-4d16-ac05-2398443a3caa",
   "metadata": {},
   "outputs": [],
   "source": [
    "# ¡¡¡¡¡¡¡¡¡¡NOOOOOOOOOO LO CORRAS QUE SE EXPLOTA!!!!!!!!!!!\n",
    "#target = list()\n",
    "#frames = list()\n",
    "#for i in data:\n",
    "#    target=i['target']\n",
    "#    for j in data:\n",
    "#        frames.append(j['series'])\n",
    "#    df = pd.concat(frames,axis = 1)\n",
    "#    df['target'] = target"
   ]
  },
  {
   "cell_type": "code",
   "execution_count": null,
   "id": "7a64cb52-80bc-4320-898a-30724b0af2ca",
   "metadata": {},
   "outputs": [],
   "source": []
  },
  {
   "cell_type": "code",
   "execution_count": null,
   "id": "1d21bd8c-e1ea-48ea-9ada-c3a31392e0e2",
   "metadata": {},
   "outputs": [],
   "source": []
  },
  {
   "cell_type": "code",
   "execution_count": null,
   "id": "57138164-a79b-4a10-88e4-7116fdf18563",
   "metadata": {},
   "outputs": [],
   "source": []
  }
 ],
 "metadata": {
  "kernelspec": {
   "display_name": "Python 3 (ipykernel)",
   "language": "python",
   "name": "python3"
  },
  "language_info": {
   "codemirror_mode": {
    "name": "ipython",
    "version": 3
   },
   "file_extension": ".py",
   "mimetype": "text/x-python",
   "name": "python",
   "nbconvert_exporter": "python",
   "pygments_lexer": "ipython3",
   "version": "3.10.13"
  }
 },
 "nbformat": 4,
 "nbformat_minor": 5
}
