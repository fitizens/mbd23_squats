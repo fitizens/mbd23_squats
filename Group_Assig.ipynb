{
 "cells": [
  {
   "cell_type": "markdown",
   "id": "7a26496c-e3c9-47b2-b136-ada4d9bf20b6",
   "metadata": {
    "tags": []
   },
   "source": [
    "# ETL "
   ]
  },
  {
   "cell_type": "markdown",
   "id": "61a4e21b-46d2-4dc4-a9d3-03a902964a5d",
   "metadata": {},
   "source": [
    "Lo primero que hacemos es llamar las funciones: `Fitizens_libraries` es la carpeta en la que se encuentan los archivos .py con las funciones:"
   ]
  },
  {
   "cell_type": "code",
   "execution_count": 1,
   "id": "48a99f12-cbfb-40cf-b151-f245b00bb21c",
   "metadata": {},
   "outputs": [],
   "source": [
    "from fitizens_libraries.load_and_process_training_data import load_training_data\n",
    "from fitizens_libraries.load_timeseries import load_timeseries_data\n",
    "from custom_libraries.merge_data import merge_data\n",
    "import plotly.express as px\n",
    "import seaborn as sns\n",
    "import matplotlib.pyplot as plt\n",
    "from fitizens_libraries.plot_labeled_sequences import plot_labeled_sequence\n",
    "from statsmodels.graphics.tsaplots import plot_acf, plot_pacf\n",
    "from matplotlib import pyplot\n",
    "from fitizens_libraries.build_dataframe_from_list_of_signals import build_dataframe\n",
    "import pandas as pd\n",
    "import os\n",
    "from collections import Counter\n",
    "from sklearn.preprocessing import OneHotEncoder, StandardScaler\n",
    "from sklearn.model_selection import train_test_split \n",
    "from sklearn.feature_selection import SelectKBest, f_classif\n",
    "from sklearn.preprocessing import LabelEncoder\n",
    "from imblearn.over_sampling import SMOTE\n",
    "from sklearn.metrics import accuracy_score\n",
    "from sklearn.metrics import confusion_matrix, classification_report\n",
    "from sklearn.metrics import roc_auc_score, roc_curve, classification_report, auc, roc_auc_score\n",
    "import plotly.graph_objects as go\n",
    "from sklearn.metrics import accuracy_score, precision_score, recall_score, f1_score\n",
    "from sklearn.metrics import roc_curve, auc\n",
    "import numpy as np\n",
    "from sklearn.model_selection import RandomizedSearchCV"
   ]
  },
  {
   "cell_type": "markdown",
   "id": "cac128ea-2812-4761-8d8e-e14121b2f6bc",
   "metadata": {},
   "source": [
    "Para el proceso de ETL lo que haremos será utilizar la función de `load_training_data`:\n",
    "1. Basicamente nos busca los archivos JSON en la carpeta zip en la que se encuentren y los carga.\n",
    "2. Intenta buscar repeticiones falsas y verdaderas del ejercicio \n",
    "3. Se filtran las repeticiones falsas para que tengan una duración dentro del rango de las repeticiones reales.\n",
    "\n",
    "Es importante tener en cuenta que la función me exige unos hiperparametros obligatorios que tengo que indicar:\n",
    "\n",
    "- signals : list of str\n",
    "    List of signals to include in the dataframe. The signals must be present in the input data\n",
    "- target_exercise : str\n",
    "        Exercise to detect repetitions\n",
    "- other_exercises : list of str\n",
    "        List of exercises to use as negative examples"
   ]
  },
  {
   "cell_type": "code",
   "execution_count": null,
   "id": "71fa3214-5820-4217-bc37-8f54635e4c87",
   "metadata": {},
   "outputs": [],
   "source": [
    "folder_path = \"LABELED\"\n",
    "os.makedirs(folder_path, exist_ok=True) #Referenciamos la carpeta LABELED en la que están las carpetas zip con los json\n",
    "#Ahora voy a iterar en esa carpeta LABELED para obtener la ruta de los archivos, que es el LABELED/NOMBRE y eso lo guardo en una lista\n",
    "file_names = []\n",
    "for name in os.listdir(folder_path):\n",
    "    file_path = f\"{folder_path}/{name}\"\n",
    "    file_names.append(file_path)\n",
    "#Ahora tengo que especificar mis features \n",
    "signals = [\"accX\", \"accY\", \"accZ\", \"gyroX\", \"gyroY\", \"gyroZ\", \"magnX\", \"magnY\", \"magnZ\", \"linAccX\", \"linAccY\", \"linAccZ\"]\n",
    "#Indico mi target\n",
    "target_exercise=\"SQUAT\""
   ]
  },
  {
   "cell_type": "code",
   "execution_count": null,
   "id": "7532dd215af99b84",
   "metadata": {
    "collapsed": false,
    "jupyter": {
     "outputs_hidden": false
    }
   },
   "outputs": [],
   "source": [
    "len(file_names)"
   ]
  },
  {
   "cell_type": "code",
   "execution_count": null,
   "id": "92e3732d-a355-44ff-98cb-fa4e20bbf83c",
   "metadata": {},
   "outputs": [],
   "source": [
    "data,wk = load_training_data(filelist=file_names[0:5],\n",
    "                         signals= signals,\n",
    "                          target_exercise=target_exercise, other_exercises=[], is_peak_minima=True)"
   ]
  },
  {
   "cell_type": "code",
   "execution_count": null,
   "id": "de4f4e51e52cbd3a",
   "metadata": {
    "collapsed": false,
    "jupyter": {
     "outputs_hidden": false
    }
   },
   "outputs": [],
   "source": [
    "#df2=build_dataframe(data)"
   ]
  },
  {
   "cell_type": "code",
   "execution_count": null,
   "id": "352817b3e8ea798f",
   "metadata": {
    "collapsed": false,
    "jupyter": {
     "outputs_hidden": false
    }
   },
   "outputs": [],
   "source": [
    "#df2.head()"
   ]
  },
  {
   "cell_type": "code",
   "execution_count": null,
   "id": "9b069a81a58c0a98",
   "metadata": {
    "tags": []
   },
   "outputs": [],
   "source": [
    "data[0]"
   ]
  },
  {
   "cell_type": "code",
   "execution_count": null,
   "id": "c0548b11-4182-41aa-a283-c1fd634af621",
   "metadata": {
    "tags": []
   },
   "outputs": [],
   "source": [
    "#Revisamos\n",
    "#data\n",
    "len(data)"
   ]
  },
  {
   "cell_type": "code",
   "execution_count": null,
   "id": "ed14bd00ad1b2575",
   "metadata": {
    "collapsed": false,
    "jupyter": {
     "outputs_hidden": false
    }
   },
   "outputs": [],
   "source": [
    "data[1]['target']"
   ]
  },
  {
   "cell_type": "code",
   "execution_count": null,
   "id": "76970bdf9ff0b8c2",
   "metadata": {
    "collapsed": false,
    "jupyter": {
     "outputs_hidden": false
    }
   },
   "outputs": [],
   "source": [
    "df = merge_data(data)\n",
    "len(df)"
   ]
  },
  {
   "cell_type": "code",
   "execution_count": null,
   "id": "e903e2f14be6626a",
   "metadata": {
    "collapsed": false,
    "jupyter": {
     "outputs_hidden": false
    }
   },
   "outputs": [],
   "source": [
    "df.head()"
   ]
  },
  {
   "cell_type": "code",
   "execution_count": null,
   "id": "ab985f9a-3c55-4d90-bd46-b45d91700cb4",
   "metadata": {},
   "outputs": [],
   "source": [
    "df.columns"
   ]
  },
  {
   "cell_type": "markdown",
   "id": "469838a80cb45145",
   "metadata": {},
   "source": [
    "Ahora voy a convertir esto en un problema de clasificacion binario; para ello, voy a crear una columna de exercise, en la que segun la columna `exercising_periods` me diga si hay o no un squad. Si esa columna tiene un cero, indica que no hay squad, de lo contrario es un squad."
   ]
  },
  {
   "cell_type": "code",
   "execution_count": null,
   "id": "9ff0ab444e9145fc",
   "metadata": {
    "collapsed": false,
    "jupyter": {
     "outputs_hidden": false
    }
   },
   "outputs": [],
   "source": [
    "def nueva_columna(exercise):\n",
    "    if exercise == 0:\n",
    "        return 'no exercise'\n",
    "    else:\n",
    "        return 'squad'\n",
    "df['squad'] = df['exercising_periods'].apply(nueva_columna)"
   ]
  },
  {
   "cell_type": "code",
   "execution_count": null,
   "id": "6c6c2f4fd62300b6",
   "metadata": {
    "collapsed": false,
    "jupyter": {
     "outputs_hidden": false
    }
   },
   "outputs": [],
   "source": [
    "df.head()"
   ]
  },
  {
   "cell_type": "code",
   "execution_count": null,
   "id": "d297188dd9ad1886",
   "metadata": {
    "collapsed": false,
    "jupyter": {
     "outputs_hidden": false
    }
   },
   "outputs": [],
   "source": [
    "df.info()"
   ]
  },
  {
   "cell_type": "markdown",
   "id": "defc710a-6ac1-4c61-b612-0134506f8855",
   "metadata": {
    "tags": []
   },
   "source": [
    "# EDA"
   ]
  },
  {
   "cell_type": "code",
   "execution_count": null,
   "id": "7c36691aa9ad580a",
   "metadata": {
    "collapsed": false,
    "jupyter": {
     "outputs_hidden": false
    }
   },
   "outputs": [],
   "source": [
    "#revisar porcentaje de valores nulos por columnas\n",
    "((df.isnull().sum())/len(df))*100"
   ]
  },
  {
   "cell_type": "code",
   "execution_count": null,
   "id": "5f706319f45b59b8",
   "metadata": {
    "collapsed": false,
    "jupyter": {
     "outputs_hidden": false
    }
   },
   "outputs": [],
   "source": [
    "sns.countplot(x=df['squad'], label = \"squad\")"
   ]
  },
  {
   "cell_type": "code",
   "execution_count": null,
   "id": "362130a7869ada2c",
   "metadata": {
    "collapsed": false,
    "jupyter": {
     "outputs_hidden": false
    }
   },
   "outputs": [],
   "source": [
    "df.index"
   ]
  },
  {
   "cell_type": "code",
   "execution_count": null,
   "id": "851b313356caf3d8",
   "metadata": {
    "collapsed": false,
    "jupyter": {
     "outputs_hidden": false
    }
   },
   "outputs": [],
   "source": [
    "fig = px.line(df, x=df.index, y='linAccZ', title='Time serie of exercise linAccZ',color='squad')\n",
    "fig.show()"
   ]
  },
  {
   "cell_type": "code",
   "execution_count": null,
   "id": "40b273a2736a7321",
   "metadata": {
    "collapsed": false,
    "jupyter": {
     "outputs_hidden": false
    }
   },
   "outputs": [],
   "source": [
    "fig = px.box(df, y=\"linAccZ\", color=\"squad\",title = 'Distribution of linAccZ vs target variable')\n",
    "fig.update_traces(quartilemethod=\"exclusive\") \n",
    "fig.show()"
   ]
  },
  {
   "cell_type": "code",
   "execution_count": null,
   "id": "2deb6671b27b5dbd",
   "metadata": {
    "collapsed": false,
    "jupyter": {
     "outputs_hidden": false
    }
   },
   "outputs": [],
   "source": [
    "fig = px.box(df, y=\"linAccY\", color=\"squad\",title = 'Distribution of linAccY vs target variable')\n",
    "fig.update_traces(quartilemethod=\"exclusive\") \n",
    "fig.show()"
   ]
  },
  {
   "cell_type": "code",
   "execution_count": null,
   "id": "6436e7eb48e43157",
   "metadata": {
    "collapsed": false,
    "jupyter": {
     "outputs_hidden": false
    }
   },
   "outputs": [],
   "source": [
    "fig = px.box(df, y=\"linAccX\", color=\"squad\",title = 'Distribution of linAccX vs target variable')\n",
    "fig.update_traces(quartilemethod=\"exclusive\") \n",
    "fig.show()"
   ]
  },
  {
   "cell_type": "code",
   "execution_count": null,
   "id": "606aad252d7a3211",
   "metadata": {
    "collapsed": false,
    "jupyter": {
     "outputs_hidden": false
    }
   },
   "outputs": [],
   "source": [
    "fig = px.box(df, y=\"accZ_mod\", color=\"squad\",title = 'Distribution of accZ_mod vs target variable')\n",
    "fig.update_traces(quartilemethod=\"exclusive\") \n",
    "fig.show()"
   ]
  },
  {
   "cell_type": "code",
   "execution_count": null,
   "id": "42cb1c86c3da8a31",
   "metadata": {
    "collapsed": false,
    "jupyter": {
     "outputs_hidden": false
    }
   },
   "outputs": [],
   "source": [
    "fig = px.box(df, y=\"accX_mod\", color=\"squad\",title = 'Distribution of accX_mod vs target variable')\n",
    "fig.update_traces(quartilemethod=\"exclusive\") \n",
    "fig.show()"
   ]
  },
  {
   "cell_type": "code",
   "execution_count": null,
   "id": "1e197e006d97a758",
   "metadata": {
    "collapsed": false,
    "jupyter": {
     "outputs_hidden": false
    }
   },
   "outputs": [],
   "source": [
    "fig = px.box(df, y=\"accY_mod\", color=\"squad\",title = 'Distribution of accY_mod vs target variable')\n",
    "fig.update_traces(quartilemethod=\"exclusive\") \n",
    "fig.show()"
   ]
  },
  {
   "cell_type": "code",
   "execution_count": null,
   "id": "37419811-3fc6-4e1d-9af0-9032539acd7f",
   "metadata": {},
   "outputs": [],
   "source": [
    "timeseries, labels_ranges = load_timeseries_data(filelist=file_names, signals=signals, is_peak_minima=True)"
   ]
  },
  {
   "cell_type": "code",
   "execution_count": null,
   "id": "51f8aa25-2765-4beb-b90f-1c2369eaae94",
   "metadata": {},
   "outputs": [],
   "source": [
    "timeseries.columns"
   ]
  },
  {
   "cell_type": "code",
   "execution_count": null,
   "id": "619064f6-c823-4477-91c9-ca4a617d6fd2",
   "metadata": {},
   "outputs": [],
   "source": [
    "plot_labeled_sequence(timeseries, labels_ranges[0:5])"
   ]
  },
  {
   "cell_type": "code",
   "execution_count": null,
   "id": "a3cd84d79bb68617",
   "metadata": {
    "tags": []
   },
   "outputs": [],
   "source": [
    "labels_ranges"
   ]
  },
  {
   "cell_type": "code",
   "execution_count": null,
   "id": "ae82b7ca183887bd",
   "metadata": {
    "tags": []
   },
   "outputs": [],
   "source": [
    "y = df['exercising_periods']\n",
    "\n",
    "num_lags=24 # to discuss\n",
    "\n",
    "plt.plot(y)\n",
    "plt.show()\n",
    "plot_acf(y,lags=num_lags)\n",
    "plt.show()\n",
    "plot_pacf(y,lags=num_lags,method=\"ols\")\n",
    "plt.show()"
   ]
  },
  {
   "cell_type": "code",
   "execution_count": null,
   "id": "dea95cf0c62f5269",
   "metadata": {
    "collapsed": false,
    "jupyter": {
     "outputs_hidden": false
    }
   },
   "outputs": [],
   "source": [
    "import statsmodels as sm\n",
    "\n",
    "# Ho: the process is not stationary. We need, at least, a unit root\n",
    "# H1: the process is stationary. We have to check different models (lags)\n",
    "\n",
    "\n",
    "adf_test = sm.tsa.stattools.adfuller(y,maxlag=10) \n",
    "# print(\"adf_test\", adf_test) # first output \"The test statistic\", second output \"p-value\"\n",
    "print(\"ADF test for the original series\")\n",
    "print(\"Statistic Value:\" , adf_test[0])\n",
    "print(\"p-value:\" , adf_test[1])\n",
    "# print(sm.__version__)"
   ]
  },
  {
   "cell_type": "code",
   "execution_count": null,
   "id": "ed1f57bae74316f4",
   "metadata": {
    "collapsed": false,
    "jupyter": {
     "outputs_hidden": false
    }
   },
   "outputs": [],
   "source": [
    "prim_1000 = df.head(1000)"
   ]
  },
  {
   "cell_type": "code",
   "execution_count": null,
   "id": "208414d0c789373a",
   "metadata": {
    "tags": []
   },
   "outputs": [],
   "source": [
    "fig = px.line(prim_1000, x=prim_1000.index, y='linAccZ', title='Time serie of exercise linAccZ')\n",
    "fig.show()"
   ]
  },
  {
   "cell_type": "code",
   "execution_count": null,
   "id": "99f4049b988344e1",
   "metadata": {
    "collapsed": false,
    "jupyter": {
     "outputs_hidden": false
    }
   },
   "outputs": [],
   "source": [
    "siguientes_2000 = df.tail(len(df) - 1000).head(1500)"
   ]
  },
  {
   "cell_type": "code",
   "execution_count": null,
   "id": "45cf2eed32f3954b",
   "metadata": {
    "tags": []
   },
   "outputs": [],
   "source": [
    "fig = px.line(siguientes_2000, x=siguientes_2000.index, y='linAccZ', title='Time serie of exercise linAccZ')\n",
    "fig.show()"
   ]
  },
  {
   "cell_type": "markdown",
   "id": "32d201f6-c79d-4aab-a5e0-84b73af6d0d0",
   "metadata": {
    "tags": []
   },
   "source": [
    "# Data prep for model"
   ]
  },
  {
   "cell_type": "code",
   "execution_count": null,
   "id": "4162476d-83d8-44e2-9f16-167519475b54",
   "metadata": {},
   "outputs": [],
   "source": [
    "df = merge_data(data)\n",
    "len(df)"
   ]
  },
  {
   "cell_type": "code",
   "execution_count": null,
   "id": "49f1230d-5063-4261-9205-e46e9e61a7d5",
   "metadata": {},
   "outputs": [],
   "source": [
    "serie = pd.concat([item['series'] for item in data])"
   ]
  },
  {
   "cell_type": "code",
   "execution_count": null,
   "id": "2dbe604e-c69c-4958-baec-d75096088d9a",
   "metadata": {},
   "outputs": [],
   "source": [
    "serie.head()"
   ]
  },
  {
   "cell_type": "code",
   "execution_count": null,
   "id": "dcf9653b-fe1e-4eb1-9f0d-b7d567d212c8",
   "metadata": {},
   "outputs": [],
   "source": [
    "len(serie)"
   ]
  },
  {
   "cell_type": "code",
   "execution_count": null,
   "id": "232a836b-a409-4d6e-a434-f205fc14036e",
   "metadata": {},
   "outputs": [],
   "source": [
    "frames = []\n",
    "target = []\n",
    "for item in data:\n",
    "    frames.append(item['series'])\n",
    "    target.append(item['target'])\n",
    "\n",
    "df = pd.concat(frames)\n",
    "#df['target'] = target"
   ]
  },
  {
   "cell_type": "code",
   "execution_count": null,
   "id": "2ad7082f-6041-4f8c-a2f6-8b5cc15014a2",
   "metadata": {},
   "outputs": [],
   "source": [
    "len(frames)"
   ]
  },
  {
   "cell_type": "code",
   "execution_count": null,
   "id": "d871b1ce-3faa-4a33-90a7-8c2ecd6b8832",
   "metadata": {},
   "outputs": [],
   "source": [
    "len(target)"
   ]
  },
  {
   "cell_type": "code",
   "execution_count": null,
   "id": "ad8d0586-c799-4df7-9c22-97ccec1d5fb2",
   "metadata": {},
   "outputs": [],
   "source": [
    "Counter(target)"
   ]
  },
  {
   "cell_type": "code",
   "execution_count": null,
   "id": "e719aa4a-539f-4920-b6a6-8c34d945e34f",
   "metadata": {
    "tags": []
   },
   "outputs": [],
   "source": [
    "#vamos a crear un dataframe con los promedios\n",
    "promedios_df = pd.DataFrame()\n",
    "\n",
    "# Iterar sobre cada diccionario en la lista\n",
    "for diccionario in data:\n",
    "    # Convertir el diccionario a un DataFrame\n",
    "    df = diccionario['series']\n",
    "\n",
    "    # Calcular el promedio de cada columna y agregarlo al DataFrame de promedios\n",
    "    promedio_serie = df.mean()\n",
    "    promedios_df = promedios_df.append(promedio_serie,ignore_index=True)\n",
    "\n",
    "# Agregar la columna 'target' al DataFrame de promedios\n",
    "promedios_df['target'] = [diccionario['target'] for diccionario in data]"
   ]
  },
  {
   "cell_type": "code",
   "execution_count": null,
   "id": "61247c04-8279-4d11-8ffb-ccc5e00d126c",
   "metadata": {},
   "outputs": [],
   "source": [
    "promedios_df.head()"
   ]
  },
  {
   "cell_type": "code",
   "execution_count": null,
   "id": "6fcd9263-f13b-4f4c-8277-c64a777288c6",
   "metadata": {},
   "outputs": [],
   "source": [
    "#verificamos la longitud del dataframe que coincida con los 3805\n",
    "len(promedios_df)"
   ]
  },
  {
   "cell_type": "code",
   "execution_count": null,
   "id": "ea81d21c-c9e0-4ab4-8591-5323dce0bddf",
   "metadata": {},
   "outputs": [],
   "source": [
    "#verificamos que el target siga desbalanceado y coincidan los numeros\n",
    "promedios_df.groupby('target').size()"
   ]
  },
  {
   "cell_type": "code",
   "execution_count": null,
   "id": "50d41dce-63cd-46c0-8f52-7a456b39b9e7",
   "metadata": {},
   "outputs": [],
   "source": [
    "promedios_df.info()"
   ]
  },
  {
   "cell_type": "code",
   "execution_count": null,
   "id": "15710941-7588-462a-a0f8-0b2439c87604",
   "metadata": {},
   "outputs": [],
   "source": [
    "promedios_df.head()"
   ]
  },
  {
   "cell_type": "code",
   "execution_count": null,
   "id": "ce560ff6-8882-4c2d-94ea-60151f61c6a0",
   "metadata": {},
   "outputs": [],
   "source": [
    "sns.countplot(x=promedios_df['target'], label = \"squad\")"
   ]
  },
  {
   "cell_type": "code",
   "execution_count": null,
   "id": "b597a873-43ab-4d35-8861-371ee0896882",
   "metadata": {},
   "outputs": [],
   "source": [
    "fig = px.box(promedios_df, y=\"linAccZ\", color=\"target\",title = 'Distribution of linAccZ vs target variable')\n",
    "fig.update_traces(quartilemethod=\"exclusive\")\n",
    "fig.show()"
   ]
  },
  {
   "cell_type": "code",
   "execution_count": null,
   "id": "d0aef017-b398-4929-b6ce-e515dfbd34cd",
   "metadata": {},
   "outputs": [],
   "source": [
    "fig = px.box(promedios_df, y=\"linAccZ_orig\", color=\"target\",title = 'Distribution of linAccZ_orig vs target variable')\n",
    "fig.update_traces(quartilemethod=\"exclusive\")\n",
    "fig.show()"
   ]
  },
  {
   "cell_type": "code",
   "execution_count": null,
   "id": "ea70d7e1-b1a4-4bc9-8244-20f1ddea3477",
   "metadata": {},
   "outputs": [],
   "source": [
    "fig = px.box(promedios_df, y=\"linAccY\", color=\"target\",title = 'Distribution of linAccY vs target variable')\n",
    "fig.update_traces(quartilemethod=\"exclusive\")\n",
    "fig.show()"
   ]
  },
  {
   "cell_type": "code",
   "execution_count": null,
   "id": "96abeea8-65fa-400d-8657-98ee8cdfd4c1",
   "metadata": {},
   "outputs": [],
   "source": [
    "fig = px.box(promedios_df, y=\"linAccY_orig\", color=\"target\",title = 'Distribution of linAccY_orig vs target variable')\n",
    "fig.update_traces(quartilemethod=\"exclusive\")\n",
    "fig.show()"
   ]
  },
  {
   "cell_type": "code",
   "execution_count": null,
   "id": "94f855c6-c5d0-4c34-ba32-5f9df1aa9d7a",
   "metadata": {},
   "outputs": [],
   "source": [
    "fig = px.box(promedios_df, y=\"linAccX\", color=\"target\",title = 'Distribution of linAccX vs target variable')\n",
    "fig.update_traces(quartilemethod=\"exclusive\")\n",
    "fig.show()"
   ]
  },
  {
   "cell_type": "code",
   "execution_count": null,
   "id": "293f8602-5cf8-41e3-8d79-0eb4ee3925e4",
   "metadata": {},
   "outputs": [],
   "source": [
    "fig = px.box(promedios_df, y=\"linAccX_orig\", color=\"target\",title = 'Distribution of linAccX_orig vs target variable')\n",
    "fig.update_traces(quartilemethod=\"exclusive\")\n",
    "fig.show()"
   ]
  },
  {
   "cell_type": "code",
   "execution_count": null,
   "id": "5d891694-b379-4abc-a03a-e667e9476cc7",
   "metadata": {},
   "outputs": [],
   "source": [
    "fig = px.box(promedios_df, y=\"accZ_mod\", color=\"target\",title = 'Distribution of accZ_mod vs target variable')\n",
    "fig.update_traces(quartilemethod=\"exclusive\")\n",
    "fig.show()"
   ]
  },
  {
   "cell_type": "code",
   "execution_count": null,
   "id": "18f82a97-2549-40dc-9107-ef66446ed1c2",
   "metadata": {},
   "outputs": [],
   "source": [
    "fig = px.box(promedios_df, y=\"accZ_orig\", color=\"target\",title = 'Distribution of accZ_orig vs target variable')\n",
    "fig.update_traces(quartilemethod=\"exclusive\")\n",
    "fig.show()"
   ]
  },
  {
   "cell_type": "code",
   "execution_count": null,
   "id": "9161386e-1a19-4a15-b048-e80afa95c090",
   "metadata": {},
   "outputs": [],
   "source": [
    "fig = px.box(promedios_df, y=\"accX_mod\", color=\"target\",title = 'Distribution of accX_mod vs target variable')\n",
    "fig.update_traces(quartilemethod=\"exclusive\")\n",
    "fig.show()"
   ]
  },
  {
   "cell_type": "code",
   "execution_count": null,
   "id": "2b250142-be25-4320-b6cf-00cf04c928fe",
   "metadata": {},
   "outputs": [],
   "source": [
    "fig = px.box(promedios_df, y=\"accY_mod\", color=\"target\",title = 'Distribution of accY_mod vs target variable')\n",
    "fig.update_traces(quartilemethod=\"exclusive\")\n",
    "fig.show()"
   ]
  },
  {
   "cell_type": "code",
   "execution_count": null,
   "id": "8e94793e-9865-4201-8123-eef928d76a55",
   "metadata": {},
   "outputs": [],
   "source": [
    "sns.pairplot(promedios_df, hue= 'target',vars=[\"linAccX\", \"linAccY\", \"linAccZ\"])"
   ]
  },
  {
   "cell_type": "code",
   "execution_count": null,
   "id": "cc636fcc-2dff-421a-b1ab-6bba88ff22b8",
   "metadata": {},
   "outputs": [],
   "source": [
    "plt.figure(figsize=(30, 30))\n",
    "sns.heatmap( promedios_df.corr(), annot = True, cmap =\"coolwarm\", linewidths = .5)"
   ]
  },
  {
   "cell_type": "code",
   "execution_count": null,
   "id": "cf7ac26b-19fd-4d04-8fc7-257b1c61670f",
   "metadata": {},
   "outputs": [],
   "source": [
    "X = promedios_df.drop('target',axis=1)\n",
    "y = promedios_df['target']"
   ]
  },
  {
   "cell_type": "code",
   "execution_count": null,
   "id": "a674a086-3149-463d-8ab7-8bf8755b6417",
   "metadata": {},
   "outputs": [],
   "source": [
    "X_train, X_test, y_train, y_test = train_test_split(X, y, test_size=0.2, random_state=99,stratify=y)\n",
    "display(X_train.shape,X_test.shape,y_train.shape,y_test.shape)"
   ]
  },
  {
   "cell_type": "markdown",
   "id": "d6bc991d-2503-4744-b6dd-439f0d8fc16c",
   "metadata": {},
   "source": [
    "## SMOTE for balance my data"
   ]
  },
  {
   "cell_type": "code",
   "execution_count": null,
   "id": "932d9f92-edde-4c7f-bfa8-92bcdef8bd3d",
   "metadata": {},
   "outputs": [],
   "source": [
    "smote = SMOTE( random_state=42)\n",
    "X_train_resampled, y_train_resampled = smote.fit_resample(X_train, y_train)"
   ]
  },
  {
   "cell_type": "code",
   "execution_count": null,
   "id": "0b781664-c637-4f14-9e2c-29911ad35849",
   "metadata": {},
   "outputs": [],
   "source": [
    "#check the new sample\n",
    "import numpy as np\n",
    "np.unique(y_train_resampled,return_counts=True)"
   ]
  },
  {
   "cell_type": "markdown",
   "id": "49ee2361-1fef-44cd-91cf-f8cb3d0cf302",
   "metadata": {},
   "source": [
    "## Feature selection"
   ]
  },
  {
   "cell_type": "code",
   "execution_count": null,
   "id": "2ce38194-a205-4c4a-a0c0-3c509e05e1b9",
   "metadata": {
    "tags": []
   },
   "outputs": [],
   "source": [
    "selected = SelectKBest(score_func=f_classif, k=9)\n",
    "X_train_selected=selected.fit_transform(X_train_resampled, y_train_resampled)\n",
    "X_test_selected = selected.transform(X_test) #I have to choose also for the test"
   ]
  },
  {
   "cell_type": "code",
   "execution_count": null,
   "id": "21324292-433e-4f4f-8728-2a5f054eae36",
   "metadata": {},
   "outputs": [],
   "source": [
    "selected.get_feature_names_out()"
   ]
  },
  {
   "cell_type": "code",
   "execution_count": null,
   "id": "79ef96ad-bfdb-4918-acd7-b00718bffaef",
   "metadata": {},
   "outputs": [],
   "source": [
    "X_train_selected"
   ]
  },
  {
   "cell_type": "code",
   "execution_count": null,
   "id": "c7da453b-1f0c-4a9f-b4a3-0cb83068c081",
   "metadata": {},
   "outputs": [],
   "source": [
    "scores = pd.Series(selected.scores_, index=X.columns)\n",
    "scores = scores.sort_values(ascending=False)\n",
    "px.bar(scores, template=\"none\", title=\"F-Score of features with casual as dependent variable\")"
   ]
  },
  {
   "cell_type": "code",
   "execution_count": null,
   "id": "50bc26ba-a741-4b15-9637-bf9f1f145f46",
   "metadata": {},
   "outputs": [],
   "source": [
    "# Scale Data\n",
    "scaler = StandardScaler()\n",
    "X_train_full = scaler.fit_transform(X_train_selected) #I only use the selected variables\n",
    "# apply stanrdadization also to the test\n",
    "X_test_full = scaler.transform(X_test_selected)"
   ]
  },
  {
   "cell_type": "code",
   "execution_count": null,
   "id": "64ab9d20-0de8-4177-b029-266e6c9db4a1",
   "metadata": {},
   "outputs": [],
   "source": [
    "# ahora tengo que hacer la codificacion de la variable target \n",
    "label_encoder = LabelEncoder()\n",
    "# Aplica la transformación a la variable y\n",
    "y_train_full = label_encoder.fit_transform(y_train_resampled)\n",
    "y_test= label_encoder.transform(y_test)"
   ]
  },
  {
   "cell_type": "markdown",
   "id": "1a8d21bd-e00e-472f-83aa-0bc0ab659433",
   "metadata": {
    "jp-MarkdownHeadingCollapsed": true,
    "tags": []
   },
   "source": [
    "# Models"
   ]
  },
  {
   "cell_type": "code",
   "execution_count": null,
   "id": "b3d06ac2-51fb-4d24-9dfc-7c16ab42ad27",
   "metadata": {},
   "outputs": [],
   "source": [
    "results_hard = {}\n",
    "results_soft = {}"
   ]
  },
  {
   "cell_type": "markdown",
   "id": "d3288ef5-5c9e-4a01-b99e-ec92985ed32d",
   "metadata": {},
   "source": [
    "## SVM"
   ]
  },
  {
   "cell_type": "code",
   "execution_count": null,
   "id": "ea27ae6b-d1e2-41da-8c82-51c7241cb313",
   "metadata": {},
   "outputs": [],
   "source": [
    "from sklearn.svm import SVC\n",
    "import numpy as np\n",
    "from sklearn.model_selection import RandomizedSearchCV\n",
    "svm = SVC(probability=True)"
   ]
  },
  {
   "cell_type": "code",
   "execution_count": null,
   "id": "42c822c6-1af0-4025-9901-cab5cb801944",
   "metadata": {},
   "outputs": [],
   "source": [
    "param_grid = {'C': [0.1, 1, 10, 100], \n",
    "              'gamma': [1, 0.1, 0.01, 0.001], \n",
    "              'kernel': ['linear', 'rbf', 'poly', 'sigmoid']}\n",
    "\n",
    "\n",
    "# Realizar la búsqueda aleatoria de hiperparámetros\n",
    "random_search_svm = RandomizedSearchCV(\n",
    "    estimator=svm,\n",
    "    param_distributions=param_grid,\n",
    "    n_iter=5,  \n",
    "    scoring=\"roc_auc\",  \n",
    "    n_jobs=7,\n",
    "    return_train_score=True\n",
    ")\n",
    "random_search_svm.fit(X_train_full, y_train_full)"
   ]
  },
  {
   "cell_type": "code",
   "execution_count": null,
   "id": "88856925-df71-4552-8aef-9fa1bfbd0548",
   "metadata": {},
   "outputs": [],
   "source": [
    "print(random_search_svm.best_params_)"
   ]
  },
  {
   "cell_type": "code",
   "execution_count": null,
   "id": "36df3ee1-d0fc-470f-825c-6bb2c6180692",
   "metadata": {},
   "outputs": [],
   "source": [
    "#First evaluate on train\n",
    "proba_train = random_search_svm.predict_proba(X_train_full)\n",
    "pred_train = random_search_svm.predict(X_train_full)\n",
    "print(classification_report(y_train_full,pred_train))"
   ]
  },
  {
   "cell_type": "code",
   "execution_count": null,
   "id": "336361ed-3ac8-48fc-bf8b-d59662d85357",
   "metadata": {},
   "outputs": [],
   "source": [
    "#now I will check with the test\n",
    "proba_test = random_search_svm.predict_proba(X_test_full)\n",
    "pred_test = random_search_svm.predict(X_test_full)\n",
    "print(classification_report(y_test,pred_test))"
   ]
  },
  {
   "cell_type": "markdown",
   "id": "5510aa0f-4b59-46d9-b9e5-dd5ff8e7fca6",
   "metadata": {},
   "source": [
    "## XGBOOST"
   ]
  },
  {
   "cell_type": "code",
   "execution_count": null,
   "id": "328f846d-9b99-4104-b7d3-72460ddf1e1a",
   "metadata": {},
   "outputs": [],
   "source": [
    "import xgboost as xgb\n",
    "xgb = xgb.XGBClassifier()"
   ]
  },
  {
   "cell_type": "code",
   "execution_count": null,
   "id": "26066007-ed7e-4cd8-a892-0acb908e10a4",
   "metadata": {},
   "outputs": [],
   "source": [
    "param_dist = {\n",
    "    'n_estimators': range(10, 90, 5),\n",
    "    'max_depth': range(3, 40, 2),\n",
    "    'min_child_weight': range(1, 10),  \n",
    "    'gamma': [0, 0.1, 0.2, 0.3],  \n",
    "}\n",
    "\n",
    "# Realizar la búsqueda aleatoria de hiperparámetros\n",
    "random_search_XGB = RandomizedSearchCV(\n",
    "    estimator=xgb,\n",
    "    param_distributions=param_dist,\n",
    "    n_iter=10, \n",
    "    scoring=\"roc_auc\",  \n",
    "    n_jobs=7,\n",
    "    return_train_score=True\n",
    ")"
   ]
  },
  {
   "cell_type": "code",
   "execution_count": null,
   "id": "761959d8-8a4e-4444-9504-8a04e894ef60",
   "metadata": {},
   "outputs": [],
   "source": [
    "#para este modelo uso datos sin escalar \n",
    "random_search_XGB.fit(X_train_selected, y_train_full)"
   ]
  },
  {
   "cell_type": "code",
   "execution_count": null,
   "id": "48afbaaf-a239-409e-be39-2ef508dcafd8",
   "metadata": {},
   "outputs": [],
   "source": [
    "print(random_search_XGB.best_params_)"
   ]
  },
  {
   "cell_type": "code",
   "execution_count": null,
   "id": "44c81728-abb6-4814-af82-93624fdbd7e8",
   "metadata": {},
   "outputs": [],
   "source": [
    "#First evaluate on train\n",
    "proba_train_XGB = random_search_XGB.predict_proba(X_train_selected)\n",
    "pred_train_XGB = random_search_XGB.predict(X_train_selected)\n",
    "print(classification_report(y_train_full,pred_train_XGB))"
   ]
  },
  {
   "cell_type": "code",
   "execution_count": null,
   "id": "f04c4e1a-9968-426e-a390-123b131c53a1",
   "metadata": {},
   "outputs": [],
   "source": [
    "#now I will check with the test\n",
    "proba_test_XGB = random_search_XGB.predict_proba(X_test_selected)\n",
    "pred_test_XGB = random_search_XGB.predict(X_test_selected)\n",
    "print(classification_report(y_test,pred_test_XGB))"
   ]
  },
  {
   "cell_type": "markdown",
   "id": "a0e59a88-5cc3-45ed-bd36-ccd38d8574c6",
   "metadata": {},
   "source": [
    "## Naive Bayes"
   ]
  },
  {
   "cell_type": "code",
   "execution_count": null,
   "id": "c3a061ee-1105-4a61-8f8f-05bf4535ed14",
   "metadata": {},
   "outputs": [],
   "source": [
    "from sklearn.naive_bayes import GaussianNB\n",
    "gaus = GaussianNB()\n",
    "param_dist_NB = {\n",
    "    'priors': [[0.2, 0.8], [0.5, 0.5], [0.8, 0.2],[0.3, 0.7],[0.7, 0.3]]\n",
    "}\n",
    "\n",
    "\n",
    "random_search_NB = RandomizedSearchCV(\n",
    "    estimator=gaus,\n",
    "    param_distributions=param_dist_NB,\n",
    "    n_iter=5,  \n",
    "    scoring=\"roc_auc\",  \n",
    "    n_jobs=7,\n",
    "    return_train_score=True\n",
    ")"
   ]
  },
  {
   "cell_type": "code",
   "execution_count": null,
   "id": "789d3a4f-41e1-4d10-b847-82328c259473",
   "metadata": {},
   "outputs": [],
   "source": [
    "# Entrenar el modelo con la búsqueda aleatoria de hiperparámetros\n",
    "random_search_NB.fit(X_train_full, y_train_full)"
   ]
  },
  {
   "cell_type": "code",
   "execution_count": null,
   "id": "4e48f353-044c-4faa-abe5-bdf9747a231a",
   "metadata": {},
   "outputs": [],
   "source": [
    "print(random_search_NB.best_params_)"
   ]
  },
  {
   "cell_type": "code",
   "execution_count": null,
   "id": "42d46e26-514f-4bac-b15b-d1f119bb89a8",
   "metadata": {},
   "outputs": [],
   "source": [
    "#First evaluate on train\n",
    "proba_train_NB = random_search_NB.predict_proba(X_train_full)\n",
    "pred_train_NB = random_search_NB.predict(X_train_full)\n",
    "print(classification_report(y_train_full,pred_train_NB))"
   ]
  },
  {
   "cell_type": "code",
   "execution_count": null,
   "id": "1f212c5c-fe13-4779-a0e6-4d2e8762f50c",
   "metadata": {},
   "outputs": [],
   "source": [
    "#now I will check with the test\n",
    "proba_test_NB = random_search_NB.predict_proba(X_test_full)\n",
    "pred_test_NB = random_search_NB.predict(X_test_full)\n",
    "print(classification_report(y_test,pred_test_NB))"
   ]
  },
  {
   "cell_type": "markdown",
   "id": "53a32e28-6635-40ff-aad7-0ec25a0c8981",
   "metadata": {
    "tags": []
   },
   "source": [
    "## Model evaluation"
   ]
  },
  {
   "cell_type": "code",
   "execution_count": null,
   "id": "de1d18a2-f565-4f08-8c94-308807b9d260",
   "metadata": {},
   "outputs": [],
   "source": [
    "pred_SV = random_search_svm.predict(X_test_full)\n",
    "proba_SV = random_search_svm.predict_proba(X_test_full)\n",
    "results_hard[\"Support_Vector\"] = pred_SV\n",
    "results_soft[\"Support_Vector\"] = proba_SV[:,1]\n",
    "\n",
    "proba_XGB = random_search_XGB.predict_proba(X_test_selected)\n",
    "pred_XGB = random_search_XGB.predict(X_test_selected)\n",
    "results_hard[\"XGBOOST\"] = pred_XGB\n",
    "results_soft[\"XGBOOST\"] = proba_XGB[:,1]\n",
    "\n",
    "proba_NB = random_search_NB.predict_proba(X_test_full)\n",
    "pred_NB = random_search_NB.predict(X_test_full)\n",
    "results_hard[\"Naive_Bayes\"] = pred_NB\n",
    "results_soft[\"Naive_Bayes\"] = proba_NB[:,1]\n",
    "\n",
    "results_hard = pd.DataFrame(results_hard)\n",
    "results_soft = pd.DataFrame(results_soft)"
   ]
  },
  {
   "cell_type": "code",
   "execution_count": null,
   "id": "6a079c4b-0682-4852-bbe3-5346a14446a1",
   "metadata": {},
   "outputs": [],
   "source": [
    "metrics = {}\n",
    "\n",
    "metrics[\"Accuracy\"] = {\n",
    "    \"Naive_Bayes\": accuracy_score(y_test, results_hard.Naive_Bayes),\n",
    "    \"Support_Vector\": accuracy_score(y_test, results_hard.Support_Vector),\n",
    "    \"XGBOOST\": accuracy_score(y_test, results_hard.XGBOOST)\n",
    "}\n",
    "metrics[\"Precision\"] = {\n",
    "    \"Naive_Bayes\": precision_score(y_test, results_hard.Naive_Bayes),\n",
    "    \"Support_Vector\": precision_score(y_test, results_hard.Support_Vector),\n",
    "    \"XGBOOST\": precision_score(y_test, results_hard.XGBOOST)\n",
    "}\n",
    "metrics[\"Recall\"] = {\n",
    "    \"Naive_Bayes\": recall_score(y_test, results_hard.Naive_Bayes),\n",
    "    \"Support_Vector\": recall_score(y_test, results_hard.Support_Vector),\n",
    "    \"XGBOOST\": recall_score(y_test, results_hard.XGBOOST)\n",
    "}\n",
    "metrics[\"F1\"] = {\n",
    "    \"Naive_Bayes\": f1_score(y_test, results_hard.Naive_Bayes),\n",
    "    \"Support_Vector\": f1_score(y_test, results_hard.Support_Vector),\n",
    "    \"XGBOOST\": f1_score(y_test, results_hard.XGBOOST)\n",
    "}\n",
    "\n",
    "metrics = pd.DataFrame(metrics)\n",
    "metrics"
   ]
  },
  {
   "cell_type": "markdown",
   "id": "221b271a-eee2-4fd5-a6ee-e36a7e63e698",
   "metadata": {},
   "source": [
    "## ROC Curves"
   ]
  },
  {
   "cell_type": "code",
   "execution_count": null,
   "id": "4f53787a-9f6b-4c7e-a19d-803cf2f03ad0",
   "metadata": {},
   "outputs": [],
   "source": [
    "# Datos de FPR y TPR para los tres modelos \n",
    "fpr_Naive_Bayes,tpr_Naive_Bayes,_ = roc_curve(y_test, results_soft.Naive_Bayes)\n",
    "fpr_Support_Vector,tpr_Support_Vector,_ = roc_curve(y_test, results_soft.Support_Vector)\n",
    "fpr_XGBOOST,tpr_XGBOOST,_ = roc_curve(y_test, results_soft.XGBOOST)\n",
    "\n",
    "# Calcular el área bajo la curva ROC (AUC) para cada modelo\n",
    "auc_Naive_Bayes = auc(fpr_Naive_Bayes,tpr_Naive_Bayes)\n",
    "auc_Support_Vector = auc(fpr_Support_Vector,tpr_Support_Vector)\n",
    "auc_XGBOOST = auc(fpr_XGBOOST,tpr_XGBOOST)"
   ]
  },
  {
   "cell_type": "code",
   "execution_count": null,
   "id": "3406fe27-c3fb-4b68-b666-5f2e18833d2d",
   "metadata": {},
   "outputs": [],
   "source": [
    "# Crear la gráfica ROC\n",
    "plt.figure(figsize=(8, 6))\n",
    "\n",
    "# Graficar las curvas ROC para los tres modelos\n",
    "plt.plot(fpr_Naive_Bayes,tpr_Naive_Bayes, label=f'Naive bayes (AUC = {auc_Naive_Bayes:.2f})')\n",
    "plt.plot(fpr_XGBOOST,tpr_XGBOOST, label=f'Xgboost (AUC = {auc_XGBOOST:.2f})')\n",
    "plt.plot(fpr_Support_Vector,tpr_Support_Vector, label=f'Support Vector (AUC = {auc_Support_Vector:.2f})')\n",
    "\n",
    "\n",
    "# Configurar la gráfica\n",
    "plt.plot([0, 1], [0, 1], 'k--', lw=2)  # Línea diagonal para referencia\n",
    "plt.xlim([0.0, 1.0])\n",
    "plt.ylim([0.0, 1.05])\n",
    "plt.xlabel('Tasa de Falsos Positivos (FPR)')\n",
    "plt.ylabel('Tasa de Verdaderos Positivos (TPR)')\n",
    "plt.title('Curva ROC de Modelos')\n",
    "plt.legend(loc=\"lower right\")\n",
    "\n",
    "# Mostrar la gráfica\n",
    "plt.show()"
   ]
  },
  {
   "cell_type": "markdown",
   "id": "d6330a0c-fe22-4050-b93f-39f85fbae7f5",
   "metadata": {
    "tags": []
   },
   "source": [
    "# Try out models with other features"
   ]
  },
  {
   "cell_type": "markdown",
   "id": "28f3d444-4c51-4aab-91b9-de67f44751a6",
   "metadata": {},
   "source": [
    "Para este caso solo voy a usar las variables entregadas por el sensor: \n",
    "- Raw acceleration.\n",
    "- Angular Velocity.\n",
    "- Magnetic Field.\n",
    "- Linear Acceleration."
   ]
  },
  {
   "cell_type": "code",
   "execution_count": null,
   "id": "560810de-8533-428d-82a5-849d34544e6b",
   "metadata": {},
   "outputs": [],
   "source": [
    "X = promedios_df.drop('target',axis=1)\n",
    "y = promedios_df['target']"
   ]
  },
  {
   "cell_type": "code",
   "execution_count": null,
   "id": "04916ad8-c8b3-46a2-8908-f2a9c88bba28",
   "metadata": {},
   "outputs": [],
   "source": [
    "X_train, X_test, y_train, y_test = train_test_split(X, y, test_size=0.2, random_state=99,stratify=y)\n",
    "display(X_train.shape,X_test.shape,y_train.shape,y_test.shape)"
   ]
  },
  {
   "cell_type": "code",
   "execution_count": null,
   "id": "e5fbde35-7155-4610-8b1d-35030401573d",
   "metadata": {},
   "outputs": [],
   "source": [
    "smote = SMOTE( random_state=42)\n",
    "X_train_resampled, y_train_resampled = smote.fit_resample(X_train, y_train)"
   ]
  },
  {
   "cell_type": "code",
   "execution_count": null,
   "id": "5eb67d36-ad09-4f80-87da-b5aff934466f",
   "metadata": {},
   "outputs": [],
   "source": [
    "selected_columns = ['accX_orig', 'accY_orig', 'accZ_orig', 'gyroX_orig', 'gyroY_orig',\n",
    "                    'gyroZ_orig', 'magnX_orig', 'magnY_orig', 'magnZ_orig', \n",
    "                    'linAccX_orig', 'linAccY_orig', 'linAccZ_orig', 'accX', 'accY',\n",
    "                    'accZ', 'gyroX', 'gyroY', 'gyroZ', 'magnX', 'magnY', 'magnZ', \n",
    "                    'linAccX', 'linAccY', 'linAccZ', 'accX_mod', 'accY_mod', 'accZ_mod', \n",
    "                    'gyroX_mod', 'gyroY_mod', 'gyroZ_mod', 'magnX_mod', 'magnY_mod', \n",
    "                    'magnZ_mod', 'linAccX_mod', 'linAccY_mod', 'linAccZ_mod']\n",
    "\n",
    "X_train2_ns = X_train_resampled[selected_columns].copy()\n",
    "X_test2_ns = X_test[selected_columns].copy()"
   ]
  },
  {
   "cell_type": "code",
   "execution_count": null,
   "id": "d270695b-039c-407a-9678-dcedb8463b87",
   "metadata": {},
   "outputs": [],
   "source": [
    "selected2 = SelectKBest(score_func=f_classif, k=20)\n",
    "X_train2_selected=selected2.fit_transform(X_train2_ns, y_train_resampled)\n",
    "X_test2_selected = selected2.transform(X_test2_ns) #I have to choose also for the test\n",
    "selected2.get_feature_names_out()"
   ]
  },
  {
   "cell_type": "code",
   "execution_count": null,
   "id": "c4c106d9-a05d-4963-b116-9287ce11970e",
   "metadata": {},
   "outputs": [],
   "source": [
    "# Scale Data\n",
    "scaler2 = StandardScaler()\n",
    "X_train2_full = scaler2.fit_transform(X_train2_selected) #I only use the selected variables\n",
    "# apply stanrdadization also to the test\n",
    "X_test2_full = scaler2.transform(X_test2_selected)"
   ]
  },
  {
   "cell_type": "code",
   "execution_count": null,
   "id": "5471e31f-97e4-4f37-ac5d-b9567a59f104",
   "metadata": {},
   "outputs": [],
   "source": [
    "# ahora tengo que hacer la codificacion de la variable target \n",
    "label_encoder = LabelEncoder()\n",
    "# Aplica la transformación a la variable y\n",
    "y_train_full = label_encoder.fit_transform(y_train_resampled)\n",
    "y_test= label_encoder.transform(y_test)"
   ]
  },
  {
   "cell_type": "code",
   "execution_count": null,
   "id": "90bad490-d2fd-4c15-8be5-906bf55fceec",
   "metadata": {},
   "outputs": [],
   "source": [
    "results_hard2 = {}\n",
    "results_soft2 = {}"
   ]
  },
  {
   "cell_type": "markdown",
   "id": "b0cc4ffd-3887-433b-9822-d0cd6cb21fab",
   "metadata": {},
   "source": [
    "## SVM"
   ]
  },
  {
   "cell_type": "code",
   "execution_count": null,
   "id": "6a03a544-6d8c-444e-8947-9793c63e423a",
   "metadata": {},
   "outputs": [],
   "source": [
    "from sklearn.svm import SVC\n",
    "import numpy as np\n",
    "from sklearn.model_selection import RandomizedSearchCV\n",
    "svm = SVC(probability=True)\n",
    "param_grid = {'C': [0.1, 1, 10, 100], \n",
    "              'gamma': [1, 0.1, 0.01, 0.001], \n",
    "              'kernel': ['linear', 'rbf', 'poly', 'sigmoid']}\n",
    "\n",
    "\n",
    "# Realizar la búsqueda aleatoria de hiperparámetros\n",
    "random_search_svm = RandomizedSearchCV(\n",
    "    estimator=svm,\n",
    "    param_distributions=param_grid,\n",
    "    n_iter=5,  \n",
    "    scoring=\"roc_auc\",  \n",
    "    n_jobs=7,\n",
    "    return_train_score=True\n",
    ")\n",
    "random_search_svm.fit(X_train2_full, y_train_full)"
   ]
  },
  {
   "cell_type": "code",
   "execution_count": null,
   "id": "964eb3dc-4589-4885-a265-205ced5e61cc",
   "metadata": {},
   "outputs": [],
   "source": [
    "print(random_search_svm.best_params_)"
   ]
  },
  {
   "cell_type": "code",
   "execution_count": null,
   "id": "ca9ebab4-728c-4cc9-92d9-36e8a0b35726",
   "metadata": {},
   "outputs": [],
   "source": [
    "#First evaluate on train\n",
    "proba_train2 = random_search_svm.predict_proba(X_train2_full)\n",
    "pred_train2 = random_search_svm.predict(X_train2_full)\n",
    "print(classification_report(y_train_full,pred_train2))"
   ]
  },
  {
   "cell_type": "code",
   "execution_count": null,
   "id": "ff655c9f-c122-455e-bc09-84d1108ab395",
   "metadata": {},
   "outputs": [],
   "source": [
    "#now I will check with the test\n",
    "proba_test2 = random_search_svm.predict_proba(X_test2_full)\n",
    "pred_test2 = random_search_svm.predict(X_test2_full)\n",
    "print(classification_report(y_test,pred_test2))"
   ]
  },
  {
   "cell_type": "markdown",
   "id": "2d0ac7d4-e1b1-43e6-837c-f486c67b7f37",
   "metadata": {},
   "source": [
    "## XGBOOST"
   ]
  },
  {
   "cell_type": "code",
   "execution_count": null,
   "id": "f7f25520-15da-4c6e-bd48-5494820d7af0",
   "metadata": {},
   "outputs": [],
   "source": [
    "import xgboost as xgb\n",
    "xgb = xgb.XGBClassifier()\n",
    "param_dist = {\n",
    "    'n_estimators': range(10, 90, 5),\n",
    "    'max_depth': range(3, 40, 2),\n",
    "    'min_child_weight': range(1, 10),  \n",
    "    'gamma': [0, 0.1, 0.2, 0.3],  \n",
    "}\n",
    "\n",
    "# Realizar la búsqueda aleatoria de hiperparámetros\n",
    "random_search_XGB = RandomizedSearchCV(\n",
    "    estimator=xgb,\n",
    "    param_distributions=param_dist,\n",
    "    n_iter=10, \n",
    "    scoring=\"roc_auc\",  \n",
    "    n_jobs=7,\n",
    "    return_train_score=True\n",
    ")\n",
    "#para este modelo uso datos sin escalar \n",
    "random_search_XGB.fit(X_train2_selected, y_train_full)\n",
    "print(random_search_XGB.best_params_)"
   ]
  },
  {
   "cell_type": "code",
   "execution_count": null,
   "id": "cceac8b9-2aac-4967-90f7-5727da75d7f6",
   "metadata": {},
   "outputs": [],
   "source": [
    "#First evaluate on train\n",
    "proba_train_XGB2 = random_search_XGB.predict_proba(X_train2_selected)\n",
    "pred_train_XGB2 = random_search_XGB.predict(X_train2_selected)\n",
    "print(classification_report(y_train_full,pred_train_XGB2))"
   ]
  },
  {
   "cell_type": "code",
   "execution_count": null,
   "id": "ef442e84-11ed-4785-9659-01f7e831589c",
   "metadata": {},
   "outputs": [],
   "source": [
    "#now I will check with the test\n",
    "proba_test_XGB2 = random_search_XGB.predict_proba(X_test2_selected)\n",
    "pred_test_XGB2 = random_search_XGB.predict(X_test2_selected)\n",
    "print(classification_report(y_test,pred_test_XGB2))"
   ]
  },
  {
   "cell_type": "markdown",
   "id": "0d03accc-c01e-4e67-bb6f-27044a361f03",
   "metadata": {},
   "source": [
    "## Naive Bayes"
   ]
  },
  {
   "cell_type": "code",
   "execution_count": null,
   "id": "79d2ca1a-3518-4f4e-9134-feafd2d992d5",
   "metadata": {},
   "outputs": [],
   "source": [
    "from sklearn.naive_bayes import GaussianNB\n",
    "gaus = GaussianNB()\n",
    "param_dist_NB = {\n",
    "    'priors': [[0.2, 0.8], [0.5, 0.5], [0.8, 0.2],[0.3, 0.7],[0.7, 0.3]]\n",
    "}\n",
    "\n",
    "\n",
    "random_search_NB = RandomizedSearchCV(\n",
    "    estimator=gaus,\n",
    "    param_distributions=param_dist_NB,\n",
    "    n_iter=5,  \n",
    "    scoring=\"roc_auc\",  \n",
    "    n_jobs=7,\n",
    "    return_train_score=True\n",
    ")\n",
    "# Entrenar el modelo con la búsqueda aleatoria de hiperparámetros\n",
    "random_search_NB.fit(X_train2_full, y_train_full)"
   ]
  },
  {
   "cell_type": "code",
   "execution_count": null,
   "id": "c7795095-a412-46f3-a9f5-e93c007a1b25",
   "metadata": {},
   "outputs": [],
   "source": [
    "print(random_search_NB.best_params_)"
   ]
  },
  {
   "cell_type": "code",
   "execution_count": null,
   "id": "b492327b-17db-4149-b428-3470cc509782",
   "metadata": {},
   "outputs": [],
   "source": [
    "#First evaluate on train\n",
    "proba_train_NB2 = random_search_NB.predict_proba(X_train2_full)\n",
    "pred_train_NB2 = random_search_NB.predict(X_train2_full)\n",
    "print(classification_report(y_train_full,pred_train_NB2))"
   ]
  },
  {
   "cell_type": "code",
   "execution_count": null,
   "id": "975f21cf-2ece-4c0a-948c-54e3a3194156",
   "metadata": {},
   "outputs": [],
   "source": [
    "#now I will check with the test\n",
    "proba_test_NB2 = random_search_NB.predict_proba(X_test2_full)\n",
    "pred_test_NB2 = random_search_NB.predict(X_test2_full)\n",
    "print(classification_report(y_test,pred_test_NB2))"
   ]
  },
  {
   "cell_type": "markdown",
   "id": "db18a8fe-061e-497b-bc13-eb9ffd582503",
   "metadata": {},
   "source": [
    "## Logistic Regression"
   ]
  },
  {
   "cell_type": "code",
   "execution_count": null,
   "id": "9a746a82-55e5-49b5-820b-3de335332c5c",
   "metadata": {},
   "outputs": [],
   "source": [
    "from sklearn.linear_model import LogisticRegression\n",
    "from sklearn.model_selection import RandomizedSearchCV\n",
    "\n",
    "logistic_regression = LogisticRegression()\n",
    "\n",
    "# Definir el espacio de búsqueda de hiperparámetros\n",
    "param_grid_lr = {\n",
    "    'C': np.logspace(-3, 3, 7),\n",
    "    'penalty': ['l1', 'l2'],\n",
    "    'solver': ['liblinear', 'saga']\n",
    "}\n",
    "\n",
    "# Realizar la búsqueda aleatoria de hiperparámetros\n",
    "random_search_lr = RandomizedSearchCV(\n",
    "    estimator=logistic_regression,\n",
    "    param_distributions=param_grid_lr,\n",
    "    n_iter=5,\n",
    "    scoring='roc_auc',\n",
    "    n_jobs=7,\n",
    "    return_train_score=True\n",
    ")\n",
    "\n",
    "# Ajustar el modelo de regresión logística con búsqueda de hiperparámetros\n",
    "random_search_lr.fit(X_train2_full, y_train_full)\n",
    "\n",
    "random_search_lr.best_params_"
   ]
  },
  {
   "cell_type": "code",
   "execution_count": null,
   "id": "75392caf-757b-4e68-b8a8-a87a0531c8d1",
   "metadata": {},
   "outputs": [],
   "source": [
    "#First evaluate on train\n",
    "proba_train_lr = random_search_lr.predict_proba(X_train2_full)\n",
    "pred_train_lr = random_search_lr.predict(X_train2_full)\n",
    "print(classification_report(y_train_full,pred_train_lr))"
   ]
  },
  {
   "cell_type": "code",
   "execution_count": null,
   "id": "0e68f88c-8022-44b5-9f03-52e47d0becd4",
   "metadata": {},
   "outputs": [],
   "source": [
    "#now I will check with the test\n",
    "proba_test_lr = random_search_lr.predict_proba(X_test2_full)\n",
    "pred_test_lr = random_search_lr.predict(X_test2_full)\n",
    "print(classification_report(y_test,pred_test_lr))"
   ]
  },
  {
   "cell_type": "markdown",
   "id": "be190b69-be68-43cc-addd-caf9a26079ec",
   "metadata": {},
   "source": [
    "## Model evaluation"
   ]
  },
  {
   "cell_type": "code",
   "execution_count": null,
   "id": "b348d14b-bd38-4521-93cb-04c5202fddda",
   "metadata": {},
   "outputs": [],
   "source": [
    "pred_SV2 = random_search_svm.predict(X_test2_full)\n",
    "proba_SV2 = random_search_svm.predict_proba(X_test2_full)\n",
    "results_hard2[\"Support_Vector\"] = pred_SV2\n",
    "results_soft2[\"Support_Vector\"] = proba_SV2[:,1]\n",
    "\n",
    "proba_XGB2 = random_search_XGB.predict_proba(X_test2_selected)\n",
    "pred_XGB2 = random_search_XGB.predict(X_test2_selected)\n",
    "results_hard2[\"XGBOOST\"] = pred_XGB2\n",
    "results_soft2[\"XGBOOST\"] = proba_XGB2[:,1]\n",
    "\n",
    "proba_NB2 = random_search_NB.predict_proba(X_test2_full)\n",
    "pred_NB2 = random_search_NB.predict(X_test2_full)\n",
    "results_hard2[\"Naive_Bayes\"] = pred_NB2\n",
    "results_soft2[\"Naive_Bayes\"] = proba_NB2[:,1]\n",
    "\n",
    "proba_lr = random_search_lr.predict_proba(X_test2_full)\n",
    "pred_lr = random_search_lr.predict(X_test2_full)\n",
    "results_hard2[\"Logistic_Regression\"] = pred_lr\n",
    "results_soft2[\"Logistic_Regression\"] = proba_lr[:,1]\n",
    "\n",
    "results_hard2 = pd.DataFrame(results_hard2)\n",
    "results_soft2 = pd.DataFrame(results_soft2)"
   ]
  },
  {
   "cell_type": "code",
   "execution_count": null,
   "id": "45073c84-a251-4544-91ba-81c11c897c9e",
   "metadata": {},
   "outputs": [],
   "source": [
    "metrics2 = {}\n",
    "\n",
    "metrics2[\"Accuracy\"] = {\n",
    "    \"Naive_Bayes\": accuracy_score(y_test, results_hard2.Naive_Bayes),\n",
    "    \"Support_Vector\": accuracy_score(y_test, results_hard2.Support_Vector),\n",
    "    \"XGBOOST\": accuracy_score(y_test, results_hard2.XGBOOST),\n",
    "    \"Logistic_Regression\": accuracy_score(y_test, results_hard2.Logistic_Regression)\n",
    "\n",
    "}\n",
    "metrics2[\"Precision\"] = {\n",
    "    \"Naive_Bayes\": precision_score(y_test, results_hard2.Naive_Bayes),\n",
    "    \"Support_Vector\": precision_score(y_test, results_hard2.Support_Vector),\n",
    "    \"XGBOOST\": precision_score(y_test, results_hard2.XGBOOST),\n",
    "    \"Logistic_Regression\": precision_score(y_test, results_hard2.Logistic_Regression)\n",
    "\n",
    "}\n",
    "metrics2[\"Recall\"] = {\n",
    "    \"Naive_Bayes\": recall_score(y_test, results_hard2.Naive_Bayes),\n",
    "    \"Support_Vector\": recall_score(y_test, results_hard2.Support_Vector),\n",
    "    \"XGBOOST\": recall_score(y_test, results_hard2.XGBOOST),\n",
    "    \"Logistic_Regression\": recall_score(y_test, results_hard2.Logistic_Regression)\n",
    "\n",
    "}\n",
    "metrics2[\"F1\"] = {\n",
    "    \"Naive_Bayes\": f1_score(y_test, results_hard2.Naive_Bayes),\n",
    "    \"Support_Vector\": f1_score(y_test, results_hard2.Support_Vector),\n",
    "    \"XGBOOST\": f1_score(y_test, results_hard2.XGBOOST),\n",
    "    \"Logistic_Regression\": f1_score(y_test, results_hard2.Logistic_Regression)\n",
    "\n",
    "}\n",
    "\n",
    "metrics2 = pd.DataFrame(metrics2)\n",
    "metrics2\n"
   ]
  },
  {
   "cell_type": "markdown",
   "id": "58c53903-e0dd-4af4-89ac-e68666b1d95a",
   "metadata": {},
   "source": [
    "## ROC Curves"
   ]
  },
  {
   "cell_type": "code",
   "execution_count": null,
   "id": "1384f1f7-a3d4-419d-85fd-2e1b7b330daa",
   "metadata": {},
   "outputs": [],
   "source": [
    "# Datos de FPR y TPR para los tres modelos \n",
    "fpr_Naive_Bayes2,tpr_Naive_Bayes2,_ = roc_curve(y_test, results_soft2.Naive_Bayes)\n",
    "fpr_Support_Vector2,tpr_Support_Vector2,_ = roc_curve(y_test, results_soft2.Support_Vector)\n",
    "fpr_XGBOOST2,tpr_XGBOOST2,_ = roc_curve(y_test, results_soft2.XGBOOST)\n",
    "fpr_Logistic_Regression,tpr_Logistic_Regression,_ = roc_curve(y_test, results_soft2.Logistic_Regression)\n",
    "\n",
    "\n",
    "# Calcular el área bajo la curva ROC (AUC) para cada modelo\n",
    "auc_Naive_Bayes2 = auc(fpr_Naive_Bayes2,tpr_Naive_Bayes2)\n",
    "auc_Support_Vector2 = auc(fpr_Support_Vector2,tpr_Support_Vector2)\n",
    "auc_XGBOOST2 = auc(fpr_XGBOOST2,tpr_XGBOOST2)\n",
    "auc_Logistic_Regression = auc(fpr_Logistic_Regression,tpr_Logistic_Regression)"
   ]
  },
  {
   "cell_type": "code",
   "execution_count": null,
   "id": "7941567b-4117-4aa0-8bda-63a82850e7f8",
   "metadata": {},
   "outputs": [],
   "source": [
    "# Crear la gráfica ROC\n",
    "plt.figure(figsize=(8, 6))\n",
    "\n",
    "# Graficar las curvas ROC para los tres modelos\n",
    "plt.plot(fpr_Naive_Bayes2,tpr_Naive_Bayes2, label=f'Naive bayes (AUC = {auc_Naive_Bayes2:.2f})')\n",
    "plt.plot(fpr_XGBOOST2,tpr_XGBOOST2, label=f'Xgboost (AUC = {auc_XGBOOST2:.2f})')\n",
    "plt.plot(fpr_Support_Vector2,tpr_Support_Vector2, label=f'Support Vector (AUC = {auc_Support_Vector2:.2f})')\n",
    "plt.plot(fpr_Logistic_Regression,tpr_Logistic_Regression, label=f'Logistic_Regression (AUC = {auc_Logistic_Regression:.2f})')\n",
    "\n",
    "\n",
    "\n",
    "# Configurar la gráfica\n",
    "plt.plot([0, 1], [0, 1], 'k--', lw=2)  # Línea diagonal para referencia\n",
    "plt.xlim([0.0, 1.0])\n",
    "plt.ylim([0.0, 1.05])\n",
    "plt.xlabel('Tasa de Falsos Positivos (FPR)')\n",
    "plt.ylabel('Tasa de Verdaderos Positivos (TPR)')\n",
    "plt.title('Curva ROC de Modelos')\n",
    "plt.legend(loc=\"lower right\")\n",
    "\n",
    "# Mostrar la gráfica\n",
    "plt.show()"
   ]
  },
  {
   "cell_type": "markdown",
   "id": "2c528f4f-1f35-4de6-8f42-214235a0df24",
   "metadata": {
    "tags": []
   },
   "source": [
    "# Nuevas variables"
   ]
  },
  {
   "cell_type": "markdown",
   "id": "ac61bacf-d87a-4aba-abab-e9145071f7fc",
   "metadata": {},
   "source": [
    "Ahora voy a probar con el promedio, desv. estandar y la mediana"
   ]
  },
  {
   "cell_type": "code",
   "execution_count": null,
   "id": "aee5ff6a-c09d-4e42-9b9d-a53589215e87",
   "metadata": {
    "tags": []
   },
   "outputs": [],
   "source": [
    "# Crear un dataframe con los promedios, desviación estándar y mediana\n",
    "\n",
    "nuevo_df = pd.DataFrame()\n",
    "import warnings\n",
    "# Iterar sobre cada diccionario en la lista\n",
    "for diccionario in data:\n",
    "    warnings.filterwarnings(\"ignore\")\n",
    "\n",
    "    # Convertir el diccionario a un DataFrame\n",
    "    df = diccionario['series']\n",
    "\n",
    "    # Calcular el promedio, la desviación estándar y la mediana de cada columna y agregarlos al DataFrame de promedios\n",
    "    promedio_serie = df.mean()\n",
    "    std_serie = df.std()\n",
    "    median_serie = df.median()\n",
    "    nuevo_df = nuevo_df.append(pd.concat([promedio_serie.add_prefix('mean_'), std_serie.add_prefix('std_'), median_serie.add_prefix('median_')]), ignore_index=True)\n",
    "\n",
    "# Agregar la columna 'target' al DataFrame de promedios\n",
    "nuevo_df['target'] = [diccionario['target'] for diccionario in data]"
   ]
  },
  {
   "cell_type": "code",
   "execution_count": null,
   "id": "6d0e1388-59c1-4f52-8d3f-edd5899e01f9",
   "metadata": {},
   "outputs": [],
   "source": [
    "nuevo_df.head()"
   ]
  },
  {
   "cell_type": "code",
   "execution_count": null,
   "id": "da79f65f-1047-49f5-8b36-ae461be4fe3a",
   "metadata": {
    "tags": []
   },
   "outputs": [],
   "source": [
    "list(nuevo_df.columns)"
   ]
  },
  {
   "cell_type": "code",
   "execution_count": null,
   "id": "4cf15572-d441-4e4c-9f76-f8e092ff9052",
   "metadata": {},
   "outputs": [],
   "source": [
    "#verificamos la longitud del dataframe que coincida con los 3805\n",
    "len(nuevo_df)"
   ]
  },
  {
   "cell_type": "code",
   "execution_count": null,
   "id": "99f59be6-f35d-4a93-8098-84db6348e209",
   "metadata": {},
   "outputs": [],
   "source": [
    "#verificamos que el target siga desbalanceado y coincidan los numeros\n",
    "nuevo_df.groupby('target').size()"
   ]
  },
  {
   "cell_type": "code",
   "execution_count": null,
   "id": "3f95a9b0-0655-4912-9e9d-836b9dcf514d",
   "metadata": {},
   "outputs": [],
   "source": [
    "sns.countplot(x=nuevo_df['target'], label = \"squad\")"
   ]
  },
  {
   "cell_type": "code",
   "execution_count": null,
   "id": "612f5798-21ec-49b7-9d9e-00ef8c59ee9b",
   "metadata": {},
   "outputs": [],
   "source": [
    "fig = px.box(nuevo_df, y=[\"mean_linAccZ\", \"std_linAccZ\", \"median_linAccZ\"], color=\"target\", \n",
    "             labels={\"value\": \"Acceleration\", \"target\": \"Target\"},\n",
    "             title='Distribution of Acceleration vs Target Variable')\n",
    "\n",
    "fig.update_traces(quartilemethod=\"exclusive\")\n",
    "fig.show()"
   ]
  },
  {
   "cell_type": "code",
   "execution_count": null,
   "id": "95e6bd12-e287-4a84-ae52-cdddf04fbaca",
   "metadata": {},
   "outputs": [],
   "source": [
    "fig = px.box(nuevo_df, y=[\"mean_accZ_orig\", \"std_accZ_orig\", \"median_accZ_orig\"], color=\"target\", \n",
    "             labels={\"value\": \"Acceleration\", \"target\": \"Target\"},\n",
    "             title='Distribution of Acceleration vs Target Variable')\n",
    "\n",
    "fig.update_traces(quartilemethod=\"exclusive\")\n",
    "fig.show()"
   ]
  },
  {
   "cell_type": "code",
   "execution_count": null,
   "id": "40e34d97-6c24-4a62-a7ab-ec92a72d5b60",
   "metadata": {},
   "outputs": [],
   "source": [
    "fig = px.box(nuevo_df, y=[\"mean_accY_orig\", \"std_accY_orig\", \"median_accY_orig\"], color=\"target\", \n",
    "             labels={\"value\": \"Acceleration\", \"target\": \"Target\"},\n",
    "             title='Distribution of Acceleration vs Target Variable')\n",
    "\n",
    "fig.update_traces(quartilemethod=\"exclusive\")\n",
    "fig.show()"
   ]
  },
  {
   "cell_type": "code",
   "execution_count": null,
   "id": "a75a7ae6-b3a4-4d49-8429-630282c761b8",
   "metadata": {},
   "outputs": [],
   "source": [
    "fig = px.box(nuevo_df, y=[\"mean_gyroZ_orig\", \"std_gyroZ_orig\", \"median_gyroZ_orig\"], color=\"target\", \n",
    "             labels={\"value\": \"Acceleration\", \"target\": \"Target\"},\n",
    "             title='Distribution of Acceleration vs Target Variable')\n",
    "\n",
    "fig.update_traces(quartilemethod=\"exclusive\")\n",
    "fig.show()"
   ]
  },
  {
   "cell_type": "markdown",
   "id": "a15505b3-2c9c-4875-8557-ef28efca778b",
   "metadata": {},
   "source": [
    "## Prep data"
   ]
  },
  {
   "cell_type": "code",
   "execution_count": null,
   "id": "0a959fcd-57ba-4eb7-87e3-5bfbe1183ea8",
   "metadata": {},
   "outputs": [],
   "source": [
    "X = nuevo_df.drop('target',axis=1)\n",
    "y = nuevo_df['target']"
   ]
  },
  {
   "cell_type": "code",
   "execution_count": null,
   "id": "b9fda8d4-7d11-4534-ac60-8e053de957a5",
   "metadata": {},
   "outputs": [],
   "source": [
    "X_train, X_test, y_train, y_test = train_test_split(X, y, test_size=0.2, random_state=99,stratify=y)\n",
    "display(X_train.shape,X_test.shape,y_train.shape,y_test.shape)"
   ]
  },
  {
   "cell_type": "code",
   "execution_count": null,
   "id": "8def24d7-44fb-48a5-b862-58a5714be86f",
   "metadata": {},
   "outputs": [],
   "source": [
    "smote = SMOTE( random_state=42)\n",
    "X_train_resampled, y_train_resampled = smote.fit_resample(X_train, y_train)"
   ]
  },
  {
   "cell_type": "code",
   "execution_count": null,
   "id": "61e2262e-c831-47a2-b342-2f5d8c91a8f4",
   "metadata": {},
   "outputs": [],
   "source": [
    "selected_columns = [\n",
    "    'mean_accX_orig', 'mean_accY_orig', 'mean_accZ_orig', 'mean_gyroX_orig', 'mean_gyroY_orig', 'mean_gyroZ_orig',\n",
    "    'mean_magnX_orig', 'mean_magnY_orig', 'mean_magnZ_orig', 'mean_linAccX_orig', 'mean_linAccY_orig', 'mean_linAccZ_orig',\n",
    "    'mean_accX', 'mean_accY', 'mean_accZ', 'mean_gyroX', 'mean_gyroY', 'mean_gyroZ',\n",
    "    'mean_magnX', 'mean_magnY', 'mean_magnZ', 'mean_linAccX', 'mean_linAccY', 'mean_linAccZ', 'mean_accX_mod',\n",
    "    'mean_accY_mod', 'mean_accZ_mod', 'mean_gyroX_mod', 'mean_gyroY_mod', 'mean_gyroZ_mod', 'mean_magnX_mod',\n",
    "    'mean_magnY_mod', 'mean_magnZ_mod', 'mean_linAccX_mod', 'mean_linAccY_mod', 'mean_linAccZ_mod',\n",
    "    'std_accX_orig', 'std_accY_orig', 'std_accZ_orig', 'std_gyroX_orig', 'std_gyroY_orig', 'std_gyroZ_orig',\n",
    "    'std_magnX_orig', 'std_magnY_orig', 'std_magnZ_orig', 'std_linAccX_orig', 'std_linAccY_orig', 'std_linAccZ_orig',\n",
    "    'std_accX', 'std_accY', 'std_accZ', 'std_gyroX', 'std_gyroY', 'std_gyroZ', 'std_magnX',\n",
    "    'std_magnY', 'std_magnZ', 'std_linAccX', 'std_linAccY', 'std_linAccZ', 'std_accX_mod', 'std_accY_mod', 'std_accZ_mod',\n",
    "    'std_gyroX_mod', 'std_gyroY_mod', 'std_gyroZ_mod', 'std_magnX_mod', 'std_magnY_mod', 'std_magnZ_mod',\n",
    "    'std_linAccX_mod', 'std_linAccY_mod', 'std_linAccZ_mod', 'median_accX_orig', 'median_accY_orig',\n",
    "    'median_accZ_orig', 'median_gyroX_orig', 'median_gyroY_orig', 'median_gyroZ_orig', 'median_magnX_orig',\n",
    "    'median_magnY_orig', 'median_magnZ_orig', 'median_linAccX_orig', 'median_linAccY_orig', 'median_linAccZ_orig',\n",
    "    'median_accX', 'median_accY', 'median_accZ', 'median_gyroX', 'median_gyroY',\n",
    "    'median_gyroZ', 'median_magnX', 'median_magnY', 'median_magnZ', 'median_linAccX', 'median_linAccY',\n",
    "    'median_linAccZ', 'median_accX_mod', 'median_accY_mod', 'median_accZ_mod', 'median_gyroX_mod', 'median_gyroY_mod',\n",
    "    'median_gyroZ_mod', 'median_magnX_mod', 'median_magnY_mod', 'median_magnZ_mod', 'median_linAccX_mod',\n",
    "    'median_linAccY_mod', 'median_linAccZ_mod'\n",
    "]\n",
    "\n",
    "X_train3_ns = X_train_resampled[selected_columns].copy()\n",
    "X_test3_ns = X_test[selected_columns].copy()"
   ]
  },
  {
   "cell_type": "code",
   "execution_count": null,
   "id": "253497d6-8d57-4cbd-88fa-4caf318a94ea",
   "metadata": {},
   "outputs": [],
   "source": [
    "selected2 = SelectKBest(score_func=f_classif, k=30)\n",
    "X_train3_selected=selected2.fit_transform(X_train3_ns, y_train_resampled)\n",
    "X_test3_selected = selected2.transform(X_test3_ns) #I have to choose also for the test\n",
    "selected2.get_feature_names_out()"
   ]
  },
  {
   "cell_type": "markdown",
   "id": "ce3630e9-e644-458e-8ade-43f9f31c7d9a",
   "metadata": {},
   "source": [
    "Aca cambié las features con las que se entrenaron inicialmente los modelos"
   ]
  },
  {
   "cell_type": "code",
   "execution_count": null,
   "id": "d464111f-b69a-46a7-b94e-a00650646174",
   "metadata": {},
   "outputs": [],
   "source": [
    "selected_columns2 = ['mean_accX', 'mean_accZ', 'mean_linAccZ', 'mean_accZ_mod',\n",
    "       'mean_gyroX_mod', 'mean_linAccX_mod', 'std_accZ', 'std_gyroX', 'std_gyroZ',\n",
    "       'std_magnX', 'std_linAccX', 'std_accZ_mod', 'std_linAccX_mod',\n",
    "       'median_accX', 'median_accZ', 'median_linAccZ', 'median_accZ_mod',\n",
    "       'median_gyroX_mod', 'median_linAccX_mod']\n",
    "X_train3_ns = X_train_resampled[selected_columns2].copy()\n",
    "X_test3_ns = X_test[selected_columns2].copy()"
   ]
  },
  {
   "cell_type": "code",
   "execution_count": null,
   "id": "b032e6a9-ace4-4b42-ac7c-a5d11a6a1ee9",
   "metadata": {},
   "outputs": [],
   "source": [
    "plt.figure(figsize=(30, 30))\n",
    "sns.heatmap( X_train3_ns.corr(), annot = True, cmap =\"coolwarm\", linewidths = .5)"
   ]
  },
  {
   "cell_type": "code",
   "execution_count": null,
   "id": "e22ac26b-a465-4aa4-b855-da13342028db",
   "metadata": {},
   "outputs": [],
   "source": [
    "# Scale Data\n",
    "scaler3 = StandardScaler()\n",
    "joblib.dump(scaler3,'scaler3.pkl')\n",
    "X_train3_full = scaler3.fit_transform(X_train3_ns) #I only use the selected variables\n",
    "# apply stanrdadization also to the test\n",
    "X_test3_full = scaler3.transform(X_test3_ns)"
   ]
  },
  {
   "cell_type": "code",
   "execution_count": null,
   "id": "ec401330-f09d-4eb4-ab2f-9d9b9da261d5",
   "metadata": {},
   "outputs": [],
   "source": [
    "# ahora tengo que hacer la codificacion de la variable target \n",
    "label_encoder = LabelEncoder()\n",
    "# Aplica la transformación a la variable y\n",
    "y_train_full = label_encoder.fit_transform(y_train_resampled)\n",
    "y_test= label_encoder.transform(y_test)"
   ]
  },
  {
   "cell_type": "code",
   "execution_count": null,
   "id": "22b637ae-5c48-4816-9f04-d7ed1b4e7e4e",
   "metadata": {},
   "outputs": [],
   "source": [
    "results_hard3 = {}\n",
    "results_soft3 = {}"
   ]
  },
  {
   "cell_type": "markdown",
   "id": "5e6281cf-c3cb-4471-90d3-95cd17f7ddf9",
   "metadata": {},
   "source": [
    "## SVM"
   ]
  },
  {
   "cell_type": "code",
   "execution_count": null,
   "id": "4fca7904-dad0-430c-8ed2-5d3791a0bee9",
   "metadata": {
    "tags": []
   },
   "outputs": [],
   "source": [
    "from sklearn.svm import SVC\n",
    "import numpy as np\n",
    "from sklearn.model_selection import RandomizedSearchCV\n",
    "svm = SVC(probability=True)\n",
    "param_grid = {'C': [0.1, 1, 10, 100], \n",
    "              'gamma': [1, 0.1, 0.01, 0.001], \n",
    "              'kernel': ['linear', 'rbf', 'poly', 'sigmoid']}\n",
    "\n",
    "\n",
    "# Realizar la búsqueda aleatoria de hiperparámetros\n",
    "random_search_svm = RandomizedSearchCV(\n",
    "    estimator=svm,\n",
    "    param_distributions=param_grid,\n",
    "    n_iter=5,  \n",
    "    scoring=\"roc_auc\",  \n",
    "    n_jobs=7,\n",
    "    return_train_score=True\n",
    ")\n",
    "random_search_svm.fit(X_train3_full, y_train_full)"
   ]
  },
  {
   "cell_type": "code",
   "execution_count": null,
   "id": "31ba4d69-8117-4159-ac6d-32f027451ada",
   "metadata": {},
   "outputs": [],
   "source": [
    "print(random_search_svm.best_params_)"
   ]
  },
  {
   "cell_type": "code",
   "execution_count": null,
   "id": "6b3392cb-e33a-4b35-a287-0dce51e6e72a",
   "metadata": {},
   "outputs": [],
   "source": [
    "#First evaluate on train\n",
    "proba_train3 = random_search_svm.predict_proba(X_train3_full)\n",
    "pred_train3 = random_search_svm.predict(X_train3_full)\n",
    "print(classification_report(y_train_full,pred_train3))"
   ]
  },
  {
   "cell_type": "code",
   "execution_count": null,
   "id": "02635a45-882f-478a-958d-b802ef4f9e41",
   "metadata": {},
   "outputs": [],
   "source": [
    "#now I will check with the test\n",
    "proba_test3 = random_search_svm.predict_proba(X_test3_full)\n",
    "pred_test3 = random_search_svm.predict(X_test3_full)\n",
    "print(classification_report(y_test,pred_test3))"
   ]
  },
  {
   "cell_type": "markdown",
   "id": "76ac1bd2-3d4e-4a83-a4bf-8867e5d48638",
   "metadata": {},
   "source": [
    "## XGBOOST"
   ]
  },
  {
   "cell_type": "code",
   "execution_count": null,
   "id": "8a4d8ce1-ddaf-42e2-9abb-cc3f12c167aa",
   "metadata": {},
   "outputs": [],
   "source": [
    "import xgboost as xgb\n",
    "xgb = xgb.XGBClassifier()\n",
    "param_dist = {\n",
    "    'n_estimators': range(10, 90, 5),\n",
    "    'max_depth': range(3, 40, 2),\n",
    "    'min_child_weight': range(1, 10),  \n",
    "    'gamma': [0, 0.1, 0.2, 0.3],  \n",
    "}\n",
    "\n",
    "# Realizar la búsqueda aleatoria de hiperparámetros\n",
    "random_search_XGB = RandomizedSearchCV(\n",
    "    estimator=xgb,\n",
    "    param_distributions=param_dist,\n",
    "    n_iter=10, \n",
    "    scoring=\"roc_auc\",  \n",
    "    n_jobs=7,\n",
    "    return_train_score=True\n",
    ")\n",
    "#para este modelo uso datos sin escalar \n",
    "random_search_XGB.fit(X_train3_ns, y_train_full)\n",
    "print(random_search_XGB.best_params_)"
   ]
  },
  {
   "cell_type": "code",
   "execution_count": null,
   "id": "7dbeac24-5825-496c-b55c-949e19563035",
   "metadata": {},
   "outputs": [],
   "source": [
    "#First evaluate on train\n",
    "proba_train_XGB3 = random_search_XGB.predict_proba(X_train3_ns)\n",
    "pred_train_XGB3 = random_search_XGB.predict(X_train3_ns)\n",
    "print(classification_report(y_train_full,pred_train_XGB3))"
   ]
  },
  {
   "cell_type": "code",
   "execution_count": null,
   "id": "642c4ddb-8ebd-4dce-9eb0-c417fdbe9f7e",
   "metadata": {},
   "outputs": [],
   "source": [
    "#now I will check with the test\n",
    "proba_test_XGB3 = random_search_XGB.predict_proba(X_test3_selected)\n",
    "pred_test_XGB3 = random_search_XGB.predict(X_test3_selected)\n",
    "print(classification_report(y_test,pred_test_XGB3))"
   ]
  },
  {
   "cell_type": "markdown",
   "id": "a13faa76-5f87-4f68-b914-c01be62f0bfd",
   "metadata": {},
   "source": [
    "## Naive Bayes"
   ]
  },
  {
   "cell_type": "code",
   "execution_count": null,
   "id": "a9fc8424-17be-4380-be78-3fbf397e2ed3",
   "metadata": {},
   "outputs": [],
   "source": [
    "from sklearn.naive_bayes import GaussianNB\n",
    "gaus = GaussianNB()\n",
    "param_dist_NB = {\n",
    "    'priors': [[0.2, 0.8], [0.5, 0.5], [0.8, 0.2],[0.3, 0.7],[0.7, 0.3]]\n",
    "}\n",
    "\n",
    "\n",
    "random_search_NB = RandomizedSearchCV(\n",
    "    estimator=gaus,\n",
    "    param_distributions=param_dist_NB,\n",
    "    n_iter=5,  \n",
    "    scoring=\"roc_auc\",  \n",
    "    n_jobs=7,\n",
    "    return_train_score=True\n",
    ")\n",
    "# Entrenar el modelo con la búsqueda aleatoria de hiperparámetros\n",
    "random_search_NB.fit(X_train3_full, y_train_full)"
   ]
  },
  {
   "cell_type": "code",
   "execution_count": null,
   "id": "13d5ca61-1549-4303-a932-e75b8d07196d",
   "metadata": {},
   "outputs": [],
   "source": [
    "print(random_search_NB.best_params_)"
   ]
  },
  {
   "cell_type": "code",
   "execution_count": null,
   "id": "eac4b16a-5bd9-4f8d-905d-9bacfbe7f50c",
   "metadata": {},
   "outputs": [],
   "source": [
    "#First evaluate on train\n",
    "proba_train_NB3 = random_search_NB.predict_proba(X_train3_full)\n",
    "pred_train_NB3 = random_search_NB.predict(X_train3_full)\n",
    "print(classification_report(y_train_full,pred_train_NB3))"
   ]
  },
  {
   "cell_type": "code",
   "execution_count": null,
   "id": "07df4117-155a-4bc2-8ec3-43ac0550e44a",
   "metadata": {},
   "outputs": [],
   "source": [
    "#now I will check with the test\n",
    "proba_test_NB3 = random_search_NB.predict_proba(X_test3_full)\n",
    "pred_test_NB3 = random_search_NB.predict(X_test3_full)\n",
    "print(classification_report(y_test,pred_test_NB3))"
   ]
  },
  {
   "cell_type": "code",
   "execution_count": null,
   "id": "f59b0c86-ce03-48c7-a242-36bc2fad27a3",
   "metadata": {},
   "outputs": [],
   "source": [
    "import joblib  \n",
    "modelo2 = joblib.dump(random_search_NB, 'modeloNB.pkl')"
   ]
  },
  {
   "cell_type": "markdown",
   "id": "41ecf9b9-cbcd-491d-b3c8-8c104661482f",
   "metadata": {},
   "source": [
    "## Logistic Regression"
   ]
  },
  {
   "cell_type": "code",
   "execution_count": null,
   "id": "4b3c459f-7d5b-4484-9d4b-504e5ceaedf7",
   "metadata": {},
   "outputs": [],
   "source": [
    "from sklearn.linear_model import LogisticRegression\n",
    "from sklearn.model_selection import RandomizedSearchCV\n",
    "\n",
    "logistic_regression = LogisticRegression()\n",
    "\n",
    "# Definir el espacio de búsqueda de hiperparámetros\n",
    "param_grid_lr = {\n",
    "    'C': np.logspace(-3, 3, 7),\n",
    "    'penalty': ['l1', 'l2'],\n",
    "    'solver': ['liblinear', 'saga']\n",
    "}\n",
    "\n",
    "# Realizar la búsqueda aleatoria de hiperparámetros\n",
    "random_search_lr = RandomizedSearchCV(\n",
    "    estimator=logistic_regression,\n",
    "    param_distributions=param_grid_lr,\n",
    "    n_iter=10,\n",
    "    scoring='roc_auc',\n",
    "    n_jobs=7,\n",
    "    return_train_score=True\n",
    ")\n",
    "\n",
    "# Ajustar el modelo de regresión logística con búsqueda de hiperparámetros\n",
    "random_search_lr.fit(X_train3_full, y_train_full)\n",
    "\n",
    "random_search_lr.best_params_\n"
   ]
  },
  {
   "cell_type": "code",
   "execution_count": null,
   "id": "2e3fcbbe-5460-4a8e-a6f2-4fb0a12d1416",
   "metadata": {},
   "outputs": [],
   "source": [
    "#First evaluate on train\n",
    "proba_train_lr = random_search_lr.predict_proba(X_train3_full)\n",
    "pred_train_lr = random_search_lr.predict(X_train3_full)\n",
    "print(classification_report(y_train_full,pred_train_lr))"
   ]
  },
  {
   "cell_type": "code",
   "execution_count": null,
   "id": "a31a0b4e-6553-4826-ae26-655bf891222a",
   "metadata": {},
   "outputs": [],
   "source": [
    "#now I will check with the test\n",
    "proba_test_lr = random_search_lr.predict_proba(X_test3_full)\n",
    "pred_test_lr = random_search_lr.predict(X_test3_full)\n",
    "print(classification_report(y_test,pred_test_lr))"
   ]
  },
  {
   "cell_type": "code",
   "execution_count": null,
   "id": "5482dddd-9f49-416f-8cd5-028a36fdb33a",
   "metadata": {},
   "outputs": [],
   "source": [
    "import joblib  \n",
    "modelo3 = joblib.dump(random_search_lr, 'modeloLR.pkl')"
   ]
  },
  {
   "cell_type": "markdown",
   "id": "5f34b801-19d6-4db6-aa40-9cd23bf7107b",
   "metadata": {},
   "source": [
    "## Model evaluation"
   ]
  },
  {
   "cell_type": "code",
   "execution_count": null,
   "id": "f12332a3-2fa8-487e-a501-8946299f0c05",
   "metadata": {},
   "outputs": [],
   "source": [
    "#pred_SV3 = random_search_svm.predict(X_test3_full)\n",
    "#proba_SV3 = random_search_svm.predict_proba(X_test3_full)\n",
    "#results_hard3[\"Support_Vector\"] = pred_SV3\n",
    "#results_soft3[\"Support_Vector\"] = proba_SV3[:,1]\n",
    "\n",
    "proba_XGB3 = random_search_XGB.predict_proba(X_test3_selected)\n",
    "pred_XGB3 = random_search_XGB.predict(X_test3_selected)\n",
    "results_hard3[\"XGBOOST\"] = pred_XGB3\n",
    "results_soft3[\"XGBOOST\"] = proba_XGB3[:,1]\n",
    "\n",
    "proba_NB3 = random_search_NB.predict_proba(X_test3_full)\n",
    "pred_NB3 = random_search_NB.predict(X_test3_full)\n",
    "results_hard3[\"Naive_Bayes\"] = pred_NB3\n",
    "results_soft3[\"Naive_Bayes\"] = proba_NB3[:,1]\n",
    "\n",
    "proba_lr = random_search_lr.predict_proba(X_test3_full)\n",
    "pred_lr = random_search_lr.predict(X_test3_full)\n",
    "results_hard3[\"Logistic_Regression\"] = pred_lr\n",
    "results_soft3[\"Logistic_Regression\"] = proba_lr[:,1]\n",
    "\n",
    "\n",
    "results_hard3 = pd.DataFrame(results_hard3)\n",
    "results_soft3 = pd.DataFrame(results_soft3)"
   ]
  },
  {
   "cell_type": "code",
   "execution_count": null,
   "id": "d44a663a-b8e7-4485-97db-19f19da1003f",
   "metadata": {},
   "outputs": [],
   "source": [
    "metrics3 = {}\n",
    "\n",
    "metrics3[\"Accuracy\"] = {\n",
    "    \"Naive_Bayes\": accuracy_score(y_test, results_hard3.Naive_Bayes),\n",
    "    #\"Support_Vector\": accuracy_score(y_test, results_hard3.Support_Vector),\n",
    "    \"XGBOOST\": accuracy_score(y_test, results_hard3.XGBOOST),\n",
    "    \"Logistic_Regression\": accuracy_score(y_test, results_hard3.Logistic_Regression)\n",
    "}\n",
    "metrics3[\"Precision\"] = {\n",
    "    \"Naive_Bayes\": precision_score(y_test, results_hard3.Naive_Bayes),\n",
    "    #\"Support_Vector\": precision_score(y_test, results_hard3.Support_Vector),\n",
    "    \"XGBOOST\": precision_score(y_test, results_hard3.XGBOOST),\n",
    "    \"Logistic_Regression\": precision_score(y_test, results_hard3.Logistic_Regression)\n",
    "}\n",
    "metrics3[\"Recall\"] = {\n",
    "    \"Naive_Bayes\": recall_score(y_test, results_hard3.Naive_Bayes),\n",
    "    #\"Support_Vector\": recall_score(y_test, results_hard3.Support_Vector),\n",
    "    \"XGBOOST\": recall_score(y_test, results_hard3.XGBOOST),\n",
    "    \"Logistic_Regression\": recall_score(y_test, results_hard3.Logistic_Regression)\n",
    "}\n",
    "metrics3[\"F1\"] = {\n",
    "    \"Naive_Bayes\": f1_score(y_test, results_hard3.Naive_Bayes),\n",
    "    #\"Support_Vector\": f1_score(y_test, results_hard3.Support_Vector),\n",
    "    \"XGBOOST\": f1_score(y_test, results_hard3.XGBOOST),\n",
    "    \"Logistic_Regression\": f1_score(y_test, results_hard3.Logistic_Regression)\n",
    "}\n",
    "\n",
    "metrics3 = pd.DataFrame(metrics3)\n",
    "metrics3"
   ]
  },
  {
   "cell_type": "markdown",
   "id": "4a62aa04-92a7-4e18-acda-2362cf4f5121",
   "metadata": {},
   "source": [
    "## ROC Curves"
   ]
  },
  {
   "cell_type": "code",
   "execution_count": null,
   "id": "bd242deb-13ad-4573-a4bf-c9650a6eb907",
   "metadata": {},
   "outputs": [],
   "source": [
    "# Datos de FPR y TPR para los dos modelos \n",
    "fpr_Naive_Bayes3,tpr_Naive_Bayes3,_ = roc_curve(y_test, results_soft3.Naive_Bayes)\n",
    "#fpr_Support_Vector3,tpr_Support_Vector3,_ = roc_curve(y_test, results_soft3.Support_Vector)\n",
    "fpr_XGBOOST3,tpr_XGBOOST3,_ = roc_curve(y_test, results_soft3.XGBOOST)\n",
    "fpr_Logistic_Regression,tpr_Logistic_Regression,_ = roc_curve(y_test, results_soft3.Logistic_Regression)\n",
    "\n",
    "\n",
    "# Calcular el área bajo la curva ROC (AUC) para cada modelo\n",
    "auc_Naive_Bayes3 = auc(fpr_Naive_Bayes3,tpr_Naive_Bayes3)\n",
    "#auc_Support_Vector3 = auc(fpr_Support_Vector3,tpr_Support_Vector3)\n",
    "auc_XGBOOST3 = auc(fpr_XGBOOST3,tpr_XGBOOST3)\n",
    "auc_Logistic_Regression = auc(fpr_Logistic_Regression,tpr_Logistic_Regression)"
   ]
  },
  {
   "cell_type": "code",
   "execution_count": null,
   "id": "12c05c2a-a0c9-4a70-a46c-758dd32cb57b",
   "metadata": {},
   "outputs": [],
   "source": [
    "# Crear la gráfica ROC\n",
    "plt.figure(figsize=(8, 6))\n",
    "\n",
    "# Graficar las curvas ROC para los tres modelos\n",
    "plt.plot(fpr_Naive_Bayes3,tpr_Naive_Bayes3, label=f'Naive bayes (AUC = {auc_Naive_Bayes3:.2f})')\n",
    "plt.plot(fpr_XGBOOST3,tpr_XGBOOST3, label=f'Xgboost (AUC = {auc_XGBOOST3:.2f})')\n",
    "plt.plot(fpr_Logistic_Regression,tpr_Logistic_Regression, label=f'Logistic_Regression (AUC = {auc_Logistic_Regression:.2f})')\n",
    "#plt.plot(fpr_Support_Vector3,tpr_Support_Vector3, label=f'Support Vector (AUC = {auc_Support_Vector3:.2f})')\n",
    "\n",
    "\n",
    "# Configurar la gráfica\n",
    "plt.plot([0, 1], [0, 1], 'k--', lw=2)  # Línea diagonal para referencia\n",
    "plt.xlim([0.0, 1.0])\n",
    "plt.ylim([0.0, 1.05])\n",
    "plt.xlabel('Tasa de Falsos Positivos (FPR)')\n",
    "plt.ylabel('Tasa de Verdaderos Positivos (TPR)')\n",
    "plt.title('Curva ROC de Modelos')\n",
    "plt.legend(loc=\"lower right\")\n",
    "\n",
    "# Mostrar la gráfica\n",
    "plt.show()"
   ]
  },
  {
   "cell_type": "code",
   "execution_count": null,
   "id": "0dbeb53b-4c0b-47a8-a44c-fff877bc0c62",
   "metadata": {},
   "outputs": [],
   "source": [
    "import joblib  \n",
    "joblib.dump(random_search_XGB, 'modeloXGB.pkl')"
   ]
  },
  {
   "cell_type": "code",
   "execution_count": null,
   "id": "68228b36-9459-4d16-ac05-2398443a3caa",
   "metadata": {},
   "outputs": [],
   "source": [
    "# ¡¡¡¡¡¡¡¡¡¡NOOOOOOOOOO LO CORRAS QUE SE EXPLOTA!!!!!!!!!!!\n",
    "target = list()\n",
    "frames = list()\n",
    "for i in data:\n",
    "    target=i['target']\n",
    "    for j in data:\n",
    "        frames.append(j['series'])\n",
    "    df = pd.concat(frames,axis = 1)\n",
    "    df['target'] = target"
   ]
  },
  {
   "cell_type": "markdown",
   "id": "352390ec-76c4-4859-a61b-bdcaca1b5141",
   "metadata": {},
   "source": [
    "# Pycaret"
   ]
  },
  {
   "cell_type": "code",
   "execution_count": 2,
   "id": "1d21bd8c-e1ea-48ea-9ada-c3a31392e0e2",
   "metadata": {},
   "outputs": [],
   "source": [
    "from pycaret.classification import *"
   ]
  },
  {
   "cell_type": "code",
   "execution_count": 3,
   "id": "57138164-a79b-4a10-88e4-7116fdf18563",
   "metadata": {},
   "outputs": [],
   "source": [
    "def create_custom_dataframe(series):\n",
    "    df =  series[[\"linAccX\", \"linAccY\", \"linAccZ\", \"gyroX\", \"gyroY\", \"gyroZ\", \"magnX\", \"magnY\", \"magnZ\"]]\n",
    "    return df"
   ]
  },
  {
   "cell_type": "code",
   "execution_count": 4,
   "id": "2ef103bd-0ac7-49a6-b6bb-9cfe94e3065e",
   "metadata": {},
   "outputs": [],
   "source": [
    "def create_training_data_stats(df, target):\n",
    "    stats_dict = {}\n",
    "    series = create_custom_dataframe(df)\n",
    "    \n",
    "    for column in series.columns:\n",
    "        mean = series[column].mean()\n",
    "        std = series[column].std()\n",
    "        median = series[column].median()\n",
    "        \n",
    "\n",
    "        stats_dict[f\"{column}_mean\"] = mean\n",
    "        stats_dict[f\"{column}_std\"] = std\n",
    "        stats_dict[f\"{column}_median\"] = median\n",
    "          \n",
    "    stats_dict[\"target\"] = target\n",
    "    return stats_dict"
   ]
  },
  {
   "cell_type": "code",
   "execution_count": 5,
   "id": "891264a3-175b-4f1a-ad9b-714f673fbf46",
   "metadata": {},
   "outputs": [],
   "source": [
    "folder_path = \"LABELED\"\n",
    "os.makedirs(folder_path, exist_ok=True)\n",
    "file_names = [f\"{folder_path}/{name}\" for name in os.listdir(folder_path)]\n",
    "signals = ['accX', 'accY', 'accZ', 'gyroX', 'gyroY', 'gyroZ', 'magnX', 'magnY', 'magnZ', 'linAccX', 'linAccY', 'linAccZ']\n",
    "\n",
    "data, wk = load_training_data(filelist=file_names,\n",
    "                         signals= signals,\n",
    "                          target_exercise=\"SQUAT\", other_exercises=[],is_peak_minima=True )"
   ]
  },
  {
   "cell_type": "code",
   "execution_count": 6,
   "id": "85325f72-19e1-4aa8-ba34-4083f8b6c816",
   "metadata": {},
   "outputs": [
    {
     "data": {
      "text/html": [
       "<div>\n",
       "<style scoped>\n",
       "    .dataframe tbody tr th:only-of-type {\n",
       "        vertical-align: middle;\n",
       "    }\n",
       "\n",
       "    .dataframe tbody tr th {\n",
       "        vertical-align: top;\n",
       "    }\n",
       "\n",
       "    .dataframe thead th {\n",
       "        text-align: right;\n",
       "    }\n",
       "</style>\n",
       "<table border=\"1\" class=\"dataframe\">\n",
       "  <thead>\n",
       "    <tr style=\"text-align: right;\">\n",
       "      <th></th>\n",
       "      <th>linAccX_mean</th>\n",
       "      <th>linAccX_std</th>\n",
       "      <th>linAccX_median</th>\n",
       "      <th>linAccY_mean</th>\n",
       "      <th>linAccY_std</th>\n",
       "      <th>linAccY_median</th>\n",
       "      <th>linAccZ_mean</th>\n",
       "      <th>linAccZ_std</th>\n",
       "      <th>linAccZ_median</th>\n",
       "      <th>gyroX_mean</th>\n",
       "      <th>...</th>\n",
       "      <th>magnX_mean</th>\n",
       "      <th>magnX_std</th>\n",
       "      <th>magnX_median</th>\n",
       "      <th>magnY_mean</th>\n",
       "      <th>magnY_std</th>\n",
       "      <th>magnY_median</th>\n",
       "      <th>magnZ_mean</th>\n",
       "      <th>magnZ_std</th>\n",
       "      <th>magnZ_median</th>\n",
       "      <th>target</th>\n",
       "    </tr>\n",
       "  </thead>\n",
       "  <tbody>\n",
       "    <tr>\n",
       "      <th>0</th>\n",
       "      <td>0.475693</td>\n",
       "      <td>0.444189</td>\n",
       "      <td>0.604449</td>\n",
       "      <td>-0.064382</td>\n",
       "      <td>0.201904</td>\n",
       "      <td>-0.017634</td>\n",
       "      <td>1.084862</td>\n",
       "      <td>3.311060</td>\n",
       "      <td>1.841822</td>\n",
       "      <td>6.446957</td>\n",
       "      <td>...</td>\n",
       "      <td>113.922673</td>\n",
       "      <td>1.511774</td>\n",
       "      <td>113.740783</td>\n",
       "      <td>105.645760</td>\n",
       "      <td>1.579641</td>\n",
       "      <td>106.327918</td>\n",
       "      <td>162.709051</td>\n",
       "      <td>8.196471</td>\n",
       "      <td>164.514308</td>\n",
       "      <td>SQUAT</td>\n",
       "    </tr>\n",
       "    <tr>\n",
       "      <th>1</th>\n",
       "      <td>0.436280</td>\n",
       "      <td>0.485130</td>\n",
       "      <td>0.641912</td>\n",
       "      <td>0.050774</td>\n",
       "      <td>0.227051</td>\n",
       "      <td>0.083403</td>\n",
       "      <td>0.956848</td>\n",
       "      <td>2.846323</td>\n",
       "      <td>1.384450</td>\n",
       "      <td>0.362799</td>\n",
       "      <td>...</td>\n",
       "      <td>113.810630</td>\n",
       "      <td>1.261197</td>\n",
       "      <td>113.589972</td>\n",
       "      <td>105.646582</td>\n",
       "      <td>1.241413</td>\n",
       "      <td>106.177881</td>\n",
       "      <td>164.105538</td>\n",
       "      <td>8.303264</td>\n",
       "      <td>165.637205</td>\n",
       "      <td>SQUAT</td>\n",
       "    </tr>\n",
       "    <tr>\n",
       "      <th>2</th>\n",
       "      <td>0.457903</td>\n",
       "      <td>0.470508</td>\n",
       "      <td>0.604933</td>\n",
       "      <td>0.078159</td>\n",
       "      <td>0.160814</td>\n",
       "      <td>0.123268</td>\n",
       "      <td>1.098518</td>\n",
       "      <td>3.173660</td>\n",
       "      <td>2.082821</td>\n",
       "      <td>6.661235</td>\n",
       "      <td>...</td>\n",
       "      <td>113.426752</td>\n",
       "      <td>1.120535</td>\n",
       "      <td>112.962573</td>\n",
       "      <td>105.811957</td>\n",
       "      <td>0.993088</td>\n",
       "      <td>106.015616</td>\n",
       "      <td>165.059245</td>\n",
       "      <td>7.472576</td>\n",
       "      <td>166.777286</td>\n",
       "      <td>SQUAT</td>\n",
       "    </tr>\n",
       "    <tr>\n",
       "      <th>3</th>\n",
       "      <td>0.504729</td>\n",
       "      <td>0.509760</td>\n",
       "      <td>0.719400</td>\n",
       "      <td>0.059016</td>\n",
       "      <td>0.133882</td>\n",
       "      <td>0.035024</td>\n",
       "      <td>1.127450</td>\n",
       "      <td>3.123841</td>\n",
       "      <td>2.709761</td>\n",
       "      <td>2.916382</td>\n",
       "      <td>...</td>\n",
       "      <td>113.179327</td>\n",
       "      <td>1.466456</td>\n",
       "      <td>112.808564</td>\n",
       "      <td>104.957545</td>\n",
       "      <td>1.209527</td>\n",
       "      <td>105.155497</td>\n",
       "      <td>170.951369</td>\n",
       "      <td>9.970589</td>\n",
       "      <td>173.638573</td>\n",
       "      <td>SQUAT</td>\n",
       "    </tr>\n",
       "    <tr>\n",
       "      <th>4</th>\n",
       "      <td>0.470926</td>\n",
       "      <td>0.481927</td>\n",
       "      <td>0.688152</td>\n",
       "      <td>0.058959</td>\n",
       "      <td>0.174069</td>\n",
       "      <td>0.108836</td>\n",
       "      <td>0.974739</td>\n",
       "      <td>2.707455</td>\n",
       "      <td>1.910544</td>\n",
       "      <td>3.956676</td>\n",
       "      <td>...</td>\n",
       "      <td>112.578127</td>\n",
       "      <td>1.332054</td>\n",
       "      <td>112.138872</td>\n",
       "      <td>105.100280</td>\n",
       "      <td>1.191062</td>\n",
       "      <td>105.369625</td>\n",
       "      <td>171.290676</td>\n",
       "      <td>9.659595</td>\n",
       "      <td>173.157878</td>\n",
       "      <td>SQUAT</td>\n",
       "    </tr>\n",
       "  </tbody>\n",
       "</table>\n",
       "<p>5 rows × 28 columns</p>\n",
       "</div>"
      ],
      "text/plain": [
       "   linAccX_mean  linAccX_std  linAccX_median  linAccY_mean  linAccY_std  \\\n",
       "0      0.475693     0.444189        0.604449     -0.064382     0.201904   \n",
       "1      0.436280     0.485130        0.641912      0.050774     0.227051   \n",
       "2      0.457903     0.470508        0.604933      0.078159     0.160814   \n",
       "3      0.504729     0.509760        0.719400      0.059016     0.133882   \n",
       "4      0.470926     0.481927        0.688152      0.058959     0.174069   \n",
       "\n",
       "   linAccY_median  linAccZ_mean  linAccZ_std  linAccZ_median  gyroX_mean  ...  \\\n",
       "0       -0.017634      1.084862     3.311060        1.841822    6.446957  ...   \n",
       "1        0.083403      0.956848     2.846323        1.384450    0.362799  ...   \n",
       "2        0.123268      1.098518     3.173660        2.082821    6.661235  ...   \n",
       "3        0.035024      1.127450     3.123841        2.709761    2.916382  ...   \n",
       "4        0.108836      0.974739     2.707455        1.910544    3.956676  ...   \n",
       "\n",
       "   magnX_mean  magnX_std  magnX_median  magnY_mean  magnY_std  magnY_median  \\\n",
       "0  113.922673   1.511774    113.740783  105.645760   1.579641    106.327918   \n",
       "1  113.810630   1.261197    113.589972  105.646582   1.241413    106.177881   \n",
       "2  113.426752   1.120535    112.962573  105.811957   0.993088    106.015616   \n",
       "3  113.179327   1.466456    112.808564  104.957545   1.209527    105.155497   \n",
       "4  112.578127   1.332054    112.138872  105.100280   1.191062    105.369625   \n",
       "\n",
       "   magnZ_mean  magnZ_std  magnZ_median  target  \n",
       "0  162.709051   8.196471    164.514308   SQUAT  \n",
       "1  164.105538   8.303264    165.637205   SQUAT  \n",
       "2  165.059245   7.472576    166.777286   SQUAT  \n",
       "3  170.951369   9.970589    173.638573   SQUAT  \n",
       "4  171.290676   9.659595    173.157878   SQUAT  \n",
       "\n",
       "[5 rows x 28 columns]"
      ]
     },
     "execution_count": 6,
     "metadata": {},
     "output_type": "execute_result"
    }
   ],
   "source": [
    "data_info = [create_training_data_stats(info[\"series\"], info[\"target\"]) for info in data] #calling the two functions\n",
    "data_custom = pd.DataFrame(data_info) #creating the DF\n",
    "data_custom.head()"
   ]
  },
  {
   "cell_type": "code",
   "execution_count": 7,
   "id": "50177681-a6ef-45b8-85a5-20457c28e56b",
   "metadata": {},
   "outputs": [
    {
     "name": "stdout",
     "output_type": "stream",
     "text": [
      "Data for Modeling: (3615, 28)\n",
      "Simulated data For Production (190, 28)\n"
     ]
    }
   ],
   "source": [
    "data_dev = data_custom.sample(frac=0.95, random_state=786)\n",
    "data_prod = data_custom.drop(data_dev.index)\n",
    "\n",
    "data_dev.reset_index(inplace=True, drop=True)\n",
    "data_prod.reset_index(inplace=True, drop=True)\n",
    "\n",
    "print('Data for Modeling: ' + str(data_dev.shape))\n",
    "print('Simulated data For Production ' + str(data_prod.shape))"
   ]
  },
  {
   "cell_type": "code",
   "execution_count": 8,
   "id": "b988a358-ee01-4268-a134-f073ca561377",
   "metadata": {},
   "outputs": [
    {
     "name": "stdout",
     "output_type": "stream",
     "text": [
      "[LightGBM] [Info] Number of positive: 2159, number of negative: 2159\n",
      "[LightGBM] [Info] Auto-choosing col-wise multi-threading, the overhead of testing was 0.000429 seconds.\n",
      "You can set `force_col_wise=true` to remove the overhead.\n",
      "[LightGBM] [Info] Total Bins 5355\n",
      "[LightGBM] [Info] Number of data points in the train set: 4318, number of used features: 21\n",
      "[LightGBM] [Info] [binary:BoostFromScore]: pavg=0.500000 -> initscore=0.000000\n",
      "[LightGBM] [Warning] No further splits with positive gain, best gain: -inf\n"
     ]
    },
    {
     "data": {
      "text/html": [
       "<style type=\"text/css\">\n",
       "#T_5623c_row9_col1, #T_5623c_row13_col1, #T_5623c_row15_col1, #T_5623c_row17_col1, #T_5623c_row19_col1, #T_5623c_row21_col1 {\n",
       "  background-color: lightgreen;\n",
       "}\n",
       "</style>\n",
       "<table id=\"T_5623c\">\n",
       "  <thead>\n",
       "    <tr>\n",
       "      <th class=\"blank level0\" >&nbsp;</th>\n",
       "      <th id=\"T_5623c_level0_col0\" class=\"col_heading level0 col0\" >Description</th>\n",
       "      <th id=\"T_5623c_level0_col1\" class=\"col_heading level0 col1\" >Value</th>\n",
       "    </tr>\n",
       "  </thead>\n",
       "  <tbody>\n",
       "    <tr>\n",
       "      <th id=\"T_5623c_level0_row0\" class=\"row_heading level0 row0\" >0</th>\n",
       "      <td id=\"T_5623c_row0_col0\" class=\"data row0 col0\" >Session id</td>\n",
       "      <td id=\"T_5623c_row0_col1\" class=\"data row0 col1\" >8089</td>\n",
       "    </tr>\n",
       "    <tr>\n",
       "      <th id=\"T_5623c_level0_row1\" class=\"row_heading level0 row1\" >1</th>\n",
       "      <td id=\"T_5623c_row1_col0\" class=\"data row1 col0\" >Target</td>\n",
       "      <td id=\"T_5623c_row1_col1\" class=\"data row1 col1\" >target</td>\n",
       "    </tr>\n",
       "    <tr>\n",
       "      <th id=\"T_5623c_level0_row2\" class=\"row_heading level0 row2\" >2</th>\n",
       "      <td id=\"T_5623c_row2_col0\" class=\"data row2 col0\" >Target type</td>\n",
       "      <td id=\"T_5623c_row2_col1\" class=\"data row2 col1\" >Binary</td>\n",
       "    </tr>\n",
       "    <tr>\n",
       "      <th id=\"T_5623c_level0_row3\" class=\"row_heading level0 row3\" >3</th>\n",
       "      <td id=\"T_5623c_row3_col0\" class=\"data row3 col0\" >Target mapping</td>\n",
       "      <td id=\"T_5623c_row3_col1\" class=\"data row3 col1\" >NO_EXERCISE: 0, SQUAT: 1</td>\n",
       "    </tr>\n",
       "    <tr>\n",
       "      <th id=\"T_5623c_level0_row4\" class=\"row_heading level0 row4\" >4</th>\n",
       "      <td id=\"T_5623c_row4_col0\" class=\"data row4 col0\" >Original data shape</td>\n",
       "      <td id=\"T_5623c_row4_col1\" class=\"data row4 col1\" >(3615, 28)</td>\n",
       "    </tr>\n",
       "    <tr>\n",
       "      <th id=\"T_5623c_level0_row5\" class=\"row_heading level0 row5\" >5</th>\n",
       "      <td id=\"T_5623c_row5_col0\" class=\"data row5 col0\" >Transformed data shape</td>\n",
       "      <td id=\"T_5623c_row5_col1\" class=\"data row5 col1\" >(5041, 11)</td>\n",
       "    </tr>\n",
       "    <tr>\n",
       "      <th id=\"T_5623c_level0_row6\" class=\"row_heading level0 row6\" >6</th>\n",
       "      <td id=\"T_5623c_row6_col0\" class=\"data row6 col0\" >Transformed train set shape</td>\n",
       "      <td id=\"T_5623c_row6_col1\" class=\"data row6 col1\" >(4318, 11)</td>\n",
       "    </tr>\n",
       "    <tr>\n",
       "      <th id=\"T_5623c_level0_row7\" class=\"row_heading level0 row7\" >7</th>\n",
       "      <td id=\"T_5623c_row7_col0\" class=\"data row7 col0\" >Transformed test set shape</td>\n",
       "      <td id=\"T_5623c_row7_col1\" class=\"data row7 col1\" >(723, 11)</td>\n",
       "    </tr>\n",
       "    <tr>\n",
       "      <th id=\"T_5623c_level0_row8\" class=\"row_heading level0 row8\" >8</th>\n",
       "      <td id=\"T_5623c_row8_col0\" class=\"data row8 col0\" >Numeric features</td>\n",
       "      <td id=\"T_5623c_row8_col1\" class=\"data row8 col1\" >27</td>\n",
       "    </tr>\n",
       "    <tr>\n",
       "      <th id=\"T_5623c_level0_row9\" class=\"row_heading level0 row9\" >9</th>\n",
       "      <td id=\"T_5623c_row9_col0\" class=\"data row9 col0\" >Preprocess</td>\n",
       "      <td id=\"T_5623c_row9_col1\" class=\"data row9 col1\" >True</td>\n",
       "    </tr>\n",
       "    <tr>\n",
       "      <th id=\"T_5623c_level0_row10\" class=\"row_heading level0 row10\" >10</th>\n",
       "      <td id=\"T_5623c_row10_col0\" class=\"data row10 col0\" >Imputation type</td>\n",
       "      <td id=\"T_5623c_row10_col1\" class=\"data row10 col1\" >simple</td>\n",
       "    </tr>\n",
       "    <tr>\n",
       "      <th id=\"T_5623c_level0_row11\" class=\"row_heading level0 row11\" >11</th>\n",
       "      <td id=\"T_5623c_row11_col0\" class=\"data row11 col0\" >Numeric imputation</td>\n",
       "      <td id=\"T_5623c_row11_col1\" class=\"data row11 col1\" >mean</td>\n",
       "    </tr>\n",
       "    <tr>\n",
       "      <th id=\"T_5623c_level0_row12\" class=\"row_heading level0 row12\" >12</th>\n",
       "      <td id=\"T_5623c_row12_col0\" class=\"data row12 col0\" >Categorical imputation</td>\n",
       "      <td id=\"T_5623c_row12_col1\" class=\"data row12 col1\" >mode</td>\n",
       "    </tr>\n",
       "    <tr>\n",
       "      <th id=\"T_5623c_level0_row13\" class=\"row_heading level0 row13\" >13</th>\n",
       "      <td id=\"T_5623c_row13_col0\" class=\"data row13 col0\" >Remove multicollinearity</td>\n",
       "      <td id=\"T_5623c_row13_col1\" class=\"data row13 col1\" >True</td>\n",
       "    </tr>\n",
       "    <tr>\n",
       "      <th id=\"T_5623c_level0_row14\" class=\"row_heading level0 row14\" >14</th>\n",
       "      <td id=\"T_5623c_row14_col0\" class=\"data row14 col0\" >Multicollinearity threshold</td>\n",
       "      <td id=\"T_5623c_row14_col1\" class=\"data row14 col1\" >0.900000</td>\n",
       "    </tr>\n",
       "    <tr>\n",
       "      <th id=\"T_5623c_level0_row15\" class=\"row_heading level0 row15\" >15</th>\n",
       "      <td id=\"T_5623c_row15_col0\" class=\"data row15 col0\" >Remove outliers</td>\n",
       "      <td id=\"T_5623c_row15_col1\" class=\"data row15 col1\" >True</td>\n",
       "    </tr>\n",
       "    <tr>\n",
       "      <th id=\"T_5623c_level0_row16\" class=\"row_heading level0 row16\" >16</th>\n",
       "      <td id=\"T_5623c_row16_col0\" class=\"data row16 col0\" >Outliers threshold</td>\n",
       "      <td id=\"T_5623c_row16_col1\" class=\"data row16 col1\" >0.030000</td>\n",
       "    </tr>\n",
       "    <tr>\n",
       "      <th id=\"T_5623c_level0_row17\" class=\"row_heading level0 row17\" >17</th>\n",
       "      <td id=\"T_5623c_row17_col0\" class=\"data row17 col0\" >Fix imbalance</td>\n",
       "      <td id=\"T_5623c_row17_col1\" class=\"data row17 col1\" >True</td>\n",
       "    </tr>\n",
       "    <tr>\n",
       "      <th id=\"T_5623c_level0_row18\" class=\"row_heading level0 row18\" >18</th>\n",
       "      <td id=\"T_5623c_row18_col0\" class=\"data row18 col0\" >Fix imbalance method</td>\n",
       "      <td id=\"T_5623c_row18_col1\" class=\"data row18 col1\" >SMOTE</td>\n",
       "    </tr>\n",
       "    <tr>\n",
       "      <th id=\"T_5623c_level0_row19\" class=\"row_heading level0 row19\" >19</th>\n",
       "      <td id=\"T_5623c_row19_col0\" class=\"data row19 col0\" >Normalize</td>\n",
       "      <td id=\"T_5623c_row19_col1\" class=\"data row19 col1\" >True</td>\n",
       "    </tr>\n",
       "    <tr>\n",
       "      <th id=\"T_5623c_level0_row20\" class=\"row_heading level0 row20\" >20</th>\n",
       "      <td id=\"T_5623c_row20_col0\" class=\"data row20 col0\" >Normalize method</td>\n",
       "      <td id=\"T_5623c_row20_col1\" class=\"data row20 col1\" >robust</td>\n",
       "    </tr>\n",
       "    <tr>\n",
       "      <th id=\"T_5623c_level0_row21\" class=\"row_heading level0 row21\" >21</th>\n",
       "      <td id=\"T_5623c_row21_col0\" class=\"data row21 col0\" >Feature selection</td>\n",
       "      <td id=\"T_5623c_row21_col1\" class=\"data row21 col1\" >True</td>\n",
       "    </tr>\n",
       "    <tr>\n",
       "      <th id=\"T_5623c_level0_row22\" class=\"row_heading level0 row22\" >22</th>\n",
       "      <td id=\"T_5623c_row22_col0\" class=\"data row22 col0\" >Feature selection method</td>\n",
       "      <td id=\"T_5623c_row22_col1\" class=\"data row22 col1\" >classic</td>\n",
       "    </tr>\n",
       "    <tr>\n",
       "      <th id=\"T_5623c_level0_row23\" class=\"row_heading level0 row23\" >23</th>\n",
       "      <td id=\"T_5623c_row23_col0\" class=\"data row23 col0\" >Feature selection estimator</td>\n",
       "      <td id=\"T_5623c_row23_col1\" class=\"data row23 col1\" >lightgbm</td>\n",
       "    </tr>\n",
       "    <tr>\n",
       "      <th id=\"T_5623c_level0_row24\" class=\"row_heading level0 row24\" >24</th>\n",
       "      <td id=\"T_5623c_row24_col0\" class=\"data row24 col0\" >Number of features selected</td>\n",
       "      <td id=\"T_5623c_row24_col1\" class=\"data row24 col1\" >10</td>\n",
       "    </tr>\n",
       "    <tr>\n",
       "      <th id=\"T_5623c_level0_row25\" class=\"row_heading level0 row25\" >25</th>\n",
       "      <td id=\"T_5623c_row25_col0\" class=\"data row25 col0\" >Fold Generator</td>\n",
       "      <td id=\"T_5623c_row25_col1\" class=\"data row25 col1\" >StratifiedKFold</td>\n",
       "    </tr>\n",
       "    <tr>\n",
       "      <th id=\"T_5623c_level0_row26\" class=\"row_heading level0 row26\" >26</th>\n",
       "      <td id=\"T_5623c_row26_col0\" class=\"data row26 col0\" >Fold Number</td>\n",
       "      <td id=\"T_5623c_row26_col1\" class=\"data row26 col1\" >10</td>\n",
       "    </tr>\n",
       "    <tr>\n",
       "      <th id=\"T_5623c_level0_row27\" class=\"row_heading level0 row27\" >27</th>\n",
       "      <td id=\"T_5623c_row27_col0\" class=\"data row27 col0\" >CPU Jobs</td>\n",
       "      <td id=\"T_5623c_row27_col1\" class=\"data row27 col1\" >-1</td>\n",
       "    </tr>\n",
       "    <tr>\n",
       "      <th id=\"T_5623c_level0_row28\" class=\"row_heading level0 row28\" >28</th>\n",
       "      <td id=\"T_5623c_row28_col0\" class=\"data row28 col0\" >Use GPU</td>\n",
       "      <td id=\"T_5623c_row28_col1\" class=\"data row28 col1\" >False</td>\n",
       "    </tr>\n",
       "    <tr>\n",
       "      <th id=\"T_5623c_level0_row29\" class=\"row_heading level0 row29\" >29</th>\n",
       "      <td id=\"T_5623c_row29_col0\" class=\"data row29 col0\" >Log Experiment</td>\n",
       "      <td id=\"T_5623c_row29_col1\" class=\"data row29 col1\" >False</td>\n",
       "    </tr>\n",
       "    <tr>\n",
       "      <th id=\"T_5623c_level0_row30\" class=\"row_heading level0 row30\" >30</th>\n",
       "      <td id=\"T_5623c_row30_col0\" class=\"data row30 col0\" >Experiment Name</td>\n",
       "      <td id=\"T_5623c_row30_col1\" class=\"data row30 col1\" >clf-default-name</td>\n",
       "    </tr>\n",
       "    <tr>\n",
       "      <th id=\"T_5623c_level0_row31\" class=\"row_heading level0 row31\" >31</th>\n",
       "      <td id=\"T_5623c_row31_col0\" class=\"data row31 col0\" >USI</td>\n",
       "      <td id=\"T_5623c_row31_col1\" class=\"data row31 col1\" >d741</td>\n",
       "    </tr>\n",
       "  </tbody>\n",
       "</table>\n"
      ],
      "text/plain": [
       "<pandas.io.formats.style.Styler at 0x207594e6fe0>"
      ]
     },
     "metadata": {},
     "output_type": "display_data"
    }
   ],
   "source": [
    "model = setup(\n",
    "    # Basic options\n",
    "    data = data_dev,\n",
    "    target = \"target\",\n",
    "    train_size = 0.8, \n",
    "    preprocess = True,\n",
    "    \n",
    "    # Dealing with multicollinearity\n",
    "    remove_multicollinearity = True,\n",
    "    multicollinearity_threshold = 0.9,\n",
    "        \n",
    "    # Feature normalization with outliers\n",
    "    normalize = True,\n",
    "    normalize_method = 'robust',\n",
    "        \n",
    "    # Paralellization options\n",
    "    n_jobs = - 1,\n",
    "    use_gpu = False,\n",
    "    \n",
    "    # Imbalance Dataset\n",
    "    fix_imbalance=True,\n",
    "\n",
    "    remove_outliers= True, \n",
    "    outliers_threshold= 0.03,\n",
    "    \n",
    "    # Feature Importance\n",
    "    feature_selection = True,\n",
    "    n_features_to_select= 10\n",
    ")"
   ]
  },
  {
   "cell_type": "code",
   "execution_count": 9,
   "id": "a4b5d985-eac0-4cef-bd89-f5fc3d43f91a",
   "metadata": {},
   "outputs": [
    {
     "data": {
      "text/html": [],
      "text/plain": [
       "<IPython.core.display.HTML object>"
      ]
     },
     "metadata": {},
     "output_type": "display_data"
    },
    {
     "data": {
      "text/html": [
       "<style type=\"text/css\">\n",
       "#T_99db6 th {\n",
       "  text-align: left;\n",
       "}\n",
       "#T_99db6_row0_col0, #T_99db6_row0_col2, #T_99db6_row1_col0, #T_99db6_row1_col1, #T_99db6_row1_col3, #T_99db6_row1_col4, #T_99db6_row1_col5, #T_99db6_row1_col6, #T_99db6_row1_col7, #T_99db6_row2_col0, #T_99db6_row2_col1, #T_99db6_row2_col2, #T_99db6_row2_col3, #T_99db6_row2_col4, #T_99db6_row2_col5, #T_99db6_row2_col6, #T_99db6_row2_col7, #T_99db6_row3_col0, #T_99db6_row3_col1, #T_99db6_row3_col2, #T_99db6_row3_col3, #T_99db6_row3_col4, #T_99db6_row3_col5, #T_99db6_row3_col6, #T_99db6_row3_col7, #T_99db6_row4_col0, #T_99db6_row4_col1, #T_99db6_row4_col2, #T_99db6_row4_col3, #T_99db6_row4_col4, #T_99db6_row4_col5, #T_99db6_row4_col6, #T_99db6_row4_col7, #T_99db6_row5_col0, #T_99db6_row5_col1, #T_99db6_row5_col2, #T_99db6_row5_col3, #T_99db6_row5_col4, #T_99db6_row5_col5, #T_99db6_row5_col6, #T_99db6_row5_col7, #T_99db6_row6_col0, #T_99db6_row6_col1, #T_99db6_row6_col2, #T_99db6_row6_col3, #T_99db6_row6_col4, #T_99db6_row6_col5, #T_99db6_row6_col6, #T_99db6_row6_col7, #T_99db6_row7_col0, #T_99db6_row7_col1, #T_99db6_row7_col2, #T_99db6_row7_col3, #T_99db6_row7_col4, #T_99db6_row7_col5, #T_99db6_row7_col6, #T_99db6_row7_col7, #T_99db6_row8_col0, #T_99db6_row8_col1, #T_99db6_row8_col2, #T_99db6_row8_col3, #T_99db6_row8_col4, #T_99db6_row8_col5, #T_99db6_row8_col6, #T_99db6_row8_col7, #T_99db6_row9_col0, #T_99db6_row9_col1, #T_99db6_row9_col2, #T_99db6_row9_col3, #T_99db6_row9_col4, #T_99db6_row9_col5, #T_99db6_row9_col6, #T_99db6_row9_col7, #T_99db6_row10_col0, #T_99db6_row10_col1, #T_99db6_row10_col2, #T_99db6_row10_col3, #T_99db6_row10_col4, #T_99db6_row10_col5, #T_99db6_row10_col6, #T_99db6_row10_col7, #T_99db6_row11_col0, #T_99db6_row11_col1, #T_99db6_row11_col2, #T_99db6_row11_col3, #T_99db6_row11_col4, #T_99db6_row11_col5, #T_99db6_row11_col6, #T_99db6_row11_col7, #T_99db6_row12_col0, #T_99db6_row12_col1, #T_99db6_row12_col2, #T_99db6_row12_col3, #T_99db6_row12_col4, #T_99db6_row12_col5, #T_99db6_row12_col6, #T_99db6_row12_col7, #T_99db6_row13_col0, #T_99db6_row13_col1, #T_99db6_row13_col2, #T_99db6_row13_col3, #T_99db6_row13_col4, #T_99db6_row13_col5, #T_99db6_row13_col6, #T_99db6_row13_col7, #T_99db6_row14_col0, #T_99db6_row14_col1, #T_99db6_row14_col2, #T_99db6_row14_col3, #T_99db6_row14_col4, #T_99db6_row14_col5, #T_99db6_row14_col6, #T_99db6_row14_col7, #T_99db6_row15_col0, #T_99db6_row15_col1, #T_99db6_row15_col2, #T_99db6_row15_col3, #T_99db6_row15_col4, #T_99db6_row15_col5, #T_99db6_row15_col6, #T_99db6_row15_col7 {\n",
       "  text-align: left;\n",
       "}\n",
       "#T_99db6_row0_col1, #T_99db6_row0_col3, #T_99db6_row0_col4, #T_99db6_row0_col5, #T_99db6_row0_col6, #T_99db6_row0_col7, #T_99db6_row1_col2 {\n",
       "  text-align: left;\n",
       "  background-color: yellow;\n",
       "}\n",
       "#T_99db6_row0_col8, #T_99db6_row1_col8, #T_99db6_row2_col8, #T_99db6_row3_col8, #T_99db6_row4_col8, #T_99db6_row5_col8, #T_99db6_row6_col8, #T_99db6_row7_col8, #T_99db6_row8_col8, #T_99db6_row9_col8, #T_99db6_row10_col8, #T_99db6_row11_col8, #T_99db6_row12_col8, #T_99db6_row13_col8, #T_99db6_row15_col8 {\n",
       "  text-align: left;\n",
       "  background-color: lightgrey;\n",
       "}\n",
       "#T_99db6_row14_col8 {\n",
       "  text-align: left;\n",
       "  background-color: yellow;\n",
       "  background-color: lightgrey;\n",
       "}\n",
       "</style>\n",
       "<table id=\"T_99db6\">\n",
       "  <thead>\n",
       "    <tr>\n",
       "      <th class=\"blank level0\" >&nbsp;</th>\n",
       "      <th id=\"T_99db6_level0_col0\" class=\"col_heading level0 col0\" >Model</th>\n",
       "      <th id=\"T_99db6_level0_col1\" class=\"col_heading level0 col1\" >Accuracy</th>\n",
       "      <th id=\"T_99db6_level0_col2\" class=\"col_heading level0 col2\" >AUC</th>\n",
       "      <th id=\"T_99db6_level0_col3\" class=\"col_heading level0 col3\" >Recall</th>\n",
       "      <th id=\"T_99db6_level0_col4\" class=\"col_heading level0 col4\" >Prec.</th>\n",
       "      <th id=\"T_99db6_level0_col5\" class=\"col_heading level0 col5\" >F1</th>\n",
       "      <th id=\"T_99db6_level0_col6\" class=\"col_heading level0 col6\" >Kappa</th>\n",
       "      <th id=\"T_99db6_level0_col7\" class=\"col_heading level0 col7\" >MCC</th>\n",
       "      <th id=\"T_99db6_level0_col8\" class=\"col_heading level0 col8\" >TT (Sec)</th>\n",
       "    </tr>\n",
       "  </thead>\n",
       "  <tbody>\n",
       "    <tr>\n",
       "      <th id=\"T_99db6_level0_row0\" class=\"row_heading level0 row0\" >qda</th>\n",
       "      <td id=\"T_99db6_row0_col0\" class=\"data row0 col0\" >Quadratic Discriminant Analysis</td>\n",
       "      <td id=\"T_99db6_row0_col1\" class=\"data row0 col1\" >0.9959</td>\n",
       "      <td id=\"T_99db6_row0_col2\" class=\"data row0 col2\" >0.9940</td>\n",
       "      <td id=\"T_99db6_row0_col3\" class=\"data row0 col3\" >0.9959</td>\n",
       "      <td id=\"T_99db6_row0_col4\" class=\"data row0 col4\" >0.9959</td>\n",
       "      <td id=\"T_99db6_row0_col5\" class=\"data row0 col5\" >0.9958</td>\n",
       "      <td id=\"T_99db6_row0_col6\" class=\"data row0 col6\" >0.9880</td>\n",
       "      <td id=\"T_99db6_row0_col7\" class=\"data row0 col7\" >0.9881</td>\n",
       "      <td id=\"T_99db6_row0_col8\" class=\"data row0 col8\" >2.7150</td>\n",
       "    </tr>\n",
       "    <tr>\n",
       "      <th id=\"T_99db6_level0_row1\" class=\"row_heading level0 row1\" >et</th>\n",
       "      <td id=\"T_99db6_row1_col0\" class=\"data row1 col0\" >Extra Trees Classifier</td>\n",
       "      <td id=\"T_99db6_row1_col1\" class=\"data row1 col1\" >0.9955</td>\n",
       "      <td id=\"T_99db6_row1_col2\" class=\"data row1 col2\" >0.9994</td>\n",
       "      <td id=\"T_99db6_row1_col3\" class=\"data row1 col3\" >0.9955</td>\n",
       "      <td id=\"T_99db6_row1_col4\" class=\"data row1 col4\" >0.9955</td>\n",
       "      <td id=\"T_99db6_row1_col5\" class=\"data row1 col5\" >0.9955</td>\n",
       "      <td id=\"T_99db6_row1_col6\" class=\"data row1 col6\" >0.9871</td>\n",
       "      <td id=\"T_99db6_row1_col7\" class=\"data row1 col7\" >0.9871</td>\n",
       "      <td id=\"T_99db6_row1_col8\" class=\"data row1 col8\" >0.5050</td>\n",
       "    </tr>\n",
       "    <tr>\n",
       "      <th id=\"T_99db6_level0_row2\" class=\"row_heading level0 row2\" >catboost</th>\n",
       "      <td id=\"T_99db6_row2_col0\" class=\"data row2 col0\" >CatBoost Classifier</td>\n",
       "      <td id=\"T_99db6_row2_col1\" class=\"data row2 col1\" >0.9955</td>\n",
       "      <td id=\"T_99db6_row2_col2\" class=\"data row2 col2\" >0.9985</td>\n",
       "      <td id=\"T_99db6_row2_col3\" class=\"data row2 col3\" >0.9955</td>\n",
       "      <td id=\"T_99db6_row2_col4\" class=\"data row2 col4\" >0.9955</td>\n",
       "      <td id=\"T_99db6_row2_col5\" class=\"data row2 col5\" >0.9955</td>\n",
       "      <td id=\"T_99db6_row2_col6\" class=\"data row2 col6\" >0.9871</td>\n",
       "      <td id=\"T_99db6_row2_col7\" class=\"data row2 col7\" >0.9871</td>\n",
       "      <td id=\"T_99db6_row2_col8\" class=\"data row2 col8\" >3.0100</td>\n",
       "    </tr>\n",
       "    <tr>\n",
       "      <th id=\"T_99db6_level0_row3\" class=\"row_heading level0 row3\" >rf</th>\n",
       "      <td id=\"T_99db6_row3_col0\" class=\"data row3 col0\" >Random Forest Classifier</td>\n",
       "      <td id=\"T_99db6_row3_col1\" class=\"data row3 col1\" >0.9948</td>\n",
       "      <td id=\"T_99db6_row3_col2\" class=\"data row3 col2\" >0.9967</td>\n",
       "      <td id=\"T_99db6_row3_col3\" class=\"data row3 col3\" >0.9948</td>\n",
       "      <td id=\"T_99db6_row3_col4\" class=\"data row3 col4\" >0.9948</td>\n",
       "      <td id=\"T_99db6_row3_col5\" class=\"data row3 col5\" >0.9948</td>\n",
       "      <td id=\"T_99db6_row3_col6\" class=\"data row3 col6\" >0.9852</td>\n",
       "      <td id=\"T_99db6_row3_col7\" class=\"data row3 col7\" >0.9852</td>\n",
       "      <td id=\"T_99db6_row3_col8\" class=\"data row3 col8\" >3.1200</td>\n",
       "    </tr>\n",
       "    <tr>\n",
       "      <th id=\"T_99db6_level0_row4\" class=\"row_heading level0 row4\" >gbc</th>\n",
       "      <td id=\"T_99db6_row4_col0\" class=\"data row4 col0\" >Gradient Boosting Classifier</td>\n",
       "      <td id=\"T_99db6_row4_col1\" class=\"data row4 col1\" >0.9941</td>\n",
       "      <td id=\"T_99db6_row4_col2\" class=\"data row4 col2\" >0.9974</td>\n",
       "      <td id=\"T_99db6_row4_col3\" class=\"data row4 col3\" >0.9941</td>\n",
       "      <td id=\"T_99db6_row4_col4\" class=\"data row4 col4\" >0.9941</td>\n",
       "      <td id=\"T_99db6_row4_col5\" class=\"data row4 col5\" >0.9941</td>\n",
       "      <td id=\"T_99db6_row4_col6\" class=\"data row4 col6\" >0.9831</td>\n",
       "      <td id=\"T_99db6_row4_col7\" class=\"data row4 col7\" >0.9832</td>\n",
       "      <td id=\"T_99db6_row4_col8\" class=\"data row4 col8\" >0.7750</td>\n",
       "    </tr>\n",
       "    <tr>\n",
       "      <th id=\"T_99db6_level0_row5\" class=\"row_heading level0 row5\" >lightgbm</th>\n",
       "      <td id=\"T_99db6_row5_col0\" class=\"data row5 col0\" >Light Gradient Boosting Machine</td>\n",
       "      <td id=\"T_99db6_row5_col1\" class=\"data row5 col1\" >0.9941</td>\n",
       "      <td id=\"T_99db6_row5_col2\" class=\"data row5 col2\" >0.9981</td>\n",
       "      <td id=\"T_99db6_row5_col3\" class=\"data row5 col3\" >0.9941</td>\n",
       "      <td id=\"T_99db6_row5_col4\" class=\"data row5 col4\" >0.9941</td>\n",
       "      <td id=\"T_99db6_row5_col5\" class=\"data row5 col5\" >0.9941</td>\n",
       "      <td id=\"T_99db6_row5_col6\" class=\"data row5 col6\" >0.9832</td>\n",
       "      <td id=\"T_99db6_row5_col7\" class=\"data row5 col7\" >0.9832</td>\n",
       "      <td id=\"T_99db6_row5_col8\" class=\"data row5 col8\" >0.5600</td>\n",
       "    </tr>\n",
       "    <tr>\n",
       "      <th id=\"T_99db6_level0_row6\" class=\"row_heading level0 row6\" >nb</th>\n",
       "      <td id=\"T_99db6_row6_col0\" class=\"data row6 col0\" >Naive Bayes</td>\n",
       "      <td id=\"T_99db6_row6_col1\" class=\"data row6 col1\" >0.9931</td>\n",
       "      <td id=\"T_99db6_row6_col2\" class=\"data row6 col2\" >0.9973</td>\n",
       "      <td id=\"T_99db6_row6_col3\" class=\"data row6 col3\" >0.9931</td>\n",
       "      <td id=\"T_99db6_row6_col4\" class=\"data row6 col4\" >0.9931</td>\n",
       "      <td id=\"T_99db6_row6_col5\" class=\"data row6 col5\" >0.9931</td>\n",
       "      <td id=\"T_99db6_row6_col6\" class=\"data row6 col6\" >0.9802</td>\n",
       "      <td id=\"T_99db6_row6_col7\" class=\"data row6 col7\" >0.9802</td>\n",
       "      <td id=\"T_99db6_row6_col8\" class=\"data row6 col8\" >2.7750</td>\n",
       "    </tr>\n",
       "    <tr>\n",
       "      <th id=\"T_99db6_level0_row7\" class=\"row_heading level0 row7\" >ada</th>\n",
       "      <td id=\"T_99db6_row7_col0\" class=\"data row7 col0\" >Ada Boost Classifier</td>\n",
       "      <td id=\"T_99db6_row7_col1\" class=\"data row7 col1\" >0.9920</td>\n",
       "      <td id=\"T_99db6_row7_col2\" class=\"data row7 col2\" >0.9970</td>\n",
       "      <td id=\"T_99db6_row7_col3\" class=\"data row7 col3\" >0.9920</td>\n",
       "      <td id=\"T_99db6_row7_col4\" class=\"data row7 col4\" >0.9921</td>\n",
       "      <td id=\"T_99db6_row7_col5\" class=\"data row7 col5\" >0.9921</td>\n",
       "      <td id=\"T_99db6_row7_col6\" class=\"data row7 col6\" >0.9773</td>\n",
       "      <td id=\"T_99db6_row7_col7\" class=\"data row7 col7\" >0.9774</td>\n",
       "      <td id=\"T_99db6_row7_col8\" class=\"data row7 col8\" >0.5000</td>\n",
       "    </tr>\n",
       "    <tr>\n",
       "      <th id=\"T_99db6_level0_row8\" class=\"row_heading level0 row8\" >xgboost</th>\n",
       "      <td id=\"T_99db6_row8_col0\" class=\"data row8 col0\" >Extreme Gradient Boosting</td>\n",
       "      <td id=\"T_99db6_row8_col1\" class=\"data row8 col1\" >0.9917</td>\n",
       "      <td id=\"T_99db6_row8_col2\" class=\"data row8 col2\" >0.9979</td>\n",
       "      <td id=\"T_99db6_row8_col3\" class=\"data row8 col3\" >0.9917</td>\n",
       "      <td id=\"T_99db6_row8_col4\" class=\"data row8 col4\" >0.9918</td>\n",
       "      <td id=\"T_99db6_row8_col5\" class=\"data row8 col5\" >0.9917</td>\n",
       "      <td id=\"T_99db6_row8_col6\" class=\"data row8 col6\" >0.9764</td>\n",
       "      <td id=\"T_99db6_row8_col7\" class=\"data row8 col7\" >0.9765</td>\n",
       "      <td id=\"T_99db6_row8_col8\" class=\"data row8 col8\" >0.4950</td>\n",
       "    </tr>\n",
       "    <tr>\n",
       "      <th id=\"T_99db6_level0_row9\" class=\"row_heading level0 row9\" >knn</th>\n",
       "      <td id=\"T_99db6_row9_col0\" class=\"data row9 col0\" >K Neighbors Classifier</td>\n",
       "      <td id=\"T_99db6_row9_col1\" class=\"data row9 col1\" >0.9914</td>\n",
       "      <td id=\"T_99db6_row9_col2\" class=\"data row9 col2\" >0.9952</td>\n",
       "      <td id=\"T_99db6_row9_col3\" class=\"data row9 col3\" >0.9914</td>\n",
       "      <td id=\"T_99db6_row9_col4\" class=\"data row9 col4\" >0.9915</td>\n",
       "      <td id=\"T_99db6_row9_col5\" class=\"data row9 col5\" >0.9914</td>\n",
       "      <td id=\"T_99db6_row9_col6\" class=\"data row9 col6\" >0.9754</td>\n",
       "      <td id=\"T_99db6_row9_col7\" class=\"data row9 col7\" >0.9756</td>\n",
       "      <td id=\"T_99db6_row9_col8\" class=\"data row9 col8\" >2.7700</td>\n",
       "    </tr>\n",
       "    <tr>\n",
       "      <th id=\"T_99db6_level0_row10\" class=\"row_heading level0 row10\" >dt</th>\n",
       "      <td id=\"T_99db6_row10_col0\" class=\"data row10 col0\" >Decision Tree Classifier</td>\n",
       "      <td id=\"T_99db6_row10_col1\" class=\"data row10 col1\" >0.9865</td>\n",
       "      <td id=\"T_99db6_row10_col2\" class=\"data row10 col2\" >0.9821</td>\n",
       "      <td id=\"T_99db6_row10_col3\" class=\"data row10 col3\" >0.9865</td>\n",
       "      <td id=\"T_99db6_row10_col4\" class=\"data row10 col4\" >0.9867</td>\n",
       "      <td id=\"T_99db6_row10_col5\" class=\"data row10 col5\" >0.9865</td>\n",
       "      <td id=\"T_99db6_row10_col6\" class=\"data row10 col6\" >0.9615</td>\n",
       "      <td id=\"T_99db6_row10_col7\" class=\"data row10 col7\" >0.9617</td>\n",
       "      <td id=\"T_99db6_row10_col8\" class=\"data row10 col8\" >2.7500</td>\n",
       "    </tr>\n",
       "    <tr>\n",
       "      <th id=\"T_99db6_level0_row11\" class=\"row_heading level0 row11\" >svm</th>\n",
       "      <td id=\"T_99db6_row11_col0\" class=\"data row11 col0\" >SVM - Linear Kernel</td>\n",
       "      <td id=\"T_99db6_row11_col1\" class=\"data row11 col1\" >0.9855</td>\n",
       "      <td id=\"T_99db6_row11_col2\" class=\"data row11 col2\" >0.0000</td>\n",
       "      <td id=\"T_99db6_row11_col3\" class=\"data row11 col3\" >0.9855</td>\n",
       "      <td id=\"T_99db6_row11_col4\" class=\"data row11 col4\" >0.9858</td>\n",
       "      <td id=\"T_99db6_row11_col5\" class=\"data row11 col5\" >0.9856</td>\n",
       "      <td id=\"T_99db6_row11_col6\" class=\"data row11 col6\" >0.9589</td>\n",
       "      <td id=\"T_99db6_row11_col7\" class=\"data row11 col7\" >0.9592</td>\n",
       "      <td id=\"T_99db6_row11_col8\" class=\"data row11 col8\" >2.7200</td>\n",
       "    </tr>\n",
       "    <tr>\n",
       "      <th id=\"T_99db6_level0_row12\" class=\"row_heading level0 row12\" >lr</th>\n",
       "      <td id=\"T_99db6_row12_col0\" class=\"data row12 col0\" >Logistic Regression</td>\n",
       "      <td id=\"T_99db6_row12_col1\" class=\"data row12 col1\" >0.9834</td>\n",
       "      <td id=\"T_99db6_row12_col2\" class=\"data row12 col2\" >0.9957</td>\n",
       "      <td id=\"T_99db6_row12_col3\" class=\"data row12 col3\" >0.9834</td>\n",
       "      <td id=\"T_99db6_row12_col4\" class=\"data row12 col4\" >0.9841</td>\n",
       "      <td id=\"T_99db6_row12_col5\" class=\"data row12 col5\" >0.9836</td>\n",
       "      <td id=\"T_99db6_row12_col6\" class=\"data row12 col6\" >0.9534</td>\n",
       "      <td id=\"T_99db6_row12_col7\" class=\"data row12 col7\" >0.9540</td>\n",
       "      <td id=\"T_99db6_row12_col8\" class=\"data row12 col8\" >3.2750</td>\n",
       "    </tr>\n",
       "    <tr>\n",
       "      <th id=\"T_99db6_level0_row13\" class=\"row_heading level0 row13\" >ridge</th>\n",
       "      <td id=\"T_99db6_row13_col0\" class=\"data row13 col0\" >Ridge Classifier</td>\n",
       "      <td id=\"T_99db6_row13_col1\" class=\"data row13 col1\" >0.9796</td>\n",
       "      <td id=\"T_99db6_row13_col2\" class=\"data row13 col2\" >0.0000</td>\n",
       "      <td id=\"T_99db6_row13_col3\" class=\"data row13 col3\" >0.9796</td>\n",
       "      <td id=\"T_99db6_row13_col4\" class=\"data row13 col4\" >0.9808</td>\n",
       "      <td id=\"T_99db6_row13_col5\" class=\"data row13 col5\" >0.9798</td>\n",
       "      <td id=\"T_99db6_row13_col6\" class=\"data row13 col6\" >0.9430</td>\n",
       "      <td id=\"T_99db6_row13_col7\" class=\"data row13 col7\" >0.9440</td>\n",
       "      <td id=\"T_99db6_row13_col8\" class=\"data row13 col8\" >2.7750</td>\n",
       "    </tr>\n",
       "    <tr>\n",
       "      <th id=\"T_99db6_level0_row14\" class=\"row_heading level0 row14\" >lda</th>\n",
       "      <td id=\"T_99db6_row14_col0\" class=\"data row14 col0\" >Linear Discriminant Analysis</td>\n",
       "      <td id=\"T_99db6_row14_col1\" class=\"data row14 col1\" >0.9775</td>\n",
       "      <td id=\"T_99db6_row14_col2\" class=\"data row14 col2\" >0.9928</td>\n",
       "      <td id=\"T_99db6_row14_col3\" class=\"data row14 col3\" >0.9775</td>\n",
       "      <td id=\"T_99db6_row14_col4\" class=\"data row14 col4\" >0.9789</td>\n",
       "      <td id=\"T_99db6_row14_col5\" class=\"data row14 col5\" >0.9778</td>\n",
       "      <td id=\"T_99db6_row14_col6\" class=\"data row14 col6\" >0.9374</td>\n",
       "      <td id=\"T_99db6_row14_col7\" class=\"data row14 col7\" >0.9385</td>\n",
       "      <td id=\"T_99db6_row14_col8\" class=\"data row14 col8\" >0.3150</td>\n",
       "    </tr>\n",
       "    <tr>\n",
       "      <th id=\"T_99db6_level0_row15\" class=\"row_heading level0 row15\" >dummy</th>\n",
       "      <td id=\"T_99db6_row15_col0\" class=\"data row15 col0\" >Dummy Classifier</td>\n",
       "      <td id=\"T_99db6_row15_col1\" class=\"data row15 col1\" >0.7746</td>\n",
       "      <td id=\"T_99db6_row15_col2\" class=\"data row15 col2\" >0.5000</td>\n",
       "      <td id=\"T_99db6_row15_col3\" class=\"data row15 col3\" >0.7746</td>\n",
       "      <td id=\"T_99db6_row15_col4\" class=\"data row15 col4\" >0.5999</td>\n",
       "      <td id=\"T_99db6_row15_col5\" class=\"data row15 col5\" >0.6761</td>\n",
       "      <td id=\"T_99db6_row15_col6\" class=\"data row15 col6\" >0.0000</td>\n",
       "      <td id=\"T_99db6_row15_col7\" class=\"data row15 col7\" >0.0000</td>\n",
       "      <td id=\"T_99db6_row15_col8\" class=\"data row15 col8\" >0.3300</td>\n",
       "    </tr>\n",
       "  </tbody>\n",
       "</table>\n"
      ],
      "text/plain": [
       "<pandas.io.formats.style.Styler at 0x207546542b0>"
      ]
     },
     "metadata": {},
     "output_type": "display_data"
    },
    {
     "data": {
      "text/html": [],
      "text/plain": [
       "<IPython.core.display.HTML object>"
      ]
     },
     "metadata": {},
     "output_type": "display_data"
    },
    {
     "data": {
      "text/html": [
       "<style>#sk-container-id-1 {color: black;background-color: white;}#sk-container-id-1 pre{padding: 0;}#sk-container-id-1 div.sk-toggleable {background-color: white;}#sk-container-id-1 label.sk-toggleable__label {cursor: pointer;display: block;width: 100%;margin-bottom: 0;padding: 0.3em;box-sizing: border-box;text-align: center;}#sk-container-id-1 label.sk-toggleable__label-arrow:before {content: \"▸\";float: left;margin-right: 0.25em;color: #696969;}#sk-container-id-1 label.sk-toggleable__label-arrow:hover:before {color: black;}#sk-container-id-1 div.sk-estimator:hover label.sk-toggleable__label-arrow:before {color: black;}#sk-container-id-1 div.sk-toggleable__content {max-height: 0;max-width: 0;overflow: hidden;text-align: left;background-color: #f0f8ff;}#sk-container-id-1 div.sk-toggleable__content pre {margin: 0.2em;color: black;border-radius: 0.25em;background-color: #f0f8ff;}#sk-container-id-1 input.sk-toggleable__control:checked~div.sk-toggleable__content {max-height: 200px;max-width: 100%;overflow: auto;}#sk-container-id-1 input.sk-toggleable__control:checked~label.sk-toggleable__label-arrow:before {content: \"▾\";}#sk-container-id-1 div.sk-estimator input.sk-toggleable__control:checked~label.sk-toggleable__label {background-color: #d4ebff;}#sk-container-id-1 div.sk-label input.sk-toggleable__control:checked~label.sk-toggleable__label {background-color: #d4ebff;}#sk-container-id-1 input.sk-hidden--visually {border: 0;clip: rect(1px 1px 1px 1px);clip: rect(1px, 1px, 1px, 1px);height: 1px;margin: -1px;overflow: hidden;padding: 0;position: absolute;width: 1px;}#sk-container-id-1 div.sk-estimator {font-family: monospace;background-color: #f0f8ff;border: 1px dotted black;border-radius: 0.25em;box-sizing: border-box;margin-bottom: 0.5em;}#sk-container-id-1 div.sk-estimator:hover {background-color: #d4ebff;}#sk-container-id-1 div.sk-parallel-item::after {content: \"\";width: 100%;border-bottom: 1px solid gray;flex-grow: 1;}#sk-container-id-1 div.sk-label:hover label.sk-toggleable__label {background-color: #d4ebff;}#sk-container-id-1 div.sk-serial::before {content: \"\";position: absolute;border-left: 1px solid gray;box-sizing: border-box;top: 0;bottom: 0;left: 50%;z-index: 0;}#sk-container-id-1 div.sk-serial {display: flex;flex-direction: column;align-items: center;background-color: white;padding-right: 0.2em;padding-left: 0.2em;position: relative;}#sk-container-id-1 div.sk-item {position: relative;z-index: 1;}#sk-container-id-1 div.sk-parallel {display: flex;align-items: stretch;justify-content: center;background-color: white;position: relative;}#sk-container-id-1 div.sk-item::before, #sk-container-id-1 div.sk-parallel-item::before {content: \"\";position: absolute;border-left: 1px solid gray;box-sizing: border-box;top: 0;bottom: 0;left: 50%;z-index: -1;}#sk-container-id-1 div.sk-parallel-item {display: flex;flex-direction: column;z-index: 1;position: relative;background-color: white;}#sk-container-id-1 div.sk-parallel-item:first-child::after {align-self: flex-end;width: 50%;}#sk-container-id-1 div.sk-parallel-item:last-child::after {align-self: flex-start;width: 50%;}#sk-container-id-1 div.sk-parallel-item:only-child::after {width: 0;}#sk-container-id-1 div.sk-dashed-wrapped {border: 1px dashed gray;margin: 0 0.4em 0.5em 0.4em;box-sizing: border-box;padding-bottom: 0.4em;background-color: white;}#sk-container-id-1 div.sk-label label {font-family: monospace;font-weight: bold;display: inline-block;line-height: 1.2em;}#sk-container-id-1 div.sk-label-container {text-align: center;}#sk-container-id-1 div.sk-container {/* jupyter's `normalize.less` sets `[hidden] { display: none; }` but bootstrap.min.css set `[hidden] { display: none !important; }` so we also need the `!important` here to be able to override the default hidden behavior on the sphinx rendered scikit-learn.org. See: https://github.com/scikit-learn/scikit-learn/issues/21755 */display: inline-block !important;position: relative;}#sk-container-id-1 div.sk-text-repr-fallback {display: none;}</style><div id=\"sk-container-id-1\" class=\"sk-top-container\"><div class=\"sk-text-repr-fallback\"><pre>QuadraticDiscriminantAnalysis(priors=None, reg_param=0.0,\n",
       "                              store_covariance=False, tol=0.0001)</pre><b>In a Jupyter environment, please rerun this cell to show the HTML representation or trust the notebook. <br />On GitHub, the HTML representation is unable to render, please try loading this page with nbviewer.org.</b></div><div class=\"sk-container\" hidden><div class=\"sk-item\"><div class=\"sk-estimator sk-toggleable\"><input class=\"sk-toggleable__control sk-hidden--visually\" id=\"sk-estimator-id-1\" type=\"checkbox\" checked><label for=\"sk-estimator-id-1\" class=\"sk-toggleable__label sk-toggleable__label-arrow\">QuadraticDiscriminantAnalysis</label><div class=\"sk-toggleable__content\"><pre>QuadraticDiscriminantAnalysis(priors=None, reg_param=0.0,\n",
       "                              store_covariance=False, tol=0.0001)</pre></div></div></div></div></div>"
      ],
      "text/plain": [
       "QuadraticDiscriminantAnalysis(priors=None, reg_param=0.0,\n",
       "                              store_covariance=False, tol=0.0001)"
      ]
     },
     "execution_count": 9,
     "metadata": {},
     "output_type": "execute_result"
    }
   ],
   "source": [
    "models = compare_models(sort=\"F1\", fold=2)\n",
    "models"
   ]
  },
  {
   "cell_type": "code",
   "execution_count": 10,
   "id": "ac72b5ed-c736-4ce5-8617-06c84776919f",
   "metadata": {},
   "outputs": [
    {
     "data": {
      "text/html": [
       "<div>\n",
       "<style scoped>\n",
       "    .dataframe tbody tr th:only-of-type {\n",
       "        vertical-align: middle;\n",
       "    }\n",
       "\n",
       "    .dataframe tbody tr th {\n",
       "        vertical-align: top;\n",
       "    }\n",
       "\n",
       "    .dataframe thead th {\n",
       "        text-align: right;\n",
       "    }\n",
       "</style>\n",
       "<table border=\"1\" class=\"dataframe\">\n",
       "  <thead>\n",
       "    <tr style=\"text-align: right;\">\n",
       "      <th></th>\n",
       "      <th>Model</th>\n",
       "      <th>Accuracy</th>\n",
       "      <th>AUC</th>\n",
       "      <th>Recall</th>\n",
       "      <th>Prec.</th>\n",
       "      <th>F1</th>\n",
       "      <th>Kappa</th>\n",
       "      <th>MCC</th>\n",
       "      <th>TT (Sec)</th>\n",
       "    </tr>\n",
       "  </thead>\n",
       "  <tbody>\n",
       "    <tr>\n",
       "      <th>qda</th>\n",
       "      <td>Quadratic Discriminant Analysis</td>\n",
       "      <td>0.9959</td>\n",
       "      <td>0.9940</td>\n",
       "      <td>0.9959</td>\n",
       "      <td>0.9959</td>\n",
       "      <td>0.9958</td>\n",
       "      <td>0.9880</td>\n",
       "      <td>0.9881</td>\n",
       "      <td>2.715</td>\n",
       "    </tr>\n",
       "    <tr>\n",
       "      <th>et</th>\n",
       "      <td>Extra Trees Classifier</td>\n",
       "      <td>0.9955</td>\n",
       "      <td>0.9994</td>\n",
       "      <td>0.9955</td>\n",
       "      <td>0.9955</td>\n",
       "      <td>0.9955</td>\n",
       "      <td>0.9871</td>\n",
       "      <td>0.9871</td>\n",
       "      <td>0.505</td>\n",
       "    </tr>\n",
       "    <tr>\n",
       "      <th>catboost</th>\n",
       "      <td>CatBoost Classifier</td>\n",
       "      <td>0.9955</td>\n",
       "      <td>0.9985</td>\n",
       "      <td>0.9955</td>\n",
       "      <td>0.9955</td>\n",
       "      <td>0.9955</td>\n",
       "      <td>0.9871</td>\n",
       "      <td>0.9871</td>\n",
       "      <td>3.010</td>\n",
       "    </tr>\n",
       "    <tr>\n",
       "      <th>rf</th>\n",
       "      <td>Random Forest Classifier</td>\n",
       "      <td>0.9948</td>\n",
       "      <td>0.9967</td>\n",
       "      <td>0.9948</td>\n",
       "      <td>0.9948</td>\n",
       "      <td>0.9948</td>\n",
       "      <td>0.9852</td>\n",
       "      <td>0.9852</td>\n",
       "      <td>3.120</td>\n",
       "    </tr>\n",
       "    <tr>\n",
       "      <th>gbc</th>\n",
       "      <td>Gradient Boosting Classifier</td>\n",
       "      <td>0.9941</td>\n",
       "      <td>0.9974</td>\n",
       "      <td>0.9941</td>\n",
       "      <td>0.9941</td>\n",
       "      <td>0.9941</td>\n",
       "      <td>0.9831</td>\n",
       "      <td>0.9832</td>\n",
       "      <td>0.775</td>\n",
       "    </tr>\n",
       "    <tr>\n",
       "      <th>lightgbm</th>\n",
       "      <td>Light Gradient Boosting Machine</td>\n",
       "      <td>0.9941</td>\n",
       "      <td>0.9981</td>\n",
       "      <td>0.9941</td>\n",
       "      <td>0.9941</td>\n",
       "      <td>0.9941</td>\n",
       "      <td>0.9832</td>\n",
       "      <td>0.9832</td>\n",
       "      <td>0.560</td>\n",
       "    </tr>\n",
       "    <tr>\n",
       "      <th>nb</th>\n",
       "      <td>Naive Bayes</td>\n",
       "      <td>0.9931</td>\n",
       "      <td>0.9973</td>\n",
       "      <td>0.9931</td>\n",
       "      <td>0.9931</td>\n",
       "      <td>0.9931</td>\n",
       "      <td>0.9802</td>\n",
       "      <td>0.9802</td>\n",
       "      <td>2.775</td>\n",
       "    </tr>\n",
       "    <tr>\n",
       "      <th>ada</th>\n",
       "      <td>Ada Boost Classifier</td>\n",
       "      <td>0.9920</td>\n",
       "      <td>0.9970</td>\n",
       "      <td>0.9920</td>\n",
       "      <td>0.9921</td>\n",
       "      <td>0.9921</td>\n",
       "      <td>0.9773</td>\n",
       "      <td>0.9774</td>\n",
       "      <td>0.500</td>\n",
       "    </tr>\n",
       "    <tr>\n",
       "      <th>xgboost</th>\n",
       "      <td>Extreme Gradient Boosting</td>\n",
       "      <td>0.9917</td>\n",
       "      <td>0.9979</td>\n",
       "      <td>0.9917</td>\n",
       "      <td>0.9918</td>\n",
       "      <td>0.9917</td>\n",
       "      <td>0.9764</td>\n",
       "      <td>0.9765</td>\n",
       "      <td>0.495</td>\n",
       "    </tr>\n",
       "    <tr>\n",
       "      <th>knn</th>\n",
       "      <td>K Neighbors Classifier</td>\n",
       "      <td>0.9914</td>\n",
       "      <td>0.9952</td>\n",
       "      <td>0.9914</td>\n",
       "      <td>0.9915</td>\n",
       "      <td>0.9914</td>\n",
       "      <td>0.9754</td>\n",
       "      <td>0.9756</td>\n",
       "      <td>2.770</td>\n",
       "    </tr>\n",
       "    <tr>\n",
       "      <th>dt</th>\n",
       "      <td>Decision Tree Classifier</td>\n",
       "      <td>0.9865</td>\n",
       "      <td>0.9821</td>\n",
       "      <td>0.9865</td>\n",
       "      <td>0.9867</td>\n",
       "      <td>0.9865</td>\n",
       "      <td>0.9615</td>\n",
       "      <td>0.9617</td>\n",
       "      <td>2.750</td>\n",
       "    </tr>\n",
       "    <tr>\n",
       "      <th>svm</th>\n",
       "      <td>SVM - Linear Kernel</td>\n",
       "      <td>0.9855</td>\n",
       "      <td>0.0000</td>\n",
       "      <td>0.9855</td>\n",
       "      <td>0.9858</td>\n",
       "      <td>0.9856</td>\n",
       "      <td>0.9589</td>\n",
       "      <td>0.9592</td>\n",
       "      <td>2.720</td>\n",
       "    </tr>\n",
       "    <tr>\n",
       "      <th>lr</th>\n",
       "      <td>Logistic Regression</td>\n",
       "      <td>0.9834</td>\n",
       "      <td>0.9957</td>\n",
       "      <td>0.9834</td>\n",
       "      <td>0.9841</td>\n",
       "      <td>0.9836</td>\n",
       "      <td>0.9534</td>\n",
       "      <td>0.9540</td>\n",
       "      <td>3.275</td>\n",
       "    </tr>\n",
       "    <tr>\n",
       "      <th>ridge</th>\n",
       "      <td>Ridge Classifier</td>\n",
       "      <td>0.9796</td>\n",
       "      <td>0.0000</td>\n",
       "      <td>0.9796</td>\n",
       "      <td>0.9808</td>\n",
       "      <td>0.9798</td>\n",
       "      <td>0.9430</td>\n",
       "      <td>0.9440</td>\n",
       "      <td>2.775</td>\n",
       "    </tr>\n",
       "    <tr>\n",
       "      <th>lda</th>\n",
       "      <td>Linear Discriminant Analysis</td>\n",
       "      <td>0.9775</td>\n",
       "      <td>0.9928</td>\n",
       "      <td>0.9775</td>\n",
       "      <td>0.9789</td>\n",
       "      <td>0.9778</td>\n",
       "      <td>0.9374</td>\n",
       "      <td>0.9385</td>\n",
       "      <td>0.315</td>\n",
       "    </tr>\n",
       "    <tr>\n",
       "      <th>dummy</th>\n",
       "      <td>Dummy Classifier</td>\n",
       "      <td>0.7746</td>\n",
       "      <td>0.5000</td>\n",
       "      <td>0.7746</td>\n",
       "      <td>0.5999</td>\n",
       "      <td>0.6761</td>\n",
       "      <td>0.0000</td>\n",
       "      <td>0.0000</td>\n",
       "      <td>0.330</td>\n",
       "    </tr>\n",
       "  </tbody>\n",
       "</table>\n",
       "</div>"
      ],
      "text/plain": [
       "                                    Model  Accuracy     AUC  Recall   Prec.  \\\n",
       "qda       Quadratic Discriminant Analysis    0.9959  0.9940  0.9959  0.9959   \n",
       "et                 Extra Trees Classifier    0.9955  0.9994  0.9955  0.9955   \n",
       "catboost              CatBoost Classifier    0.9955  0.9985  0.9955  0.9955   \n",
       "rf               Random Forest Classifier    0.9948  0.9967  0.9948  0.9948   \n",
       "gbc          Gradient Boosting Classifier    0.9941  0.9974  0.9941  0.9941   \n",
       "lightgbm  Light Gradient Boosting Machine    0.9941  0.9981  0.9941  0.9941   \n",
       "nb                            Naive Bayes    0.9931  0.9973  0.9931  0.9931   \n",
       "ada                  Ada Boost Classifier    0.9920  0.9970  0.9920  0.9921   \n",
       "xgboost         Extreme Gradient Boosting    0.9917  0.9979  0.9917  0.9918   \n",
       "knn                K Neighbors Classifier    0.9914  0.9952  0.9914  0.9915   \n",
       "dt               Decision Tree Classifier    0.9865  0.9821  0.9865  0.9867   \n",
       "svm                   SVM - Linear Kernel    0.9855  0.0000  0.9855  0.9858   \n",
       "lr                    Logistic Regression    0.9834  0.9957  0.9834  0.9841   \n",
       "ridge                    Ridge Classifier    0.9796  0.0000  0.9796  0.9808   \n",
       "lda          Linear Discriminant Analysis    0.9775  0.9928  0.9775  0.9789   \n",
       "dummy                    Dummy Classifier    0.7746  0.5000  0.7746  0.5999   \n",
       "\n",
       "              F1   Kappa     MCC  TT (Sec)  \n",
       "qda       0.9958  0.9880  0.9881     2.715  \n",
       "et        0.9955  0.9871  0.9871     0.505  \n",
       "catboost  0.9955  0.9871  0.9871     3.010  \n",
       "rf        0.9948  0.9852  0.9852     3.120  \n",
       "gbc       0.9941  0.9831  0.9832     0.775  \n",
       "lightgbm  0.9941  0.9832  0.9832     0.560  \n",
       "nb        0.9931  0.9802  0.9802     2.775  \n",
       "ada       0.9921  0.9773  0.9774     0.500  \n",
       "xgboost   0.9917  0.9764  0.9765     0.495  \n",
       "knn       0.9914  0.9754  0.9756     2.770  \n",
       "dt        0.9865  0.9615  0.9617     2.750  \n",
       "svm       0.9856  0.9589  0.9592     2.720  \n",
       "lr        0.9836  0.9534  0.9540     3.275  \n",
       "ridge     0.9798  0.9430  0.9440     2.775  \n",
       "lda       0.9778  0.9374  0.9385     0.315  \n",
       "dummy     0.6761  0.0000  0.0000     0.330  "
      ]
     },
     "execution_count": 10,
     "metadata": {},
     "output_type": "execute_result"
    }
   ],
   "source": [
    "cnt_models_df = pull()\n",
    "cnt_models_df"
   ]
  },
  {
   "cell_type": "code",
   "execution_count": 11,
   "id": "2bb42b22-75bd-408a-9058-0225d2109c84",
   "metadata": {},
   "outputs": [
    {
     "data": {
      "text/html": [],
      "text/plain": [
       "<IPython.core.display.HTML object>"
      ]
     },
     "metadata": {},
     "output_type": "display_data"
    },
    {
     "data": {
      "text/html": [
       "<style type=\"text/css\">\n",
       "#T_ed195_row2_col0, #T_ed195_row2_col1, #T_ed195_row2_col2, #T_ed195_row2_col3, #T_ed195_row2_col4, #T_ed195_row2_col5, #T_ed195_row2_col6 {\n",
       "  background: yellow;\n",
       "}\n",
       "</style>\n",
       "<table id=\"T_ed195\">\n",
       "  <thead>\n",
       "    <tr>\n",
       "      <th class=\"blank level0\" >&nbsp;</th>\n",
       "      <th id=\"T_ed195_level0_col0\" class=\"col_heading level0 col0\" >Accuracy</th>\n",
       "      <th id=\"T_ed195_level0_col1\" class=\"col_heading level0 col1\" >AUC</th>\n",
       "      <th id=\"T_ed195_level0_col2\" class=\"col_heading level0 col2\" >Recall</th>\n",
       "      <th id=\"T_ed195_level0_col3\" class=\"col_heading level0 col3\" >Prec.</th>\n",
       "      <th id=\"T_ed195_level0_col4\" class=\"col_heading level0 col4\" >F1</th>\n",
       "      <th id=\"T_ed195_level0_col5\" class=\"col_heading level0 col5\" >Kappa</th>\n",
       "      <th id=\"T_ed195_level0_col6\" class=\"col_heading level0 col6\" >MCC</th>\n",
       "    </tr>\n",
       "    <tr>\n",
       "      <th class=\"index_name level0\" >Fold</th>\n",
       "      <th class=\"blank col0\" >&nbsp;</th>\n",
       "      <th class=\"blank col1\" >&nbsp;</th>\n",
       "      <th class=\"blank col2\" >&nbsp;</th>\n",
       "      <th class=\"blank col3\" >&nbsp;</th>\n",
       "      <th class=\"blank col4\" >&nbsp;</th>\n",
       "      <th class=\"blank col5\" >&nbsp;</th>\n",
       "      <th class=\"blank col6\" >&nbsp;</th>\n",
       "    </tr>\n",
       "  </thead>\n",
       "  <tbody>\n",
       "    <tr>\n",
       "      <th id=\"T_ed195_level0_row0\" class=\"row_heading level0 row0\" >0</th>\n",
       "      <td id=\"T_ed195_row0_col0\" class=\"data row0 col0\" >0.9952</td>\n",
       "      <td id=\"T_ed195_row0_col1\" class=\"data row0 col1\" >0.9991</td>\n",
       "      <td id=\"T_ed195_row0_col2\" class=\"data row0 col2\" >0.9952</td>\n",
       "      <td id=\"T_ed195_row0_col3\" class=\"data row0 col3\" >0.9952</td>\n",
       "      <td id=\"T_ed195_row0_col4\" class=\"data row0 col4\" >0.9952</td>\n",
       "      <td id=\"T_ed195_row0_col5\" class=\"data row0 col5\" >0.9862</td>\n",
       "      <td id=\"T_ed195_row0_col6\" class=\"data row0 col6\" >0.9862</td>\n",
       "    </tr>\n",
       "    <tr>\n",
       "      <th id=\"T_ed195_level0_row1\" class=\"row_heading level0 row1\" >1</th>\n",
       "      <td id=\"T_ed195_row1_col0\" class=\"data row1 col0\" >0.9945</td>\n",
       "      <td id=\"T_ed195_row1_col1\" class=\"data row1 col1\" >0.9980</td>\n",
       "      <td id=\"T_ed195_row1_col2\" class=\"data row1 col2\" >0.9945</td>\n",
       "      <td id=\"T_ed195_row1_col3\" class=\"data row1 col3\" >0.9945</td>\n",
       "      <td id=\"T_ed195_row1_col4\" class=\"data row1 col4\" >0.9945</td>\n",
       "      <td id=\"T_ed195_row1_col5\" class=\"data row1 col5\" >0.9842</td>\n",
       "      <td id=\"T_ed195_row1_col6\" class=\"data row1 col6\" >0.9842</td>\n",
       "    </tr>\n",
       "    <tr>\n",
       "      <th id=\"T_ed195_level0_row2\" class=\"row_heading level0 row2\" >Mean</th>\n",
       "      <td id=\"T_ed195_row2_col0\" class=\"data row2 col0\" >0.9948</td>\n",
       "      <td id=\"T_ed195_row2_col1\" class=\"data row2 col1\" >0.9986</td>\n",
       "      <td id=\"T_ed195_row2_col2\" class=\"data row2 col2\" >0.9948</td>\n",
       "      <td id=\"T_ed195_row2_col3\" class=\"data row2 col3\" >0.9948</td>\n",
       "      <td id=\"T_ed195_row2_col4\" class=\"data row2 col4\" >0.9948</td>\n",
       "      <td id=\"T_ed195_row2_col5\" class=\"data row2 col5\" >0.9852</td>\n",
       "      <td id=\"T_ed195_row2_col6\" class=\"data row2 col6\" >0.9852</td>\n",
       "    </tr>\n",
       "    <tr>\n",
       "      <th id=\"T_ed195_level0_row3\" class=\"row_heading level0 row3\" >Std</th>\n",
       "      <td id=\"T_ed195_row3_col0\" class=\"data row3 col0\" >0.0003</td>\n",
       "      <td id=\"T_ed195_row3_col1\" class=\"data row3 col1\" >0.0006</td>\n",
       "      <td id=\"T_ed195_row3_col2\" class=\"data row3 col2\" >0.0003</td>\n",
       "      <td id=\"T_ed195_row3_col3\" class=\"data row3 col3\" >0.0003</td>\n",
       "      <td id=\"T_ed195_row3_col4\" class=\"data row3 col4\" >0.0003</td>\n",
       "      <td id=\"T_ed195_row3_col5\" class=\"data row3 col5\" >0.0010</td>\n",
       "      <td id=\"T_ed195_row3_col6\" class=\"data row3 col6\" >0.0010</td>\n",
       "    </tr>\n",
       "  </tbody>\n",
       "</table>\n"
      ],
      "text/plain": [
       "<pandas.io.formats.style.Styler at 0x207594e4dc0>"
      ]
     },
     "metadata": {},
     "output_type": "display_data"
    },
    {
     "data": {
      "text/html": [],
      "text/plain": [
       "<IPython.core.display.HTML object>"
      ]
     },
     "metadata": {},
     "output_type": "display_data"
    }
   ],
   "source": [
    "clf = create_model('et', fold = 2)"
   ]
  },
  {
   "cell_type": "code",
   "execution_count": 12,
   "id": "4ecbf1ce-6f5a-40f4-bb20-f3140706b155",
   "metadata": {},
   "outputs": [
    {
     "data": {
      "text/html": [],
      "text/plain": [
       "<IPython.core.display.HTML object>"
      ]
     },
     "metadata": {},
     "output_type": "display_data"
    },
    {
     "data": {
      "text/html": [
       "<style type=\"text/css\">\n",
       "#T_c1268_row2_col0, #T_c1268_row2_col1, #T_c1268_row2_col2, #T_c1268_row2_col3, #T_c1268_row2_col4, #T_c1268_row2_col5, #T_c1268_row2_col6 {\n",
       "  background: yellow;\n",
       "}\n",
       "</style>\n",
       "<table id=\"T_c1268\">\n",
       "  <thead>\n",
       "    <tr>\n",
       "      <th class=\"blank level0\" >&nbsp;</th>\n",
       "      <th id=\"T_c1268_level0_col0\" class=\"col_heading level0 col0\" >Accuracy</th>\n",
       "      <th id=\"T_c1268_level0_col1\" class=\"col_heading level0 col1\" >AUC</th>\n",
       "      <th id=\"T_c1268_level0_col2\" class=\"col_heading level0 col2\" >Recall</th>\n",
       "      <th id=\"T_c1268_level0_col3\" class=\"col_heading level0 col3\" >Prec.</th>\n",
       "      <th id=\"T_c1268_level0_col4\" class=\"col_heading level0 col4\" >F1</th>\n",
       "      <th id=\"T_c1268_level0_col5\" class=\"col_heading level0 col5\" >Kappa</th>\n",
       "      <th id=\"T_c1268_level0_col6\" class=\"col_heading level0 col6\" >MCC</th>\n",
       "    </tr>\n",
       "    <tr>\n",
       "      <th class=\"index_name level0\" >Fold</th>\n",
       "      <th class=\"blank col0\" >&nbsp;</th>\n",
       "      <th class=\"blank col1\" >&nbsp;</th>\n",
       "      <th class=\"blank col2\" >&nbsp;</th>\n",
       "      <th class=\"blank col3\" >&nbsp;</th>\n",
       "      <th class=\"blank col4\" >&nbsp;</th>\n",
       "      <th class=\"blank col5\" >&nbsp;</th>\n",
       "      <th class=\"blank col6\" >&nbsp;</th>\n",
       "    </tr>\n",
       "  </thead>\n",
       "  <tbody>\n",
       "    <tr>\n",
       "      <th id=\"T_c1268_level0_row0\" class=\"row_heading level0 row0\" >0</th>\n",
       "      <td id=\"T_c1268_row0_col0\" class=\"data row0 col0\" >0.9965</td>\n",
       "      <td id=\"T_c1268_row0_col1\" class=\"data row0 col1\" >0.9986</td>\n",
       "      <td id=\"T_c1268_row0_col2\" class=\"data row0 col2\" >0.9965</td>\n",
       "      <td id=\"T_c1268_row0_col3\" class=\"data row0 col3\" >0.9965</td>\n",
       "      <td id=\"T_c1268_row0_col4\" class=\"data row0 col4\" >0.9965</td>\n",
       "      <td id=\"T_c1268_row0_col5\" class=\"data row0 col5\" >0.9901</td>\n",
       "      <td id=\"T_c1268_row0_col6\" class=\"data row0 col6\" >0.9901</td>\n",
       "    </tr>\n",
       "    <tr>\n",
       "      <th id=\"T_c1268_level0_row1\" class=\"row_heading level0 row1\" >1</th>\n",
       "      <td id=\"T_c1268_row1_col0\" class=\"data row1 col0\" >0.9945</td>\n",
       "      <td id=\"T_c1268_row1_col1\" class=\"data row1 col1\" >0.9992</td>\n",
       "      <td id=\"T_c1268_row1_col2\" class=\"data row1 col2\" >0.9945</td>\n",
       "      <td id=\"T_c1268_row1_col3\" class=\"data row1 col3\" >0.9945</td>\n",
       "      <td id=\"T_c1268_row1_col4\" class=\"data row1 col4\" >0.9945</td>\n",
       "      <td id=\"T_c1268_row1_col5\" class=\"data row1 col5\" >0.9842</td>\n",
       "      <td id=\"T_c1268_row1_col6\" class=\"data row1 col6\" >0.9842</td>\n",
       "    </tr>\n",
       "    <tr>\n",
       "      <th id=\"T_c1268_level0_row2\" class=\"row_heading level0 row2\" >Mean</th>\n",
       "      <td id=\"T_c1268_row2_col0\" class=\"data row2 col0\" >0.9955</td>\n",
       "      <td id=\"T_c1268_row2_col1\" class=\"data row2 col1\" >0.9989</td>\n",
       "      <td id=\"T_c1268_row2_col2\" class=\"data row2 col2\" >0.9955</td>\n",
       "      <td id=\"T_c1268_row2_col3\" class=\"data row2 col3\" >0.9955</td>\n",
       "      <td id=\"T_c1268_row2_col4\" class=\"data row2 col4\" >0.9955</td>\n",
       "      <td id=\"T_c1268_row2_col5\" class=\"data row2 col5\" >0.9871</td>\n",
       "      <td id=\"T_c1268_row2_col6\" class=\"data row2 col6\" >0.9871</td>\n",
       "    </tr>\n",
       "    <tr>\n",
       "      <th id=\"T_c1268_level0_row3\" class=\"row_heading level0 row3\" >Std</th>\n",
       "      <td id=\"T_c1268_row3_col0\" class=\"data row3 col0\" >0.0010</td>\n",
       "      <td id=\"T_c1268_row3_col1\" class=\"data row3 col1\" >0.0003</td>\n",
       "      <td id=\"T_c1268_row3_col2\" class=\"data row3 col2\" >0.0010</td>\n",
       "      <td id=\"T_c1268_row3_col3\" class=\"data row3 col3\" >0.0010</td>\n",
       "      <td id=\"T_c1268_row3_col4\" class=\"data row3 col4\" >0.0010</td>\n",
       "      <td id=\"T_c1268_row3_col5\" class=\"data row3 col5\" >0.0029</td>\n",
       "      <td id=\"T_c1268_row3_col6\" class=\"data row3 col6\" >0.0029</td>\n",
       "    </tr>\n",
       "  </tbody>\n",
       "</table>\n"
      ],
      "text/plain": [
       "<pandas.io.formats.style.Styler at 0x20758f96920>"
      ]
     },
     "metadata": {},
     "output_type": "display_data"
    },
    {
     "data": {
      "text/html": [],
      "text/plain": [
       "<IPython.core.display.HTML object>"
      ]
     },
     "metadata": {},
     "output_type": "display_data"
    },
    {
     "name": "stdout",
     "output_type": "stream",
     "text": [
      "Fitting 2 folds for each of 10 candidates, totalling 20 fits\n",
      "Original model was better than the tuned model, hence it will be returned. NOTE: The display metrics are for the tuned model (not the original one).\n"
     ]
    }
   ],
   "source": [
    "tuned_clf = tune_model(clf, optimize = 'F1', fold = 2)"
   ]
  },
  {
   "cell_type": "code",
   "execution_count": 13,
   "id": "1ab413dc-c89d-4dc1-a9fe-c8fa364c8e05",
   "metadata": {},
   "outputs": [
    {
     "name": "stdout",
     "output_type": "stream",
     "text": [
      "Total of features:  10\n"
     ]
    }
   ],
   "source": [
    "print(\"Total of features: \", len(tuned_clf.feature_importances_))"
   ]
  },
  {
   "cell_type": "code",
   "execution_count": 14,
   "id": "ab6d35ba-210f-4d7f-b9f9-90ef57d4b07b",
   "metadata": {},
   "outputs": [
    {
     "data": {
      "application/vnd.jupyter.widget-view+json": {
       "model_id": "2fc1a14295064aa283024b19877d3a20",
       "version_major": 2,
       "version_minor": 0
      },
      "text/plain": [
       "interactive(children=(ToggleButtons(description='Plot Type:', icons=('',), options=(('Pipeline Plot', 'pipelin…"
      ]
     },
     "metadata": {},
     "output_type": "display_data"
    }
   ],
   "source": [
    "evaluate_model(tuned_clf)"
   ]
  },
  {
   "cell_type": "code",
   "execution_count": 15,
   "id": "10cbd2f9-9925-4f60-a23f-9fc44b57fe0d",
   "metadata": {},
   "outputs": [],
   "source": [
    "model_final = finalize_model(tuned_clf)"
   ]
  },
  {
   "cell_type": "code",
   "execution_count": 16,
   "id": "dc4df5de-c020-4866-bd9d-6f7fc3a905d3",
   "metadata": {},
   "outputs": [
    {
     "name": "stdout",
     "output_type": "stream",
     "text": [
      "Transformation Pipeline and Model Successfully Saved\n"
     ]
    },
    {
     "data": {
      "text/plain": [
       "(Pipeline(memory=Memory(location=None),\n",
       "          steps=[('label_encoding',\n",
       "                  TransformerWrapperWithInverse(exclude=None, include=None,\n",
       "                                                transformer=LabelEncoder())),\n",
       "                 ('numerical_imputer',\n",
       "                  TransformerWrapper(exclude=None,\n",
       "                                     include=['linAccX_mean', 'linAccX_std',\n",
       "                                              'linAccX_median', 'linAccY_mean',\n",
       "                                              'linAccY_std', 'linAccY_median',\n",
       "                                              'linAccZ_mean', 'linAccZ_std',\n",
       "                                              'linAccZ_median', 'g...\n",
       "                  ExtraTreesClassifier(bootstrap=False, ccp_alpha=0.0,\n",
       "                                       class_weight=None, criterion='gini',\n",
       "                                       max_depth=None, max_features='sqrt',\n",
       "                                       max_leaf_nodes=None, max_samples=None,\n",
       "                                       min_impurity_decrease=0.0,\n",
       "                                       min_samples_leaf=1, min_samples_split=2,\n",
       "                                       min_weight_fraction_leaf=0.0,\n",
       "                                       n_estimators=100, n_jobs=-1,\n",
       "                                       oob_score=False, random_state=8089,\n",
       "                                       verbose=0, warm_start=False))],\n",
       "          verbose=False),\n",
       " 'squat_model.pkl')"
      ]
     },
     "execution_count": 16,
     "metadata": {},
     "output_type": "execute_result"
    }
   ],
   "source": [
    "save_model(model_final, 'squat_model')"
   ]
  },
  {
   "cell_type": "markdown",
   "id": "28f55525-18a7-4ec5-9027-83788a04b049",
   "metadata": {},
   "source": [
    "# Use in production"
   ]
  },
  {
   "cell_type": "code",
   "execution_count": 17,
   "id": "89ab0bc6-5f22-4c43-8dc1-6c4e213f5239",
   "metadata": {},
   "outputs": [
    {
     "name": "stdout",
     "output_type": "stream",
     "text": [
      "Transformation Pipeline and Model Successfully Loaded\n"
     ]
    }
   ],
   "source": [
    "pipeline = load_model(model_name=\"squat_model\")"
   ]
  },
  {
   "cell_type": "code",
   "execution_count": 18,
   "id": "32213744-02ac-4d77-be77-607144ff4582",
   "metadata": {},
   "outputs": [
    {
     "data": {
      "text/html": [
       "<style type=\"text/css\">\n",
       "</style>\n",
       "<table id=\"T_88eb8\">\n",
       "  <thead>\n",
       "    <tr>\n",
       "      <th class=\"blank level0\" >&nbsp;</th>\n",
       "      <th id=\"T_88eb8_level0_col0\" class=\"col_heading level0 col0\" >Model</th>\n",
       "      <th id=\"T_88eb8_level0_col1\" class=\"col_heading level0 col1\" >Accuracy</th>\n",
       "      <th id=\"T_88eb8_level0_col2\" class=\"col_heading level0 col2\" >AUC</th>\n",
       "      <th id=\"T_88eb8_level0_col3\" class=\"col_heading level0 col3\" >Recall</th>\n",
       "      <th id=\"T_88eb8_level0_col4\" class=\"col_heading level0 col4\" >Prec.</th>\n",
       "      <th id=\"T_88eb8_level0_col5\" class=\"col_heading level0 col5\" >F1</th>\n",
       "      <th id=\"T_88eb8_level0_col6\" class=\"col_heading level0 col6\" >Kappa</th>\n",
       "      <th id=\"T_88eb8_level0_col7\" class=\"col_heading level0 col7\" >MCC</th>\n",
       "    </tr>\n",
       "  </thead>\n",
       "  <tbody>\n",
       "    <tr>\n",
       "      <th id=\"T_88eb8_level0_row0\" class=\"row_heading level0 row0\" >0</th>\n",
       "      <td id=\"T_88eb8_row0_col0\" class=\"data row0 col0\" >Extra Trees Classifier</td>\n",
       "      <td id=\"T_88eb8_row0_col1\" class=\"data row0 col1\" >0.9895</td>\n",
       "      <td id=\"T_88eb8_row0_col2\" class=\"data row0 col2\" >0.9987</td>\n",
       "      <td id=\"T_88eb8_row0_col3\" class=\"data row0 col3\" >0.9895</td>\n",
       "      <td id=\"T_88eb8_row0_col4\" class=\"data row0 col4\" >0.9896</td>\n",
       "      <td id=\"T_88eb8_row0_col5\" class=\"data row0 col5\" >0.9894</td>\n",
       "      <td id=\"T_88eb8_row0_col6\" class=\"data row0 col6\" >0.9744</td>\n",
       "      <td id=\"T_88eb8_row0_col7\" class=\"data row0 col7\" >0.9747</td>\n",
       "    </tr>\n",
       "  </tbody>\n",
       "</table>\n"
      ],
      "text/plain": [
       "<pandas.io.formats.style.Styler at 0x20759445300>"
      ]
     },
     "metadata": {},
     "output_type": "display_data"
    }
   ],
   "source": [
    "prediction = predict_model(pipeline, data_prod, raw_score=True)"
   ]
  }
 ],
 "metadata": {
  "kernelspec": {
   "display_name": "Python 3 (ipykernel)",
   "language": "python",
   "name": "python3"
  },
  "language_info": {
   "codemirror_mode": {
    "name": "ipython",
    "version": 3
   },
   "file_extension": ".py",
   "mimetype": "text/x-python",
   "name": "python",
   "nbconvert_exporter": "python",
   "pygments_lexer": "ipython3",
   "version": "3.10.13"
  }
 },
 "nbformat": 4,
 "nbformat_minor": 5
}
