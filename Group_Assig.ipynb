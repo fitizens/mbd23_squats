{
 "cells": [
  {
   "cell_type": "markdown",
   "id": "7a26496c-e3c9-47b2-b136-ada4d9bf20b6",
   "metadata": {
    "jp-MarkdownHeadingCollapsed": true,
    "tags": []
   },
   "source": [
    "# ETL "
   ]
  },
  {
   "cell_type": "markdown",
   "id": "61a4e21b-46d2-4dc4-a9d3-03a902964a5d",
   "metadata": {},
   "source": [
    "Lo primero que hacemos es llamar las funciones: `Fitizens_libraries` es la carpeta en la que se encuentan los archivos .py con las funciones:"
   ]
  },
  {
   "cell_type": "code",
   "execution_count": null,
   "id": "48a99f12-cbfb-40cf-b151-f245b00bb21c",
   "metadata": {},
   "outputs": [],
   "source": [
    "from fitizens_libraries.load_and_process_training_data import load_training_data\n",
    "from fitizens_libraries.load_timeseries import load_timeseries_data\n",
    "from custom_libraries.merge_data import merge_data\n",
    "import plotly.express as px\n",
    "import seaborn as sns\n",
    "import matplotlib.pyplot as plt\n",
    "from fitizens_libraries.plot_labeled_sequences import plot_labeled_sequence\n",
    "from statsmodels.graphics.tsaplots import plot_acf, plot_pacf\n",
    "from matplotlib import pyplot\n",
    "from fitizens_libraries.build_dataframe_from_list_of_signals import build_dataframe\n",
    "import pandas as pd\n",
    "import os\n",
    "from collections import Counter\n",
    "from sklearn.preprocessing import OneHotEncoder, StandardScaler\n",
    "from sklearn.model_selection import train_test_split \n",
    "from sklearn.feature_selection import SelectKBest, f_classif"
   ]
  },
  {
   "cell_type": "markdown",
   "id": "cac128ea-2812-4761-8d8e-e14121b2f6bc",
   "metadata": {},
   "source": [
    "Para el proceso de ETL lo que haremos será utilizar la función de `load_training_data`:\n",
    "1. Basicamente nos busca los archivos JSON en la carpeta zip en la que se encuentren y los carga.\n",
    "2. Intenta buscar repeticiones falsas y verdaderas del ejercicio \n",
    "3. Se filtran las repeticiones falsas para que tengan una duración dentro del rango de las repeticiones reales.\n",
    "\n",
    "Es importante tener en cuenta que la función me exige unos hiperparametros obligatorios que tengo que indicar:\n",
    "\n",
    "- signals : list of str\n",
    "    List of signals to include in the dataframe. The signals must be present in the input data\n",
    "- target_exercise : str\n",
    "        Exercise to detect repetitions\n",
    "- other_exercises : list of str\n",
    "        List of exercises to use as negative examples"
   ]
  },
  {
   "cell_type": "code",
   "execution_count": null,
   "id": "71fa3214-5820-4217-bc37-8f54635e4c87",
   "metadata": {},
   "outputs": [],
   "source": [
    "folder_path = \"LABELED\"\n",
    "os.makedirs(folder_path, exist_ok=True) #Referenciamos la carpeta LABELED en la que están las carpetas zip con los json\n",
    "#Ahora voy a iterar en esa carpeta LABELED para obtener la ruta de los archivos, que es el LABELED/NOMBRE y eso lo guardo en una lista\n",
    "file_names = []\n",
    "for name in os.listdir(folder_path):\n",
    "    file_path = f\"{folder_path}/{name}\"\n",
    "    file_names.append(file_path)\n",
    "#Ahora tengo que especificar mis features \n",
    "signals = [\"accX\", \"accY\", \"accZ\", \"gyroX\", \"gyroY\", \"gyroZ\", \"magnX\", \"magnY\", \"magnZ\", \"linAccX\", \"linAccY\", \"linAccZ\"]\n",
    "#Indico mi target\n",
    "target_exercise=\"SQUAT\""
   ]
  },
  {
   "cell_type": "code",
   "execution_count": null,
   "id": "7532dd215af99b84",
   "metadata": {
    "collapsed": false,
    "jupyter": {
     "outputs_hidden": false
    }
   },
   "outputs": [],
   "source": [
    "len(file_names)"
   ]
  },
  {
   "cell_type": "code",
   "execution_count": null,
   "id": "92e3732d-a355-44ff-98cb-fa4e20bbf83c",
   "metadata": {},
   "outputs": [],
   "source": [
    "data,wk = load_training_data(filelist=file_names,\n",
    "                         signals= signals,\n",
    "                          target_exercise=target_exercise, other_exercises=[], is_peak_minima=True)"
   ]
  },
  {
   "cell_type": "code",
   "execution_count": null,
   "id": "de4f4e51e52cbd3a",
   "metadata": {
    "collapsed": false,
    "jupyter": {
     "outputs_hidden": false
    }
   },
   "outputs": [],
   "source": [
    "#df2=build_dataframe(data)"
   ]
  },
  {
   "cell_type": "code",
   "execution_count": null,
   "id": "352817b3e8ea798f",
   "metadata": {
    "collapsed": false,
    "jupyter": {
     "outputs_hidden": false
    }
   },
   "outputs": [],
   "source": [
    "#df2.head()"
   ]
  },
  {
   "cell_type": "code",
   "execution_count": null,
   "id": "9b069a81a58c0a98",
   "metadata": {
    "tags": []
   },
   "outputs": [],
   "source": [
    "data[0]"
   ]
  },
  {
   "cell_type": "code",
   "execution_count": null,
   "id": "c0548b11-4182-41aa-a283-c1fd634af621",
   "metadata": {
    "tags": []
   },
   "outputs": [],
   "source": [
    "#Revisamos\n",
    "#data\n",
    "len(data)"
   ]
  },
  {
   "cell_type": "code",
   "execution_count": null,
   "id": "ed14bd00ad1b2575",
   "metadata": {
    "collapsed": false,
    "jupyter": {
     "outputs_hidden": false
    }
   },
   "outputs": [],
   "source": [
    "data[1]['target']"
   ]
  },
  {
   "cell_type": "code",
   "execution_count": null,
   "id": "76970bdf9ff0b8c2",
   "metadata": {
    "collapsed": false,
    "jupyter": {
     "outputs_hidden": false
    }
   },
   "outputs": [],
   "source": [
    "df = merge_data(data)\n",
    "len(df)"
   ]
  },
  {
   "cell_type": "code",
   "execution_count": null,
   "id": "e903e2f14be6626a",
   "metadata": {
    "collapsed": false,
    "jupyter": {
     "outputs_hidden": false
    }
   },
   "outputs": [],
   "source": [
    "df.head()"
   ]
  },
  {
   "cell_type": "code",
   "execution_count": null,
   "id": "ab985f9a-3c55-4d90-bd46-b45d91700cb4",
   "metadata": {},
   "outputs": [],
   "source": [
    "df.columns"
   ]
  },
  {
   "cell_type": "markdown",
   "id": "469838a80cb45145",
   "metadata": {},
   "source": [
    "Ahora voy a convertir esto en un problema de clasificacion binario; para ello, voy a crear una columna de exercise, en la que segun la columna `exercising_periods` me diga si hay o no un squad. Si esa columna tiene un cero, indica que no hay squad, de lo contrario es un squad."
   ]
  },
  {
   "cell_type": "code",
   "execution_count": null,
   "id": "9ff0ab444e9145fc",
   "metadata": {
    "collapsed": false,
    "jupyter": {
     "outputs_hidden": false
    }
   },
   "outputs": [],
   "source": [
    "def nueva_columna(exercise):\n",
    "    if exercise == 0:\n",
    "        return 'no exercise'\n",
    "    else:\n",
    "        return 'squad'\n",
    "df['squad'] = df['exercising_periods'].apply(nueva_columna)"
   ]
  },
  {
   "cell_type": "code",
   "execution_count": null,
   "id": "6c6c2f4fd62300b6",
   "metadata": {
    "collapsed": false,
    "jupyter": {
     "outputs_hidden": false
    }
   },
   "outputs": [],
   "source": [
    "df.head()"
   ]
  },
  {
   "cell_type": "code",
   "execution_count": null,
   "id": "d297188dd9ad1886",
   "metadata": {
    "collapsed": false,
    "jupyter": {
     "outputs_hidden": false
    }
   },
   "outputs": [],
   "source": [
    "df.info()"
   ]
  },
  {
   "cell_type": "markdown",
   "id": "defc710a-6ac1-4c61-b612-0134506f8855",
   "metadata": {
    "jp-MarkdownHeadingCollapsed": true,
    "tags": []
   },
   "source": [
    "# EDA"
   ]
  },
  {
   "cell_type": "code",
   "execution_count": null,
   "id": "7c36691aa9ad580a",
   "metadata": {
    "collapsed": false,
    "jupyter": {
     "outputs_hidden": false
    }
   },
   "outputs": [],
   "source": [
    "#revisar porcentaje de valores nulos por columnas\n",
    "((df.isnull().sum())/len(df))*100"
   ]
  },
  {
   "cell_type": "code",
   "execution_count": null,
   "id": "5f706319f45b59b8",
   "metadata": {
    "collapsed": false,
    "jupyter": {
     "outputs_hidden": false
    }
   },
   "outputs": [],
   "source": [
    "sns.countplot(x=df['squad'], label = \"squad\")"
   ]
  },
  {
   "cell_type": "code",
   "execution_count": null,
   "id": "362130a7869ada2c",
   "metadata": {
    "collapsed": false,
    "jupyter": {
     "outputs_hidden": false
    }
   },
   "outputs": [],
   "source": [
    "df.index"
   ]
  },
  {
   "cell_type": "code",
   "execution_count": null,
   "id": "851b313356caf3d8",
   "metadata": {
    "collapsed": false,
    "jupyter": {
     "outputs_hidden": false
    }
   },
   "outputs": [],
   "source": [
    "fig = px.line(df, x=df.index, y='linAccZ', title='Time serie of exercise linAccZ',color='squad')\n",
    "fig.show()"
   ]
  },
  {
   "cell_type": "code",
   "execution_count": null,
   "id": "40b273a2736a7321",
   "metadata": {
    "collapsed": false,
    "jupyter": {
     "outputs_hidden": false
    }
   },
   "outputs": [],
   "source": [
    "fig = px.box(df, y=\"linAccZ\", color=\"squad\",title = 'Distribution of linAccZ vs target variable')\n",
    "fig.update_traces(quartilemethod=\"exclusive\") \n",
    "fig.show()"
   ]
  },
  {
   "cell_type": "code",
   "execution_count": null,
   "id": "2deb6671b27b5dbd",
   "metadata": {
    "collapsed": false,
    "jupyter": {
     "outputs_hidden": false
    }
   },
   "outputs": [],
   "source": [
    "fig = px.box(df, y=\"linAccY\", color=\"squad\",title = 'Distribution of linAccY vs target variable')\n",
    "fig.update_traces(quartilemethod=\"exclusive\") \n",
    "fig.show()"
   ]
  },
  {
   "cell_type": "code",
   "execution_count": null,
   "id": "6436e7eb48e43157",
   "metadata": {
    "collapsed": false,
    "jupyter": {
     "outputs_hidden": false
    }
   },
   "outputs": [],
   "source": [
    "fig = px.box(df, y=\"linAccX\", color=\"squad\",title = 'Distribution of linAccX vs target variable')\n",
    "fig.update_traces(quartilemethod=\"exclusive\") \n",
    "fig.show()"
   ]
  },
  {
   "cell_type": "code",
   "execution_count": null,
   "id": "606aad252d7a3211",
   "metadata": {
    "collapsed": false,
    "jupyter": {
     "outputs_hidden": false
    }
   },
   "outputs": [],
   "source": [
    "fig = px.box(df, y=\"accZ_mod\", color=\"squad\",title = 'Distribution of accZ_mod vs target variable')\n",
    "fig.update_traces(quartilemethod=\"exclusive\") \n",
    "fig.show()"
   ]
  },
  {
   "cell_type": "code",
   "execution_count": null,
   "id": "42cb1c86c3da8a31",
   "metadata": {
    "collapsed": false,
    "jupyter": {
     "outputs_hidden": false
    }
   },
   "outputs": [],
   "source": [
    "fig = px.box(df, y=\"accX_mod\", color=\"squad\",title = 'Distribution of accX_mod vs target variable')\n",
    "fig.update_traces(quartilemethod=\"exclusive\") \n",
    "fig.show()"
   ]
  },
  {
   "cell_type": "code",
   "execution_count": null,
   "id": "1e197e006d97a758",
   "metadata": {
    "collapsed": false,
    "jupyter": {
     "outputs_hidden": false
    }
   },
   "outputs": [],
   "source": [
    "fig = px.box(df, y=\"accY_mod\", color=\"squad\",title = 'Distribution of accY_mod vs target variable')\n",
    "fig.update_traces(quartilemethod=\"exclusive\") \n",
    "fig.show()"
   ]
  },
  {
   "cell_type": "code",
   "execution_count": null,
   "id": "37419811-3fc6-4e1d-9af0-9032539acd7f",
   "metadata": {},
   "outputs": [],
   "source": [
    "timeseries, labels_ranges = load_timeseries_data(filelist=file_names, signals=signals, is_peak_minima=True)"
   ]
  },
  {
   "cell_type": "code",
   "execution_count": null,
   "id": "51f8aa25-2765-4beb-b90f-1c2369eaae94",
   "metadata": {},
   "outputs": [],
   "source": [
    "timeseries.columns"
   ]
  },
  {
   "cell_type": "code",
   "execution_count": null,
   "id": "619064f6-c823-4477-91c9-ca4a617d6fd2",
   "metadata": {},
   "outputs": [],
   "source": [
    "plot_labeled_sequence(timeseries, labels_ranges[0:5])"
   ]
  },
  {
   "cell_type": "code",
   "execution_count": null,
   "id": "a3cd84d79bb68617",
   "metadata": {
    "tags": []
   },
   "outputs": [],
   "source": [
    "labels_ranges"
   ]
  },
  {
   "cell_type": "code",
   "execution_count": null,
   "id": "ae82b7ca183887bd",
   "metadata": {
    "tags": []
   },
   "outputs": [],
   "source": [
    "y = df['exercising_periods']\n",
    "\n",
    "num_lags=24 # to discuss\n",
    "\n",
    "plt.plot(y)\n",
    "plt.show()\n",
    "plot_acf(y,lags=num_lags)\n",
    "plt.show()\n",
    "plot_pacf(y,lags=num_lags,method=\"ols\")\n",
    "plt.show()"
   ]
  },
  {
   "cell_type": "code",
   "execution_count": null,
   "id": "dea95cf0c62f5269",
   "metadata": {
    "collapsed": false,
    "jupyter": {
     "outputs_hidden": false
    }
   },
   "outputs": [],
   "source": [
    "import statsmodels as sm\n",
    "\n",
    "# Ho: the process is not stationary. We need, at least, a unit root\n",
    "# H1: the process is stationary. We have to check different models (lags)\n",
    "\n",
    "\n",
    "adf_test = sm.tsa.stattools.adfuller(y,maxlag=10) \n",
    "# print(\"adf_test\", adf_test) # first output \"The test statistic\", second output \"p-value\"\n",
    "print(\"ADF test for the original series\")\n",
    "print(\"Statistic Value:\" , adf_test[0])\n",
    "print(\"p-value:\" , adf_test[1])\n",
    "# print(sm.__version__)"
   ]
  },
  {
   "cell_type": "code",
   "execution_count": null,
   "id": "ed1f57bae74316f4",
   "metadata": {
    "collapsed": false,
    "jupyter": {
     "outputs_hidden": false
    }
   },
   "outputs": [],
   "source": [
    "prim_1000 = df.head(1000)"
   ]
  },
  {
   "cell_type": "code",
   "execution_count": null,
   "id": "208414d0c789373a",
   "metadata": {
    "tags": []
   },
   "outputs": [],
   "source": [
    "fig = px.line(prim_1000, x=prim_1000.index, y='linAccZ', title='Time serie of exercise linAccZ')\n",
    "fig.show()"
   ]
  },
  {
   "cell_type": "code",
   "execution_count": null,
   "id": "99f4049b988344e1",
   "metadata": {
    "collapsed": false,
    "jupyter": {
     "outputs_hidden": false
    }
   },
   "outputs": [],
   "source": [
    "siguientes_2000 = df.tail(len(df) - 1000).head(1500)"
   ]
  },
  {
   "cell_type": "code",
   "execution_count": null,
   "id": "45cf2eed32f3954b",
   "metadata": {
    "tags": []
   },
   "outputs": [],
   "source": [
    "fig = px.line(siguientes_2000, x=siguientes_2000.index, y='linAccZ', title='Time serie of exercise linAccZ')\n",
    "fig.show()"
   ]
  },
  {
   "cell_type": "markdown",
   "id": "32d201f6-c79d-4aab-a5e0-84b73af6d0d0",
   "metadata": {
    "jp-MarkdownHeadingCollapsed": true,
    "tags": []
   },
   "source": [
    "# Data prep"
   ]
  },
  {
   "cell_type": "code",
   "execution_count": null,
   "id": "4162476d-83d8-44e2-9f16-167519475b54",
   "metadata": {},
   "outputs": [],
   "source": [
    "df = merge_data(data)\n",
    "len(df)"
   ]
  },
  {
   "cell_type": "code",
   "execution_count": null,
   "id": "49f1230d-5063-4261-9205-e46e9e61a7d5",
   "metadata": {},
   "outputs": [],
   "source": [
    "serie = pd.concat([item['series'] for item in data])"
   ]
  },
  {
   "cell_type": "code",
   "execution_count": null,
   "id": "2dbe604e-c69c-4958-baec-d75096088d9a",
   "metadata": {},
   "outputs": [],
   "source": [
    "serie.head()"
   ]
  },
  {
   "cell_type": "code",
   "execution_count": null,
   "id": "dcf9653b-fe1e-4eb1-9f0d-b7d567d212c8",
   "metadata": {},
   "outputs": [],
   "source": [
    "len(serie)"
   ]
  },
  {
   "cell_type": "code",
   "execution_count": null,
   "id": "232a836b-a409-4d6e-a434-f205fc14036e",
   "metadata": {},
   "outputs": [],
   "source": [
    "frames = []\n",
    "target = []\n",
    "for item in data:\n",
    "    frames.append(item['series'])\n",
    "    target.append(item['target'])\n",
    "\n",
    "df = pd.concat(frames)\n",
    "#df['target'] = target"
   ]
  },
  {
   "cell_type": "code",
   "execution_count": null,
   "id": "2ad7082f-6041-4f8c-a2f6-8b5cc15014a2",
   "metadata": {},
   "outputs": [],
   "source": [
    "len(frames)"
   ]
  },
  {
   "cell_type": "code",
   "execution_count": null,
   "id": "d871b1ce-3faa-4a33-90a7-8c2ecd6b8832",
   "metadata": {},
   "outputs": [],
   "source": [
    "len(target)"
   ]
  },
  {
   "cell_type": "code",
   "execution_count": null,
   "id": "ad8d0586-c799-4df7-9c22-97ccec1d5fb2",
   "metadata": {},
   "outputs": [],
   "source": [
    "Counter(target)"
   ]
  },
  {
   "cell_type": "code",
   "execution_count": null,
   "id": "e719aa4a-539f-4920-b6a6-8c34d945e34f",
   "metadata": {
    "tags": []
   },
   "outputs": [],
   "source": [
    "#vamos a crear un dataframe con los promedios\n",
    "promedios_df = pd.DataFrame()\n",
    "\n",
    "# Iterar sobre cada diccionario en la lista\n",
    "for diccionario in data:\n",
    "    # Convertir el diccionario a un DataFrame\n",
    "    df = diccionario['series']\n",
    "\n",
    "    # Calcular el promedio de cada columna y agregarlo al DataFrame de promedios\n",
    "    promedio_serie = df.mean()\n",
    "    promedios_df = promedios_df.append(promedio_serie,ignore_index=True)\n",
    "\n",
    "# Agregar la columna 'target' al DataFrame de promedios\n",
    "promedios_df['target'] = [diccionario['target'] for diccionario in data]"
   ]
  },
  {
   "cell_type": "code",
   "execution_count": null,
   "id": "6fcd9263-f13b-4f4c-8277-c64a777288c6",
   "metadata": {},
   "outputs": [],
   "source": [
    "#verificamos la longitud del dataframe que coincida con los 3805\n",
    "len(promedios_df)"
   ]
  },
  {
   "cell_type": "code",
   "execution_count": null,
   "id": "ea81d21c-c9e0-4ab4-8591-5323dce0bddf",
   "metadata": {},
   "outputs": [],
   "source": [
    "#verificamos que el target siga desbalanceado y coincidan los numeros\n",
    "promedios_df.groupby('target').size()"
   ]
  },
  {
   "cell_type": "code",
   "execution_count": null,
   "id": "50d41dce-63cd-46c0-8f52-7a456b39b9e7",
   "metadata": {},
   "outputs": [],
   "source": [
    "promedios_df.info()"
   ]
  },
  {
   "cell_type": "code",
   "execution_count": null,
   "id": "15710941-7588-462a-a0f8-0b2439c87604",
   "metadata": {},
   "outputs": [],
   "source": [
    "promedios_df.head()"
   ]
  },
  {
   "cell_type": "code",
   "execution_count": null,
   "id": "ce560ff6-8882-4c2d-94ea-60151f61c6a0",
   "metadata": {},
   "outputs": [],
   "source": [
    "sns.countplot(x=promedios_df['target'], label = \"squad\")"
   ]
  },
  {
   "cell_type": "code",
   "execution_count": null,
   "id": "b597a873-43ab-4d35-8861-371ee0896882",
   "metadata": {},
   "outputs": [],
   "source": [
    "fig = px.box(promedios_df, y=\"linAccZ\", color=\"target\",title = 'Distribution of linAccZ vs target variable')\n",
    "fig.update_traces(quartilemethod=\"exclusive\")\n",
    "fig.show()"
   ]
  },
  {
   "cell_type": "code",
   "execution_count": null,
   "id": "ea70d7e1-b1a4-4bc9-8244-20f1ddea3477",
   "metadata": {},
   "outputs": [],
   "source": [
    "fig = px.box(promedios_df, y=\"linAccY\", color=\"target\",title = 'Distribution of linAccY vs target variable')\n",
    "fig.update_traces(quartilemethod=\"exclusive\")\n",
    "fig.show()"
   ]
  },
  {
   "cell_type": "code",
   "execution_count": null,
   "id": "94f855c6-c5d0-4c34-ba32-5f9df1aa9d7a",
   "metadata": {},
   "outputs": [],
   "source": [
    "fig = px.box(promedios_df, y=\"linAccX\", color=\"target\",title = 'Distribution of linAccX vs target variable')\n",
    "fig.update_traces(quartilemethod=\"exclusive\")\n",
    "fig.show()"
   ]
  },
  {
   "cell_type": "code",
   "execution_count": null,
   "id": "5d891694-b379-4abc-a03a-e667e9476cc7",
   "metadata": {},
   "outputs": [],
   "source": [
    "fig = px.box(promedios_df, y=\"accZ_mod\", color=\"target\",title = 'Distribution of accZ_mod vs target variable')\n",
    "fig.update_traces(quartilemethod=\"exclusive\")\n",
    "fig.show()"
   ]
  },
  {
   "cell_type": "code",
   "execution_count": null,
   "id": "9161386e-1a19-4a15-b048-e80afa95c090",
   "metadata": {},
   "outputs": [],
   "source": [
    "fig = px.box(promedios_df, y=\"accX_mod\", color=\"target\",title = 'Distribution of accX_mod vs target variable')\n",
    "fig.update_traces(quartilemethod=\"exclusive\")\n",
    "fig.show()"
   ]
  },
  {
   "cell_type": "code",
   "execution_count": null,
   "id": "2b250142-be25-4320-b6cf-00cf04c928fe",
   "metadata": {},
   "outputs": [],
   "source": [
    "fig = px.box(promedios_df, y=\"accY_mod\", color=\"target\",title = 'Distribution of accY_mod vs target variable')\n",
    "fig.update_traces(quartilemethod=\"exclusive\")\n",
    "fig.show()"
   ]
  },
  {
   "cell_type": "code",
   "execution_count": null,
   "id": "8e94793e-9865-4201-8123-eef928d76a55",
   "metadata": {},
   "outputs": [],
   "source": [
    "sns.pairplot(promedios_df, hue= 'target',vars=[\"linAccX\", \"linAccY\", \"linAccZ\"])"
   ]
  },
  {
   "cell_type": "code",
   "execution_count": null,
   "id": "cc636fcc-2dff-421a-b1ab-6bba88ff22b8",
   "metadata": {},
   "outputs": [],
   "source": [
    "plt.figure(figsize=(30, 30))\n",
    "sns.heatmap( promedios_df.corr(), annot = True, cmap =\"coolwarm\", linewidths = .5)"
   ]
  },
  {
   "cell_type": "code",
   "execution_count": null,
   "id": "cf7ac26b-19fd-4d04-8fc7-257b1c61670f",
   "metadata": {},
   "outputs": [],
   "source": [
    "X = promedios_df.drop('target',axis=1)\n",
    "y = promedios_df['target']"
   ]
  },
  {
   "cell_type": "code",
   "execution_count": null,
   "id": "a674a086-3149-463d-8ab7-8bf8755b6417",
   "metadata": {},
   "outputs": [],
   "source": [
    "X_train, X_test, y_train, y_test = train_test_split(X, y, test_size=0.2, random_state=99,stratify=y)\n",
    "display(X_train.shape,X_test.shape,y_train.shape,y_test.shape)"
   ]
  },
  {
   "cell_type": "code",
   "execution_count": null,
   "id": "2ce38194-a205-4c4a-a0c0-3c509e05e1b9",
   "metadata": {
    "tags": []
   },
   "outputs": [],
   "source": [
    "selected = SelectKBest(score_func=f_classif, k=15)\n",
    "selected.fit(X_train, y_train)"
   ]
  },
  {
   "cell_type": "code",
   "execution_count": null,
   "id": "21324292-433e-4f4f-8728-2a5f054eae36",
   "metadata": {},
   "outputs": [],
   "source": [
    "selected.get_feature_names_out()"
   ]
  },
  {
   "cell_type": "code",
   "execution_count": null,
   "id": "c7da453b-1f0c-4a9f-b4a3-0cb83068c081",
   "metadata": {},
   "outputs": [],
   "source": [
    "scores = pd.Series(selected.scores_, index=X.columns)\n",
    "scores = scores.sort_values(ascending=False)\n",
    "px.bar(scores, template=\"none\", title=\"F-Score of features with casual as dependent variable\")"
   ]
  },
  {
   "cell_type": "code",
   "execution_count": null,
   "id": "50bc26ba-a741-4b15-9637-bf9f1f145f46",
   "metadata": {},
   "outputs": [],
   "source": [
    "# Scale Data\n",
    "scaler = StandardScaler()\n",
    "X_selected_features_casual = scaler.fit_transform(X_selected_features_casual)"
   ]
  },
  {
   "cell_type": "code",
   "execution_count": null,
   "id": "68228b36-9459-4d16-ac05-2398443a3caa",
   "metadata": {},
   "outputs": [],
   "source": [
    "# ¡¡¡¡¡¡¡¡¡¡NOOOOOOOOOO LO CORRAS QUE SE EXPLOTA!!!!!!!!!!!\n",
    "target = list()\n",
    "frames = list()\n",
    "for i in data:\n",
    "    target=i['target']\n",
    "    for j in data:\n",
    "        frames.append(j['series'])\n",
    "    df = pd.concat(frames,axis = 1)\n",
    "    df['target'] = target"
   ]
  }
 ],
 "metadata": {
  "kernelspec": {
   "display_name": "Python 3 (ipykernel)",
   "language": "python",
   "name": "python3"
  },
  "language_info": {
   "codemirror_mode": {
    "name": "ipython",
    "version": 3
   },
   "file_extension": ".py",
   "mimetype": "text/x-python",
   "name": "python",
   "nbconvert_exporter": "python",
   "pygments_lexer": "ipython3",
   "version": "3.10.13"
  }
 },
 "nbformat": 4,
 "nbformat_minor": 5
}
