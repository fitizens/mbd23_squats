{
 "cells": [
  {
   "cell_type": "markdown",
   "id": "7a26496c-e3c9-47b2-b136-ada4d9bf20b6",
   "metadata": {
    "tags": []
   },
   "source": [
    "# ETL "
   ]
  },
  {
   "cell_type": "code",
   "execution_count": 1,
   "id": "48a99f12-cbfb-40cf-b151-f245b00bb21c",
   "metadata": {},
   "outputs": [],
   "source": [
    "from fitizens_libraries.load_and_process_training_data import load_training_data\n",
    "from fitizens_libraries.load_timeseries import load_timeseries_data\n",
    "from custom_libraries.merge_data import merge_data\n",
    "from fitizens_libraries.plot_labeled_sequences import plot_labeled_sequence\n",
    "from statsmodels.graphics.tsaplots import plot_acf, plot_pacf\n",
    "from matplotlib import pyplot\n",
    "from fitizens_libraries.build_dataframe_from_list_of_signals import build_dataframe\n",
    "from collections import Counter\n",
    "from sklearn.preprocessing import OneHotEncoder, StandardScaler\n",
    "from sklearn.model_selection import train_test_split \n",
    "from sklearn.feature_selection import SelectKBest, f_classif\n",
    "from sklearn.preprocessing import LabelEncoder\n",
    "from imblearn.over_sampling import SMOTE\n",
    "from sklearn.metrics import accuracy_score\n",
    "from sklearn.metrics import confusion_matrix, classification_report\n",
    "from sklearn.metrics import roc_auc_score, roc_curve, classification_report, auc, roc_auc_score\n",
    "import plotly.graph_objects as go\n",
    "from sklearn.metrics import accuracy_score, precision_score, recall_score, f1_score\n",
    "from sklearn.metrics import roc_curve, auc\n",
    "import plotly.express as px\n",
    "import seaborn as sns\n",
    "import matplotlib.pyplot as plt\n",
    "import numpy as np\n",
    "import pandas as pd\n",
    "import os\n",
    "from pycaret.classification import *"
   ]
  },
  {
   "cell_type": "markdown",
   "id": "2e11ff26",
   "metadata": {},
   "source": [
    "# Creating Auxiliary Functions"
   ]
  },
  {
   "cell_type": "markdown",
   "id": "5271e81f",
   "metadata": {},
   "source": [
    "def create_custom_dataframe(series):\n",
    "    df =  series[[\"linAccX\", \"linAccY\", \"linAccZ\", \"gyroX\", \"gyroY\", \"gyroZ\", \"magnX\", \"magnY\", \"magnZ\"]]\n",
    "    return df"
   ]
  },
  {
   "cell_type": "code",
   "execution_count": 2,
   "id": "40326e03",
   "metadata": {},
   "outputs": [],
   "source": [
    "def create_custom_dataframe(series):\n",
    "    df =  series[[\"linAccX\", \"linAccY\", \"linAccZ\", \"gyroX\", \"gyroY\", \"gyroZ\", \"magnX\", \"magnY\", \"magnZ\"]]\n",
    "    return df"
   ]
  },
  {
   "cell_type": "code",
   "execution_count": 3,
   "id": "c8238294",
   "metadata": {},
   "outputs": [],
   "source": [
    "def create_training_data_stats(df, target):\n",
    "    stats_dict = {}\n",
    "    series = create_custom_dataframe(df)\n",
    "    \n",
    "    for column in series.columns:\n",
    "        mean = series[column].mean()\n",
    "        std = series[column].std()\n",
    "        median = series[column].median()\n",
    "        skewness = series[column].skew()\n",
    "        kurtosis = series[column].kurtosis()\n",
    "        min_val = series[column].min()\n",
    "        max_val = series[column].max()\n",
    "        range_val = max_val - min_val\n",
    "        quartile_25 = np.percentile(series[column], 25)\n",
    "        quartile_75 = np.percentile(series[column], 75)\n",
    "        iqr = quartile_75 - quartile_25\n",
    "    \n",
    "\n",
    "        stats_dict[f\"{column}_mean\"] = mean\n",
    "        stats_dict[f\"{column}_std\"] = std\n",
    "        stats_dict[f\"{column}_median\"] = median\n",
    "        stats_dict[f\"{column}_skewness\"] = skewness\n",
    "        stats_dict[f\"{column}_kurtosis\"] = kurtosis\n",
    "        stats_dict[f\"{column}_min\"] = min_val\n",
    "        stats_dict[f\"{column}_max\"] = max_val\n",
    "        stats_dict[f\"{column}_range\"] = range_val\n",
    "        stats_dict[f\"{column}_quartile_25\"] = quartile_25\n",
    "        stats_dict[f\"{column}_quartile_75\"] = quartile_75\n",
    "        stats_dict[f\"{column}_iqr\"] = iqr\n",
    "          \n",
    "    stats_dict[\"target\"] = target\n",
    "    return stats_dict"
   ]
  },
  {
   "cell_type": "markdown",
   "id": "30e95e8d",
   "metadata": {},
   "source": [
    "## LOADING DATA"
   ]
  },
  {
   "cell_type": "code",
   "execution_count": 4,
   "id": "cb92b6c3",
   "metadata": {},
   "outputs": [],
   "source": [
    "folder_path = \"PUSH_UP\"\n",
    "os.makedirs(folder_path, exist_ok=True)\n",
    "file_names = [f\"{folder_path}/{name}\" for name in os.listdir(folder_path)]\n",
    "signals = ['accX', 'accY', 'accZ', 'gyroX', 'gyroY', 'gyroZ', 'magnX', 'magnY', 'magnZ', 'linAccX', 'linAccY', 'linAccZ']\n",
    "\n",
    "data, wk = load_training_data(filelist=file_names,\n",
    "                         signals= signals,\n",
    "                          target_exercise=\"PUSH_UP\", other_exercises=[], is_peak_minima=True)\n",
    "#data[0]"
   ]
  },
  {
   "cell_type": "markdown",
   "id": "d949b7d1",
   "metadata": {
    "tags": []
   },
   "source": [
    "## CREATING NEW DATA"
   ]
  },
  {
   "cell_type": "code",
   "execution_count": 5,
   "id": "aca69624",
   "metadata": {},
   "outputs": [
    {
     "data": {
      "text/html": [
       "<div>\n",
       "<style scoped>\n",
       "    .dataframe tbody tr th:only-of-type {\n",
       "        vertical-align: middle;\n",
       "    }\n",
       "\n",
       "    .dataframe tbody tr th {\n",
       "        vertical-align: top;\n",
       "    }\n",
       "\n",
       "    .dataframe thead th {\n",
       "        text-align: right;\n",
       "    }\n",
       "</style>\n",
       "<table border=\"1\" class=\"dataframe\">\n",
       "  <thead>\n",
       "    <tr style=\"text-align: right;\">\n",
       "      <th></th>\n",
       "      <th>linAccX_mean</th>\n",
       "      <th>linAccX_std</th>\n",
       "      <th>linAccX_median</th>\n",
       "      <th>linAccX_skewness</th>\n",
       "      <th>linAccX_kurtosis</th>\n",
       "      <th>linAccX_min</th>\n",
       "      <th>linAccX_max</th>\n",
       "      <th>linAccX_range</th>\n",
       "      <th>linAccX_quartile_25</th>\n",
       "      <th>linAccX_quartile_75</th>\n",
       "      <th>...</th>\n",
       "      <th>magnZ_median</th>\n",
       "      <th>magnZ_skewness</th>\n",
       "      <th>magnZ_kurtosis</th>\n",
       "      <th>magnZ_min</th>\n",
       "      <th>magnZ_max</th>\n",
       "      <th>magnZ_range</th>\n",
       "      <th>magnZ_quartile_25</th>\n",
       "      <th>magnZ_quartile_75</th>\n",
       "      <th>magnZ_iqr</th>\n",
       "      <th>target</th>\n",
       "    </tr>\n",
       "  </thead>\n",
       "  <tbody>\n",
       "    <tr>\n",
       "      <th>0</th>\n",
       "      <td>-0.072234</td>\n",
       "      <td>0.209984</td>\n",
       "      <td>-0.095984</td>\n",
       "      <td>0.178796</td>\n",
       "      <td>-0.072419</td>\n",
       "      <td>-0.482099</td>\n",
       "      <td>0.494911</td>\n",
       "      <td>0.977010</td>\n",
       "      <td>-0.215969</td>\n",
       "      <td>0.072857</td>\n",
       "      <td>...</td>\n",
       "      <td>7.388643</td>\n",
       "      <td>-1.149973</td>\n",
       "      <td>-0.211703</td>\n",
       "      <td>-2.152263</td>\n",
       "      <td>8.663445</td>\n",
       "      <td>10.815708</td>\n",
       "      <td>3.600860</td>\n",
       "      <td>8.033581</td>\n",
       "      <td>4.432721</td>\n",
       "      <td>PUSH_UP</td>\n",
       "    </tr>\n",
       "    <tr>\n",
       "      <th>1</th>\n",
       "      <td>-0.029067</td>\n",
       "      <td>0.244630</td>\n",
       "      <td>-0.056538</td>\n",
       "      <td>0.553319</td>\n",
       "      <td>-0.344557</td>\n",
       "      <td>-0.424386</td>\n",
       "      <td>0.502425</td>\n",
       "      <td>0.926811</td>\n",
       "      <td>-0.217108</td>\n",
       "      <td>0.109969</td>\n",
       "      <td>...</td>\n",
       "      <td>7.355642</td>\n",
       "      <td>-0.813413</td>\n",
       "      <td>-1.028547</td>\n",
       "      <td>-3.230601</td>\n",
       "      <td>8.459176</td>\n",
       "      <td>11.689777</td>\n",
       "      <td>0.566056</td>\n",
       "      <td>7.750304</td>\n",
       "      <td>7.184247</td>\n",
       "      <td>PUSH_UP</td>\n",
       "    </tr>\n",
       "    <tr>\n",
       "      <th>2</th>\n",
       "      <td>0.013737</td>\n",
       "      <td>0.379551</td>\n",
       "      <td>0.090779</td>\n",
       "      <td>0.038701</td>\n",
       "      <td>-0.436812</td>\n",
       "      <td>-0.743821</td>\n",
       "      <td>0.771661</td>\n",
       "      <td>1.515482</td>\n",
       "      <td>-0.275764</td>\n",
       "      <td>0.152489</td>\n",
       "      <td>...</td>\n",
       "      <td>7.048786</td>\n",
       "      <td>-0.634746</td>\n",
       "      <td>-1.286169</td>\n",
       "      <td>-3.914278</td>\n",
       "      <td>8.741084</td>\n",
       "      <td>12.655362</td>\n",
       "      <td>-0.672961</td>\n",
       "      <td>8.031160</td>\n",
       "      <td>8.704121</td>\n",
       "      <td>PUSH_UP</td>\n",
       "    </tr>\n",
       "    <tr>\n",
       "      <th>3</th>\n",
       "      <td>-0.140558</td>\n",
       "      <td>0.375128</td>\n",
       "      <td>-0.155016</td>\n",
       "      <td>-0.013897</td>\n",
       "      <td>-0.678278</td>\n",
       "      <td>-0.925030</td>\n",
       "      <td>0.505025</td>\n",
       "      <td>1.430055</td>\n",
       "      <td>-0.408454</td>\n",
       "      <td>0.159423</td>\n",
       "      <td>...</td>\n",
       "      <td>7.323056</td>\n",
       "      <td>-0.783189</td>\n",
       "      <td>-0.925546</td>\n",
       "      <td>-4.418325</td>\n",
       "      <td>10.533805</td>\n",
       "      <td>14.952130</td>\n",
       "      <td>0.696499</td>\n",
       "      <td>8.392310</td>\n",
       "      <td>7.695810</td>\n",
       "      <td>PUSH_UP</td>\n",
       "    </tr>\n",
       "    <tr>\n",
       "      <th>4</th>\n",
       "      <td>-0.074295</td>\n",
       "      <td>0.310126</td>\n",
       "      <td>-0.029277</td>\n",
       "      <td>-0.187483</td>\n",
       "      <td>-0.830808</td>\n",
       "      <td>-0.684758</td>\n",
       "      <td>0.568209</td>\n",
       "      <td>1.252967</td>\n",
       "      <td>-0.299787</td>\n",
       "      <td>0.174511</td>\n",
       "      <td>...</td>\n",
       "      <td>6.998317</td>\n",
       "      <td>-0.777626</td>\n",
       "      <td>-1.026632</td>\n",
       "      <td>-4.406478</td>\n",
       "      <td>8.769144</td>\n",
       "      <td>13.175622</td>\n",
       "      <td>0.041938</td>\n",
       "      <td>7.964148</td>\n",
       "      <td>7.922210</td>\n",
       "      <td>PUSH_UP</td>\n",
       "    </tr>\n",
       "  </tbody>\n",
       "</table>\n",
       "<p>5 rows × 100 columns</p>\n",
       "</div>"
      ],
      "text/plain": [
       "   linAccX_mean  linAccX_std  linAccX_median  linAccX_skewness  \\\n",
       "0     -0.072234     0.209984       -0.095984          0.178796   \n",
       "1     -0.029067     0.244630       -0.056538          0.553319   \n",
       "2      0.013737     0.379551        0.090779          0.038701   \n",
       "3     -0.140558     0.375128       -0.155016         -0.013897   \n",
       "4     -0.074295     0.310126       -0.029277         -0.187483   \n",
       "\n",
       "   linAccX_kurtosis  linAccX_min  linAccX_max  linAccX_range  \\\n",
       "0         -0.072419    -0.482099     0.494911       0.977010   \n",
       "1         -0.344557    -0.424386     0.502425       0.926811   \n",
       "2         -0.436812    -0.743821     0.771661       1.515482   \n",
       "3         -0.678278    -0.925030     0.505025       1.430055   \n",
       "4         -0.830808    -0.684758     0.568209       1.252967   \n",
       "\n",
       "   linAccX_quartile_25  linAccX_quartile_75  ...  magnZ_median  \\\n",
       "0            -0.215969             0.072857  ...      7.388643   \n",
       "1            -0.217108             0.109969  ...      7.355642   \n",
       "2            -0.275764             0.152489  ...      7.048786   \n",
       "3            -0.408454             0.159423  ...      7.323056   \n",
       "4            -0.299787             0.174511  ...      6.998317   \n",
       "\n",
       "   magnZ_skewness  magnZ_kurtosis  magnZ_min  magnZ_max  magnZ_range  \\\n",
       "0       -1.149973       -0.211703  -2.152263   8.663445    10.815708   \n",
       "1       -0.813413       -1.028547  -3.230601   8.459176    11.689777   \n",
       "2       -0.634746       -1.286169  -3.914278   8.741084    12.655362   \n",
       "3       -0.783189       -0.925546  -4.418325  10.533805    14.952130   \n",
       "4       -0.777626       -1.026632  -4.406478   8.769144    13.175622   \n",
       "\n",
       "   magnZ_quartile_25  magnZ_quartile_75  magnZ_iqr   target  \n",
       "0           3.600860           8.033581   4.432721  PUSH_UP  \n",
       "1           0.566056           7.750304   7.184247  PUSH_UP  \n",
       "2          -0.672961           8.031160   8.704121  PUSH_UP  \n",
       "3           0.696499           8.392310   7.695810  PUSH_UP  \n",
       "4           0.041938           7.964148   7.922210  PUSH_UP  \n",
       "\n",
       "[5 rows x 100 columns]"
      ]
     },
     "execution_count": 5,
     "metadata": {},
     "output_type": "execute_result"
    }
   ],
   "source": [
    "data_info = [create_training_data_stats(info[\"series\"], info[\"target\"]) for info in data] #calling the two functions\n",
    "data_custom = pd.DataFrame(data_info) #creating the DF\n",
    "data_custom.head()"
   ]
  },
  {
   "cell_type": "markdown",
   "id": "954ea7c0-664c-4c74-8479-d2e6b2c52f55",
   "metadata": {},
   "source": [
    "# ML with Pycaret"
   ]
  },
  {
   "cell_type": "code",
   "execution_count": 6,
   "id": "6f9a5808-b34c-4ed1-ab43-792868be1a43",
   "metadata": {},
   "outputs": [
    {
     "name": "stdout",
     "output_type": "stream",
     "text": [
      "Data for Modeling: (2646, 100)\n",
      "Simulated data For Production (139, 100)\n"
     ]
    }
   ],
   "source": [
    "data_dev = data_custom.sample(frac=0.95, random_state=786)\n",
    "data_prod = data_custom.drop(data_dev.index)\n",
    "\n",
    "data_dev.reset_index(inplace=True, drop=True)\n",
    "data_prod.reset_index(inplace=True, drop=True)\n",
    "\n",
    "print('Data for Modeling: ' + str(data_dev.shape))\n",
    "print('Simulated data For Production ' + str(data_prod.shape))"
   ]
  },
  {
   "cell_type": "code",
   "execution_count": 7,
   "id": "272f647e-4dcc-4525-aa54-083b873dc6f0",
   "metadata": {},
   "outputs": [
    {
     "name": "stdout",
     "output_type": "stream",
     "text": [
      "[LightGBM] [Info] Number of positive: 1847, number of negative: 1847\n",
      "[LightGBM] [Info] Auto-choosing col-wise multi-threading, the overhead of testing was 0.001265 seconds.\n",
      "You can set `force_col_wise=true` to remove the overhead.\n",
      "[LightGBM] [Info] Total Bins 16063\n",
      "[LightGBM] [Info] Number of data points in the train set: 3694, number of used features: 63\n",
      "[LightGBM] [Info] [binary:BoostFromScore]: pavg=0.500000 -> initscore=0.000000\n"
     ]
    },
    {
     "data": {
      "text/html": [
       "<style type=\"text/css\">\n",
       "#T_29f3f_row9_col1, #T_29f3f_row13_col1, #T_29f3f_row15_col1, #T_29f3f_row17_col1, #T_29f3f_row19_col1, #T_29f3f_row21_col1 {\n",
       "  background-color: lightgreen;\n",
       "}\n",
       "</style>\n",
       "<table id=\"T_29f3f\">\n",
       "  <thead>\n",
       "    <tr>\n",
       "      <th class=\"blank level0\" >&nbsp;</th>\n",
       "      <th id=\"T_29f3f_level0_col0\" class=\"col_heading level0 col0\" >Description</th>\n",
       "      <th id=\"T_29f3f_level0_col1\" class=\"col_heading level0 col1\" >Value</th>\n",
       "    </tr>\n",
       "  </thead>\n",
       "  <tbody>\n",
       "    <tr>\n",
       "      <th id=\"T_29f3f_level0_row0\" class=\"row_heading level0 row0\" >0</th>\n",
       "      <td id=\"T_29f3f_row0_col0\" class=\"data row0 col0\" >Session id</td>\n",
       "      <td id=\"T_29f3f_row0_col1\" class=\"data row0 col1\" >6221</td>\n",
       "    </tr>\n",
       "    <tr>\n",
       "      <th id=\"T_29f3f_level0_row1\" class=\"row_heading level0 row1\" >1</th>\n",
       "      <td id=\"T_29f3f_row1_col0\" class=\"data row1 col0\" >Target</td>\n",
       "      <td id=\"T_29f3f_row1_col1\" class=\"data row1 col1\" >target</td>\n",
       "    </tr>\n",
       "    <tr>\n",
       "      <th id=\"T_29f3f_level0_row2\" class=\"row_heading level0 row2\" >2</th>\n",
       "      <td id=\"T_29f3f_row2_col0\" class=\"data row2 col0\" >Target type</td>\n",
       "      <td id=\"T_29f3f_row2_col1\" class=\"data row2 col1\" >Binary</td>\n",
       "    </tr>\n",
       "    <tr>\n",
       "      <th id=\"T_29f3f_level0_row3\" class=\"row_heading level0 row3\" >3</th>\n",
       "      <td id=\"T_29f3f_row3_col0\" class=\"data row3 col0\" >Target mapping</td>\n",
       "      <td id=\"T_29f3f_row3_col1\" class=\"data row3 col1\" >NO_EXERCISE: 0, PUSH_UP: 1</td>\n",
       "    </tr>\n",
       "    <tr>\n",
       "      <th id=\"T_29f3f_level0_row4\" class=\"row_heading level0 row4\" >4</th>\n",
       "      <td id=\"T_29f3f_row4_col0\" class=\"data row4 col0\" >Original data shape</td>\n",
       "      <td id=\"T_29f3f_row4_col1\" class=\"data row4 col1\" >(2646, 100)</td>\n",
       "    </tr>\n",
       "    <tr>\n",
       "      <th id=\"T_29f3f_level0_row5\" class=\"row_heading level0 row5\" >5</th>\n",
       "      <td id=\"T_29f3f_row5_col0\" class=\"data row5 col0\" >Transformed data shape</td>\n",
       "      <td id=\"T_29f3f_row5_col1\" class=\"data row5 col1\" >(4224, 11)</td>\n",
       "    </tr>\n",
       "    <tr>\n",
       "      <th id=\"T_29f3f_level0_row6\" class=\"row_heading level0 row6\" >6</th>\n",
       "      <td id=\"T_29f3f_row6_col0\" class=\"data row6 col0\" >Transformed train set shape</td>\n",
       "      <td id=\"T_29f3f_row6_col1\" class=\"data row6 col1\" >(3694, 11)</td>\n",
       "    </tr>\n",
       "    <tr>\n",
       "      <th id=\"T_29f3f_level0_row7\" class=\"row_heading level0 row7\" >7</th>\n",
       "      <td id=\"T_29f3f_row7_col0\" class=\"data row7 col0\" >Transformed test set shape</td>\n",
       "      <td id=\"T_29f3f_row7_col1\" class=\"data row7 col1\" >(530, 11)</td>\n",
       "    </tr>\n",
       "    <tr>\n",
       "      <th id=\"T_29f3f_level0_row8\" class=\"row_heading level0 row8\" >8</th>\n",
       "      <td id=\"T_29f3f_row8_col0\" class=\"data row8 col0\" >Numeric features</td>\n",
       "      <td id=\"T_29f3f_row8_col1\" class=\"data row8 col1\" >99</td>\n",
       "    </tr>\n",
       "    <tr>\n",
       "      <th id=\"T_29f3f_level0_row9\" class=\"row_heading level0 row9\" >9</th>\n",
       "      <td id=\"T_29f3f_row9_col0\" class=\"data row9 col0\" >Preprocess</td>\n",
       "      <td id=\"T_29f3f_row9_col1\" class=\"data row9 col1\" >True</td>\n",
       "    </tr>\n",
       "    <tr>\n",
       "      <th id=\"T_29f3f_level0_row10\" class=\"row_heading level0 row10\" >10</th>\n",
       "      <td id=\"T_29f3f_row10_col0\" class=\"data row10 col0\" >Imputation type</td>\n",
       "      <td id=\"T_29f3f_row10_col1\" class=\"data row10 col1\" >simple</td>\n",
       "    </tr>\n",
       "    <tr>\n",
       "      <th id=\"T_29f3f_level0_row11\" class=\"row_heading level0 row11\" >11</th>\n",
       "      <td id=\"T_29f3f_row11_col0\" class=\"data row11 col0\" >Numeric imputation</td>\n",
       "      <td id=\"T_29f3f_row11_col1\" class=\"data row11 col1\" >mean</td>\n",
       "    </tr>\n",
       "    <tr>\n",
       "      <th id=\"T_29f3f_level0_row12\" class=\"row_heading level0 row12\" >12</th>\n",
       "      <td id=\"T_29f3f_row12_col0\" class=\"data row12 col0\" >Categorical imputation</td>\n",
       "      <td id=\"T_29f3f_row12_col1\" class=\"data row12 col1\" >mode</td>\n",
       "    </tr>\n",
       "    <tr>\n",
       "      <th id=\"T_29f3f_level0_row13\" class=\"row_heading level0 row13\" >13</th>\n",
       "      <td id=\"T_29f3f_row13_col0\" class=\"data row13 col0\" >Remove multicollinearity</td>\n",
       "      <td id=\"T_29f3f_row13_col1\" class=\"data row13 col1\" >True</td>\n",
       "    </tr>\n",
       "    <tr>\n",
       "      <th id=\"T_29f3f_level0_row14\" class=\"row_heading level0 row14\" >14</th>\n",
       "      <td id=\"T_29f3f_row14_col0\" class=\"data row14 col0\" >Multicollinearity threshold</td>\n",
       "      <td id=\"T_29f3f_row14_col1\" class=\"data row14 col1\" >0.900000</td>\n",
       "    </tr>\n",
       "    <tr>\n",
       "      <th id=\"T_29f3f_level0_row15\" class=\"row_heading level0 row15\" >15</th>\n",
       "      <td id=\"T_29f3f_row15_col0\" class=\"data row15 col0\" >Remove outliers</td>\n",
       "      <td id=\"T_29f3f_row15_col1\" class=\"data row15 col1\" >True</td>\n",
       "    </tr>\n",
       "    <tr>\n",
       "      <th id=\"T_29f3f_level0_row16\" class=\"row_heading level0 row16\" >16</th>\n",
       "      <td id=\"T_29f3f_row16_col0\" class=\"data row16 col0\" >Outliers threshold</td>\n",
       "      <td id=\"T_29f3f_row16_col1\" class=\"data row16 col1\" >0.030000</td>\n",
       "    </tr>\n",
       "    <tr>\n",
       "      <th id=\"T_29f3f_level0_row17\" class=\"row_heading level0 row17\" >17</th>\n",
       "      <td id=\"T_29f3f_row17_col0\" class=\"data row17 col0\" >Fix imbalance</td>\n",
       "      <td id=\"T_29f3f_row17_col1\" class=\"data row17 col1\" >True</td>\n",
       "    </tr>\n",
       "    <tr>\n",
       "      <th id=\"T_29f3f_level0_row18\" class=\"row_heading level0 row18\" >18</th>\n",
       "      <td id=\"T_29f3f_row18_col0\" class=\"data row18 col0\" >Fix imbalance method</td>\n",
       "      <td id=\"T_29f3f_row18_col1\" class=\"data row18 col1\" >SMOTE</td>\n",
       "    </tr>\n",
       "    <tr>\n",
       "      <th id=\"T_29f3f_level0_row19\" class=\"row_heading level0 row19\" >19</th>\n",
       "      <td id=\"T_29f3f_row19_col0\" class=\"data row19 col0\" >Normalize</td>\n",
       "      <td id=\"T_29f3f_row19_col1\" class=\"data row19 col1\" >True</td>\n",
       "    </tr>\n",
       "    <tr>\n",
       "      <th id=\"T_29f3f_level0_row20\" class=\"row_heading level0 row20\" >20</th>\n",
       "      <td id=\"T_29f3f_row20_col0\" class=\"data row20 col0\" >Normalize method</td>\n",
       "      <td id=\"T_29f3f_row20_col1\" class=\"data row20 col1\" >robust</td>\n",
       "    </tr>\n",
       "    <tr>\n",
       "      <th id=\"T_29f3f_level0_row21\" class=\"row_heading level0 row21\" >21</th>\n",
       "      <td id=\"T_29f3f_row21_col0\" class=\"data row21 col0\" >Feature selection</td>\n",
       "      <td id=\"T_29f3f_row21_col1\" class=\"data row21 col1\" >True</td>\n",
       "    </tr>\n",
       "    <tr>\n",
       "      <th id=\"T_29f3f_level0_row22\" class=\"row_heading level0 row22\" >22</th>\n",
       "      <td id=\"T_29f3f_row22_col0\" class=\"data row22 col0\" >Feature selection method</td>\n",
       "      <td id=\"T_29f3f_row22_col1\" class=\"data row22 col1\" >classic</td>\n",
       "    </tr>\n",
       "    <tr>\n",
       "      <th id=\"T_29f3f_level0_row23\" class=\"row_heading level0 row23\" >23</th>\n",
       "      <td id=\"T_29f3f_row23_col0\" class=\"data row23 col0\" >Feature selection estimator</td>\n",
       "      <td id=\"T_29f3f_row23_col1\" class=\"data row23 col1\" >lightgbm</td>\n",
       "    </tr>\n",
       "    <tr>\n",
       "      <th id=\"T_29f3f_level0_row24\" class=\"row_heading level0 row24\" >24</th>\n",
       "      <td id=\"T_29f3f_row24_col0\" class=\"data row24 col0\" >Number of features selected</td>\n",
       "      <td id=\"T_29f3f_row24_col1\" class=\"data row24 col1\" >10</td>\n",
       "    </tr>\n",
       "    <tr>\n",
       "      <th id=\"T_29f3f_level0_row25\" class=\"row_heading level0 row25\" >25</th>\n",
       "      <td id=\"T_29f3f_row25_col0\" class=\"data row25 col0\" >Fold Generator</td>\n",
       "      <td id=\"T_29f3f_row25_col1\" class=\"data row25 col1\" >StratifiedKFold</td>\n",
       "    </tr>\n",
       "    <tr>\n",
       "      <th id=\"T_29f3f_level0_row26\" class=\"row_heading level0 row26\" >26</th>\n",
       "      <td id=\"T_29f3f_row26_col0\" class=\"data row26 col0\" >Fold Number</td>\n",
       "      <td id=\"T_29f3f_row26_col1\" class=\"data row26 col1\" >10</td>\n",
       "    </tr>\n",
       "    <tr>\n",
       "      <th id=\"T_29f3f_level0_row27\" class=\"row_heading level0 row27\" >27</th>\n",
       "      <td id=\"T_29f3f_row27_col0\" class=\"data row27 col0\" >CPU Jobs</td>\n",
       "      <td id=\"T_29f3f_row27_col1\" class=\"data row27 col1\" >-1</td>\n",
       "    </tr>\n",
       "    <tr>\n",
       "      <th id=\"T_29f3f_level0_row28\" class=\"row_heading level0 row28\" >28</th>\n",
       "      <td id=\"T_29f3f_row28_col0\" class=\"data row28 col0\" >Use GPU</td>\n",
       "      <td id=\"T_29f3f_row28_col1\" class=\"data row28 col1\" >False</td>\n",
       "    </tr>\n",
       "    <tr>\n",
       "      <th id=\"T_29f3f_level0_row29\" class=\"row_heading level0 row29\" >29</th>\n",
       "      <td id=\"T_29f3f_row29_col0\" class=\"data row29 col0\" >Log Experiment</td>\n",
       "      <td id=\"T_29f3f_row29_col1\" class=\"data row29 col1\" >False</td>\n",
       "    </tr>\n",
       "    <tr>\n",
       "      <th id=\"T_29f3f_level0_row30\" class=\"row_heading level0 row30\" >30</th>\n",
       "      <td id=\"T_29f3f_row30_col0\" class=\"data row30 col0\" >Experiment Name</td>\n",
       "      <td id=\"T_29f3f_row30_col1\" class=\"data row30 col1\" >clf-default-name</td>\n",
       "    </tr>\n",
       "    <tr>\n",
       "      <th id=\"T_29f3f_level0_row31\" class=\"row_heading level0 row31\" >31</th>\n",
       "      <td id=\"T_29f3f_row31_col0\" class=\"data row31 col0\" >USI</td>\n",
       "      <td id=\"T_29f3f_row31_col1\" class=\"data row31 col1\" >c3b9</td>\n",
       "    </tr>\n",
       "  </tbody>\n",
       "</table>\n"
      ],
      "text/plain": [
       "<pandas.io.formats.style.Styler at 0x1683349d8d0>"
      ]
     },
     "metadata": {},
     "output_type": "display_data"
    }
   ],
   "source": [
    "model = setup(\n",
    "    # Basic options\n",
    "    data = data_dev,\n",
    "    target = \"target\",\n",
    "    train_size = 0.8, \n",
    "    preprocess = True,\n",
    "    \n",
    "    # Dealing with multicollinearity\n",
    "    remove_multicollinearity = True,\n",
    "    multicollinearity_threshold = 0.9,\n",
    "        \n",
    "    # Feature normalization with outliers\n",
    "    normalize = True,\n",
    "    normalize_method = 'robust',\n",
    "        \n",
    "    # Paralellization options\n",
    "    n_jobs = - 1,\n",
    "    use_gpu = False,\n",
    "    \n",
    "    # Imbalance Dataset\n",
    "    fix_imbalance=True,\n",
    "\n",
    "    remove_outliers= True, \n",
    "    outliers_threshold= 0.03,\n",
    "    \n",
    "    # Feature Importance\n",
    "    feature_selection = True,\n",
    "    n_features_to_select= 10\n",
    ")"
   ]
  },
  {
   "cell_type": "code",
   "execution_count": 8,
   "id": "589a0cab-d211-4a5f-b166-37bad65783a0",
   "metadata": {},
   "outputs": [
    {
     "data": {
      "text/html": [],
      "text/plain": [
       "<IPython.core.display.HTML object>"
      ]
     },
     "metadata": {},
     "output_type": "display_data"
    },
    {
     "data": {
      "text/html": [
       "<style type=\"text/css\">\n",
       "#T_a4a69 th {\n",
       "  text-align: left;\n",
       "}\n",
       "#T_a4a69_row0_col0, #T_a4a69_row1_col0, #T_a4a69_row1_col1, #T_a4a69_row1_col2, #T_a4a69_row1_col3, #T_a4a69_row1_col4, #T_a4a69_row1_col5, #T_a4a69_row1_col6, #T_a4a69_row1_col7, #T_a4a69_row2_col0, #T_a4a69_row2_col1, #T_a4a69_row2_col2, #T_a4a69_row2_col3, #T_a4a69_row2_col4, #T_a4a69_row2_col5, #T_a4a69_row2_col6, #T_a4a69_row2_col7, #T_a4a69_row3_col0, #T_a4a69_row3_col1, #T_a4a69_row3_col2, #T_a4a69_row3_col3, #T_a4a69_row3_col4, #T_a4a69_row3_col5, #T_a4a69_row3_col6, #T_a4a69_row3_col7, #T_a4a69_row4_col0, #T_a4a69_row4_col1, #T_a4a69_row4_col2, #T_a4a69_row4_col3, #T_a4a69_row4_col4, #T_a4a69_row4_col5, #T_a4a69_row4_col6, #T_a4a69_row4_col7, #T_a4a69_row5_col0, #T_a4a69_row5_col1, #T_a4a69_row5_col2, #T_a4a69_row5_col3, #T_a4a69_row5_col4, #T_a4a69_row5_col5, #T_a4a69_row5_col6, #T_a4a69_row5_col7, #T_a4a69_row6_col0, #T_a4a69_row6_col1, #T_a4a69_row6_col2, #T_a4a69_row6_col3, #T_a4a69_row6_col4, #T_a4a69_row6_col5, #T_a4a69_row6_col6, #T_a4a69_row6_col7, #T_a4a69_row7_col0, #T_a4a69_row7_col1, #T_a4a69_row7_col2, #T_a4a69_row7_col3, #T_a4a69_row7_col4, #T_a4a69_row7_col5, #T_a4a69_row7_col6, #T_a4a69_row7_col7, #T_a4a69_row8_col0, #T_a4a69_row8_col1, #T_a4a69_row8_col2, #T_a4a69_row8_col3, #T_a4a69_row8_col4, #T_a4a69_row8_col5, #T_a4a69_row8_col6, #T_a4a69_row8_col7, #T_a4a69_row9_col0, #T_a4a69_row9_col1, #T_a4a69_row9_col2, #T_a4a69_row9_col3, #T_a4a69_row9_col4, #T_a4a69_row9_col5, #T_a4a69_row9_col6, #T_a4a69_row9_col7, #T_a4a69_row10_col0, #T_a4a69_row10_col1, #T_a4a69_row10_col2, #T_a4a69_row10_col3, #T_a4a69_row10_col4, #T_a4a69_row10_col5, #T_a4a69_row10_col6, #T_a4a69_row10_col7, #T_a4a69_row11_col0, #T_a4a69_row11_col1, #T_a4a69_row11_col2, #T_a4a69_row11_col3, #T_a4a69_row11_col4, #T_a4a69_row11_col5, #T_a4a69_row11_col6, #T_a4a69_row11_col7, #T_a4a69_row12_col0, #T_a4a69_row12_col1, #T_a4a69_row12_col2, #T_a4a69_row12_col3, #T_a4a69_row12_col4, #T_a4a69_row12_col5, #T_a4a69_row12_col6, #T_a4a69_row12_col7, #T_a4a69_row13_col0, #T_a4a69_row13_col1, #T_a4a69_row13_col2, #T_a4a69_row13_col3, #T_a4a69_row13_col4, #T_a4a69_row13_col5, #T_a4a69_row13_col6, #T_a4a69_row13_col7, #T_a4a69_row14_col0, #T_a4a69_row14_col1, #T_a4a69_row14_col2, #T_a4a69_row14_col3, #T_a4a69_row14_col4, #T_a4a69_row14_col5, #T_a4a69_row14_col6, #T_a4a69_row14_col7, #T_a4a69_row15_col0, #T_a4a69_row15_col1, #T_a4a69_row15_col2, #T_a4a69_row15_col3, #T_a4a69_row15_col4, #T_a4a69_row15_col5, #T_a4a69_row15_col6, #T_a4a69_row15_col7 {\n",
       "  text-align: left;\n",
       "}\n",
       "#T_a4a69_row0_col1, #T_a4a69_row0_col2, #T_a4a69_row0_col3, #T_a4a69_row0_col4, #T_a4a69_row0_col5, #T_a4a69_row0_col6, #T_a4a69_row0_col7 {\n",
       "  text-align: left;\n",
       "  background-color: yellow;\n",
       "}\n",
       "#T_a4a69_row0_col8, #T_a4a69_row1_col8, #T_a4a69_row2_col8, #T_a4a69_row3_col8, #T_a4a69_row4_col8, #T_a4a69_row5_col8, #T_a4a69_row6_col8, #T_a4a69_row7_col8, #T_a4a69_row8_col8, #T_a4a69_row9_col8, #T_a4a69_row10_col8, #T_a4a69_row11_col8, #T_a4a69_row12_col8, #T_a4a69_row14_col8, #T_a4a69_row15_col8 {\n",
       "  text-align: left;\n",
       "  background-color: lightgrey;\n",
       "}\n",
       "#T_a4a69_row13_col8 {\n",
       "  text-align: left;\n",
       "  background-color: yellow;\n",
       "  background-color: lightgrey;\n",
       "}\n",
       "</style>\n",
       "<table id=\"T_a4a69\">\n",
       "  <thead>\n",
       "    <tr>\n",
       "      <th class=\"blank level0\" >&nbsp;</th>\n",
       "      <th id=\"T_a4a69_level0_col0\" class=\"col_heading level0 col0\" >Model</th>\n",
       "      <th id=\"T_a4a69_level0_col1\" class=\"col_heading level0 col1\" >Accuracy</th>\n",
       "      <th id=\"T_a4a69_level0_col2\" class=\"col_heading level0 col2\" >AUC</th>\n",
       "      <th id=\"T_a4a69_level0_col3\" class=\"col_heading level0 col3\" >Recall</th>\n",
       "      <th id=\"T_a4a69_level0_col4\" class=\"col_heading level0 col4\" >Prec.</th>\n",
       "      <th id=\"T_a4a69_level0_col5\" class=\"col_heading level0 col5\" >F1</th>\n",
       "      <th id=\"T_a4a69_level0_col6\" class=\"col_heading level0 col6\" >Kappa</th>\n",
       "      <th id=\"T_a4a69_level0_col7\" class=\"col_heading level0 col7\" >MCC</th>\n",
       "      <th id=\"T_a4a69_level0_col8\" class=\"col_heading level0 col8\" >TT (Sec)</th>\n",
       "    </tr>\n",
       "  </thead>\n",
       "  <tbody>\n",
       "    <tr>\n",
       "      <th id=\"T_a4a69_level0_row0\" class=\"row_heading level0 row0\" >et</th>\n",
       "      <td id=\"T_a4a69_row0_col0\" class=\"data row0 col0\" >Extra Trees Classifier</td>\n",
       "      <td id=\"T_a4a69_row0_col1\" class=\"data row0 col1\" >0.9334</td>\n",
       "      <td id=\"T_a4a69_row0_col2\" class=\"data row0 col2\" >0.9567</td>\n",
       "      <td id=\"T_a4a69_row0_col3\" class=\"data row0 col3\" >0.9334</td>\n",
       "      <td id=\"T_a4a69_row0_col4\" class=\"data row0 col4\" >0.9407</td>\n",
       "      <td id=\"T_a4a69_row0_col5\" class=\"data row0 col5\" >0.9363</td>\n",
       "      <td id=\"T_a4a69_row0_col6\" class=\"data row0 col6\" >0.6534</td>\n",
       "      <td id=\"T_a4a69_row0_col7\" class=\"data row0 col7\" >0.6574</td>\n",
       "      <td id=\"T_a4a69_row0_col8\" class=\"data row0 col8\" >0.6400</td>\n",
       "    </tr>\n",
       "    <tr>\n",
       "      <th id=\"T_a4a69_level0_row1\" class=\"row_heading level0 row1\" >catboost</th>\n",
       "      <td id=\"T_a4a69_row1_col0\" class=\"data row1 col0\" >CatBoost Classifier</td>\n",
       "      <td id=\"T_a4a69_row1_col1\" class=\"data row1 col1\" >0.9310</td>\n",
       "      <td id=\"T_a4a69_row1_col2\" class=\"data row1 col2\" >0.9538</td>\n",
       "      <td id=\"T_a4a69_row1_col3\" class=\"data row1 col3\" >0.9310</td>\n",
       "      <td id=\"T_a4a69_row1_col4\" class=\"data row1 col4\" >0.9398</td>\n",
       "      <td id=\"T_a4a69_row1_col5\" class=\"data row1 col5\" >0.9344</td>\n",
       "      <td id=\"T_a4a69_row1_col6\" class=\"data row1 col6\" >0.6456</td>\n",
       "      <td id=\"T_a4a69_row1_col7\" class=\"data row1 col7\" >0.6508</td>\n",
       "      <td id=\"T_a4a69_row1_col8\" class=\"data row1 col8\" >2.8350</td>\n",
       "    </tr>\n",
       "    <tr>\n",
       "      <th id=\"T_a4a69_level0_row2\" class=\"row_heading level0 row2\" >xgboost</th>\n",
       "      <td id=\"T_a4a69_row2_col0\" class=\"data row2 col0\" >Extreme Gradient Boosting</td>\n",
       "      <td id=\"T_a4a69_row2_col1\" class=\"data row2 col1\" >0.9272</td>\n",
       "      <td id=\"T_a4a69_row2_col2\" class=\"data row2 col2\" >0.9495</td>\n",
       "      <td id=\"T_a4a69_row2_col3\" class=\"data row2 col3\" >0.9272</td>\n",
       "      <td id=\"T_a4a69_row2_col4\" class=\"data row2 col4\" >0.9353</td>\n",
       "      <td id=\"T_a4a69_row2_col5\" class=\"data row2 col5\" >0.9304</td>\n",
       "      <td id=\"T_a4a69_row2_col6\" class=\"data row2 col6\" >0.6220</td>\n",
       "      <td id=\"T_a4a69_row2_col7\" class=\"data row2 col7\" >0.6261</td>\n",
       "      <td id=\"T_a4a69_row2_col8\" class=\"data row2 col8\" >0.4550</td>\n",
       "    </tr>\n",
       "    <tr>\n",
       "      <th id=\"T_a4a69_level0_row3\" class=\"row_heading level0 row3\" >lightgbm</th>\n",
       "      <td id=\"T_a4a69_row3_col0\" class=\"data row3 col0\" >Light Gradient Boosting Machine</td>\n",
       "      <td id=\"T_a4a69_row3_col1\" class=\"data row3 col1\" >0.9234</td>\n",
       "      <td id=\"T_a4a69_row3_col2\" class=\"data row3 col2\" >0.9407</td>\n",
       "      <td id=\"T_a4a69_row3_col3\" class=\"data row3 col3\" >0.9234</td>\n",
       "      <td id=\"T_a4a69_row3_col4\" class=\"data row3 col4\" >0.9298</td>\n",
       "      <td id=\"T_a4a69_row3_col5\" class=\"data row3 col5\" >0.9261</td>\n",
       "      <td id=\"T_a4a69_row3_col6\" class=\"data row3 col6\" >0.5941</td>\n",
       "      <td id=\"T_a4a69_row3_col7\" class=\"data row3 col7\" >0.5966</td>\n",
       "      <td id=\"T_a4a69_row3_col8\" class=\"data row3 col8\" >0.5950</td>\n",
       "    </tr>\n",
       "    <tr>\n",
       "      <th id=\"T_a4a69_level0_row4\" class=\"row_heading level0 row4\" >rf</th>\n",
       "      <td id=\"T_a4a69_row4_col0\" class=\"data row4 col0\" >Random Forest Classifier</td>\n",
       "      <td id=\"T_a4a69_row4_col1\" class=\"data row4 col1\" >0.9201</td>\n",
       "      <td id=\"T_a4a69_row4_col2\" class=\"data row4 col2\" >0.9439</td>\n",
       "      <td id=\"T_a4a69_row4_col3\" class=\"data row4 col3\" >0.9201</td>\n",
       "      <td id=\"T_a4a69_row4_col4\" class=\"data row4 col4\" >0.9277</td>\n",
       "      <td id=\"T_a4a69_row4_col5\" class=\"data row4 col5\" >0.9233</td>\n",
       "      <td id=\"T_a4a69_row4_col6\" class=\"data row4 col6\" >0.5805</td>\n",
       "      <td id=\"T_a4a69_row4_col7\" class=\"data row4 col7\" >0.5837</td>\n",
       "      <td id=\"T_a4a69_row4_col8\" class=\"data row4 col8\" >3.0100</td>\n",
       "    </tr>\n",
       "    <tr>\n",
       "      <th id=\"T_a4a69_level0_row5\" class=\"row_heading level0 row5\" >gbc</th>\n",
       "      <td id=\"T_a4a69_row5_col0\" class=\"data row5 col0\" >Gradient Boosting Classifier</td>\n",
       "      <td id=\"T_a4a69_row5_col1\" class=\"data row5 col1\" >0.9060</td>\n",
       "      <td id=\"T_a4a69_row5_col2\" class=\"data row5 col2\" >0.9398</td>\n",
       "      <td id=\"T_a4a69_row5_col3\" class=\"data row5 col3\" >0.9060</td>\n",
       "      <td id=\"T_a4a69_row5_col4\" class=\"data row5 col4\" >0.9244</td>\n",
       "      <td id=\"T_a4a69_row5_col5\" class=\"data row5 col5\" >0.9130</td>\n",
       "      <td id=\"T_a4a69_row5_col6\" class=\"data row5 col6\" >0.5466</td>\n",
       "      <td id=\"T_a4a69_row5_col7\" class=\"data row5 col7\" >0.5572</td>\n",
       "      <td id=\"T_a4a69_row5_col8\" class=\"data row5 col8\" >0.8600</td>\n",
       "    </tr>\n",
       "    <tr>\n",
       "      <th id=\"T_a4a69_level0_row6\" class=\"row_heading level0 row6\" >dt</th>\n",
       "      <td id=\"T_a4a69_row6_col0\" class=\"data row6 col0\" >Decision Tree Classifier</td>\n",
       "      <td id=\"T_a4a69_row6_col1\" class=\"data row6 col1\" >0.9060</td>\n",
       "      <td id=\"T_a4a69_row6_col2\" class=\"data row6 col2\" >0.8107</td>\n",
       "      <td id=\"T_a4a69_row6_col3\" class=\"data row6 col3\" >0.9060</td>\n",
       "      <td id=\"T_a4a69_row6_col4\" class=\"data row6 col4\" >0.9217</td>\n",
       "      <td id=\"T_a4a69_row6_col5\" class=\"data row6 col5\" >0.9122</td>\n",
       "      <td id=\"T_a4a69_row6_col6\" class=\"data row6 col6\" >0.5365</td>\n",
       "      <td id=\"T_a4a69_row6_col7\" class=\"data row6 col7\" >0.5445</td>\n",
       "      <td id=\"T_a4a69_row6_col8\" class=\"data row6 col8\" >2.8450</td>\n",
       "    </tr>\n",
       "    <tr>\n",
       "      <th id=\"T_a4a69_level0_row7\" class=\"row_heading level0 row7\" >ada</th>\n",
       "      <td id=\"T_a4a69_row7_col0\" class=\"data row7 col0\" >Ada Boost Classifier</td>\n",
       "      <td id=\"T_a4a69_row7_col1\" class=\"data row7 col1\" >0.8937</td>\n",
       "      <td id=\"T_a4a69_row7_col2\" class=\"data row7 col2\" >0.9264</td>\n",
       "      <td id=\"T_a4a69_row7_col3\" class=\"data row7 col3\" >0.8937</td>\n",
       "      <td id=\"T_a4a69_row7_col4\" class=\"data row7 col4\" >0.9253</td>\n",
       "      <td id=\"T_a4a69_row7_col5\" class=\"data row7 col5\" >0.9048</td>\n",
       "      <td id=\"T_a4a69_row7_col6\" class=\"data row7 col6\" >0.5288</td>\n",
       "      <td id=\"T_a4a69_row7_col7\" class=\"data row7 col7\" >0.5506</td>\n",
       "      <td id=\"T_a4a69_row7_col8\" class=\"data row7 col8\" >0.5950</td>\n",
       "    </tr>\n",
       "    <tr>\n",
       "      <th id=\"T_a4a69_level0_row8\" class=\"row_heading level0 row8\" >knn</th>\n",
       "      <td id=\"T_a4a69_row8_col0\" class=\"data row8 col0\" >K Neighbors Classifier</td>\n",
       "      <td id=\"T_a4a69_row8_col1\" class=\"data row8 col1\" >0.8833</td>\n",
       "      <td id=\"T_a4a69_row8_col2\" class=\"data row8 col2\" >0.9114</td>\n",
       "      <td id=\"T_a4a69_row8_col3\" class=\"data row8 col3\" >0.8833</td>\n",
       "      <td id=\"T_a4a69_row8_col4\" class=\"data row8 col4\" >0.9302</td>\n",
       "      <td id=\"T_a4a69_row8_col5\" class=\"data row8 col5\" >0.8985</td>\n",
       "      <td id=\"T_a4a69_row8_col6\" class=\"data row8 col6\" >0.5246</td>\n",
       "      <td id=\"T_a4a69_row8_col7\" class=\"data row8 col7\" >0.5615</td>\n",
       "      <td id=\"T_a4a69_row8_col8\" class=\"data row8 col8\" >2.6450</td>\n",
       "    </tr>\n",
       "    <tr>\n",
       "      <th id=\"T_a4a69_level0_row9\" class=\"row_heading level0 row9\" >lr</th>\n",
       "      <td id=\"T_a4a69_row9_col0\" class=\"data row9 col0\" >Logistic Regression</td>\n",
       "      <td id=\"T_a4a69_row9_col1\" class=\"data row9 col1\" >0.8455</td>\n",
       "      <td id=\"T_a4a69_row9_col2\" class=\"data row9 col2\" >0.9144</td>\n",
       "      <td id=\"T_a4a69_row9_col3\" class=\"data row9 col3\" >0.8455</td>\n",
       "      <td id=\"T_a4a69_row9_col4\" class=\"data row9 col4\" >0.9220</td>\n",
       "      <td id=\"T_a4a69_row9_col5\" class=\"data row9 col5\" >0.8700</td>\n",
       "      <td id=\"T_a4a69_row9_col6\" class=\"data row9 col6\" >0.4400</td>\n",
       "      <td id=\"T_a4a69_row9_col7\" class=\"data row9 col7\" >0.4938</td>\n",
       "      <td id=\"T_a4a69_row9_col8\" class=\"data row9 col8\" >2.9700</td>\n",
       "    </tr>\n",
       "    <tr>\n",
       "      <th id=\"T_a4a69_level0_row10\" class=\"row_heading level0 row10\" >qda</th>\n",
       "      <td id=\"T_a4a69_row10_col0\" class=\"data row10 col0\" >Quadratic Discriminant Analysis</td>\n",
       "      <td id=\"T_a4a69_row10_col1\" class=\"data row10 col1\" >0.8417</td>\n",
       "      <td id=\"T_a4a69_row10_col2\" class=\"data row10 col2\" >0.9238</td>\n",
       "      <td id=\"T_a4a69_row10_col3\" class=\"data row10 col3\" >0.8417</td>\n",
       "      <td id=\"T_a4a69_row10_col4\" class=\"data row10 col4\" >0.9236</td>\n",
       "      <td id=\"T_a4a69_row10_col5\" class=\"data row10 col5\" >0.8677</td>\n",
       "      <td id=\"T_a4a69_row10_col6\" class=\"data row10 col6\" >0.4421</td>\n",
       "      <td id=\"T_a4a69_row10_col7\" class=\"data row10 col7\" >0.4987</td>\n",
       "      <td id=\"T_a4a69_row10_col8\" class=\"data row10 col8\" >2.8150</td>\n",
       "    </tr>\n",
       "    <tr>\n",
       "      <th id=\"T_a4a69_level0_row11\" class=\"row_heading level0 row11\" >ridge</th>\n",
       "      <td id=\"T_a4a69_row11_col0\" class=\"data row11 col0\" >Ridge Classifier</td>\n",
       "      <td id=\"T_a4a69_row11_col1\" class=\"data row11 col1\" >0.8365</td>\n",
       "      <td id=\"T_a4a69_row11_col2\" class=\"data row11 col2\" >0.0000</td>\n",
       "      <td id=\"T_a4a69_row11_col3\" class=\"data row11 col3\" >0.8365</td>\n",
       "      <td id=\"T_a4a69_row11_col4\" class=\"data row11 col4\" >0.9181</td>\n",
       "      <td id=\"T_a4a69_row11_col5\" class=\"data row11 col5\" >0.8630</td>\n",
       "      <td id=\"T_a4a69_row11_col6\" class=\"data row11 col6\" >0.4161</td>\n",
       "      <td id=\"T_a4a69_row11_col7\" class=\"data row11 col7\" >0.4704</td>\n",
       "      <td id=\"T_a4a69_row11_col8\" class=\"data row11 col8\" >2.7250</td>\n",
       "    </tr>\n",
       "    <tr>\n",
       "      <th id=\"T_a4a69_level0_row12\" class=\"row_heading level0 row12\" >dummy</th>\n",
       "      <td id=\"T_a4a69_row12_col0\" class=\"data row12 col0\" >Dummy Classifier</td>\n",
       "      <td id=\"T_a4a69_row12_col1\" class=\"data row12 col1\" >0.9031</td>\n",
       "      <td id=\"T_a4a69_row12_col2\" class=\"data row12 col2\" >0.5000</td>\n",
       "      <td id=\"T_a4a69_row12_col3\" class=\"data row12 col3\" >0.9031</td>\n",
       "      <td id=\"T_a4a69_row12_col4\" class=\"data row12 col4\" >0.8156</td>\n",
       "      <td id=\"T_a4a69_row12_col5\" class=\"data row12 col5\" >0.8571</td>\n",
       "      <td id=\"T_a4a69_row12_col6\" class=\"data row12 col6\" >0.0000</td>\n",
       "      <td id=\"T_a4a69_row12_col7\" class=\"data row12 col7\" >0.0000</td>\n",
       "      <td id=\"T_a4a69_row12_col8\" class=\"data row12 col8\" >0.5300</td>\n",
       "    </tr>\n",
       "    <tr>\n",
       "      <th id=\"T_a4a69_level0_row13\" class=\"row_heading level0 row13\" >lda</th>\n",
       "      <td id=\"T_a4a69_row13_col0\" class=\"data row13 col0\" >Linear Discriminant Analysis</td>\n",
       "      <td id=\"T_a4a69_row13_col1\" class=\"data row13 col1\" >0.8247</td>\n",
       "      <td id=\"T_a4a69_row13_col2\" class=\"data row13 col2\" >0.9122</td>\n",
       "      <td id=\"T_a4a69_row13_col3\" class=\"data row13 col3\" >0.8247</td>\n",
       "      <td id=\"T_a4a69_row13_col4\" class=\"data row13 col4\" >0.9173</td>\n",
       "      <td id=\"T_a4a69_row13_col5\" class=\"data row13 col5\" >0.8544</td>\n",
       "      <td id=\"T_a4a69_row13_col6\" class=\"data row13 col6\" >0.3978</td>\n",
       "      <td id=\"T_a4a69_row13_col7\" class=\"data row13 col7\" >0.4579</td>\n",
       "      <td id=\"T_a4a69_row13_col8\" class=\"data row13 col8\" >0.4400</td>\n",
       "    </tr>\n",
       "    <tr>\n",
       "      <th id=\"T_a4a69_level0_row14\" class=\"row_heading level0 row14\" >nb</th>\n",
       "      <td id=\"T_a4a69_row14_col0\" class=\"data row14 col0\" >Naive Bayes</td>\n",
       "      <td id=\"T_a4a69_row14_col1\" class=\"data row14 col1\" >0.8228</td>\n",
       "      <td id=\"T_a4a69_row14_col2\" class=\"data row14 col2\" >0.9281</td>\n",
       "      <td id=\"T_a4a69_row14_col3\" class=\"data row14 col3\" >0.8228</td>\n",
       "      <td id=\"T_a4a69_row14_col4\" class=\"data row14 col4\" >0.9230</td>\n",
       "      <td id=\"T_a4a69_row14_col5\" class=\"data row14 col5\" >0.8539</td>\n",
       "      <td id=\"T_a4a69_row14_col6\" class=\"data row14 col6\" >0.4097</td>\n",
       "      <td id=\"T_a4a69_row14_col7\" class=\"data row14 col7\" >0.4790</td>\n",
       "      <td id=\"T_a4a69_row14_col8\" class=\"data row14 col8\" >2.8600</td>\n",
       "    </tr>\n",
       "    <tr>\n",
       "      <th id=\"T_a4a69_level0_row15\" class=\"row_heading level0 row15\" >svm</th>\n",
       "      <td id=\"T_a4a69_row15_col0\" class=\"data row15 col0\" >SVM - Linear Kernel</td>\n",
       "      <td id=\"T_a4a69_row15_col1\" class=\"data row15 col1\" >0.7987</td>\n",
       "      <td id=\"T_a4a69_row15_col2\" class=\"data row15 col2\" >0.0000</td>\n",
       "      <td id=\"T_a4a69_row15_col3\" class=\"data row15 col3\" >0.7987</td>\n",
       "      <td id=\"T_a4a69_row15_col4\" class=\"data row15 col4\" >0.9226</td>\n",
       "      <td id=\"T_a4a69_row15_col5\" class=\"data row15 col5\" >0.8362</td>\n",
       "      <td id=\"T_a4a69_row15_col6\" class=\"data row15 col6\" >0.3791</td>\n",
       "      <td id=\"T_a4a69_row15_col7\" class=\"data row15 col7\" >0.4594</td>\n",
       "      <td id=\"T_a4a69_row15_col8\" class=\"data row15 col8\" >2.9000</td>\n",
       "    </tr>\n",
       "  </tbody>\n",
       "</table>\n"
      ],
      "text/plain": [
       "<pandas.io.formats.style.Styler at 0x16832b5e0b0>"
      ]
     },
     "metadata": {},
     "output_type": "display_data"
    },
    {
     "data": {
      "text/html": [],
      "text/plain": [
       "<IPython.core.display.HTML object>"
      ]
     },
     "metadata": {},
     "output_type": "display_data"
    },
    {
     "data": {
      "text/html": [
       "<style>#sk-container-id-1 {color: black;background-color: white;}#sk-container-id-1 pre{padding: 0;}#sk-container-id-1 div.sk-toggleable {background-color: white;}#sk-container-id-1 label.sk-toggleable__label {cursor: pointer;display: block;width: 100%;margin-bottom: 0;padding: 0.3em;box-sizing: border-box;text-align: center;}#sk-container-id-1 label.sk-toggleable__label-arrow:before {content: \"▸\";float: left;margin-right: 0.25em;color: #696969;}#sk-container-id-1 label.sk-toggleable__label-arrow:hover:before {color: black;}#sk-container-id-1 div.sk-estimator:hover label.sk-toggleable__label-arrow:before {color: black;}#sk-container-id-1 div.sk-toggleable__content {max-height: 0;max-width: 0;overflow: hidden;text-align: left;background-color: #f0f8ff;}#sk-container-id-1 div.sk-toggleable__content pre {margin: 0.2em;color: black;border-radius: 0.25em;background-color: #f0f8ff;}#sk-container-id-1 input.sk-toggleable__control:checked~div.sk-toggleable__content {max-height: 200px;max-width: 100%;overflow: auto;}#sk-container-id-1 input.sk-toggleable__control:checked~label.sk-toggleable__label-arrow:before {content: \"▾\";}#sk-container-id-1 div.sk-estimator input.sk-toggleable__control:checked~label.sk-toggleable__label {background-color: #d4ebff;}#sk-container-id-1 div.sk-label input.sk-toggleable__control:checked~label.sk-toggleable__label {background-color: #d4ebff;}#sk-container-id-1 input.sk-hidden--visually {border: 0;clip: rect(1px 1px 1px 1px);clip: rect(1px, 1px, 1px, 1px);height: 1px;margin: -1px;overflow: hidden;padding: 0;position: absolute;width: 1px;}#sk-container-id-1 div.sk-estimator {font-family: monospace;background-color: #f0f8ff;border: 1px dotted black;border-radius: 0.25em;box-sizing: border-box;margin-bottom: 0.5em;}#sk-container-id-1 div.sk-estimator:hover {background-color: #d4ebff;}#sk-container-id-1 div.sk-parallel-item::after {content: \"\";width: 100%;border-bottom: 1px solid gray;flex-grow: 1;}#sk-container-id-1 div.sk-label:hover label.sk-toggleable__label {background-color: #d4ebff;}#sk-container-id-1 div.sk-serial::before {content: \"\";position: absolute;border-left: 1px solid gray;box-sizing: border-box;top: 0;bottom: 0;left: 50%;z-index: 0;}#sk-container-id-1 div.sk-serial {display: flex;flex-direction: column;align-items: center;background-color: white;padding-right: 0.2em;padding-left: 0.2em;position: relative;}#sk-container-id-1 div.sk-item {position: relative;z-index: 1;}#sk-container-id-1 div.sk-parallel {display: flex;align-items: stretch;justify-content: center;background-color: white;position: relative;}#sk-container-id-1 div.sk-item::before, #sk-container-id-1 div.sk-parallel-item::before {content: \"\";position: absolute;border-left: 1px solid gray;box-sizing: border-box;top: 0;bottom: 0;left: 50%;z-index: -1;}#sk-container-id-1 div.sk-parallel-item {display: flex;flex-direction: column;z-index: 1;position: relative;background-color: white;}#sk-container-id-1 div.sk-parallel-item:first-child::after {align-self: flex-end;width: 50%;}#sk-container-id-1 div.sk-parallel-item:last-child::after {align-self: flex-start;width: 50%;}#sk-container-id-1 div.sk-parallel-item:only-child::after {width: 0;}#sk-container-id-1 div.sk-dashed-wrapped {border: 1px dashed gray;margin: 0 0.4em 0.5em 0.4em;box-sizing: border-box;padding-bottom: 0.4em;background-color: white;}#sk-container-id-1 div.sk-label label {font-family: monospace;font-weight: bold;display: inline-block;line-height: 1.2em;}#sk-container-id-1 div.sk-label-container {text-align: center;}#sk-container-id-1 div.sk-container {/* jupyter's `normalize.less` sets `[hidden] { display: none; }` but bootstrap.min.css set `[hidden] { display: none !important; }` so we also need the `!important` here to be able to override the default hidden behavior on the sphinx rendered scikit-learn.org. See: https://github.com/scikit-learn/scikit-learn/issues/21755 */display: inline-block !important;position: relative;}#sk-container-id-1 div.sk-text-repr-fallback {display: none;}</style><div id=\"sk-container-id-1\" class=\"sk-top-container\"><div class=\"sk-text-repr-fallback\"><pre>ExtraTreesClassifier(bootstrap=False, ccp_alpha=0.0, class_weight=None,\n",
       "                     criterion=&#x27;gini&#x27;, max_depth=None, max_features=&#x27;sqrt&#x27;,\n",
       "                     max_leaf_nodes=None, max_samples=None,\n",
       "                     min_impurity_decrease=0.0, min_samples_leaf=1,\n",
       "                     min_samples_split=2, min_weight_fraction_leaf=0.0,\n",
       "                     n_estimators=100, n_jobs=-1, oob_score=False,\n",
       "                     random_state=6221, verbose=0, warm_start=False)</pre><b>In a Jupyter environment, please rerun this cell to show the HTML representation or trust the notebook. <br />On GitHub, the HTML representation is unable to render, please try loading this page with nbviewer.org.</b></div><div class=\"sk-container\" hidden><div class=\"sk-item\"><div class=\"sk-estimator sk-toggleable\"><input class=\"sk-toggleable__control sk-hidden--visually\" id=\"sk-estimator-id-1\" type=\"checkbox\" checked><label for=\"sk-estimator-id-1\" class=\"sk-toggleable__label sk-toggleable__label-arrow\">ExtraTreesClassifier</label><div class=\"sk-toggleable__content\"><pre>ExtraTreesClassifier(bootstrap=False, ccp_alpha=0.0, class_weight=None,\n",
       "                     criterion=&#x27;gini&#x27;, max_depth=None, max_features=&#x27;sqrt&#x27;,\n",
       "                     max_leaf_nodes=None, max_samples=None,\n",
       "                     min_impurity_decrease=0.0, min_samples_leaf=1,\n",
       "                     min_samples_split=2, min_weight_fraction_leaf=0.0,\n",
       "                     n_estimators=100, n_jobs=-1, oob_score=False,\n",
       "                     random_state=6221, verbose=0, warm_start=False)</pre></div></div></div></div></div>"
      ],
      "text/plain": [
       "ExtraTreesClassifier(bootstrap=False, ccp_alpha=0.0, class_weight=None,\n",
       "                     criterion='gini', max_depth=None, max_features='sqrt',\n",
       "                     max_leaf_nodes=None, max_samples=None,\n",
       "                     min_impurity_decrease=0.0, min_samples_leaf=1,\n",
       "                     min_samples_split=2, min_weight_fraction_leaf=0.0,\n",
       "                     n_estimators=100, n_jobs=-1, oob_score=False,\n",
       "                     random_state=6221, verbose=0, warm_start=False)"
      ]
     },
     "execution_count": 8,
     "metadata": {},
     "output_type": "execute_result"
    }
   ],
   "source": [
    "models = compare_models(sort=\"F1\", fold=2)\n",
    "models"
   ]
  },
  {
   "cell_type": "code",
   "execution_count": 9,
   "id": "60c2f7b7-137c-429b-8d53-11302166e318",
   "metadata": {},
   "outputs": [
    {
     "data": {
      "text/html": [
       "<div>\n",
       "<style scoped>\n",
       "    .dataframe tbody tr th:only-of-type {\n",
       "        vertical-align: middle;\n",
       "    }\n",
       "\n",
       "    .dataframe tbody tr th {\n",
       "        vertical-align: top;\n",
       "    }\n",
       "\n",
       "    .dataframe thead th {\n",
       "        text-align: right;\n",
       "    }\n",
       "</style>\n",
       "<table border=\"1\" class=\"dataframe\">\n",
       "  <thead>\n",
       "    <tr style=\"text-align: right;\">\n",
       "      <th></th>\n",
       "      <th>Model</th>\n",
       "      <th>Accuracy</th>\n",
       "      <th>AUC</th>\n",
       "      <th>Recall</th>\n",
       "      <th>Prec.</th>\n",
       "      <th>F1</th>\n",
       "      <th>Kappa</th>\n",
       "      <th>MCC</th>\n",
       "      <th>TT (Sec)</th>\n",
       "    </tr>\n",
       "  </thead>\n",
       "  <tbody>\n",
       "    <tr>\n",
       "      <th>et</th>\n",
       "      <td>Extra Trees Classifier</td>\n",
       "      <td>0.9334</td>\n",
       "      <td>0.9567</td>\n",
       "      <td>0.9334</td>\n",
       "      <td>0.9407</td>\n",
       "      <td>0.9363</td>\n",
       "      <td>0.6534</td>\n",
       "      <td>0.6574</td>\n",
       "      <td>0.640</td>\n",
       "    </tr>\n",
       "    <tr>\n",
       "      <th>catboost</th>\n",
       "      <td>CatBoost Classifier</td>\n",
       "      <td>0.9310</td>\n",
       "      <td>0.9538</td>\n",
       "      <td>0.9310</td>\n",
       "      <td>0.9398</td>\n",
       "      <td>0.9344</td>\n",
       "      <td>0.6456</td>\n",
       "      <td>0.6508</td>\n",
       "      <td>2.835</td>\n",
       "    </tr>\n",
       "    <tr>\n",
       "      <th>xgboost</th>\n",
       "      <td>Extreme Gradient Boosting</td>\n",
       "      <td>0.9272</td>\n",
       "      <td>0.9495</td>\n",
       "      <td>0.9272</td>\n",
       "      <td>0.9353</td>\n",
       "      <td>0.9304</td>\n",
       "      <td>0.6220</td>\n",
       "      <td>0.6261</td>\n",
       "      <td>0.455</td>\n",
       "    </tr>\n",
       "    <tr>\n",
       "      <th>lightgbm</th>\n",
       "      <td>Light Gradient Boosting Machine</td>\n",
       "      <td>0.9234</td>\n",
       "      <td>0.9407</td>\n",
       "      <td>0.9234</td>\n",
       "      <td>0.9298</td>\n",
       "      <td>0.9261</td>\n",
       "      <td>0.5941</td>\n",
       "      <td>0.5966</td>\n",
       "      <td>0.595</td>\n",
       "    </tr>\n",
       "    <tr>\n",
       "      <th>rf</th>\n",
       "      <td>Random Forest Classifier</td>\n",
       "      <td>0.9201</td>\n",
       "      <td>0.9439</td>\n",
       "      <td>0.9201</td>\n",
       "      <td>0.9277</td>\n",
       "      <td>0.9233</td>\n",
       "      <td>0.5805</td>\n",
       "      <td>0.5837</td>\n",
       "      <td>3.010</td>\n",
       "    </tr>\n",
       "    <tr>\n",
       "      <th>gbc</th>\n",
       "      <td>Gradient Boosting Classifier</td>\n",
       "      <td>0.9060</td>\n",
       "      <td>0.9398</td>\n",
       "      <td>0.9060</td>\n",
       "      <td>0.9244</td>\n",
       "      <td>0.9130</td>\n",
       "      <td>0.5466</td>\n",
       "      <td>0.5572</td>\n",
       "      <td>0.860</td>\n",
       "    </tr>\n",
       "    <tr>\n",
       "      <th>dt</th>\n",
       "      <td>Decision Tree Classifier</td>\n",
       "      <td>0.9060</td>\n",
       "      <td>0.8107</td>\n",
       "      <td>0.9060</td>\n",
       "      <td>0.9217</td>\n",
       "      <td>0.9122</td>\n",
       "      <td>0.5365</td>\n",
       "      <td>0.5445</td>\n",
       "      <td>2.845</td>\n",
       "    </tr>\n",
       "    <tr>\n",
       "      <th>ada</th>\n",
       "      <td>Ada Boost Classifier</td>\n",
       "      <td>0.8937</td>\n",
       "      <td>0.9264</td>\n",
       "      <td>0.8937</td>\n",
       "      <td>0.9253</td>\n",
       "      <td>0.9048</td>\n",
       "      <td>0.5288</td>\n",
       "      <td>0.5506</td>\n",
       "      <td>0.595</td>\n",
       "    </tr>\n",
       "    <tr>\n",
       "      <th>knn</th>\n",
       "      <td>K Neighbors Classifier</td>\n",
       "      <td>0.8833</td>\n",
       "      <td>0.9114</td>\n",
       "      <td>0.8833</td>\n",
       "      <td>0.9302</td>\n",
       "      <td>0.8985</td>\n",
       "      <td>0.5246</td>\n",
       "      <td>0.5615</td>\n",
       "      <td>2.645</td>\n",
       "    </tr>\n",
       "    <tr>\n",
       "      <th>lr</th>\n",
       "      <td>Logistic Regression</td>\n",
       "      <td>0.8455</td>\n",
       "      <td>0.9144</td>\n",
       "      <td>0.8455</td>\n",
       "      <td>0.9220</td>\n",
       "      <td>0.8700</td>\n",
       "      <td>0.4400</td>\n",
       "      <td>0.4938</td>\n",
       "      <td>2.970</td>\n",
       "    </tr>\n",
       "    <tr>\n",
       "      <th>qda</th>\n",
       "      <td>Quadratic Discriminant Analysis</td>\n",
       "      <td>0.8417</td>\n",
       "      <td>0.9238</td>\n",
       "      <td>0.8417</td>\n",
       "      <td>0.9236</td>\n",
       "      <td>0.8677</td>\n",
       "      <td>0.4421</td>\n",
       "      <td>0.4987</td>\n",
       "      <td>2.815</td>\n",
       "    </tr>\n",
       "    <tr>\n",
       "      <th>ridge</th>\n",
       "      <td>Ridge Classifier</td>\n",
       "      <td>0.8365</td>\n",
       "      <td>0.0000</td>\n",
       "      <td>0.8365</td>\n",
       "      <td>0.9181</td>\n",
       "      <td>0.8630</td>\n",
       "      <td>0.4161</td>\n",
       "      <td>0.4704</td>\n",
       "      <td>2.725</td>\n",
       "    </tr>\n",
       "    <tr>\n",
       "      <th>dummy</th>\n",
       "      <td>Dummy Classifier</td>\n",
       "      <td>0.9031</td>\n",
       "      <td>0.5000</td>\n",
       "      <td>0.9031</td>\n",
       "      <td>0.8156</td>\n",
       "      <td>0.8571</td>\n",
       "      <td>0.0000</td>\n",
       "      <td>0.0000</td>\n",
       "      <td>0.530</td>\n",
       "    </tr>\n",
       "    <tr>\n",
       "      <th>lda</th>\n",
       "      <td>Linear Discriminant Analysis</td>\n",
       "      <td>0.8247</td>\n",
       "      <td>0.9122</td>\n",
       "      <td>0.8247</td>\n",
       "      <td>0.9173</td>\n",
       "      <td>0.8544</td>\n",
       "      <td>0.3978</td>\n",
       "      <td>0.4579</td>\n",
       "      <td>0.440</td>\n",
       "    </tr>\n",
       "    <tr>\n",
       "      <th>nb</th>\n",
       "      <td>Naive Bayes</td>\n",
       "      <td>0.8228</td>\n",
       "      <td>0.9281</td>\n",
       "      <td>0.8228</td>\n",
       "      <td>0.9230</td>\n",
       "      <td>0.8539</td>\n",
       "      <td>0.4097</td>\n",
       "      <td>0.4790</td>\n",
       "      <td>2.860</td>\n",
       "    </tr>\n",
       "    <tr>\n",
       "      <th>svm</th>\n",
       "      <td>SVM - Linear Kernel</td>\n",
       "      <td>0.7987</td>\n",
       "      <td>0.0000</td>\n",
       "      <td>0.7987</td>\n",
       "      <td>0.9226</td>\n",
       "      <td>0.8362</td>\n",
       "      <td>0.3791</td>\n",
       "      <td>0.4594</td>\n",
       "      <td>2.900</td>\n",
       "    </tr>\n",
       "  </tbody>\n",
       "</table>\n",
       "</div>"
      ],
      "text/plain": [
       "                                    Model  Accuracy     AUC  Recall   Prec.  \\\n",
       "et                 Extra Trees Classifier    0.9334  0.9567  0.9334  0.9407   \n",
       "catboost              CatBoost Classifier    0.9310  0.9538  0.9310  0.9398   \n",
       "xgboost         Extreme Gradient Boosting    0.9272  0.9495  0.9272  0.9353   \n",
       "lightgbm  Light Gradient Boosting Machine    0.9234  0.9407  0.9234  0.9298   \n",
       "rf               Random Forest Classifier    0.9201  0.9439  0.9201  0.9277   \n",
       "gbc          Gradient Boosting Classifier    0.9060  0.9398  0.9060  0.9244   \n",
       "dt               Decision Tree Classifier    0.9060  0.8107  0.9060  0.9217   \n",
       "ada                  Ada Boost Classifier    0.8937  0.9264  0.8937  0.9253   \n",
       "knn                K Neighbors Classifier    0.8833  0.9114  0.8833  0.9302   \n",
       "lr                    Logistic Regression    0.8455  0.9144  0.8455  0.9220   \n",
       "qda       Quadratic Discriminant Analysis    0.8417  0.9238  0.8417  0.9236   \n",
       "ridge                    Ridge Classifier    0.8365  0.0000  0.8365  0.9181   \n",
       "dummy                    Dummy Classifier    0.9031  0.5000  0.9031  0.8156   \n",
       "lda          Linear Discriminant Analysis    0.8247  0.9122  0.8247  0.9173   \n",
       "nb                            Naive Bayes    0.8228  0.9281  0.8228  0.9230   \n",
       "svm                   SVM - Linear Kernel    0.7987  0.0000  0.7987  0.9226   \n",
       "\n",
       "              F1   Kappa     MCC  TT (Sec)  \n",
       "et        0.9363  0.6534  0.6574     0.640  \n",
       "catboost  0.9344  0.6456  0.6508     2.835  \n",
       "xgboost   0.9304  0.6220  0.6261     0.455  \n",
       "lightgbm  0.9261  0.5941  0.5966     0.595  \n",
       "rf        0.9233  0.5805  0.5837     3.010  \n",
       "gbc       0.9130  0.5466  0.5572     0.860  \n",
       "dt        0.9122  0.5365  0.5445     2.845  \n",
       "ada       0.9048  0.5288  0.5506     0.595  \n",
       "knn       0.8985  0.5246  0.5615     2.645  \n",
       "lr        0.8700  0.4400  0.4938     2.970  \n",
       "qda       0.8677  0.4421  0.4987     2.815  \n",
       "ridge     0.8630  0.4161  0.4704     2.725  \n",
       "dummy     0.8571  0.0000  0.0000     0.530  \n",
       "lda       0.8544  0.3978  0.4579     0.440  \n",
       "nb        0.8539  0.4097  0.4790     2.860  \n",
       "svm       0.8362  0.3791  0.4594     2.900  "
      ]
     },
     "execution_count": 9,
     "metadata": {},
     "output_type": "execute_result"
    }
   ],
   "source": [
    "cnt_models_df = pull()\n",
    "cnt_models_df"
   ]
  },
  {
   "cell_type": "code",
   "execution_count": 10,
   "id": "752fc18f-fc4c-485c-904b-b66ca8a227eb",
   "metadata": {},
   "outputs": [
    {
     "data": {
      "text/html": [],
      "text/plain": [
       "<IPython.core.display.HTML object>"
      ]
     },
     "metadata": {},
     "output_type": "display_data"
    },
    {
     "data": {
      "text/html": [
       "<style type=\"text/css\">\n",
       "#T_e6dc9_row2_col0, #T_e6dc9_row2_col1, #T_e6dc9_row2_col2, #T_e6dc9_row2_col3, #T_e6dc9_row2_col4, #T_e6dc9_row2_col5, #T_e6dc9_row2_col6 {\n",
       "  background: yellow;\n",
       "}\n",
       "</style>\n",
       "<table id=\"T_e6dc9\">\n",
       "  <thead>\n",
       "    <tr>\n",
       "      <th class=\"blank level0\" >&nbsp;</th>\n",
       "      <th id=\"T_e6dc9_level0_col0\" class=\"col_heading level0 col0\" >Accuracy</th>\n",
       "      <th id=\"T_e6dc9_level0_col1\" class=\"col_heading level0 col1\" >AUC</th>\n",
       "      <th id=\"T_e6dc9_level0_col2\" class=\"col_heading level0 col2\" >Recall</th>\n",
       "      <th id=\"T_e6dc9_level0_col3\" class=\"col_heading level0 col3\" >Prec.</th>\n",
       "      <th id=\"T_e6dc9_level0_col4\" class=\"col_heading level0 col4\" >F1</th>\n",
       "      <th id=\"T_e6dc9_level0_col5\" class=\"col_heading level0 col5\" >Kappa</th>\n",
       "      <th id=\"T_e6dc9_level0_col6\" class=\"col_heading level0 col6\" >MCC</th>\n",
       "    </tr>\n",
       "    <tr>\n",
       "      <th class=\"index_name level0\" >Fold</th>\n",
       "      <th class=\"blank col0\" >&nbsp;</th>\n",
       "      <th class=\"blank col1\" >&nbsp;</th>\n",
       "      <th class=\"blank col2\" >&nbsp;</th>\n",
       "      <th class=\"blank col3\" >&nbsp;</th>\n",
       "      <th class=\"blank col4\" >&nbsp;</th>\n",
       "      <th class=\"blank col5\" >&nbsp;</th>\n",
       "      <th class=\"blank col6\" >&nbsp;</th>\n",
       "    </tr>\n",
       "  </thead>\n",
       "  <tbody>\n",
       "    <tr>\n",
       "      <th id=\"T_e6dc9_level0_row0\" class=\"row_heading level0 row0\" >0</th>\n",
       "      <td id=\"T_e6dc9_row0_col0\" class=\"data row0 col0\" >0.9301</td>\n",
       "      <td id=\"T_e6dc9_row0_col1\" class=\"data row0 col1\" >0.9538</td>\n",
       "      <td id=\"T_e6dc9_row0_col2\" class=\"data row0 col2\" >0.9301</td>\n",
       "      <td id=\"T_e6dc9_row0_col3\" class=\"data row0 col3\" >0.9361</td>\n",
       "      <td id=\"T_e6dc9_row0_col4\" class=\"data row0 col4\" >0.9326</td>\n",
       "      <td id=\"T_e6dc9_row0_col5\" class=\"data row0 col5\" >0.6279</td>\n",
       "      <td id=\"T_e6dc9_row0_col6\" class=\"data row0 col6\" >0.6305</td>\n",
       "    </tr>\n",
       "    <tr>\n",
       "      <th id=\"T_e6dc9_level0_row1\" class=\"row_heading level0 row1\" >1</th>\n",
       "      <td id=\"T_e6dc9_row1_col0\" class=\"data row1 col0\" >0.9282</td>\n",
       "      <td id=\"T_e6dc9_row1_col1\" class=\"data row1 col1\" >0.9581</td>\n",
       "      <td id=\"T_e6dc9_row1_col2\" class=\"data row1 col2\" >0.9282</td>\n",
       "      <td id=\"T_e6dc9_row1_col3\" class=\"data row1 col3\" >0.9357</td>\n",
       "      <td id=\"T_e6dc9_row1_col4\" class=\"data row1 col4\" >0.9312</td>\n",
       "      <td id=\"T_e6dc9_row1_col5\" class=\"data row1 col5\" >0.6268</td>\n",
       "      <td id=\"T_e6dc9_row1_col6\" class=\"data row1 col6\" >0.6305</td>\n",
       "    </tr>\n",
       "    <tr>\n",
       "      <th id=\"T_e6dc9_level0_row2\" class=\"row_heading level0 row2\" >Mean</th>\n",
       "      <td id=\"T_e6dc9_row2_col0\" class=\"data row2 col0\" >0.9291</td>\n",
       "      <td id=\"T_e6dc9_row2_col1\" class=\"data row2 col1\" >0.9559</td>\n",
       "      <td id=\"T_e6dc9_row2_col2\" class=\"data row2 col2\" >0.9291</td>\n",
       "      <td id=\"T_e6dc9_row2_col3\" class=\"data row2 col3\" >0.9359</td>\n",
       "      <td id=\"T_e6dc9_row2_col4\" class=\"data row2 col4\" >0.9319</td>\n",
       "      <td id=\"T_e6dc9_row2_col5\" class=\"data row2 col5\" >0.6274</td>\n",
       "      <td id=\"T_e6dc9_row2_col6\" class=\"data row2 col6\" >0.6305</td>\n",
       "    </tr>\n",
       "    <tr>\n",
       "      <th id=\"T_e6dc9_level0_row3\" class=\"row_heading level0 row3\" >Std</th>\n",
       "      <td id=\"T_e6dc9_row3_col0\" class=\"data row3 col0\" >0.0009</td>\n",
       "      <td id=\"T_e6dc9_row3_col1\" class=\"data row3 col1\" >0.0022</td>\n",
       "      <td id=\"T_e6dc9_row3_col2\" class=\"data row3 col2\" >0.0009</td>\n",
       "      <td id=\"T_e6dc9_row3_col3\" class=\"data row3 col3\" >0.0002</td>\n",
       "      <td id=\"T_e6dc9_row3_col4\" class=\"data row3 col4\" >0.0007</td>\n",
       "      <td id=\"T_e6dc9_row3_col5\" class=\"data row3 col5\" >0.0005</td>\n",
       "      <td id=\"T_e6dc9_row3_col6\" class=\"data row3 col6\" >0.0000</td>\n",
       "    </tr>\n",
       "  </tbody>\n",
       "</table>\n"
      ],
      "text/plain": [
       "<pandas.io.formats.style.Styler at 0x16832b30940>"
      ]
     },
     "metadata": {},
     "output_type": "display_data"
    },
    {
     "data": {
      "text/html": [],
      "text/plain": [
       "<IPython.core.display.HTML object>"
      ]
     },
     "metadata": {},
     "output_type": "display_data"
    }
   ],
   "source": [
    "clf = create_model('et', fold = 2)"
   ]
  },
  {
   "cell_type": "code",
   "execution_count": 11,
   "id": "cf71950e-47b5-450e-924d-7764764806a7",
   "metadata": {},
   "outputs": [
    {
     "data": {
      "text/html": [],
      "text/plain": [
       "<IPython.core.display.HTML object>"
      ]
     },
     "metadata": {},
     "output_type": "display_data"
    },
    {
     "data": {
      "text/html": [
       "<style type=\"text/css\">\n",
       "#T_d1106_row2_col0, #T_d1106_row2_col1, #T_d1106_row2_col2, #T_d1106_row2_col3, #T_d1106_row2_col4, #T_d1106_row2_col5, #T_d1106_row2_col6 {\n",
       "  background: yellow;\n",
       "}\n",
       "</style>\n",
       "<table id=\"T_d1106\">\n",
       "  <thead>\n",
       "    <tr>\n",
       "      <th class=\"blank level0\" >&nbsp;</th>\n",
       "      <th id=\"T_d1106_level0_col0\" class=\"col_heading level0 col0\" >Accuracy</th>\n",
       "      <th id=\"T_d1106_level0_col1\" class=\"col_heading level0 col1\" >AUC</th>\n",
       "      <th id=\"T_d1106_level0_col2\" class=\"col_heading level0 col2\" >Recall</th>\n",
       "      <th id=\"T_d1106_level0_col3\" class=\"col_heading level0 col3\" >Prec.</th>\n",
       "      <th id=\"T_d1106_level0_col4\" class=\"col_heading level0 col4\" >F1</th>\n",
       "      <th id=\"T_d1106_level0_col5\" class=\"col_heading level0 col5\" >Kappa</th>\n",
       "      <th id=\"T_d1106_level0_col6\" class=\"col_heading level0 col6\" >MCC</th>\n",
       "    </tr>\n",
       "    <tr>\n",
       "      <th class=\"index_name level0\" >Fold</th>\n",
       "      <th class=\"blank col0\" >&nbsp;</th>\n",
       "      <th class=\"blank col1\" >&nbsp;</th>\n",
       "      <th class=\"blank col2\" >&nbsp;</th>\n",
       "      <th class=\"blank col3\" >&nbsp;</th>\n",
       "      <th class=\"blank col4\" >&nbsp;</th>\n",
       "      <th class=\"blank col5\" >&nbsp;</th>\n",
       "      <th class=\"blank col6\" >&nbsp;</th>\n",
       "    </tr>\n",
       "  </thead>\n",
       "  <tbody>\n",
       "    <tr>\n",
       "      <th id=\"T_d1106_level0_row0\" class=\"row_heading level0 row0\" >0</th>\n",
       "      <td id=\"T_d1106_row0_col0\" class=\"data row0 col0\" >0.8932</td>\n",
       "      <td id=\"T_d1106_row0_col1\" class=\"data row0 col1\" >0.9534</td>\n",
       "      <td id=\"T_d1106_row0_col2\" class=\"data row0 col2\" >0.8932</td>\n",
       "      <td id=\"T_d1106_row0_col3\" class=\"data row0 col3\" >0.9314</td>\n",
       "      <td id=\"T_d1106_row0_col4\" class=\"data row0 col4\" >0.9058</td>\n",
       "      <td id=\"T_d1106_row0_col5\" class=\"data row0 col5\" >0.5445</td>\n",
       "      <td id=\"T_d1106_row0_col6\" class=\"data row0 col6\" >0.5744</td>\n",
       "    </tr>\n",
       "    <tr>\n",
       "      <th id=\"T_d1106_level0_row1\" class=\"row_heading level0 row1\" >1</th>\n",
       "      <td id=\"T_d1106_row1_col0\" class=\"data row1 col0\" >0.8866</td>\n",
       "      <td id=\"T_d1106_row1_col1\" class=\"data row1 col1\" >0.9575</td>\n",
       "      <td id=\"T_d1106_row1_col2\" class=\"data row1 col2\" >0.8866</td>\n",
       "      <td id=\"T_d1106_row1_col3\" class=\"data row1 col3\" >0.9346</td>\n",
       "      <td id=\"T_d1106_row1_col4\" class=\"data row1 col4\" >0.9016</td>\n",
       "      <td id=\"T_d1106_row1_col5\" class=\"data row1 col5\" >0.5442</td>\n",
       "      <td id=\"T_d1106_row1_col6\" class=\"data row1 col6\" >0.5844</td>\n",
       "    </tr>\n",
       "    <tr>\n",
       "      <th id=\"T_d1106_level0_row2\" class=\"row_heading level0 row2\" >Mean</th>\n",
       "      <td id=\"T_d1106_row2_col0\" class=\"data row2 col0\" >0.8899</td>\n",
       "      <td id=\"T_d1106_row2_col1\" class=\"data row2 col1\" >0.9554</td>\n",
       "      <td id=\"T_d1106_row2_col2\" class=\"data row2 col2\" >0.8899</td>\n",
       "      <td id=\"T_d1106_row2_col3\" class=\"data row2 col3\" >0.9330</td>\n",
       "      <td id=\"T_d1106_row2_col4\" class=\"data row2 col4\" >0.9037</td>\n",
       "      <td id=\"T_d1106_row2_col5\" class=\"data row2 col5\" >0.5444</td>\n",
       "      <td id=\"T_d1106_row2_col6\" class=\"data row2 col6\" >0.5794</td>\n",
       "    </tr>\n",
       "    <tr>\n",
       "      <th id=\"T_d1106_level0_row3\" class=\"row_heading level0 row3\" >Std</th>\n",
       "      <td id=\"T_d1106_row3_col0\" class=\"data row3 col0\" >0.0033</td>\n",
       "      <td id=\"T_d1106_row3_col1\" class=\"data row3 col1\" >0.0021</td>\n",
       "      <td id=\"T_d1106_row3_col2\" class=\"data row3 col2\" >0.0033</td>\n",
       "      <td id=\"T_d1106_row3_col3\" class=\"data row3 col3\" >0.0016</td>\n",
       "      <td id=\"T_d1106_row3_col4\" class=\"data row3 col4\" >0.0021</td>\n",
       "      <td id=\"T_d1106_row3_col5\" class=\"data row3 col5\" >0.0002</td>\n",
       "      <td id=\"T_d1106_row3_col6\" class=\"data row3 col6\" >0.0050</td>\n",
       "    </tr>\n",
       "  </tbody>\n",
       "</table>\n"
      ],
      "text/plain": [
       "<pandas.io.formats.style.Styler at 0x16832b5e050>"
      ]
     },
     "metadata": {},
     "output_type": "display_data"
    },
    {
     "data": {
      "text/html": [],
      "text/plain": [
       "<IPython.core.display.HTML object>"
      ]
     },
     "metadata": {},
     "output_type": "display_data"
    },
    {
     "name": "stdout",
     "output_type": "stream",
     "text": [
      "Fitting 2 folds for each of 10 candidates, totalling 20 fits\n",
      "Original model was better than the tuned model, hence it will be returned. NOTE: The display metrics are for the tuned model (not the original one).\n"
     ]
    }
   ],
   "source": [
    "tuned_clf = tune_model(clf, optimize = 'F1', fold = 2)"
   ]
  },
  {
   "cell_type": "code",
   "execution_count": 12,
   "id": "e486818e-0ff1-41e1-9373-dfc61819330f",
   "metadata": {},
   "outputs": [
    {
     "name": "stdout",
     "output_type": "stream",
     "text": [
      "Total of features:  10\n"
     ]
    }
   ],
   "source": [
    "print(\"Total of features: \", len(tuned_clf.feature_importances_))"
   ]
  },
  {
   "cell_type": "code",
   "execution_count": 13,
   "id": "fbab49c7-4519-4e8b-add7-04793f2b9294",
   "metadata": {},
   "outputs": [
    {
     "data": {
      "application/vnd.jupyter.widget-view+json": {
       "model_id": "f726b56a5cb74d51bace1ef917619f48",
       "version_major": 2,
       "version_minor": 0
      },
      "text/plain": [
       "interactive(children=(ToggleButtons(description='Plot Type:', icons=('',), options=(('Pipeline Plot', 'pipelin…"
      ]
     },
     "metadata": {},
     "output_type": "display_data"
    }
   ],
   "source": [
    "evaluate_model(tuned_clf)"
   ]
  },
  {
   "cell_type": "code",
   "execution_count": 14,
   "id": "e6e6c0ed-0a91-4b6f-bb3f-a903a55b2f42",
   "metadata": {},
   "outputs": [],
   "source": [
    "model_final = finalize_model(tuned_clf)"
   ]
  },
  {
   "cell_type": "code",
   "execution_count": 15,
   "id": "78963d0a-852c-4f4d-80ab-22ddaabc51ee",
   "metadata": {},
   "outputs": [
    {
     "name": "stdout",
     "output_type": "stream",
     "text": [
      "Transformation Pipeline and Model Successfully Saved\n"
     ]
    },
    {
     "data": {
      "text/plain": [
       "(Pipeline(memory=Memory(location=None),\n",
       "          steps=[('label_encoding',\n",
       "                  TransformerWrapperWithInverse(exclude=None, include=None,\n",
       "                                                transformer=LabelEncoder())),\n",
       "                 ('numerical_imputer',\n",
       "                  TransformerWrapper(exclude=None,\n",
       "                                     include=['linAccX_mean', 'linAccX_std',\n",
       "                                              'linAccX_median',\n",
       "                                              'linAccX_skewness',\n",
       "                                              'linAccX_kurtosis', 'linAccX_min',\n",
       "                                              'linAccX_max', 'linAccX_range',\n",
       "                                              'linAccX_qua...\n",
       "                  ExtraTreesClassifier(bootstrap=False, ccp_alpha=0.0,\n",
       "                                       class_weight=None, criterion='gini',\n",
       "                                       max_depth=None, max_features='sqrt',\n",
       "                                       max_leaf_nodes=None, max_samples=None,\n",
       "                                       min_impurity_decrease=0.0,\n",
       "                                       min_samples_leaf=1, min_samples_split=2,\n",
       "                                       min_weight_fraction_leaf=0.0,\n",
       "                                       n_estimators=100, n_jobs=-1,\n",
       "                                       oob_score=False, random_state=6221,\n",
       "                                       verbose=0, warm_start=False))],\n",
       "          verbose=False),\n",
       " 'Push_upModel.pkl')"
      ]
     },
     "execution_count": 15,
     "metadata": {},
     "output_type": "execute_result"
    }
   ],
   "source": [
    "save_model(model_final, 'Push_upModel')"
   ]
  },
  {
   "cell_type": "markdown",
   "id": "805e024f-a5cd-494c-997e-f4aa3c3ff9e0",
   "metadata": {},
   "source": [
    "# Use in production"
   ]
  },
  {
   "cell_type": "code",
   "execution_count": 16,
   "id": "542f4897-afc3-4431-ad9c-00b7a0b4b0a3",
   "metadata": {},
   "outputs": [
    {
     "name": "stdout",
     "output_type": "stream",
     "text": [
      "Transformation Pipeline and Model Successfully Loaded\n"
     ]
    }
   ],
   "source": [
    "pipeline = load_model(model_name=\"Push_upModel\")"
   ]
  },
  {
   "cell_type": "code",
   "execution_count": 17,
   "id": "0b65ca2d-01b3-4d92-a398-94366c604d43",
   "metadata": {},
   "outputs": [
    {
     "data": {
      "text/html": [
       "<style type=\"text/css\">\n",
       "</style>\n",
       "<table id=\"T_94188\">\n",
       "  <thead>\n",
       "    <tr>\n",
       "      <th class=\"blank level0\" >&nbsp;</th>\n",
       "      <th id=\"T_94188_level0_col0\" class=\"col_heading level0 col0\" >Model</th>\n",
       "      <th id=\"T_94188_level0_col1\" class=\"col_heading level0 col1\" >Accuracy</th>\n",
       "      <th id=\"T_94188_level0_col2\" class=\"col_heading level0 col2\" >AUC</th>\n",
       "      <th id=\"T_94188_level0_col3\" class=\"col_heading level0 col3\" >Recall</th>\n",
       "      <th id=\"T_94188_level0_col4\" class=\"col_heading level0 col4\" >Prec.</th>\n",
       "      <th id=\"T_94188_level0_col5\" class=\"col_heading level0 col5\" >F1</th>\n",
       "      <th id=\"T_94188_level0_col6\" class=\"col_heading level0 col6\" >Kappa</th>\n",
       "      <th id=\"T_94188_level0_col7\" class=\"col_heading level0 col7\" >MCC</th>\n",
       "    </tr>\n",
       "  </thead>\n",
       "  <tbody>\n",
       "    <tr>\n",
       "      <th id=\"T_94188_level0_row0\" class=\"row_heading level0 row0\" >0</th>\n",
       "      <td id=\"T_94188_row0_col0\" class=\"data row0 col0\" >Extra Trees Classifier</td>\n",
       "      <td id=\"T_94188_row0_col1\" class=\"data row0 col1\" >0.9209</td>\n",
       "      <td id=\"T_94188_row0_col2\" class=\"data row0 col2\" >0.9219</td>\n",
       "      <td id=\"T_94188_row0_col3\" class=\"data row0 col3\" >0.9209</td>\n",
       "      <td id=\"T_94188_row0_col4\" class=\"data row0 col4\" >0.9191</td>\n",
       "      <td id=\"T_94188_row0_col5\" class=\"data row0 col5\" >0.9199</td>\n",
       "      <td id=\"T_94188_row0_col6\" class=\"data row0 col6\" >0.6405</td>\n",
       "      <td id=\"T_94188_row0_col7\" class=\"data row0 col7\" >0.6408</td>\n",
       "    </tr>\n",
       "  </tbody>\n",
       "</table>\n"
      ],
      "text/plain": [
       "<pandas.io.formats.style.Styler at 0x168334f27a0>"
      ]
     },
     "metadata": {},
     "output_type": "display_data"
    }
   ],
   "source": [
    "prediction = predict_model(pipeline, data_prod, raw_score=True)"
   ]
  },
  {
   "cell_type": "code",
   "execution_count": null,
   "id": "3b3b6735-9fb8-40ca-8d02-297891aa308d",
   "metadata": {},
   "outputs": [],
   "source": []
  },
  {
   "cell_type": "code",
   "execution_count": null,
   "id": "56b9fd1e-cf40-4675-bfee-c79696ef9f10",
   "metadata": {},
   "outputs": [],
   "source": []
  },
  {
   "cell_type": "code",
   "execution_count": null,
   "id": "8953ff73-6c4d-4f66-9a1a-3e81f8fa7bc9",
   "metadata": {},
   "outputs": [],
   "source": []
  },
  {
   "cell_type": "code",
   "execution_count": null,
   "id": "15d8efb5-4a3d-498d-a393-b1401c9238f8",
   "metadata": {},
   "outputs": [],
   "source": []
  },
  {
   "cell_type": "code",
   "execution_count": null,
   "id": "93c33cb5-7777-4dda-b891-dbe6c6a6310d",
   "metadata": {},
   "outputs": [],
   "source": []
  },
  {
   "cell_type": "code",
   "execution_count": null,
   "id": "e275c42a-8442-4324-941d-9fbc2dc82f06",
   "metadata": {},
   "outputs": [],
   "source": []
  },
  {
   "cell_type": "code",
   "execution_count": null,
   "id": "e94a830d-1f4d-48a7-a3f6-3fee3e749165",
   "metadata": {},
   "outputs": [],
   "source": []
  },
  {
   "cell_type": "code",
   "execution_count": null,
   "id": "f02782a2-80b1-4dd9-aea8-096400abfc87",
   "metadata": {},
   "outputs": [],
   "source": []
  },
  {
   "cell_type": "code",
   "execution_count": null,
   "id": "3bde7882-77a2-4c09-aa37-a276baad642f",
   "metadata": {},
   "outputs": [],
   "source": []
  },
  {
   "cell_type": "code",
   "execution_count": null,
   "id": "82e884af",
   "metadata": {},
   "outputs": [],
   "source": [
    "data_custom['target']"
   ]
  },
  {
   "cell_type": "code",
   "execution_count": null,
   "id": "c1e98ff0",
   "metadata": {},
   "outputs": [],
   "source": [
    "data_custom['target'].count()"
   ]
  },
  {
   "cell_type": "markdown",
   "id": "b380d7e8",
   "metadata": {},
   "source": [
    "Mapping to transform it into a binqary problem ready to do the ML models:"
   ]
  },
  {
   "cell_type": "code",
   "execution_count": null,
   "id": "6a47b28e",
   "metadata": {},
   "outputs": [],
   "source": [
    "mapping = {'PUSH_UP': 1, 'NO_EXERCISE': 0}\n",
    "\n",
    "# Mapping the values in the 'target' column:\n",
    "data_custom['target'] = data_custom['target'].map(mapping)"
   ]
  },
  {
   "cell_type": "code",
   "execution_count": null,
   "id": "eb5261a9",
   "metadata": {},
   "outputs": [],
   "source": [
    "data_custom.head()"
   ]
  },
  {
   "cell_type": "code",
   "execution_count": null,
   "id": "24fd3a1d",
   "metadata": {},
   "outputs": [],
   "source": [
    "data_custom['target']"
   ]
  },
  {
   "cell_type": "code",
   "execution_count": null,
   "id": "a9d46717",
   "metadata": {},
   "outputs": [],
   "source": [
    "data_custom['target'].count()"
   ]
  },
  {
   "cell_type": "code",
   "execution_count": null,
   "id": "cd039a8b",
   "metadata": {},
   "outputs": [],
   "source": [
    "data_custom.info()"
   ]
  },
  {
   "cell_type": "markdown",
   "id": "defc710a-6ac1-4c61-b612-0134506f8855",
   "metadata": {
    "jp-MarkdownHeadingCollapsed": true,
    "tags": []
   },
   "source": [
    "# EDA"
   ]
  },
  {
   "cell_type": "code",
   "execution_count": null,
   "id": "822ee8c7-783e-43e2-8f74-2a6d5767e403",
   "metadata": {},
   "outputs": [],
   "source": [
    "prim_200 = data_custom.head(1000)\n",
    "fig = px.line(prim_200, x=prim_200.index,color = \"target\", y='linAccZ_mean', title='Time serie of exercise linAccZ')\n",
    "fig.show()"
   ]
  },
  {
   "cell_type": "code",
   "execution_count": null,
   "id": "40b273a2736a7321",
   "metadata": {
    "collapsed": false,
    "jupyter": {
     "outputs_hidden": false
    }
   },
   "outputs": [],
   "source": [
    "fig = px.box(data_custom, y=\"linAccZ_mean\", color=\"target\",title = 'Distribution of linAccZ_mean vs target variable')\n",
    "fig.update_traces(quartilemethod=\"exclusive\") \n",
    "fig.show()"
   ]
  },
  {
   "cell_type": "code",
   "execution_count": null,
   "id": "2deb6671b27b5dbd",
   "metadata": {
    "collapsed": false,
    "jupyter": {
     "outputs_hidden": false
    }
   },
   "outputs": [],
   "source": [
    "fig = px.box(data_custom, y=\"linAccY_mean\", color=\"target\",title = 'Distribution of linAccY_mean vs target variable')\n",
    "fig.update_traces(quartilemethod=\"exclusive\") \n",
    "fig.show()"
   ]
  },
  {
   "cell_type": "code",
   "execution_count": null,
   "id": "6436e7eb48e43157",
   "metadata": {
    "collapsed": false,
    "jupyter": {
     "outputs_hidden": false
    }
   },
   "outputs": [],
   "source": [
    "fig = px.box(data_custom, y=\"linAccX_mean\", color=\"target\",title = 'Distribution of linAccX_mean vs target variable')\n",
    "fig.update_traces(quartilemethod=\"exclusive\") \n",
    "fig.show()"
   ]
  },
  {
   "cell_type": "code",
   "execution_count": null,
   "id": "b61dbb1b",
   "metadata": {},
   "outputs": [],
   "source": [
    "fig = px.box(data_custom, y=\"linAccZ_std\", color=\"target\",title = 'Distribution of linAccZ_std vs target variable')\n",
    "fig.update_traces(quartilemethod=\"exclusive\") \n",
    "fig.show()"
   ]
  },
  {
   "cell_type": "code",
   "execution_count": null,
   "id": "d911a6b3",
   "metadata": {},
   "outputs": [],
   "source": [
    "fig = px.box(data_custom, y=\"linAccY_std\", color=\"target\",title = 'Distribution of linAccY_std vs target variable')\n",
    "fig.update_traces(quartilemethod=\"exclusive\") \n",
    "fig.show()"
   ]
  },
  {
   "cell_type": "code",
   "execution_count": null,
   "id": "606aad252d7a3211",
   "metadata": {
    "collapsed": false,
    "jupyter": {
     "outputs_hidden": false
    }
   },
   "outputs": [],
   "source": [
    "fig = px.box(data_custom, y=\"linAccX_std\", color=\"target\",title = 'Distribution of linAccX_std vs target variable')\n",
    "fig.update_traces(quartilemethod=\"exclusive\") \n",
    "fig.show()"
   ]
  },
  {
   "cell_type": "code",
   "execution_count": null,
   "id": "f22fb8ae",
   "metadata": {},
   "outputs": [],
   "source": [
    "fig = px.box(data_custom, y=\"linAccZ_skewness\", color=\"target\",title = 'Distribution of linAccZ_skewness vs target variable')\n",
    "fig.update_traces(quartilemethod=\"exclusive\") \n",
    "fig.show()"
   ]
  },
  {
   "cell_type": "code",
   "execution_count": null,
   "id": "00621698",
   "metadata": {},
   "outputs": [],
   "source": [
    "fig = px.box(data_custom, y=\"linAccY_skewness\", color=\"target\",title = 'Distribution of linAccY_skewness vs target variable')\n",
    "fig.update_traces(quartilemethod=\"exclusive\") \n",
    "fig.show()"
   ]
  },
  {
   "cell_type": "code",
   "execution_count": null,
   "id": "332403e4",
   "metadata": {},
   "outputs": [],
   "source": [
    "fig = px.box(data_custom, y=\"linAccX_skewness\", color=\"target\",title = 'Distribution of linAccX_skewness vs target variable')\n",
    "fig.update_traces(quartilemethod=\"exclusive\") \n",
    "fig.show()"
   ]
  },
  {
   "cell_type": "markdown",
   "id": "32d201f6-c79d-4aab-a5e0-84b73af6d0d0",
   "metadata": {
    "tags": []
   },
   "source": [
    "# Data prep for model"
   ]
  },
  {
   "cell_type": "code",
   "execution_count": null,
   "id": "dcf9653b-fe1e-4eb1-9f0d-b7d567d212c8",
   "metadata": {},
   "outputs": [],
   "source": [
    "len(data_custom)"
   ]
  },
  {
   "cell_type": "code",
   "execution_count": null,
   "id": "ea81d21c-c9e0-4ab4-8591-5323dce0bddf",
   "metadata": {},
   "outputs": [],
   "source": [
    "#target imbalanced classes\n",
    "data_custom.groupby('target').size()"
   ]
  },
  {
   "cell_type": "code",
   "execution_count": null,
   "id": "ce560ff6-8882-4c2d-94ea-60151f61c6a0",
   "metadata": {},
   "outputs": [],
   "source": [
    "sns.countplot(x=data_custom['target'], label = \"pushup\")"
   ]
  },
  {
   "cell_type": "code",
   "execution_count": null,
   "id": "8e94793e-9865-4201-8123-eef928d76a55",
   "metadata": {},
   "outputs": [],
   "source": [
    "#sns.pairplot(data_custom, hue= 'target',vars=[\"linAccX_mean\", \"linAccY_mean\", \"linAccZ_mean\"])"
   ]
  },
  {
   "cell_type": "markdown",
   "id": "6747a4e4",
   "metadata": {},
   "source": [
    "## TREATING THE IMBALANCE "
   ]
  },
  {
   "cell_type": "code",
   "execution_count": null,
   "id": "b0e4383d",
   "metadata": {},
   "outputs": [],
   "source": [
    "import pandas as pd\n",
    "from sklearn.model_selection import train_test_split\n",
    "from sklearn.utils import resample\n",
    "\n",
    "\n",
    "# Separate the minority and majority classes\n",
    "minority_class = data_custom[data_custom['target'] == 1]  \n",
    "majority_class = data_custom[data_custom['target'] == 0]  \n",
    "\n",
    "# Downsample the majority class \n",
    "majority_downsampled = resample(majority_class, replace=False, n_samples=len(minority_class), random_state=42)\n",
    "\n",
    "# Concatenate BOTH\n",
    "balanced_data = pd.concat([minority_class, majority_downsampled])\n",
    "\n",
    "# SPLIT the data into features (X) and target variable (y)\n",
    "X = balanced_data.drop('target', axis=1)  # Assuming 'target' is the column to be predicted\n",
    "y = balanced_data['target']\n",
    "\n",
    "# Split the data into training and testing sets with stratification\n",
    "X_train, X_test, y_train, y_test = train_test_split(X, y, test_size=0.25, random_state=42, stratify=y)\n",
    "\n",
    "# Display shapes of the split datasets\n",
    "print(\"Shapes - X_train:\", X_train.shape, \"X_test:\", X_test.shape, \"y_train:\", y_train.shape, \"y_test:\", y_test.shape)"
   ]
  },
  {
   "cell_type": "markdown",
   "id": "dfd38356",
   "metadata": {},
   "source": [
    "## KBEST + SCALER"
   ]
  },
  {
   "cell_type": "code",
   "execution_count": null,
   "id": "2a0a6263",
   "metadata": {},
   "outputs": [],
   "source": [
    "selected = SelectKBest(score_func=f_classif, k=9)\n",
    "X_train_selected=selected.fit_transform(X_train, y_train)\n",
    "X_test_selected = selected.transform(X_test) "
   ]
  },
  {
   "cell_type": "code",
   "execution_count": null,
   "id": "e6cec2f6-2f1f-4432-80f3-f7da353ef4f2",
   "metadata": {},
   "outputs": [],
   "source": [
    "selected.get_feature_names_out()"
   ]
  },
  {
   "cell_type": "code",
   "execution_count": null,
   "id": "53daca05",
   "metadata": {},
   "outputs": [],
   "source": [
    "# Scale Data\n",
    "scaler = StandardScaler()\n",
    "X_train_full = scaler.fit_transform(X_train_selected) #ONLY USING SELECTED VARIABLES\n",
    "joblib.dump(scaler,'scaler_pushup.pkl')\n",
    "X_test_full = scaler.transform(X_test_selected)"
   ]
  },
  {
   "cell_type": "code",
   "execution_count": null,
   "id": "b8c07146-3e49-44b5-a230-26ed870937f6",
   "metadata": {},
   "outputs": [],
   "source": []
  },
  {
   "cell_type": "markdown",
   "id": "29e3963d",
   "metadata": {},
   "source": [
    "##SAVING MODELS"
   ]
  },
  {
   "cell_type": "code",
   "execution_count": null,
   "id": "1a55526e",
   "metadata": {},
   "outputs": [],
   "source": [
    "results_hard = {}\n",
    "results_soft = {}"
   ]
  },
  {
   "cell_type": "markdown",
   "id": "2b070e0f",
   "metadata": {},
   "source": [
    "## SVM"
   ]
  },
  {
   "cell_type": "code",
   "execution_count": null,
   "id": "3acf403b",
   "metadata": {},
   "outputs": [],
   "source": [
    "import sklearn\n",
    "sklearn.metrics.get_scorer_names()"
   ]
  },
  {
   "cell_type": "code",
   "execution_count": null,
   "id": "7b9bce1b",
   "metadata": {},
   "outputs": [],
   "source": [
    "from sklearn.svm import SVC\n",
    "import numpy as np\n",
    "from sklearn.model_selection import RandomizedSearchCV\n",
    "svm = SVC(probability=True)\n",
    "\n",
    "param_grid = {'C': [0.1, 1, 10, 100, 1000], \n",
    "              'gamma': [1, 0.1, 0.01, 0.001, 0.0001], \n",
    "              'kernel': ['linear']}\n",
    "\n",
    "\n",
    "# Realizar la búsqueda aleatoria de hiperparámetros\n",
    "random_search_svm = RandomizedSearchCV(\n",
    "    estimator=svm,\n",
    "    param_distributions=param_grid,\n",
    "    n_iter=5,  \n",
    "    scoring=\"roc_auc\",  \n",
    "    n_jobs=7,\n",
    "    return_train_score=True\n",
    ")\n",
    "random_search_svm.fit(X_train_full, y_train)"
   ]
  },
  {
   "cell_type": "code",
   "execution_count": null,
   "id": "a8a04cf3",
   "metadata": {},
   "outputs": [],
   "source": [
    "#Evaluate: TRAIN\n",
    "proba_train = random_search_svm.predict_proba(X_train_full)\n",
    "pred_train = random_search_svm.predict(X_train_full)\n",
    "print(classification_report(y_train,pred_train))"
   ]
  },
  {
   "cell_type": "code",
   "execution_count": null,
   "id": "95e70f49",
   "metadata": {},
   "outputs": [],
   "source": [
    "#Evaluate: TEST\n",
    "proba_test = random_search_svm.predict_proba(X_test_full)\n",
    "pred_test = random_search_svm.predict(X_test_full)\n",
    "print(classification_report(y_test,pred_test))"
   ]
  },
  {
   "cell_type": "markdown",
   "id": "161f5511",
   "metadata": {},
   "source": [
    "## ANOTHER APPROACH"
   ]
  },
  {
   "cell_type": "code",
   "execution_count": null,
   "id": "2baceb9a",
   "metadata": {},
   "outputs": [],
   "source": [
    "from sklearn.svm import SVC\n",
    "import numpy as np\n",
    "from sklearn.model_selection import GridSearchCV\n",
    "\n",
    "param_grid = {'C': [0.1, 1, 10, 100, 1000], \n",
    "              'gamma': [1, 0.1, 0.01, 0.001, 0.0001], \n",
    "              'kernel': ['linear', 'rbf', 'poly', 'sigmoid']}\n",
    "\n",
    "# Perform GridSearchCV\n",
    "grid_search = GridSearchCV(svm, param_grid, scoring='f1', cv=6)  \n",
    "grid_search.fit(X_train_full, y_train)  \n",
    "\n",
    "# Get the best parameters and best F1 score\n",
    "best_params = grid_search.best_params_\n",
    "best_f1 = grid_search.best_score_\n",
    "\n",
    "# Use the best model for prediction on test data\n",
    "best_model = grid_search.best_estimator_\n",
    "y_pred = best_model.predict(X_test_full)\n",
    "\n",
    "# Calculate F1 score on the test set\n",
    "f1_test = f1_score(y_test, y_pred)\n",
    "\n",
    "print(\"Best Parameters:\", best_params)\n",
    "print(\"Best F1 Score (Cross-validation):\", best_f1)\n",
    "print(\"F1 Score on Test Set:\", f1_test)\n"
   ]
  },
  {
   "cell_type": "code",
   "execution_count": null,
   "id": "778d712d",
   "metadata": {},
   "outputs": [],
   "source": [
    "from sklearn.svm import SVC\n",
    "import numpy as np\n",
    "from sklearn.model_selection import GridSearchCV\n",
    "\n",
    "param_grid = {'C': [0.1, 1, 10], \n",
    "              'gamma': [1, 0.1, 0.01], \n",
    "              'kernel': ['linear']}\n",
    "\n",
    "grid= GridSearchCV(SVC(), param_grid, refit=True, verbose= 10)\n",
    "\n",
    "grid.fit(X_train_full, y_train)"
   ]
  },
  {
   "cell_type": "code",
   "execution_count": null,
   "id": "adda2d01",
   "metadata": {},
   "outputs": [],
   "source": [
    "grid_predictions= grid.predict(X_test_full)\n",
    "print(classification_report(y_test, grid_predictions))"
   ]
  },
  {
   "cell_type": "markdown",
   "id": "ba81b7e6",
   "metadata": {},
   "source": [
    "## LOGISTIC REGRESSION"
   ]
  },
  {
   "cell_type": "code",
   "execution_count": null,
   "id": "6bd8b102",
   "metadata": {},
   "outputs": [],
   "source": [
    "from sklearn.linear_model import LogisticRegression\n",
    "from sklearn.metrics import classification_report\n",
    "\n",
    "\n",
    "# Instantiate the Logistic Regression model\n",
    "logistic_model = LogisticRegression(random_state=42)\n",
    "\n",
    "# Fit the model on the resampled training data\n",
    "logistic_model.fit(X_train_full, y_train)\n",
    "\n",
    "# Predict on the test set\n",
    "y_pred = logistic_model.predict(X_test_full)\n",
    "\n",
    "# Evaluate the model\n",
    "print(classification_report(y_test, y_pred))"
   ]
  },
  {
   "cell_type": "markdown",
   "id": "993c2b96",
   "metadata": {},
   "source": [
    "## XGBOOST"
   ]
  },
  {
   "cell_type": "code",
   "execution_count": null,
   "id": "71a4046d",
   "metadata": {},
   "outputs": [],
   "source": [
    "import xgboost as xgb\n",
    "xgb = xgb.XGBClassifier()"
   ]
  },
  {
   "cell_type": "code",
   "execution_count": null,
   "id": "746a1209",
   "metadata": {},
   "outputs": [],
   "source": [
    "param_dist = {\n",
    "    'n_estimators': range(1500, 1800, 2000), \n",
    "    'max_depth': range(10, 15, 20),\n",
    "    'booster': ['gbtree', 'gblinear'],\n",
    "    'min_child_weight': range(1, 2, 3),  \n",
    "    'learning_rate': [0.1, 0.15, 0.20],\n",
    "    'gamma': [0, 0.1, 0.2, 0.3]\n",
    "}\n",
    "\n",
    "#hyperparameters\n",
    "random_search_XGB = RandomizedSearchCV(\n",
    "    estimator=xgb,\n",
    "    param_distributions=param_dist,\n",
    "    n_iter=2, #4\n",
    "    scoring=\"roc_auc\",  \n",
    "    n_jobs=5, #7\n",
    "    return_train_score=True\n",
    ")"
   ]
  },
  {
   "cell_type": "code",
   "execution_count": null,
   "id": "d1ceace4",
   "metadata": {},
   "outputs": [],
   "source": [
    "# w/o scaling \n",
    "random_search_XGB.fit(X_train_selected, y_train)"
   ]
  },
  {
   "cell_type": "code",
   "execution_count": null,
   "id": "bf2eac15",
   "metadata": {},
   "outputs": [],
   "source": [
    "print(random_search_XGB.best_params_)"
   ]
  },
  {
   "cell_type": "code",
   "execution_count": null,
   "id": "e22d18e7",
   "metadata": {},
   "outputs": [],
   "source": [
    "# train\n",
    "proba_train_XGB = random_search_XGB.predict_proba(X_train_selected)\n",
    "pred_train_XGB = random_search_XGB.predict(X_train_selected)\n",
    "print(classification_report(y_train,pred_train_XGB))"
   ]
  },
  {
   "cell_type": "code",
   "execution_count": null,
   "id": "0ae224ee",
   "metadata": {},
   "outputs": [],
   "source": [
    "# test\n",
    "proba_test_XGB = random_search_XGB.predict_proba(X_test_selected)\n",
    "pred_test_XGB = random_search_XGB.predict(X_test_selected)\n",
    "print(classification_report(y_test,pred_test_XGB))"
   ]
  },
  {
   "cell_type": "markdown",
   "id": "cd914d54",
   "metadata": {},
   "source": [
    "## NAIVE BAYES"
   ]
  },
  {
   "cell_type": "code",
   "execution_count": null,
   "id": "849d1fe9",
   "metadata": {},
   "outputs": [],
   "source": [
    "from sklearn.naive_bayes import GaussianNB\n",
    "gaus = GaussianNB()\n",
    "param_dist_NB = {\n",
    "    'priors': [[0.2, 0.8], [0.5, 0.5], [0.8, 0.2],[0.3, 0.7],[0.7, 0.3]]\n",
    "}\n",
    "\n",
    "\n",
    "random_search_NB = RandomizedSearchCV(\n",
    "    estimator=gaus,\n",
    "    param_distributions=param_dist_NB,\n",
    "    n_iter=5,  \n",
    "    scoring=\"roc_auc\",  \n",
    "    n_jobs=7,\n",
    "    return_train_score=True\n",
    ")"
   ]
  },
  {
   "cell_type": "code",
   "execution_count": null,
   "id": "8c64b4c8",
   "metadata": {},
   "outputs": [],
   "source": [
    "# Entrenar el modelo con la búsqueda aleatoria de hiperparámetros\n",
    "random_search_NB.fit(X_train_full, y_train)"
   ]
  },
  {
   "cell_type": "code",
   "execution_count": null,
   "id": "c5bd5155",
   "metadata": {},
   "outputs": [],
   "source": [
    "print(random_search_NB.best_params_)"
   ]
  },
  {
   "cell_type": "code",
   "execution_count": null,
   "id": "1d8b51c9",
   "metadata": {},
   "outputs": [],
   "source": [
    "#First evaluate on train\n",
    "proba_train_NB = random_search_NB.predict_proba(X_train_full)\n",
    "pred_train_NB = random_search_NB.predict(X_train_full)\n",
    "print(classification_report(y_train,pred_train_NB))"
   ]
  },
  {
   "cell_type": "code",
   "execution_count": null,
   "id": "00b22ece",
   "metadata": {},
   "outputs": [],
   "source": [
    "#now I will check with the test\n",
    "proba_test_NB = random_search_NB.predict_proba(X_test_full)\n",
    "pred_test_NB = random_search_NB.predict(X_test_full)\n",
    "print(classification_report(y_test,pred_test_NB))"
   ]
  },
  {
   "cell_type": "markdown",
   "id": "53a32e28-6635-40ff-aad7-0ec25a0c8981",
   "metadata": {
    "tags": []
   },
   "source": [
    "## Model evaluation"
   ]
  },
  {
   "cell_type": "code",
   "execution_count": null,
   "id": "de1d18a2-f565-4f08-8c94-308807b9d260",
   "metadata": {},
   "outputs": [],
   "source": [
    "pred_SV = random_search_svm.predict(X_test_full)\n",
    "proba_SV = random_search_svm.predict_proba(X_test_full)\n",
    "results_hard[\"Support_Vector\"] = pred_SV\n",
    "results_soft[\"Support_Vector\"] = proba_SV[:,1]\n",
    "\n",
    "proba_logistic = logistic_model.predict_proba(X_test_full)\n",
    "pred_logistic = logistic_model.predict(X_test_full)\n",
    "results_hard[\"Logistic_Regr\"] = pred_logistic\n",
    "results_soft[\"Logistic_Regr\"] = proba_logistic[:,1]\n",
    "\n",
    "proba_XGB = random_search_XGB.predict_proba(X_test_selected)\n",
    "pred_XGB = random_search_XGB.predict(X_test_selected)\n",
    "results_hard[\"XGBOOST\"] = pred_XGB\n",
    "results_soft[\"XGBOOST\"] = proba_XGB[:,1]\n",
    "\n",
    "proba_NB = random_search_NB.predict_proba(X_test_full)\n",
    "pred_NB = random_search_NB.predict(X_test_full)\n",
    "results_hard[\"Naive_Bayes\"] = pred_NB\n",
    "results_soft[\"Naive_Bayes\"] = proba_NB[:,1]\n",
    "\n",
    "results_hard = pd.DataFrame(results_hard)\n",
    "results_soft = pd.DataFrame(results_soft)"
   ]
  },
  {
   "cell_type": "code",
   "execution_count": null,
   "id": "6a079c4b-0682-4852-bbe3-5346a14446a1",
   "metadata": {},
   "outputs": [],
   "source": [
    "metrics = {}\n",
    "\n",
    "metrics[\"Accuracy\"] = {\n",
    "    \"Naive_Bayes\": accuracy_score(y_test, results_hard.Naive_Bayes),\n",
    "    #\"Support_Vector\": accuracy_score(y_test, results_hard.Support_Vector),\n",
    "    \"XGBOOST\": accuracy_score(y_test, results_hard.XGBOOST),\n",
    "    \"Logistic_Regr\": accuracy_score(y_test, results_hard.Logistic_Regr)\n",
    "}\n",
    "metrics[\"Precision\"] = {\n",
    "    \"Naive_Bayes\": precision_score(y_test, results_hard.Naive_Bayes),\n",
    "    #\"Support_Vector\": precision_score(y_test, results_hard.Support_Vector),\n",
    "    \"XGBOOST\": precision_score(y_test, results_hard.XGBOOST),\n",
    "    \"Logistic_Regr\": precision_score(y_test, results_hard.Logistic_Regr)\n",
    "}\n",
    "metrics[\"Recall\"] = {\n",
    "    \"Naive_Bayes\": recall_score(y_test, results_hard.Naive_Bayes),\n",
    "    #\"Support_Vector\": recall_score(y_test, results_hard.Support_Vector),\n",
    "    \"XGBOOST\": recall_score(y_test, results_hard.XGBOOST),\n",
    "    \"Logistic_Regr\": recall_score(y_test, results_hard.Logistic_Regr)\n",
    "}\n",
    "metrics[\"F1\"] = {\n",
    "    \"Naive_Bayes\": f1_score(y_test, results_hard.Naive_Bayes),\n",
    "    #\"Support_Vector\": f1_score(y_test, results_hard.Support_Vector),\n",
    "    \"XGBOOST\": f1_score(y_test, results_hard.XGBOOST),\n",
    "    \"Logistic_Regr\": f1_score(y_test, results_hard.Logistic_Regr)\n",
    "}\n",
    "\n",
    "metrics = pd.DataFrame(metrics)\n",
    "metrics"
   ]
  },
  {
   "cell_type": "markdown",
   "id": "221b271a-eee2-4fd5-a6ee-e36a7e63e698",
   "metadata": {},
   "source": [
    "## ROC Curves"
   ]
  },
  {
   "cell_type": "code",
   "execution_count": null,
   "id": "4f53787a-9f6b-4c7e-a19d-803cf2f03ad0",
   "metadata": {},
   "outputs": [],
   "source": [
    "# Datos de FPR y TPR para los tres modelos \n",
    "fpr_Naive_Bayes,tpr_Naive_Bayes,_ = roc_curve(y_test, results_soft.Naive_Bayes)\n",
    "#fpr_Support_Vector,tpr_Support_Vector,_ = roc_curve(y_test, results_soft.Support_Vector)\n",
    "fpr_XGBOOST,tpr_XGBOOST,_ = roc_curve(y_test, results_soft.XGBOOST)\n",
    "fpr_Logistic_Reg,tpr_Logistic_Regr,_ = roc_curve(y_test, results_soft.Logistic_Regr)\n",
    "\n",
    "# Calcular el área bajo la curva ROC (AUC) para cada modelo\n",
    "auc_Naive_Bayes = auc(fpr_Naive_Bayes,tpr_Naive_Bayes)\n",
    "#auc_Support_Vector = auc(fpr_Support_Vector,tpr_Support_Vector)\n",
    "auc_XGBOOST = auc(fpr_XGBOOST,tpr_XGBOOST)\n",
    "auc_Logistic_Regr = auc(fpr_Logistic_Reg,tpr_Logistic_Regr)"
   ]
  },
  {
   "cell_type": "code",
   "execution_count": null,
   "id": "3406fe27-c3fb-4b68-b666-5f2e18833d2d",
   "metadata": {},
   "outputs": [],
   "source": [
    "# Crear la gráfica ROC\n",
    "plt.figure(figsize=(8, 6))\n",
    "\n",
    "# Graficar las curvas ROC para los tres modelos\n",
    "plt.plot(fpr_Naive_Bayes,tpr_Naive_Bayes, label=f'Naive bayes (AUC = {auc_Naive_Bayes:.2f})')\n",
    "plt.plot(fpr_XGBOOST,tpr_XGBOOST, label=f'Xgboost (AUC = {auc_XGBOOST:.2f})')\n",
    "#plt.plot(fpr_Support_Vector,tpr_Support_Vector, label=f'Support Vector (AUC = {auc_Support_Vector:.2f})')\n",
    "plt.plot(fpr_Logistic_Reg,tpr_Logistic_Regr, label=f'Support Vector (AUC = {auc_Logistic_Regr:.2f})')\n",
    "\n",
    "\n",
    "# Configurar la gráfica\n",
    "plt.plot([0, 1], [0, 1], 'k--', lw=2)  # Línea diagonal para referencia\n",
    "plt.xlim([0.0, 1.0])\n",
    "plt.ylim([0.0, 1.05])\n",
    "plt.xlabel('Tasa de Falsos Positivos (FPR)')\n",
    "plt.ylabel('Tasa de Verdaderos Positivos (TPR)')\n",
    "plt.title('Curva ROC de Modelos')\n",
    "plt.legend(loc=\"lower right\")\n",
    "\n",
    "# Mostrar la gráfica\n",
    "plt.show()"
   ]
  },
  {
   "cell_type": "code",
   "execution_count": null,
   "id": "a0e4a261-0ca3-4b48-829f-831c0e6dbc47",
   "metadata": {},
   "outputs": [],
   "source": [
    "import joblib  \n",
    "joblib.dump(logistic_model, 'logistic_model.pkl')"
   ]
  },
  {
   "cell_type": "code",
   "execution_count": null,
   "id": "ead52a1c-83ec-406b-98fe-9b514318e870",
   "metadata": {},
   "outputs": [],
   "source": []
  }
 ],
 "metadata": {
  "kernelspec": {
   "display_name": "Python 3 (ipykernel)",
   "language": "python",
   "name": "python3"
  },
  "language_info": {
   "codemirror_mode": {
    "name": "ipython",
    "version": 3
   },
   "file_extension": ".py",
   "mimetype": "text/x-python",
   "name": "python",
   "nbconvert_exporter": "python",
   "pygments_lexer": "ipython3",
   "version": "3.10.13"
  }
 },
 "nbformat": 4,
 "nbformat_minor": 5
}
