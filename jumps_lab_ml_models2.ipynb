{
 "cells": [
  {
   "cell_type": "markdown",
   "id": "7a26496c-e3c9-47b2-b136-ada4d9bf20b6",
   "metadata": {
    "jp-MarkdownHeadingCollapsed": true,
    "tags": []
   },
   "source": [
    "# ETL "
   ]
  },
  {
   "cell_type": "code",
   "execution_count": 1,
   "id": "48a99f12-cbfb-40cf-b151-f245b00bb21c",
   "metadata": {},
   "outputs": [],
   "source": [
    "from fitizens_libraries.load_and_process_training_data import load_training_data\n",
    "from fitizens_libraries.load_timeseries import load_timeseries_data\n",
    "from custom_libraries.merge_data import merge_data\n",
    "from fitizens_libraries.plot_labeled_sequences import plot_labeled_sequence\n",
    "from statsmodels.graphics.tsaplots import plot_acf, plot_pacf\n",
    "from matplotlib import pyplot\n",
    "from fitizens_libraries.build_dataframe_from_list_of_signals import build_dataframe\n",
    "from collections import Counter\n",
    "from sklearn.preprocessing import OneHotEncoder, StandardScaler\n",
    "from sklearn.model_selection import train_test_split \n",
    "from sklearn.feature_selection import SelectKBest, f_classif\n",
    "from sklearn.preprocessing import LabelEncoder\n",
    "from imblearn.over_sampling import SMOTE\n",
    "from sklearn.metrics import accuracy_score\n",
    "from sklearn.metrics import confusion_matrix, classification_report\n",
    "from sklearn.metrics import roc_auc_score, roc_curve, classification_report, auc, roc_auc_score\n",
    "import plotly.graph_objects as go\n",
    "from sklearn.metrics import accuracy_score, precision_score, recall_score, f1_score\n",
    "from sklearn.metrics import roc_curve, auc\n",
    "import plotly.express as px\n",
    "import seaborn as sns\n",
    "import matplotlib.pyplot as plt\n",
    "import numpy as np\n",
    "import pandas as pd\n",
    "import os"
   ]
  },
  {
   "cell_type": "markdown",
   "id": "2e11ff26",
   "metadata": {},
   "source": [
    "# Creating Auxiliary Functions"
   ]
  },
  {
   "cell_type": "markdown",
   "id": "5271e81f",
   "metadata": {},
   "source": [
    "def create_custom_dataframe(series):\n",
    "    df =  series[[\"linAccX\", \"linAccY\", \"linAccZ\", \"gyroX\", \"gyroY\", \"gyroZ\", \"magnX\", \"magnY\", \"magnZ\"]]\n",
    "    return df"
   ]
  },
  {
   "cell_type": "code",
   "execution_count": 2,
   "id": "40326e03",
   "metadata": {},
   "outputs": [],
   "source": [
    "def create_custom_dataframe(series):\n",
    "    df =  series[[\"linAccX\", \"linAccY\", \"linAccZ\", \"gyroX\", \"gyroY\", \"gyroZ\", \"magnX\", \"magnY\", \"magnZ\"]]\n",
    "    return df"
   ]
  },
  {
   "cell_type": "code",
   "execution_count": 3,
   "id": "c8238294",
   "metadata": {},
   "outputs": [],
   "source": [
    "def create_training_data_stats(df, target):\n",
    "    stats_dict = {}\n",
    "    series = create_custom_dataframe(df)\n",
    "    \n",
    "    for column in series.columns:\n",
    "        mean = series[column].mean()\n",
    "        std = series[column].std()\n",
    "        median = series[column].median()\n",
    "        skewness = series[column].skew()\n",
    "        kurtosis = series[column].kurtosis()\n",
    "        min_val = series[column].min()\n",
    "        max_val = series[column].max()\n",
    "        range_val = max_val - min_val\n",
    "        quartile_25 = np.percentile(series[column], 25)\n",
    "        quartile_75 = np.percentile(series[column], 75)\n",
    "        iqr = quartile_75 - quartile_25\n",
    "    \n",
    "\n",
    "        stats_dict[f\"{column}_mean\"] = mean\n",
    "        stats_dict[f\"{column}_std\"] = std\n",
    "        stats_dict[f\"{column}_median\"] = median\n",
    "        stats_dict[f\"{column}_skewness\"] = skewness\n",
    "        stats_dict[f\"{column}_kurtosis\"] = kurtosis\n",
    "        stats_dict[f\"{column}_min\"] = min_val\n",
    "        stats_dict[f\"{column}_max\"] = max_val\n",
    "        stats_dict[f\"{column}_range\"] = range_val\n",
    "        stats_dict[f\"{column}_quartile_25\"] = quartile_25\n",
    "        stats_dict[f\"{column}_quartile_75\"] = quartile_75\n",
    "        stats_dict[f\"{column}_iqr\"] = iqr\n",
    "          \n",
    "    stats_dict[\"target\"] = target\n",
    "    return stats_dict"
   ]
  },
  {
   "cell_type": "markdown",
   "id": "30e95e8d",
   "metadata": {},
   "source": [
    "## LOADING DATA"
   ]
  },
  {
   "cell_type": "code",
   "execution_count": 4,
   "id": "cb92b6c3",
   "metadata": {},
   "outputs": [
    {
     "data": {
      "text/plain": [
       "{'series':                          accX_orig  accY_orig  accZ_orig  gyroX_orig  \\\n",
       " time                                                                   \n",
       " 1970-01-01 00:00:01.833  -0.363722   9.365842   2.755160    5.320000   \n",
       " 1970-01-01 00:00:01.842  -0.382865   9.317984   2.755160    4.130000   \n",
       " 1970-01-01 00:00:01.851  -0.445081   9.260554   2.740803    3.990000   \n",
       " 1970-01-01 00:00:01.860  -0.531226   9.231839   2.831733    5.390000   \n",
       " 1970-01-01 00:00:01.869  -0.650871   9.341913   2.891556    7.560000   \n",
       " ...                            ...        ...        ...         ...   \n",
       " 1970-01-01 00:00:02.891  -2.548447   3.163424   0.161248  -33.810001   \n",
       " 1970-01-01 00:00:02.906  -2.323514   2.213440  -1.286462  -37.520000   \n",
       " 1970-01-01 00:00:02.915  -1.710929   0.985878  -1.406107  -39.549999   \n",
       " 1970-01-01 00:00:02.924  -1.696572  -0.203397  -1.164424  -37.730000   \n",
       " 1970-01-01 00:00:02.933  -1.060058  -1.141417  -0.860524  -31.010000   \n",
       " \n",
       "                          gyroY_orig  gyroZ_orig  magnX_orig  magnY_orig  \\\n",
       " time                                                                      \n",
       " 1970-01-01 00:00:01.833    1.120000        1.05  -57.134861  152.108673   \n",
       " 1970-01-01 00:00:01.842    0.980000        0.63  -58.127850  153.613693   \n",
       " 1970-01-01 00:00:01.851    0.070000        0.21  -56.753746  152.870697   \n",
       " 1970-01-01 00:00:01.860   -0.910000        0.21  -58.585667  151.034592   \n",
       " 1970-01-01 00:00:01.869   -2.100000        0.77  -57.194794  152.935410   \n",
       " ...                             ...         ...         ...         ...   \n",
       " 1970-01-01 00:00:02.891   18.480000        7.28  -54.728394  150.507309   \n",
       " 1970-01-01 00:00:02.906   18.760000       -0.28  -54.667599  150.240326   \n",
       " 1970-01-01 00:00:02.915   17.430000       -7.56  -54.714695  150.230408   \n",
       " 1970-01-01 00:00:02.924   18.059999      -14.21  -52.702991  149.105530   \n",
       " 1970-01-01 00:00:02.933   16.870001      -20.09  -52.524426  149.344116   \n",
       " \n",
       "                          magnZ_orig  linAccX_orig  ...     magnY_mod  \\\n",
       " time                                               ...                 \n",
       " 1970-01-01 00:00:01.833   67.579842     -0.016038  ...  23278.295551   \n",
       " 1970-01-01 00:00:01.842   68.414017      0.012660  ...  23277.171166   \n",
       " 1970-01-01 00:00:01.851   70.095528      0.072674  ...  23275.938244   \n",
       " 1970-01-01 00:00:01.860   67.819717      0.199256  ...  23275.085722   \n",
       " 1970-01-01 00:00:01.869   69.268837      0.318310  ...  23274.589647   \n",
       " ...                             ...           ...  ...           ...   \n",
       " 1970-01-01 00:00:02.891   78.074165      2.317134  ...  22648.430997   \n",
       " 1970-01-01 00:00:02.906   78.727356      1.484795  ...  22652.459145   \n",
       " 1970-01-01 00:00:02.915   77.324059      0.902451  ...  22656.008858   \n",
       " 1970-01-01 00:00:02.924   78.372849      1.024378  ...  22659.452617   \n",
       " 1970-01-01 00:00:02.933   78.694321      0.615782  ...  22662.884371   \n",
       " \n",
       "                            magnZ_mod  linAccX_mod  linAccY_mod  linAccZ_mod  \\\n",
       " time                                                                          \n",
       " 1970-01-01 00:00:01.833  4831.795546     0.004879     0.012497     0.003640   \n",
       " 1970-01-01 00:00:01.842  4835.460407     0.003983     0.011866     0.003775   \n",
       " 1970-01-01 00:00:01.851  4839.067214     0.003010     0.010691     0.004236   \n",
       " 1970-01-01 00:00:01.860  4842.218163     0.002044     0.009065     0.005041   \n",
       " 1970-01-01 00:00:01.869  4847.721078     0.001152     0.007049     0.006287   \n",
       " ...                              ...          ...          ...          ...   \n",
       " 1970-01-01 00:00:02.891  6067.317692     0.073862     0.333126    99.999939   \n",
       " 1970-01-01 00:00:02.906  6067.059285     0.063754     0.328049    98.605976   \n",
       " 1970-01-01 00:00:02.915  6066.923116     0.047258     0.334973    97.493650   \n",
       " 1970-01-01 00:00:02.924  6068.143366     0.028792     0.350142    96.843951   \n",
       " 1970-01-01 00:00:02.933  6068.068726     0.013442     0.361793    96.815188   \n",
       " \n",
       "                             peaks  first_sample  last_sample  \\\n",
       " time                                                           \n",
       " 1970-01-01 00:00:01.833 -0.060330         False        False   \n",
       " 1970-01-01 00:00:01.842       NaN         False        False   \n",
       " 1970-01-01 00:00:01.851       NaN         False        False   \n",
       " 1970-01-01 00:00:01.860       NaN         False        False   \n",
       " 1970-01-01 00:00:01.869       NaN         False        False   \n",
       " ...                           ...           ...          ...   \n",
       " 1970-01-01 00:00:02.891       NaN         False        False   \n",
       " 1970-01-01 00:00:02.906       NaN         False        False   \n",
       " 1970-01-01 00:00:02.915       NaN         False        False   \n",
       " 1970-01-01 00:00:02.924       NaN         False        False   \n",
       " 1970-01-01 00:00:02.933 -9.839471         False        False   \n",
       " \n",
       "                          first_sample_closest_peak  last_sample_closest_peak  \n",
       " time                                                                          \n",
       " 1970-01-01 00:00:01.833                       True                     False  \n",
       " 1970-01-01 00:00:01.842                      False                     False  \n",
       " 1970-01-01 00:00:01.851                      False                     False  \n",
       " 1970-01-01 00:00:01.860                      False                     False  \n",
       " 1970-01-01 00:00:01.869                      False                     False  \n",
       " ...                                            ...                       ...  \n",
       " 1970-01-01 00:00:02.891                      False                     False  \n",
       " 1970-01-01 00:00:02.906                      False                     False  \n",
       " 1970-01-01 00:00:02.915                      False                     False  \n",
       " 1970-01-01 00:00:02.924                      False                     False  \n",
       " 1970-01-01 00:00:02.933                      False                      True  \n",
       " \n",
       " [113 rows x 42 columns],\n",
       " 'duration': 1086.54,\n",
       " 'length': 113,\n",
       " 'target': 'SQUAT_JUMP',\n",
       " 'sampling_rate': 104,\n",
       " 'id': UUID('4727b3ce-b569-46e2-985a-8f05cdcba46e')}"
      ]
     },
     "execution_count": 4,
     "metadata": {},
     "output_type": "execute_result"
    }
   ],
   "source": [
    "folder_path = \"JUMPS\"\n",
    "os.makedirs(folder_path, exist_ok=True)\n",
    "file_names = [f\"{folder_path}/{name}\" for name in os.listdir(folder_path)]\n",
    "signals = ['accX', 'accY', 'accZ', 'gyroX', 'gyroY', 'gyroZ', 'magnX', 'magnY', 'magnZ', 'linAccX', 'linAccY', 'linAccZ']\n",
    "\n",
    "data, wk = load_training_data(filelist=file_names,\n",
    "                         signals= signals,\n",
    "                          target_exercise=\"SQUAT_JUMP\", other_exercises=[])\n",
    "data[0]"
   ]
  },
  {
   "cell_type": "markdown",
   "id": "d949b7d1",
   "metadata": {},
   "source": [
    "## CREATING NEW DATA"
   ]
  },
  {
   "cell_type": "code",
   "execution_count": 5,
   "id": "aca69624",
   "metadata": {},
   "outputs": [
    {
     "data": {
      "text/html": [
       "<div>\n",
       "<style scoped>\n",
       "    .dataframe tbody tr th:only-of-type {\n",
       "        vertical-align: middle;\n",
       "    }\n",
       "\n",
       "    .dataframe tbody tr th {\n",
       "        vertical-align: top;\n",
       "    }\n",
       "\n",
       "    .dataframe thead th {\n",
       "        text-align: right;\n",
       "    }\n",
       "</style>\n",
       "<table border=\"1\" class=\"dataframe\">\n",
       "  <thead>\n",
       "    <tr style=\"text-align: right;\">\n",
       "      <th></th>\n",
       "      <th>linAccX_mean</th>\n",
       "      <th>linAccX_std</th>\n",
       "      <th>linAccX_median</th>\n",
       "      <th>linAccX_skewness</th>\n",
       "      <th>linAccX_kurtosis</th>\n",
       "      <th>linAccX_min</th>\n",
       "      <th>linAccX_max</th>\n",
       "      <th>linAccX_range</th>\n",
       "      <th>linAccX_quartile_25</th>\n",
       "      <th>linAccX_quartile_75</th>\n",
       "      <th>...</th>\n",
       "      <th>magnZ_median</th>\n",
       "      <th>magnZ_skewness</th>\n",
       "      <th>magnZ_kurtosis</th>\n",
       "      <th>magnZ_min</th>\n",
       "      <th>magnZ_max</th>\n",
       "      <th>magnZ_range</th>\n",
       "      <th>magnZ_quartile_25</th>\n",
       "      <th>magnZ_quartile_75</th>\n",
       "      <th>magnZ_iqr</th>\n",
       "      <th>target</th>\n",
       "    </tr>\n",
       "  </thead>\n",
       "  <tbody>\n",
       "    <tr>\n",
       "      <th>0</th>\n",
       "      <td>-0.014861</td>\n",
       "      <td>0.506932</td>\n",
       "      <td>0.060403</td>\n",
       "      <td>-0.821286</td>\n",
       "      <td>0.531969</td>\n",
       "      <td>-1.209995</td>\n",
       "      <td>0.897857</td>\n",
       "      <td>2.107853</td>\n",
       "      <td>-0.079073</td>\n",
       "      <td>0.224277</td>\n",
       "      <td>...</td>\n",
       "      <td>78.048979</td>\n",
       "      <td>-0.232445</td>\n",
       "      <td>-1.206752</td>\n",
       "      <td>69.511118</td>\n",
       "      <td>85.491922</td>\n",
       "      <td>15.980804</td>\n",
       "      <td>72.551127</td>\n",
       "      <td>82.506873</td>\n",
       "      <td>9.955746</td>\n",
       "      <td>SQUAT_JUMP</td>\n",
       "    </tr>\n",
       "    <tr>\n",
       "      <th>1</th>\n",
       "      <td>-0.258862</td>\n",
       "      <td>0.331395</td>\n",
       "      <td>-0.280417</td>\n",
       "      <td>0.217490</td>\n",
       "      <td>-0.953925</td>\n",
       "      <td>-0.757395</td>\n",
       "      <td>0.409620</td>\n",
       "      <td>1.167015</td>\n",
       "      <td>-0.528571</td>\n",
       "      <td>-0.000912</td>\n",
       "      <td>...</td>\n",
       "      <td>77.514917</td>\n",
       "      <td>0.627695</td>\n",
       "      <td>-1.059532</td>\n",
       "      <td>75.765848</td>\n",
       "      <td>82.783665</td>\n",
       "      <td>7.017818</td>\n",
       "      <td>76.282840</td>\n",
       "      <td>80.206899</td>\n",
       "      <td>3.924059</td>\n",
       "      <td>SQUAT_JUMP</td>\n",
       "    </tr>\n",
       "    <tr>\n",
       "      <th>2</th>\n",
       "      <td>-0.306387</td>\n",
       "      <td>0.341339</td>\n",
       "      <td>-0.219120</td>\n",
       "      <td>0.332950</td>\n",
       "      <td>-0.422721</td>\n",
       "      <td>-0.775922</td>\n",
       "      <td>0.516189</td>\n",
       "      <td>1.292112</td>\n",
       "      <td>-0.663216</td>\n",
       "      <td>-0.103534</td>\n",
       "      <td>...</td>\n",
       "      <td>76.992833</td>\n",
       "      <td>0.689447</td>\n",
       "      <td>-1.058784</td>\n",
       "      <td>75.725014</td>\n",
       "      <td>82.625242</td>\n",
       "      <td>6.900228</td>\n",
       "      <td>75.861459</td>\n",
       "      <td>80.026949</td>\n",
       "      <td>4.165490</td>\n",
       "      <td>SQUAT_JUMP</td>\n",
       "    </tr>\n",
       "    <tr>\n",
       "      <th>3</th>\n",
       "      <td>-0.499033</td>\n",
       "      <td>0.576167</td>\n",
       "      <td>-0.561358</td>\n",
       "      <td>0.624809</td>\n",
       "      <td>-0.314178</td>\n",
       "      <td>-1.296154</td>\n",
       "      <td>0.947419</td>\n",
       "      <td>2.243573</td>\n",
       "      <td>-0.999718</td>\n",
       "      <td>-0.114907</td>\n",
       "      <td>...</td>\n",
       "      <td>75.902992</td>\n",
       "      <td>0.987157</td>\n",
       "      <td>-0.195604</td>\n",
       "      <td>74.592871</td>\n",
       "      <td>82.762377</td>\n",
       "      <td>8.169506</td>\n",
       "      <td>74.940414</td>\n",
       "      <td>78.483277</td>\n",
       "      <td>3.542864</td>\n",
       "      <td>SQUAT_JUMP</td>\n",
       "    </tr>\n",
       "    <tr>\n",
       "      <th>4</th>\n",
       "      <td>-0.531762</td>\n",
       "      <td>0.477513</td>\n",
       "      <td>-0.542240</td>\n",
       "      <td>0.122923</td>\n",
       "      <td>-1.124368</td>\n",
       "      <td>-1.325675</td>\n",
       "      <td>0.409451</td>\n",
       "      <td>1.735126</td>\n",
       "      <td>-0.947301</td>\n",
       "      <td>-0.120635</td>\n",
       "      <td>...</td>\n",
       "      <td>76.822421</td>\n",
       "      <td>0.904171</td>\n",
       "      <td>-0.226483</td>\n",
       "      <td>75.270298</td>\n",
       "      <td>82.542107</td>\n",
       "      <td>7.271809</td>\n",
       "      <td>75.770279</td>\n",
       "      <td>78.837786</td>\n",
       "      <td>3.067507</td>\n",
       "      <td>SQUAT_JUMP</td>\n",
       "    </tr>\n",
       "  </tbody>\n",
       "</table>\n",
       "<p>5 rows × 100 columns</p>\n",
       "</div>"
      ],
      "text/plain": [
       "   linAccX_mean  linAccX_std  linAccX_median  linAccX_skewness  \\\n",
       "0     -0.014861     0.506932        0.060403         -0.821286   \n",
       "1     -0.258862     0.331395       -0.280417          0.217490   \n",
       "2     -0.306387     0.341339       -0.219120          0.332950   \n",
       "3     -0.499033     0.576167       -0.561358          0.624809   \n",
       "4     -0.531762     0.477513       -0.542240          0.122923   \n",
       "\n",
       "   linAccX_kurtosis  linAccX_min  linAccX_max  linAccX_range  \\\n",
       "0          0.531969    -1.209995     0.897857       2.107853   \n",
       "1         -0.953925    -0.757395     0.409620       1.167015   \n",
       "2         -0.422721    -0.775922     0.516189       1.292112   \n",
       "3         -0.314178    -1.296154     0.947419       2.243573   \n",
       "4         -1.124368    -1.325675     0.409451       1.735126   \n",
       "\n",
       "   linAccX_quartile_25  linAccX_quartile_75  ...  magnZ_median  \\\n",
       "0            -0.079073             0.224277  ...     78.048979   \n",
       "1            -0.528571            -0.000912  ...     77.514917   \n",
       "2            -0.663216            -0.103534  ...     76.992833   \n",
       "3            -0.999718            -0.114907  ...     75.902992   \n",
       "4            -0.947301            -0.120635  ...     76.822421   \n",
       "\n",
       "   magnZ_skewness  magnZ_kurtosis  magnZ_min  magnZ_max  magnZ_range  \\\n",
       "0       -0.232445       -1.206752  69.511118  85.491922    15.980804   \n",
       "1        0.627695       -1.059532  75.765848  82.783665     7.017818   \n",
       "2        0.689447       -1.058784  75.725014  82.625242     6.900228   \n",
       "3        0.987157       -0.195604  74.592871  82.762377     8.169506   \n",
       "4        0.904171       -0.226483  75.270298  82.542107     7.271809   \n",
       "\n",
       "   magnZ_quartile_25  magnZ_quartile_75  magnZ_iqr      target  \n",
       "0          72.551127          82.506873   9.955746  SQUAT_JUMP  \n",
       "1          76.282840          80.206899   3.924059  SQUAT_JUMP  \n",
       "2          75.861459          80.026949   4.165490  SQUAT_JUMP  \n",
       "3          74.940414          78.483277   3.542864  SQUAT_JUMP  \n",
       "4          75.770279          78.837786   3.067507  SQUAT_JUMP  \n",
       "\n",
       "[5 rows x 100 columns]"
      ]
     },
     "execution_count": 5,
     "metadata": {},
     "output_type": "execute_result"
    }
   ],
   "source": [
    "data_info = [create_training_data_stats(info[\"series\"], info[\"target\"]) for info in data] #calling the two functions\n",
    "data_custom = pd.DataFrame(data_info) #creating the DF\n",
    "data_custom.head()"
   ]
  },
  {
   "cell_type": "code",
   "execution_count": 6,
   "id": "82e884af",
   "metadata": {},
   "outputs": [
    {
     "data": {
      "text/plain": [
       "0        SQUAT_JUMP\n",
       "1        SQUAT_JUMP\n",
       "2        SQUAT_JUMP\n",
       "3        SQUAT_JUMP\n",
       "4        SQUAT_JUMP\n",
       "           ...     \n",
       "3845    NO_EXERCISE\n",
       "3846    NO_EXERCISE\n",
       "3847    NO_EXERCISE\n",
       "3848    NO_EXERCISE\n",
       "3849    NO_EXERCISE\n",
       "Name: target, Length: 3850, dtype: object"
      ]
     },
     "execution_count": 6,
     "metadata": {},
     "output_type": "execute_result"
    }
   ],
   "source": [
    "data_custom['target']"
   ]
  },
  {
   "cell_type": "code",
   "execution_count": 7,
   "id": "c1e98ff0",
   "metadata": {},
   "outputs": [
    {
     "data": {
      "text/plain": [
       "3850"
      ]
     },
     "execution_count": 7,
     "metadata": {},
     "output_type": "execute_result"
    }
   ],
   "source": [
    "data_custom['target'].count()"
   ]
  },
  {
   "cell_type": "markdown",
   "id": "b380d7e8",
   "metadata": {},
   "source": [
    "Mapping to transform it into a binqary problem ready to do the ML models:"
   ]
  },
  {
   "cell_type": "code",
   "execution_count": 8,
   "id": "6a47b28e",
   "metadata": {},
   "outputs": [],
   "source": [
    "mapping = {'SQUAT_JUMP': 1, 'NO_EXERCISE': 0}\n",
    "\n",
    "# Mapping the values in the 'target' column:\n",
    "data_custom['target'] = data_custom['target'].map(mapping)"
   ]
  },
  {
   "cell_type": "code",
   "execution_count": 9,
   "id": "eb5261a9",
   "metadata": {},
   "outputs": [
    {
     "data": {
      "text/html": [
       "<div>\n",
       "<style scoped>\n",
       "    .dataframe tbody tr th:only-of-type {\n",
       "        vertical-align: middle;\n",
       "    }\n",
       "\n",
       "    .dataframe tbody tr th {\n",
       "        vertical-align: top;\n",
       "    }\n",
       "\n",
       "    .dataframe thead th {\n",
       "        text-align: right;\n",
       "    }\n",
       "</style>\n",
       "<table border=\"1\" class=\"dataframe\">\n",
       "  <thead>\n",
       "    <tr style=\"text-align: right;\">\n",
       "      <th></th>\n",
       "      <th>linAccX_mean</th>\n",
       "      <th>linAccX_std</th>\n",
       "      <th>linAccX_median</th>\n",
       "      <th>linAccX_skewness</th>\n",
       "      <th>linAccX_kurtosis</th>\n",
       "      <th>linAccX_min</th>\n",
       "      <th>linAccX_max</th>\n",
       "      <th>linAccX_range</th>\n",
       "      <th>linAccX_quartile_25</th>\n",
       "      <th>linAccX_quartile_75</th>\n",
       "      <th>...</th>\n",
       "      <th>magnZ_median</th>\n",
       "      <th>magnZ_skewness</th>\n",
       "      <th>magnZ_kurtosis</th>\n",
       "      <th>magnZ_min</th>\n",
       "      <th>magnZ_max</th>\n",
       "      <th>magnZ_range</th>\n",
       "      <th>magnZ_quartile_25</th>\n",
       "      <th>magnZ_quartile_75</th>\n",
       "      <th>magnZ_iqr</th>\n",
       "      <th>target</th>\n",
       "    </tr>\n",
       "  </thead>\n",
       "  <tbody>\n",
       "    <tr>\n",
       "      <th>0</th>\n",
       "      <td>-0.014861</td>\n",
       "      <td>0.506932</td>\n",
       "      <td>0.060403</td>\n",
       "      <td>-0.821286</td>\n",
       "      <td>0.531969</td>\n",
       "      <td>-1.209995</td>\n",
       "      <td>0.897857</td>\n",
       "      <td>2.107853</td>\n",
       "      <td>-0.079073</td>\n",
       "      <td>0.224277</td>\n",
       "      <td>...</td>\n",
       "      <td>78.048979</td>\n",
       "      <td>-0.232445</td>\n",
       "      <td>-1.206752</td>\n",
       "      <td>69.511118</td>\n",
       "      <td>85.491922</td>\n",
       "      <td>15.980804</td>\n",
       "      <td>72.551127</td>\n",
       "      <td>82.506873</td>\n",
       "      <td>9.955746</td>\n",
       "      <td>1</td>\n",
       "    </tr>\n",
       "    <tr>\n",
       "      <th>1</th>\n",
       "      <td>-0.258862</td>\n",
       "      <td>0.331395</td>\n",
       "      <td>-0.280417</td>\n",
       "      <td>0.217490</td>\n",
       "      <td>-0.953925</td>\n",
       "      <td>-0.757395</td>\n",
       "      <td>0.409620</td>\n",
       "      <td>1.167015</td>\n",
       "      <td>-0.528571</td>\n",
       "      <td>-0.000912</td>\n",
       "      <td>...</td>\n",
       "      <td>77.514917</td>\n",
       "      <td>0.627695</td>\n",
       "      <td>-1.059532</td>\n",
       "      <td>75.765848</td>\n",
       "      <td>82.783665</td>\n",
       "      <td>7.017818</td>\n",
       "      <td>76.282840</td>\n",
       "      <td>80.206899</td>\n",
       "      <td>3.924059</td>\n",
       "      <td>1</td>\n",
       "    </tr>\n",
       "    <tr>\n",
       "      <th>2</th>\n",
       "      <td>-0.306387</td>\n",
       "      <td>0.341339</td>\n",
       "      <td>-0.219120</td>\n",
       "      <td>0.332950</td>\n",
       "      <td>-0.422721</td>\n",
       "      <td>-0.775922</td>\n",
       "      <td>0.516189</td>\n",
       "      <td>1.292112</td>\n",
       "      <td>-0.663216</td>\n",
       "      <td>-0.103534</td>\n",
       "      <td>...</td>\n",
       "      <td>76.992833</td>\n",
       "      <td>0.689447</td>\n",
       "      <td>-1.058784</td>\n",
       "      <td>75.725014</td>\n",
       "      <td>82.625242</td>\n",
       "      <td>6.900228</td>\n",
       "      <td>75.861459</td>\n",
       "      <td>80.026949</td>\n",
       "      <td>4.165490</td>\n",
       "      <td>1</td>\n",
       "    </tr>\n",
       "    <tr>\n",
       "      <th>3</th>\n",
       "      <td>-0.499033</td>\n",
       "      <td>0.576167</td>\n",
       "      <td>-0.561358</td>\n",
       "      <td>0.624809</td>\n",
       "      <td>-0.314178</td>\n",
       "      <td>-1.296154</td>\n",
       "      <td>0.947419</td>\n",
       "      <td>2.243573</td>\n",
       "      <td>-0.999718</td>\n",
       "      <td>-0.114907</td>\n",
       "      <td>...</td>\n",
       "      <td>75.902992</td>\n",
       "      <td>0.987157</td>\n",
       "      <td>-0.195604</td>\n",
       "      <td>74.592871</td>\n",
       "      <td>82.762377</td>\n",
       "      <td>8.169506</td>\n",
       "      <td>74.940414</td>\n",
       "      <td>78.483277</td>\n",
       "      <td>3.542864</td>\n",
       "      <td>1</td>\n",
       "    </tr>\n",
       "    <tr>\n",
       "      <th>4</th>\n",
       "      <td>-0.531762</td>\n",
       "      <td>0.477513</td>\n",
       "      <td>-0.542240</td>\n",
       "      <td>0.122923</td>\n",
       "      <td>-1.124368</td>\n",
       "      <td>-1.325675</td>\n",
       "      <td>0.409451</td>\n",
       "      <td>1.735126</td>\n",
       "      <td>-0.947301</td>\n",
       "      <td>-0.120635</td>\n",
       "      <td>...</td>\n",
       "      <td>76.822421</td>\n",
       "      <td>0.904171</td>\n",
       "      <td>-0.226483</td>\n",
       "      <td>75.270298</td>\n",
       "      <td>82.542107</td>\n",
       "      <td>7.271809</td>\n",
       "      <td>75.770279</td>\n",
       "      <td>78.837786</td>\n",
       "      <td>3.067507</td>\n",
       "      <td>1</td>\n",
       "    </tr>\n",
       "  </tbody>\n",
       "</table>\n",
       "<p>5 rows × 100 columns</p>\n",
       "</div>"
      ],
      "text/plain": [
       "   linAccX_mean  linAccX_std  linAccX_median  linAccX_skewness  \\\n",
       "0     -0.014861     0.506932        0.060403         -0.821286   \n",
       "1     -0.258862     0.331395       -0.280417          0.217490   \n",
       "2     -0.306387     0.341339       -0.219120          0.332950   \n",
       "3     -0.499033     0.576167       -0.561358          0.624809   \n",
       "4     -0.531762     0.477513       -0.542240          0.122923   \n",
       "\n",
       "   linAccX_kurtosis  linAccX_min  linAccX_max  linAccX_range  \\\n",
       "0          0.531969    -1.209995     0.897857       2.107853   \n",
       "1         -0.953925    -0.757395     0.409620       1.167015   \n",
       "2         -0.422721    -0.775922     0.516189       1.292112   \n",
       "3         -0.314178    -1.296154     0.947419       2.243573   \n",
       "4         -1.124368    -1.325675     0.409451       1.735126   \n",
       "\n",
       "   linAccX_quartile_25  linAccX_quartile_75  ...  magnZ_median  \\\n",
       "0            -0.079073             0.224277  ...     78.048979   \n",
       "1            -0.528571            -0.000912  ...     77.514917   \n",
       "2            -0.663216            -0.103534  ...     76.992833   \n",
       "3            -0.999718            -0.114907  ...     75.902992   \n",
       "4            -0.947301            -0.120635  ...     76.822421   \n",
       "\n",
       "   magnZ_skewness  magnZ_kurtosis  magnZ_min  magnZ_max  magnZ_range  \\\n",
       "0       -0.232445       -1.206752  69.511118  85.491922    15.980804   \n",
       "1        0.627695       -1.059532  75.765848  82.783665     7.017818   \n",
       "2        0.689447       -1.058784  75.725014  82.625242     6.900228   \n",
       "3        0.987157       -0.195604  74.592871  82.762377     8.169506   \n",
       "4        0.904171       -0.226483  75.270298  82.542107     7.271809   \n",
       "\n",
       "   magnZ_quartile_25  magnZ_quartile_75  magnZ_iqr  target  \n",
       "0          72.551127          82.506873   9.955746       1  \n",
       "1          76.282840          80.206899   3.924059       1  \n",
       "2          75.861459          80.026949   4.165490       1  \n",
       "3          74.940414          78.483277   3.542864       1  \n",
       "4          75.770279          78.837786   3.067507       1  \n",
       "\n",
       "[5 rows x 100 columns]"
      ]
     },
     "execution_count": 9,
     "metadata": {},
     "output_type": "execute_result"
    }
   ],
   "source": [
    "data_custom.head()"
   ]
  },
  {
   "cell_type": "code",
   "execution_count": 10,
   "id": "24fd3a1d",
   "metadata": {},
   "outputs": [
    {
     "data": {
      "text/plain": [
       "0       1\n",
       "1       1\n",
       "2       1\n",
       "3       1\n",
       "4       1\n",
       "       ..\n",
       "3845    0\n",
       "3846    0\n",
       "3847    0\n",
       "3848    0\n",
       "3849    0\n",
       "Name: target, Length: 3850, dtype: int64"
      ]
     },
     "execution_count": 10,
     "metadata": {},
     "output_type": "execute_result"
    }
   ],
   "source": [
    "data_custom['target']"
   ]
  },
  {
   "cell_type": "code",
   "execution_count": 11,
   "id": "a9d46717",
   "metadata": {},
   "outputs": [
    {
     "data": {
      "text/plain": [
       "3850"
      ]
     },
     "execution_count": 11,
     "metadata": {},
     "output_type": "execute_result"
    }
   ],
   "source": [
    "data_custom['target'].count()"
   ]
  },
  {
   "cell_type": "code",
   "execution_count": 12,
   "id": "cd039a8b",
   "metadata": {},
   "outputs": [
    {
     "name": "stdout",
     "output_type": "stream",
     "text": [
      "<class 'pandas.core.frame.DataFrame'>\n",
      "RangeIndex: 3850 entries, 0 to 3849\n",
      "Data columns (total 100 columns):\n",
      " #   Column               Non-Null Count  Dtype  \n",
      "---  ------               --------------  -----  \n",
      " 0   linAccX_mean         3850 non-null   float64\n",
      " 1   linAccX_std          3850 non-null   float64\n",
      " 2   linAccX_median       3850 non-null   float64\n",
      " 3   linAccX_skewness     3850 non-null   float64\n",
      " 4   linAccX_kurtosis     3850 non-null   float64\n",
      " 5   linAccX_min          3850 non-null   float64\n",
      " 6   linAccX_max          3850 non-null   float64\n",
      " 7   linAccX_range        3850 non-null   float64\n",
      " 8   linAccX_quartile_25  3850 non-null   float64\n",
      " 9   linAccX_quartile_75  3850 non-null   float64\n",
      " 10  linAccX_iqr          3850 non-null   float64\n",
      " 11  linAccY_mean         3850 non-null   float64\n",
      " 12  linAccY_std          3850 non-null   float64\n",
      " 13  linAccY_median       3850 non-null   float64\n",
      " 14  linAccY_skewness     3850 non-null   float64\n",
      " 15  linAccY_kurtosis     3850 non-null   float64\n",
      " 16  linAccY_min          3850 non-null   float64\n",
      " 17  linAccY_max          3850 non-null   float64\n",
      " 18  linAccY_range        3850 non-null   float64\n",
      " 19  linAccY_quartile_25  3850 non-null   float64\n",
      " 20  linAccY_quartile_75  3850 non-null   float64\n",
      " 21  linAccY_iqr          3850 non-null   float64\n",
      " 22  linAccZ_mean         3850 non-null   float64\n",
      " 23  linAccZ_std          3850 non-null   float64\n",
      " 24  linAccZ_median       3850 non-null   float64\n",
      " 25  linAccZ_skewness     3850 non-null   float64\n",
      " 26  linAccZ_kurtosis     3850 non-null   float64\n",
      " 27  linAccZ_min          3850 non-null   float64\n",
      " 28  linAccZ_max          3850 non-null   float64\n",
      " 29  linAccZ_range        3850 non-null   float64\n",
      " 30  linAccZ_quartile_25  3850 non-null   float64\n",
      " 31  linAccZ_quartile_75  3850 non-null   float64\n",
      " 32  linAccZ_iqr          3850 non-null   float64\n",
      " 33  gyroX_mean           3850 non-null   float64\n",
      " 34  gyroX_std            3850 non-null   float64\n",
      " 35  gyroX_median         3850 non-null   float64\n",
      " 36  gyroX_skewness       3850 non-null   float64\n",
      " 37  gyroX_kurtosis       3850 non-null   float64\n",
      " 38  gyroX_min            3850 non-null   float64\n",
      " 39  gyroX_max            3850 non-null   float64\n",
      " 40  gyroX_range          3850 non-null   float64\n",
      " 41  gyroX_quartile_25    3850 non-null   float64\n",
      " 42  gyroX_quartile_75    3850 non-null   float64\n",
      " 43  gyroX_iqr            3850 non-null   float64\n",
      " 44  gyroY_mean           3850 non-null   float64\n",
      " 45  gyroY_std            3850 non-null   float64\n",
      " 46  gyroY_median         3850 non-null   float64\n",
      " 47  gyroY_skewness       3850 non-null   float64\n",
      " 48  gyroY_kurtosis       3850 non-null   float64\n",
      " 49  gyroY_min            3850 non-null   float64\n",
      " 50  gyroY_max            3850 non-null   float64\n",
      " 51  gyroY_range          3850 non-null   float64\n",
      " 52  gyroY_quartile_25    3850 non-null   float64\n",
      " 53  gyroY_quartile_75    3850 non-null   float64\n",
      " 54  gyroY_iqr            3850 non-null   float64\n",
      " 55  gyroZ_mean           3850 non-null   float64\n",
      " 56  gyroZ_std            3850 non-null   float64\n",
      " 57  gyroZ_median         3850 non-null   float64\n",
      " 58  gyroZ_skewness       3850 non-null   float64\n",
      " 59  gyroZ_kurtosis       3850 non-null   float64\n",
      " 60  gyroZ_min            3850 non-null   float64\n",
      " 61  gyroZ_max            3850 non-null   float64\n",
      " 62  gyroZ_range          3850 non-null   float64\n",
      " 63  gyroZ_quartile_25    3850 non-null   float64\n",
      " 64  gyroZ_quartile_75    3850 non-null   float64\n",
      " 65  gyroZ_iqr            3850 non-null   float64\n",
      " 66  magnX_mean           3850 non-null   float64\n",
      " 67  magnX_std            3850 non-null   float64\n",
      " 68  magnX_median         3850 non-null   float64\n",
      " 69  magnX_skewness       3850 non-null   float64\n",
      " 70  magnX_kurtosis       3850 non-null   float64\n",
      " 71  magnX_min            3850 non-null   float64\n",
      " 72  magnX_max            3850 non-null   float64\n",
      " 73  magnX_range          3850 non-null   float64\n",
      " 74  magnX_quartile_25    3850 non-null   float64\n",
      " 75  magnX_quartile_75    3850 non-null   float64\n",
      " 76  magnX_iqr            3850 non-null   float64\n",
      " 77  magnY_mean           3850 non-null   float64\n",
      " 78  magnY_std            3850 non-null   float64\n",
      " 79  magnY_median         3850 non-null   float64\n",
      " 80  magnY_skewness       3850 non-null   float64\n",
      " 81  magnY_kurtosis       3850 non-null   float64\n",
      " 82  magnY_min            3850 non-null   float64\n",
      " 83  magnY_max            3850 non-null   float64\n",
      " 84  magnY_range          3850 non-null   float64\n",
      " 85  magnY_quartile_25    3850 non-null   float64\n",
      " 86  magnY_quartile_75    3850 non-null   float64\n",
      " 87  magnY_iqr            3850 non-null   float64\n",
      " 88  magnZ_mean           3850 non-null   float64\n",
      " 89  magnZ_std            3850 non-null   float64\n",
      " 90  magnZ_median         3850 non-null   float64\n",
      " 91  magnZ_skewness       3850 non-null   float64\n",
      " 92  magnZ_kurtosis       3850 non-null   float64\n",
      " 93  magnZ_min            3850 non-null   float64\n",
      " 94  magnZ_max            3850 non-null   float64\n",
      " 95  magnZ_range          3850 non-null   float64\n",
      " 96  magnZ_quartile_25    3850 non-null   float64\n",
      " 97  magnZ_quartile_75    3850 non-null   float64\n",
      " 98  magnZ_iqr            3850 non-null   float64\n",
      " 99  target               3850 non-null   int64  \n",
      "dtypes: float64(99), int64(1)\n",
      "memory usage: 2.9 MB\n"
     ]
    }
   ],
   "source": [
    "data_custom.info()"
   ]
  },
  {
   "cell_type": "markdown",
   "id": "defc710a-6ac1-4c61-b612-0134506f8855",
   "metadata": {
    "jp-MarkdownHeadingCollapsed": true,
    "tags": []
   },
   "source": [
    "# EDA"
   ]
  },
  {
   "cell_type": "code",
   "execution_count": null,
   "id": "40b273a2736a7321",
   "metadata": {
    "collapsed": false,
    "jupyter": {
     "outputs_hidden": false
    }
   },
   "outputs": [],
   "source": [
    "fig = px.box(data_custom, y=\"linAccZ_mean\", color=\"target\",title = 'Distribution of linAccZ_mean vs target variable')\n",
    "fig.update_traces(quartilemethod=\"exclusive\") \n",
    "fig.show()"
   ]
  },
  {
   "cell_type": "code",
   "execution_count": null,
   "id": "2deb6671b27b5dbd",
   "metadata": {
    "collapsed": false,
    "jupyter": {
     "outputs_hidden": false
    }
   },
   "outputs": [],
   "source": [
    "fig = px.box(data_custom, y=\"linAccY_mean\", color=\"target\",title = 'Distribution of linAccY_mean vs target variable')\n",
    "fig.update_traces(quartilemethod=\"exclusive\") \n",
    "fig.show()"
   ]
  },
  {
   "cell_type": "code",
   "execution_count": null,
   "id": "6436e7eb48e43157",
   "metadata": {
    "collapsed": false,
    "jupyter": {
     "outputs_hidden": false
    }
   },
   "outputs": [],
   "source": [
    "fig = px.box(data_custom, y=\"linAccX_mean\", color=\"target\",title = 'Distribution of linAccX_mean vs target variable')\n",
    "fig.update_traces(quartilemethod=\"exclusive\") \n",
    "fig.show()"
   ]
  },
  {
   "cell_type": "code",
   "execution_count": null,
   "id": "b61dbb1b",
   "metadata": {},
   "outputs": [],
   "source": [
    "fig = px.box(data_custom, y=\"linAccZ_std\", color=\"target\",title = 'Distribution of linAccZ_std vs target variable')\n",
    "fig.update_traces(quartilemethod=\"exclusive\") \n",
    "fig.show()"
   ]
  },
  {
   "cell_type": "code",
   "execution_count": null,
   "id": "d911a6b3",
   "metadata": {},
   "outputs": [],
   "source": [
    "fig = px.box(data_custom, y=\"linAccY_std\", color=\"target\",title = 'Distribution of linAccY_std vs target variable')\n",
    "fig.update_traces(quartilemethod=\"exclusive\") \n",
    "fig.show()"
   ]
  },
  {
   "cell_type": "code",
   "execution_count": null,
   "id": "606aad252d7a3211",
   "metadata": {
    "collapsed": false,
    "jupyter": {
     "outputs_hidden": false
    }
   },
   "outputs": [],
   "source": [
    "fig = px.box(data_custom, y=\"linAccX_std\", color=\"target\",title = 'Distribution of linAccX_std vs target variable')\n",
    "fig.update_traces(quartilemethod=\"exclusive\") \n",
    "fig.show()"
   ]
  },
  {
   "cell_type": "code",
   "execution_count": null,
   "id": "f22fb8ae",
   "metadata": {},
   "outputs": [],
   "source": [
    "fig = px.box(data_custom, y=\"linAccZ_skewness\", color=\"target\",title = 'Distribution of linAccZ_skewness vs target variable')\n",
    "fig.update_traces(quartilemethod=\"exclusive\") \n",
    "fig.show()"
   ]
  },
  {
   "cell_type": "code",
   "execution_count": null,
   "id": "00621698",
   "metadata": {},
   "outputs": [],
   "source": [
    "fig = px.box(data_custom, y=\"linAccY_skewness\", color=\"target\",title = 'Distribution of linAccY_skewness vs target variable')\n",
    "fig.update_traces(quartilemethod=\"exclusive\") \n",
    "fig.show()"
   ]
  },
  {
   "cell_type": "code",
   "execution_count": null,
   "id": "332403e4",
   "metadata": {},
   "outputs": [],
   "source": [
    "fig = px.box(data_custom, y=\"linAccX_skewness\", color=\"target\",title = 'Distribution of linAccX_skewness vs target variable')\n",
    "fig.update_traces(quartilemethod=\"exclusive\") \n",
    "fig.show()"
   ]
  },
  {
   "cell_type": "markdown",
   "id": "32d201f6-c79d-4aab-a5e0-84b73af6d0d0",
   "metadata": {
    "jp-MarkdownHeadingCollapsed": true,
    "tags": []
   },
   "source": [
    "# Data prep for model"
   ]
  },
  {
   "cell_type": "code",
   "execution_count": 13,
   "id": "dcf9653b-fe1e-4eb1-9f0d-b7d567d212c8",
   "metadata": {},
   "outputs": [
    {
     "data": {
      "text/plain": [
       "3850"
      ]
     },
     "execution_count": 13,
     "metadata": {},
     "output_type": "execute_result"
    }
   ],
   "source": [
    "len(data_custom)"
   ]
  },
  {
   "cell_type": "code",
   "execution_count": 14,
   "id": "ea81d21c-c9e0-4ab4-8591-5323dce0bddf",
   "metadata": {},
   "outputs": [
    {
     "data": {
      "text/plain": [
       "target\n",
       "0    3584\n",
       "1     266\n",
       "dtype: int64"
      ]
     },
     "execution_count": 14,
     "metadata": {},
     "output_type": "execute_result"
    }
   ],
   "source": [
    "#target imbalanced classes\n",
    "data_custom.groupby('target').size()"
   ]
  },
  {
   "cell_type": "code",
   "execution_count": 15,
   "id": "ce560ff6-8882-4c2d-94ea-60151f61c6a0",
   "metadata": {},
   "outputs": [
    {
     "data": {
      "text/plain": [
       "<Axes: xlabel='target', ylabel='count'>"
      ]
     },
     "execution_count": 15,
     "metadata": {},
     "output_type": "execute_result"
    },
    {
     "data": {
      "image/png": "[encoded data removed]",
      "text/plain": [
       "<Figure size 640x480 with 1 Axes>"
      ]
     },
     "metadata": {},
     "output_type": "display_data"
    }
   ],
   "source": [
    "sns.countplot(x=data_custom['target'], label = \"pushup\")"
   ]
  },
  {
   "cell_type": "code",
   "execution_count": 16,
   "id": "8e94793e-9865-4201-8123-eef928d76a55",
   "metadata": {},
   "outputs": [],
   "source": [
    "#sns.pairplot(data_custom, hue= 'target',vars=[\"linAccX_mean\", \"linAccY_mean\", \"linAccZ_mean\"])"
   ]
  },
  {
   "cell_type": "markdown",
   "id": "6747a4e4",
   "metadata": {},
   "source": [
    "## TREATING THE IMBALANCE "
   ]
  },
  {
   "cell_type": "code",
   "execution_count": 17,
   "id": "b0e4383d",
   "metadata": {},
   "outputs": [
    {
     "name": "stdout",
     "output_type": "stream",
     "text": [
      "Shapes - X_train: (399, 99) X_test: (133, 99) y_train: (399,) y_test: (133,)\n"
     ]
    }
   ],
   "source": [
    "import pandas as pd\n",
    "from sklearn.model_selection import train_test_split\n",
    "from sklearn.utils import resample\n",
    "\n",
    "\n",
    "# Separate the minority and majority classes\n",
    "minority_class = data_custom[data_custom['target'] == 1]  \n",
    "majority_class = data_custom[data_custom['target'] == 0]  \n",
    "\n",
    "# Downsample the majority class \n",
    "majority_downsampled = resample(majority_class, replace=False, n_samples=len(minority_class), random_state=42)\n",
    "\n",
    "# Concatenate BOTH\n",
    "balanced_data = pd.concat([minority_class, majority_downsampled])\n",
    "\n",
    "# SPLIT the data into features (X) and target variable (y)\n",
    "X = balanced_data.drop('target', axis=1)  # Assuming 'target' is the column to be predicted\n",
    "y = balanced_data['target']\n",
    "\n",
    "# Split the data into training and testing sets with stratification\n",
    "X_train, X_test, y_train, y_test = train_test_split(X, y, test_size=0.25, random_state=42, stratify=y)\n",
    "\n",
    "# Display shapes of the split datasets\n",
    "print(\"Shapes - X_train:\", X_train.shape, \"X_test:\", X_test.shape, \"y_train:\", y_train.shape, \"y_test:\", y_test.shape)"
   ]
  },
  {
   "cell_type": "markdown",
   "id": "dfd38356",
   "metadata": {},
   "source": [
    "## KBEST + SCALER"
   ]
  },
  {
   "cell_type": "code",
   "execution_count": 18,
   "id": "2a0a6263",
   "metadata": {},
   "outputs": [],
   "source": [
    "selected = SelectKBest(score_func=f_classif, k=9)\n",
    "X_train_selected=selected.fit_transform(X_train, y_train)\n",
    "X_test_selected = selected.transform(X_test) "
   ]
  },
  {
   "cell_type": "code",
   "execution_count": 19,
   "id": "53daca05",
   "metadata": {},
   "outputs": [],
   "source": [
    "# Scale Data\n",
    "scaler = StandardScaler()\n",
    "X_train_full = scaler.fit_transform(X_train_selected) #ONLY USING SELECTED VARIABLES\n",
    "\n",
    "X_test_full = scaler.transform(X_test_selected)"
   ]
  },
  {
   "cell_type": "markdown",
   "id": "29e3963d",
   "metadata": {},
   "source": [
    "##SAVING MODELS"
   ]
  },
  {
   "cell_type": "code",
   "execution_count": 20,
   "id": "1a55526e",
   "metadata": {},
   "outputs": [],
   "source": [
    "results_hard = {}\n",
    "results_soft = {}"
   ]
  },
  {
   "cell_type": "markdown",
   "id": "2b070e0f",
   "metadata": {},
   "source": [
    "## SVM"
   ]
  },
  {
   "cell_type": "code",
   "execution_count": 21,
   "id": "3acf403b",
   "metadata": {},
   "outputs": [
    {
     "data": {
      "text/plain": [
       "['accuracy',\n",
       " 'adjusted_mutual_info_score',\n",
       " 'adjusted_rand_score',\n",
       " 'average_precision',\n",
       " 'balanced_accuracy',\n",
       " 'completeness_score',\n",
       " 'explained_variance',\n",
       " 'f1',\n",
       " 'f1_macro',\n",
       " 'f1_micro',\n",
       " 'f1_samples',\n",
       " 'f1_weighted',\n",
       " 'fowlkes_mallows_score',\n",
       " 'homogeneity_score',\n",
       " 'jaccard',\n",
       " 'jaccard_macro',\n",
       " 'jaccard_micro',\n",
       " 'jaccard_samples',\n",
       " 'jaccard_weighted',\n",
       " 'matthews_corrcoef',\n",
       " 'max_error',\n",
       " 'mutual_info_score',\n",
       " 'neg_brier_score',\n",
       " 'neg_log_loss',\n",
       " 'neg_mean_absolute_error',\n",
       " 'neg_mean_absolute_percentage_error',\n",
       " 'neg_mean_gamma_deviance',\n",
       " 'neg_mean_poisson_deviance',\n",
       " 'neg_mean_squared_error',\n",
       " 'neg_mean_squared_log_error',\n",
       " 'neg_median_absolute_error',\n",
       " 'neg_negative_likelihood_ratio',\n",
       " 'neg_root_mean_squared_error',\n",
       " 'normalized_mutual_info_score',\n",
       " 'positive_likelihood_ratio',\n",
       " 'precision',\n",
       " 'precision_macro',\n",
       " 'precision_micro',\n",
       " 'precision_samples',\n",
       " 'precision_weighted',\n",
       " 'r2',\n",
       " 'rand_score',\n",
       " 'recall',\n",
       " 'recall_macro',\n",
       " 'recall_micro',\n",
       " 'recall_samples',\n",
       " 'recall_weighted',\n",
       " 'roc_auc',\n",
       " 'roc_auc_ovo',\n",
       " 'roc_auc_ovo_weighted',\n",
       " 'roc_auc_ovr',\n",
       " 'roc_auc_ovr_weighted',\n",
       " 'top_k_accuracy',\n",
       " 'v_measure_score']"
      ]
     },
     "execution_count": 21,
     "metadata": {},
     "output_type": "execute_result"
    }
   ],
   "source": [
    "import sklearn\n",
    "sklearn.metrics.get_scorer_names()"
   ]
  },
  {
   "cell_type": "code",
   "execution_count": 22,
   "id": "7b9bce1b",
   "metadata": {},
   "outputs": [
    {
     "data": {
      "text/html": [
       "<style>#sk-container-id-1 {color: black;background-color: white;}#sk-container-id-1 pre{padding: 0;}#sk-container-id-1 div.sk-toggleable {background-color: white;}#sk-container-id-1 label.sk-toggleable__label {cursor: pointer;display: block;width: 100%;margin-bottom: 0;padding: 0.3em;box-sizing: border-box;text-align: center;}#sk-container-id-1 label.sk-toggleable__label-arrow:before {content: \"▸\";float: left;margin-right: 0.25em;color: #696969;}#sk-container-id-1 label.sk-toggleable__label-arrow:hover:before {color: black;}#sk-container-id-1 div.sk-estimator:hover label.sk-toggleable__label-arrow:before {color: black;}#sk-container-id-1 div.sk-toggleable__content {max-height: 0;max-width: 0;overflow: hidden;text-align: left;background-color: #f0f8ff;}#sk-container-id-1 div.sk-toggleable__content pre {margin: 0.2em;color: black;border-radius: 0.25em;background-color: #f0f8ff;}#sk-container-id-1 input.sk-toggleable__control:checked~div.sk-toggleable__content {max-height: 200px;max-width: 100%;overflow: auto;}#sk-container-id-1 input.sk-toggleable__control:checked~label.sk-toggleable__label-arrow:before {content: \"▾\";}#sk-container-id-1 div.sk-estimator input.sk-toggleable__control:checked~label.sk-toggleable__label {background-color: #d4ebff;}#sk-container-id-1 div.sk-label input.sk-toggleable__control:checked~label.sk-toggleable__label {background-color: #d4ebff;}#sk-container-id-1 input.sk-hidden--visually {border: 0;clip: rect(1px 1px 1px 1px);clip: rect(1px, 1px, 1px, 1px);height: 1px;margin: -1px;overflow: hidden;padding: 0;position: absolute;width: 1px;}#sk-container-id-1 div.sk-estimator {font-family: monospace;background-color: #f0f8ff;border: 1px dotted black;border-radius: 0.25em;box-sizing: border-box;margin-bottom: 0.5em;}#sk-container-id-1 div.sk-estimator:hover {background-color: #d4ebff;}#sk-container-id-1 div.sk-parallel-item::after {content: \"\";width: 100%;border-bottom: 1px solid gray;flex-grow: 1;}#sk-container-id-1 div.sk-label:hover label.sk-toggleable__label {background-color: #d4ebff;}#sk-container-id-1 div.sk-serial::before {content: \"\";position: absolute;border-left: 1px solid gray;box-sizing: border-box;top: 0;bottom: 0;left: 50%;z-index: 0;}#sk-container-id-1 div.sk-serial {display: flex;flex-direction: column;align-items: center;background-color: white;padding-right: 0.2em;padding-left: 0.2em;position: relative;}#sk-container-id-1 div.sk-item {position: relative;z-index: 1;}#sk-container-id-1 div.sk-parallel {display: flex;align-items: stretch;justify-content: center;background-color: white;position: relative;}#sk-container-id-1 div.sk-item::before, #sk-container-id-1 div.sk-parallel-item::before {content: \"\";position: absolute;border-left: 1px solid gray;box-sizing: border-box;top: 0;bottom: 0;left: 50%;z-index: -1;}#sk-container-id-1 div.sk-parallel-item {display: flex;flex-direction: column;z-index: 1;position: relative;background-color: white;}#sk-container-id-1 div.sk-parallel-item:first-child::after {align-self: flex-end;width: 50%;}#sk-container-id-1 div.sk-parallel-item:last-child::after {align-self: flex-start;width: 50%;}#sk-container-id-1 div.sk-parallel-item:only-child::after {width: 0;}#sk-container-id-1 div.sk-dashed-wrapped {border: 1px dashed gray;margin: 0 0.4em 0.5em 0.4em;box-sizing: border-box;padding-bottom: 0.4em;background-color: white;}#sk-container-id-1 div.sk-label label {font-family: monospace;font-weight: bold;display: inline-block;line-height: 1.2em;}#sk-container-id-1 div.sk-label-container {text-align: center;}#sk-container-id-1 div.sk-container {/* jupyter's `normalize.less` sets `[hidden] { display: none; }` but bootstrap.min.css set `[hidden] { display: none !important; }` so we also need the `!important` here to be able to override the default hidden behavior on the sphinx rendered scikit-learn.org. See: https://github.com/scikit-learn/scikit-learn/issues/21755 */display: inline-block !important;position: relative;}#sk-container-id-1 div.sk-text-repr-fallback {display: none;}</style><div id=\"sk-container-id-1\" class=\"sk-top-container\"><div class=\"sk-text-repr-fallback\"><pre>RandomizedSearchCV(estimator=SVC(probability=True), n_iter=5, n_jobs=7,\n",
       "                   param_distributions={&#x27;C&#x27;: [0.1, 1, 10, 100, 1000],\n",
       "                                        &#x27;gamma&#x27;: [1, 0.1, 0.01, 0.001, 0.0001],\n",
       "                                        &#x27;kernel&#x27;: [&#x27;linear&#x27;]},\n",
       "                   return_train_score=True, scoring=&#x27;roc_auc&#x27;)</pre><b>In a Jupyter environment, please rerun this cell to show the HTML representation or trust the notebook. <br />On GitHub, the HTML representation is unable to render, please try loading this page with nbviewer.org.</b></div><div class=\"sk-container\" hidden><div class=\"sk-item sk-dashed-wrapped\"><div class=\"sk-label-container\"><div class=\"sk-label sk-toggleable\"><input class=\"sk-toggleable__control sk-hidden--visually\" id=\"sk-estimator-id-1\" type=\"checkbox\" ><label for=\"sk-estimator-id-1\" class=\"sk-toggleable__label sk-toggleable__label-arrow\">RandomizedSearchCV</label><div class=\"sk-toggleable__content\"><pre>RandomizedSearchCV(estimator=SVC(probability=True), n_iter=5, n_jobs=7,\n",
       "                   param_distributions={&#x27;C&#x27;: [0.1, 1, 10, 100, 1000],\n",
       "                                        &#x27;gamma&#x27;: [1, 0.1, 0.01, 0.001, 0.0001],\n",
       "                                        &#x27;kernel&#x27;: [&#x27;linear&#x27;]},\n",
       "                   return_train_score=True, scoring=&#x27;roc_auc&#x27;)</pre></div></div></div><div class=\"sk-parallel\"><div class=\"sk-parallel-item\"><div class=\"sk-item\"><div class=\"sk-label-container\"><div class=\"sk-label sk-toggleable\"><input class=\"sk-toggleable__control sk-hidden--visually\" id=\"sk-estimator-id-2\" type=\"checkbox\" ><label for=\"sk-estimator-id-2\" class=\"sk-toggleable__label sk-toggleable__label-arrow\">estimator: SVC</label><div class=\"sk-toggleable__content\"><pre>SVC(probability=True)</pre></div></div></div><div class=\"sk-serial\"><div class=\"sk-item\"><div class=\"sk-estimator sk-toggleable\"><input class=\"sk-toggleable__control sk-hidden--visually\" id=\"sk-estimator-id-3\" type=\"checkbox\" ><label for=\"sk-estimator-id-3\" class=\"sk-toggleable__label sk-toggleable__label-arrow\">SVC</label><div class=\"sk-toggleable__content\"><pre>SVC(probability=True)</pre></div></div></div></div></div></div></div></div></div></div>"
      ],
      "text/plain": [
       "RandomizedSearchCV(estimator=SVC(probability=True), n_iter=5, n_jobs=7,\n",
       "                   param_distributions={'C': [0.1, 1, 10, 100, 1000],\n",
       "                                        'gamma': [1, 0.1, 0.01, 0.001, 0.0001],\n",
       "                                        'kernel': ['linear']},\n",
       "                   return_train_score=True, scoring='roc_auc')"
      ]
     },
     "execution_count": 22,
     "metadata": {},
     "output_type": "execute_result"
    }
   ],
   "source": [
    "from sklearn.svm import SVC\n",
    "import numpy as np\n",
    "from sklearn.model_selection import RandomizedSearchCV\n",
    "svm = SVC(probability=True)\n",
    "\n",
    "param_grid = {'C': [0.1, 1, 10, 100, 1000], \n",
    "              'gamma': [1, 0.1, 0.01, 0.001, 0.0001], \n",
    "              'kernel': ['linear']}\n",
    "\n",
    "\n",
    "# Realizar la búsqueda aleatoria de hiperparámetros\n",
    "random_search_svm = RandomizedSearchCV(\n",
    "    estimator=svm,\n",
    "    param_distributions=param_grid,\n",
    "    n_iter=5,  \n",
    "    scoring=\"roc_auc\",  \n",
    "    n_jobs=7,\n",
    "    return_train_score=True\n",
    ")\n",
    "random_search_svm.fit(X_train_full, y_train)"
   ]
  },
  {
   "cell_type": "code",
   "execution_count": 23,
   "id": "a8a04cf3",
   "metadata": {},
   "outputs": [
    {
     "name": "stdout",
     "output_type": "stream",
     "text": [
      "              precision    recall  f1-score   support\n",
      "\n",
      "           0       0.96      0.89      0.93       199\n",
      "           1       0.90      0.96      0.93       200\n",
      "\n",
      "    accuracy                           0.93       399\n",
      "   macro avg       0.93      0.93      0.93       399\n",
      "weighted avg       0.93      0.93      0.93       399\n",
      "\n"
     ]
    }
   ],
   "source": [
    "#Evaluate: TRAIN\n",
    "proba_train = random_search_svm.predict_proba(X_train_full)\n",
    "pred_train = random_search_svm.predict(X_train_full)\n",
    "print(classification_report(y_train,pred_train))"
   ]
  },
  {
   "cell_type": "code",
   "execution_count": 24,
   "id": "95e70f49",
   "metadata": {},
   "outputs": [
    {
     "name": "stdout",
     "output_type": "stream",
     "text": [
      "              precision    recall  f1-score   support\n",
      "\n",
      "           0       0.93      0.85      0.89        67\n",
      "           1       0.86      0.94      0.90        66\n",
      "\n",
      "    accuracy                           0.89       133\n",
      "   macro avg       0.90      0.90      0.89       133\n",
      "weighted avg       0.90      0.89      0.89       133\n",
      "\n"
     ]
    }
   ],
   "source": [
    "#Evaluate: TEST\n",
    "proba_test = random_search_svm.predict_proba(X_test_full)\n",
    "pred_test = random_search_svm.predict(X_test_full)\n",
    "print(classification_report(y_test,pred_test))"
   ]
  },
  {
   "cell_type": "markdown",
   "id": "161f5511",
   "metadata": {},
   "source": [
    "## ANOTHER APPROACH"
   ]
  },
  {
   "cell_type": "code",
   "execution_count": 25,
   "id": "2baceb9a",
   "metadata": {},
   "outputs": [
    {
     "name": "stdout",
     "output_type": "stream",
     "text": [
      "Best Parameters: {'C': 10, 'gamma': 0.1, 'kernel': 'rbf'}\n",
      "Best F1 Score (Cross-validation): 0.9308311077033385\n",
      "F1 Score on Test Set: 0.9285714285714285\n"
     ]
    }
   ],
   "source": [
    "from sklearn.svm import SVC\n",
    "import numpy as np\n",
    "from sklearn.model_selection import GridSearchCV\n",
    "\n",
    "param_grid = {'C': [0.1, 1, 10, 100, 1000], \n",
    "              'gamma': [1, 0.1, 0.01, 0.001, 0.0001], \n",
    "              'kernel': ['linear', 'rbf', 'poly', 'sigmoid']}\n",
    "\n",
    "# Perform GridSearchCV\n",
    "grid_search = GridSearchCV(svm, param_grid, scoring='f1', cv=6)  \n",
    "grid_search.fit(X_train_full, y_train)  \n",
    "\n",
    "# Get the best parameters and best F1 score\n",
    "best_params = grid_search.best_params_\n",
    "best_f1 = grid_search.best_score_\n",
    "\n",
    "# Use the best model for prediction on test data\n",
    "best_model = grid_search.best_estimator_\n",
    "y_pred = best_model.predict(X_test_full)\n",
    "\n",
    "# Calculate F1 score on the test set\n",
    "f1_test = f1_score(y_test, y_pred)\n",
    "\n",
    "print(\"Best Parameters:\", best_params)\n",
    "print(\"Best F1 Score (Cross-validation):\", best_f1)\n",
    "print(\"F1 Score on Test Set:\", f1_test)\n"
   ]
  },
  {
   "cell_type": "code",
   "execution_count": 26,
   "id": "778d712d",
   "metadata": {},
   "outputs": [
    {
     "name": "stdout",
     "output_type": "stream",
     "text": [
      "Fitting 5 folds for each of 9 candidates, totalling 45 fits\n",
      "[CV 1/5; 1/9] START C=0.1, gamma=1, kernel=linear...............................\n",
      "[CV 1/5; 1/9] END C=0.1, gamma=1, kernel=linear;, score=0.875 total time=   0.0s\n",
      "[CV 2/5; 1/9] START C=0.1, gamma=1, kernel=linear...............................\n",
      "[CV 2/5; 1/9] END C=0.1, gamma=1, kernel=linear;, score=0.925 total time=   0.0s\n",
      "[CV 3/5; 1/9] START C=0.1, gamma=1, kernel=linear...............................\n",
      "[CV 3/5; 1/9] END C=0.1, gamma=1, kernel=linear;, score=0.912 total time=   0.0s\n",
      "[CV 4/5; 1/9] START C=0.1, gamma=1, kernel=linear...............................\n",
      "[CV 4/5; 1/9] END C=0.1, gamma=1, kernel=linear;, score=0.850 total time=   0.0s\n",
      "[CV 5/5; 1/9] START C=0.1, gamma=1, kernel=linear...............................\n",
      "[CV 5/5; 1/9] END C=0.1, gamma=1, kernel=linear;, score=0.949 total time=   0.0s\n",
      "[CV 1/5; 2/9] START C=0.1, gamma=0.1, kernel=linear.............................\n",
      "[CV 1/5; 2/9] END C=0.1, gamma=0.1, kernel=linear;, score=0.875 total time=   0.0s\n",
      "[CV 2/5; 2/9] START C=0.1, gamma=0.1, kernel=linear.............................\n",
      "[CV 2/5; 2/9] END C=0.1, gamma=0.1, kernel=linear;, score=0.925 total time=   0.0s\n",
      "[CV 3/5; 2/9] START C=0.1, gamma=0.1, kernel=linear.............................\n",
      "[CV 3/5; 2/9] END C=0.1, gamma=0.1, kernel=linear;, score=0.912 total time=   0.0s\n",
      "[CV 4/5; 2/9] START C=0.1, gamma=0.1, kernel=linear.............................\n",
      "[CV 4/5; 2/9] END C=0.1, gamma=0.1, kernel=linear;, score=0.850 total time=   0.0s\n",
      "[CV 5/5; 2/9] START C=0.1, gamma=0.1, kernel=linear.............................\n",
      "[CV 5/5; 2/9] END C=0.1, gamma=0.1, kernel=linear;, score=0.949 total time=   0.0s\n",
      "[CV 1/5; 3/9] START C=0.1, gamma=0.01, kernel=linear............................\n",
      "[CV 1/5; 3/9] END C=0.1, gamma=0.01, kernel=linear;, score=0.875 total time=   0.0s\n",
      "[CV 2/5; 3/9] START C=0.1, gamma=0.01, kernel=linear............................\n",
      "[CV 2/5; 3/9] END C=0.1, gamma=0.01, kernel=linear;, score=0.925 total time=   0.0s\n",
      "[CV 3/5; 3/9] START C=0.1, gamma=0.01, kernel=linear............................\n",
      "[CV 3/5; 3/9] END C=0.1, gamma=0.01, kernel=linear;, score=0.912 total time=   0.0s\n",
      "[CV 4/5; 3/9] START C=0.1, gamma=0.01, kernel=linear............................\n",
      "[CV 4/5; 3/9] END C=0.1, gamma=0.01, kernel=linear;, score=0.850 total time=   0.0s\n",
      "[CV 5/5; 3/9] START C=0.1, gamma=0.01, kernel=linear............................\n",
      "[CV 5/5; 3/9] END C=0.1, gamma=0.01, kernel=linear;, score=0.949 total time=   0.0s\n",
      "[CV 1/5; 4/9] START C=1, gamma=1, kernel=linear.................................\n",
      "[CV 1/5; 4/9] END ..C=1, gamma=1, kernel=linear;, score=0.925 total time=   0.0s\n",
      "[CV 2/5; 4/9] START C=1, gamma=1, kernel=linear.................................\n",
      "[CV 2/5; 4/9] END ..C=1, gamma=1, kernel=linear;, score=0.950 total time=   0.0s\n",
      "[CV 3/5; 4/9] START C=1, gamma=1, kernel=linear.................................\n",
      "[CV 3/5; 4/9] END ..C=1, gamma=1, kernel=linear;, score=0.912 total time=   0.0s\n",
      "[CV 4/5; 4/9] START C=1, gamma=1, kernel=linear.................................\n",
      "[CV 4/5; 4/9] END ..C=1, gamma=1, kernel=linear;, score=0.875 total time=   0.0s\n",
      "[CV 5/5; 4/9] START C=1, gamma=1, kernel=linear.................................\n",
      "[CV 5/5; 4/9] END ..C=1, gamma=1, kernel=linear;, score=0.937 total time=   0.0s\n",
      "[CV 1/5; 5/9] START C=1, gamma=0.1, kernel=linear...............................\n",
      "[CV 1/5; 5/9] END C=1, gamma=0.1, kernel=linear;, score=0.925 total time=   0.0s\n",
      "[CV 2/5; 5/9] START C=1, gamma=0.1, kernel=linear...............................\n",
      "[CV 2/5; 5/9] END C=1, gamma=0.1, kernel=linear;, score=0.950 total time=   0.0s\n",
      "[CV 3/5; 5/9] START C=1, gamma=0.1, kernel=linear...............................\n",
      "[CV 3/5; 5/9] END C=1, gamma=0.1, kernel=linear;, score=0.912 total time=   0.0s\n",
      "[CV 4/5; 5/9] START C=1, gamma=0.1, kernel=linear...............................\n",
      "[CV 4/5; 5/9] END C=1, gamma=0.1, kernel=linear;, score=0.875 total time=   0.0s\n",
      "[CV 5/5; 5/9] START C=1, gamma=0.1, kernel=linear...............................\n",
      "[CV 5/5; 5/9] END C=1, gamma=0.1, kernel=linear;, score=0.937 total time=   0.0s\n",
      "[CV 1/5; 6/9] START C=1, gamma=0.01, kernel=linear..............................\n",
      "[CV 1/5; 6/9] END C=1, gamma=0.01, kernel=linear;, score=0.925 total time=   0.0s\n",
      "[CV 2/5; 6/9] START C=1, gamma=0.01, kernel=linear..............................\n",
      "[CV 2/5; 6/9] END C=1, gamma=0.01, kernel=linear;, score=0.950 total time=   0.0s\n",
      "[CV 3/5; 6/9] START C=1, gamma=0.01, kernel=linear..............................\n",
      "[CV 3/5; 6/9] END C=1, gamma=0.01, kernel=linear;, score=0.912 total time=   0.0s\n",
      "[CV 4/5; 6/9] START C=1, gamma=0.01, kernel=linear..............................\n",
      "[CV 4/5; 6/9] END C=1, gamma=0.01, kernel=linear;, score=0.875 total time=   0.0s\n",
      "[CV 5/5; 6/9] START C=1, gamma=0.01, kernel=linear..............................\n",
      "[CV 5/5; 6/9] END C=1, gamma=0.01, kernel=linear;, score=0.937 total time=   0.0s\n",
      "[CV 1/5; 7/9] START C=10, gamma=1, kernel=linear................................\n",
      "[CV 1/5; 7/9] END .C=10, gamma=1, kernel=linear;, score=0.925 total time=   0.0s\n",
      "[CV 2/5; 7/9] START C=10, gamma=1, kernel=linear................................\n",
      "[CV 2/5; 7/9] END .C=10, gamma=1, kernel=linear;, score=0.950 total time=   0.0s\n",
      "[CV 3/5; 7/9] START C=10, gamma=1, kernel=linear................................\n",
      "[CV 3/5; 7/9] END .C=10, gamma=1, kernel=linear;, score=0.912 total time=   0.0s\n",
      "[CV 4/5; 7/9] START C=10, gamma=1, kernel=linear................................\n",
      "[CV 4/5; 7/9] END .C=10, gamma=1, kernel=linear;, score=0.875 total time=   0.0s\n",
      "[CV 5/5; 7/9] START C=10, gamma=1, kernel=linear................................\n",
      "[CV 5/5; 7/9] END .C=10, gamma=1, kernel=linear;, score=0.924 total time=   0.0s\n",
      "[CV 1/5; 8/9] START C=10, gamma=0.1, kernel=linear..............................\n",
      "[CV 1/5; 8/9] END C=10, gamma=0.1, kernel=linear;, score=0.925 total time=   0.0s\n",
      "[CV 2/5; 8/9] START C=10, gamma=0.1, kernel=linear..............................\n",
      "[CV 2/5; 8/9] END C=10, gamma=0.1, kernel=linear;, score=0.950 total time=   0.0s\n",
      "[CV 3/5; 8/9] START C=10, gamma=0.1, kernel=linear..............................\n",
      "[CV 3/5; 8/9] END C=10, gamma=0.1, kernel=linear;, score=0.912 total time=   0.0s\n",
      "[CV 4/5; 8/9] START C=10, gamma=0.1, kernel=linear..............................\n",
      "[CV 4/5; 8/9] END C=10, gamma=0.1, kernel=linear;, score=0.875 total time=   0.0s\n",
      "[CV 5/5; 8/9] START C=10, gamma=0.1, kernel=linear..............................\n",
      "[CV 5/5; 8/9] END C=10, gamma=0.1, kernel=linear;, score=0.924 total time=   0.0s\n",
      "[CV 1/5; 9/9] START C=10, gamma=0.01, kernel=linear.............................\n",
      "[CV 1/5; 9/9] END C=10, gamma=0.01, kernel=linear;, score=0.925 total time=   0.0s\n",
      "[CV 2/5; 9/9] START C=10, gamma=0.01, kernel=linear.............................\n",
      "[CV 2/5; 9/9] END C=10, gamma=0.01, kernel=linear;, score=0.950 total time=   0.0s\n",
      "[CV 3/5; 9/9] START C=10, gamma=0.01, kernel=linear.............................\n",
      "[CV 3/5; 9/9] END C=10, gamma=0.01, kernel=linear;, score=0.912 total time=   0.0s\n",
      "[CV 4/5; 9/9] START C=10, gamma=0.01, kernel=linear.............................\n",
      "[CV 4/5; 9/9] END C=10, gamma=0.01, kernel=linear;, score=0.875 total time=   0.0s\n",
      "[CV 5/5; 9/9] START C=10, gamma=0.01, kernel=linear.............................\n",
      "[CV 5/5; 9/9] END C=10, gamma=0.01, kernel=linear;, score=0.924 total time=   0.0s\n"
     ]
    },
    {
     "data": {
      "text/html": [
       "<style>#sk-container-id-2 {color: black;background-color: white;}#sk-container-id-2 pre{padding: 0;}#sk-container-id-2 div.sk-toggleable {background-color: white;}#sk-container-id-2 label.sk-toggleable__label {cursor: pointer;display: block;width: 100%;margin-bottom: 0;padding: 0.3em;box-sizing: border-box;text-align: center;}#sk-container-id-2 label.sk-toggleable__label-arrow:before {content: \"▸\";float: left;margin-right: 0.25em;color: #696969;}#sk-container-id-2 label.sk-toggleable__label-arrow:hover:before {color: black;}#sk-container-id-2 div.sk-estimator:hover label.sk-toggleable__label-arrow:before {color: black;}#sk-container-id-2 div.sk-toggleable__content {max-height: 0;max-width: 0;overflow: hidden;text-align: left;background-color: #f0f8ff;}#sk-container-id-2 div.sk-toggleable__content pre {margin: 0.2em;color: black;border-radius: 0.25em;background-color: #f0f8ff;}#sk-container-id-2 input.sk-toggleable__control:checked~div.sk-toggleable__content {max-height: 200px;max-width: 100%;overflow: auto;}#sk-container-id-2 input.sk-toggleable__control:checked~label.sk-toggleable__label-arrow:before {content: \"▾\";}#sk-container-id-2 div.sk-estimator input.sk-toggleable__control:checked~label.sk-toggleable__label {background-color: #d4ebff;}#sk-container-id-2 div.sk-label input.sk-toggleable__control:checked~label.sk-toggleable__label {background-color: #d4ebff;}#sk-container-id-2 input.sk-hidden--visually {border: 0;clip: rect(1px 1px 1px 1px);clip: rect(1px, 1px, 1px, 1px);height: 1px;margin: -1px;overflow: hidden;padding: 0;position: absolute;width: 1px;}#sk-container-id-2 div.sk-estimator {font-family: monospace;background-color: #f0f8ff;border: 1px dotted black;border-radius: 0.25em;box-sizing: border-box;margin-bottom: 0.5em;}#sk-container-id-2 div.sk-estimator:hover {background-color: #d4ebff;}#sk-container-id-2 div.sk-parallel-item::after {content: \"\";width: 100%;border-bottom: 1px solid gray;flex-grow: 1;}#sk-container-id-2 div.sk-label:hover label.sk-toggleable__label {background-color: #d4ebff;}#sk-container-id-2 div.sk-serial::before {content: \"\";position: absolute;border-left: 1px solid gray;box-sizing: border-box;top: 0;bottom: 0;left: 50%;z-index: 0;}#sk-container-id-2 div.sk-serial {display: flex;flex-direction: column;align-items: center;background-color: white;padding-right: 0.2em;padding-left: 0.2em;position: relative;}#sk-container-id-2 div.sk-item {position: relative;z-index: 1;}#sk-container-id-2 div.sk-parallel {display: flex;align-items: stretch;justify-content: center;background-color: white;position: relative;}#sk-container-id-2 div.sk-item::before, #sk-container-id-2 div.sk-parallel-item::before {content: \"\";position: absolute;border-left: 1px solid gray;box-sizing: border-box;top: 0;bottom: 0;left: 50%;z-index: -1;}#sk-container-id-2 div.sk-parallel-item {display: flex;flex-direction: column;z-index: 1;position: relative;background-color: white;}#sk-container-id-2 div.sk-parallel-item:first-child::after {align-self: flex-end;width: 50%;}#sk-container-id-2 div.sk-parallel-item:last-child::after {align-self: flex-start;width: 50%;}#sk-container-id-2 div.sk-parallel-item:only-child::after {width: 0;}#sk-container-id-2 div.sk-dashed-wrapped {border: 1px dashed gray;margin: 0 0.4em 0.5em 0.4em;box-sizing: border-box;padding-bottom: 0.4em;background-color: white;}#sk-container-id-2 div.sk-label label {font-family: monospace;font-weight: bold;display: inline-block;line-height: 1.2em;}#sk-container-id-2 div.sk-label-container {text-align: center;}#sk-container-id-2 div.sk-container {/* jupyter's `normalize.less` sets `[hidden] { display: none; }` but bootstrap.min.css set `[hidden] { display: none !important; }` so we also need the `!important` here to be able to override the default hidden behavior on the sphinx rendered scikit-learn.org. See: https://github.com/scikit-learn/scikit-learn/issues/21755 */display: inline-block !important;position: relative;}#sk-container-id-2 div.sk-text-repr-fallback {display: none;}</style><div id=\"sk-container-id-2\" class=\"sk-top-container\"><div class=\"sk-text-repr-fallback\"><pre>GridSearchCV(estimator=SVC(),\n",
       "             param_grid={&#x27;C&#x27;: [0.1, 1, 10], &#x27;gamma&#x27;: [1, 0.1, 0.01],\n",
       "                         &#x27;kernel&#x27;: [&#x27;linear&#x27;]},\n",
       "             verbose=10)</pre><b>In a Jupyter environment, please rerun this cell to show the HTML representation or trust the notebook. <br />On GitHub, the HTML representation is unable to render, please try loading this page with nbviewer.org.</b></div><div class=\"sk-container\" hidden><div class=\"sk-item sk-dashed-wrapped\"><div class=\"sk-label-container\"><div class=\"sk-label sk-toggleable\"><input class=\"sk-toggleable__control sk-hidden--visually\" id=\"sk-estimator-id-4\" type=\"checkbox\" ><label for=\"sk-estimator-id-4\" class=\"sk-toggleable__label sk-toggleable__label-arrow\">GridSearchCV</label><div class=\"sk-toggleable__content\"><pre>GridSearchCV(estimator=SVC(),\n",
       "             param_grid={&#x27;C&#x27;: [0.1, 1, 10], &#x27;gamma&#x27;: [1, 0.1, 0.01],\n",
       "                         &#x27;kernel&#x27;: [&#x27;linear&#x27;]},\n",
       "             verbose=10)</pre></div></div></div><div class=\"sk-parallel\"><div class=\"sk-parallel-item\"><div class=\"sk-item\"><div class=\"sk-label-container\"><div class=\"sk-label sk-toggleable\"><input class=\"sk-toggleable__control sk-hidden--visually\" id=\"sk-estimator-id-5\" type=\"checkbox\" ><label for=\"sk-estimator-id-5\" class=\"sk-toggleable__label sk-toggleable__label-arrow\">estimator: SVC</label><div class=\"sk-toggleable__content\"><pre>SVC()</pre></div></div></div><div class=\"sk-serial\"><div class=\"sk-item\"><div class=\"sk-estimator sk-toggleable\"><input class=\"sk-toggleable__control sk-hidden--visually\" id=\"sk-estimator-id-6\" type=\"checkbox\" ><label for=\"sk-estimator-id-6\" class=\"sk-toggleable__label sk-toggleable__label-arrow\">SVC</label><div class=\"sk-toggleable__content\"><pre>SVC()</pre></div></div></div></div></div></div></div></div></div></div>"
      ],
      "text/plain": [
       "GridSearchCV(estimator=SVC(),\n",
       "             param_grid={'C': [0.1, 1, 10], 'gamma': [1, 0.1, 0.01],\n",
       "                         'kernel': ['linear']},\n",
       "             verbose=10)"
      ]
     },
     "execution_count": 26,
     "metadata": {},
     "output_type": "execute_result"
    }
   ],
   "source": [
    "from sklearn.svm import SVC\n",
    "import numpy as np\n",
    "from sklearn.model_selection import GridSearchCV\n",
    "\n",
    "param_grid = {'C': [0.1, 1, 10], \n",
    "              'gamma': [1, 0.1, 0.01], \n",
    "              'kernel': ['linear']}\n",
    "\n",
    "grid= GridSearchCV(SVC(), param_grid, refit=True, verbose= 10)\n",
    "\n",
    "grid.fit(X_train_full, y_train)"
   ]
  },
  {
   "cell_type": "code",
   "execution_count": 27,
   "id": "adda2d01",
   "metadata": {},
   "outputs": [
    {
     "name": "stdout",
     "output_type": "stream",
     "text": [
      "              precision    recall  f1-score   support\n",
      "\n",
      "           0       0.93      0.85      0.89        67\n",
      "           1       0.86      0.94      0.90        66\n",
      "\n",
      "    accuracy                           0.89       133\n",
      "   macro avg       0.90      0.90      0.89       133\n",
      "weighted avg       0.90      0.89      0.89       133\n",
      "\n"
     ]
    }
   ],
   "source": [
    "grid_predictions= grid.predict(X_test_full)\n",
    "print(classification_report(y_test, grid_predictions))"
   ]
  },
  {
   "cell_type": "markdown",
   "id": "ba81b7e6",
   "metadata": {},
   "source": [
    "## LOGISTIC REGRESSION"
   ]
  },
  {
   "cell_type": "code",
   "execution_count": 28,
   "id": "6bd8b102",
   "metadata": {},
   "outputs": [
    {
     "name": "stdout",
     "output_type": "stream",
     "text": [
      "              precision    recall  f1-score   support\n",
      "\n",
      "           0       0.92      0.85      0.88        67\n",
      "           1       0.86      0.92      0.89        66\n",
      "\n",
      "    accuracy                           0.89       133\n",
      "   macro avg       0.89      0.89      0.89       133\n",
      "weighted avg       0.89      0.89      0.89       133\n",
      "\n"
     ]
    }
   ],
   "source": [
    "from sklearn.linear_model import LogisticRegression\n",
    "from sklearn.metrics import classification_report\n",
    "\n",
    "\n",
    "# Instantiate the Logistic Regression model\n",
    "logistic_model = LogisticRegression(random_state=42)\n",
    "\n",
    "# Fit the model on the resampled training data\n",
    "logistic_model.fit(X_train_full, y_train)\n",
    "\n",
    "# Predict on the test set\n",
    "y_pred = logistic_model.predict(X_test_full)\n",
    "\n",
    "# Evaluate the model\n",
    "print(classification_report(y_test, y_pred))"
   ]
  },
  {
   "cell_type": "markdown",
   "id": "993c2b96",
   "metadata": {},
   "source": [
    "## XGBOOST"
   ]
  },
  {
   "cell_type": "code",
   "execution_count": 29,
   "id": "71a4046d",
   "metadata": {},
   "outputs": [],
   "source": [
    "import xgboost as xgb\n",
    "xgb = xgb.XGBClassifier()"
   ]
  },
  {
   "cell_type": "code",
   "execution_count": 30,
   "id": "746a1209",
   "metadata": {},
   "outputs": [],
   "source": [
    "param_dist = {\n",
    "    'n_estimators': range(1500, 1800, 2000), \n",
    "    'max_depth': range(10, 15, 20),\n",
    "    'booster': ['gbtree', 'gblinear'],\n",
    "    'min_child_weight': range(1, 2, 3),  \n",
    "    'learning_rate': [0.1, 0.15, 0.20],\n",
    "    'gamma': [0, 0.1, 0.2, 0.3]\n",
    "}\n",
    "\n",
    "#hyperparameters\n",
    "random_search_XGB = RandomizedSearchCV(\n",
    "    estimator=xgb,\n",
    "    param_distributions=param_dist,\n",
    "    n_iter=2, #4\n",
    "    scoring=\"roc_auc\",  \n",
    "    n_jobs=5, #7\n",
    "    return_train_score=True\n",
    ")"
   ]
  },
  {
   "cell_type": "code",
   "execution_count": 31,
   "id": "d1ceace4",
   "metadata": {},
   "outputs": [
    {
     "name": "stderr",
     "output_type": "stream",
     "text": [
      "c:\\Users\\jdiaz\\anaconda3\\envs\\pycaret\\lib\\site-packages\\xgboost\\core.py:160: UserWarning: [18:43:40] WARNING: C:\\buildkite-agent\\builds\\buildkite-windows-cpu-autoscaling-group-i-07f6e447eee219473-1\\xgboost\\xgboost-ci-windows\\src\\learner.cc:742: \n",
      "Parameters: { \"gamma\", \"max_depth\", \"min_child_weight\" } are not used.\n",
      "\n",
      "  warnings.warn(smsg, UserWarning)\n"
     ]
    },
    {
     "data": {
      "text/html": [
       "<style>#sk-container-id-3 {color: black;background-color: white;}#sk-container-id-3 pre{padding: 0;}#sk-container-id-3 div.sk-toggleable {background-color: white;}#sk-container-id-3 label.sk-toggleable__label {cursor: pointer;display: block;width: 100%;margin-bottom: 0;padding: 0.3em;box-sizing: border-box;text-align: center;}#sk-container-id-3 label.sk-toggleable__label-arrow:before {content: \"▸\";float: left;margin-right: 0.25em;color: #696969;}#sk-container-id-3 label.sk-toggleable__label-arrow:hover:before {color: black;}#sk-container-id-3 div.sk-estimator:hover label.sk-toggleable__label-arrow:before {color: black;}#sk-container-id-3 div.sk-toggleable__content {max-height: 0;max-width: 0;overflow: hidden;text-align: left;background-color: #f0f8ff;}#sk-container-id-3 div.sk-toggleable__content pre {margin: 0.2em;color: black;border-radius: 0.25em;background-color: #f0f8ff;}#sk-container-id-3 input.sk-toggleable__control:checked~div.sk-toggleable__content {max-height: 200px;max-width: 100%;overflow: auto;}#sk-container-id-3 input.sk-toggleable__control:checked~label.sk-toggleable__label-arrow:before {content: \"▾\";}#sk-container-id-3 div.sk-estimator input.sk-toggleable__control:checked~label.sk-toggleable__label {background-color: #d4ebff;}#sk-container-id-3 div.sk-label input.sk-toggleable__control:checked~label.sk-toggleable__label {background-color: #d4ebff;}#sk-container-id-3 input.sk-hidden--visually {border: 0;clip: rect(1px 1px 1px 1px);clip: rect(1px, 1px, 1px, 1px);height: 1px;margin: -1px;overflow: hidden;padding: 0;position: absolute;width: 1px;}#sk-container-id-3 div.sk-estimator {font-family: monospace;background-color: #f0f8ff;border: 1px dotted black;border-radius: 0.25em;box-sizing: border-box;margin-bottom: 0.5em;}#sk-container-id-3 div.sk-estimator:hover {background-color: #d4ebff;}#sk-container-id-3 div.sk-parallel-item::after {content: \"\";width: 100%;border-bottom: 1px solid gray;flex-grow: 1;}#sk-container-id-3 div.sk-label:hover label.sk-toggleable__label {background-color: #d4ebff;}#sk-container-id-3 div.sk-serial::before {content: \"\";position: absolute;border-left: 1px solid gray;box-sizing: border-box;top: 0;bottom: 0;left: 50%;z-index: 0;}#sk-container-id-3 div.sk-serial {display: flex;flex-direction: column;align-items: center;background-color: white;padding-right: 0.2em;padding-left: 0.2em;position: relative;}#sk-container-id-3 div.sk-item {position: relative;z-index: 1;}#sk-container-id-3 div.sk-parallel {display: flex;align-items: stretch;justify-content: center;background-color: white;position: relative;}#sk-container-id-3 div.sk-item::before, #sk-container-id-3 div.sk-parallel-item::before {content: \"\";position: absolute;border-left: 1px solid gray;box-sizing: border-box;top: 0;bottom: 0;left: 50%;z-index: -1;}#sk-container-id-3 div.sk-parallel-item {display: flex;flex-direction: column;z-index: 1;position: relative;background-color: white;}#sk-container-id-3 div.sk-parallel-item:first-child::after {align-self: flex-end;width: 50%;}#sk-container-id-3 div.sk-parallel-item:last-child::after {align-self: flex-start;width: 50%;}#sk-container-id-3 div.sk-parallel-item:only-child::after {width: 0;}#sk-container-id-3 div.sk-dashed-wrapped {border: 1px dashed gray;margin: 0 0.4em 0.5em 0.4em;box-sizing: border-box;padding-bottom: 0.4em;background-color: white;}#sk-container-id-3 div.sk-label label {font-family: monospace;font-weight: bold;display: inline-block;line-height: 1.2em;}#sk-container-id-3 div.sk-label-container {text-align: center;}#sk-container-id-3 div.sk-container {/* jupyter's `normalize.less` sets `[hidden] { display: none; }` but bootstrap.min.css set `[hidden] { display: none !important; }` so we also need the `!important` here to be able to override the default hidden behavior on the sphinx rendered scikit-learn.org. See: https://github.com/scikit-learn/scikit-learn/issues/21755 */display: inline-block !important;position: relative;}#sk-container-id-3 div.sk-text-repr-fallback {display: none;}</style><div id=\"sk-container-id-3\" class=\"sk-top-container\"><div class=\"sk-text-repr-fallback\"><pre>RandomizedSearchCV(estimator=XGBClassifier(base_score=None, booster=None,\n",
       "                                           callbacks=None,\n",
       "                                           colsample_bylevel=None,\n",
       "                                           colsample_bynode=None,\n",
       "                                           colsample_bytree=None, device=None,\n",
       "                                           early_stopping_rounds=None,\n",
       "                                           enable_categorical=False,\n",
       "                                           eval_metric=None, feature_types=None,\n",
       "                                           gamma=None, grow_policy=None,\n",
       "                                           importance_type=None,\n",
       "                                           interaction_constraints=None,\n",
       "                                           learning_rate=None...\n",
       "                                           multi_strategy=None,\n",
       "                                           n_estimators=None, n_jobs=None,\n",
       "                                           num_parallel_tree=None,\n",
       "                                           random_state=None, ...),\n",
       "                   n_iter=2, n_jobs=5,\n",
       "                   param_distributions={&#x27;booster&#x27;: [&#x27;gbtree&#x27;, &#x27;gblinear&#x27;],\n",
       "                                        &#x27;gamma&#x27;: [0, 0.1, 0.2, 0.3],\n",
       "                                        &#x27;learning_rate&#x27;: [0.1, 0.15, 0.2],\n",
       "                                        &#x27;max_depth&#x27;: range(10, 15, 20),\n",
       "                                        &#x27;min_child_weight&#x27;: range(1, 2, 3),\n",
       "                                        &#x27;n_estimators&#x27;: range(1500, 1800, 2000)},\n",
       "                   return_train_score=True, scoring=&#x27;roc_auc&#x27;)</pre><b>In a Jupyter environment, please rerun this cell to show the HTML representation or trust the notebook. <br />On GitHub, the HTML representation is unable to render, please try loading this page with nbviewer.org.</b></div><div class=\"sk-container\" hidden><div class=\"sk-item sk-dashed-wrapped\"><div class=\"sk-label-container\"><div class=\"sk-label sk-toggleable\"><input class=\"sk-toggleable__control sk-hidden--visually\" id=\"sk-estimator-id-7\" type=\"checkbox\" ><label for=\"sk-estimator-id-7\" class=\"sk-toggleable__label sk-toggleable__label-arrow\">RandomizedSearchCV</label><div class=\"sk-toggleable__content\"><pre>RandomizedSearchCV(estimator=XGBClassifier(base_score=None, booster=None,\n",
       "                                           callbacks=None,\n",
       "                                           colsample_bylevel=None,\n",
       "                                           colsample_bynode=None,\n",
       "                                           colsample_bytree=None, device=None,\n",
       "                                           early_stopping_rounds=None,\n",
       "                                           enable_categorical=False,\n",
       "                                           eval_metric=None, feature_types=None,\n",
       "                                           gamma=None, grow_policy=None,\n",
       "                                           importance_type=None,\n",
       "                                           interaction_constraints=None,\n",
       "                                           learning_rate=None...\n",
       "                                           multi_strategy=None,\n",
       "                                           n_estimators=None, n_jobs=None,\n",
       "                                           num_parallel_tree=None,\n",
       "                                           random_state=None, ...),\n",
       "                   n_iter=2, n_jobs=5,\n",
       "                   param_distributions={&#x27;booster&#x27;: [&#x27;gbtree&#x27;, &#x27;gblinear&#x27;],\n",
       "                                        &#x27;gamma&#x27;: [0, 0.1, 0.2, 0.3],\n",
       "                                        &#x27;learning_rate&#x27;: [0.1, 0.15, 0.2],\n",
       "                                        &#x27;max_depth&#x27;: range(10, 15, 20),\n",
       "                                        &#x27;min_child_weight&#x27;: range(1, 2, 3),\n",
       "                                        &#x27;n_estimators&#x27;: range(1500, 1800, 2000)},\n",
       "                   return_train_score=True, scoring=&#x27;roc_auc&#x27;)</pre></div></div></div><div class=\"sk-parallel\"><div class=\"sk-parallel-item\"><div class=\"sk-item\"><div class=\"sk-label-container\"><div class=\"sk-label sk-toggleable\"><input class=\"sk-toggleable__control sk-hidden--visually\" id=\"sk-estimator-id-8\" type=\"checkbox\" ><label for=\"sk-estimator-id-8\" class=\"sk-toggleable__label sk-toggleable__label-arrow\">estimator: XGBClassifier</label><div class=\"sk-toggleable__content\"><pre>XGBClassifier(base_score=None, booster=None, callbacks=None,\n",
       "              colsample_bylevel=None, colsample_bynode=None,\n",
       "              colsample_bytree=None, device=None, early_stopping_rounds=None,\n",
       "              enable_categorical=False, eval_metric=None, feature_types=None,\n",
       "              gamma=None, grow_policy=None, importance_type=None,\n",
       "              interaction_constraints=None, learning_rate=None, max_bin=None,\n",
       "              max_cat_threshold=None, max_cat_to_onehot=None,\n",
       "              max_delta_step=None, max_depth=None, max_leaves=None,\n",
       "              min_child_weight=None, missing=nan, monotone_constraints=None,\n",
       "              multi_strategy=None, n_estimators=None, n_jobs=None,\n",
       "              num_parallel_tree=None, random_state=None, ...)</pre></div></div></div><div class=\"sk-serial\"><div class=\"sk-item\"><div class=\"sk-estimator sk-toggleable\"><input class=\"sk-toggleable__control sk-hidden--visually\" id=\"sk-estimator-id-9\" type=\"checkbox\" ><label for=\"sk-estimator-id-9\" class=\"sk-toggleable__label sk-toggleable__label-arrow\">XGBClassifier</label><div class=\"sk-toggleable__content\"><pre>XGBClassifier(base_score=None, booster=None, callbacks=None,\n",
       "              colsample_bylevel=None, colsample_bynode=None,\n",
       "              colsample_bytree=None, device=None, early_stopping_rounds=None,\n",
       "              enable_categorical=False, eval_metric=None, feature_types=None,\n",
       "              gamma=None, grow_policy=None, importance_type=None,\n",
       "              interaction_constraints=None, learning_rate=None, max_bin=None,\n",
       "              max_cat_threshold=None, max_cat_to_onehot=None,\n",
       "              max_delta_step=None, max_depth=None, max_leaves=None,\n",
       "              min_child_weight=None, missing=nan, monotone_constraints=None,\n",
       "              multi_strategy=None, n_estimators=None, n_jobs=None,\n",
       "              num_parallel_tree=None, random_state=None, ...)</pre></div></div></div></div></div></div></div></div></div></div>"
      ],
      "text/plain": [
       "RandomizedSearchCV(estimator=XGBClassifier(base_score=None, booster=None,\n",
       "                                           callbacks=None,\n",
       "                                           colsample_bylevel=None,\n",
       "                                           colsample_bynode=None,\n",
       "                                           colsample_bytree=None, device=None,\n",
       "                                           early_stopping_rounds=None,\n",
       "                                           enable_categorical=False,\n",
       "                                           eval_metric=None, feature_types=None,\n",
       "                                           gamma=None, grow_policy=None,\n",
       "                                           importance_type=None,\n",
       "                                           interaction_constraints=None,\n",
       "                                           learning_rate=None...\n",
       "                                           multi_strategy=None,\n",
       "                                           n_estimators=None, n_jobs=None,\n",
       "                                           num_parallel_tree=None,\n",
       "                                           random_state=None, ...),\n",
       "                   n_iter=2, n_jobs=5,\n",
       "                   param_distributions={'booster': ['gbtree', 'gblinear'],\n",
       "                                        'gamma': [0, 0.1, 0.2, 0.3],\n",
       "                                        'learning_rate': [0.1, 0.15, 0.2],\n",
       "                                        'max_depth': range(10, 15, 20),\n",
       "                                        'min_child_weight': range(1, 2, 3),\n",
       "                                        'n_estimators': range(1500, 1800, 2000)},\n",
       "                   return_train_score=True, scoring='roc_auc')"
      ]
     },
     "execution_count": 31,
     "metadata": {},
     "output_type": "execute_result"
    }
   ],
   "source": [
    "# w/o scaling \n",
    "random_search_XGB.fit(X_train_selected, y_train)"
   ]
  },
  {
   "cell_type": "code",
   "execution_count": 32,
   "id": "bf2eac15",
   "metadata": {},
   "outputs": [
    {
     "name": "stdout",
     "output_type": "stream",
     "text": [
      "{'n_estimators': 1500, 'min_child_weight': 1, 'max_depth': 10, 'learning_rate': 0.2, 'gamma': 0.1, 'booster': 'gblinear'}\n"
     ]
    }
   ],
   "source": [
    "print(random_search_XGB.best_params_)"
   ]
  },
  {
   "cell_type": "code",
   "execution_count": 33,
   "id": "e22d18e7",
   "metadata": {},
   "outputs": [
    {
     "name": "stdout",
     "output_type": "stream",
     "text": [
      "              precision    recall  f1-score   support\n",
      "\n",
      "           0       0.94      0.90      0.92       199\n",
      "           1       0.91      0.94      0.93       200\n",
      "\n",
      "    accuracy                           0.92       399\n",
      "   macro avg       0.93      0.92      0.92       399\n",
      "weighted avg       0.93      0.92      0.92       399\n",
      "\n"
     ]
    }
   ],
   "source": [
    "# train\n",
    "proba_train_XGB = random_search_XGB.predict_proba(X_train_selected)\n",
    "pred_train_XGB = random_search_XGB.predict(X_train_selected)\n",
    "print(classification_report(y_train,pred_train_XGB))"
   ]
  },
  {
   "cell_type": "code",
   "execution_count": 34,
   "id": "0ae224ee",
   "metadata": {},
   "outputs": [
    {
     "name": "stdout",
     "output_type": "stream",
     "text": [
      "              precision    recall  f1-score   support\n",
      "\n",
      "           0       0.93      0.85      0.89        67\n",
      "           1       0.86      0.94      0.90        66\n",
      "\n",
      "    accuracy                           0.89       133\n",
      "   macro avg       0.90      0.90      0.89       133\n",
      "weighted avg       0.90      0.89      0.89       133\n",
      "\n"
     ]
    }
   ],
   "source": [
    "# test\n",
    "proba_test_XGB = random_search_XGB.predict_proba(X_test_selected)\n",
    "pred_test_XGB = random_search_XGB.predict(X_test_selected)\n",
    "print(classification_report(y_test,pred_test_XGB))"
   ]
  },
  {
   "cell_type": "markdown",
   "id": "cd914d54",
   "metadata": {},
   "source": [
    "## NAIVE BAYES"
   ]
  },
  {
   "cell_type": "code",
   "execution_count": 35,
   "id": "849d1fe9",
   "metadata": {},
   "outputs": [],
   "source": [
    "from sklearn.naive_bayes import GaussianNB\n",
    "gaus = GaussianNB()\n",
    "param_dist_NB = {\n",
    "    'priors': [[0.2, 0.8], [0.5, 0.5], [0.8, 0.2],[0.3, 0.7],[0.7, 0.3]]\n",
    "}\n",
    "\n",
    "\n",
    "random_search_NB = RandomizedSearchCV(\n",
    "    estimator=gaus,\n",
    "    param_distributions=param_dist_NB,\n",
    "    n_iter=5,  \n",
    "    scoring=\"roc_auc\",  \n",
    "    n_jobs=7,\n",
    "    return_train_score=True\n",
    ")"
   ]
  },
  {
   "cell_type": "code",
   "execution_count": 36,
   "id": "8c64b4c8",
   "metadata": {},
   "outputs": [
    {
     "data": {
      "text/html": [
       "<style>#sk-container-id-4 {color: black;background-color: white;}#sk-container-id-4 pre{padding: 0;}#sk-container-id-4 div.sk-toggleable {background-color: white;}#sk-container-id-4 label.sk-toggleable__label {cursor: pointer;display: block;width: 100%;margin-bottom: 0;padding: 0.3em;box-sizing: border-box;text-align: center;}#sk-container-id-4 label.sk-toggleable__label-arrow:before {content: \"▸\";float: left;margin-right: 0.25em;color: #696969;}#sk-container-id-4 label.sk-toggleable__label-arrow:hover:before {color: black;}#sk-container-id-4 div.sk-estimator:hover label.sk-toggleable__label-arrow:before {color: black;}#sk-container-id-4 div.sk-toggleable__content {max-height: 0;max-width: 0;overflow: hidden;text-align: left;background-color: #f0f8ff;}#sk-container-id-4 div.sk-toggleable__content pre {margin: 0.2em;color: black;border-radius: 0.25em;background-color: #f0f8ff;}#sk-container-id-4 input.sk-toggleable__control:checked~div.sk-toggleable__content {max-height: 200px;max-width: 100%;overflow: auto;}#sk-container-id-4 input.sk-toggleable__control:checked~label.sk-toggleable__label-arrow:before {content: \"▾\";}#sk-container-id-4 div.sk-estimator input.sk-toggleable__control:checked~label.sk-toggleable__label {background-color: #d4ebff;}#sk-container-id-4 div.sk-label input.sk-toggleable__control:checked~label.sk-toggleable__label {background-color: #d4ebff;}#sk-container-id-4 input.sk-hidden--visually {border: 0;clip: rect(1px 1px 1px 1px);clip: rect(1px, 1px, 1px, 1px);height: 1px;margin: -1px;overflow: hidden;padding: 0;position: absolute;width: 1px;}#sk-container-id-4 div.sk-estimator {font-family: monospace;background-color: #f0f8ff;border: 1px dotted black;border-radius: 0.25em;box-sizing: border-box;margin-bottom: 0.5em;}#sk-container-id-4 div.sk-estimator:hover {background-color: #d4ebff;}#sk-container-id-4 div.sk-parallel-item::after {content: \"\";width: 100%;border-bottom: 1px solid gray;flex-grow: 1;}#sk-container-id-4 div.sk-label:hover label.sk-toggleable__label {background-color: #d4ebff;}#sk-container-id-4 div.sk-serial::before {content: \"\";position: absolute;border-left: 1px solid gray;box-sizing: border-box;top: 0;bottom: 0;left: 50%;z-index: 0;}#sk-container-id-4 div.sk-serial {display: flex;flex-direction: column;align-items: center;background-color: white;padding-right: 0.2em;padding-left: 0.2em;position: relative;}#sk-container-id-4 div.sk-item {position: relative;z-index: 1;}#sk-container-id-4 div.sk-parallel {display: flex;align-items: stretch;justify-content: center;background-color: white;position: relative;}#sk-container-id-4 div.sk-item::before, #sk-container-id-4 div.sk-parallel-item::before {content: \"\";position: absolute;border-left: 1px solid gray;box-sizing: border-box;top: 0;bottom: 0;left: 50%;z-index: -1;}#sk-container-id-4 div.sk-parallel-item {display: flex;flex-direction: column;z-index: 1;position: relative;background-color: white;}#sk-container-id-4 div.sk-parallel-item:first-child::after {align-self: flex-end;width: 50%;}#sk-container-id-4 div.sk-parallel-item:last-child::after {align-self: flex-start;width: 50%;}#sk-container-id-4 div.sk-parallel-item:only-child::after {width: 0;}#sk-container-id-4 div.sk-dashed-wrapped {border: 1px dashed gray;margin: 0 0.4em 0.5em 0.4em;box-sizing: border-box;padding-bottom: 0.4em;background-color: white;}#sk-container-id-4 div.sk-label label {font-family: monospace;font-weight: bold;display: inline-block;line-height: 1.2em;}#sk-container-id-4 div.sk-label-container {text-align: center;}#sk-container-id-4 div.sk-container {/* jupyter's `normalize.less` sets `[hidden] { display: none; }` but bootstrap.min.css set `[hidden] { display: none !important; }` so we also need the `!important` here to be able to override the default hidden behavior on the sphinx rendered scikit-learn.org. See: https://github.com/scikit-learn/scikit-learn/issues/21755 */display: inline-block !important;position: relative;}#sk-container-id-4 div.sk-text-repr-fallback {display: none;}</style><div id=\"sk-container-id-4\" class=\"sk-top-container\"><div class=\"sk-text-repr-fallback\"><pre>RandomizedSearchCV(estimator=GaussianNB(), n_iter=5, n_jobs=7,\n",
       "                   param_distributions={&#x27;priors&#x27;: [[0.2, 0.8], [0.5, 0.5],\n",
       "                                                   [0.8, 0.2], [0.3, 0.7],\n",
       "                                                   [0.7, 0.3]]},\n",
       "                   return_train_score=True, scoring=&#x27;roc_auc&#x27;)</pre><b>In a Jupyter environment, please rerun this cell to show the HTML representation or trust the notebook. <br />On GitHub, the HTML representation is unable to render, please try loading this page with nbviewer.org.</b></div><div class=\"sk-container\" hidden><div class=\"sk-item sk-dashed-wrapped\"><div class=\"sk-label-container\"><div class=\"sk-label sk-toggleable\"><input class=\"sk-toggleable__control sk-hidden--visually\" id=\"sk-estimator-id-10\" type=\"checkbox\" ><label for=\"sk-estimator-id-10\" class=\"sk-toggleable__label sk-toggleable__label-arrow\">RandomizedSearchCV</label><div class=\"sk-toggleable__content\"><pre>RandomizedSearchCV(estimator=GaussianNB(), n_iter=5, n_jobs=7,\n",
       "                   param_distributions={&#x27;priors&#x27;: [[0.2, 0.8], [0.5, 0.5],\n",
       "                                                   [0.8, 0.2], [0.3, 0.7],\n",
       "                                                   [0.7, 0.3]]},\n",
       "                   return_train_score=True, scoring=&#x27;roc_auc&#x27;)</pre></div></div></div><div class=\"sk-parallel\"><div class=\"sk-parallel-item\"><div class=\"sk-item\"><div class=\"sk-label-container\"><div class=\"sk-label sk-toggleable\"><input class=\"sk-toggleable__control sk-hidden--visually\" id=\"sk-estimator-id-11\" type=\"checkbox\" ><label for=\"sk-estimator-id-11\" class=\"sk-toggleable__label sk-toggleable__label-arrow\">estimator: GaussianNB</label><div class=\"sk-toggleable__content\"><pre>GaussianNB()</pre></div></div></div><div class=\"sk-serial\"><div class=\"sk-item\"><div class=\"sk-estimator sk-toggleable\"><input class=\"sk-toggleable__control sk-hidden--visually\" id=\"sk-estimator-id-12\" type=\"checkbox\" ><label for=\"sk-estimator-id-12\" class=\"sk-toggleable__label sk-toggleable__label-arrow\">GaussianNB</label><div class=\"sk-toggleable__content\"><pre>GaussianNB()</pre></div></div></div></div></div></div></div></div></div></div>"
      ],
      "text/plain": [
       "RandomizedSearchCV(estimator=GaussianNB(), n_iter=5, n_jobs=7,\n",
       "                   param_distributions={'priors': [[0.2, 0.8], [0.5, 0.5],\n",
       "                                                   [0.8, 0.2], [0.3, 0.7],\n",
       "                                                   [0.7, 0.3]]},\n",
       "                   return_train_score=True, scoring='roc_auc')"
      ]
     },
     "execution_count": 36,
     "metadata": {},
     "output_type": "execute_result"
    }
   ],
   "source": [
    "# Entrenar el modelo con la búsqueda aleatoria de hiperparámetros\n",
    "random_search_NB.fit(X_train_full, y_train)"
   ]
  },
  {
   "cell_type": "code",
   "execution_count": 37,
   "id": "c5bd5155",
   "metadata": {},
   "outputs": [
    {
     "name": "stdout",
     "output_type": "stream",
     "text": [
      "{'priors': [0.2, 0.8]}\n"
     ]
    }
   ],
   "source": [
    "print(random_search_NB.best_params_)"
   ]
  },
  {
   "cell_type": "code",
   "execution_count": 38,
   "id": "1d8b51c9",
   "metadata": {},
   "outputs": [
    {
     "name": "stdout",
     "output_type": "stream",
     "text": [
      "              precision    recall  f1-score   support\n",
      "\n",
      "           0       0.96      0.85      0.90       199\n",
      "           1       0.87      0.96      0.91       200\n",
      "\n",
      "    accuracy                           0.91       399\n",
      "   macro avg       0.91      0.91      0.91       399\n",
      "weighted avg       0.91      0.91      0.91       399\n",
      "\n"
     ]
    }
   ],
   "source": [
    "#First evaluate on train\n",
    "proba_train_NB = random_search_NB.predict_proba(X_train_full)\n",
    "pred_train_NB = random_search_NB.predict(X_train_full)\n",
    "print(classification_report(y_train,pred_train_NB))"
   ]
  },
  {
   "cell_type": "code",
   "execution_count": 39,
   "id": "00b22ece",
   "metadata": {},
   "outputs": [
    {
     "name": "stdout",
     "output_type": "stream",
     "text": [
      "              precision    recall  f1-score   support\n",
      "\n",
      "           0       0.96      0.81      0.88        67\n",
      "           1       0.83      0.97      0.90        66\n",
      "\n",
      "    accuracy                           0.89       133\n",
      "   macro avg       0.90      0.89      0.89       133\n",
      "weighted avg       0.90      0.89      0.89       133\n",
      "\n"
     ]
    }
   ],
   "source": [
    "#now I will check with the test\n",
    "proba_test_NB = random_search_NB.predict_proba(X_test_full)\n",
    "pred_test_NB = random_search_NB.predict(X_test_full)\n",
    "print(classification_report(y_test,pred_test_NB))"
   ]
  },
  {
   "cell_type": "markdown",
   "id": "53a32e28-6635-40ff-aad7-0ec25a0c8981",
   "metadata": {
    "tags": []
   },
   "source": [
    "## Model evaluation"
   ]
  },
  {
   "cell_type": "code",
   "execution_count": null,
   "id": "de1d18a2-f565-4f08-8c94-308807b9d260",
   "metadata": {},
   "outputs": [],
   "source": [
    "pred_SV = random_search_svm.predict(X_test_full)\n",
    "proba_SV = random_search_svm.predict_proba(X_test_full)\n",
    "results_hard[\"Support_Vector\"] = pred_SV\n",
    "results_soft[\"Support_Vector\"] = proba_SV[:,1]\n",
    "\n",
    "proba_logistic = logistic_model.predict_proba(X_test_full)\n",
    "pred_logistic = logistic_model.predict(X_test_full)\n",
    "results_hard[\"Logistic_Regr\"] = pred_logistic\n",
    "results_soft[\"Logistic_Regr\"] = proba_logistic[:,1]\n",
    "\n",
    "proba_XGB = random_search_XGB.predict_proba(X_test_selected)\n",
    "pred_XGB = random_search_XGB.predict(X_test_selected)\n",
    "results_hard[\"XGBOOST\"] = pred_XGB\n",
    "results_soft[\"XGBOOST\"] = proba_XGB[:,1]\n",
    "\n",
    "proba_NB = random_search_NB.predict_proba(X_test_full)\n",
    "pred_NB = random_search_NB.predict(X_test_full)\n",
    "results_hard[\"Naive_Bayes\"] = pred_NB\n",
    "results_soft[\"Naive_Bayes\"] = proba_NB[:,1]\n",
    "\n",
    "results_hard = pd.DataFrame(results_hard)\n",
    "results_soft = pd.DataFrame(results_soft)"
   ]
  },
  {
   "cell_type": "code",
   "execution_count": null,
   "id": "6a079c4b-0682-4852-bbe3-5346a14446a1",
   "metadata": {},
   "outputs": [],
   "source": [
    "metrics = {}\n",
    "\n",
    "metrics[\"Accuracy\"] = {\n",
    "    \"Naive_Bayes\": accuracy_score(y_test, results_hard.Naive_Bayes),\n",
    "    \"Support_Vector\": accuracy_score(y_test, results_hard.Support_Vector),\n",
    "    \"XGBOOST\": accuracy_score(y_test, results_hard.XGBOOST),\n",
    "    \"Logistic_Regr\": accuracy_score(y_test, results_hard.Logistic_Regr)\n",
    "}\n",
    "metrics[\"Precision\"] = {\n",
    "    \"Naive_Bayes\": precision_score(y_test, results_hard.Naive_Bayes),\n",
    "    \"Support_Vector\": precision_score(y_test, results_hard.Support_Vector),\n",
    "    \"XGBOOST\": precision_score(y_test, results_hard.XGBOOST),\n",
    "    \"Logistic_Regr\": precision_score(y_test, results_hard.Logistic_Regr)\n",
    "}\n",
    "metrics[\"Recall\"] = {\n",
    "    \"Naive_Bayes\": recall_score(y_test, results_hard.Naive_Bayes),\n",
    "    \"Support_Vector\": recall_score(y_test, results_hard.Support_Vector),\n",
    "    \"XGBOOST\": recall_score(y_test, results_hard.XGBOOST),\n",
    "    \"Logistic_Regr\": recall_score(y_test, results_hard.Logistic_Regr)\n",
    "}\n",
    "metrics[\"F1\"] = {\n",
    "    \"Naive_Bayes\": f1_score(y_test, results_hard.Naive_Bayes),\n",
    "    \"Support_Vector\": f1_score(y_test, results_hard.Support_Vector),\n",
    "    \"XGBOOST\": f1_score(y_test, results_hard.XGBOOST),\n",
    "    \"Logistic_Regr\": f1_score(y_test, results_hard.Logistic_Regr)\n",
    "}\n",
    "\n",
    "metrics = pd.DataFrame(metrics)\n",
    "metrics"
   ]
  },
  {
   "cell_type": "markdown",
   "id": "221b271a-eee2-4fd5-a6ee-e36a7e63e698",
   "metadata": {},
   "source": [
    "## ROC Curves"
   ]
  },
  {
   "cell_type": "code",
   "execution_count": null,
   "id": "4f53787a-9f6b-4c7e-a19d-803cf2f03ad0",
   "metadata": {},
   "outputs": [],
   "source": [
    "# Datos de FPR y TPR para los tres modelos \n",
    "fpr_Naive_Bayes,tpr_Naive_Bayes,_ = roc_curve(y_test, results_soft.Naive_Bayes)\n",
    "fpr_Support_Vector,tpr_Support_Vector,_ = roc_curve(y_test, results_soft.Support_Vector)\n",
    "fpr_XGBOOST,tpr_XGBOOST,_ = roc_curve(y_test, results_soft.XGBOOST)\n",
    "fpr_Logistic_Reg,tpr_Logistic_Regr,_ = roc_curve(y_test, results_soft.Logistic_Regr)\n",
    "\n",
    "# Calcular el área bajo la curva ROC (AUC) para cada modelo\n",
    "auc_Naive_Bayes = auc(fpr_Naive_Bayes,tpr_Naive_Bayes)\n",
    "auc_Support_Vector = auc(fpr_Support_Vector,tpr_Support_Vector)\n",
    "auc_XGBOOST = auc(fpr_XGBOOST,tpr_XGBOOST)\n",
    "auc_Logistic_Regr = auc(fpr_Logistic_Reg,tpr_Logistic_Regr)"
   ]
  },
  {
   "cell_type": "code",
   "execution_count": null,
   "id": "3406fe27-c3fb-4b68-b666-5f2e18833d2d",
   "metadata": {},
   "outputs": [],
   "source": [
    "# Crear la gráfica ROC\n",
    "plt.figure(figsize=(8, 6))\n",
    "\n",
    "# Graficar las curvas ROC para los tres modelos\n",
    "plt.plot(fpr_Naive_Bayes,tpr_Naive_Bayes, label=f'Naive bayes (AUC = {auc_Naive_Bayes:.2f})')\n",
    "plt.plot(fpr_XGBOOST,tpr_XGBOOST, label=f'Xgboost (AUC = {auc_XGBOOST:.2f})')\n",
    "plt.plot(fpr_Support_Vector,tpr_Support_Vector, label=f'Support Vector (AUC = {auc_Support_Vector:.2f})')\n",
    "plt.plot(fpr_Logistic_Reg,tpr_Logistic_Regr, label=f'Support Vector (AUC = {auc_Logistic_Regr:.2f})')\n",
    "\n",
    "\n",
    "# Configurar la gráfica\n",
    "plt.plot([0, 1], [0, 1], 'k--', lw=2)  # Línea diagonal para referencia\n",
    "plt.xlim([0.0, 1.0])\n",
    "plt.ylim([0.0, 1.05])\n",
    "plt.xlabel('Tasa de Falsos Positivos (FPR)')\n",
    "plt.ylabel('Tasa de Verdaderos Positivos (TPR)')\n",
    "plt.title('Curva ROC de Modelos')\n",
    "plt.legend(loc=\"lower right\")\n",
    "\n",
    "# Mostrar la gráfica\n",
    "plt.show()"
   ]
  }
 ],
 "metadata": {
  "kernelspec": {
   "display_name": "Python 3 (ipykernel)",
   "language": "python",
   "name": "python3"
  },
  "language_info": {
   "codemirror_mode": {
    "name": "ipython",
    "version": 3
   },
   "file_extension": ".py",
   "mimetype": "text/x-python",
   "name": "python",
   "nbconvert_exporter": "python",
   "pygments_lexer": "ipython3",
   "version": "3.10.13"
  }
 },
 "nbformat": 4,
 "nbformat_minor": 5
}
