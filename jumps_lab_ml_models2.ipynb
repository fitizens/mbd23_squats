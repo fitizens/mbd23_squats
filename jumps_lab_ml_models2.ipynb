{
 "cells": [
  {
   "cell_type": "markdown",
   "id": "7a26496c-e3c9-47b2-b136-ada4d9bf20b6",
   "metadata": {
    "tags": []
   },
   "source": [
    "# ETL "
   ]
  },
  {
   "cell_type": "code",
   "execution_count": 1,
   "id": "48a99f12-cbfb-40cf-b151-f245b00bb21c",
   "metadata": {},
   "outputs": [],
   "source": [
    "from fitizens_libraries.load_and_process_training_data import load_training_data\n",
    "from fitizens_libraries.load_timeseries import load_timeseries_data\n",
    "from custom_libraries.merge_data import merge_data\n",
    "from fitizens_libraries.plot_labeled_sequences import plot_labeled_sequence\n",
    "from statsmodels.graphics.tsaplots import plot_acf, plot_pacf\n",
    "from matplotlib import pyplot\n",
    "from fitizens_libraries.build_dataframe_from_list_of_signals import build_dataframe\n",
    "from collections import Counter\n",
    "from sklearn.preprocessing import OneHotEncoder, StandardScaler\n",
    "from sklearn.model_selection import train_test_split \n",
    "from sklearn.feature_selection import SelectKBest, f_classif\n",
    "from sklearn.preprocessing import LabelEncoder\n",
    "from imblearn.over_sampling import SMOTE\n",
    "from sklearn.metrics import accuracy_score\n",
    "from sklearn.metrics import confusion_matrix, classification_report\n",
    "from sklearn.metrics import roc_auc_score, roc_curve, classification_report, auc, roc_auc_score\n",
    "import plotly.graph_objects as go\n",
    "from sklearn.metrics import accuracy_score, precision_score, recall_score, f1_score\n",
    "from sklearn.metrics import roc_curve, auc\n",
    "import plotly.express as px\n",
    "import seaborn as sns\n",
    "import matplotlib.pyplot as plt\n",
    "import numpy as np\n",
    "import pandas as pd\n",
    "import os\n",
    "from pycaret.classification import *"
   ]
  },
  {
   "cell_type": "markdown",
   "id": "2e11ff26",
   "metadata": {},
   "source": [
    "# Creating Auxiliary Functions"
   ]
  },
  {
   "cell_type": "markdown",
   "id": "5271e81f",
   "metadata": {},
   "source": [
    "def create_custom_dataframe(series):\n",
    "    df =  series[[\"linAccX\", \"linAccY\", \"linAccZ\", \"gyroX\", \"gyroY\", \"gyroZ\", \"magnX\", \"magnY\", \"magnZ\"]]\n",
    "    return df"
   ]
  },
  {
   "cell_type": "code",
   "execution_count": 2,
   "id": "40326e03",
   "metadata": {},
   "outputs": [],
   "source": [
    "def create_custom_dataframe(series):\n",
    "    df =  series[[\"linAccX\", \"linAccY\", \"linAccZ\", \"gyroX\", \"gyroY\", \"gyroZ\", \"magnX\", \"magnY\", \"magnZ\"]]\n",
    "    return df"
   ]
  },
  {
   "cell_type": "code",
   "execution_count": 3,
   "id": "c8238294",
   "metadata": {},
   "outputs": [],
   "source": [
    "def create_training_data_stats(df, target):\n",
    "    stats_dict = {}\n",
    "    series = create_custom_dataframe(df)\n",
    "    \n",
    "    for column in series.columns:\n",
    "        mean = series[column].mean()\n",
    "        std = series[column].std()\n",
    "        median = series[column].median()\n",
    "        skewness = series[column].skew()\n",
    "        kurtosis = series[column].kurtosis()\n",
    "        min_val = series[column].min()\n",
    "        max_val = series[column].max()\n",
    "        range_val = max_val - min_val\n",
    "        quartile_25 = np.percentile(series[column], 25)\n",
    "        quartile_75 = np.percentile(series[column], 75)\n",
    "        iqr = quartile_75 - quartile_25\n",
    "    \n",
    "\n",
    "        stats_dict[f\"{column}_mean\"] = mean\n",
    "        stats_dict[f\"{column}_std\"] = std\n",
    "        stats_dict[f\"{column}_median\"] = median\n",
    "        stats_dict[f\"{column}_skewness\"] = skewness\n",
    "        stats_dict[f\"{column}_kurtosis\"] = kurtosis\n",
    "        stats_dict[f\"{column}_min\"] = min_val\n",
    "        stats_dict[f\"{column}_max\"] = max_val\n",
    "        stats_dict[f\"{column}_range\"] = range_val\n",
    "        stats_dict[f\"{column}_quartile_25\"] = quartile_25\n",
    "        stats_dict[f\"{column}_quartile_75\"] = quartile_75\n",
    "        stats_dict[f\"{column}_iqr\"] = iqr\n",
    "          \n",
    "    stats_dict[\"target\"] = target\n",
    "    return stats_dict"
   ]
  },
  {
   "cell_type": "markdown",
   "id": "30e95e8d",
   "metadata": {},
   "source": [
    "## LOADING DATA"
   ]
  },
  {
   "cell_type": "code",
   "execution_count": 4,
   "id": "cb92b6c3",
   "metadata": {},
   "outputs": [],
   "source": [
    "folder_path = \"JUMP\"\n",
    "os.makedirs(folder_path, exist_ok=True)\n",
    "file_names = [f\"{folder_path}/{name}\" for name in os.listdir(folder_path)]\n",
    "signals = ['accX', 'accY', 'accZ', 'gyroX', 'gyroY', 'gyroZ', 'magnX', 'magnY', 'magnZ', 'linAccX', 'linAccY', 'linAccZ']\n",
    "\n",
    "data, wk = load_training_data(filelist=file_names,\n",
    "                         signals= signals,\n",
    "                          target_exercise=\"SQUAT_JUMP\", other_exercises=[],is_peak_minima=True)\n",
    "#data[0]"
   ]
  },
  {
   "cell_type": "markdown",
   "id": "d949b7d1",
   "metadata": {},
   "source": [
    "## CREATING NEW DATA"
   ]
  },
  {
   "cell_type": "code",
   "execution_count": 5,
   "id": "aca69624",
   "metadata": {},
   "outputs": [
    {
     "data": {
      "text/html": [
       "<div>\n",
       "<style scoped>\n",
       "    .dataframe tbody tr th:only-of-type {\n",
       "        vertical-align: middle;\n",
       "    }\n",
       "\n",
       "    .dataframe tbody tr th {\n",
       "        vertical-align: top;\n",
       "    }\n",
       "\n",
       "    .dataframe thead th {\n",
       "        text-align: right;\n",
       "    }\n",
       "</style>\n",
       "<table border=\"1\" class=\"dataframe\">\n",
       "  <thead>\n",
       "    <tr style=\"text-align: right;\">\n",
       "      <th></th>\n",
       "      <th>linAccX_mean</th>\n",
       "      <th>linAccX_std</th>\n",
       "      <th>linAccX_median</th>\n",
       "      <th>linAccX_skewness</th>\n",
       "      <th>linAccX_kurtosis</th>\n",
       "      <th>linAccX_min</th>\n",
       "      <th>linAccX_max</th>\n",
       "      <th>linAccX_range</th>\n",
       "      <th>linAccX_quartile_25</th>\n",
       "      <th>linAccX_quartile_75</th>\n",
       "      <th>...</th>\n",
       "      <th>magnZ_median</th>\n",
       "      <th>magnZ_skewness</th>\n",
       "      <th>magnZ_kurtosis</th>\n",
       "      <th>magnZ_min</th>\n",
       "      <th>magnZ_max</th>\n",
       "      <th>magnZ_range</th>\n",
       "      <th>magnZ_quartile_25</th>\n",
       "      <th>magnZ_quartile_75</th>\n",
       "      <th>magnZ_iqr</th>\n",
       "      <th>target</th>\n",
       "    </tr>\n",
       "  </thead>\n",
       "  <tbody>\n",
       "    <tr>\n",
       "      <th>0</th>\n",
       "      <td>0.366266</td>\n",
       "      <td>0.711386</td>\n",
       "      <td>0.444553</td>\n",
       "      <td>-0.334112</td>\n",
       "      <td>-0.666559</td>\n",
       "      <td>-0.959824</td>\n",
       "      <td>1.516633</td>\n",
       "      <td>2.476457</td>\n",
       "      <td>-0.014802</td>\n",
       "      <td>0.794608</td>\n",
       "      <td>...</td>\n",
       "      <td>-225.106780</td>\n",
       "      <td>0.227581</td>\n",
       "      <td>-1.553842</td>\n",
       "      <td>-228.861524</td>\n",
       "      <td>-218.807699</td>\n",
       "      <td>10.053825</td>\n",
       "      <td>-228.428397</td>\n",
       "      <td>-220.737711</td>\n",
       "      <td>7.690686</td>\n",
       "      <td>SQUAT_JUMP</td>\n",
       "    </tr>\n",
       "    <tr>\n",
       "      <th>1</th>\n",
       "      <td>-0.256943</td>\n",
       "      <td>1.096988</td>\n",
       "      <td>-0.039175</td>\n",
       "      <td>-0.288006</td>\n",
       "      <td>-1.493909</td>\n",
       "      <td>-2.001421</td>\n",
       "      <td>1.048481</td>\n",
       "      <td>3.049903</td>\n",
       "      <td>-1.368819</td>\n",
       "      <td>0.841650</td>\n",
       "      <td>...</td>\n",
       "      <td>-222.493043</td>\n",
       "      <td>-0.045741</td>\n",
       "      <td>-1.441785</td>\n",
       "      <td>-228.385570</td>\n",
       "      <td>-217.309018</td>\n",
       "      <td>11.076552</td>\n",
       "      <td>-225.861737</td>\n",
       "      <td>-218.849050</td>\n",
       "      <td>7.012687</td>\n",
       "      <td>SQUAT_JUMP</td>\n",
       "    </tr>\n",
       "    <tr>\n",
       "      <th>2</th>\n",
       "      <td>0.309224</td>\n",
       "      <td>0.766914</td>\n",
       "      <td>0.636292</td>\n",
       "      <td>-0.666079</td>\n",
       "      <td>-1.134995</td>\n",
       "      <td>-1.047368</td>\n",
       "      <td>1.218791</td>\n",
       "      <td>2.266159</td>\n",
       "      <td>-0.453506</td>\n",
       "      <td>0.916816</td>\n",
       "      <td>...</td>\n",
       "      <td>-223.650591</td>\n",
       "      <td>0.397717</td>\n",
       "      <td>-1.355656</td>\n",
       "      <td>-227.100283</td>\n",
       "      <td>-216.773630</td>\n",
       "      <td>10.326653</td>\n",
       "      <td>-226.039177</td>\n",
       "      <td>-219.298862</td>\n",
       "      <td>6.740315</td>\n",
       "      <td>SQUAT_JUMP</td>\n",
       "    </tr>\n",
       "    <tr>\n",
       "      <th>3</th>\n",
       "      <td>0.139697</td>\n",
       "      <td>1.286493</td>\n",
       "      <td>0.763518</td>\n",
       "      <td>-0.782929</td>\n",
       "      <td>-0.925881</td>\n",
       "      <td>-2.391164</td>\n",
       "      <td>1.610349</td>\n",
       "      <td>4.001514</td>\n",
       "      <td>-1.039852</td>\n",
       "      <td>1.118909</td>\n",
       "      <td>...</td>\n",
       "      <td>-222.780394</td>\n",
       "      <td>0.200002</td>\n",
       "      <td>-1.426298</td>\n",
       "      <td>-228.073464</td>\n",
       "      <td>-215.715824</td>\n",
       "      <td>12.357640</td>\n",
       "      <td>-225.749113</td>\n",
       "      <td>-218.061243</td>\n",
       "      <td>7.687869</td>\n",
       "      <td>SQUAT_JUMP</td>\n",
       "    </tr>\n",
       "    <tr>\n",
       "      <th>4</th>\n",
       "      <td>0.181816</td>\n",
       "      <td>1.230970</td>\n",
       "      <td>0.675534</td>\n",
       "      <td>-0.722684</td>\n",
       "      <td>-0.718283</td>\n",
       "      <td>-2.239025</td>\n",
       "      <td>1.894548</td>\n",
       "      <td>4.133572</td>\n",
       "      <td>-0.717936</td>\n",
       "      <td>0.912011</td>\n",
       "      <td>...</td>\n",
       "      <td>-222.700579</td>\n",
       "      <td>0.157171</td>\n",
       "      <td>-1.322706</td>\n",
       "      <td>-228.180758</td>\n",
       "      <td>-215.426183</td>\n",
       "      <td>12.754575</td>\n",
       "      <td>-224.963475</td>\n",
       "      <td>-217.727392</td>\n",
       "      <td>7.236083</td>\n",
       "      <td>SQUAT_JUMP</td>\n",
       "    </tr>\n",
       "  </tbody>\n",
       "</table>\n",
       "<p>5 rows × 100 columns</p>\n",
       "</div>"
      ],
      "text/plain": [
       "   linAccX_mean  linAccX_std  linAccX_median  linAccX_skewness  \\\n",
       "0      0.366266     0.711386        0.444553         -0.334112   \n",
       "1     -0.256943     1.096988       -0.039175         -0.288006   \n",
       "2      0.309224     0.766914        0.636292         -0.666079   \n",
       "3      0.139697     1.286493        0.763518         -0.782929   \n",
       "4      0.181816     1.230970        0.675534         -0.722684   \n",
       "\n",
       "   linAccX_kurtosis  linAccX_min  linAccX_max  linAccX_range  \\\n",
       "0         -0.666559    -0.959824     1.516633       2.476457   \n",
       "1         -1.493909    -2.001421     1.048481       3.049903   \n",
       "2         -1.134995    -1.047368     1.218791       2.266159   \n",
       "3         -0.925881    -2.391164     1.610349       4.001514   \n",
       "4         -0.718283    -2.239025     1.894548       4.133572   \n",
       "\n",
       "   linAccX_quartile_25  linAccX_quartile_75  ...  magnZ_median  \\\n",
       "0            -0.014802             0.794608  ...   -225.106780   \n",
       "1            -1.368819             0.841650  ...   -222.493043   \n",
       "2            -0.453506             0.916816  ...   -223.650591   \n",
       "3            -1.039852             1.118909  ...   -222.780394   \n",
       "4            -0.717936             0.912011  ...   -222.700579   \n",
       "\n",
       "   magnZ_skewness  magnZ_kurtosis   magnZ_min   magnZ_max  magnZ_range  \\\n",
       "0        0.227581       -1.553842 -228.861524 -218.807699    10.053825   \n",
       "1       -0.045741       -1.441785 -228.385570 -217.309018    11.076552   \n",
       "2        0.397717       -1.355656 -227.100283 -216.773630    10.326653   \n",
       "3        0.200002       -1.426298 -228.073464 -215.715824    12.357640   \n",
       "4        0.157171       -1.322706 -228.180758 -215.426183    12.754575   \n",
       "\n",
       "   magnZ_quartile_25  magnZ_quartile_75  magnZ_iqr      target  \n",
       "0        -228.428397        -220.737711   7.690686  SQUAT_JUMP  \n",
       "1        -225.861737        -218.849050   7.012687  SQUAT_JUMP  \n",
       "2        -226.039177        -219.298862   6.740315  SQUAT_JUMP  \n",
       "3        -225.749113        -218.061243   7.687869  SQUAT_JUMP  \n",
       "4        -224.963475        -217.727392   7.236083  SQUAT_JUMP  \n",
       "\n",
       "[5 rows x 100 columns]"
      ]
     },
     "execution_count": 5,
     "metadata": {},
     "output_type": "execute_result"
    }
   ],
   "source": [
    "data_info = [create_training_data_stats(info[\"series\"], info[\"target\"]) for info in data] #calling the two functions\n",
    "data_custom = pd.DataFrame(data_info) #creating the DF\n",
    "data_custom.head()"
   ]
  },
  {
   "cell_type": "markdown",
   "id": "874cb164-5645-4449-91cc-e9e3c4c7e1dd",
   "metadata": {},
   "source": [
    "# ML With Pycaret"
   ]
  },
  {
   "cell_type": "code",
   "execution_count": 6,
   "id": "746c583a-4bf9-4667-b683-802a6dbfd7e1",
   "metadata": {},
   "outputs": [
    {
     "name": "stdout",
     "output_type": "stream",
     "text": [
      "Data for Modeling: (595, 100)\n",
      "Simulated data For Production (31, 100)\n"
     ]
    }
   ],
   "source": [
    "data_dev = data_custom.sample(frac=0.95, random_state=786)\n",
    "data_prod = data_custom.drop(data_dev.index)\n",
    "\n",
    "data_dev.reset_index(inplace=True, drop=True)\n",
    "data_prod.reset_index(inplace=True, drop=True)\n",
    "\n",
    "print('Data for Modeling: ' + str(data_dev.shape))\n",
    "print('Simulated data For Production ' + str(data_prod.shape))"
   ]
  },
  {
   "cell_type": "code",
   "execution_count": 7,
   "id": "cc75b2a5-b9e1-4165-ad05-55fc80c7586c",
   "metadata": {},
   "outputs": [
    {
     "name": "stdout",
     "output_type": "stream",
     "text": [
      "[LightGBM] [Info] Number of positive: 299, number of negative: 299\n",
      "[LightGBM] [Info] Auto-choosing col-wise multi-threading, the overhead of testing was 0.001070 seconds.\n",
      "You can set `force_col_wise=true` to remove the overhead.\n",
      "[LightGBM] [Info] Total Bins 10920\n",
      "[LightGBM] [Info] Number of data points in the train set: 598, number of used features: 55\n",
      "[LightGBM] [Info] [binary:BoostFromScore]: pavg=0.500000 -> initscore=0.000000\n",
      "[LightGBM] [Warning] No further splits with positive gain, best gain: -inf\n",
      "[LightGBM] [Warning] No further splits with positive gain, best gain: -inf\n",
      "[LightGBM] [Warning] No further splits with positive gain, best gain: -inf\n",
      "[LightGBM] [Warning] No further splits with positive gain, best gain: -inf\n",
      "[LightGBM] [Warning] No further splits with positive gain, best gain: -inf\n",
      "[LightGBM] [Warning] No further splits with positive gain, best gain: -inf\n",
      "[LightGBM] [Warning] No further splits with positive gain, best gain: -inf\n",
      "[LightGBM] [Warning] No further splits with positive gain, best gain: -inf\n",
      "[LightGBM] [Warning] No further splits with positive gain, best gain: -inf\n",
      "[LightGBM] [Warning] No further splits with positive gain, best gain: -inf\n",
      "[LightGBM] [Warning] No further splits with positive gain, best gain: -inf\n",
      "[LightGBM] [Warning] No further splits with positive gain, best gain: -inf\n",
      "[LightGBM] [Warning] No further splits with positive gain, best gain: -inf\n",
      "[LightGBM] [Warning] No further splits with positive gain, best gain: -inf\n",
      "[LightGBM] [Warning] No further splits with positive gain, best gain: -inf\n",
      "[LightGBM] [Warning] No further splits with positive gain, best gain: -inf\n",
      "[LightGBM] [Warning] No further splits with positive gain, best gain: -inf\n",
      "[LightGBM] [Warning] No further splits with positive gain, best gain: -inf\n",
      "[LightGBM] [Warning] No further splits with positive gain, best gain: -inf\n",
      "[LightGBM] [Warning] No further splits with positive gain, best gain: -inf\n",
      "[LightGBM] [Warning] No further splits with positive gain, best gain: -inf\n",
      "[LightGBM] [Warning] No further splits with positive gain, best gain: -inf\n",
      "[LightGBM] [Warning] No further splits with positive gain, best gain: -inf\n",
      "[LightGBM] [Warning] No further splits with positive gain, best gain: -inf\n",
      "[LightGBM] [Warning] No further splits with positive gain, best gain: -inf\n",
      "[LightGBM] [Warning] No further splits with positive gain, best gain: -inf\n",
      "[LightGBM] [Warning] No further splits with positive gain, best gain: -inf\n",
      "[LightGBM] [Warning] No further splits with positive gain, best gain: -inf\n",
      "[LightGBM] [Warning] No further splits with positive gain, best gain: -inf\n",
      "[LightGBM] [Warning] No further splits with positive gain, best gain: -inf\n",
      "[LightGBM] [Warning] No further splits with positive gain, best gain: -inf\n",
      "[LightGBM] [Warning] No further splits with positive gain, best gain: -inf\n",
      "[LightGBM] [Warning] No further splits with positive gain, best gain: -inf\n",
      "[LightGBM] [Warning] No further splits with positive gain, best gain: -inf\n",
      "[LightGBM] [Warning] No further splits with positive gain, best gain: -inf\n",
      "[LightGBM] [Warning] No further splits with positive gain, best gain: -inf\n",
      "[LightGBM] [Warning] No further splits with positive gain, best gain: -inf\n",
      "[LightGBM] [Warning] No further splits with positive gain, best gain: -inf\n",
      "[LightGBM] [Warning] No further splits with positive gain, best gain: -inf\n",
      "[LightGBM] [Warning] No further splits with positive gain, best gain: -inf\n",
      "[LightGBM] [Warning] No further splits with positive gain, best gain: -inf\n",
      "[LightGBM] [Warning] No further splits with positive gain, best gain: -inf\n",
      "[LightGBM] [Warning] No further splits with positive gain, best gain: -inf\n",
      "[LightGBM] [Warning] No further splits with positive gain, best gain: -inf\n",
      "[LightGBM] [Warning] No further splits with positive gain, best gain: -inf\n",
      "[LightGBM] [Warning] No further splits with positive gain, best gain: -inf\n",
      "[LightGBM] [Warning] No further splits with positive gain, best gain: -inf\n",
      "[LightGBM] [Warning] No further splits with positive gain, best gain: -inf\n",
      "[LightGBM] [Warning] No further splits with positive gain, best gain: -inf\n",
      "[LightGBM] [Warning] No further splits with positive gain, best gain: -inf\n",
      "[LightGBM] [Warning] No further splits with positive gain, best gain: -inf\n",
      "[LightGBM] [Warning] No further splits with positive gain, best gain: -inf\n",
      "[LightGBM] [Warning] No further splits with positive gain, best gain: -inf\n",
      "[LightGBM] [Warning] No further splits with positive gain, best gain: -inf\n",
      "[LightGBM] [Warning] No further splits with positive gain, best gain: -inf\n",
      "[LightGBM] [Warning] No further splits with positive gain, best gain: -inf\n",
      "[LightGBM] [Warning] No further splits with positive gain, best gain: -inf\n",
      "[LightGBM] [Warning] No further splits with positive gain, best gain: -inf\n",
      "[LightGBM] [Warning] No further splits with positive gain, best gain: -inf\n",
      "[LightGBM] [Warning] No further splits with positive gain, best gain: -inf\n",
      "[LightGBM] [Warning] No further splits with positive gain, best gain: -inf\n",
      "[LightGBM] [Warning] No further splits with positive gain, best gain: -inf\n",
      "[LightGBM] [Warning] No further splits with positive gain, best gain: -inf\n",
      "[LightGBM] [Warning] No further splits with positive gain, best gain: -inf\n",
      "[LightGBM] [Warning] No further splits with positive gain, best gain: -inf\n",
      "[LightGBM] [Warning] No further splits with positive gain, best gain: -inf\n",
      "[LightGBM] [Warning] No further splits with positive gain, best gain: -inf\n",
      "[LightGBM] [Warning] No further splits with positive gain, best gain: -inf\n",
      "[LightGBM] [Warning] No further splits with positive gain, best gain: -inf\n",
      "[LightGBM] [Warning] No further splits with positive gain, best gain: -inf\n",
      "[LightGBM] [Warning] No further splits with positive gain, best gain: -inf\n",
      "[LightGBM] [Warning] No further splits with positive gain, best gain: -inf\n",
      "[LightGBM] [Warning] No further splits with positive gain, best gain: -inf\n",
      "[LightGBM] [Warning] No further splits with positive gain, best gain: -inf\n",
      "[LightGBM] [Warning] No further splits with positive gain, best gain: -inf\n",
      "[LightGBM] [Warning] No further splits with positive gain, best gain: -inf\n",
      "[LightGBM] [Warning] No further splits with positive gain, best gain: -inf\n",
      "[LightGBM] [Warning] No further splits with positive gain, best gain: -inf\n",
      "[LightGBM] [Warning] No further splits with positive gain, best gain: -inf\n",
      "[LightGBM] [Warning] No further splits with positive gain, best gain: -inf\n",
      "[LightGBM] [Warning] No further splits with positive gain, best gain: -inf\n",
      "[LightGBM] [Warning] No further splits with positive gain, best gain: -inf\n",
      "[LightGBM] [Warning] No further splits with positive gain, best gain: -inf\n"
     ]
    },
    {
     "data": {
      "text/html": [
       "<style type=\"text/css\">\n",
       "#T_4233f_row9_col1, #T_4233f_row13_col1, #T_4233f_row15_col1, #T_4233f_row17_col1, #T_4233f_row19_col1, #T_4233f_row21_col1 {\n",
       "  background-color: lightgreen;\n",
       "}\n",
       "</style>\n",
       "<table id=\"T_4233f\">\n",
       "  <thead>\n",
       "    <tr>\n",
       "      <th class=\"blank level0\" >&nbsp;</th>\n",
       "      <th id=\"T_4233f_level0_col0\" class=\"col_heading level0 col0\" >Description</th>\n",
       "      <th id=\"T_4233f_level0_col1\" class=\"col_heading level0 col1\" >Value</th>\n",
       "    </tr>\n",
       "  </thead>\n",
       "  <tbody>\n",
       "    <tr>\n",
       "      <th id=\"T_4233f_level0_row0\" class=\"row_heading level0 row0\" >0</th>\n",
       "      <td id=\"T_4233f_row0_col0\" class=\"data row0 col0\" >Session id</td>\n",
       "      <td id=\"T_4233f_row0_col1\" class=\"data row0 col1\" >2596</td>\n",
       "    </tr>\n",
       "    <tr>\n",
       "      <th id=\"T_4233f_level0_row1\" class=\"row_heading level0 row1\" >1</th>\n",
       "      <td id=\"T_4233f_row1_col0\" class=\"data row1 col0\" >Target</td>\n",
       "      <td id=\"T_4233f_row1_col1\" class=\"data row1 col1\" >target</td>\n",
       "    </tr>\n",
       "    <tr>\n",
       "      <th id=\"T_4233f_level0_row2\" class=\"row_heading level0 row2\" >2</th>\n",
       "      <td id=\"T_4233f_row2_col0\" class=\"data row2 col0\" >Target type</td>\n",
       "      <td id=\"T_4233f_row2_col1\" class=\"data row2 col1\" >Binary</td>\n",
       "    </tr>\n",
       "    <tr>\n",
       "      <th id=\"T_4233f_level0_row3\" class=\"row_heading level0 row3\" >3</th>\n",
       "      <td id=\"T_4233f_row3_col0\" class=\"data row3 col0\" >Target mapping</td>\n",
       "      <td id=\"T_4233f_row3_col1\" class=\"data row3 col1\" >NO_EXERCISE: 0, SQUAT_JUMP: 1</td>\n",
       "    </tr>\n",
       "    <tr>\n",
       "      <th id=\"T_4233f_level0_row4\" class=\"row_heading level0 row4\" >4</th>\n",
       "      <td id=\"T_4233f_row4_col0\" class=\"data row4 col0\" >Original data shape</td>\n",
       "      <td id=\"T_4233f_row4_col1\" class=\"data row4 col1\" >(595, 100)</td>\n",
       "    </tr>\n",
       "    <tr>\n",
       "      <th id=\"T_4233f_level0_row5\" class=\"row_heading level0 row5\" >5</th>\n",
       "      <td id=\"T_4233f_row5_col0\" class=\"data row5 col0\" >Transformed data shape</td>\n",
       "      <td id=\"T_4233f_row5_col1\" class=\"data row5 col1\" >(717, 11)</td>\n",
       "    </tr>\n",
       "    <tr>\n",
       "      <th id=\"T_4233f_level0_row6\" class=\"row_heading level0 row6\" >6</th>\n",
       "      <td id=\"T_4233f_row6_col0\" class=\"data row6 col0\" >Transformed train set shape</td>\n",
       "      <td id=\"T_4233f_row6_col1\" class=\"data row6 col1\" >(598, 11)</td>\n",
       "    </tr>\n",
       "    <tr>\n",
       "      <th id=\"T_4233f_level0_row7\" class=\"row_heading level0 row7\" >7</th>\n",
       "      <td id=\"T_4233f_row7_col0\" class=\"data row7 col0\" >Transformed test set shape</td>\n",
       "      <td id=\"T_4233f_row7_col1\" class=\"data row7 col1\" >(119, 11)</td>\n",
       "    </tr>\n",
       "    <tr>\n",
       "      <th id=\"T_4233f_level0_row8\" class=\"row_heading level0 row8\" >8</th>\n",
       "      <td id=\"T_4233f_row8_col0\" class=\"data row8 col0\" >Numeric features</td>\n",
       "      <td id=\"T_4233f_row8_col1\" class=\"data row8 col1\" >99</td>\n",
       "    </tr>\n",
       "    <tr>\n",
       "      <th id=\"T_4233f_level0_row9\" class=\"row_heading level0 row9\" >9</th>\n",
       "      <td id=\"T_4233f_row9_col0\" class=\"data row9 col0\" >Preprocess</td>\n",
       "      <td id=\"T_4233f_row9_col1\" class=\"data row9 col1\" >True</td>\n",
       "    </tr>\n",
       "    <tr>\n",
       "      <th id=\"T_4233f_level0_row10\" class=\"row_heading level0 row10\" >10</th>\n",
       "      <td id=\"T_4233f_row10_col0\" class=\"data row10 col0\" >Imputation type</td>\n",
       "      <td id=\"T_4233f_row10_col1\" class=\"data row10 col1\" >simple</td>\n",
       "    </tr>\n",
       "    <tr>\n",
       "      <th id=\"T_4233f_level0_row11\" class=\"row_heading level0 row11\" >11</th>\n",
       "      <td id=\"T_4233f_row11_col0\" class=\"data row11 col0\" >Numeric imputation</td>\n",
       "      <td id=\"T_4233f_row11_col1\" class=\"data row11 col1\" >mean</td>\n",
       "    </tr>\n",
       "    <tr>\n",
       "      <th id=\"T_4233f_level0_row12\" class=\"row_heading level0 row12\" >12</th>\n",
       "      <td id=\"T_4233f_row12_col0\" class=\"data row12 col0\" >Categorical imputation</td>\n",
       "      <td id=\"T_4233f_row12_col1\" class=\"data row12 col1\" >mode</td>\n",
       "    </tr>\n",
       "    <tr>\n",
       "      <th id=\"T_4233f_level0_row13\" class=\"row_heading level0 row13\" >13</th>\n",
       "      <td id=\"T_4233f_row13_col0\" class=\"data row13 col0\" >Remove multicollinearity</td>\n",
       "      <td id=\"T_4233f_row13_col1\" class=\"data row13 col1\" >True</td>\n",
       "    </tr>\n",
       "    <tr>\n",
       "      <th id=\"T_4233f_level0_row14\" class=\"row_heading level0 row14\" >14</th>\n",
       "      <td id=\"T_4233f_row14_col0\" class=\"data row14 col0\" >Multicollinearity threshold</td>\n",
       "      <td id=\"T_4233f_row14_col1\" class=\"data row14 col1\" >0.900000</td>\n",
       "    </tr>\n",
       "    <tr>\n",
       "      <th id=\"T_4233f_level0_row15\" class=\"row_heading level0 row15\" >15</th>\n",
       "      <td id=\"T_4233f_row15_col0\" class=\"data row15 col0\" >Remove outliers</td>\n",
       "      <td id=\"T_4233f_row15_col1\" class=\"data row15 col1\" >True</td>\n",
       "    </tr>\n",
       "    <tr>\n",
       "      <th id=\"T_4233f_level0_row16\" class=\"row_heading level0 row16\" >16</th>\n",
       "      <td id=\"T_4233f_row16_col0\" class=\"data row16 col0\" >Outliers threshold</td>\n",
       "      <td id=\"T_4233f_row16_col1\" class=\"data row16 col1\" >0.030000</td>\n",
       "    </tr>\n",
       "    <tr>\n",
       "      <th id=\"T_4233f_level0_row17\" class=\"row_heading level0 row17\" >17</th>\n",
       "      <td id=\"T_4233f_row17_col0\" class=\"data row17 col0\" >Fix imbalance</td>\n",
       "      <td id=\"T_4233f_row17_col1\" class=\"data row17 col1\" >True</td>\n",
       "    </tr>\n",
       "    <tr>\n",
       "      <th id=\"T_4233f_level0_row18\" class=\"row_heading level0 row18\" >18</th>\n",
       "      <td id=\"T_4233f_row18_col0\" class=\"data row18 col0\" >Fix imbalance method</td>\n",
       "      <td id=\"T_4233f_row18_col1\" class=\"data row18 col1\" >SMOTE</td>\n",
       "    </tr>\n",
       "    <tr>\n",
       "      <th id=\"T_4233f_level0_row19\" class=\"row_heading level0 row19\" >19</th>\n",
       "      <td id=\"T_4233f_row19_col0\" class=\"data row19 col0\" >Normalize</td>\n",
       "      <td id=\"T_4233f_row19_col1\" class=\"data row19 col1\" >True</td>\n",
       "    </tr>\n",
       "    <tr>\n",
       "      <th id=\"T_4233f_level0_row20\" class=\"row_heading level0 row20\" >20</th>\n",
       "      <td id=\"T_4233f_row20_col0\" class=\"data row20 col0\" >Normalize method</td>\n",
       "      <td id=\"T_4233f_row20_col1\" class=\"data row20 col1\" >robust</td>\n",
       "    </tr>\n",
       "    <tr>\n",
       "      <th id=\"T_4233f_level0_row21\" class=\"row_heading level0 row21\" >21</th>\n",
       "      <td id=\"T_4233f_row21_col0\" class=\"data row21 col0\" >Feature selection</td>\n",
       "      <td id=\"T_4233f_row21_col1\" class=\"data row21 col1\" >True</td>\n",
       "    </tr>\n",
       "    <tr>\n",
       "      <th id=\"T_4233f_level0_row22\" class=\"row_heading level0 row22\" >22</th>\n",
       "      <td id=\"T_4233f_row22_col0\" class=\"data row22 col0\" >Feature selection method</td>\n",
       "      <td id=\"T_4233f_row22_col1\" class=\"data row22 col1\" >classic</td>\n",
       "    </tr>\n",
       "    <tr>\n",
       "      <th id=\"T_4233f_level0_row23\" class=\"row_heading level0 row23\" >23</th>\n",
       "      <td id=\"T_4233f_row23_col0\" class=\"data row23 col0\" >Feature selection estimator</td>\n",
       "      <td id=\"T_4233f_row23_col1\" class=\"data row23 col1\" >lightgbm</td>\n",
       "    </tr>\n",
       "    <tr>\n",
       "      <th id=\"T_4233f_level0_row24\" class=\"row_heading level0 row24\" >24</th>\n",
       "      <td id=\"T_4233f_row24_col0\" class=\"data row24 col0\" >Number of features selected</td>\n",
       "      <td id=\"T_4233f_row24_col1\" class=\"data row24 col1\" >10</td>\n",
       "    </tr>\n",
       "    <tr>\n",
       "      <th id=\"T_4233f_level0_row25\" class=\"row_heading level0 row25\" >25</th>\n",
       "      <td id=\"T_4233f_row25_col0\" class=\"data row25 col0\" >Fold Generator</td>\n",
       "      <td id=\"T_4233f_row25_col1\" class=\"data row25 col1\" >StratifiedKFold</td>\n",
       "    </tr>\n",
       "    <tr>\n",
       "      <th id=\"T_4233f_level0_row26\" class=\"row_heading level0 row26\" >26</th>\n",
       "      <td id=\"T_4233f_row26_col0\" class=\"data row26 col0\" >Fold Number</td>\n",
       "      <td id=\"T_4233f_row26_col1\" class=\"data row26 col1\" >10</td>\n",
       "    </tr>\n",
       "    <tr>\n",
       "      <th id=\"T_4233f_level0_row27\" class=\"row_heading level0 row27\" >27</th>\n",
       "      <td id=\"T_4233f_row27_col0\" class=\"data row27 col0\" >CPU Jobs</td>\n",
       "      <td id=\"T_4233f_row27_col1\" class=\"data row27 col1\" >-1</td>\n",
       "    </tr>\n",
       "    <tr>\n",
       "      <th id=\"T_4233f_level0_row28\" class=\"row_heading level0 row28\" >28</th>\n",
       "      <td id=\"T_4233f_row28_col0\" class=\"data row28 col0\" >Use GPU</td>\n",
       "      <td id=\"T_4233f_row28_col1\" class=\"data row28 col1\" >False</td>\n",
       "    </tr>\n",
       "    <tr>\n",
       "      <th id=\"T_4233f_level0_row29\" class=\"row_heading level0 row29\" >29</th>\n",
       "      <td id=\"T_4233f_row29_col0\" class=\"data row29 col0\" >Log Experiment</td>\n",
       "      <td id=\"T_4233f_row29_col1\" class=\"data row29 col1\" >False</td>\n",
       "    </tr>\n",
       "    <tr>\n",
       "      <th id=\"T_4233f_level0_row30\" class=\"row_heading level0 row30\" >30</th>\n",
       "      <td id=\"T_4233f_row30_col0\" class=\"data row30 col0\" >Experiment Name</td>\n",
       "      <td id=\"T_4233f_row30_col1\" class=\"data row30 col1\" >clf-default-name</td>\n",
       "    </tr>\n",
       "    <tr>\n",
       "      <th id=\"T_4233f_level0_row31\" class=\"row_heading level0 row31\" >31</th>\n",
       "      <td id=\"T_4233f_row31_col0\" class=\"data row31 col0\" >USI</td>\n",
       "      <td id=\"T_4233f_row31_col1\" class=\"data row31 col1\" >2e09</td>\n",
       "    </tr>\n",
       "  </tbody>\n",
       "</table>\n"
      ],
      "text/plain": [
       "<pandas.io.formats.style.Styler at 0x12d956f0b20>"
      ]
     },
     "metadata": {},
     "output_type": "display_data"
    }
   ],
   "source": [
    "model = setup(\n",
    "    # Basic options\n",
    "    data = data_dev,\n",
    "    target = \"target\",\n",
    "    train_size = 0.8, \n",
    "    preprocess = True,\n",
    "    \n",
    "    # Dealing with multicollinearity\n",
    "    remove_multicollinearity = True,\n",
    "    multicollinearity_threshold = 0.9,\n",
    "        \n",
    "    # Feature normalization with outliers\n",
    "    normalize = True,\n",
    "    normalize_method = 'robust',\n",
    "        \n",
    "    # Paralellization options\n",
    "    n_jobs = - 1,\n",
    "    use_gpu = False,\n",
    "    \n",
    "    # Imbalance Dataset\n",
    "    fix_imbalance=True,\n",
    "\n",
    "    remove_outliers= True, \n",
    "    outliers_threshold= 0.03,\n",
    "    \n",
    "    # Feature Importance\n",
    "    feature_selection = True,\n",
    "    n_features_to_select= 10\n",
    ")"
   ]
  },
  {
   "cell_type": "code",
   "execution_count": 8,
   "id": "4b69c9ce-2615-4b33-9581-beb567ed4801",
   "metadata": {},
   "outputs": [
    {
     "data": {
      "text/html": [],
      "text/plain": [
       "<IPython.core.display.HTML object>"
      ]
     },
     "metadata": {},
     "output_type": "display_data"
    },
    {
     "data": {
      "text/html": [
       "<style type=\"text/css\">\n",
       "#T_369aa th {\n",
       "  text-align: left;\n",
       "}\n",
       "#T_369aa_row0_col0, #T_369aa_row0_col2, #T_369aa_row0_col4, #T_369aa_row1_col0, #T_369aa_row1_col1, #T_369aa_row1_col3, #T_369aa_row1_col4, #T_369aa_row1_col5, #T_369aa_row1_col6, #T_369aa_row1_col7, #T_369aa_row2_col0, #T_369aa_row2_col1, #T_369aa_row2_col2, #T_369aa_row2_col3, #T_369aa_row2_col5, #T_369aa_row2_col6, #T_369aa_row2_col7, #T_369aa_row3_col0, #T_369aa_row3_col1, #T_369aa_row3_col2, #T_369aa_row3_col3, #T_369aa_row3_col4, #T_369aa_row3_col5, #T_369aa_row3_col6, #T_369aa_row3_col7, #T_369aa_row4_col0, #T_369aa_row4_col1, #T_369aa_row4_col2, #T_369aa_row4_col3, #T_369aa_row4_col4, #T_369aa_row4_col5, #T_369aa_row4_col6, #T_369aa_row4_col7, #T_369aa_row5_col0, #T_369aa_row5_col1, #T_369aa_row5_col2, #T_369aa_row5_col3, #T_369aa_row5_col4, #T_369aa_row5_col5, #T_369aa_row5_col6, #T_369aa_row5_col7, #T_369aa_row6_col0, #T_369aa_row6_col1, #T_369aa_row6_col2, #T_369aa_row6_col3, #T_369aa_row6_col4, #T_369aa_row6_col5, #T_369aa_row6_col6, #T_369aa_row6_col7, #T_369aa_row7_col0, #T_369aa_row7_col1, #T_369aa_row7_col2, #T_369aa_row7_col3, #T_369aa_row7_col4, #T_369aa_row7_col5, #T_369aa_row7_col6, #T_369aa_row7_col7, #T_369aa_row8_col0, #T_369aa_row8_col1, #T_369aa_row8_col2, #T_369aa_row8_col3, #T_369aa_row8_col4, #T_369aa_row8_col5, #T_369aa_row8_col6, #T_369aa_row8_col7, #T_369aa_row9_col0, #T_369aa_row9_col1, #T_369aa_row9_col2, #T_369aa_row9_col3, #T_369aa_row9_col4, #T_369aa_row9_col5, #T_369aa_row9_col6, #T_369aa_row9_col7, #T_369aa_row10_col0, #T_369aa_row10_col1, #T_369aa_row10_col2, #T_369aa_row10_col3, #T_369aa_row10_col4, #T_369aa_row10_col5, #T_369aa_row10_col6, #T_369aa_row10_col7, #T_369aa_row11_col0, #T_369aa_row11_col1, #T_369aa_row11_col2, #T_369aa_row11_col3, #T_369aa_row11_col4, #T_369aa_row11_col5, #T_369aa_row11_col6, #T_369aa_row11_col7, #T_369aa_row12_col0, #T_369aa_row12_col1, #T_369aa_row12_col2, #T_369aa_row12_col3, #T_369aa_row12_col4, #T_369aa_row12_col5, #T_369aa_row12_col6, #T_369aa_row12_col7, #T_369aa_row13_col0, #T_369aa_row13_col1, #T_369aa_row13_col2, #T_369aa_row13_col3, #T_369aa_row13_col4, #T_369aa_row13_col5, #T_369aa_row13_col6, #T_369aa_row13_col7, #T_369aa_row14_col0, #T_369aa_row14_col1, #T_369aa_row14_col2, #T_369aa_row14_col3, #T_369aa_row14_col4, #T_369aa_row14_col5, #T_369aa_row14_col6, #T_369aa_row14_col7, #T_369aa_row15_col0, #T_369aa_row15_col1, #T_369aa_row15_col2, #T_369aa_row15_col3, #T_369aa_row15_col4, #T_369aa_row15_col5, #T_369aa_row15_col6, #T_369aa_row15_col7 {\n",
       "  text-align: left;\n",
       "}\n",
       "#T_369aa_row0_col1, #T_369aa_row0_col3, #T_369aa_row0_col5, #T_369aa_row0_col6, #T_369aa_row0_col7, #T_369aa_row1_col2, #T_369aa_row2_col4 {\n",
       "  text-align: left;\n",
       "  background-color: yellow;\n",
       "}\n",
       "#T_369aa_row0_col8, #T_369aa_row1_col8, #T_369aa_row2_col8, #T_369aa_row3_col8, #T_369aa_row4_col8, #T_369aa_row5_col8, #T_369aa_row6_col8, #T_369aa_row7_col8, #T_369aa_row8_col8, #T_369aa_row9_col8, #T_369aa_row10_col8, #T_369aa_row11_col8, #T_369aa_row12_col8, #T_369aa_row13_col8, #T_369aa_row14_col8 {\n",
       "  text-align: left;\n",
       "  background-color: lightgrey;\n",
       "}\n",
       "#T_369aa_row15_col8 {\n",
       "  text-align: left;\n",
       "  background-color: yellow;\n",
       "  background-color: lightgrey;\n",
       "}\n",
       "</style>\n",
       "<table id=\"T_369aa\">\n",
       "  <thead>\n",
       "    <tr>\n",
       "      <th class=\"blank level0\" >&nbsp;</th>\n",
       "      <th id=\"T_369aa_level0_col0\" class=\"col_heading level0 col0\" >Model</th>\n",
       "      <th id=\"T_369aa_level0_col1\" class=\"col_heading level0 col1\" >Accuracy</th>\n",
       "      <th id=\"T_369aa_level0_col2\" class=\"col_heading level0 col2\" >AUC</th>\n",
       "      <th id=\"T_369aa_level0_col3\" class=\"col_heading level0 col3\" >Recall</th>\n",
       "      <th id=\"T_369aa_level0_col4\" class=\"col_heading level0 col4\" >Prec.</th>\n",
       "      <th id=\"T_369aa_level0_col5\" class=\"col_heading level0 col5\" >F1</th>\n",
       "      <th id=\"T_369aa_level0_col6\" class=\"col_heading level0 col6\" >Kappa</th>\n",
       "      <th id=\"T_369aa_level0_col7\" class=\"col_heading level0 col7\" >MCC</th>\n",
       "      <th id=\"T_369aa_level0_col8\" class=\"col_heading level0 col8\" >TT (Sec)</th>\n",
       "    </tr>\n",
       "  </thead>\n",
       "  <tbody>\n",
       "    <tr>\n",
       "      <th id=\"T_369aa_level0_row0\" class=\"row_heading level0 row0\" >knn</th>\n",
       "      <td id=\"T_369aa_row0_col0\" class=\"data row0 col0\" >K Neighbors Classifier</td>\n",
       "      <td id=\"T_369aa_row0_col1\" class=\"data row0 col1\" >0.8571</td>\n",
       "      <td id=\"T_369aa_row0_col2\" class=\"data row0 col2\" >0.9218</td>\n",
       "      <td id=\"T_369aa_row0_col3\" class=\"data row0 col3\" >0.8571</td>\n",
       "      <td id=\"T_369aa_row0_col4\" class=\"data row0 col4\" >0.8702</td>\n",
       "      <td id=\"T_369aa_row0_col5\" class=\"data row0 col5\" >0.8597</td>\n",
       "      <td id=\"T_369aa_row0_col6\" class=\"data row0 col6\" >0.6964</td>\n",
       "      <td id=\"T_369aa_row0_col7\" class=\"data row0 col7\" >0.7036</td>\n",
       "      <td id=\"T_369aa_row0_col8\" class=\"data row0 col8\" >2.9350</td>\n",
       "    </tr>\n",
       "    <tr>\n",
       "      <th id=\"T_369aa_level0_row1\" class=\"row_heading level0 row1\" >et</th>\n",
       "      <td id=\"T_369aa_row1_col0\" class=\"data row1 col0\" >Extra Trees Classifier</td>\n",
       "      <td id=\"T_369aa_row1_col1\" class=\"data row1 col1\" >0.8550</td>\n",
       "      <td id=\"T_369aa_row1_col2\" class=\"data row1 col2\" >0.9360</td>\n",
       "      <td id=\"T_369aa_row1_col3\" class=\"data row1 col3\" >0.8550</td>\n",
       "      <td id=\"T_369aa_row1_col4\" class=\"data row1 col4\" >0.8608</td>\n",
       "      <td id=\"T_369aa_row1_col5\" class=\"data row1 col5\" >0.8565</td>\n",
       "      <td id=\"T_369aa_row1_col6\" class=\"data row1 col6\" >0.6847</td>\n",
       "      <td id=\"T_369aa_row1_col7\" class=\"data row1 col7\" >0.6874</td>\n",
       "      <td id=\"T_369aa_row1_col8\" class=\"data row1 col8\" >0.5600</td>\n",
       "    </tr>\n",
       "    <tr>\n",
       "      <th id=\"T_369aa_level0_row2\" class=\"row_heading level0 row2\" >qda</th>\n",
       "      <td id=\"T_369aa_row2_col0\" class=\"data row2 col0\" >Quadratic Discriminant Analysis</td>\n",
       "      <td id=\"T_369aa_row2_col1\" class=\"data row2 col1\" >0.8445</td>\n",
       "      <td id=\"T_369aa_row2_col2\" class=\"data row2 col2\" >0.9164</td>\n",
       "      <td id=\"T_369aa_row2_col3\" class=\"data row2 col3\" >0.8445</td>\n",
       "      <td id=\"T_369aa_row2_col4\" class=\"data row2 col4\" >0.8705</td>\n",
       "      <td id=\"T_369aa_row2_col5\" class=\"data row2 col5\" >0.8482</td>\n",
       "      <td id=\"T_369aa_row2_col6\" class=\"data row2 col6\" >0.6778</td>\n",
       "      <td id=\"T_369aa_row2_col7\" class=\"data row2 col7\" >0.6945</td>\n",
       "      <td id=\"T_369aa_row2_col8\" class=\"data row2 col8\" >2.9100</td>\n",
       "    </tr>\n",
       "    <tr>\n",
       "      <th id=\"T_369aa_level0_row3\" class=\"row_heading level0 row3\" >catboost</th>\n",
       "      <td id=\"T_369aa_row3_col0\" class=\"data row3 col0\" >CatBoost Classifier</td>\n",
       "      <td id=\"T_369aa_row3_col1\" class=\"data row3 col1\" >0.8466</td>\n",
       "      <td id=\"T_369aa_row3_col2\" class=\"data row3 col2\" >0.9258</td>\n",
       "      <td id=\"T_369aa_row3_col3\" class=\"data row3 col3\" >0.8466</td>\n",
       "      <td id=\"T_369aa_row3_col4\" class=\"data row3 col4\" >0.8508</td>\n",
       "      <td id=\"T_369aa_row3_col5\" class=\"data row3 col5\" >0.8478</td>\n",
       "      <td id=\"T_369aa_row3_col6\" class=\"data row3 col6\" >0.6646</td>\n",
       "      <td id=\"T_369aa_row3_col7\" class=\"data row3 col7\" >0.6661</td>\n",
       "      <td id=\"T_369aa_row3_col8\" class=\"data row3 col8\" >2.7200</td>\n",
       "    </tr>\n",
       "    <tr>\n",
       "      <th id=\"T_369aa_level0_row4\" class=\"row_heading level0 row4\" >gbc</th>\n",
       "      <td id=\"T_369aa_row4_col0\" class=\"data row4 col0\" >Gradient Boosting Classifier</td>\n",
       "      <td id=\"T_369aa_row4_col1\" class=\"data row4 col1\" >0.8466</td>\n",
       "      <td id=\"T_369aa_row4_col2\" class=\"data row4 col2\" >0.9142</td>\n",
       "      <td id=\"T_369aa_row4_col3\" class=\"data row4 col3\" >0.8466</td>\n",
       "      <td id=\"T_369aa_row4_col4\" class=\"data row4 col4\" >0.8490</td>\n",
       "      <td id=\"T_369aa_row4_col5\" class=\"data row4 col5\" >0.8469</td>\n",
       "      <td id=\"T_369aa_row4_col6\" class=\"data row4 col6\" >0.6603</td>\n",
       "      <td id=\"T_369aa_row4_col7\" class=\"data row4 col7\" >0.6620</td>\n",
       "      <td id=\"T_369aa_row4_col8\" class=\"data row4 col8\" >0.6000</td>\n",
       "    </tr>\n",
       "    <tr>\n",
       "      <th id=\"T_369aa_level0_row5\" class=\"row_heading level0 row5\" >lightgbm</th>\n",
       "      <td id=\"T_369aa_row5_col0\" class=\"data row5 col0\" >Light Gradient Boosting Machine</td>\n",
       "      <td id=\"T_369aa_row5_col1\" class=\"data row5 col1\" >0.8466</td>\n",
       "      <td id=\"T_369aa_row5_col2\" class=\"data row5 col2\" >0.9248</td>\n",
       "      <td id=\"T_369aa_row5_col3\" class=\"data row5 col3\" >0.8466</td>\n",
       "      <td id=\"T_369aa_row5_col4\" class=\"data row5 col4\" >0.8484</td>\n",
       "      <td id=\"T_369aa_row5_col5\" class=\"data row5 col5\" >0.8468</td>\n",
       "      <td id=\"T_369aa_row5_col6\" class=\"data row5 col6\" >0.6598</td>\n",
       "      <td id=\"T_369aa_row5_col7\" class=\"data row5 col7\" >0.6610</td>\n",
       "      <td id=\"T_369aa_row5_col8\" class=\"data row5 col8\" >0.3800</td>\n",
       "    </tr>\n",
       "    <tr>\n",
       "      <th id=\"T_369aa_level0_row6\" class=\"row_heading level0 row6\" >xgboost</th>\n",
       "      <td id=\"T_369aa_row6_col0\" class=\"data row6 col0\" >Extreme Gradient Boosting</td>\n",
       "      <td id=\"T_369aa_row6_col1\" class=\"data row6 col1\" >0.8445</td>\n",
       "      <td id=\"T_369aa_row6_col2\" class=\"data row6 col2\" >0.9202</td>\n",
       "      <td id=\"T_369aa_row6_col3\" class=\"data row6 col3\" >0.8445</td>\n",
       "      <td id=\"T_369aa_row6_col4\" class=\"data row6 col4\" >0.8479</td>\n",
       "      <td id=\"T_369aa_row6_col5\" class=\"data row6 col5\" >0.8454</td>\n",
       "      <td id=\"T_369aa_row6_col6\" class=\"data row6 col6\" >0.6586</td>\n",
       "      <td id=\"T_369aa_row6_col7\" class=\"data row6 col7\" >0.6599</td>\n",
       "      <td id=\"T_369aa_row6_col8\" class=\"data row6 col8\" >0.3850</td>\n",
       "    </tr>\n",
       "    <tr>\n",
       "      <th id=\"T_369aa_level0_row7\" class=\"row_heading level0 row7\" >ada</th>\n",
       "      <td id=\"T_369aa_row7_col0\" class=\"data row7 col0\" >Ada Boost Classifier</td>\n",
       "      <td id=\"T_369aa_row7_col1\" class=\"data row7 col1\" >0.8382</td>\n",
       "      <td id=\"T_369aa_row7_col2\" class=\"data row7 col2\" >0.8920</td>\n",
       "      <td id=\"T_369aa_row7_col3\" class=\"data row7 col3\" >0.8382</td>\n",
       "      <td id=\"T_369aa_row7_col4\" class=\"data row7 col4\" >0.8380</td>\n",
       "      <td id=\"T_369aa_row7_col5\" class=\"data row7 col5\" >0.8381</td>\n",
       "      <td id=\"T_369aa_row7_col6\" class=\"data row7 col6\" >0.6392</td>\n",
       "      <td id=\"T_369aa_row7_col7\" class=\"data row7 col7\" >0.6392</td>\n",
       "      <td id=\"T_369aa_row7_col8\" class=\"data row7 col8\" >0.4900</td>\n",
       "    </tr>\n",
       "    <tr>\n",
       "      <th id=\"T_369aa_level0_row8\" class=\"row_heading level0 row8\" >dt</th>\n",
       "      <td id=\"T_369aa_row8_col0\" class=\"data row8 col0\" >Decision Tree Classifier</td>\n",
       "      <td id=\"T_369aa_row8_col1\" class=\"data row8 col1\" >0.8319</td>\n",
       "      <td id=\"T_369aa_row8_col2\" class=\"data row8 col2\" >0.8114</td>\n",
       "      <td id=\"T_369aa_row8_col3\" class=\"data row8 col3\" >0.8319</td>\n",
       "      <td id=\"T_369aa_row8_col4\" class=\"data row8 col4\" >0.8315</td>\n",
       "      <td id=\"T_369aa_row8_col5\" class=\"data row8 col5\" >0.8317</td>\n",
       "      <td id=\"T_369aa_row8_col6\" class=\"data row8 col6\" >0.6246</td>\n",
       "      <td id=\"T_369aa_row8_col7\" class=\"data row8 col7\" >0.6246</td>\n",
       "      <td id=\"T_369aa_row8_col8\" class=\"data row8 col8\" >2.8600</td>\n",
       "    </tr>\n",
       "    <tr>\n",
       "      <th id=\"T_369aa_level0_row9\" class=\"row_heading level0 row9\" >rf</th>\n",
       "      <td id=\"T_369aa_row9_col0\" class=\"data row9 col0\" >Random Forest Classifier</td>\n",
       "      <td id=\"T_369aa_row9_col1\" class=\"data row9 col1\" >0.8277</td>\n",
       "      <td id=\"T_369aa_row9_col2\" class=\"data row9 col2\" >0.9143</td>\n",
       "      <td id=\"T_369aa_row9_col3\" class=\"data row9 col3\" >0.8277</td>\n",
       "      <td id=\"T_369aa_row9_col4\" class=\"data row9 col4\" >0.8317</td>\n",
       "      <td id=\"T_369aa_row9_col5\" class=\"data row9 col5\" >0.8283</td>\n",
       "      <td id=\"T_369aa_row9_col6\" class=\"data row9 col6\" >0.6201</td>\n",
       "      <td id=\"T_369aa_row9_col7\" class=\"data row9 col7\" >0.6227</td>\n",
       "      <td id=\"T_369aa_row9_col8\" class=\"data row9 col8\" >3.1050</td>\n",
       "    </tr>\n",
       "    <tr>\n",
       "      <th id=\"T_369aa_level0_row10\" class=\"row_heading level0 row10\" >lr</th>\n",
       "      <td id=\"T_369aa_row10_col0\" class=\"data row10 col0\" >Logistic Regression</td>\n",
       "      <td id=\"T_369aa_row10_col1\" class=\"data row10 col1\" >0.8151</td>\n",
       "      <td id=\"T_369aa_row10_col2\" class=\"data row10 col2\" >0.8916</td>\n",
       "      <td id=\"T_369aa_row10_col3\" class=\"data row10 col3\" >0.8151</td>\n",
       "      <td id=\"T_369aa_row10_col4\" class=\"data row10 col4\" >0.8485</td>\n",
       "      <td id=\"T_369aa_row10_col5\" class=\"data row10 col5\" >0.8197</td>\n",
       "      <td id=\"T_369aa_row10_col6\" class=\"data row10 col6\" >0.6212</td>\n",
       "      <td id=\"T_369aa_row10_col7\" class=\"data row10 col7\" >0.6415</td>\n",
       "      <td id=\"T_369aa_row10_col8\" class=\"data row10 col8\" >4.0000</td>\n",
       "    </tr>\n",
       "    <tr>\n",
       "      <th id=\"T_369aa_level0_row11\" class=\"row_heading level0 row11\" >ridge</th>\n",
       "      <td id=\"T_369aa_row11_col0\" class=\"data row11 col0\" >Ridge Classifier</td>\n",
       "      <td id=\"T_369aa_row11_col1\" class=\"data row11 col1\" >0.8046</td>\n",
       "      <td id=\"T_369aa_row11_col2\" class=\"data row11 col2\" >0.0000</td>\n",
       "      <td id=\"T_369aa_row11_col3\" class=\"data row11 col3\" >0.8046</td>\n",
       "      <td id=\"T_369aa_row11_col4\" class=\"data row11 col4\" >0.8510</td>\n",
       "      <td id=\"T_369aa_row11_col5\" class=\"data row11 col5\" >0.8096</td>\n",
       "      <td id=\"T_369aa_row11_col6\" class=\"data row11 col6\" >0.6073</td>\n",
       "      <td id=\"T_369aa_row11_col7\" class=\"data row11 col7\" >0.6370</td>\n",
       "      <td id=\"T_369aa_row11_col8\" class=\"data row11 col8\" >2.9150</td>\n",
       "    </tr>\n",
       "    <tr>\n",
       "      <th id=\"T_369aa_level0_row12\" class=\"row_heading level0 row12\" >lda</th>\n",
       "      <td id=\"T_369aa_row12_col0\" class=\"data row12 col0\" >Linear Discriminant Analysis</td>\n",
       "      <td id=\"T_369aa_row12_col1\" class=\"data row12 col1\" >0.7962</td>\n",
       "      <td id=\"T_369aa_row12_col2\" class=\"data row12 col2\" >0.8866</td>\n",
       "      <td id=\"T_369aa_row12_col3\" class=\"data row12 col3\" >0.7962</td>\n",
       "      <td id=\"T_369aa_row12_col4\" class=\"data row12 col4\" >0.8400</td>\n",
       "      <td id=\"T_369aa_row12_col5\" class=\"data row12 col5\" >0.8015</td>\n",
       "      <td id=\"T_369aa_row12_col6\" class=\"data row12 col6\" >0.5886</td>\n",
       "      <td id=\"T_369aa_row12_col7\" class=\"data row12 col7\" >0.6155</td>\n",
       "      <td id=\"T_369aa_row12_col8\" class=\"data row12 col8\" >0.3600</td>\n",
       "    </tr>\n",
       "    <tr>\n",
       "      <th id=\"T_369aa_level0_row13\" class=\"row_heading level0 row13\" >nb</th>\n",
       "      <td id=\"T_369aa_row13_col0\" class=\"data row13 col0\" >Naive Bayes</td>\n",
       "      <td id=\"T_369aa_row13_col1\" class=\"data row13 col1\" >0.7836</td>\n",
       "      <td id=\"T_369aa_row13_col2\" class=\"data row13 col2\" >0.8851</td>\n",
       "      <td id=\"T_369aa_row13_col3\" class=\"data row13 col3\" >0.7836</td>\n",
       "      <td id=\"T_369aa_row13_col4\" class=\"data row13 col4\" >0.8492</td>\n",
       "      <td id=\"T_369aa_row13_col5\" class=\"data row13 col5\" >0.7890</td>\n",
       "      <td id=\"T_369aa_row13_col6\" class=\"data row13 col6\" >0.5750</td>\n",
       "      <td id=\"T_369aa_row13_col7\" class=\"data row13 col7\" >0.6180</td>\n",
       "      <td id=\"T_369aa_row13_col8\" class=\"data row13 col8\" >2.9350</td>\n",
       "    </tr>\n",
       "    <tr>\n",
       "      <th id=\"T_369aa_level0_row14\" class=\"row_heading level0 row14\" >svm</th>\n",
       "      <td id=\"T_369aa_row14_col0\" class=\"data row14 col0\" >SVM - Linear Kernel</td>\n",
       "      <td id=\"T_369aa_row14_col1\" class=\"data row14 col1\" >0.7857</td>\n",
       "      <td id=\"T_369aa_row14_col2\" class=\"data row14 col2\" >0.0000</td>\n",
       "      <td id=\"T_369aa_row14_col3\" class=\"data row14 col3\" >0.7857</td>\n",
       "      <td id=\"T_369aa_row14_col4\" class=\"data row14 col4\" >0.7914</td>\n",
       "      <td id=\"T_369aa_row14_col5\" class=\"data row14 col5\" >0.7875</td>\n",
       "      <td id=\"T_369aa_row14_col6\" class=\"data row14 col6\" >0.5320</td>\n",
       "      <td id=\"T_369aa_row14_col7\" class=\"data row14 col7\" >0.5338</td>\n",
       "      <td id=\"T_369aa_row14_col8\" class=\"data row14 col8\" >2.9150</td>\n",
       "    </tr>\n",
       "    <tr>\n",
       "      <th id=\"T_369aa_level0_row15\" class=\"row_heading level0 row15\" >dummy</th>\n",
       "      <td id=\"T_369aa_row15_col0\" class=\"data row15 col0\" >Dummy Classifier</td>\n",
       "      <td id=\"T_369aa_row15_col1\" class=\"data row15 col1\" >0.6597</td>\n",
       "      <td id=\"T_369aa_row15_col2\" class=\"data row15 col2\" >0.5000</td>\n",
       "      <td id=\"T_369aa_row15_col3\" class=\"data row15 col3\" >0.6597</td>\n",
       "      <td id=\"T_369aa_row15_col4\" class=\"data row15 col4\" >0.4352</td>\n",
       "      <td id=\"T_369aa_row15_col5\" class=\"data row15 col5\" >0.5244</td>\n",
       "      <td id=\"T_369aa_row15_col6\" class=\"data row15 col6\" >0.0000</td>\n",
       "      <td id=\"T_369aa_row15_col7\" class=\"data row15 col7\" >0.0000</td>\n",
       "      <td id=\"T_369aa_row15_col8\" class=\"data row15 col8\" >0.3100</td>\n",
       "    </tr>\n",
       "  </tbody>\n",
       "</table>\n"
      ],
      "text/plain": [
       "<pandas.io.formats.style.Styler at 0x12d93c907f0>"
      ]
     },
     "metadata": {},
     "output_type": "display_data"
    },
    {
     "data": {
      "text/html": [],
      "text/plain": [
       "<IPython.core.display.HTML object>"
      ]
     },
     "metadata": {},
     "output_type": "display_data"
    },
    {
     "data": {
      "text/html": [
       "<style>#sk-container-id-1 {color: black;background-color: white;}#sk-container-id-1 pre{padding: 0;}#sk-container-id-1 div.sk-toggleable {background-color: white;}#sk-container-id-1 label.sk-toggleable__label {cursor: pointer;display: block;width: 100%;margin-bottom: 0;padding: 0.3em;box-sizing: border-box;text-align: center;}#sk-container-id-1 label.sk-toggleable__label-arrow:before {content: \"▸\";float: left;margin-right: 0.25em;color: #696969;}#sk-container-id-1 label.sk-toggleable__label-arrow:hover:before {color: black;}#sk-container-id-1 div.sk-estimator:hover label.sk-toggleable__label-arrow:before {color: black;}#sk-container-id-1 div.sk-toggleable__content {max-height: 0;max-width: 0;overflow: hidden;text-align: left;background-color: #f0f8ff;}#sk-container-id-1 div.sk-toggleable__content pre {margin: 0.2em;color: black;border-radius: 0.25em;background-color: #f0f8ff;}#sk-container-id-1 input.sk-toggleable__control:checked~div.sk-toggleable__content {max-height: 200px;max-width: 100%;overflow: auto;}#sk-container-id-1 input.sk-toggleable__control:checked~label.sk-toggleable__label-arrow:before {content: \"▾\";}#sk-container-id-1 div.sk-estimator input.sk-toggleable__control:checked~label.sk-toggleable__label {background-color: #d4ebff;}#sk-container-id-1 div.sk-label input.sk-toggleable__control:checked~label.sk-toggleable__label {background-color: #d4ebff;}#sk-container-id-1 input.sk-hidden--visually {border: 0;clip: rect(1px 1px 1px 1px);clip: rect(1px, 1px, 1px, 1px);height: 1px;margin: -1px;overflow: hidden;padding: 0;position: absolute;width: 1px;}#sk-container-id-1 div.sk-estimator {font-family: monospace;background-color: #f0f8ff;border: 1px dotted black;border-radius: 0.25em;box-sizing: border-box;margin-bottom: 0.5em;}#sk-container-id-1 div.sk-estimator:hover {background-color: #d4ebff;}#sk-container-id-1 div.sk-parallel-item::after {content: \"\";width: 100%;border-bottom: 1px solid gray;flex-grow: 1;}#sk-container-id-1 div.sk-label:hover label.sk-toggleable__label {background-color: #d4ebff;}#sk-container-id-1 div.sk-serial::before {content: \"\";position: absolute;border-left: 1px solid gray;box-sizing: border-box;top: 0;bottom: 0;left: 50%;z-index: 0;}#sk-container-id-1 div.sk-serial {display: flex;flex-direction: column;align-items: center;background-color: white;padding-right: 0.2em;padding-left: 0.2em;position: relative;}#sk-container-id-1 div.sk-item {position: relative;z-index: 1;}#sk-container-id-1 div.sk-parallel {display: flex;align-items: stretch;justify-content: center;background-color: white;position: relative;}#sk-container-id-1 div.sk-item::before, #sk-container-id-1 div.sk-parallel-item::before {content: \"\";position: absolute;border-left: 1px solid gray;box-sizing: border-box;top: 0;bottom: 0;left: 50%;z-index: -1;}#sk-container-id-1 div.sk-parallel-item {display: flex;flex-direction: column;z-index: 1;position: relative;background-color: white;}#sk-container-id-1 div.sk-parallel-item:first-child::after {align-self: flex-end;width: 50%;}#sk-container-id-1 div.sk-parallel-item:last-child::after {align-self: flex-start;width: 50%;}#sk-container-id-1 div.sk-parallel-item:only-child::after {width: 0;}#sk-container-id-1 div.sk-dashed-wrapped {border: 1px dashed gray;margin: 0 0.4em 0.5em 0.4em;box-sizing: border-box;padding-bottom: 0.4em;background-color: white;}#sk-container-id-1 div.sk-label label {font-family: monospace;font-weight: bold;display: inline-block;line-height: 1.2em;}#sk-container-id-1 div.sk-label-container {text-align: center;}#sk-container-id-1 div.sk-container {/* jupyter's `normalize.less` sets `[hidden] { display: none; }` but bootstrap.min.css set `[hidden] { display: none !important; }` so we also need the `!important` here to be able to override the default hidden behavior on the sphinx rendered scikit-learn.org. See: https://github.com/scikit-learn/scikit-learn/issues/21755 */display: inline-block !important;position: relative;}#sk-container-id-1 div.sk-text-repr-fallback {display: none;}</style><div id=\"sk-container-id-1\" class=\"sk-top-container\"><div class=\"sk-text-repr-fallback\"><pre>KNeighborsClassifier(algorithm=&#x27;auto&#x27;, leaf_size=30, metric=&#x27;minkowski&#x27;,\n",
       "                     metric_params=None, n_jobs=-1, n_neighbors=5, p=2,\n",
       "                     weights=&#x27;uniform&#x27;)</pre><b>In a Jupyter environment, please rerun this cell to show the HTML representation or trust the notebook. <br />On GitHub, the HTML representation is unable to render, please try loading this page with nbviewer.org.</b></div><div class=\"sk-container\" hidden><div class=\"sk-item\"><div class=\"sk-estimator sk-toggleable\"><input class=\"sk-toggleable__control sk-hidden--visually\" id=\"sk-estimator-id-1\" type=\"checkbox\" checked><label for=\"sk-estimator-id-1\" class=\"sk-toggleable__label sk-toggleable__label-arrow\">KNeighborsClassifier</label><div class=\"sk-toggleable__content\"><pre>KNeighborsClassifier(algorithm=&#x27;auto&#x27;, leaf_size=30, metric=&#x27;minkowski&#x27;,\n",
       "                     metric_params=None, n_jobs=-1, n_neighbors=5, p=2,\n",
       "                     weights=&#x27;uniform&#x27;)</pre></div></div></div></div></div>"
      ],
      "text/plain": [
       "KNeighborsClassifier(algorithm='auto', leaf_size=30, metric='minkowski',\n",
       "                     metric_params=None, n_jobs=-1, n_neighbors=5, p=2,\n",
       "                     weights='uniform')"
      ]
     },
     "execution_count": 8,
     "metadata": {},
     "output_type": "execute_result"
    }
   ],
   "source": [
    "models = compare_models(sort=\"F1\", fold=2)\n",
    "models"
   ]
  },
  {
   "cell_type": "code",
   "execution_count": 9,
   "id": "ba21a24b-9a5b-4933-897e-e4ff318b2e34",
   "metadata": {},
   "outputs": [
    {
     "data": {
      "text/html": [
       "<div>\n",
       "<style scoped>\n",
       "    .dataframe tbody tr th:only-of-type {\n",
       "        vertical-align: middle;\n",
       "    }\n",
       "\n",
       "    .dataframe tbody tr th {\n",
       "        vertical-align: top;\n",
       "    }\n",
       "\n",
       "    .dataframe thead th {\n",
       "        text-align: right;\n",
       "    }\n",
       "</style>\n",
       "<table border=\"1\" class=\"dataframe\">\n",
       "  <thead>\n",
       "    <tr style=\"text-align: right;\">\n",
       "      <th></th>\n",
       "      <th>Model</th>\n",
       "      <th>Accuracy</th>\n",
       "      <th>AUC</th>\n",
       "      <th>Recall</th>\n",
       "      <th>Prec.</th>\n",
       "      <th>F1</th>\n",
       "      <th>Kappa</th>\n",
       "      <th>MCC</th>\n",
       "      <th>TT (Sec)</th>\n",
       "    </tr>\n",
       "  </thead>\n",
       "  <tbody>\n",
       "    <tr>\n",
       "      <th>knn</th>\n",
       "      <td>K Neighbors Classifier</td>\n",
       "      <td>0.8571</td>\n",
       "      <td>0.9218</td>\n",
       "      <td>0.8571</td>\n",
       "      <td>0.8702</td>\n",
       "      <td>0.8597</td>\n",
       "      <td>0.6964</td>\n",
       "      <td>0.7036</td>\n",
       "      <td>2.935</td>\n",
       "    </tr>\n",
       "    <tr>\n",
       "      <th>et</th>\n",
       "      <td>Extra Trees Classifier</td>\n",
       "      <td>0.8550</td>\n",
       "      <td>0.9360</td>\n",
       "      <td>0.8550</td>\n",
       "      <td>0.8608</td>\n",
       "      <td>0.8565</td>\n",
       "      <td>0.6847</td>\n",
       "      <td>0.6874</td>\n",
       "      <td>0.560</td>\n",
       "    </tr>\n",
       "    <tr>\n",
       "      <th>qda</th>\n",
       "      <td>Quadratic Discriminant Analysis</td>\n",
       "      <td>0.8445</td>\n",
       "      <td>0.9164</td>\n",
       "      <td>0.8445</td>\n",
       "      <td>0.8705</td>\n",
       "      <td>0.8482</td>\n",
       "      <td>0.6778</td>\n",
       "      <td>0.6945</td>\n",
       "      <td>2.910</td>\n",
       "    </tr>\n",
       "    <tr>\n",
       "      <th>catboost</th>\n",
       "      <td>CatBoost Classifier</td>\n",
       "      <td>0.8466</td>\n",
       "      <td>0.9258</td>\n",
       "      <td>0.8466</td>\n",
       "      <td>0.8508</td>\n",
       "      <td>0.8478</td>\n",
       "      <td>0.6646</td>\n",
       "      <td>0.6661</td>\n",
       "      <td>2.720</td>\n",
       "    </tr>\n",
       "    <tr>\n",
       "      <th>gbc</th>\n",
       "      <td>Gradient Boosting Classifier</td>\n",
       "      <td>0.8466</td>\n",
       "      <td>0.9142</td>\n",
       "      <td>0.8466</td>\n",
       "      <td>0.8490</td>\n",
       "      <td>0.8469</td>\n",
       "      <td>0.6603</td>\n",
       "      <td>0.6620</td>\n",
       "      <td>0.600</td>\n",
       "    </tr>\n",
       "    <tr>\n",
       "      <th>lightgbm</th>\n",
       "      <td>Light Gradient Boosting Machine</td>\n",
       "      <td>0.8466</td>\n",
       "      <td>0.9248</td>\n",
       "      <td>0.8466</td>\n",
       "      <td>0.8484</td>\n",
       "      <td>0.8468</td>\n",
       "      <td>0.6598</td>\n",
       "      <td>0.6610</td>\n",
       "      <td>0.380</td>\n",
       "    </tr>\n",
       "    <tr>\n",
       "      <th>xgboost</th>\n",
       "      <td>Extreme Gradient Boosting</td>\n",
       "      <td>0.8445</td>\n",
       "      <td>0.9202</td>\n",
       "      <td>0.8445</td>\n",
       "      <td>0.8479</td>\n",
       "      <td>0.8454</td>\n",
       "      <td>0.6586</td>\n",
       "      <td>0.6599</td>\n",
       "      <td>0.385</td>\n",
       "    </tr>\n",
       "    <tr>\n",
       "      <th>ada</th>\n",
       "      <td>Ada Boost Classifier</td>\n",
       "      <td>0.8382</td>\n",
       "      <td>0.8920</td>\n",
       "      <td>0.8382</td>\n",
       "      <td>0.8380</td>\n",
       "      <td>0.8381</td>\n",
       "      <td>0.6392</td>\n",
       "      <td>0.6392</td>\n",
       "      <td>0.490</td>\n",
       "    </tr>\n",
       "    <tr>\n",
       "      <th>dt</th>\n",
       "      <td>Decision Tree Classifier</td>\n",
       "      <td>0.8319</td>\n",
       "      <td>0.8114</td>\n",
       "      <td>0.8319</td>\n",
       "      <td>0.8315</td>\n",
       "      <td>0.8317</td>\n",
       "      <td>0.6246</td>\n",
       "      <td>0.6246</td>\n",
       "      <td>2.860</td>\n",
       "    </tr>\n",
       "    <tr>\n",
       "      <th>rf</th>\n",
       "      <td>Random Forest Classifier</td>\n",
       "      <td>0.8277</td>\n",
       "      <td>0.9143</td>\n",
       "      <td>0.8277</td>\n",
       "      <td>0.8317</td>\n",
       "      <td>0.8283</td>\n",
       "      <td>0.6201</td>\n",
       "      <td>0.6227</td>\n",
       "      <td>3.105</td>\n",
       "    </tr>\n",
       "    <tr>\n",
       "      <th>lr</th>\n",
       "      <td>Logistic Regression</td>\n",
       "      <td>0.8151</td>\n",
       "      <td>0.8916</td>\n",
       "      <td>0.8151</td>\n",
       "      <td>0.8485</td>\n",
       "      <td>0.8197</td>\n",
       "      <td>0.6212</td>\n",
       "      <td>0.6415</td>\n",
       "      <td>4.000</td>\n",
       "    </tr>\n",
       "    <tr>\n",
       "      <th>ridge</th>\n",
       "      <td>Ridge Classifier</td>\n",
       "      <td>0.8046</td>\n",
       "      <td>0.0000</td>\n",
       "      <td>0.8046</td>\n",
       "      <td>0.8510</td>\n",
       "      <td>0.8096</td>\n",
       "      <td>0.6073</td>\n",
       "      <td>0.6370</td>\n",
       "      <td>2.915</td>\n",
       "    </tr>\n",
       "    <tr>\n",
       "      <th>lda</th>\n",
       "      <td>Linear Discriminant Analysis</td>\n",
       "      <td>0.7962</td>\n",
       "      <td>0.8866</td>\n",
       "      <td>0.7962</td>\n",
       "      <td>0.8400</td>\n",
       "      <td>0.8015</td>\n",
       "      <td>0.5886</td>\n",
       "      <td>0.6155</td>\n",
       "      <td>0.360</td>\n",
       "    </tr>\n",
       "    <tr>\n",
       "      <th>nb</th>\n",
       "      <td>Naive Bayes</td>\n",
       "      <td>0.7836</td>\n",
       "      <td>0.8851</td>\n",
       "      <td>0.7836</td>\n",
       "      <td>0.8492</td>\n",
       "      <td>0.7890</td>\n",
       "      <td>0.5750</td>\n",
       "      <td>0.6180</td>\n",
       "      <td>2.935</td>\n",
       "    </tr>\n",
       "    <tr>\n",
       "      <th>svm</th>\n",
       "      <td>SVM - Linear Kernel</td>\n",
       "      <td>0.7857</td>\n",
       "      <td>0.0000</td>\n",
       "      <td>0.7857</td>\n",
       "      <td>0.7914</td>\n",
       "      <td>0.7875</td>\n",
       "      <td>0.5320</td>\n",
       "      <td>0.5338</td>\n",
       "      <td>2.915</td>\n",
       "    </tr>\n",
       "    <tr>\n",
       "      <th>dummy</th>\n",
       "      <td>Dummy Classifier</td>\n",
       "      <td>0.6597</td>\n",
       "      <td>0.5000</td>\n",
       "      <td>0.6597</td>\n",
       "      <td>0.4352</td>\n",
       "      <td>0.5244</td>\n",
       "      <td>0.0000</td>\n",
       "      <td>0.0000</td>\n",
       "      <td>0.310</td>\n",
       "    </tr>\n",
       "  </tbody>\n",
       "</table>\n",
       "</div>"
      ],
      "text/plain": [
       "                                    Model  Accuracy     AUC  Recall   Prec.  \\\n",
       "knn                K Neighbors Classifier    0.8571  0.9218  0.8571  0.8702   \n",
       "et                 Extra Trees Classifier    0.8550  0.9360  0.8550  0.8608   \n",
       "qda       Quadratic Discriminant Analysis    0.8445  0.9164  0.8445  0.8705   \n",
       "catboost              CatBoost Classifier    0.8466  0.9258  0.8466  0.8508   \n",
       "gbc          Gradient Boosting Classifier    0.8466  0.9142  0.8466  0.8490   \n",
       "lightgbm  Light Gradient Boosting Machine    0.8466  0.9248  0.8466  0.8484   \n",
       "xgboost         Extreme Gradient Boosting    0.8445  0.9202  0.8445  0.8479   \n",
       "ada                  Ada Boost Classifier    0.8382  0.8920  0.8382  0.8380   \n",
       "dt               Decision Tree Classifier    0.8319  0.8114  0.8319  0.8315   \n",
       "rf               Random Forest Classifier    0.8277  0.9143  0.8277  0.8317   \n",
       "lr                    Logistic Regression    0.8151  0.8916  0.8151  0.8485   \n",
       "ridge                    Ridge Classifier    0.8046  0.0000  0.8046  0.8510   \n",
       "lda          Linear Discriminant Analysis    0.7962  0.8866  0.7962  0.8400   \n",
       "nb                            Naive Bayes    0.7836  0.8851  0.7836  0.8492   \n",
       "svm                   SVM - Linear Kernel    0.7857  0.0000  0.7857  0.7914   \n",
       "dummy                    Dummy Classifier    0.6597  0.5000  0.6597  0.4352   \n",
       "\n",
       "              F1   Kappa     MCC  TT (Sec)  \n",
       "knn       0.8597  0.6964  0.7036     2.935  \n",
       "et        0.8565  0.6847  0.6874     0.560  \n",
       "qda       0.8482  0.6778  0.6945     2.910  \n",
       "catboost  0.8478  0.6646  0.6661     2.720  \n",
       "gbc       0.8469  0.6603  0.6620     0.600  \n",
       "lightgbm  0.8468  0.6598  0.6610     0.380  \n",
       "xgboost   0.8454  0.6586  0.6599     0.385  \n",
       "ada       0.8381  0.6392  0.6392     0.490  \n",
       "dt        0.8317  0.6246  0.6246     2.860  \n",
       "rf        0.8283  0.6201  0.6227     3.105  \n",
       "lr        0.8197  0.6212  0.6415     4.000  \n",
       "ridge     0.8096  0.6073  0.6370     2.915  \n",
       "lda       0.8015  0.5886  0.6155     0.360  \n",
       "nb        0.7890  0.5750  0.6180     2.935  \n",
       "svm       0.7875  0.5320  0.5338     2.915  \n",
       "dummy     0.5244  0.0000  0.0000     0.310  "
      ]
     },
     "execution_count": 9,
     "metadata": {},
     "output_type": "execute_result"
    }
   ],
   "source": [
    "cnt_models_df = pull()\n",
    "cnt_models_df"
   ]
  },
  {
   "cell_type": "code",
   "execution_count": 10,
   "id": "5c2c2d35-1a7c-4f0c-a2c5-3649c04d8a15",
   "metadata": {},
   "outputs": [
    {
     "data": {
      "text/html": [],
      "text/plain": [
       "<IPython.core.display.HTML object>"
      ]
     },
     "metadata": {},
     "output_type": "display_data"
    },
    {
     "data": {
      "text/html": [
       "<style type=\"text/css\">\n",
       "#T_ec46d_row2_col0, #T_ec46d_row2_col1, #T_ec46d_row2_col2, #T_ec46d_row2_col3, #T_ec46d_row2_col4, #T_ec46d_row2_col5, #T_ec46d_row2_col6 {\n",
       "  background: yellow;\n",
       "}\n",
       "</style>\n",
       "<table id=\"T_ec46d\">\n",
       "  <thead>\n",
       "    <tr>\n",
       "      <th class=\"blank level0\" >&nbsp;</th>\n",
       "      <th id=\"T_ec46d_level0_col0\" class=\"col_heading level0 col0\" >Accuracy</th>\n",
       "      <th id=\"T_ec46d_level0_col1\" class=\"col_heading level0 col1\" >AUC</th>\n",
       "      <th id=\"T_ec46d_level0_col2\" class=\"col_heading level0 col2\" >Recall</th>\n",
       "      <th id=\"T_ec46d_level0_col3\" class=\"col_heading level0 col3\" >Prec.</th>\n",
       "      <th id=\"T_ec46d_level0_col4\" class=\"col_heading level0 col4\" >F1</th>\n",
       "      <th id=\"T_ec46d_level0_col5\" class=\"col_heading level0 col5\" >Kappa</th>\n",
       "      <th id=\"T_ec46d_level0_col6\" class=\"col_heading level0 col6\" >MCC</th>\n",
       "    </tr>\n",
       "    <tr>\n",
       "      <th class=\"index_name level0\" >Fold</th>\n",
       "      <th class=\"blank col0\" >&nbsp;</th>\n",
       "      <th class=\"blank col1\" >&nbsp;</th>\n",
       "      <th class=\"blank col2\" >&nbsp;</th>\n",
       "      <th class=\"blank col3\" >&nbsp;</th>\n",
       "      <th class=\"blank col4\" >&nbsp;</th>\n",
       "      <th class=\"blank col5\" >&nbsp;</th>\n",
       "      <th class=\"blank col6\" >&nbsp;</th>\n",
       "    </tr>\n",
       "  </thead>\n",
       "  <tbody>\n",
       "    <tr>\n",
       "      <th id=\"T_ec46d_level0_row0\" class=\"row_heading level0 row0\" >0</th>\n",
       "      <td id=\"T_ec46d_row0_col0\" class=\"data row0 col0\" >0.8739</td>\n",
       "      <td id=\"T_ec46d_row0_col1\" class=\"data row0 col1\" >0.9423</td>\n",
       "      <td id=\"T_ec46d_row0_col2\" class=\"data row0 col2\" >0.8739</td>\n",
       "      <td id=\"T_ec46d_row0_col3\" class=\"data row0 col3\" >0.8786</td>\n",
       "      <td id=\"T_ec46d_row0_col4\" class=\"data row0 col4\" >0.8753</td>\n",
       "      <td id=\"T_ec46d_row0_col5\" class=\"data row0 col5\" >0.7258</td>\n",
       "      <td id=\"T_ec46d_row0_col6\" class=\"data row0 col6\" >0.7278</td>\n",
       "    </tr>\n",
       "    <tr>\n",
       "      <th id=\"T_ec46d_level0_row1\" class=\"row_heading level0 row1\" >1</th>\n",
       "      <td id=\"T_ec46d_row1_col0\" class=\"data row1 col0\" >0.8487</td>\n",
       "      <td id=\"T_ec46d_row1_col1\" class=\"data row1 col1\" >0.9288</td>\n",
       "      <td id=\"T_ec46d_row1_col2\" class=\"data row1 col2\" >0.8487</td>\n",
       "      <td id=\"T_ec46d_row1_col3\" class=\"data row1 col3\" >0.8597</td>\n",
       "      <td id=\"T_ec46d_row1_col4\" class=\"data row1 col4\" >0.8512</td>\n",
       "      <td id=\"T_ec46d_row1_col5\" class=\"data row1 col5\" >0.6767</td>\n",
       "      <td id=\"T_ec46d_row1_col6\" class=\"data row1 col6\" >0.6821</td>\n",
       "    </tr>\n",
       "    <tr>\n",
       "      <th id=\"T_ec46d_level0_row2\" class=\"row_heading level0 row2\" >Mean</th>\n",
       "      <td id=\"T_ec46d_row2_col0\" class=\"data row2 col0\" >0.8613</td>\n",
       "      <td id=\"T_ec46d_row2_col1\" class=\"data row2 col1\" >0.9356</td>\n",
       "      <td id=\"T_ec46d_row2_col2\" class=\"data row2 col2\" >0.8613</td>\n",
       "      <td id=\"T_ec46d_row2_col3\" class=\"data row2 col3\" >0.8692</td>\n",
       "      <td id=\"T_ec46d_row2_col4\" class=\"data row2 col4\" >0.8632</td>\n",
       "      <td id=\"T_ec46d_row2_col5\" class=\"data row2 col5\" >0.7012</td>\n",
       "      <td id=\"T_ec46d_row2_col6\" class=\"data row2 col6\" >0.7049</td>\n",
       "    </tr>\n",
       "    <tr>\n",
       "      <th id=\"T_ec46d_level0_row3\" class=\"row_heading level0 row3\" >Std</th>\n",
       "      <td id=\"T_ec46d_row3_col0\" class=\"data row3 col0\" >0.0126</td>\n",
       "      <td id=\"T_ec46d_row3_col1\" class=\"data row3 col1\" >0.0067</td>\n",
       "      <td id=\"T_ec46d_row3_col2\" class=\"data row3 col2\" >0.0126</td>\n",
       "      <td id=\"T_ec46d_row3_col3\" class=\"data row3 col3\" >0.0095</td>\n",
       "      <td id=\"T_ec46d_row3_col4\" class=\"data row3 col4\" >0.0120</td>\n",
       "      <td id=\"T_ec46d_row3_col5\" class=\"data row3 col5\" >0.0246</td>\n",
       "      <td id=\"T_ec46d_row3_col6\" class=\"data row3 col6\" >0.0229</td>\n",
       "    </tr>\n",
       "  </tbody>\n",
       "</table>\n"
      ],
      "text/plain": [
       "<pandas.io.formats.style.Styler at 0x12d956f17e0>"
      ]
     },
     "metadata": {},
     "output_type": "display_data"
    },
    {
     "data": {
      "text/html": [],
      "text/plain": [
       "<IPython.core.display.HTML object>"
      ]
     },
     "metadata": {},
     "output_type": "display_data"
    }
   ],
   "source": [
    "clf = create_model('et', fold = 2)"
   ]
  },
  {
   "cell_type": "code",
   "execution_count": 11,
   "id": "2dc8271f-e42e-4605-8322-2780a94db736",
   "metadata": {},
   "outputs": [
    {
     "data": {
      "text/html": [],
      "text/plain": [
       "<IPython.core.display.HTML object>"
      ]
     },
     "metadata": {},
     "output_type": "display_data"
    },
    {
     "data": {
      "text/html": [
       "<style type=\"text/css\">\n",
       "#T_44b48_row2_col0, #T_44b48_row2_col1, #T_44b48_row2_col2, #T_44b48_row2_col3, #T_44b48_row2_col4, #T_44b48_row2_col5, #T_44b48_row2_col6 {\n",
       "  background: yellow;\n",
       "}\n",
       "</style>\n",
       "<table id=\"T_44b48\">\n",
       "  <thead>\n",
       "    <tr>\n",
       "      <th class=\"blank level0\" >&nbsp;</th>\n",
       "      <th id=\"T_44b48_level0_col0\" class=\"col_heading level0 col0\" >Accuracy</th>\n",
       "      <th id=\"T_44b48_level0_col1\" class=\"col_heading level0 col1\" >AUC</th>\n",
       "      <th id=\"T_44b48_level0_col2\" class=\"col_heading level0 col2\" >Recall</th>\n",
       "      <th id=\"T_44b48_level0_col3\" class=\"col_heading level0 col3\" >Prec.</th>\n",
       "      <th id=\"T_44b48_level0_col4\" class=\"col_heading level0 col4\" >F1</th>\n",
       "      <th id=\"T_44b48_level0_col5\" class=\"col_heading level0 col5\" >Kappa</th>\n",
       "      <th id=\"T_44b48_level0_col6\" class=\"col_heading level0 col6\" >MCC</th>\n",
       "    </tr>\n",
       "    <tr>\n",
       "      <th class=\"index_name level0\" >Fold</th>\n",
       "      <th class=\"blank col0\" >&nbsp;</th>\n",
       "      <th class=\"blank col1\" >&nbsp;</th>\n",
       "      <th class=\"blank col2\" >&nbsp;</th>\n",
       "      <th class=\"blank col3\" >&nbsp;</th>\n",
       "      <th class=\"blank col4\" >&nbsp;</th>\n",
       "      <th class=\"blank col5\" >&nbsp;</th>\n",
       "      <th class=\"blank col6\" >&nbsp;</th>\n",
       "    </tr>\n",
       "  </thead>\n",
       "  <tbody>\n",
       "    <tr>\n",
       "      <th id=\"T_44b48_level0_row0\" class=\"row_heading level0 row0\" >0</th>\n",
       "      <td id=\"T_44b48_row0_col0\" class=\"data row0 col0\" >0.8697</td>\n",
       "      <td id=\"T_44b48_row0_col1\" class=\"data row0 col1\" >0.9379</td>\n",
       "      <td id=\"T_44b48_row0_col2\" class=\"data row0 col2\" >0.8697</td>\n",
       "      <td id=\"T_44b48_row0_col3\" class=\"data row0 col3\" >0.8920</td>\n",
       "      <td id=\"T_44b48_row0_col4\" class=\"data row0 col4\" >0.8727</td>\n",
       "      <td id=\"T_44b48_row0_col5\" class=\"data row0 col5\" >0.7286</td>\n",
       "      <td id=\"T_44b48_row0_col6\" class=\"data row0 col6\" >0.7438</td>\n",
       "    </tr>\n",
       "    <tr>\n",
       "      <th id=\"T_44b48_level0_row1\" class=\"row_heading level0 row1\" >1</th>\n",
       "      <td id=\"T_44b48_row1_col0\" class=\"data row1 col0\" >0.8445</td>\n",
       "      <td id=\"T_44b48_row1_col1\" class=\"data row1 col1\" >0.9146</td>\n",
       "      <td id=\"T_44b48_row1_col2\" class=\"data row1 col2\" >0.8445</td>\n",
       "      <td id=\"T_44b48_row1_col3\" class=\"data row1 col3\" >0.8810</td>\n",
       "      <td id=\"T_44b48_row1_col4\" class=\"data row1 col4\" >0.8485</td>\n",
       "      <td id=\"T_44b48_row1_col5\" class=\"data row1 col5\" >0.6831</td>\n",
       "      <td id=\"T_44b48_row1_col6\" class=\"data row1 col6\" >0.7086</td>\n",
       "    </tr>\n",
       "    <tr>\n",
       "      <th id=\"T_44b48_level0_row2\" class=\"row_heading level0 row2\" >Mean</th>\n",
       "      <td id=\"T_44b48_row2_col0\" class=\"data row2 col0\" >0.8571</td>\n",
       "      <td id=\"T_44b48_row2_col1\" class=\"data row2 col1\" >0.9262</td>\n",
       "      <td id=\"T_44b48_row2_col2\" class=\"data row2 col2\" >0.8571</td>\n",
       "      <td id=\"T_44b48_row2_col3\" class=\"data row2 col3\" >0.8865</td>\n",
       "      <td id=\"T_44b48_row2_col4\" class=\"data row2 col4\" >0.8606</td>\n",
       "      <td id=\"T_44b48_row2_col5\" class=\"data row2 col5\" >0.7058</td>\n",
       "      <td id=\"T_44b48_row2_col6\" class=\"data row2 col6\" >0.7262</td>\n",
       "    </tr>\n",
       "    <tr>\n",
       "      <th id=\"T_44b48_level0_row3\" class=\"row_heading level0 row3\" >Std</th>\n",
       "      <td id=\"T_44b48_row3_col0\" class=\"data row3 col0\" >0.0126</td>\n",
       "      <td id=\"T_44b48_row3_col1\" class=\"data row3 col1\" >0.0116</td>\n",
       "      <td id=\"T_44b48_row3_col2\" class=\"data row3 col2\" >0.0126</td>\n",
       "      <td id=\"T_44b48_row3_col3\" class=\"data row3 col3\" >0.0055</td>\n",
       "      <td id=\"T_44b48_row3_col4\" class=\"data row3 col4\" >0.0121</td>\n",
       "      <td id=\"T_44b48_row3_col5\" class=\"data row3 col5\" >0.0227</td>\n",
       "      <td id=\"T_44b48_row3_col6\" class=\"data row3 col6\" >0.0176</td>\n",
       "    </tr>\n",
       "  </tbody>\n",
       "</table>\n"
      ],
      "text/plain": [
       "<pandas.io.formats.style.Styler at 0x12d91979060>"
      ]
     },
     "metadata": {},
     "output_type": "display_data"
    },
    {
     "data": {
      "text/html": [],
      "text/plain": [
       "<IPython.core.display.HTML object>"
      ]
     },
     "metadata": {},
     "output_type": "display_data"
    },
    {
     "name": "stdout",
     "output_type": "stream",
     "text": [
      "Fitting 2 folds for each of 10 candidates, totalling 20 fits\n"
     ]
    }
   ],
   "source": [
    "tuned_clf = tune_model(clf, optimize = 'F1', fold = 2)"
   ]
  },
  {
   "cell_type": "code",
   "execution_count": 12,
   "id": "f4143241-90ca-480a-bf70-1c483a42b442",
   "metadata": {},
   "outputs": [
    {
     "name": "stdout",
     "output_type": "stream",
     "text": [
      "Total of features:  10\n"
     ]
    }
   ],
   "source": [
    "print(\"Total of features: \", len(tuned_clf.feature_importances_))"
   ]
  },
  {
   "cell_type": "code",
   "execution_count": 13,
   "id": "c9cf2a0e-12d6-42f0-ba46-adfb27d4ff9e",
   "metadata": {},
   "outputs": [
    {
     "data": {
      "application/vnd.jupyter.widget-view+json": {
       "model_id": "1d75e0b0c372489eb3940cb0ae696ce7",
       "version_major": 2,
       "version_minor": 0
      },
      "text/plain": [
       "interactive(children=(ToggleButtons(description='Plot Type:', icons=('',), options=(('Pipeline Plot', 'pipelin…"
      ]
     },
     "metadata": {},
     "output_type": "display_data"
    }
   ],
   "source": [
    "evaluate_model(tuned_clf)"
   ]
  },
  {
   "cell_type": "code",
   "execution_count": 14,
   "id": "3ebf8abf-c7ae-4470-99b5-ad8227e42eac",
   "metadata": {},
   "outputs": [
    {
     "ename": "IndexError",
     "evalue": "Length of values (577) does not match length of index (595). This usually happens when transformations that drop rows aren't applied on all the columns.",
     "output_type": "error",
     "traceback": [
      "\u001b[1;31m---------------------------------------------------------------------------\u001b[0m",
      "\u001b[1;31mValueError\u001b[0m                                Traceback (most recent call last)",
      "File \u001b[1;32m~\\anaconda3\\envs\\ambiente2\\lib\\site-packages\\pycaret\\internal\\preprocess\\transformers.py:135\u001b[0m, in \u001b[0;36mTransformerWrapper._reorder_cols\u001b[1;34m(self, df, original_df)\u001b[0m\n\u001b[0;32m    134\u001b[0m \u001b[38;5;28;01mtry\u001b[39;00m:\n\u001b[1;32m--> 135\u001b[0m     original_df\u001b[38;5;241m.\u001b[39mindex \u001b[38;5;241m=\u001b[39m df\u001b[38;5;241m.\u001b[39mindex\n\u001b[0;32m    136\u001b[0m \u001b[38;5;28;01mexcept\u001b[39;00m \u001b[38;5;167;01mValueError\u001b[39;00m:  \u001b[38;5;66;03m# Length mismatch\u001b[39;00m\n",
      "File \u001b[1;32m~\\anaconda3\\envs\\ambiente2\\lib\\site-packages\\pandas\\core\\generic.py:5915\u001b[0m, in \u001b[0;36mNDFrame.__setattr__\u001b[1;34m(self, name, value)\u001b[0m\n\u001b[0;32m   5914\u001b[0m     \u001b[38;5;28mobject\u001b[39m\u001b[38;5;241m.\u001b[39m\u001b[38;5;21m__getattribute__\u001b[39m(\u001b[38;5;28mself\u001b[39m, name)\n\u001b[1;32m-> 5915\u001b[0m     \u001b[38;5;28;01mreturn\u001b[39;00m \u001b[38;5;28;43mobject\u001b[39;49m\u001b[38;5;241;43m.\u001b[39;49m\u001b[38;5;21;43m__setattr__\u001b[39;49m\u001b[43m(\u001b[49m\u001b[38;5;28;43mself\u001b[39;49m\u001b[43m,\u001b[49m\u001b[43m \u001b[49m\u001b[43mname\u001b[49m\u001b[43m,\u001b[49m\u001b[43m \u001b[49m\u001b[43mvalue\u001b[49m\u001b[43m)\u001b[49m\n\u001b[0;32m   5916\u001b[0m \u001b[38;5;28;01mexcept\u001b[39;00m \u001b[38;5;167;01mAttributeError\u001b[39;00m:\n",
      "File \u001b[1;32m~\\anaconda3\\envs\\ambiente2\\lib\\site-packages\\pandas\\_libs\\properties.pyx:69\u001b[0m, in \u001b[0;36mpandas._libs.properties.AxisProperty.__set__\u001b[1;34m()\u001b[0m\n",
      "File \u001b[1;32m~\\anaconda3\\envs\\ambiente2\\lib\\site-packages\\pandas\\core\\generic.py:823\u001b[0m, in \u001b[0;36mNDFrame._set_axis\u001b[1;34m(self, axis, labels)\u001b[0m\n\u001b[0;32m    822\u001b[0m labels \u001b[38;5;241m=\u001b[39m ensure_index(labels)\n\u001b[1;32m--> 823\u001b[0m \u001b[38;5;28;43mself\u001b[39;49m\u001b[38;5;241;43m.\u001b[39;49m\u001b[43m_mgr\u001b[49m\u001b[38;5;241;43m.\u001b[39;49m\u001b[43mset_axis\u001b[49m\u001b[43m(\u001b[49m\u001b[43maxis\u001b[49m\u001b[43m,\u001b[49m\u001b[43m \u001b[49m\u001b[43mlabels\u001b[49m\u001b[43m)\u001b[49m\n\u001b[0;32m    824\u001b[0m \u001b[38;5;28mself\u001b[39m\u001b[38;5;241m.\u001b[39m_clear_item_cache()\n",
      "File \u001b[1;32m~\\anaconda3\\envs\\ambiente2\\lib\\site-packages\\pandas\\core\\internals\\managers.py:230\u001b[0m, in \u001b[0;36mBaseBlockManager.set_axis\u001b[1;34m(self, axis, new_labels)\u001b[0m\n\u001b[0;32m    228\u001b[0m \u001b[38;5;28;01mdef\u001b[39;00m \u001b[38;5;21mset_axis\u001b[39m(\u001b[38;5;28mself\u001b[39m, axis: \u001b[38;5;28mint\u001b[39m, new_labels: Index) \u001b[38;5;241m-\u001b[39m\u001b[38;5;241m>\u001b[39m \u001b[38;5;28;01mNone\u001b[39;00m:\n\u001b[0;32m    229\u001b[0m     \u001b[38;5;66;03m# Caller is responsible for ensuring we have an Index object.\u001b[39;00m\n\u001b[1;32m--> 230\u001b[0m     \u001b[38;5;28;43mself\u001b[39;49m\u001b[38;5;241;43m.\u001b[39;49m\u001b[43m_validate_set_axis\u001b[49m\u001b[43m(\u001b[49m\u001b[43maxis\u001b[49m\u001b[43m,\u001b[49m\u001b[43m \u001b[49m\u001b[43mnew_labels\u001b[49m\u001b[43m)\u001b[49m\n\u001b[0;32m    231\u001b[0m     \u001b[38;5;28mself\u001b[39m\u001b[38;5;241m.\u001b[39maxes[axis] \u001b[38;5;241m=\u001b[39m new_labels\n",
      "File \u001b[1;32m~\\anaconda3\\envs\\ambiente2\\lib\\site-packages\\pandas\\core\\internals\\base.py:70\u001b[0m, in \u001b[0;36mDataManager._validate_set_axis\u001b[1;34m(self, axis, new_labels)\u001b[0m\n\u001b[0;32m     69\u001b[0m \u001b[38;5;28;01melif\u001b[39;00m new_len \u001b[38;5;241m!=\u001b[39m old_len:\n\u001b[1;32m---> 70\u001b[0m     \u001b[38;5;28;01mraise\u001b[39;00m \u001b[38;5;167;01mValueError\u001b[39;00m(\n\u001b[0;32m     71\u001b[0m         \u001b[38;5;124mf\u001b[39m\u001b[38;5;124m\"\u001b[39m\u001b[38;5;124mLength mismatch: Expected axis has \u001b[39m\u001b[38;5;132;01m{\u001b[39;00mold_len\u001b[38;5;132;01m}\u001b[39;00m\u001b[38;5;124m elements, new \u001b[39m\u001b[38;5;124m\"\u001b[39m\n\u001b[0;32m     72\u001b[0m         \u001b[38;5;124mf\u001b[39m\u001b[38;5;124m\"\u001b[39m\u001b[38;5;124mvalues have \u001b[39m\u001b[38;5;132;01m{\u001b[39;00mnew_len\u001b[38;5;132;01m}\u001b[39;00m\u001b[38;5;124m elements\u001b[39m\u001b[38;5;124m\"\u001b[39m\n\u001b[0;32m     73\u001b[0m     )\n",
      "\u001b[1;31mValueError\u001b[0m: Length mismatch: Expected axis has 595 elements, new values have 577 elements",
      "\nDuring handling of the above exception, another exception occurred:\n",
      "\u001b[1;31mIndexError\u001b[0m                                Traceback (most recent call last)",
      "Cell \u001b[1;32mIn[14], line 1\u001b[0m\n\u001b[1;32m----> 1\u001b[0m model_final \u001b[38;5;241m=\u001b[39m \u001b[43mfinalize_model\u001b[49m\u001b[43m(\u001b[49m\u001b[43mtuned_clf\u001b[49m\u001b[43m)\u001b[49m\n",
      "File \u001b[1;32m~\\anaconda3\\envs\\ambiente2\\lib\\site-packages\\pycaret\\utils\\generic.py:965\u001b[0m, in \u001b[0;36mcheck_if_global_is_not_none.<locals>.decorator.<locals>.wrapper\u001b[1;34m(*args, **kwargs)\u001b[0m\n\u001b[0;32m    963\u001b[0m     \u001b[38;5;28;01mif\u001b[39;00m globals_d[name] \u001b[38;5;129;01mis\u001b[39;00m \u001b[38;5;28;01mNone\u001b[39;00m:\n\u001b[0;32m    964\u001b[0m         \u001b[38;5;28;01mraise\u001b[39;00m \u001b[38;5;167;01mValueError\u001b[39;00m(message)\n\u001b[1;32m--> 965\u001b[0m \u001b[38;5;28;01mreturn\u001b[39;00m func(\u001b[38;5;241m*\u001b[39margs, \u001b[38;5;241m*\u001b[39m\u001b[38;5;241m*\u001b[39mkwargs)\n",
      "File \u001b[1;32m~\\anaconda3\\envs\\ambiente2\\lib\\site-packages\\pycaret\\classification\\functional.py:2229\u001b[0m, in \u001b[0;36mfinalize_model\u001b[1;34m(estimator, fit_kwargs, groups, model_only, experiment_custom_tags)\u001b[0m\n\u001b[0;32m   2177\u001b[0m \u001b[38;5;129m@check_if_global_is_not_none\u001b[39m(\u001b[38;5;28mglobals\u001b[39m(), _CURRENT_EXPERIMENT_DECORATOR_DICT)\n\u001b[0;32m   2178\u001b[0m \u001b[38;5;28;01mdef\u001b[39;00m \u001b[38;5;21mfinalize_model\u001b[39m(\n\u001b[0;32m   2179\u001b[0m     estimator,\n\u001b[1;32m   (...)\u001b[0m\n\u001b[0;32m   2183\u001b[0m     experiment_custom_tags: Optional[Dict[\u001b[38;5;28mstr\u001b[39m, Any]] \u001b[38;5;241m=\u001b[39m \u001b[38;5;28;01mNone\u001b[39;00m,\n\u001b[0;32m   2184\u001b[0m ) \u001b[38;5;241m-\u001b[39m\u001b[38;5;241m>\u001b[39m Any:\n\u001b[0;32m   2185\u001b[0m \u001b[38;5;250m    \u001b[39m\u001b[38;5;124;03m\"\"\"\u001b[39;00m\n\u001b[0;32m   2186\u001b[0m \u001b[38;5;124;03m    This function trains a given estimator on the entire dataset including the\u001b[39;00m\n\u001b[0;32m   2187\u001b[0m \u001b[38;5;124;03m    holdout set.\u001b[39;00m\n\u001b[1;32m   (...)\u001b[0m\n\u001b[0;32m   2226\u001b[0m \n\u001b[0;32m   2227\u001b[0m \u001b[38;5;124;03m    \"\"\"\u001b[39;00m\n\u001b[1;32m-> 2229\u001b[0m     \u001b[38;5;28;01mreturn\u001b[39;00m \u001b[43m_CURRENT_EXPERIMENT\u001b[49m\u001b[38;5;241;43m.\u001b[39;49m\u001b[43mfinalize_model\u001b[49m\u001b[43m(\u001b[49m\n\u001b[0;32m   2230\u001b[0m \u001b[43m        \u001b[49m\u001b[43mestimator\u001b[49m\u001b[38;5;241;43m=\u001b[39;49m\u001b[43mestimator\u001b[49m\u001b[43m,\u001b[49m\n\u001b[0;32m   2231\u001b[0m \u001b[43m        \u001b[49m\u001b[43mfit_kwargs\u001b[49m\u001b[38;5;241;43m=\u001b[39;49m\u001b[43mfit_kwargs\u001b[49m\u001b[43m,\u001b[49m\n\u001b[0;32m   2232\u001b[0m \u001b[43m        \u001b[49m\u001b[43mgroups\u001b[49m\u001b[38;5;241;43m=\u001b[39;49m\u001b[43mgroups\u001b[49m\u001b[43m,\u001b[49m\n\u001b[0;32m   2233\u001b[0m \u001b[43m        \u001b[49m\u001b[43mmodel_only\u001b[49m\u001b[38;5;241;43m=\u001b[39;49m\u001b[43mmodel_only\u001b[49m\u001b[43m,\u001b[49m\n\u001b[0;32m   2234\u001b[0m \u001b[43m        \u001b[49m\u001b[43mexperiment_custom_tags\u001b[49m\u001b[38;5;241;43m=\u001b[39;49m\u001b[43mexperiment_custom_tags\u001b[49m\u001b[43m,\u001b[49m\n\u001b[0;32m   2235\u001b[0m \u001b[43m    \u001b[49m\u001b[43m)\u001b[49m\n",
      "File \u001b[1;32m~\\anaconda3\\envs\\ambiente2\\lib\\site-packages\\pycaret\\classification\\oop.py:2875\u001b[0m, in \u001b[0;36mClassificationExperiment.finalize_model\u001b[1;34m(self, estimator, fit_kwargs, groups, model_only, experiment_custom_tags)\u001b[0m\n\u001b[0;32m   2823\u001b[0m \u001b[38;5;28;01mdef\u001b[39;00m \u001b[38;5;21mfinalize_model\u001b[39m(\n\u001b[0;32m   2824\u001b[0m     \u001b[38;5;28mself\u001b[39m,\n\u001b[0;32m   2825\u001b[0m     estimator,\n\u001b[1;32m   (...)\u001b[0m\n\u001b[0;32m   2829\u001b[0m     experiment_custom_tags: Optional[Dict[\u001b[38;5;28mstr\u001b[39m, Any]] \u001b[38;5;241m=\u001b[39m \u001b[38;5;28;01mNone\u001b[39;00m,\n\u001b[0;32m   2830\u001b[0m ) \u001b[38;5;241m-\u001b[39m\u001b[38;5;241m>\u001b[39m Any:\n\u001b[0;32m   2831\u001b[0m \u001b[38;5;250m    \u001b[39m\u001b[38;5;124;03m\"\"\"\u001b[39;00m\n\u001b[0;32m   2832\u001b[0m \u001b[38;5;124;03m    This function trains a given estimator on the entire dataset including the\u001b[39;00m\n\u001b[0;32m   2833\u001b[0m \u001b[38;5;124;03m    holdout set.\u001b[39;00m\n\u001b[1;32m   (...)\u001b[0m\n\u001b[0;32m   2872\u001b[0m \n\u001b[0;32m   2873\u001b[0m \u001b[38;5;124;03m    \"\"\"\u001b[39;00m\n\u001b[1;32m-> 2875\u001b[0m     \u001b[38;5;28;01mreturn\u001b[39;00m \u001b[38;5;28;43msuper\u001b[39;49m\u001b[43m(\u001b[49m\u001b[43m)\u001b[49m\u001b[38;5;241;43m.\u001b[39;49m\u001b[43mfinalize_model\u001b[49m\u001b[43m(\u001b[49m\n\u001b[0;32m   2876\u001b[0m \u001b[43m        \u001b[49m\u001b[43mestimator\u001b[49m\u001b[38;5;241;43m=\u001b[39;49m\u001b[43mestimator\u001b[49m\u001b[43m,\u001b[49m\n\u001b[0;32m   2877\u001b[0m \u001b[43m        \u001b[49m\u001b[43mfit_kwargs\u001b[49m\u001b[38;5;241;43m=\u001b[39;49m\u001b[43mfit_kwargs\u001b[49m\u001b[43m,\u001b[49m\n\u001b[0;32m   2878\u001b[0m \u001b[43m        \u001b[49m\u001b[43mgroups\u001b[49m\u001b[38;5;241;43m=\u001b[39;49m\u001b[43mgroups\u001b[49m\u001b[43m,\u001b[49m\n\u001b[0;32m   2879\u001b[0m \u001b[43m        \u001b[49m\u001b[43mmodel_only\u001b[49m\u001b[38;5;241;43m=\u001b[39;49m\u001b[43mmodel_only\u001b[49m\u001b[43m,\u001b[49m\n\u001b[0;32m   2880\u001b[0m \u001b[43m        \u001b[49m\u001b[43mexperiment_custom_tags\u001b[49m\u001b[38;5;241;43m=\u001b[39;49m\u001b[43mexperiment_custom_tags\u001b[49m\u001b[43m,\u001b[49m\n\u001b[0;32m   2881\u001b[0m \u001b[43m    \u001b[49m\u001b[43m)\u001b[49m\n",
      "File \u001b[1;32m~\\anaconda3\\envs\\ambiente2\\lib\\site-packages\\pycaret\\internal\\pycaret_experiment\\supervised_experiment.py:4730\u001b[0m, in \u001b[0;36m_SupervisedExperiment.finalize_model\u001b[1;34m(self, estimator, fit_kwargs, groups, model_only, experiment_custom_tags)\u001b[0m\n\u001b[0;32m   4727\u001b[0m np\u001b[38;5;241m.\u001b[39mrandom\u001b[38;5;241m.\u001b[39mseed(\u001b[38;5;28mself\u001b[39m\u001b[38;5;241m.\u001b[39mseed)\n\u001b[0;32m   4729\u001b[0m \u001b[38;5;28mself\u001b[39m\u001b[38;5;241m.\u001b[39mlogger\u001b[38;5;241m.\u001b[39minfo(\u001b[38;5;124mf\u001b[39m\u001b[38;5;124m\"\u001b[39m\u001b[38;5;124mFinalizing \u001b[39m\u001b[38;5;132;01m{\u001b[39;00mestimator\u001b[38;5;132;01m}\u001b[39;00m\u001b[38;5;124m\"\u001b[39m)\n\u001b[1;32m-> 4730\u001b[0m pipeline_final, model_fit_time \u001b[38;5;241m=\u001b[39m \u001b[38;5;28;43mself\u001b[39;49m\u001b[38;5;241;43m.\u001b[39;49m\u001b[43m_create_model\u001b[49m\u001b[43m(\u001b[49m\n\u001b[0;32m   4731\u001b[0m \u001b[43m    \u001b[49m\u001b[43mestimator\u001b[49m\u001b[38;5;241;43m=\u001b[39;49m\u001b[43mestimator\u001b[49m\u001b[43m,\u001b[49m\n\u001b[0;32m   4732\u001b[0m \u001b[43m    \u001b[49m\u001b[43mcross_validation\u001b[49m\u001b[38;5;241;43m=\u001b[39;49m\u001b[38;5;28;43;01mFalse\u001b[39;49;00m\u001b[43m,\u001b[49m\n\u001b[0;32m   4733\u001b[0m \u001b[43m    \u001b[49m\u001b[43mverbose\u001b[49m\u001b[38;5;241;43m=\u001b[39;49m\u001b[38;5;28;43;01mFalse\u001b[39;49;00m\u001b[43m,\u001b[49m\n\u001b[0;32m   4734\u001b[0m \u001b[43m    \u001b[49m\u001b[43msystem\u001b[49m\u001b[38;5;241;43m=\u001b[39;49m\u001b[38;5;28;43;01mFalse\u001b[39;49;00m\u001b[43m,\u001b[49m\n\u001b[0;32m   4735\u001b[0m \u001b[43m    \u001b[49m\u001b[43mX_train_data\u001b[49m\u001b[38;5;241;43m=\u001b[39;49m\u001b[38;5;28;43mself\u001b[39;49m\u001b[38;5;241;43m.\u001b[39;49m\u001b[43mX\u001b[49m\u001b[43m,\u001b[49m\n\u001b[0;32m   4736\u001b[0m \u001b[43m    \u001b[49m\u001b[43my_train_data\u001b[49m\u001b[38;5;241;43m=\u001b[39;49m\u001b[38;5;28;43mself\u001b[39;49m\u001b[38;5;241;43m.\u001b[39;49m\u001b[43my\u001b[49m\u001b[43m,\u001b[49m\n\u001b[0;32m   4737\u001b[0m \u001b[43m    \u001b[49m\u001b[43mfit_kwargs\u001b[49m\u001b[38;5;241;43m=\u001b[39;49m\u001b[43mfit_kwargs\u001b[49m\u001b[43m \u001b[49m\u001b[38;5;129;43;01mor\u001b[39;49;00m\u001b[43m \u001b[49m\u001b[43m{\u001b[49m\u001b[43m}\u001b[49m\u001b[43m,\u001b[49m\n\u001b[0;32m   4738\u001b[0m \u001b[43m    \u001b[49m\u001b[43mpredict\u001b[49m\u001b[38;5;241;43m=\u001b[39;49m\u001b[38;5;28;43;01mFalse\u001b[39;49;00m\u001b[43m,\u001b[49m\n\u001b[0;32m   4739\u001b[0m \u001b[43m    \u001b[49m\u001b[43mgroups\u001b[49m\u001b[38;5;241;43m=\u001b[39;49m\u001b[38;5;28;43mself\u001b[39;49m\u001b[38;5;241;43m.\u001b[39;49m\u001b[43m_get_groups\u001b[49m\u001b[43m(\u001b[49m\u001b[43mgroups\u001b[49m\u001b[43m,\u001b[49m\u001b[43m \u001b[49m\u001b[43mdata\u001b[49m\u001b[38;5;241;43m=\u001b[39;49m\u001b[38;5;28;43mself\u001b[39;49m\u001b[38;5;241;43m.\u001b[39;49m\u001b[43mX\u001b[49m\u001b[43m)\u001b[49m\u001b[43m,\u001b[49m\n\u001b[0;32m   4740\u001b[0m \u001b[43m    \u001b[49m\u001b[43madd_to_model_list\u001b[49m\u001b[38;5;241;43m=\u001b[39;49m\u001b[38;5;28;43;01mFalse\u001b[39;49;00m\u001b[43m,\u001b[49m\n\u001b[0;32m   4741\u001b[0m \u001b[43m    \u001b[49m\u001b[43mmodel_only\u001b[49m\u001b[38;5;241;43m=\u001b[39;49m\u001b[38;5;28;43;01mFalse\u001b[39;49;00m\u001b[43m,\u001b[49m\n\u001b[0;32m   4742\u001b[0m \u001b[43m\u001b[49m\u001b[43m)\u001b[49m\n\u001b[0;32m   4744\u001b[0m \u001b[38;5;66;03m# dashboard logging\u001b[39;00m\n\u001b[0;32m   4745\u001b[0m \u001b[38;5;28;01mif\u001b[39;00m \u001b[38;5;28mself\u001b[39m\u001b[38;5;241m.\u001b[39mlogging_param:\n",
      "File \u001b[1;32m~\\anaconda3\\envs\\ambiente2\\lib\\site-packages\\pycaret\\internal\\pycaret_experiment\\supervised_experiment.py:1507\u001b[0m, in \u001b[0;36m_SupervisedExperiment._create_model\u001b[1;34m(self, estimator, fold, round, cross_validation, predict, fit_kwargs, groups, refit, probability_threshold, experiment_custom_tags, verbose, system, add_to_model_list, X_train_data, y_train_data, metrics, display, model_only, return_train_score, error_score, **kwargs)\u001b[0m\n\u001b[0;32m   1502\u001b[0m \u001b[38;5;250m\u001b[39m\u001b[38;5;124;03m\"\"\"\u001b[39;00m\n\u001b[0;32m   1503\u001b[0m \u001b[38;5;124;03mMONITOR UPDATE ENDS\u001b[39;00m\n\u001b[0;32m   1504\u001b[0m \u001b[38;5;124;03m\"\"\"\u001b[39;00m\n\u001b[0;32m   1506\u001b[0m \u001b[38;5;28;01mif\u001b[39;00m \u001b[38;5;129;01mnot\u001b[39;00m cross_validation:\n\u001b[1;32m-> 1507\u001b[0m     model, model_fit_time \u001b[38;5;241m=\u001b[39m \u001b[38;5;28;43mself\u001b[39;49m\u001b[38;5;241;43m.\u001b[39;49m\u001b[43m_create_model_without_cv\u001b[49m\u001b[43m(\u001b[49m\n\u001b[0;32m   1508\u001b[0m \u001b[43m        \u001b[49m\u001b[43mmodel\u001b[49m\u001b[38;5;241;43m=\u001b[39;49m\u001b[43mmodel\u001b[49m\u001b[43m,\u001b[49m\n\u001b[0;32m   1509\u001b[0m \u001b[43m        \u001b[49m\u001b[43mdata_X\u001b[49m\u001b[38;5;241;43m=\u001b[39;49m\u001b[43mdata_X\u001b[49m\u001b[43m,\u001b[49m\n\u001b[0;32m   1510\u001b[0m \u001b[43m        \u001b[49m\u001b[43mdata_y\u001b[49m\u001b[38;5;241;43m=\u001b[39;49m\u001b[43mdata_y\u001b[49m\u001b[43m,\u001b[49m\n\u001b[0;32m   1511\u001b[0m \u001b[43m        \u001b[49m\u001b[43mfit_kwargs\u001b[49m\u001b[38;5;241;43m=\u001b[39;49m\u001b[43mfit_kwargs\u001b[49m\u001b[43m,\u001b[49m\n\u001b[0;32m   1512\u001b[0m \u001b[43m        \u001b[49m\u001b[38;5;28;43mround\u001b[39;49m\u001b[38;5;241;43m=\u001b[39;49m\u001b[38;5;28;43mround\u001b[39;49m\u001b[43m,\u001b[49m\n\u001b[0;32m   1513\u001b[0m \u001b[43m        \u001b[49m\u001b[43mpredict\u001b[49m\u001b[38;5;241;43m=\u001b[39;49m\u001b[43mpredict\u001b[49m\u001b[43m,\u001b[49m\n\u001b[0;32m   1514\u001b[0m \u001b[43m        \u001b[49m\u001b[43msystem\u001b[49m\u001b[38;5;241;43m=\u001b[39;49m\u001b[43msystem\u001b[49m\u001b[43m,\u001b[49m\n\u001b[0;32m   1515\u001b[0m \u001b[43m        \u001b[49m\u001b[43mdisplay\u001b[49m\u001b[38;5;241;43m=\u001b[39;49m\u001b[43mdisplay\u001b[49m\u001b[43m,\u001b[49m\n\u001b[0;32m   1516\u001b[0m \u001b[43m        \u001b[49m\u001b[43mmodel_only\u001b[49m\u001b[38;5;241;43m=\u001b[39;49m\u001b[43mmodel_only\u001b[49m\u001b[43m,\u001b[49m\n\u001b[0;32m   1517\u001b[0m \u001b[43m        \u001b[49m\u001b[43mreturn_train_score\u001b[49m\u001b[38;5;241;43m=\u001b[39;49m\u001b[43mreturn_train_score\u001b[49m\u001b[43m,\u001b[49m\n\u001b[0;32m   1518\u001b[0m \u001b[43m    \u001b[49m\u001b[43m)\u001b[49m\n\u001b[0;32m   1520\u001b[0m     display\u001b[38;5;241m.\u001b[39mmove_progress()\n\u001b[0;32m   1522\u001b[0m     \u001b[38;5;28mself\u001b[39m\u001b[38;5;241m.\u001b[39mlogger\u001b[38;5;241m.\u001b[39minfo(\u001b[38;5;28mstr\u001b[39m(model))\n",
      "File \u001b[1;32m~\\anaconda3\\envs\\ambiente2\\lib\\site-packages\\pycaret\\internal\\pycaret_experiment\\supervised_experiment.py:1032\u001b[0m, in \u001b[0;36m_SupervisedExperiment._create_model_without_cv\u001b[1;34m(self, model, data_X, data_y, fit_kwargs, round, predict, system, display, model_only, return_train_score)\u001b[0m\n\u001b[0;32m   1030\u001b[0m model_fit_start \u001b[38;5;241m=\u001b[39m time\u001b[38;5;241m.\u001b[39mtime()\n\u001b[0;32m   1031\u001b[0m \u001b[38;5;28;01mwith\u001b[39;00m redirect_output(\u001b[38;5;28mself\u001b[39m\u001b[38;5;241m.\u001b[39mlogger):\n\u001b[1;32m-> 1032\u001b[0m     pipeline_with_model\u001b[38;5;241m.\u001b[39mfit(data_X, data_y, \u001b[38;5;241m*\u001b[39m\u001b[38;5;241m*\u001b[39mfit_kwargs)\n\u001b[0;32m   1033\u001b[0m model_fit_end \u001b[38;5;241m=\u001b[39m time\u001b[38;5;241m.\u001b[39mtime()\n\u001b[0;32m   1035\u001b[0m model_fit_time \u001b[38;5;241m=\u001b[39m np\u001b[38;5;241m.\u001b[39marray(model_fit_end \u001b[38;5;241m-\u001b[39m model_fit_start)\u001b[38;5;241m.\u001b[39mround(\u001b[38;5;241m2\u001b[39m)\n",
      "File \u001b[1;32m~\\anaconda3\\envs\\ambiente2\\lib\\site-packages\\pycaret\\internal\\pipeline.py:270\u001b[0m, in \u001b[0;36mPipeline.fit\u001b[1;34m(self, X, y, **fit_params)\u001b[0m\n\u001b[0;32m    268\u001b[0m \u001b[38;5;28;01mdef\u001b[39;00m \u001b[38;5;21mfit\u001b[39m(\u001b[38;5;28mself\u001b[39m, X\u001b[38;5;241m=\u001b[39m\u001b[38;5;28;01mNone\u001b[39;00m, y\u001b[38;5;241m=\u001b[39m\u001b[38;5;28;01mNone\u001b[39;00m, \u001b[38;5;241m*\u001b[39m\u001b[38;5;241m*\u001b[39mfit_params):\n\u001b[0;32m    269\u001b[0m     fit_params_steps \u001b[38;5;241m=\u001b[39m \u001b[38;5;28mself\u001b[39m\u001b[38;5;241m.\u001b[39m_check_fit_params(\u001b[38;5;241m*\u001b[39m\u001b[38;5;241m*\u001b[39mfit_params)\n\u001b[1;32m--> 270\u001b[0m     X, y, _ \u001b[38;5;241m=\u001b[39m \u001b[38;5;28mself\u001b[39m\u001b[38;5;241m.\u001b[39m_fit(X, y, \u001b[38;5;241m*\u001b[39m\u001b[38;5;241m*\u001b[39mfit_params_steps)\n\u001b[0;32m    272\u001b[0m     \u001b[38;5;28;01mwith\u001b[39;00m _print_elapsed_time(\u001b[38;5;124m\"\u001b[39m\u001b[38;5;124mPipeline\u001b[39m\u001b[38;5;124m\"\u001b[39m, \u001b[38;5;28mself\u001b[39m\u001b[38;5;241m.\u001b[39m_log_message(\u001b[38;5;28mlen\u001b[39m(\u001b[38;5;28mself\u001b[39m\u001b[38;5;241m.\u001b[39msteps) \u001b[38;5;241m-\u001b[39m \u001b[38;5;241m1\u001b[39m)):\n\u001b[0;32m    273\u001b[0m         \u001b[38;5;28;01mif\u001b[39;00m \u001b[38;5;28mself\u001b[39m\u001b[38;5;241m.\u001b[39m_final_estimator \u001b[38;5;241m!=\u001b[39m \u001b[38;5;124m\"\u001b[39m\u001b[38;5;124mpassthrough\u001b[39m\u001b[38;5;124m\"\u001b[39m:\n",
      "File \u001b[1;32m~\\anaconda3\\envs\\ambiente2\\lib\\site-packages\\pycaret\\internal\\pipeline.py:253\u001b[0m, in \u001b[0;36mPipeline._fit\u001b[1;34m(self, X, y, **fit_params_steps)\u001b[0m\n\u001b[0;32m    245\u001b[0m     \u001b[38;5;66;03m# Fit or load the current transformer from cache\u001b[39;00m\n\u001b[0;32m    246\u001b[0m     fitted_transformer \u001b[38;5;241m=\u001b[39m \u001b[38;5;28mself\u001b[39m\u001b[38;5;241m.\u001b[39m_memory_fit(\n\u001b[0;32m    247\u001b[0m         transformer\u001b[38;5;241m=\u001b[39mcloned,\n\u001b[0;32m    248\u001b[0m         X\u001b[38;5;241m=\u001b[39mX,\n\u001b[1;32m   (...)\u001b[0m\n\u001b[0;32m    251\u001b[0m         \u001b[38;5;241m*\u001b[39m\u001b[38;5;241m*\u001b[39mfit_params_steps\u001b[38;5;241m.\u001b[39mget(name, {}),\n\u001b[0;32m    252\u001b[0m     )\n\u001b[1;32m--> 253\u001b[0m     X, y \u001b[38;5;241m=\u001b[39m \u001b[38;5;28;43mself\u001b[39;49m\u001b[38;5;241;43m.\u001b[39;49m\u001b[43m_memory_transform\u001b[49m\u001b[43m(\u001b[49m\n\u001b[0;32m    254\u001b[0m \u001b[43m        \u001b[49m\u001b[43mtransformer\u001b[49m\u001b[38;5;241;43m=\u001b[39;49m\u001b[43mfitted_transformer\u001b[49m\u001b[43m,\u001b[49m\n\u001b[0;32m    255\u001b[0m \u001b[43m        \u001b[49m\u001b[43mX\u001b[49m\u001b[38;5;241;43m=\u001b[39;49m\u001b[43mX\u001b[49m\u001b[43m,\u001b[49m\n\u001b[0;32m    256\u001b[0m \u001b[43m        \u001b[49m\u001b[43my\u001b[49m\u001b[38;5;241;43m=\u001b[39;49m\u001b[43my\u001b[49m\u001b[43m,\u001b[49m\n\u001b[0;32m    257\u001b[0m \u001b[43m    \u001b[49m\u001b[43m)\u001b[49m\n\u001b[0;32m    259\u001b[0m \u001b[38;5;66;03m# Replace the transformer of the step with the fitted\u001b[39;00m\n\u001b[0;32m    260\u001b[0m \u001b[38;5;66;03m# transformer (necessary when loading from the cache)\u001b[39;00m\n\u001b[0;32m    261\u001b[0m \u001b[38;5;28mself\u001b[39m\u001b[38;5;241m.\u001b[39msteps[step_idx] \u001b[38;5;241m=\u001b[39m (name, fitted_transformer)\n",
      "File \u001b[1;32m~\\anaconda3\\envs\\ambiente2\\lib\\site-packages\\joblib\\memory.py:353\u001b[0m, in \u001b[0;36mNotMemorizedFunc.__call__\u001b[1;34m(self, *args, **kwargs)\u001b[0m\n\u001b[0;32m    352\u001b[0m \u001b[38;5;28;01mdef\u001b[39;00m \u001b[38;5;21m__call__\u001b[39m(\u001b[38;5;28mself\u001b[39m, \u001b[38;5;241m*\u001b[39margs, \u001b[38;5;241m*\u001b[39m\u001b[38;5;241m*\u001b[39mkwargs):\n\u001b[1;32m--> 353\u001b[0m     \u001b[38;5;28;01mreturn\u001b[39;00m \u001b[38;5;28mself\u001b[39m\u001b[38;5;241m.\u001b[39mfunc(\u001b[38;5;241m*\u001b[39margs, \u001b[38;5;241m*\u001b[39m\u001b[38;5;241m*\u001b[39mkwargs)\n",
      "File \u001b[1;32m~\\anaconda3\\envs\\ambiente2\\lib\\site-packages\\pycaret\\internal\\pipeline.py:79\u001b[0m, in \u001b[0;36m_transform_one\u001b[1;34m(transformer, X, y)\u001b[0m\n\u001b[0;32m     77\u001b[0m \u001b[38;5;28;01mif\u001b[39;00m \u001b[38;5;124m\"\u001b[39m\u001b[38;5;124my\u001b[39m\u001b[38;5;124m\"\u001b[39m \u001b[38;5;129;01min\u001b[39;00m signature(transformer\u001b[38;5;241m.\u001b[39mtransform)\u001b[38;5;241m.\u001b[39mparameters:\n\u001b[0;32m     78\u001b[0m     args\u001b[38;5;241m.\u001b[39mappend(y)\n\u001b[1;32m---> 79\u001b[0m output \u001b[38;5;241m=\u001b[39m \u001b[43mtransformer\u001b[49m\u001b[38;5;241;43m.\u001b[39;49m\u001b[43mtransform\u001b[49m\u001b[43m(\u001b[49m\u001b[38;5;241;43m*\u001b[39;49m\u001b[43margs\u001b[49m\u001b[43m)\u001b[49m\n\u001b[0;32m     81\u001b[0m \u001b[38;5;28;01mif\u001b[39;00m \u001b[38;5;28misinstance\u001b[39m(output, \u001b[38;5;28mtuple\u001b[39m):\n\u001b[0;32m     82\u001b[0m     X, y \u001b[38;5;241m=\u001b[39m output[\u001b[38;5;241m0\u001b[39m], output[\u001b[38;5;241m1\u001b[39m]\n",
      "File \u001b[1;32m~\\anaconda3\\envs\\ambiente2\\lib\\site-packages\\sklearn\\utils\\_set_output.py:140\u001b[0m, in \u001b[0;36m_wrap_method_output.<locals>.wrapped\u001b[1;34m(self, X, *args, **kwargs)\u001b[0m\n\u001b[0;32m    138\u001b[0m \u001b[38;5;129m@wraps\u001b[39m(f)\n\u001b[0;32m    139\u001b[0m \u001b[38;5;28;01mdef\u001b[39;00m \u001b[38;5;21mwrapped\u001b[39m(\u001b[38;5;28mself\u001b[39m, X, \u001b[38;5;241m*\u001b[39margs, \u001b[38;5;241m*\u001b[39m\u001b[38;5;241m*\u001b[39mkwargs):\n\u001b[1;32m--> 140\u001b[0m     data_to_wrap \u001b[38;5;241m=\u001b[39m f(\u001b[38;5;28mself\u001b[39m, X, \u001b[38;5;241m*\u001b[39margs, \u001b[38;5;241m*\u001b[39m\u001b[38;5;241m*\u001b[39mkwargs)\n\u001b[0;32m    141\u001b[0m     \u001b[38;5;28;01mif\u001b[39;00m \u001b[38;5;28misinstance\u001b[39m(data_to_wrap, \u001b[38;5;28mtuple\u001b[39m):\n\u001b[0;32m    142\u001b[0m         \u001b[38;5;66;03m# only wrap the first output for cross decomposition\u001b[39;00m\n\u001b[0;32m    143\u001b[0m         \u001b[38;5;28;01mreturn\u001b[39;00m (\n\u001b[0;32m    144\u001b[0m             _wrap_data_with_container(method, data_to_wrap[\u001b[38;5;241m0\u001b[39m], X, \u001b[38;5;28mself\u001b[39m),\n\u001b[0;32m    145\u001b[0m             \u001b[38;5;241m*\u001b[39mdata_to_wrap[\u001b[38;5;241m1\u001b[39m:],\n\u001b[0;32m    146\u001b[0m         )\n",
      "File \u001b[1;32m~\\anaconda3\\envs\\ambiente2\\lib\\site-packages\\pycaret\\internal\\preprocess\\transformers.py:259\u001b[0m, in \u001b[0;36mTransformerWrapper.transform\u001b[1;34m(self, X, y)\u001b[0m\n\u001b[0;32m    257\u001b[0m \u001b[38;5;66;03m# Transform can return X, y or both\u001b[39;00m\n\u001b[0;32m    258\u001b[0m \u001b[38;5;28;01mif\u001b[39;00m \u001b[38;5;28misinstance\u001b[39m(output, \u001b[38;5;28mtuple\u001b[39m):\n\u001b[1;32m--> 259\u001b[0m     new_X \u001b[38;5;241m=\u001b[39m \u001b[38;5;28;43mself\u001b[39;49m\u001b[38;5;241;43m.\u001b[39;49m\u001b[43m_prepare_df\u001b[49m\u001b[43m(\u001b[49m\u001b[43mX\u001b[49m\u001b[43m,\u001b[49m\u001b[43m \u001b[49m\u001b[43moutput\u001b[49m\u001b[43m[\u001b[49m\u001b[38;5;241;43m0\u001b[39;49m\u001b[43m]\u001b[49m\u001b[43m)\u001b[49m\n\u001b[0;32m    260\u001b[0m     new_y \u001b[38;5;241m=\u001b[39m to_series(output[\u001b[38;5;241m1\u001b[39m], index\u001b[38;5;241m=\u001b[39mnew_X\u001b[38;5;241m.\u001b[39mindex, name\u001b[38;5;241m=\u001b[39my\u001b[38;5;241m.\u001b[39mname)\n\u001b[0;32m    261\u001b[0m \u001b[38;5;28;01melse\u001b[39;00m:\n",
      "File \u001b[1;32m~\\anaconda3\\envs\\ambiente2\\lib\\site-packages\\pycaret\\internal\\preprocess\\transformers.py:196\u001b[0m, in \u001b[0;36mTransformerWrapper._prepare_df\u001b[1;34m(self, X, out)\u001b[0m\n\u001b[0;32m    194\u001b[0m \u001b[38;5;66;03m# Reorder columns if only a subset was used\u001b[39;00m\n\u001b[0;32m    195\u001b[0m \u001b[38;5;28;01mif\u001b[39;00m \u001b[38;5;28mlen\u001b[39m(\u001b[38;5;28mself\u001b[39m\u001b[38;5;241m.\u001b[39m_include) \u001b[38;5;241m!=\u001b[39m X\u001b[38;5;241m.\u001b[39mshape[\u001b[38;5;241m1\u001b[39m]:\n\u001b[1;32m--> 196\u001b[0m     \u001b[38;5;28;01mreturn\u001b[39;00m \u001b[38;5;28;43mself\u001b[39;49m\u001b[38;5;241;43m.\u001b[39;49m\u001b[43m_reorder_cols\u001b[49m\u001b[43m(\u001b[49m\u001b[43mout\u001b[49m\u001b[43m,\u001b[49m\u001b[43m \u001b[49m\u001b[43mX\u001b[49m\u001b[43m)\u001b[49m\n\u001b[0;32m    197\u001b[0m \u001b[38;5;28;01melse\u001b[39;00m:\n\u001b[0;32m    198\u001b[0m     \u001b[38;5;28;01mreturn\u001b[39;00m out\n",
      "File \u001b[1;32m~\\anaconda3\\envs\\ambiente2\\lib\\site-packages\\pycaret\\internal\\preprocess\\transformers.py:137\u001b[0m, in \u001b[0;36mTransformerWrapper._reorder_cols\u001b[1;34m(self, df, original_df)\u001b[0m\n\u001b[0;32m    135\u001b[0m     original_df\u001b[38;5;241m.\u001b[39mindex \u001b[38;5;241m=\u001b[39m df\u001b[38;5;241m.\u001b[39mindex\n\u001b[0;32m    136\u001b[0m \u001b[38;5;28;01mexcept\u001b[39;00m \u001b[38;5;167;01mValueError\u001b[39;00m:  \u001b[38;5;66;03m# Length mismatch\u001b[39;00m\n\u001b[1;32m--> 137\u001b[0m     \u001b[38;5;28;01mraise\u001b[39;00m \u001b[38;5;167;01mIndexError\u001b[39;00m(\n\u001b[0;32m    138\u001b[0m         \u001b[38;5;124mf\u001b[39m\u001b[38;5;124m\"\u001b[39m\u001b[38;5;124mLength of values (\u001b[39m\u001b[38;5;132;01m{\u001b[39;00m\u001b[38;5;28mlen\u001b[39m(df)\u001b[38;5;132;01m}\u001b[39;00m\u001b[38;5;124m) does not match length of \u001b[39m\u001b[38;5;124m\"\u001b[39m\n\u001b[0;32m    139\u001b[0m         \u001b[38;5;124mf\u001b[39m\u001b[38;5;124m\"\u001b[39m\u001b[38;5;124mindex (\u001b[39m\u001b[38;5;132;01m{\u001b[39;00m\u001b[38;5;28mlen\u001b[39m(original_df)\u001b[38;5;132;01m}\u001b[39;00m\u001b[38;5;124m). This usually happens when \u001b[39m\u001b[38;5;124m\"\u001b[39m\n\u001b[0;32m    140\u001b[0m         \u001b[38;5;124m\"\u001b[39m\u001b[38;5;124mtransformations that drop rows aren\u001b[39m\u001b[38;5;124m'\u001b[39m\u001b[38;5;124mt applied on all \u001b[39m\u001b[38;5;124m\"\u001b[39m\n\u001b[0;32m    141\u001b[0m         \u001b[38;5;124m\"\u001b[39m\u001b[38;5;124mthe columns.\u001b[39m\u001b[38;5;124m\"\u001b[39m\n\u001b[0;32m    142\u001b[0m     )\n\u001b[0;32m    144\u001b[0m \u001b[38;5;66;03m# Define new column order\u001b[39;00m\n\u001b[0;32m    145\u001b[0m \u001b[38;5;66;03m# Use OrderedDict as ordered set (only keys matter)\u001b[39;00m\n\u001b[0;32m    146\u001b[0m \u001b[38;5;66;03m# We want a set to avoid duplicate column names, which can happen\u001b[39;00m\n\u001b[0;32m    147\u001b[0m \u001b[38;5;66;03m# if we have eg. COL_A and COL_A_2 encoded using OHE\u001b[39;00m\n\u001b[0;32m    148\u001b[0m columns \u001b[38;5;241m=\u001b[39m OrderedDict()\n",
      "\u001b[1;31mIndexError\u001b[0m: Length of values (577) does not match length of index (595). This usually happens when transformations that drop rows aren't applied on all the columns."
     ]
    }
   ],
   "source": [
    "model_final = finalize_model(tuned_clf)"
   ]
  },
  {
   "cell_type": "code",
   "execution_count": null,
   "id": "f61f96c6-288f-4b46-b771-297df0ca914f",
   "metadata": {},
   "outputs": [],
   "source": [
    "save_model(model_final, 'jump_model')"
   ]
  },
  {
   "cell_type": "markdown",
   "id": "4819b6d0-1525-4eb8-8159-eb2d35e61816",
   "metadata": {},
   "source": [
    "## Use in production"
   ]
  },
  {
   "cell_type": "code",
   "execution_count": null,
   "id": "fe6db27d-65b1-43d9-bac9-1384e508091f",
   "metadata": {},
   "outputs": [],
   "source": [
    "pipeline = load_model(model_name=\"jump_model\")"
   ]
  },
  {
   "cell_type": "code",
   "execution_count": null,
   "id": "a3b0d104-c8fb-489d-b97b-2daae6bd2688",
   "metadata": {},
   "outputs": [],
   "source": [
    "prediction = predict_model(pipeline, data_prod, raw_score=True)"
   ]
  },
  {
   "cell_type": "code",
   "execution_count": null,
   "id": "f9f652e8-d291-40fa-8407-4e1328fee06d",
   "metadata": {},
   "outputs": [],
   "source": []
  },
  {
   "cell_type": "code",
   "execution_count": null,
   "id": "0aa57912-f99e-4e40-8342-d15769fc51fe",
   "metadata": {},
   "outputs": [],
   "source": []
  },
  {
   "cell_type": "code",
   "execution_count": null,
   "id": "fc073b0a-1180-4fb4-9f04-968abe3d2a99",
   "metadata": {},
   "outputs": [],
   "source": []
  },
  {
   "cell_type": "code",
   "execution_count": null,
   "id": "8ca6f37b-a14b-441e-bf95-6e7fc094e6c8",
   "metadata": {},
   "outputs": [],
   "source": []
  },
  {
   "cell_type": "code",
   "execution_count": null,
   "id": "abe43000-3ad1-4162-95c3-0faa88bfa146",
   "metadata": {},
   "outputs": [],
   "source": []
  },
  {
   "cell_type": "code",
   "execution_count": null,
   "id": "82e884af",
   "metadata": {},
   "outputs": [],
   "source": [
    "data_custom['target']"
   ]
  },
  {
   "cell_type": "code",
   "execution_count": null,
   "id": "c1e98ff0",
   "metadata": {},
   "outputs": [],
   "source": [
    "data_custom['target'].count()"
   ]
  },
  {
   "cell_type": "markdown",
   "id": "b380d7e8",
   "metadata": {},
   "source": [
    "Mapping to transform it into a binqary problem ready to do the ML models:"
   ]
  },
  {
   "cell_type": "code",
   "execution_count": null,
   "id": "6a47b28e",
   "metadata": {},
   "outputs": [],
   "source": [
    "mapping = {'SQUAT_JUMP': 1, 'NO_EXERCISE': 0}\n",
    "\n",
    "# Mapping the values in the 'target' column:\n",
    "data_custom['target'] = data_custom['target'].map(mapping)"
   ]
  },
  {
   "cell_type": "code",
   "execution_count": null,
   "id": "eb5261a9",
   "metadata": {},
   "outputs": [],
   "source": [
    "data_custom.head()"
   ]
  },
  {
   "cell_type": "code",
   "execution_count": null,
   "id": "24fd3a1d",
   "metadata": {},
   "outputs": [],
   "source": [
    "data_custom['target']"
   ]
  },
  {
   "cell_type": "code",
   "execution_count": null,
   "id": "a9d46717",
   "metadata": {},
   "outputs": [],
   "source": [
    "data_custom['target'].count()"
   ]
  },
  {
   "cell_type": "code",
   "execution_count": null,
   "id": "cd039a8b",
   "metadata": {},
   "outputs": [],
   "source": [
    "data_custom.info()"
   ]
  },
  {
   "cell_type": "markdown",
   "id": "defc710a-6ac1-4c61-b612-0134506f8855",
   "metadata": {
    "jp-MarkdownHeadingCollapsed": true,
    "tags": []
   },
   "source": [
    "# EDA"
   ]
  },
  {
   "cell_type": "code",
   "execution_count": null,
   "id": "40b273a2736a7321",
   "metadata": {
    "collapsed": false,
    "jupyter": {
     "outputs_hidden": false
    }
   },
   "outputs": [],
   "source": [
    "fig = px.box(data_custom, y=\"linAccZ_mean\", color=\"target\",title = 'Distribution of linAccZ_mean vs target variable')\n",
    "fig.update_traces(quartilemethod=\"exclusive\") \n",
    "fig.show()"
   ]
  },
  {
   "cell_type": "code",
   "execution_count": null,
   "id": "2deb6671b27b5dbd",
   "metadata": {
    "collapsed": false,
    "jupyter": {
     "outputs_hidden": false
    }
   },
   "outputs": [],
   "source": [
    "fig = px.box(data_custom, y=\"linAccY_mean\", color=\"target\",title = 'Distribution of linAccY_mean vs target variable')\n",
    "fig.update_traces(quartilemethod=\"exclusive\") \n",
    "fig.show()"
   ]
  },
  {
   "cell_type": "code",
   "execution_count": null,
   "id": "6436e7eb48e43157",
   "metadata": {
    "collapsed": false,
    "jupyter": {
     "outputs_hidden": false
    }
   },
   "outputs": [],
   "source": [
    "fig = px.box(data_custom, y=\"linAccX_mean\", color=\"target\",title = 'Distribution of linAccX_mean vs target variable')\n",
    "fig.update_traces(quartilemethod=\"exclusive\") \n",
    "fig.show()"
   ]
  },
  {
   "cell_type": "code",
   "execution_count": null,
   "id": "b61dbb1b",
   "metadata": {},
   "outputs": [],
   "source": [
    "fig = px.box(data_custom, y=\"linAccZ_std\", color=\"target\",title = 'Distribution of linAccZ_std vs target variable')\n",
    "fig.update_traces(quartilemethod=\"exclusive\") \n",
    "fig.show()"
   ]
  },
  {
   "cell_type": "code",
   "execution_count": null,
   "id": "d911a6b3",
   "metadata": {},
   "outputs": [],
   "source": [
    "fig = px.box(data_custom, y=\"linAccY_std\", color=\"target\",title = 'Distribution of linAccY_std vs target variable')\n",
    "fig.update_traces(quartilemethod=\"exclusive\") \n",
    "fig.show()"
   ]
  },
  {
   "cell_type": "code",
   "execution_count": null,
   "id": "606aad252d7a3211",
   "metadata": {
    "collapsed": false,
    "jupyter": {
     "outputs_hidden": false
    }
   },
   "outputs": [],
   "source": [
    "fig = px.box(data_custom, y=\"linAccX_std\", color=\"target\",title = 'Distribution of linAccX_std vs target variable')\n",
    "fig.update_traces(quartilemethod=\"exclusive\") \n",
    "fig.show()"
   ]
  },
  {
   "cell_type": "code",
   "execution_count": null,
   "id": "f22fb8ae",
   "metadata": {},
   "outputs": [],
   "source": [
    "fig = px.box(data_custom, y=\"linAccZ_skewness\", color=\"target\",title = 'Distribution of linAccZ_skewness vs target variable')\n",
    "fig.update_traces(quartilemethod=\"exclusive\") \n",
    "fig.show()"
   ]
  },
  {
   "cell_type": "code",
   "execution_count": null,
   "id": "00621698",
   "metadata": {},
   "outputs": [],
   "source": [
    "fig = px.box(data_custom, y=\"linAccY_skewness\", color=\"target\",title = 'Distribution of linAccY_skewness vs target variable')\n",
    "fig.update_traces(quartilemethod=\"exclusive\") \n",
    "fig.show()"
   ]
  },
  {
   "cell_type": "code",
   "execution_count": null,
   "id": "332403e4",
   "metadata": {},
   "outputs": [],
   "source": [
    "fig = px.box(data_custom, y=\"linAccX_skewness\", color=\"target\",title = 'Distribution of linAccX_skewness vs target variable')\n",
    "fig.update_traces(quartilemethod=\"exclusive\") \n",
    "fig.show()"
   ]
  },
  {
   "cell_type": "markdown",
   "id": "32d201f6-c79d-4aab-a5e0-84b73af6d0d0",
   "metadata": {
    "tags": []
   },
   "source": [
    "# Data prep for model"
   ]
  },
  {
   "cell_type": "code",
   "execution_count": null,
   "id": "dcf9653b-fe1e-4eb1-9f0d-b7d567d212c8",
   "metadata": {},
   "outputs": [],
   "source": [
    "len(data_custom)"
   ]
  },
  {
   "cell_type": "code",
   "execution_count": null,
   "id": "ea81d21c-c9e0-4ab4-8591-5323dce0bddf",
   "metadata": {},
   "outputs": [],
   "source": [
    "#target imbalanced classes\n",
    "data_custom.groupby('target').size()"
   ]
  },
  {
   "cell_type": "code",
   "execution_count": null,
   "id": "ce560ff6-8882-4c2d-94ea-60151f61c6a0",
   "metadata": {},
   "outputs": [],
   "source": [
    "sns.countplot(x=data_custom['target'], label = \"pushup\")"
   ]
  },
  {
   "cell_type": "code",
   "execution_count": null,
   "id": "8e94793e-9865-4201-8123-eef928d76a55",
   "metadata": {},
   "outputs": [],
   "source": [
    "#sns.pairplot(data_custom, hue= 'target',vars=[\"linAccX_mean\", \"linAccY_mean\", \"linAccZ_mean\"])"
   ]
  },
  {
   "cell_type": "markdown",
   "id": "6747a4e4",
   "metadata": {},
   "source": [
    "## TREATING THE IMBALANCE "
   ]
  },
  {
   "cell_type": "code",
   "execution_count": null,
   "id": "b0e4383d",
   "metadata": {},
   "outputs": [],
   "source": [
    "import pandas as pd\n",
    "from sklearn.model_selection import train_test_split\n",
    "from sklearn.utils import resample\n",
    "\n",
    "\n",
    "# Separate the minority and majority classes\n",
    "minority_class = data_custom[data_custom['target'] == 1]  \n",
    "majority_class = data_custom[data_custom['target'] == 0]  \n",
    "\n",
    "# Downsample the majority class \n",
    "majority_downsampled = resample(majority_class, replace=False, n_samples=len(minority_class), random_state=42)\n",
    "\n",
    "# Concatenate BOTH\n",
    "balanced_data = pd.concat([minority_class, majority_downsampled])\n",
    "\n",
    "# SPLIT the data into features (X) and target variable (y)\n",
    "X = balanced_data.drop('target', axis=1)  # Assuming 'target' is the column to be predicted\n",
    "y = balanced_data['target']\n",
    "\n",
    "# Split the data into training and testing sets with stratification\n",
    "X_train, X_test, y_train, y_test = train_test_split(X, y, test_size=0.25, random_state=42, stratify=y)\n",
    "\n",
    "# Display shapes of the split datasets\n",
    "print(\"Shapes - X_train:\", X_train.shape, \"X_test:\", X_test.shape, \"y_train:\", y_train.shape, \"y_test:\", y_test.shape)"
   ]
  },
  {
   "cell_type": "markdown",
   "id": "dfd38356",
   "metadata": {},
   "source": [
    "## KBEST + SCALER"
   ]
  },
  {
   "cell_type": "code",
   "execution_count": null,
   "id": "2a0a6263",
   "metadata": {},
   "outputs": [],
   "source": [
    "selected = SelectKBest(score_func=f_classif, k=9)\n",
    "X_train_selected=selected.fit_transform(X_train, y_train)\n",
    "X_test_selected = selected.transform(X_test) \n",
    "selected.get_feature_names_out()"
   ]
  },
  {
   "cell_type": "code",
   "execution_count": null,
   "id": "53daca05",
   "metadata": {},
   "outputs": [],
   "source": [
    "# Scale Data\n",
    "import joblib\n",
    "scaler = StandardScaler()\n",
    "X_train_full = scaler.fit_transform(X_train_selected) #ONLY USING SELECTED VARIABLES\n",
    "joblib.dump(scaler,'scaler_jump.pkl')\n",
    "X_test_full = scaler.transform(X_test_selected)"
   ]
  },
  {
   "cell_type": "markdown",
   "id": "29e3963d",
   "metadata": {},
   "source": [
    "##SAVING MODELS"
   ]
  },
  {
   "cell_type": "code",
   "execution_count": null,
   "id": "1a55526e",
   "metadata": {},
   "outputs": [],
   "source": [
    "results_hard = {}\n",
    "results_soft = {}"
   ]
  },
  {
   "cell_type": "markdown",
   "id": "2b070e0f",
   "metadata": {},
   "source": [
    "## SVM"
   ]
  },
  {
   "cell_type": "code",
   "execution_count": null,
   "id": "3acf403b",
   "metadata": {},
   "outputs": [],
   "source": [
    "import sklearn\n",
    "sklearn.metrics.get_scorer_names()"
   ]
  },
  {
   "cell_type": "code",
   "execution_count": null,
   "id": "7b9bce1b",
   "metadata": {},
   "outputs": [],
   "source": [
    "from sklearn.svm import SVC\n",
    "import numpy as np\n",
    "from sklearn.model_selection import RandomizedSearchCV\n",
    "svm = SVC(probability=True)\n",
    "\n",
    "param_grid = {'C': [0.1, 1, 10, 100, 1000], \n",
    "              'gamma': [1, 0.1, 0.01, 0.001, 0.0001], \n",
    "              'kernel': ['linear']}\n",
    "\n",
    "\n",
    "# Realizar la búsqueda aleatoria de hiperparámetros\n",
    "random_search_svm = RandomizedSearchCV(\n",
    "    estimator=svm,\n",
    "    param_distributions=param_grid,\n",
    "    n_iter=5,  \n",
    "    scoring=\"roc_auc\",  \n",
    "    n_jobs=7,\n",
    "    return_train_score=True\n",
    ")\n",
    "random_search_svm.fit(X_train_full, y_train)"
   ]
  },
  {
   "cell_type": "code",
   "execution_count": null,
   "id": "a8a04cf3",
   "metadata": {},
   "outputs": [],
   "source": [
    "#Evaluate: TRAIN\n",
    "proba_train = random_search_svm.predict_proba(X_train_full)\n",
    "pred_train = random_search_svm.predict(X_train_full)\n",
    "print(classification_report(y_train,pred_train))"
   ]
  },
  {
   "cell_type": "code",
   "execution_count": null,
   "id": "95e70f49",
   "metadata": {},
   "outputs": [],
   "source": [
    "#Evaluate: TEST\n",
    "proba_test = random_search_svm.predict_proba(X_test_full)\n",
    "pred_test = random_search_svm.predict(X_test_full)\n",
    "print(classification_report(y_test,pred_test))"
   ]
  },
  {
   "cell_type": "code",
   "execution_count": null,
   "id": "e7c5c7f1-49c4-401f-8fcd-bf323f28e54a",
   "metadata": {},
   "outputs": [],
   "source": [
    "joblib.dump(random_search_svm, 'jump_model.pkl')"
   ]
  },
  {
   "cell_type": "markdown",
   "id": "161f5511",
   "metadata": {},
   "source": [
    "## ANOTHER APPROACH"
   ]
  },
  {
   "cell_type": "code",
   "execution_count": null,
   "id": "2baceb9a",
   "metadata": {},
   "outputs": [],
   "source": [
    "from sklearn.svm import SVC\n",
    "import numpy as np\n",
    "from sklearn.model_selection import GridSearchCV\n",
    "\n",
    "param_grid = {'C': [0.1, 1, 10, 100, 1000], \n",
    "              'gamma': [1, 0.1, 0.01, 0.001, 0.0001], \n",
    "              'kernel': ['linear', 'rbf', 'poly', 'sigmoid']}\n",
    "\n",
    "# Perform GridSearchCV\n",
    "grid_search = GridSearchCV(svm, param_grid, scoring='f1', cv=6)  \n",
    "grid_search.fit(X_train_full, y_train)  \n",
    "\n",
    "# Get the best parameters and best F1 score\n",
    "best_params = grid_search.best_params_\n",
    "best_f1 = grid_search.best_score_\n",
    "\n",
    "# Use the best model for prediction on test data\n",
    "best_model = grid_search.best_estimator_\n",
    "y_pred = best_model.predict(X_test_full)\n",
    "\n",
    "# Calculate F1 score on the test set\n",
    "f1_test = f1_score(y_test, y_pred)\n",
    "\n",
    "print(\"Best Parameters:\", best_params)\n",
    "print(\"Best F1 Score (Cross-validation):\", best_f1)\n",
    "print(\"F1 Score on Test Set:\", f1_test)\n"
   ]
  },
  {
   "cell_type": "code",
   "execution_count": null,
   "id": "778d712d",
   "metadata": {},
   "outputs": [],
   "source": [
    "from sklearn.svm import SVC\n",
    "import numpy as np\n",
    "from sklearn.model_selection import GridSearchCV\n",
    "\n",
    "param_grid = {'C': [0.1, 1, 10], \n",
    "              'gamma': [1, 0.1, 0.01], \n",
    "              'kernel': ['linear']}\n",
    "\n",
    "grid= GridSearchCV(SVC(), param_grid, refit=True, verbose= 10)\n",
    "\n",
    "grid.fit(X_train_full, y_train)"
   ]
  },
  {
   "cell_type": "code",
   "execution_count": null,
   "id": "adda2d01",
   "metadata": {},
   "outputs": [],
   "source": [
    "grid_predictions= grid.predict(X_test_full)\n",
    "print(classification_report(y_test, grid_predictions))"
   ]
  },
  {
   "cell_type": "markdown",
   "id": "ba81b7e6",
   "metadata": {},
   "source": [
    "## LOGISTIC REGRESSION"
   ]
  },
  {
   "cell_type": "code",
   "execution_count": null,
   "id": "6bd8b102",
   "metadata": {},
   "outputs": [],
   "source": [
    "from sklearn.linear_model import LogisticRegression\n",
    "from sklearn.metrics import classification_report\n",
    "\n",
    "\n",
    "# Instantiate the Logistic Regression model\n",
    "logistic_model = LogisticRegression(random_state=42)\n",
    "\n",
    "# Fit the model on the resampled training data\n",
    "logistic_model.fit(X_train_full, y_train)\n",
    "\n",
    "# Predict on the test set\n",
    "y_pred = logistic_model.predict(X_test_full)\n",
    "\n",
    "# Evaluate the model\n",
    "print(classification_report(y_test, y_pred))"
   ]
  },
  {
   "cell_type": "markdown",
   "id": "993c2b96",
   "metadata": {},
   "source": [
    "## XGBOOST"
   ]
  },
  {
   "cell_type": "code",
   "execution_count": null,
   "id": "71a4046d",
   "metadata": {},
   "outputs": [],
   "source": [
    "import xgboost as xgb\n",
    "xgb = xgb.XGBClassifier()"
   ]
  },
  {
   "cell_type": "code",
   "execution_count": null,
   "id": "746a1209",
   "metadata": {},
   "outputs": [],
   "source": [
    "param_dist = {\n",
    "    'n_estimators': range(1500, 1800, 2000), \n",
    "    'max_depth': range(10, 15, 20),\n",
    "    'booster': ['gbtree', 'gblinear'],\n",
    "    'min_child_weight': range(1, 2, 3),  \n",
    "    'learning_rate': [0.1, 0.15, 0.20],\n",
    "    'gamma': [0, 0.1, 0.2, 0.3]\n",
    "}\n",
    "\n",
    "#hyperparameters\n",
    "random_search_XGB = RandomizedSearchCV(\n",
    "    estimator=xgb,\n",
    "    param_distributions=param_dist,\n",
    "    n_iter=2, #4\n",
    "    scoring=\"roc_auc\",  \n",
    "    n_jobs=5, #7\n",
    "    return_train_score=True\n",
    ")"
   ]
  },
  {
   "cell_type": "code",
   "execution_count": null,
   "id": "d1ceace4",
   "metadata": {},
   "outputs": [],
   "source": [
    "# w/o scaling \n",
    "random_search_XGB.fit(X_train_selected, y_train)"
   ]
  },
  {
   "cell_type": "code",
   "execution_count": null,
   "id": "bf2eac15",
   "metadata": {},
   "outputs": [],
   "source": [
    "print(random_search_XGB.best_params_)"
   ]
  },
  {
   "cell_type": "code",
   "execution_count": null,
   "id": "e22d18e7",
   "metadata": {},
   "outputs": [],
   "source": [
    "# train\n",
    "proba_train_XGB = random_search_XGB.predict_proba(X_train_selected)\n",
    "pred_train_XGB = random_search_XGB.predict(X_train_selected)\n",
    "print(classification_report(y_train,pred_train_XGB))"
   ]
  },
  {
   "cell_type": "code",
   "execution_count": null,
   "id": "0ae224ee",
   "metadata": {},
   "outputs": [],
   "source": [
    "# test\n",
    "proba_test_XGB = random_search_XGB.predict_proba(X_test_selected)\n",
    "pred_test_XGB = random_search_XGB.predict(X_test_selected)\n",
    "print(classification_report(y_test,pred_test_XGB))"
   ]
  },
  {
   "cell_type": "markdown",
   "id": "cd914d54",
   "metadata": {},
   "source": [
    "## NAIVE BAYES"
   ]
  },
  {
   "cell_type": "code",
   "execution_count": null,
   "id": "849d1fe9",
   "metadata": {},
   "outputs": [],
   "source": [
    "from sklearn.naive_bayes import GaussianNB\n",
    "gaus = GaussianNB()\n",
    "param_dist_NB = {\n",
    "    'priors': [[0.2, 0.8], [0.5, 0.5], [0.8, 0.2],[0.3, 0.7],[0.7, 0.3]]\n",
    "}\n",
    "\n",
    "\n",
    "random_search_NB = RandomizedSearchCV(\n",
    "    estimator=gaus,\n",
    "    param_distributions=param_dist_NB,\n",
    "    n_iter=5,  \n",
    "    scoring=\"roc_auc\",  \n",
    "    n_jobs=7,\n",
    "    return_train_score=True\n",
    ")"
   ]
  },
  {
   "cell_type": "code",
   "execution_count": null,
   "id": "8c64b4c8",
   "metadata": {},
   "outputs": [],
   "source": [
    "# Entrenar el modelo con la búsqueda aleatoria de hiperparámetros\n",
    "random_search_NB.fit(X_train_full, y_train)"
   ]
  },
  {
   "cell_type": "code",
   "execution_count": null,
   "id": "c5bd5155",
   "metadata": {},
   "outputs": [],
   "source": [
    "print(random_search_NB.best_params_)"
   ]
  },
  {
   "cell_type": "code",
   "execution_count": null,
   "id": "1d8b51c9",
   "metadata": {},
   "outputs": [],
   "source": [
    "#First evaluate on train\n",
    "proba_train_NB = random_search_NB.predict_proba(X_train_full)\n",
    "pred_train_NB = random_search_NB.predict(X_train_full)\n",
    "print(classification_report(y_train,pred_train_NB))"
   ]
  },
  {
   "cell_type": "code",
   "execution_count": null,
   "id": "00b22ece",
   "metadata": {},
   "outputs": [],
   "source": [
    "#now I will check with the test\n",
    "proba_test_NB = random_search_NB.predict_proba(X_test_full)\n",
    "pred_test_NB = random_search_NB.predict(X_test_full)\n",
    "print(classification_report(y_test,pred_test_NB))"
   ]
  },
  {
   "cell_type": "markdown",
   "id": "53a32e28-6635-40ff-aad7-0ec25a0c8981",
   "metadata": {
    "tags": []
   },
   "source": [
    "## Model evaluation"
   ]
  },
  {
   "cell_type": "code",
   "execution_count": null,
   "id": "de1d18a2-f565-4f08-8c94-308807b9d260",
   "metadata": {},
   "outputs": [],
   "source": [
    "pred_SV = random_search_svm.predict(X_test_full)\n",
    "proba_SV = random_search_svm.predict_proba(X_test_full)\n",
    "results_hard[\"Support_Vector\"] = pred_SV\n",
    "results_soft[\"Support_Vector\"] = proba_SV[:,1]\n",
    "\n",
    "proba_logistic = logistic_model.predict_proba(X_test_full)\n",
    "pred_logistic = logistic_model.predict(X_test_full)\n",
    "results_hard[\"Logistic_Regr\"] = pred_logistic\n",
    "results_soft[\"Logistic_Regr\"] = proba_logistic[:,1]\n",
    "\n",
    "proba_XGB = random_search_XGB.predict_proba(X_test_selected)\n",
    "pred_XGB = random_search_XGB.predict(X_test_selected)\n",
    "results_hard[\"XGBOOST\"] = pred_XGB\n",
    "results_soft[\"XGBOOST\"] = proba_XGB[:,1]\n",
    "\n",
    "proba_NB = random_search_NB.predict_proba(X_test_full)\n",
    "pred_NB = random_search_NB.predict(X_test_full)\n",
    "results_hard[\"Naive_Bayes\"] = pred_NB\n",
    "results_soft[\"Naive_Bayes\"] = proba_NB[:,1]\n",
    "\n",
    "results_hard = pd.DataFrame(results_hard)\n",
    "results_soft = pd.DataFrame(results_soft)"
   ]
  },
  {
   "cell_type": "code",
   "execution_count": null,
   "id": "6a079c4b-0682-4852-bbe3-5346a14446a1",
   "metadata": {},
   "outputs": [],
   "source": [
    "metrics = {}\n",
    "\n",
    "metrics[\"Accuracy\"] = {\n",
    "    \"Naive_Bayes\": accuracy_score(y_test, results_hard.Naive_Bayes),\n",
    "    \"Support_Vector\": accuracy_score(y_test, results_hard.Support_Vector),\n",
    "    \"XGBOOST\": accuracy_score(y_test, results_hard.XGBOOST),\n",
    "    \"Logistic_Regr\": accuracy_score(y_test, results_hard.Logistic_Regr)\n",
    "}\n",
    "metrics[\"Precision\"] = {\n",
    "    \"Naive_Bayes\": precision_score(y_test, results_hard.Naive_Bayes),\n",
    "    \"Support_Vector\": precision_score(y_test, results_hard.Support_Vector),\n",
    "    \"XGBOOST\": precision_score(y_test, results_hard.XGBOOST),\n",
    "    \"Logistic_Regr\": precision_score(y_test, results_hard.Logistic_Regr)\n",
    "}\n",
    "metrics[\"Recall\"] = {\n",
    "    \"Naive_Bayes\": recall_score(y_test, results_hard.Naive_Bayes),\n",
    "    \"Support_Vector\": recall_score(y_test, results_hard.Support_Vector),\n",
    "    \"XGBOOST\": recall_score(y_test, results_hard.XGBOOST),\n",
    "    \"Logistic_Regr\": recall_score(y_test, results_hard.Logistic_Regr)\n",
    "}\n",
    "metrics[\"F1\"] = {\n",
    "    \"Naive_Bayes\": f1_score(y_test, results_hard.Naive_Bayes),\n",
    "    \"Support_Vector\": f1_score(y_test, results_hard.Support_Vector),\n",
    "    \"XGBOOST\": f1_score(y_test, results_hard.XGBOOST),\n",
    "    \"Logistic_Regr\": f1_score(y_test, results_hard.Logistic_Regr)\n",
    "}\n",
    "\n",
    "metrics = pd.DataFrame(metrics)\n",
    "metrics"
   ]
  },
  {
   "cell_type": "markdown",
   "id": "221b271a-eee2-4fd5-a6ee-e36a7e63e698",
   "metadata": {},
   "source": [
    "## ROC Curves"
   ]
  },
  {
   "cell_type": "code",
   "execution_count": null,
   "id": "4f53787a-9f6b-4c7e-a19d-803cf2f03ad0",
   "metadata": {},
   "outputs": [],
   "source": [
    "# Datos de FPR y TPR para los tres modelos \n",
    "fpr_Naive_Bayes,tpr_Naive_Bayes,_ = roc_curve(y_test, results_soft.Naive_Bayes)\n",
    "fpr_Support_Vector,tpr_Support_Vector,_ = roc_curve(y_test, results_soft.Support_Vector)\n",
    "fpr_XGBOOST,tpr_XGBOOST,_ = roc_curve(y_test, results_soft.XGBOOST)\n",
    "fpr_Logistic_Reg,tpr_Logistic_Regr,_ = roc_curve(y_test, results_soft.Logistic_Regr)\n",
    "\n",
    "# Calcular el área bajo la curva ROC (AUC) para cada modelo\n",
    "auc_Naive_Bayes = auc(fpr_Naive_Bayes,tpr_Naive_Bayes)\n",
    "auc_Support_Vector = auc(fpr_Support_Vector,tpr_Support_Vector)\n",
    "auc_XGBOOST = auc(fpr_XGBOOST,tpr_XGBOOST)\n",
    "auc_Logistic_Regr = auc(fpr_Logistic_Reg,tpr_Logistic_Regr)"
   ]
  },
  {
   "cell_type": "code",
   "execution_count": null,
   "id": "3406fe27-c3fb-4b68-b666-5f2e18833d2d",
   "metadata": {},
   "outputs": [],
   "source": [
    "# Crear la gráfica ROC\n",
    "plt.figure(figsize=(8, 6))\n",
    "\n",
    "# Graficar las curvas ROC para los tres modelos\n",
    "plt.plot(fpr_Naive_Bayes,tpr_Naive_Bayes, label=f'Naive bayes (AUC = {auc_Naive_Bayes:.2f})')\n",
    "plt.plot(fpr_XGBOOST,tpr_XGBOOST, label=f'Xgboost (AUC = {auc_XGBOOST:.2f})')\n",
    "plt.plot(fpr_Support_Vector,tpr_Support_Vector, label=f'Support Vector (AUC = {auc_Support_Vector:.2f})')\n",
    "plt.plot(fpr_Logistic_Reg,tpr_Logistic_Regr, label=f'Support Vector (AUC = {auc_Logistic_Regr:.2f})')\n",
    "\n",
    "\n",
    "# Configurar la gráfica\n",
    "plt.plot([0, 1], [0, 1], 'k--', lw=2)  # Línea diagonal para referencia\n",
    "plt.xlim([0.0, 1.0])\n",
    "plt.ylim([0.0, 1.05])\n",
    "plt.xlabel('Tasa de Falsos Positivos (FPR)')\n",
    "plt.ylabel('Tasa de Verdaderos Positivos (TPR)')\n",
    "plt.title('Curva ROC de Modelos')\n",
    "plt.legend(loc=\"lower right\")\n",
    "\n",
    "# Mostrar la gráfica\n",
    "plt.show()"
   ]
  },
  {
   "cell_type": "code",
   "execution_count": null,
   "id": "d4afd54c-fae8-4d55-b628-ba68d8c99b5b",
   "metadata": {},
   "outputs": [],
   "source": []
  }
 ],
 "metadata": {
  "kernelspec": {
   "display_name": "Python 3 (ipykernel)",
   "language": "python",
   "name": "python3"
  },
  "language_info": {
   "codemirror_mode": {
    "name": "ipython",
    "version": 3
   },
   "file_extension": ".py",
   "mimetype": "text/x-python",
   "name": "python",
   "nbconvert_exporter": "python",
   "pygments_lexer": "ipython3",
   "version": "3.10.13"
  }
 },
 "nbformat": 4,
 "nbformat_minor": 5
}
