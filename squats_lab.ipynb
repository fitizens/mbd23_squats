{
 "cells": [
  {
   "cell_type": "markdown",
   "source": [
    "# Read the file"
   ],
   "metadata": {
    "collapsed": false
   },
   "id": "646b14da8fda34d9"
  },
  {
   "cell_type": "code",
   "execution_count": 3,
   "outputs": [
    {
     "data": {
      "text/plain": "Index(['time', 'accX', 'accY', 'accZ', 'gyroX', 'gyroY', 'gyroZ', 'magnX',\n       'magnY', 'magnZ', 'linAccX', 'linAccY', 'linAccZ', 'exercise'],\n      dtype='object')"
     },
     "execution_count": 3,
     "metadata": {},
     "output_type": "execute_result"
    }
   ],
   "source": [
    "import pandas as pd\n",
    "import os\n",
    "\n",
    "# Ruta principal que contiene las carpetas comprimidas\n",
    "ruta_principal = 'labeled'\n",
    "\n",
    "# Lista para almacenar los datos de los archivos JSON\n",
    "datos_json = []\n",
    "\n",
    "# Recorre cada carpeta comprimida en la carpeta principal\n",
    "for archivo_zip in os.listdir(ruta_principal):\n",
    "    if archivo_zip.endswith('.zip'):\n",
    "        ruta_zip = os.path.join(ruta_principal, archivo_zip)\n",
    "        \n",
    "        # Extraer la carpeta comprimida a una ubicación temporal\n",
    "        carpeta_temporal = 'temporal'\n",
    "        with zipfile.ZipFile(ruta_zip, 'r') as zip_ref:\n",
    "            zip_ref.extractall(carpeta_temporal)\n",
    "        \n",
    "        # Buscar archivos JSON dentro de la carpeta extraída\n",
    "        for archivo_json in os.listdir(carpeta_temporal):\n",
    "            if archivo_json.endswith('.json'):\n",
    "                ruta_json = os.path.join(carpeta_temporal, archivo_json)\n",
    "                \n",
    "                # Leer el archivo JSON y agregar los datos a la lista\n",
    "                with open(ruta_json, 'r') as f:\n",
    "                    json_data = json.load(f)\n",
    "                    datos_json.extend(json_data['data'])\n",
    "        \n",
    "        # Limpiar la carpeta temporal después de procesar la carpeta comprimida\n",
    "        for archivo_temporal in os.listdir(carpeta_temporal):\n",
    "            ruta_temporal = os.path.join(carpeta_temporal, archivo_temporal)\n",
    "            os.remove(ruta_temporal)\n",
    "\n",
    "# Convertir la lista de datos JSON a un DataFrame\n",
    "df = pd.DataFrame(datos_json)\n",
    "\n",
    "df.columns"
   ],
   "metadata": {
    "collapsed": false,
    "ExecuteTime": {
     "end_time": "2023-11-28T13:58:47.141164900Z",
     "start_time": "2023-11-28T13:58:47.020281Z"
    }
   },
   "id": "bfb4b17070f4aacf"
  }
 ],
 "metadata": {
  "kernelspec": {
   "display_name": "Python 3",
   "language": "python",
   "name": "python3"
  },
  "language_info": {
   "codemirror_mode": {
    "name": "ipython",
    "version": 2
   },
   "file_extension": ".py",
   "mimetype": "text/x-python",
   "name": "python",
   "nbconvert_exporter": "python",
   "pygments_lexer": "ipython2",
   "version": "2.7.6"
  }
 },
 "nbformat": 4,
 "nbformat_minor": 5
}
