{
 "cells": [
  {
   "cell_type": "markdown",
   "id": "43707e493d955652",
   "metadata": {},
   "source": [
    "# Importing Libraries"
   ]
  },
  {
   "cell_type": "code",
   "execution_count": 1,
   "id": "cb01ee61ef9eac4c",
   "metadata": {
    "collapsed": false,
    "jupyter": {
     "outputs_hidden": false
    }
   },
   "outputs": [],
   "source": [
    "from fitizens_libraries.load_and_process_training_data import load_training_data\n",
    "import os\n",
    "import pandas as pd\n",
    "import seaborn as sns\n",
    "import matplotlib.pyplot as plt\n",
    "import numpy as np\n",
    "from pycaret.classification import *"
   ]
  },
  {
   "cell_type": "markdown",
   "id": "3845be383a405ab7",
   "metadata": {},
   "source": [
    "# Creating Auxiliary Functions\n"
   ]
  },
  {
   "cell_type": "code",
   "execution_count": 2,
   "id": "6361b9da96fa1cc4",
   "metadata": {
    "collapsed": false,
    "jupyter": {
     "outputs_hidden": false
    }
   },
   "outputs": [],
   "source": [
    "def create_custom_dataframe(series):\n",
    "    df =  series[['linAccX', 'linAccY', 'linAccZ', 'gyroX',\n",
    "                'gyroY', 'gyroZ', 'accX_mod', 'accY_mod', 'accZ_mod', 'gyroX_mod',\n",
    "                'gyroY_mod', 'gyroZ_mod', 'magnX_mod', 'magnY_mod', 'magnZ_mod',\n",
    "                'linAccX_mod', 'linAccY_mod', 'linAccZ_mod']]\n",
    "    return df"
   ]
  },
  {
   "cell_type": "code",
   "execution_count": 3,
   "id": "89b37d736f8965fd",
   "metadata": {
    "collapsed": false,
    "jupyter": {
     "outputs_hidden": false
    }
   },
   "outputs": [],
   "source": [
    "def create_training_data_stats(df, target):\n",
    "    stats_dict = {}\n",
    "    series = create_custom_dataframe(df)\n",
    "    \n",
    "    for column in series.columns:\n",
    "        mean = series[column].mean()\n",
    "        std = series[column].std()\n",
    "        median = series[column].median()\n",
    "        skewness = series[column].skew()\n",
    "        kurtosis = series[column].kurtosis()\n",
    "\n",
    "       # min_val = series[column].min()\n",
    "      #  max_val = series[column].max()\n",
    "      #  range_val = max_val - min_val\n",
    "      #  quartile_25 = np.percentile(series[column], 25)\n",
    "      #  quartile_75 = np.percentile(series[column], 75)\n",
    "      #  iqr = quartile_75 - quartile_25\n",
    "    \n",
    "\n",
    "        stats_dict[f\"{column}_mean\"] = mean\n",
    "        stats_dict[f\"{column}_std\"] = std\n",
    "        stats_dict[f\"{column}_median\"] = median\n",
    "        stats_dict[f\"{column}_skewness\"] = skewness\n",
    "        stats_dict[f\"{column}_kurtosis\"] = kurtosis\n",
    "\n",
    "       # stats_dict[f\"{column}_min\"] = min_val\n",
    "       # stats_dict[f\"{column}_max\"] = max_val\n",
    "       # stats_dict[f\"{column}_range\"] = range_val\n",
    "      #  stats_dict[f\"{column}_quartile_25\"] = quartile_25\n",
    "       # stats_dict[f\"{column}_quartile_75\"] = quartile_75\n",
    "       # stats_dict[f\"{column}_iqr\"] = iqr\n",
    "        \n",
    "        \n",
    "    stats_dict[\"target\"] = target\n",
    "    return stats_dict"
   ]
  },
  {
   "cell_type": "markdown",
   "id": "7f0e5102726367d2",
   "metadata": {},
   "source": [
    "# Loading Data"
   ]
  },
  {
   "cell_type": "code",
   "execution_count": 4,
   "id": "dc4325b1c23cff51",
   "metadata": {
    "collapsed": false,
    "jupyter": {
     "outputs_hidden": false
    }
   },
   "outputs": [],
   "source": [
    "folder_path = \"DUMBBELL\"\n",
    "os.makedirs(folder_path, exist_ok=True)\n",
    "file_names = [f\"{folder_path}/{name}\" for name in os.listdir(folder_path)]\n",
    "signals = ['accX', 'accY', 'accZ', 'gyroX', 'gyroY', 'gyroZ', 'magnX', 'magnY', 'magnZ', 'linAccX', 'linAccY', 'linAccZ']\n",
    "\n",
    "data, wk = load_training_data(filelist=file_names,\n",
    "                         signals= signals,\n",
    "                          target_exercise=\"DUMBBELL_SNATCH\", other_exercises=[], is_peak_minima=True)\n",
    "#data[0]"
   ]
  },
  {
   "cell_type": "code",
   "execution_count": 5,
   "id": "fa4ca2ad",
   "metadata": {},
   "outputs": [],
   "source": [
    "from custom_libraries.merge_data import merge_data"
   ]
  },
  {
   "cell_type": "code",
   "execution_count": 6,
   "id": "0609b8aa",
   "metadata": {},
   "outputs": [],
   "source": [
    "df = merge_data(data)"
   ]
  },
  {
   "cell_type": "code",
   "execution_count": null,
   "id": "dae77a7c",
   "metadata": {},
   "outputs": [],
   "source": [
    "df.columns"
   ]
  },
  {
   "cell_type": "code",
   "execution_count": null,
   "id": "2a42a5de",
   "metadata": {},
   "outputs": [],
   "source": [
    "columns_to_keep = [\n",
    "    'accX', 'accY', 'accZ', 'linAccX', 'linAccY', 'linAccZ',\n",
    "    'gyroX', 'gyroY', 'gyroZ', 'accX_mod', 'accY_mod', 'accZ_mod',\n",
    "    'gyroX_mod', 'gyroY_mod', 'gyroZ_mod', 'magnX_mod', 'magnY_mod',\n",
    "    'magnZ_mod', 'linAccX_mod', 'linAccY_mod', 'linAccZ_mod'\n",
    "]\n",
    "\n",
    "# Remove columns not in the list of columns_to_keep\n",
    "df = df[columns_to_keep]"
   ]
  },
  {
   "cell_type": "code",
   "execution_count": null,
   "id": "d1a31cfe",
   "metadata": {},
   "outputs": [],
   "source": [
    "df.columns"
   ]
  },
  {
   "cell_type": "code",
   "execution_count": null,
   "id": "82efb8e2",
   "metadata": {},
   "outputs": [],
   "source": [
    "df.info()"
   ]
  },
  {
   "cell_type": "markdown",
   "id": "741e5072727f77f7",
   "metadata": {},
   "source": [
    "# Creating new data"
   ]
  },
  {
   "cell_type": "code",
   "execution_count": 7,
   "id": "6f29df7563c81ac7",
   "metadata": {
    "collapsed": false,
    "jupyter": {
     "outputs_hidden": false
    }
   },
   "outputs": [
    {
     "data": {
      "text/html": [
       "<div>\n",
       "<style scoped>\n",
       "    .dataframe tbody tr th:only-of-type {\n",
       "        vertical-align: middle;\n",
       "    }\n",
       "\n",
       "    .dataframe tbody tr th {\n",
       "        vertical-align: top;\n",
       "    }\n",
       "\n",
       "    .dataframe thead th {\n",
       "        text-align: right;\n",
       "    }\n",
       "</style>\n",
       "<table border=\"1\" class=\"dataframe\">\n",
       "  <thead>\n",
       "    <tr style=\"text-align: right;\">\n",
       "      <th></th>\n",
       "      <th>linAccX_mean</th>\n",
       "      <th>linAccX_std</th>\n",
       "      <th>linAccX_median</th>\n",
       "      <th>linAccX_skewness</th>\n",
       "      <th>linAccX_kurtosis</th>\n",
       "      <th>linAccY_mean</th>\n",
       "      <th>linAccY_std</th>\n",
       "      <th>linAccY_median</th>\n",
       "      <th>linAccY_skewness</th>\n",
       "      <th>linAccY_kurtosis</th>\n",
       "      <th>...</th>\n",
       "      <th>linAccY_mod_std</th>\n",
       "      <th>linAccY_mod_median</th>\n",
       "      <th>linAccY_mod_skewness</th>\n",
       "      <th>linAccY_mod_kurtosis</th>\n",
       "      <th>linAccZ_mod_mean</th>\n",
       "      <th>linAccZ_mod_std</th>\n",
       "      <th>linAccZ_mod_median</th>\n",
       "      <th>linAccZ_mod_skewness</th>\n",
       "      <th>linAccZ_mod_kurtosis</th>\n",
       "      <th>target</th>\n",
       "    </tr>\n",
       "  </thead>\n",
       "  <tbody>\n",
       "    <tr>\n",
       "      <th>0</th>\n",
       "      <td>0.541847</td>\n",
       "      <td>0.394069</td>\n",
       "      <td>0.660997</td>\n",
       "      <td>-0.777658</td>\n",
       "      <td>-0.580579</td>\n",
       "      <td>0.675534</td>\n",
       "      <td>0.894215</td>\n",
       "      <td>1.091777</td>\n",
       "      <td>-0.433954</td>\n",
       "      <td>-1.176486</td>\n",
       "      <td>...</td>\n",
       "      <td>1.076209</td>\n",
       "      <td>1.191977</td>\n",
       "      <td>0.781878</td>\n",
       "      <td>-0.235597</td>\n",
       "      <td>17.578360</td>\n",
       "      <td>16.020110</td>\n",
       "      <td>11.847352</td>\n",
       "      <td>0.715174</td>\n",
       "      <td>-0.802404</td>\n",
       "      <td>DUMBBELL_SNATCH</td>\n",
       "    </tr>\n",
       "    <tr>\n",
       "      <th>1</th>\n",
       "      <td>-0.074538</td>\n",
       "      <td>0.527332</td>\n",
       "      <td>-0.050235</td>\n",
       "      <td>-0.149851</td>\n",
       "      <td>-1.460313</td>\n",
       "      <td>0.598507</td>\n",
       "      <td>0.266881</td>\n",
       "      <td>0.603392</td>\n",
       "      <td>-0.319812</td>\n",
       "      <td>-0.255269</td>\n",
       "      <td>...</td>\n",
       "      <td>0.310353</td>\n",
       "      <td>0.364082</td>\n",
       "      <td>0.762078</td>\n",
       "      <td>0.068343</td>\n",
       "      <td>24.937133</td>\n",
       "      <td>20.632204</td>\n",
       "      <td>20.924743</td>\n",
       "      <td>0.545944</td>\n",
       "      <td>-0.920501</td>\n",
       "      <td>DUMBBELL_SNATCH</td>\n",
       "    </tr>\n",
       "    <tr>\n",
       "      <th>2</th>\n",
       "      <td>0.088198</td>\n",
       "      <td>0.248036</td>\n",
       "      <td>0.165647</td>\n",
       "      <td>-1.345887</td>\n",
       "      <td>0.831077</td>\n",
       "      <td>1.149927</td>\n",
       "      <td>0.703037</td>\n",
       "      <td>1.289980</td>\n",
       "      <td>-0.218163</td>\n",
       "      <td>-1.234202</td>\n",
       "      <td>...</td>\n",
       "      <td>1.567920</td>\n",
       "      <td>1.664051</td>\n",
       "      <td>0.466006</td>\n",
       "      <td>-1.045808</td>\n",
       "      <td>28.171815</td>\n",
       "      <td>22.572960</td>\n",
       "      <td>25.392311</td>\n",
       "      <td>0.495648</td>\n",
       "      <td>-0.933726</td>\n",
       "      <td>DUMBBELL_SNATCH</td>\n",
       "    </tr>\n",
       "    <tr>\n",
       "      <th>3</th>\n",
       "      <td>-0.302354</td>\n",
       "      <td>0.330763</td>\n",
       "      <td>-0.240866</td>\n",
       "      <td>0.054734</td>\n",
       "      <td>-0.443915</td>\n",
       "      <td>0.529161</td>\n",
       "      <td>0.506785</td>\n",
       "      <td>0.667612</td>\n",
       "      <td>-1.315278</td>\n",
       "      <td>0.475623</td>\n",
       "      <td>...</td>\n",
       "      <td>0.298021</td>\n",
       "      <td>0.445706</td>\n",
       "      <td>0.461241</td>\n",
       "      <td>-0.474601</td>\n",
       "      <td>25.334828</td>\n",
       "      <td>22.431922</td>\n",
       "      <td>20.808947</td>\n",
       "      <td>0.743078</td>\n",
       "      <td>-0.650686</td>\n",
       "      <td>DUMBBELL_SNATCH</td>\n",
       "    </tr>\n",
       "    <tr>\n",
       "      <th>4</th>\n",
       "      <td>-0.179401</td>\n",
       "      <td>0.254849</td>\n",
       "      <td>-0.123012</td>\n",
       "      <td>-0.117260</td>\n",
       "      <td>-0.296821</td>\n",
       "      <td>0.870408</td>\n",
       "      <td>0.421691</td>\n",
       "      <td>0.949073</td>\n",
       "      <td>-0.594809</td>\n",
       "      <td>-0.409245</td>\n",
       "      <td>...</td>\n",
       "      <td>0.659636</td>\n",
       "      <td>0.900739</td>\n",
       "      <td>0.343322</td>\n",
       "      <td>-0.805311</td>\n",
       "      <td>15.983950</td>\n",
       "      <td>15.132598</td>\n",
       "      <td>11.735994</td>\n",
       "      <td>0.720037</td>\n",
       "      <td>-0.779917</td>\n",
       "      <td>DUMBBELL_SNATCH</td>\n",
       "    </tr>\n",
       "  </tbody>\n",
       "</table>\n",
       "<p>5 rows × 91 columns</p>\n",
       "</div>"
      ],
      "text/plain": [
       "   linAccX_mean  linAccX_std  linAccX_median  linAccX_skewness  \\\n",
       "0      0.541847     0.394069        0.660997         -0.777658   \n",
       "1     -0.074538     0.527332       -0.050235         -0.149851   \n",
       "2      0.088198     0.248036        0.165647         -1.345887   \n",
       "3     -0.302354     0.330763       -0.240866          0.054734   \n",
       "4     -0.179401     0.254849       -0.123012         -0.117260   \n",
       "\n",
       "   linAccX_kurtosis  linAccY_mean  linAccY_std  linAccY_median  \\\n",
       "0         -0.580579      0.675534     0.894215        1.091777   \n",
       "1         -1.460313      0.598507     0.266881        0.603392   \n",
       "2          0.831077      1.149927     0.703037        1.289980   \n",
       "3         -0.443915      0.529161     0.506785        0.667612   \n",
       "4         -0.296821      0.870408     0.421691        0.949073   \n",
       "\n",
       "   linAccY_skewness  linAccY_kurtosis  ...  linAccY_mod_std  \\\n",
       "0         -0.433954         -1.176486  ...         1.076209   \n",
       "1         -0.319812         -0.255269  ...         0.310353   \n",
       "2         -0.218163         -1.234202  ...         1.567920   \n",
       "3         -1.315278          0.475623  ...         0.298021   \n",
       "4         -0.594809         -0.409245  ...         0.659636   \n",
       "\n",
       "   linAccY_mod_median  linAccY_mod_skewness  linAccY_mod_kurtosis  \\\n",
       "0            1.191977              0.781878             -0.235597   \n",
       "1            0.364082              0.762078              0.068343   \n",
       "2            1.664051              0.466006             -1.045808   \n",
       "3            0.445706              0.461241             -0.474601   \n",
       "4            0.900739              0.343322             -0.805311   \n",
       "\n",
       "   linAccZ_mod_mean  linAccZ_mod_std  linAccZ_mod_median  \\\n",
       "0         17.578360        16.020110           11.847352   \n",
       "1         24.937133        20.632204           20.924743   \n",
       "2         28.171815        22.572960           25.392311   \n",
       "3         25.334828        22.431922           20.808947   \n",
       "4         15.983950        15.132598           11.735994   \n",
       "\n",
       "   linAccZ_mod_skewness  linAccZ_mod_kurtosis           target  \n",
       "0              0.715174             -0.802404  DUMBBELL_SNATCH  \n",
       "1              0.545944             -0.920501  DUMBBELL_SNATCH  \n",
       "2              0.495648             -0.933726  DUMBBELL_SNATCH  \n",
       "3              0.743078             -0.650686  DUMBBELL_SNATCH  \n",
       "4              0.720037             -0.779917  DUMBBELL_SNATCH  \n",
       "\n",
       "[5 rows x 91 columns]"
      ]
     },
     "execution_count": 7,
     "metadata": {},
     "output_type": "execute_result"
    }
   ],
   "source": [
    "data_info = [create_training_data_stats(info[\"series\"], info[\"target\"]) for info in data]\n",
    "data_custom = pd.DataFrame(data_info)\n",
    "data_custom.head()"
   ]
  },
  {
   "cell_type": "markdown",
   "id": "d5358851bc5cfbc9",
   "metadata": {
    "jp-MarkdownHeadingCollapsed": true,
    "tags": []
   },
   "source": [
    "# EDA"
   ]
  },
  {
   "cell_type": "code",
   "execution_count": null,
   "id": "4ccd42ef9ef4645",
   "metadata": {
    "collapsed": false,
    "jupyter": {
     "outputs_hidden": false
    }
   },
   "outputs": [],
   "source": [
    "data_custom.shape"
   ]
  },
  {
   "cell_type": "code",
   "execution_count": null,
   "id": "2fd6bcd85742bc72",
   "metadata": {
    "collapsed": false,
    "jupyter": {
     "outputs_hidden": false
    }
   },
   "outputs": [],
   "source": [
    "data_custom.isnull().sum()"
   ]
  },
  {
   "cell_type": "code",
   "execution_count": null,
   "id": "2e01fd446ca8132a",
   "metadata": {
    "collapsed": false,
    "jupyter": {
     "outputs_hidden": false
    }
   },
   "outputs": [],
   "source": [
    "data_custom.target.value_counts()"
   ]
  },
  {
   "cell_type": "code",
   "execution_count": null,
   "id": "af60cc29265905fc",
   "metadata": {
    "collapsed": false,
    "jupyter": {
     "outputs_hidden": false
    }
   },
   "outputs": [],
   "source": [
    "corr_matrix = data_custom.drop(columns=[\"target\"],axis=1).corr()\n",
    "corr_matrix"
   ]
  },
  {
   "cell_type": "code",
   "execution_count": null,
   "id": "6b3c4bb023ed08ba",
   "metadata": {
    "collapsed": false,
    "jupyter": {
     "outputs_hidden": false
    }
   },
   "outputs": [],
   "source": [
    "# Create a figure and a set of subplots\n",
    "df_box = data_custom.drop(columns=[\"target\"],axis=1)\n",
    "fig, axes = plt.subplots(nrows=len(df_box.columns), ncols=1, figsize=(8, 4 * len(df_box.columns)))\n",
    "\n",
    "# Create a box plot for each column\n",
    "for i, col in enumerate(df_box.columns):\n",
    "    sns.boxplot(x=df_box[col], ax=axes[i])\n",
    "\n",
    "# Add a title (optional)\n",
    "fig.suptitle('Box Plots', fontsize=16)\n",
    "\n",
    "# Adjust the layout\n",
    "plt.tight_layout()\n",
    "\n",
    "# Show the plot\n",
    "plt.show()"
   ]
  },
  {
   "cell_type": "markdown",
   "id": "16ca865531e0bc41",
   "metadata": {},
   "source": [
    "# ML with Pycaret"
   ]
  },
  {
   "cell_type": "code",
   "execution_count": 8,
   "id": "1e1dd2680aeaf50f",
   "metadata": {
    "collapsed": false,
    "jupyter": {
     "outputs_hidden": false
    }
   },
   "outputs": [
    {
     "name": "stdout",
     "output_type": "stream",
     "text": [
      "Data for Modeling: (674, 91)\n",
      "Simulated data For Production (36, 91)\n"
     ]
    }
   ],
   "source": [
    "data_dev = data_custom.sample(frac=0.95, random_state=786)\n",
    "data_prod = data_custom.drop(data_dev.index)\n",
    "\n",
    "data_dev.reset_index(inplace=True, drop=True)\n",
    "data_prod.reset_index(inplace=True, drop=True)\n",
    "\n",
    "print('Data for Modeling: ' + str(data_dev.shape))\n",
    "print('Simulated data For Production ' + str(data_prod.shape))"
   ]
  },
  {
   "cell_type": "code",
   "execution_count": null,
   "id": "d6337e42-75d8-4a60-9603-75df73b6df88",
   "metadata": {},
   "outputs": [],
   "source": [
    "data_dev"
   ]
  },
  {
   "cell_type": "code",
   "execution_count": 9,
   "id": "5c43601d30f4ab3e",
   "metadata": {
    "collapsed": false,
    "jupyter": {
     "outputs_hidden": false
    }
   },
   "outputs": [
    {
     "name": "stdout",
     "output_type": "stream",
     "text": [
      "[LightGBM] [Info] Number of positive: 377, number of negative: 377\n",
      "[LightGBM] [Info] Auto-choosing col-wise multi-threading, the overhead of testing was 0.001382 seconds.\n",
      "You can set `force_col_wise=true` to remove the overhead.\n",
      "[LightGBM] [Info] Total Bins 15060\n",
      "[LightGBM] [Info] Number of data points in the train set: 754, number of used features: 60\n",
      "[LightGBM] [Info] [binary:BoostFromScore]: pavg=0.500000 -> initscore=0.000000\n",
      "[LightGBM] [Warning] No further splits with positive gain, best gain: -inf\n",
      "[LightGBM] [Warning] No further splits with positive gain, best gain: -inf\n",
      "[LightGBM] [Warning] No further splits with positive gain, best gain: -inf\n",
      "[LightGBM] [Warning] No further splits with positive gain, best gain: -inf\n",
      "[LightGBM] [Warning] No further splits with positive gain, best gain: -inf\n",
      "[LightGBM] [Warning] No further splits with positive gain, best gain: -inf\n",
      "[LightGBM] [Warning] No further splits with positive gain, best gain: -inf\n",
      "[LightGBM] [Warning] No further splits with positive gain, best gain: -inf\n",
      "[LightGBM] [Warning] No further splits with positive gain, best gain: -inf\n",
      "[LightGBM] [Warning] No further splits with positive gain, best gain: -inf\n",
      "[LightGBM] [Warning] No further splits with positive gain, best gain: -inf\n",
      "[LightGBM] [Warning] No further splits with positive gain, best gain: -inf\n",
      "[LightGBM] [Warning] No further splits with positive gain, best gain: -inf\n"
     ]
    },
    {
     "data": {
      "text/html": [
       "<style type=\"text/css\">\n",
       "#T_74891_row9_col1, #T_74891_row13_col1, #T_74891_row15_col1, #T_74891_row17_col1, #T_74891_row19_col1 {\n",
       "  background-color: lightgreen;\n",
       "}\n",
       "</style>\n",
       "<table id=\"T_74891\">\n",
       "  <thead>\n",
       "    <tr>\n",
       "      <th class=\"blank level0\" >&nbsp;</th>\n",
       "      <th id=\"T_74891_level0_col0\" class=\"col_heading level0 col0\" >Description</th>\n",
       "      <th id=\"T_74891_level0_col1\" class=\"col_heading level0 col1\" >Value</th>\n",
       "    </tr>\n",
       "  </thead>\n",
       "  <tbody>\n",
       "    <tr>\n",
       "      <th id=\"T_74891_level0_row0\" class=\"row_heading level0 row0\" >0</th>\n",
       "      <td id=\"T_74891_row0_col0\" class=\"data row0 col0\" >Session id</td>\n",
       "      <td id=\"T_74891_row0_col1\" class=\"data row0 col1\" >7601</td>\n",
       "    </tr>\n",
       "    <tr>\n",
       "      <th id=\"T_74891_level0_row1\" class=\"row_heading level0 row1\" >1</th>\n",
       "      <td id=\"T_74891_row1_col0\" class=\"data row1 col0\" >Target</td>\n",
       "      <td id=\"T_74891_row1_col1\" class=\"data row1 col1\" >target</td>\n",
       "    </tr>\n",
       "    <tr>\n",
       "      <th id=\"T_74891_level0_row2\" class=\"row_heading level0 row2\" >2</th>\n",
       "      <td id=\"T_74891_row2_col0\" class=\"data row2 col0\" >Target type</td>\n",
       "      <td id=\"T_74891_row2_col1\" class=\"data row2 col1\" >Binary</td>\n",
       "    </tr>\n",
       "    <tr>\n",
       "      <th id=\"T_74891_level0_row3\" class=\"row_heading level0 row3\" >3</th>\n",
       "      <td id=\"T_74891_row3_col0\" class=\"data row3 col0\" >Target mapping</td>\n",
       "      <td id=\"T_74891_row3_col1\" class=\"data row3 col1\" >DUMBBELL_SNATCH: 0, NO_EXERCISE: 1</td>\n",
       "    </tr>\n",
       "    <tr>\n",
       "      <th id=\"T_74891_level0_row4\" class=\"row_heading level0 row4\" >4</th>\n",
       "      <td id=\"T_74891_row4_col0\" class=\"data row4 col0\" >Original data shape</td>\n",
       "      <td id=\"T_74891_row4_col1\" class=\"data row4 col1\" >(674, 91)</td>\n",
       "    </tr>\n",
       "    <tr>\n",
       "      <th id=\"T_74891_level0_row5\" class=\"row_heading level0 row5\" >5</th>\n",
       "      <td id=\"T_74891_row5_col0\" class=\"data row5 col0\" >Transformed data shape</td>\n",
       "      <td id=\"T_74891_row5_col1\" class=\"data row5 col1\" >(957, 11)</td>\n",
       "    </tr>\n",
       "    <tr>\n",
       "      <th id=\"T_74891_level0_row6\" class=\"row_heading level0 row6\" >6</th>\n",
       "      <td id=\"T_74891_row6_col0\" class=\"data row6 col0\" >Transformed train set shape</td>\n",
       "      <td id=\"T_74891_row6_col1\" class=\"data row6 col1\" >(754, 11)</td>\n",
       "    </tr>\n",
       "    <tr>\n",
       "      <th id=\"T_74891_level0_row7\" class=\"row_heading level0 row7\" >7</th>\n",
       "      <td id=\"T_74891_row7_col0\" class=\"data row7 col0\" >Transformed test set shape</td>\n",
       "      <td id=\"T_74891_row7_col1\" class=\"data row7 col1\" >(203, 11)</td>\n",
       "    </tr>\n",
       "    <tr>\n",
       "      <th id=\"T_74891_level0_row8\" class=\"row_heading level0 row8\" >8</th>\n",
       "      <td id=\"T_74891_row8_col0\" class=\"data row8 col0\" >Numeric features</td>\n",
       "      <td id=\"T_74891_row8_col1\" class=\"data row8 col1\" >90</td>\n",
       "    </tr>\n",
       "    <tr>\n",
       "      <th id=\"T_74891_level0_row9\" class=\"row_heading level0 row9\" >9</th>\n",
       "      <td id=\"T_74891_row9_col0\" class=\"data row9 col0\" >Preprocess</td>\n",
       "      <td id=\"T_74891_row9_col1\" class=\"data row9 col1\" >True</td>\n",
       "    </tr>\n",
       "    <tr>\n",
       "      <th id=\"T_74891_level0_row10\" class=\"row_heading level0 row10\" >10</th>\n",
       "      <td id=\"T_74891_row10_col0\" class=\"data row10 col0\" >Imputation type</td>\n",
       "      <td id=\"T_74891_row10_col1\" class=\"data row10 col1\" >simple</td>\n",
       "    </tr>\n",
       "    <tr>\n",
       "      <th id=\"T_74891_level0_row11\" class=\"row_heading level0 row11\" >11</th>\n",
       "      <td id=\"T_74891_row11_col0\" class=\"data row11 col0\" >Numeric imputation</td>\n",
       "      <td id=\"T_74891_row11_col1\" class=\"data row11 col1\" >mean</td>\n",
       "    </tr>\n",
       "    <tr>\n",
       "      <th id=\"T_74891_level0_row12\" class=\"row_heading level0 row12\" >12</th>\n",
       "      <td id=\"T_74891_row12_col0\" class=\"data row12 col0\" >Categorical imputation</td>\n",
       "      <td id=\"T_74891_row12_col1\" class=\"data row12 col1\" >mode</td>\n",
       "    </tr>\n",
       "    <tr>\n",
       "      <th id=\"T_74891_level0_row13\" class=\"row_heading level0 row13\" >13</th>\n",
       "      <td id=\"T_74891_row13_col0\" class=\"data row13 col0\" >Remove multicollinearity</td>\n",
       "      <td id=\"T_74891_row13_col1\" class=\"data row13 col1\" >True</td>\n",
       "    </tr>\n",
       "    <tr>\n",
       "      <th id=\"T_74891_level0_row14\" class=\"row_heading level0 row14\" >14</th>\n",
       "      <td id=\"T_74891_row14_col0\" class=\"data row14 col0\" >Multicollinearity threshold</td>\n",
       "      <td id=\"T_74891_row14_col1\" class=\"data row14 col1\" >0.900000</td>\n",
       "    </tr>\n",
       "    <tr>\n",
       "      <th id=\"T_74891_level0_row15\" class=\"row_heading level0 row15\" >15</th>\n",
       "      <td id=\"T_74891_row15_col0\" class=\"data row15 col0\" >Fix imbalance</td>\n",
       "      <td id=\"T_74891_row15_col1\" class=\"data row15 col1\" >True</td>\n",
       "    </tr>\n",
       "    <tr>\n",
       "      <th id=\"T_74891_level0_row16\" class=\"row_heading level0 row16\" >16</th>\n",
       "      <td id=\"T_74891_row16_col0\" class=\"data row16 col0\" >Fix imbalance method</td>\n",
       "      <td id=\"T_74891_row16_col1\" class=\"data row16 col1\" >SMOTE</td>\n",
       "    </tr>\n",
       "    <tr>\n",
       "      <th id=\"T_74891_level0_row17\" class=\"row_heading level0 row17\" >17</th>\n",
       "      <td id=\"T_74891_row17_col0\" class=\"data row17 col0\" >Normalize</td>\n",
       "      <td id=\"T_74891_row17_col1\" class=\"data row17 col1\" >True</td>\n",
       "    </tr>\n",
       "    <tr>\n",
       "      <th id=\"T_74891_level0_row18\" class=\"row_heading level0 row18\" >18</th>\n",
       "      <td id=\"T_74891_row18_col0\" class=\"data row18 col0\" >Normalize method</td>\n",
       "      <td id=\"T_74891_row18_col1\" class=\"data row18 col1\" >robust</td>\n",
       "    </tr>\n",
       "    <tr>\n",
       "      <th id=\"T_74891_level0_row19\" class=\"row_heading level0 row19\" >19</th>\n",
       "      <td id=\"T_74891_row19_col0\" class=\"data row19 col0\" >Feature selection</td>\n",
       "      <td id=\"T_74891_row19_col1\" class=\"data row19 col1\" >True</td>\n",
       "    </tr>\n",
       "    <tr>\n",
       "      <th id=\"T_74891_level0_row20\" class=\"row_heading level0 row20\" >20</th>\n",
       "      <td id=\"T_74891_row20_col0\" class=\"data row20 col0\" >Feature selection method</td>\n",
       "      <td id=\"T_74891_row20_col1\" class=\"data row20 col1\" >classic</td>\n",
       "    </tr>\n",
       "    <tr>\n",
       "      <th id=\"T_74891_level0_row21\" class=\"row_heading level0 row21\" >21</th>\n",
       "      <td id=\"T_74891_row21_col0\" class=\"data row21 col0\" >Feature selection estimator</td>\n",
       "      <td id=\"T_74891_row21_col1\" class=\"data row21 col1\" >lightgbm</td>\n",
       "    </tr>\n",
       "    <tr>\n",
       "      <th id=\"T_74891_level0_row22\" class=\"row_heading level0 row22\" >22</th>\n",
       "      <td id=\"T_74891_row22_col0\" class=\"data row22 col0\" >Number of features selected</td>\n",
       "      <td id=\"T_74891_row22_col1\" class=\"data row22 col1\" >10</td>\n",
       "    </tr>\n",
       "    <tr>\n",
       "      <th id=\"T_74891_level0_row23\" class=\"row_heading level0 row23\" >23</th>\n",
       "      <td id=\"T_74891_row23_col0\" class=\"data row23 col0\" >Fold Generator</td>\n",
       "      <td id=\"T_74891_row23_col1\" class=\"data row23 col1\" >StratifiedKFold</td>\n",
       "    </tr>\n",
       "    <tr>\n",
       "      <th id=\"T_74891_level0_row24\" class=\"row_heading level0 row24\" >24</th>\n",
       "      <td id=\"T_74891_row24_col0\" class=\"data row24 col0\" >Fold Number</td>\n",
       "      <td id=\"T_74891_row24_col1\" class=\"data row24 col1\" >10</td>\n",
       "    </tr>\n",
       "    <tr>\n",
       "      <th id=\"T_74891_level0_row25\" class=\"row_heading level0 row25\" >25</th>\n",
       "      <td id=\"T_74891_row25_col0\" class=\"data row25 col0\" >CPU Jobs</td>\n",
       "      <td id=\"T_74891_row25_col1\" class=\"data row25 col1\" >-1</td>\n",
       "    </tr>\n",
       "    <tr>\n",
       "      <th id=\"T_74891_level0_row26\" class=\"row_heading level0 row26\" >26</th>\n",
       "      <td id=\"T_74891_row26_col0\" class=\"data row26 col0\" >Use GPU</td>\n",
       "      <td id=\"T_74891_row26_col1\" class=\"data row26 col1\" >False</td>\n",
       "    </tr>\n",
       "    <tr>\n",
       "      <th id=\"T_74891_level0_row27\" class=\"row_heading level0 row27\" >27</th>\n",
       "      <td id=\"T_74891_row27_col0\" class=\"data row27 col0\" >Log Experiment</td>\n",
       "      <td id=\"T_74891_row27_col1\" class=\"data row27 col1\" >False</td>\n",
       "    </tr>\n",
       "    <tr>\n",
       "      <th id=\"T_74891_level0_row28\" class=\"row_heading level0 row28\" >28</th>\n",
       "      <td id=\"T_74891_row28_col0\" class=\"data row28 col0\" >Experiment Name</td>\n",
       "      <td id=\"T_74891_row28_col1\" class=\"data row28 col1\" >clf-default-name</td>\n",
       "    </tr>\n",
       "    <tr>\n",
       "      <th id=\"T_74891_level0_row29\" class=\"row_heading level0 row29\" >29</th>\n",
       "      <td id=\"T_74891_row29_col0\" class=\"data row29 col0\" >USI</td>\n",
       "      <td id=\"T_74891_row29_col1\" class=\"data row29 col1\" >b2c2</td>\n",
       "    </tr>\n",
       "  </tbody>\n",
       "</table>\n"
      ],
      "text/plain": [
       "<pandas.io.formats.style.Styler at 0x25f4899bcd0>"
      ]
     },
     "metadata": {},
     "output_type": "display_data"
    }
   ],
   "source": [
    "model = setup(\n",
    "    # Basic options\n",
    "    data = data_dev,\n",
    "    target = \"target\",\n",
    "    train_size = 0.7,\n",
    "    preprocess = True,\n",
    "    \n",
    "    # Dealing with multicollinearity\n",
    "    remove_multicollinearity = True,\n",
    "    multicollinearity_threshold = 0.9,\n",
    "        \n",
    "    # Feature normalization with outliers\n",
    "    normalize = True,\n",
    "    normalize_method = 'robust',\n",
    "        \n",
    "    # Paralellization options\n",
    "    n_jobs = - 1,\n",
    "    use_gpu = False,\n",
    "    \n",
    "    # Imbalance Dataset\n",
    "    fix_imbalance=True,\n",
    "    \n",
    "    # Feature Importance\n",
    "    feature_selection = True,\n",
    "    n_features_to_select= 10\n",
    ")"
   ]
  },
  {
   "cell_type": "code",
   "execution_count": 10,
   "id": "9db5b1df561567cd",
   "metadata": {
    "collapsed": false,
    "jupyter": {
     "outputs_hidden": false
    }
   },
   "outputs": [
    {
     "data": {
      "text/html": [],
      "text/plain": [
       "<IPython.core.display.HTML object>"
      ]
     },
     "metadata": {},
     "output_type": "display_data"
    },
    {
     "data": {
      "text/html": [
       "<style type=\"text/css\">\n",
       "#T_c57b4 th {\n",
       "  text-align: left;\n",
       "}\n",
       "#T_c57b4_row0_col0, #T_c57b4_row1_col0, #T_c57b4_row1_col1, #T_c57b4_row1_col2, #T_c57b4_row1_col3, #T_c57b4_row1_col4, #T_c57b4_row1_col5, #T_c57b4_row1_col6, #T_c57b4_row1_col7, #T_c57b4_row2_col0, #T_c57b4_row2_col1, #T_c57b4_row2_col2, #T_c57b4_row2_col3, #T_c57b4_row2_col4, #T_c57b4_row2_col5, #T_c57b4_row2_col6, #T_c57b4_row2_col7, #T_c57b4_row3_col0, #T_c57b4_row3_col1, #T_c57b4_row3_col2, #T_c57b4_row3_col3, #T_c57b4_row3_col4, #T_c57b4_row3_col5, #T_c57b4_row3_col6, #T_c57b4_row3_col7, #T_c57b4_row4_col0, #T_c57b4_row4_col1, #T_c57b4_row4_col3, #T_c57b4_row4_col4, #T_c57b4_row4_col5, #T_c57b4_row4_col6, #T_c57b4_row4_col7, #T_c57b4_row5_col0, #T_c57b4_row5_col1, #T_c57b4_row5_col2, #T_c57b4_row5_col3, #T_c57b4_row5_col4, #T_c57b4_row5_col5, #T_c57b4_row5_col6, #T_c57b4_row5_col7, #T_c57b4_row6_col0, #T_c57b4_row6_col1, #T_c57b4_row6_col2, #T_c57b4_row6_col3, #T_c57b4_row6_col4, #T_c57b4_row6_col5, #T_c57b4_row6_col6, #T_c57b4_row6_col7, #T_c57b4_row7_col0, #T_c57b4_row7_col1, #T_c57b4_row7_col2, #T_c57b4_row7_col3, #T_c57b4_row7_col4, #T_c57b4_row7_col5, #T_c57b4_row7_col6, #T_c57b4_row7_col7, #T_c57b4_row8_col0, #T_c57b4_row8_col1, #T_c57b4_row8_col2, #T_c57b4_row8_col3, #T_c57b4_row8_col4, #T_c57b4_row8_col5, #T_c57b4_row8_col6, #T_c57b4_row8_col7, #T_c57b4_row9_col0, #T_c57b4_row9_col1, #T_c57b4_row9_col2, #T_c57b4_row9_col3, #T_c57b4_row9_col4, #T_c57b4_row9_col5, #T_c57b4_row9_col6, #T_c57b4_row9_col7, #T_c57b4_row10_col0, #T_c57b4_row10_col1, #T_c57b4_row10_col2, #T_c57b4_row10_col3, #T_c57b4_row10_col4, #T_c57b4_row10_col5, #T_c57b4_row10_col6, #T_c57b4_row10_col7, #T_c57b4_row11_col0, #T_c57b4_row11_col1, #T_c57b4_row11_col2, #T_c57b4_row11_col3, #T_c57b4_row11_col4, #T_c57b4_row11_col5, #T_c57b4_row11_col6, #T_c57b4_row11_col7, #T_c57b4_row12_col0, #T_c57b4_row12_col1, #T_c57b4_row12_col2, #T_c57b4_row12_col3, #T_c57b4_row12_col4, #T_c57b4_row12_col5, #T_c57b4_row12_col6, #T_c57b4_row12_col7, #T_c57b4_row13_col0, #T_c57b4_row13_col1, #T_c57b4_row13_col2, #T_c57b4_row13_col3, #T_c57b4_row13_col4, #T_c57b4_row13_col5, #T_c57b4_row13_col6, #T_c57b4_row13_col7, #T_c57b4_row14_col0, #T_c57b4_row14_col1, #T_c57b4_row14_col2, #T_c57b4_row14_col3, #T_c57b4_row14_col4, #T_c57b4_row14_col5, #T_c57b4_row14_col6, #T_c57b4_row14_col7, #T_c57b4_row15_col0, #T_c57b4_row15_col1, #T_c57b4_row15_col2, #T_c57b4_row15_col3, #T_c57b4_row15_col4, #T_c57b4_row15_col5, #T_c57b4_row15_col6, #T_c57b4_row15_col7 {\n",
       "  text-align: left;\n",
       "}\n",
       "#T_c57b4_row0_col1, #T_c57b4_row0_col2, #T_c57b4_row0_col3, #T_c57b4_row0_col4, #T_c57b4_row0_col5, #T_c57b4_row0_col6, #T_c57b4_row0_col7, #T_c57b4_row4_col2 {\n",
       "  text-align: left;\n",
       "  background-color: yellow;\n",
       "}\n",
       "#T_c57b4_row0_col8, #T_c57b4_row1_col8, #T_c57b4_row2_col8, #T_c57b4_row3_col8, #T_c57b4_row4_col8, #T_c57b4_row5_col8, #T_c57b4_row6_col8, #T_c57b4_row7_col8, #T_c57b4_row8_col8, #T_c57b4_row9_col8, #T_c57b4_row10_col8, #T_c57b4_row11_col8, #T_c57b4_row12_col8, #T_c57b4_row13_col8 {\n",
       "  text-align: left;\n",
       "  background-color: lightgrey;\n",
       "}\n",
       "#T_c57b4_row14_col8, #T_c57b4_row15_col8 {\n",
       "  text-align: left;\n",
       "  background-color: yellow;\n",
       "  background-color: lightgrey;\n",
       "}\n",
       "</style>\n",
       "<table id=\"T_c57b4\">\n",
       "  <thead>\n",
       "    <tr>\n",
       "      <th class=\"blank level0\" >&nbsp;</th>\n",
       "      <th id=\"T_c57b4_level0_col0\" class=\"col_heading level0 col0\" >Model</th>\n",
       "      <th id=\"T_c57b4_level0_col1\" class=\"col_heading level0 col1\" >Accuracy</th>\n",
       "      <th id=\"T_c57b4_level0_col2\" class=\"col_heading level0 col2\" >AUC</th>\n",
       "      <th id=\"T_c57b4_level0_col3\" class=\"col_heading level0 col3\" >Recall</th>\n",
       "      <th id=\"T_c57b4_level0_col4\" class=\"col_heading level0 col4\" >Prec.</th>\n",
       "      <th id=\"T_c57b4_level0_col5\" class=\"col_heading level0 col5\" >F1</th>\n",
       "      <th id=\"T_c57b4_level0_col6\" class=\"col_heading level0 col6\" >Kappa</th>\n",
       "      <th id=\"T_c57b4_level0_col7\" class=\"col_heading level0 col7\" >MCC</th>\n",
       "      <th id=\"T_c57b4_level0_col8\" class=\"col_heading level0 col8\" >TT (Sec)</th>\n",
       "    </tr>\n",
       "  </thead>\n",
       "  <tbody>\n",
       "    <tr>\n",
       "      <th id=\"T_c57b4_level0_row0\" class=\"row_heading level0 row0\" >et</th>\n",
       "      <td id=\"T_c57b4_row0_col0\" class=\"data row0 col0\" >Extra Trees Classifier</td>\n",
       "      <td id=\"T_c57b4_row0_col1\" class=\"data row0 col1\" >0.9957</td>\n",
       "      <td id=\"T_c57b4_row0_col2\" class=\"data row0 col2\" >0.9999</td>\n",
       "      <td id=\"T_c57b4_row0_col3\" class=\"data row0 col3\" >0.9957</td>\n",
       "      <td id=\"T_c57b4_row0_col4\" class=\"data row0 col4\" >0.9957</td>\n",
       "      <td id=\"T_c57b4_row0_col5\" class=\"data row0 col5\" >0.9957</td>\n",
       "      <td id=\"T_c57b4_row0_col6\" class=\"data row0 col6\" >0.9867</td>\n",
       "      <td id=\"T_c57b4_row0_col7\" class=\"data row0 col7\" >0.9867</td>\n",
       "      <td id=\"T_c57b4_row0_col8\" class=\"data row0 col8\" >0.3350</td>\n",
       "    </tr>\n",
       "    <tr>\n",
       "      <th id=\"T_c57b4_level0_row1\" class=\"row_heading level0 row1\" >xgboost</th>\n",
       "      <td id=\"T_c57b4_row1_col0\" class=\"data row1 col0\" >Extreme Gradient Boosting</td>\n",
       "      <td id=\"T_c57b4_row1_col1\" class=\"data row1 col1\" >0.9915</td>\n",
       "      <td id=\"T_c57b4_row1_col2\" class=\"data row1 col2\" >0.9989</td>\n",
       "      <td id=\"T_c57b4_row1_col3\" class=\"data row1 col3\" >0.9915</td>\n",
       "      <td id=\"T_c57b4_row1_col4\" class=\"data row1 col4\" >0.9917</td>\n",
       "      <td id=\"T_c57b4_row1_col5\" class=\"data row1 col5\" >0.9915</td>\n",
       "      <td id=\"T_c57b4_row1_col6\" class=\"data row1 col6\" >0.9734</td>\n",
       "      <td id=\"T_c57b4_row1_col7\" class=\"data row1 col7\" >0.9738</td>\n",
       "      <td id=\"T_c57b4_row1_col8\" class=\"data row1 col8\" >0.2000</td>\n",
       "    </tr>\n",
       "    <tr>\n",
       "      <th id=\"T_c57b4_level0_row2\" class=\"row_heading level0 row2\" >ada</th>\n",
       "      <td id=\"T_c57b4_row2_col0\" class=\"data row2 col0\" >Ada Boost Classifier</td>\n",
       "      <td id=\"T_c57b4_row2_col1\" class=\"data row2 col1\" >0.9894</td>\n",
       "      <td id=\"T_c57b4_row2_col2\" class=\"data row2 col2\" >0.9983</td>\n",
       "      <td id=\"T_c57b4_row2_col3\" class=\"data row2 col3\" >0.9894</td>\n",
       "      <td id=\"T_c57b4_row2_col4\" class=\"data row2 col4\" >0.9897</td>\n",
       "      <td id=\"T_c57b4_row2_col5\" class=\"data row2 col5\" >0.9894</td>\n",
       "      <td id=\"T_c57b4_row2_col6\" class=\"data row2 col6\" >0.9672</td>\n",
       "      <td id=\"T_c57b4_row2_col7\" class=\"data row2 col7\" >0.9674</td>\n",
       "      <td id=\"T_c57b4_row2_col8\" class=\"data row2 col8\" >0.2150</td>\n",
       "    </tr>\n",
       "    <tr>\n",
       "      <th id=\"T_c57b4_level0_row3\" class=\"row_heading level0 row3\" >lightgbm</th>\n",
       "      <td id=\"T_c57b4_row3_col0\" class=\"data row3 col0\" >Light Gradient Boosting Machine</td>\n",
       "      <td id=\"T_c57b4_row3_col1\" class=\"data row3 col1\" >0.9894</td>\n",
       "      <td id=\"T_c57b4_row3_col2\" class=\"data row3 col2\" >0.9985</td>\n",
       "      <td id=\"T_c57b4_row3_col3\" class=\"data row3 col3\" >0.9894</td>\n",
       "      <td id=\"T_c57b4_row3_col4\" class=\"data row3 col4\" >0.9894</td>\n",
       "      <td id=\"T_c57b4_row3_col5\" class=\"data row3 col5\" >0.9894</td>\n",
       "      <td id=\"T_c57b4_row3_col6\" class=\"data row3 col6\" >0.9668</td>\n",
       "      <td id=\"T_c57b4_row3_col7\" class=\"data row3 col7\" >0.9669</td>\n",
       "      <td id=\"T_c57b4_row3_col8\" class=\"data row3 col8\" >0.2200</td>\n",
       "    </tr>\n",
       "    <tr>\n",
       "      <th id=\"T_c57b4_level0_row4\" class=\"row_heading level0 row4\" >rf</th>\n",
       "      <td id=\"T_c57b4_row4_col0\" class=\"data row4 col0\" >Random Forest Classifier</td>\n",
       "      <td id=\"T_c57b4_row4_col1\" class=\"data row4 col1\" >0.9873</td>\n",
       "      <td id=\"T_c57b4_row4_col2\" class=\"data row4 col2\" >0.9999</td>\n",
       "      <td id=\"T_c57b4_row4_col3\" class=\"data row4 col3\" >0.9873</td>\n",
       "      <td id=\"T_c57b4_row4_col4\" class=\"data row4 col4\" >0.9879</td>\n",
       "      <td id=\"T_c57b4_row4_col5\" class=\"data row4 col5\" >0.9874</td>\n",
       "      <td id=\"T_c57b4_row4_col6\" class=\"data row4 col6\" >0.9610</td>\n",
       "      <td id=\"T_c57b4_row4_col7\" class=\"data row4 col7\" >0.9616</td>\n",
       "      <td id=\"T_c57b4_row4_col8\" class=\"data row4 col8\" >2.6300</td>\n",
       "    </tr>\n",
       "    <tr>\n",
       "      <th id=\"T_c57b4_level0_row5\" class=\"row_heading level0 row5\" >catboost</th>\n",
       "      <td id=\"T_c57b4_row5_col0\" class=\"data row5 col0\" >CatBoost Classifier</td>\n",
       "      <td id=\"T_c57b4_row5_col1\" class=\"data row5 col1\" >0.9872</td>\n",
       "      <td id=\"T_c57b4_row5_col2\" class=\"data row5 col2\" >0.9992</td>\n",
       "      <td id=\"T_c57b4_row5_col3\" class=\"data row5 col3\" >0.9872</td>\n",
       "      <td id=\"T_c57b4_row5_col4\" class=\"data row5 col4\" >0.9878</td>\n",
       "      <td id=\"T_c57b4_row5_col5\" class=\"data row5 col5\" >0.9874</td>\n",
       "      <td id=\"T_c57b4_row5_col6\" class=\"data row5 col6\" >0.9609</td>\n",
       "      <td id=\"T_c57b4_row5_col7\" class=\"data row5 col7\" >0.9613</td>\n",
       "      <td id=\"T_c57b4_row5_col8\" class=\"data row5 col8\" >2.3500</td>\n",
       "    </tr>\n",
       "    <tr>\n",
       "      <th id=\"T_c57b4_level0_row6\" class=\"row_heading level0 row6\" >nb</th>\n",
       "      <td id=\"T_c57b4_row6_col0\" class=\"data row6 col0\" >Naive Bayes</td>\n",
       "      <td id=\"T_c57b4_row6_col1\" class=\"data row6 col1\" >0.9809</td>\n",
       "      <td id=\"T_c57b4_row6_col2\" class=\"data row6 col2\" >0.9985</td>\n",
       "      <td id=\"T_c57b4_row6_col3\" class=\"data row6 col3\" >0.9809</td>\n",
       "      <td id=\"T_c57b4_row6_col4\" class=\"data row6 col4\" >0.9821</td>\n",
       "      <td id=\"T_c57b4_row6_col5\" class=\"data row6 col5\" >0.9811</td>\n",
       "      <td id=\"T_c57b4_row6_col6\" class=\"data row6 col6\" >0.9417</td>\n",
       "      <td id=\"T_c57b4_row6_col7\" class=\"data row6 col7\" >0.9429</td>\n",
       "      <td id=\"T_c57b4_row6_col8\" class=\"data row6 col8\" >2.3800</td>\n",
       "    </tr>\n",
       "    <tr>\n",
       "      <th id=\"T_c57b4_level0_row7\" class=\"row_heading level0 row7\" >gbc</th>\n",
       "      <td id=\"T_c57b4_row7_col0\" class=\"data row7 col0\" >Gradient Boosting Classifier</td>\n",
       "      <td id=\"T_c57b4_row7_col1\" class=\"data row7 col1\" >0.9809</td>\n",
       "      <td id=\"T_c57b4_row7_col2\" class=\"data row7 col2\" >0.9948</td>\n",
       "      <td id=\"T_c57b4_row7_col3\" class=\"data row7 col3\" >0.9809</td>\n",
       "      <td id=\"T_c57b4_row7_col4\" class=\"data row7 col4\" >0.9816</td>\n",
       "      <td id=\"T_c57b4_row7_col5\" class=\"data row7 col5\" >0.9810</td>\n",
       "      <td id=\"T_c57b4_row7_col6\" class=\"data row7 col6\" >0.9413</td>\n",
       "      <td id=\"T_c57b4_row7_col7\" class=\"data row7 col7\" >0.9418</td>\n",
       "      <td id=\"T_c57b4_row7_col8\" class=\"data row7 col8\" >0.2850</td>\n",
       "    </tr>\n",
       "    <tr>\n",
       "      <th id=\"T_c57b4_level0_row8\" class=\"row_heading level0 row8\" >qda</th>\n",
       "      <td id=\"T_c57b4_row8_col0\" class=\"data row8 col0\" >Quadratic Discriminant Analysis</td>\n",
       "      <td id=\"T_c57b4_row8_col1\" class=\"data row8 col1\" >0.9809</td>\n",
       "      <td id=\"T_c57b4_row8_col2\" class=\"data row8 col2\" >0.9996</td>\n",
       "      <td id=\"T_c57b4_row8_col3\" class=\"data row8 col3\" >0.9809</td>\n",
       "      <td id=\"T_c57b4_row8_col4\" class=\"data row8 col4\" >0.9811</td>\n",
       "      <td id=\"T_c57b4_row8_col5\" class=\"data row8 col5\" >0.9806</td>\n",
       "      <td id=\"T_c57b4_row8_col6\" class=\"data row8 col6\" >0.9385</td>\n",
       "      <td id=\"T_c57b4_row8_col7\" class=\"data row8 col7\" >0.9396</td>\n",
       "      <td id=\"T_c57b4_row8_col8\" class=\"data row8 col8\" >2.3650</td>\n",
       "    </tr>\n",
       "    <tr>\n",
       "      <th id=\"T_c57b4_level0_row9\" class=\"row_heading level0 row9\" >dt</th>\n",
       "      <td id=\"T_c57b4_row9_col0\" class=\"data row9 col0\" >Decision Tree Classifier</td>\n",
       "      <td id=\"T_c57b4_row9_col1\" class=\"data row9 col1\" >0.9745</td>\n",
       "      <td id=\"T_c57b4_row9_col2\" class=\"data row9 col2\" >0.9601</td>\n",
       "      <td id=\"T_c57b4_row9_col3\" class=\"data row9 col3\" >0.9745</td>\n",
       "      <td id=\"T_c57b4_row9_col4\" class=\"data row9 col4\" >0.9749</td>\n",
       "      <td id=\"T_c57b4_row9_col5\" class=\"data row9 col5\" >0.9744</td>\n",
       "      <td id=\"T_c57b4_row9_col6\" class=\"data row9 col6\" >0.9199</td>\n",
       "      <td id=\"T_c57b4_row9_col7\" class=\"data row9 col7\" >0.9206</td>\n",
       "      <td id=\"T_c57b4_row9_col8\" class=\"data row9 col8\" >2.3250</td>\n",
       "    </tr>\n",
       "    <tr>\n",
       "      <th id=\"T_c57b4_level0_row10\" class=\"row_heading level0 row10\" >knn</th>\n",
       "      <td id=\"T_c57b4_row10_col0\" class=\"data row10 col0\" >K Neighbors Classifier</td>\n",
       "      <td id=\"T_c57b4_row10_col1\" class=\"data row10 col1\" >0.9723</td>\n",
       "      <td id=\"T_c57b4_row10_col2\" class=\"data row10 col2\" >0.9933</td>\n",
       "      <td id=\"T_c57b4_row10_col3\" class=\"data row10 col3\" >0.9723</td>\n",
       "      <td id=\"T_c57b4_row10_col4\" class=\"data row10 col4\" >0.9776</td>\n",
       "      <td id=\"T_c57b4_row10_col5\" class=\"data row10 col5\" >0.9734</td>\n",
       "      <td id=\"T_c57b4_row10_col6\" class=\"data row10 col6\" >0.9206</td>\n",
       "      <td id=\"T_c57b4_row10_col7\" class=\"data row10 col7\" >0.9252</td>\n",
       "      <td id=\"T_c57b4_row10_col8\" class=\"data row10 col8\" >2.5800</td>\n",
       "    </tr>\n",
       "    <tr>\n",
       "      <th id=\"T_c57b4_level0_row11\" class=\"row_heading level0 row11\" >svm</th>\n",
       "      <td id=\"T_c57b4_row11_col0\" class=\"data row11 col0\" >SVM - Linear Kernel</td>\n",
       "      <td id=\"T_c57b4_row11_col1\" class=\"data row11 col1\" >0.9703</td>\n",
       "      <td id=\"T_c57b4_row11_col2\" class=\"data row11 col2\" >0.0000</td>\n",
       "      <td id=\"T_c57b4_row11_col3\" class=\"data row11 col3\" >0.9703</td>\n",
       "      <td id=\"T_c57b4_row11_col4\" class=\"data row11 col4\" >0.9710</td>\n",
       "      <td id=\"T_c57b4_row11_col5\" class=\"data row11 col5\" >0.9705</td>\n",
       "      <td id=\"T_c57b4_row11_col6\" class=\"data row11 col6\" >0.9084</td>\n",
       "      <td id=\"T_c57b4_row11_col7\" class=\"data row11 col7\" >0.9088</td>\n",
       "      <td id=\"T_c57b4_row11_col8\" class=\"data row11 col8\" >2.4550</td>\n",
       "    </tr>\n",
       "    <tr>\n",
       "      <th id=\"T_c57b4_level0_row12\" class=\"row_heading level0 row12\" >lr</th>\n",
       "      <td id=\"T_c57b4_row12_col0\" class=\"data row12 col0\" >Logistic Regression</td>\n",
       "      <td id=\"T_c57b4_row12_col1\" class=\"data row12 col1\" >0.9447</td>\n",
       "      <td id=\"T_c57b4_row12_col2\" class=\"data row12 col2\" >0.9940</td>\n",
       "      <td id=\"T_c57b4_row12_col3\" class=\"data row12 col3\" >0.9447</td>\n",
       "      <td id=\"T_c57b4_row12_col4\" class=\"data row12 col4\" >0.9595</td>\n",
       "      <td id=\"T_c57b4_row12_col5\" class=\"data row12 col5\" >0.9477</td>\n",
       "      <td id=\"T_c57b4_row12_col6\" class=\"data row12 col6\" >0.8485</td>\n",
       "      <td id=\"T_c57b4_row12_col7\" class=\"data row12 col7\" >0.8608</td>\n",
       "      <td id=\"T_c57b4_row12_col8\" class=\"data row12 col8\" >3.3650</td>\n",
       "    </tr>\n",
       "    <tr>\n",
       "      <th id=\"T_c57b4_level0_row13\" class=\"row_heading level0 row13\" >ridge</th>\n",
       "      <td id=\"T_c57b4_row13_col0\" class=\"data row13 col0\" >Ridge Classifier</td>\n",
       "      <td id=\"T_c57b4_row13_col1\" class=\"data row13 col1\" >0.9149</td>\n",
       "      <td id=\"T_c57b4_row13_col2\" class=\"data row13 col2\" >0.0000</td>\n",
       "      <td id=\"T_c57b4_row13_col3\" class=\"data row13 col3\" >0.9149</td>\n",
       "      <td id=\"T_c57b4_row13_col4\" class=\"data row13 col4\" >0.9477</td>\n",
       "      <td id=\"T_c57b4_row13_col5\" class=\"data row13 col5\" >0.9214</td>\n",
       "      <td id=\"T_c57b4_row13_col6\" class=\"data row13 col6\" >0.7862</td>\n",
       "      <td id=\"T_c57b4_row13_col7\" class=\"data row13 col7\" >0.8105</td>\n",
       "      <td id=\"T_c57b4_row13_col8\" class=\"data row13 col8\" >2.3700</td>\n",
       "    </tr>\n",
       "    <tr>\n",
       "      <th id=\"T_c57b4_level0_row14\" class=\"row_heading level0 row14\" >lda</th>\n",
       "      <td id=\"T_c57b4_row14_col0\" class=\"data row14 col0\" >Linear Discriminant Analysis</td>\n",
       "      <td id=\"T_c57b4_row14_col1\" class=\"data row14 col1\" >0.9150</td>\n",
       "      <td id=\"T_c57b4_row14_col2\" class=\"data row14 col2\" >0.9838</td>\n",
       "      <td id=\"T_c57b4_row14_col3\" class=\"data row14 col3\" >0.9150</td>\n",
       "      <td id=\"T_c57b4_row14_col4\" class=\"data row14 col4\" >0.9427</td>\n",
       "      <td id=\"T_c57b4_row14_col5\" class=\"data row14 col5\" >0.9207</td>\n",
       "      <td id=\"T_c57b4_row14_col6\" class=\"data row14 col6\" >0.7784</td>\n",
       "      <td id=\"T_c57b4_row14_col7\" class=\"data row14 col7\" >0.7991</td>\n",
       "      <td id=\"T_c57b4_row14_col8\" class=\"data row14 col8\" >0.1850</td>\n",
       "    </tr>\n",
       "    <tr>\n",
       "      <th id=\"T_c57b4_level0_row15\" class=\"row_heading level0 row15\" >dummy</th>\n",
       "      <td id=\"T_c57b4_row15_col0\" class=\"data row15 col0\" >Dummy Classifier</td>\n",
       "      <td id=\"T_c57b4_row15_col1\" class=\"data row15 col1\" >0.1996</td>\n",
       "      <td id=\"T_c57b4_row15_col2\" class=\"data row15 col2\" >0.5000</td>\n",
       "      <td id=\"T_c57b4_row15_col3\" class=\"data row15 col3\" >0.1996</td>\n",
       "      <td id=\"T_c57b4_row15_col4\" class=\"data row15 col4\" >0.0398</td>\n",
       "      <td id=\"T_c57b4_row15_col5\" class=\"data row15 col5\" >0.0664</td>\n",
       "      <td id=\"T_c57b4_row15_col6\" class=\"data row15 col6\" >0.0000</td>\n",
       "      <td id=\"T_c57b4_row15_col7\" class=\"data row15 col7\" >0.0000</td>\n",
       "      <td id=\"T_c57b4_row15_col8\" class=\"data row15 col8\" >0.1850</td>\n",
       "    </tr>\n",
       "  </tbody>\n",
       "</table>\n"
      ],
      "text/plain": [
       "<pandas.io.formats.style.Styler at 0x25f45ddb910>"
      ]
     },
     "metadata": {},
     "output_type": "display_data"
    },
    {
     "data": {
      "text/html": [],
      "text/plain": [
       "<IPython.core.display.HTML object>"
      ]
     },
     "metadata": {},
     "output_type": "display_data"
    },
    {
     "data": {
      "text/html": [
       "<style>#sk-container-id-1 {color: black;background-color: white;}#sk-container-id-1 pre{padding: 0;}#sk-container-id-1 div.sk-toggleable {background-color: white;}#sk-container-id-1 label.sk-toggleable__label {cursor: pointer;display: block;width: 100%;margin-bottom: 0;padding: 0.3em;box-sizing: border-box;text-align: center;}#sk-container-id-1 label.sk-toggleable__label-arrow:before {content: \"▸\";float: left;margin-right: 0.25em;color: #696969;}#sk-container-id-1 label.sk-toggleable__label-arrow:hover:before {color: black;}#sk-container-id-1 div.sk-estimator:hover label.sk-toggleable__label-arrow:before {color: black;}#sk-container-id-1 div.sk-toggleable__content {max-height: 0;max-width: 0;overflow: hidden;text-align: left;background-color: #f0f8ff;}#sk-container-id-1 div.sk-toggleable__content pre {margin: 0.2em;color: black;border-radius: 0.25em;background-color: #f0f8ff;}#sk-container-id-1 input.sk-toggleable__control:checked~div.sk-toggleable__content {max-height: 200px;max-width: 100%;overflow: auto;}#sk-container-id-1 input.sk-toggleable__control:checked~label.sk-toggleable__label-arrow:before {content: \"▾\";}#sk-container-id-1 div.sk-estimator input.sk-toggleable__control:checked~label.sk-toggleable__label {background-color: #d4ebff;}#sk-container-id-1 div.sk-label input.sk-toggleable__control:checked~label.sk-toggleable__label {background-color: #d4ebff;}#sk-container-id-1 input.sk-hidden--visually {border: 0;clip: rect(1px 1px 1px 1px);clip: rect(1px, 1px, 1px, 1px);height: 1px;margin: -1px;overflow: hidden;padding: 0;position: absolute;width: 1px;}#sk-container-id-1 div.sk-estimator {font-family: monospace;background-color: #f0f8ff;border: 1px dotted black;border-radius: 0.25em;box-sizing: border-box;margin-bottom: 0.5em;}#sk-container-id-1 div.sk-estimator:hover {background-color: #d4ebff;}#sk-container-id-1 div.sk-parallel-item::after {content: \"\";width: 100%;border-bottom: 1px solid gray;flex-grow: 1;}#sk-container-id-1 div.sk-label:hover label.sk-toggleable__label {background-color: #d4ebff;}#sk-container-id-1 div.sk-serial::before {content: \"\";position: absolute;border-left: 1px solid gray;box-sizing: border-box;top: 0;bottom: 0;left: 50%;z-index: 0;}#sk-container-id-1 div.sk-serial {display: flex;flex-direction: column;align-items: center;background-color: white;padding-right: 0.2em;padding-left: 0.2em;position: relative;}#sk-container-id-1 div.sk-item {position: relative;z-index: 1;}#sk-container-id-1 div.sk-parallel {display: flex;align-items: stretch;justify-content: center;background-color: white;position: relative;}#sk-container-id-1 div.sk-item::before, #sk-container-id-1 div.sk-parallel-item::before {content: \"\";position: absolute;border-left: 1px solid gray;box-sizing: border-box;top: 0;bottom: 0;left: 50%;z-index: -1;}#sk-container-id-1 div.sk-parallel-item {display: flex;flex-direction: column;z-index: 1;position: relative;background-color: white;}#sk-container-id-1 div.sk-parallel-item:first-child::after {align-self: flex-end;width: 50%;}#sk-container-id-1 div.sk-parallel-item:last-child::after {align-self: flex-start;width: 50%;}#sk-container-id-1 div.sk-parallel-item:only-child::after {width: 0;}#sk-container-id-1 div.sk-dashed-wrapped {border: 1px dashed gray;margin: 0 0.4em 0.5em 0.4em;box-sizing: border-box;padding-bottom: 0.4em;background-color: white;}#sk-container-id-1 div.sk-label label {font-family: monospace;font-weight: bold;display: inline-block;line-height: 1.2em;}#sk-container-id-1 div.sk-label-container {text-align: center;}#sk-container-id-1 div.sk-container {/* jupyter's `normalize.less` sets `[hidden] { display: none; }` but bootstrap.min.css set `[hidden] { display: none !important; }` so we also need the `!important` here to be able to override the default hidden behavior on the sphinx rendered scikit-learn.org. See: https://github.com/scikit-learn/scikit-learn/issues/21755 */display: inline-block !important;position: relative;}#sk-container-id-1 div.sk-text-repr-fallback {display: none;}</style><div id=\"sk-container-id-1\" class=\"sk-top-container\"><div class=\"sk-text-repr-fallback\"><pre>ExtraTreesClassifier(bootstrap=False, ccp_alpha=0.0, class_weight=None,\n",
       "                     criterion=&#x27;gini&#x27;, max_depth=None, max_features=&#x27;sqrt&#x27;,\n",
       "                     max_leaf_nodes=None, max_samples=None,\n",
       "                     min_impurity_decrease=0.0, min_samples_leaf=1,\n",
       "                     min_samples_split=2, min_weight_fraction_leaf=0.0,\n",
       "                     n_estimators=100, n_jobs=-1, oob_score=False,\n",
       "                     random_state=7601, verbose=0, warm_start=False)</pre><b>In a Jupyter environment, please rerun this cell to show the HTML representation or trust the notebook. <br />On GitHub, the HTML representation is unable to render, please try loading this page with nbviewer.org.</b></div><div class=\"sk-container\" hidden><div class=\"sk-item\"><div class=\"sk-estimator sk-toggleable\"><input class=\"sk-toggleable__control sk-hidden--visually\" id=\"sk-estimator-id-1\" type=\"checkbox\" checked><label for=\"sk-estimator-id-1\" class=\"sk-toggleable__label sk-toggleable__label-arrow\">ExtraTreesClassifier</label><div class=\"sk-toggleable__content\"><pre>ExtraTreesClassifier(bootstrap=False, ccp_alpha=0.0, class_weight=None,\n",
       "                     criterion=&#x27;gini&#x27;, max_depth=None, max_features=&#x27;sqrt&#x27;,\n",
       "                     max_leaf_nodes=None, max_samples=None,\n",
       "                     min_impurity_decrease=0.0, min_samples_leaf=1,\n",
       "                     min_samples_split=2, min_weight_fraction_leaf=0.0,\n",
       "                     n_estimators=100, n_jobs=-1, oob_score=False,\n",
       "                     random_state=7601, verbose=0, warm_start=False)</pre></div></div></div></div></div>"
      ],
      "text/plain": [
       "ExtraTreesClassifier(bootstrap=False, ccp_alpha=0.0, class_weight=None,\n",
       "                     criterion='gini', max_depth=None, max_features='sqrt',\n",
       "                     max_leaf_nodes=None, max_samples=None,\n",
       "                     min_impurity_decrease=0.0, min_samples_leaf=1,\n",
       "                     min_samples_split=2, min_weight_fraction_leaf=0.0,\n",
       "                     n_estimators=100, n_jobs=-1, oob_score=False,\n",
       "                     random_state=7601, verbose=0, warm_start=False)"
      ]
     },
     "execution_count": 10,
     "metadata": {},
     "output_type": "execute_result"
    }
   ],
   "source": [
    "models = compare_models(sort=\"F1\", fold=2)\n",
    "models"
   ]
  },
  {
   "cell_type": "code",
   "execution_count": 11,
   "id": "fd37d235dfd3abf4",
   "metadata": {
    "collapsed": false,
    "jupyter": {
     "outputs_hidden": false
    }
   },
   "outputs": [
    {
     "data": {
      "text/html": [
       "<div>\n",
       "<style scoped>\n",
       "    .dataframe tbody tr th:only-of-type {\n",
       "        vertical-align: middle;\n",
       "    }\n",
       "\n",
       "    .dataframe tbody tr th {\n",
       "        vertical-align: top;\n",
       "    }\n",
       "\n",
       "    .dataframe thead th {\n",
       "        text-align: right;\n",
       "    }\n",
       "</style>\n",
       "<table border=\"1\" class=\"dataframe\">\n",
       "  <thead>\n",
       "    <tr style=\"text-align: right;\">\n",
       "      <th></th>\n",
       "      <th>Model</th>\n",
       "      <th>Accuracy</th>\n",
       "      <th>AUC</th>\n",
       "      <th>Recall</th>\n",
       "      <th>Prec.</th>\n",
       "      <th>F1</th>\n",
       "      <th>Kappa</th>\n",
       "      <th>MCC</th>\n",
       "      <th>TT (Sec)</th>\n",
       "    </tr>\n",
       "  </thead>\n",
       "  <tbody>\n",
       "    <tr>\n",
       "      <th>et</th>\n",
       "      <td>Extra Trees Classifier</td>\n",
       "      <td>0.9957</td>\n",
       "      <td>0.9999</td>\n",
       "      <td>0.9957</td>\n",
       "      <td>0.9957</td>\n",
       "      <td>0.9957</td>\n",
       "      <td>0.9867</td>\n",
       "      <td>0.9867</td>\n",
       "      <td>0.335</td>\n",
       "    </tr>\n",
       "    <tr>\n",
       "      <th>xgboost</th>\n",
       "      <td>Extreme Gradient Boosting</td>\n",
       "      <td>0.9915</td>\n",
       "      <td>0.9989</td>\n",
       "      <td>0.9915</td>\n",
       "      <td>0.9917</td>\n",
       "      <td>0.9915</td>\n",
       "      <td>0.9734</td>\n",
       "      <td>0.9738</td>\n",
       "      <td>0.200</td>\n",
       "    </tr>\n",
       "    <tr>\n",
       "      <th>ada</th>\n",
       "      <td>Ada Boost Classifier</td>\n",
       "      <td>0.9894</td>\n",
       "      <td>0.9983</td>\n",
       "      <td>0.9894</td>\n",
       "      <td>0.9897</td>\n",
       "      <td>0.9894</td>\n",
       "      <td>0.9672</td>\n",
       "      <td>0.9674</td>\n",
       "      <td>0.215</td>\n",
       "    </tr>\n",
       "    <tr>\n",
       "      <th>lightgbm</th>\n",
       "      <td>Light Gradient Boosting Machine</td>\n",
       "      <td>0.9894</td>\n",
       "      <td>0.9985</td>\n",
       "      <td>0.9894</td>\n",
       "      <td>0.9894</td>\n",
       "      <td>0.9894</td>\n",
       "      <td>0.9668</td>\n",
       "      <td>0.9669</td>\n",
       "      <td>0.220</td>\n",
       "    </tr>\n",
       "    <tr>\n",
       "      <th>rf</th>\n",
       "      <td>Random Forest Classifier</td>\n",
       "      <td>0.9873</td>\n",
       "      <td>0.9999</td>\n",
       "      <td>0.9873</td>\n",
       "      <td>0.9879</td>\n",
       "      <td>0.9874</td>\n",
       "      <td>0.9610</td>\n",
       "      <td>0.9616</td>\n",
       "      <td>2.630</td>\n",
       "    </tr>\n",
       "    <tr>\n",
       "      <th>catboost</th>\n",
       "      <td>CatBoost Classifier</td>\n",
       "      <td>0.9872</td>\n",
       "      <td>0.9992</td>\n",
       "      <td>0.9872</td>\n",
       "      <td>0.9878</td>\n",
       "      <td>0.9874</td>\n",
       "      <td>0.9609</td>\n",
       "      <td>0.9613</td>\n",
       "      <td>2.350</td>\n",
       "    </tr>\n",
       "    <tr>\n",
       "      <th>nb</th>\n",
       "      <td>Naive Bayes</td>\n",
       "      <td>0.9809</td>\n",
       "      <td>0.9985</td>\n",
       "      <td>0.9809</td>\n",
       "      <td>0.9821</td>\n",
       "      <td>0.9811</td>\n",
       "      <td>0.9417</td>\n",
       "      <td>0.9429</td>\n",
       "      <td>2.380</td>\n",
       "    </tr>\n",
       "    <tr>\n",
       "      <th>gbc</th>\n",
       "      <td>Gradient Boosting Classifier</td>\n",
       "      <td>0.9809</td>\n",
       "      <td>0.9948</td>\n",
       "      <td>0.9809</td>\n",
       "      <td>0.9816</td>\n",
       "      <td>0.9810</td>\n",
       "      <td>0.9413</td>\n",
       "      <td>0.9418</td>\n",
       "      <td>0.285</td>\n",
       "    </tr>\n",
       "    <tr>\n",
       "      <th>qda</th>\n",
       "      <td>Quadratic Discriminant Analysis</td>\n",
       "      <td>0.9809</td>\n",
       "      <td>0.9996</td>\n",
       "      <td>0.9809</td>\n",
       "      <td>0.9811</td>\n",
       "      <td>0.9806</td>\n",
       "      <td>0.9385</td>\n",
       "      <td>0.9396</td>\n",
       "      <td>2.365</td>\n",
       "    </tr>\n",
       "    <tr>\n",
       "      <th>dt</th>\n",
       "      <td>Decision Tree Classifier</td>\n",
       "      <td>0.9745</td>\n",
       "      <td>0.9601</td>\n",
       "      <td>0.9745</td>\n",
       "      <td>0.9749</td>\n",
       "      <td>0.9744</td>\n",
       "      <td>0.9199</td>\n",
       "      <td>0.9206</td>\n",
       "      <td>2.325</td>\n",
       "    </tr>\n",
       "    <tr>\n",
       "      <th>knn</th>\n",
       "      <td>K Neighbors Classifier</td>\n",
       "      <td>0.9723</td>\n",
       "      <td>0.9933</td>\n",
       "      <td>0.9723</td>\n",
       "      <td>0.9776</td>\n",
       "      <td>0.9734</td>\n",
       "      <td>0.9206</td>\n",
       "      <td>0.9252</td>\n",
       "      <td>2.580</td>\n",
       "    </tr>\n",
       "    <tr>\n",
       "      <th>svm</th>\n",
       "      <td>SVM - Linear Kernel</td>\n",
       "      <td>0.9703</td>\n",
       "      <td>0.0000</td>\n",
       "      <td>0.9703</td>\n",
       "      <td>0.9710</td>\n",
       "      <td>0.9705</td>\n",
       "      <td>0.9084</td>\n",
       "      <td>0.9088</td>\n",
       "      <td>2.455</td>\n",
       "    </tr>\n",
       "    <tr>\n",
       "      <th>lr</th>\n",
       "      <td>Logistic Regression</td>\n",
       "      <td>0.9447</td>\n",
       "      <td>0.9940</td>\n",
       "      <td>0.9447</td>\n",
       "      <td>0.9595</td>\n",
       "      <td>0.9477</td>\n",
       "      <td>0.8485</td>\n",
       "      <td>0.8608</td>\n",
       "      <td>3.365</td>\n",
       "    </tr>\n",
       "    <tr>\n",
       "      <th>ridge</th>\n",
       "      <td>Ridge Classifier</td>\n",
       "      <td>0.9149</td>\n",
       "      <td>0.0000</td>\n",
       "      <td>0.9149</td>\n",
       "      <td>0.9477</td>\n",
       "      <td>0.9214</td>\n",
       "      <td>0.7862</td>\n",
       "      <td>0.8105</td>\n",
       "      <td>2.370</td>\n",
       "    </tr>\n",
       "    <tr>\n",
       "      <th>lda</th>\n",
       "      <td>Linear Discriminant Analysis</td>\n",
       "      <td>0.9150</td>\n",
       "      <td>0.9838</td>\n",
       "      <td>0.9150</td>\n",
       "      <td>0.9427</td>\n",
       "      <td>0.9207</td>\n",
       "      <td>0.7784</td>\n",
       "      <td>0.7991</td>\n",
       "      <td>0.185</td>\n",
       "    </tr>\n",
       "    <tr>\n",
       "      <th>dummy</th>\n",
       "      <td>Dummy Classifier</td>\n",
       "      <td>0.1996</td>\n",
       "      <td>0.5000</td>\n",
       "      <td>0.1996</td>\n",
       "      <td>0.0398</td>\n",
       "      <td>0.0664</td>\n",
       "      <td>0.0000</td>\n",
       "      <td>0.0000</td>\n",
       "      <td>0.185</td>\n",
       "    </tr>\n",
       "  </tbody>\n",
       "</table>\n",
       "</div>"
      ],
      "text/plain": [
       "                                    Model  Accuracy     AUC  Recall   Prec.  \\\n",
       "et                 Extra Trees Classifier    0.9957  0.9999  0.9957  0.9957   \n",
       "xgboost         Extreme Gradient Boosting    0.9915  0.9989  0.9915  0.9917   \n",
       "ada                  Ada Boost Classifier    0.9894  0.9983  0.9894  0.9897   \n",
       "lightgbm  Light Gradient Boosting Machine    0.9894  0.9985  0.9894  0.9894   \n",
       "rf               Random Forest Classifier    0.9873  0.9999  0.9873  0.9879   \n",
       "catboost              CatBoost Classifier    0.9872  0.9992  0.9872  0.9878   \n",
       "nb                            Naive Bayes    0.9809  0.9985  0.9809  0.9821   \n",
       "gbc          Gradient Boosting Classifier    0.9809  0.9948  0.9809  0.9816   \n",
       "qda       Quadratic Discriminant Analysis    0.9809  0.9996  0.9809  0.9811   \n",
       "dt               Decision Tree Classifier    0.9745  0.9601  0.9745  0.9749   \n",
       "knn                K Neighbors Classifier    0.9723  0.9933  0.9723  0.9776   \n",
       "svm                   SVM - Linear Kernel    0.9703  0.0000  0.9703  0.9710   \n",
       "lr                    Logistic Regression    0.9447  0.9940  0.9447  0.9595   \n",
       "ridge                    Ridge Classifier    0.9149  0.0000  0.9149  0.9477   \n",
       "lda          Linear Discriminant Analysis    0.9150  0.9838  0.9150  0.9427   \n",
       "dummy                    Dummy Classifier    0.1996  0.5000  0.1996  0.0398   \n",
       "\n",
       "              F1   Kappa     MCC  TT (Sec)  \n",
       "et        0.9957  0.9867  0.9867     0.335  \n",
       "xgboost   0.9915  0.9734  0.9738     0.200  \n",
       "ada       0.9894  0.9672  0.9674     0.215  \n",
       "lightgbm  0.9894  0.9668  0.9669     0.220  \n",
       "rf        0.9874  0.9610  0.9616     2.630  \n",
       "catboost  0.9874  0.9609  0.9613     2.350  \n",
       "nb        0.9811  0.9417  0.9429     2.380  \n",
       "gbc       0.9810  0.9413  0.9418     0.285  \n",
       "qda       0.9806  0.9385  0.9396     2.365  \n",
       "dt        0.9744  0.9199  0.9206     2.325  \n",
       "knn       0.9734  0.9206  0.9252     2.580  \n",
       "svm       0.9705  0.9084  0.9088     2.455  \n",
       "lr        0.9477  0.8485  0.8608     3.365  \n",
       "ridge     0.9214  0.7862  0.8105     2.370  \n",
       "lda       0.9207  0.7784  0.7991     0.185  \n",
       "dummy     0.0664  0.0000  0.0000     0.185  "
      ]
     },
     "execution_count": 11,
     "metadata": {},
     "output_type": "execute_result"
    }
   ],
   "source": [
    "cnt_models_df = pull()\n",
    "cnt_models_df"
   ]
  },
  {
   "cell_type": "code",
   "execution_count": 12,
   "id": "ff4cfa47c9cd6b74",
   "metadata": {
    "collapsed": false,
    "jupyter": {
     "outputs_hidden": false
    }
   },
   "outputs": [
    {
     "data": {
      "text/html": [],
      "text/plain": [
       "<IPython.core.display.HTML object>"
      ]
     },
     "metadata": {},
     "output_type": "display_data"
    },
    {
     "data": {
      "text/html": [
       "<style type=\"text/css\">\n",
       "#T_6f5d3_row2_col0, #T_6f5d3_row2_col1, #T_6f5d3_row2_col2, #T_6f5d3_row2_col3, #T_6f5d3_row2_col4, #T_6f5d3_row2_col5, #T_6f5d3_row2_col6 {\n",
       "  background: yellow;\n",
       "}\n",
       "</style>\n",
       "<table id=\"T_6f5d3\">\n",
       "  <thead>\n",
       "    <tr>\n",
       "      <th class=\"blank level0\" >&nbsp;</th>\n",
       "      <th id=\"T_6f5d3_level0_col0\" class=\"col_heading level0 col0\" >Accuracy</th>\n",
       "      <th id=\"T_6f5d3_level0_col1\" class=\"col_heading level0 col1\" >AUC</th>\n",
       "      <th id=\"T_6f5d3_level0_col2\" class=\"col_heading level0 col2\" >Recall</th>\n",
       "      <th id=\"T_6f5d3_level0_col3\" class=\"col_heading level0 col3\" >Prec.</th>\n",
       "      <th id=\"T_6f5d3_level0_col4\" class=\"col_heading level0 col4\" >F1</th>\n",
       "      <th id=\"T_6f5d3_level0_col5\" class=\"col_heading level0 col5\" >Kappa</th>\n",
       "      <th id=\"T_6f5d3_level0_col6\" class=\"col_heading level0 col6\" >MCC</th>\n",
       "    </tr>\n",
       "    <tr>\n",
       "      <th class=\"index_name level0\" >Fold</th>\n",
       "      <th class=\"blank col0\" >&nbsp;</th>\n",
       "      <th class=\"blank col1\" >&nbsp;</th>\n",
       "      <th class=\"blank col2\" >&nbsp;</th>\n",
       "      <th class=\"blank col3\" >&nbsp;</th>\n",
       "      <th class=\"blank col4\" >&nbsp;</th>\n",
       "      <th class=\"blank col5\" >&nbsp;</th>\n",
       "      <th class=\"blank col6\" >&nbsp;</th>\n",
       "    </tr>\n",
       "  </thead>\n",
       "  <tbody>\n",
       "    <tr>\n",
       "      <th id=\"T_6f5d3_level0_row0\" class=\"row_heading level0 row0\" >0</th>\n",
       "      <td id=\"T_6f5d3_row0_col0\" class=\"data row0 col0\" >0.9958</td>\n",
       "      <td id=\"T_6f5d3_row0_col1\" class=\"data row0 col1\" >1.0000</td>\n",
       "      <td id=\"T_6f5d3_row0_col2\" class=\"data row0 col2\" >0.9958</td>\n",
       "      <td id=\"T_6f5d3_row0_col3\" class=\"data row0 col3\" >0.9959</td>\n",
       "      <td id=\"T_6f5d3_row0_col4\" class=\"data row0 col4\" >0.9958</td>\n",
       "      <td id=\"T_6f5d3_row0_col5\" class=\"data row0 col5\" >0.9868</td>\n",
       "      <td id=\"T_6f5d3_row0_col6\" class=\"data row0 col6\" >0.9869</td>\n",
       "    </tr>\n",
       "    <tr>\n",
       "      <th id=\"T_6f5d3_level0_row1\" class=\"row_heading level0 row1\" >1</th>\n",
       "      <td id=\"T_6f5d3_row1_col0\" class=\"data row1 col0\" >0.9915</td>\n",
       "      <td id=\"T_6f5d3_row1_col1\" class=\"data row1 col1\" >0.9995</td>\n",
       "      <td id=\"T_6f5d3_row1_col2\" class=\"data row1 col2\" >0.9915</td>\n",
       "      <td id=\"T_6f5d3_row1_col3\" class=\"data row1 col3\" >0.9918</td>\n",
       "      <td id=\"T_6f5d3_row1_col4\" class=\"data row1 col4\" >0.9916</td>\n",
       "      <td id=\"T_6f5d3_row1_col5\" class=\"data row1 col5\" >0.9738</td>\n",
       "      <td id=\"T_6f5d3_row1_col6\" class=\"data row1 col6\" >0.9742</td>\n",
       "    </tr>\n",
       "    <tr>\n",
       "      <th id=\"T_6f5d3_level0_row2\" class=\"row_heading level0 row2\" >Mean</th>\n",
       "      <td id=\"T_6f5d3_row2_col0\" class=\"data row2 col0\" >0.9936</td>\n",
       "      <td id=\"T_6f5d3_row2_col1\" class=\"data row2 col1\" >0.9998</td>\n",
       "      <td id=\"T_6f5d3_row2_col2\" class=\"data row2 col2\" >0.9936</td>\n",
       "      <td id=\"T_6f5d3_row2_col3\" class=\"data row2 col3\" >0.9938</td>\n",
       "      <td id=\"T_6f5d3_row2_col4\" class=\"data row2 col4\" >0.9937</td>\n",
       "      <td id=\"T_6f5d3_row2_col5\" class=\"data row2 col5\" >0.9803</td>\n",
       "      <td id=\"T_6f5d3_row2_col6\" class=\"data row2 col6\" >0.9805</td>\n",
       "    </tr>\n",
       "    <tr>\n",
       "      <th id=\"T_6f5d3_level0_row3\" class=\"row_heading level0 row3\" >Std</th>\n",
       "      <td id=\"T_6f5d3_row3_col0\" class=\"data row3 col0\" >0.0021</td>\n",
       "      <td id=\"T_6f5d3_row3_col1\" class=\"data row3 col1\" >0.0002</td>\n",
       "      <td id=\"T_6f5d3_row3_col2\" class=\"data row3 col2\" >0.0021</td>\n",
       "      <td id=\"T_6f5d3_row3_col3\" class=\"data row3 col3\" >0.0020</td>\n",
       "      <td id=\"T_6f5d3_row3_col4\" class=\"data row3 col4\" >0.0021</td>\n",
       "      <td id=\"T_6f5d3_row3_col5\" class=\"data row3 col5\" >0.0065</td>\n",
       "      <td id=\"T_6f5d3_row3_col6\" class=\"data row3 col6\" >0.0064</td>\n",
       "    </tr>\n",
       "  </tbody>\n",
       "</table>\n"
      ],
      "text/plain": [
       "<pandas.io.formats.style.Styler at 0x25f48905e40>"
      ]
     },
     "metadata": {},
     "output_type": "display_data"
    },
    {
     "data": {
      "text/html": [],
      "text/plain": [
       "<IPython.core.display.HTML object>"
      ]
     },
     "metadata": {},
     "output_type": "display_data"
    }
   ],
   "source": [
    "clf = create_model('et', fold = 2)"
   ]
  },
  {
   "cell_type": "code",
   "execution_count": 13,
   "id": "01330a95-ea76-4143-800a-a497090538ca",
   "metadata": {},
   "outputs": [
    {
     "data": {
      "text/html": [],
      "text/plain": [
       "<IPython.core.display.HTML object>"
      ]
     },
     "metadata": {},
     "output_type": "display_data"
    },
    {
     "data": {
      "text/html": [
       "<style type=\"text/css\">\n",
       "#T_0a2dc_row2_col0, #T_0a2dc_row2_col1, #T_0a2dc_row2_col2, #T_0a2dc_row2_col3, #T_0a2dc_row2_col4, #T_0a2dc_row2_col5, #T_0a2dc_row2_col6 {\n",
       "  background: yellow;\n",
       "}\n",
       "</style>\n",
       "<table id=\"T_0a2dc\">\n",
       "  <thead>\n",
       "    <tr>\n",
       "      <th class=\"blank level0\" >&nbsp;</th>\n",
       "      <th id=\"T_0a2dc_level0_col0\" class=\"col_heading level0 col0\" >Accuracy</th>\n",
       "      <th id=\"T_0a2dc_level0_col1\" class=\"col_heading level0 col1\" >AUC</th>\n",
       "      <th id=\"T_0a2dc_level0_col2\" class=\"col_heading level0 col2\" >Recall</th>\n",
       "      <th id=\"T_0a2dc_level0_col3\" class=\"col_heading level0 col3\" >Prec.</th>\n",
       "      <th id=\"T_0a2dc_level0_col4\" class=\"col_heading level0 col4\" >F1</th>\n",
       "      <th id=\"T_0a2dc_level0_col5\" class=\"col_heading level0 col5\" >Kappa</th>\n",
       "      <th id=\"T_0a2dc_level0_col6\" class=\"col_heading level0 col6\" >MCC</th>\n",
       "    </tr>\n",
       "    <tr>\n",
       "      <th class=\"index_name level0\" >Fold</th>\n",
       "      <th class=\"blank col0\" >&nbsp;</th>\n",
       "      <th class=\"blank col1\" >&nbsp;</th>\n",
       "      <th class=\"blank col2\" >&nbsp;</th>\n",
       "      <th class=\"blank col3\" >&nbsp;</th>\n",
       "      <th class=\"blank col4\" >&nbsp;</th>\n",
       "      <th class=\"blank col5\" >&nbsp;</th>\n",
       "      <th class=\"blank col6\" >&nbsp;</th>\n",
       "    </tr>\n",
       "  </thead>\n",
       "  <tbody>\n",
       "    <tr>\n",
       "      <th id=\"T_0a2dc_level0_row0\" class=\"row_heading level0 row0\" >0</th>\n",
       "      <td id=\"T_0a2dc_row0_col0\" class=\"data row0 col0\" >0.9915</td>\n",
       "      <td id=\"T_0a2dc_row0_col1\" class=\"data row0 col1\" >0.9997</td>\n",
       "      <td id=\"T_0a2dc_row0_col2\" class=\"data row0 col2\" >0.9915</td>\n",
       "      <td id=\"T_0a2dc_row0_col3\" class=\"data row0 col3\" >0.9919</td>\n",
       "      <td id=\"T_0a2dc_row0_col4\" class=\"data row0 col4\" >0.9916</td>\n",
       "      <td id=\"T_0a2dc_row0_col5\" class=\"data row0 col5\" >0.9739</td>\n",
       "      <td id=\"T_0a2dc_row0_col6\" class=\"data row0 col6\" >0.9742</td>\n",
       "    </tr>\n",
       "    <tr>\n",
       "      <th id=\"T_0a2dc_level0_row1\" class=\"row_heading level0 row1\" >1</th>\n",
       "      <td id=\"T_0a2dc_row1_col0\" class=\"data row1 col0\" >0.9915</td>\n",
       "      <td id=\"T_0a2dc_row1_col1\" class=\"data row1 col1\" >1.0000</td>\n",
       "      <td id=\"T_0a2dc_row1_col2\" class=\"data row1 col2\" >0.9915</td>\n",
       "      <td id=\"T_0a2dc_row1_col3\" class=\"data row1 col3\" >0.9918</td>\n",
       "      <td id=\"T_0a2dc_row1_col4\" class=\"data row1 col4\" >0.9916</td>\n",
       "      <td id=\"T_0a2dc_row1_col5\" class=\"data row1 col5\" >0.9738</td>\n",
       "      <td id=\"T_0a2dc_row1_col6\" class=\"data row1 col6\" >0.9742</td>\n",
       "    </tr>\n",
       "    <tr>\n",
       "      <th id=\"T_0a2dc_level0_row2\" class=\"row_heading level0 row2\" >Mean</th>\n",
       "      <td id=\"T_0a2dc_row2_col0\" class=\"data row2 col0\" >0.9915</td>\n",
       "      <td id=\"T_0a2dc_row2_col1\" class=\"data row2 col1\" >0.9998</td>\n",
       "      <td id=\"T_0a2dc_row2_col2\" class=\"data row2 col2\" >0.9915</td>\n",
       "      <td id=\"T_0a2dc_row2_col3\" class=\"data row2 col3\" >0.9919</td>\n",
       "      <td id=\"T_0a2dc_row2_col4\" class=\"data row2 col4\" >0.9916</td>\n",
       "      <td id=\"T_0a2dc_row2_col5\" class=\"data row2 col5\" >0.9738</td>\n",
       "      <td id=\"T_0a2dc_row2_col6\" class=\"data row2 col6\" >0.9742</td>\n",
       "    </tr>\n",
       "    <tr>\n",
       "      <th id=\"T_0a2dc_level0_row3\" class=\"row_heading level0 row3\" >Std</th>\n",
       "      <td id=\"T_0a2dc_row3_col0\" class=\"data row3 col0\" >0.0000</td>\n",
       "      <td id=\"T_0a2dc_row3_col1\" class=\"data row3 col1\" >0.0002</td>\n",
       "      <td id=\"T_0a2dc_row3_col2\" class=\"data row3 col2\" >0.0000</td>\n",
       "      <td id=\"T_0a2dc_row3_col3\" class=\"data row3 col3\" >0.0000</td>\n",
       "      <td id=\"T_0a2dc_row3_col4\" class=\"data row3 col4\" >0.0000</td>\n",
       "      <td id=\"T_0a2dc_row3_col5\" class=\"data row3 col5\" >0.0000</td>\n",
       "      <td id=\"T_0a2dc_row3_col6\" class=\"data row3 col6\" >0.0000</td>\n",
       "    </tr>\n",
       "  </tbody>\n",
       "</table>\n"
      ],
      "text/plain": [
       "<pandas.io.formats.style.Styler at 0x25f48b44550>"
      ]
     },
     "metadata": {},
     "output_type": "display_data"
    },
    {
     "data": {
      "text/html": [],
      "text/plain": [
       "<IPython.core.display.HTML object>"
      ]
     },
     "metadata": {},
     "output_type": "display_data"
    },
    {
     "name": "stdout",
     "output_type": "stream",
     "text": [
      "Fitting 2 folds for each of 10 candidates, totalling 20 fits\n",
      "Original model was better than the tuned model, hence it will be returned. NOTE: The display metrics are for the tuned model (not the original one).\n"
     ]
    }
   ],
   "source": [
    "tuned_clf = tune_model(clf, optimize = 'F1', fold = 2)"
   ]
  },
  {
   "cell_type": "code",
   "execution_count": 14,
   "id": "355d9515-a517-4374-9aac-f04e2052b9b5",
   "metadata": {},
   "outputs": [
    {
     "name": "stdout",
     "output_type": "stream",
     "text": [
      "Total of features:  10\n"
     ]
    }
   ],
   "source": [
    "print(\"Total of features: \", len(tuned_clf.feature_importances_))"
   ]
  },
  {
   "cell_type": "code",
   "execution_count": 15,
   "id": "d1c269dc-a554-40cb-8dcb-933c4b4ccb86",
   "metadata": {},
   "outputs": [
    {
     "data": {
      "application/vnd.jupyter.widget-view+json": {
       "model_id": "5aa0353ad69c46f4ac409db55277b653",
       "version_major": 2,
       "version_minor": 0
      },
      "text/plain": [
       "interactive(children=(ToggleButtons(description='Plot Type:', icons=('',), options=(('Pipeline Plot', 'pipelin…"
      ]
     },
     "metadata": {},
     "output_type": "display_data"
    }
   ],
   "source": [
    "evaluate_model(tuned_clf)"
   ]
  },
  {
   "cell_type": "code",
   "execution_count": 16,
   "id": "f23047fb-a225-41f1-aa99-964d3504283c",
   "metadata": {},
   "outputs": [],
   "source": [
    "model_final = finalize_model(tuned_clf)"
   ]
  },
  {
   "cell_type": "code",
   "execution_count": 17,
   "id": "fc0d77da-18a1-4504-92b8-314292d32f42",
   "metadata": {},
   "outputs": [
    {
     "name": "stdout",
     "output_type": "stream",
     "text": [
      "Transformation Pipeline and Model Successfully Saved\n"
     ]
    },
    {
     "data": {
      "text/plain": [
       "(Pipeline(memory=Memory(location=None),\n",
       "          steps=[('label_encoding',\n",
       "                  TransformerWrapperWithInverse(exclude=None, include=None,\n",
       "                                                transformer=LabelEncoder())),\n",
       "                 ('numerical_imputer',\n",
       "                  TransformerWrapper(exclude=None,\n",
       "                                     include=['linAccX_mean', 'linAccX_std',\n",
       "                                              'linAccX_median',\n",
       "                                              'linAccX_skewness',\n",
       "                                              'linAccX_kurtosis', 'linAccY_mean',\n",
       "                                              'linAccY_std', 'linAccY_median',\n",
       "                                              'linAccY_s...\n",
       "                  ExtraTreesClassifier(bootstrap=False, ccp_alpha=0.0,\n",
       "                                       class_weight=None, criterion='gini',\n",
       "                                       max_depth=None, max_features='sqrt',\n",
       "                                       max_leaf_nodes=None, max_samples=None,\n",
       "                                       min_impurity_decrease=0.0,\n",
       "                                       min_samples_leaf=1, min_samples_split=2,\n",
       "                                       min_weight_fraction_leaf=0.0,\n",
       "                                       n_estimators=100, n_jobs=-1,\n",
       "                                       oob_score=False, random_state=7601,\n",
       "                                       verbose=0, warm_start=False))],\n",
       "          verbose=False),\n",
       " 'DUMBBELL.pkl')"
      ]
     },
     "execution_count": 17,
     "metadata": {},
     "output_type": "execute_result"
    }
   ],
   "source": [
    "save_model(model_final, 'DUMBBELL')"
   ]
  },
  {
   "cell_type": "code",
   "execution_count": null,
   "id": "665690c7-11f1-48cd-a466-932a89f4473f",
   "metadata": {},
   "outputs": [],
   "source": []
  },
  {
   "cell_type": "markdown",
   "id": "eb863a98",
   "metadata": {},
   "source": [
    "## REGULARITZATION\n",
    "\n",
    "Documentation: https://catboost.ai/en/docs/concepts/python-reference_catboost"
   ]
  },
  {
   "cell_type": "code",
   "execution_count": null,
   "id": "741e61d2",
   "metadata": {},
   "outputs": [],
   "source": [
    "params_grid = {\n",
    "    'iterations': [100, 200, 300, 400],\n",
    "    'learning_rate': [0.01, 0.05, 0.1, 0.2],\n",
    "    'l2_leaf_reg': [1, 3, 5, 7, 9],\n",
    "    'depth': [3, 5, 7, 9],  # Regularization by controlling tree depth\n",
    "}"
   ]
  },
  {
   "cell_type": "code",
   "execution_count": null,
   "id": "48af4c8e",
   "metadata": {},
   "outputs": [],
   "source": [
    "# Tune the model with regularization and other hyperparameters\n",
    "tuned_clf = tune_model(clf, custom_grid=params_grid, optimize='F1', fold=2)"
   ]
  },
  {
   "cell_type": "code",
   "execution_count": null,
   "id": "1503658fa26b69b7",
   "metadata": {
    "collapsed": false,
    "jupyter": {
     "outputs_hidden": false
    }
   },
   "outputs": [],
   "source": [
    "#tuned_clf = tune_model(clf, optimize = 'F1', fold = 2)"
   ]
  },
  {
   "cell_type": "code",
   "execution_count": null,
   "id": "fb6da10f-fcbc-44e8-8fef-fcb3abc7e08a",
   "metadata": {},
   "outputs": [],
   "source": [
    "print(\"Total of features: \", len(tuned_clf.feature_importances_))"
   ]
  },
  {
   "cell_type": "code",
   "execution_count": null,
   "id": "ea25df2af832bb03",
   "metadata": {},
   "outputs": [],
   "source": [
    "evaluate_model(tuned_clf)"
   ]
  },
  {
   "cell_type": "markdown",
   "id": "8445ac7f34adee63",
   "metadata": {},
   "source": [
    "# Save Model"
   ]
  },
  {
   "cell_type": "code",
   "execution_count": null,
   "id": "4c95b94d91007a83",
   "metadata": {
    "collapsed": false,
    "jupyter": {
     "outputs_hidden": false
    }
   },
   "outputs": [],
   "source": [
    "# We finalize model (we train on the whole set)\n",
    "model_final = finalize_model(tuned_clf)"
   ]
  },
  {
   "cell_type": "code",
   "execution_count": null,
   "id": "c770f8596ef61b84",
   "metadata": {
    "collapsed": false,
    "jupyter": {
     "outputs_hidden": false
    }
   },
   "outputs": [],
   "source": [
    "# Export the PyCaret model\n",
    "save_model(model_final, 'DUMBBELL')"
   ]
  },
  {
   "cell_type": "markdown",
   "id": "e7643473c91700d6",
   "metadata": {},
   "source": [
    "# Use in Production"
   ]
  },
  {
   "cell_type": "code",
   "execution_count": null,
   "id": "6ab72fbb31174d39",
   "metadata": {
    "collapsed": false,
    "jupyter": {
     "outputs_hidden": false
    }
   },
   "outputs": [],
   "source": [
    "# Load the model\n",
    "pipeline = load_model(model_name=\"squats_traditional\")"
   ]
  },
  {
   "cell_type": "code",
   "execution_count": null,
   "id": "88a32c18e37564bd",
   "metadata": {
    "collapsed": false,
    "jupyter": {
     "outputs_hidden": false
    }
   },
   "outputs": [],
   "source": [
    "# Utilizar modelo\n",
    "prediction = predict_model(pipeline, data_prod, raw_score=True)"
   ]
  },
  {
   "cell_type": "code",
   "execution_count": null,
   "id": "fcacc0c76701d9ac",
   "metadata": {
    "collapsed": false,
    "jupyter": {
     "outputs_hidden": false
    }
   },
   "outputs": [],
   "source": [
    "prediction"
   ]
  },
  {
   "cell_type": "markdown",
   "id": "bb30dfd1aefca63e",
   "metadata": {},
   "source": [
    "# Scores"
   ]
  },
  {
   "cell_type": "code",
   "execution_count": null,
   "id": "3340309baf076124",
   "metadata": {
    "collapsed": false,
    "jupyter": {
     "outputs_hidden": false
    }
   },
   "outputs": [],
   "source": [
    "true_labels = prediction[\"target\"]\n",
    "predictions = prediction[\"prediction_label\"]"
   ]
  },
  {
   "cell_type": "code",
   "execution_count": null,
   "id": "9842529f705dc0d",
   "metadata": {
    "collapsed": false,
    "jupyter": {
     "outputs_hidden": false
    }
   },
   "outputs": [],
   "source": [
    "from sklearn.metrics import roc_auc_score\n",
    "\n",
    "predictions_prob = prediction[\"prediction_score_SQUAT\"]\n",
    "binary_true_labels = true_labels.map({\"BRUPEE\": 1, \"NO_EXERCISE\": 0})\n",
    "auc_score = roc_auc_score(binary_true_labels, predictions_prob)\n",
    "\n",
    "print(f\"AUC: {auc_score}\")"
   ]
  }
 ],
 "metadata": {
  "kernelspec": {
   "display_name": "Python 3 (ipykernel)",
   "language": "python",
   "name": "python3"
  },
  "language_info": {
   "codemirror_mode": {
    "name": "ipython",
    "version": 3
   },
   "file_extension": ".py",
   "mimetype": "text/x-python",
   "name": "python",
   "nbconvert_exporter": "python",
   "pygments_lexer": "ipython3",
   "version": "3.10.13"
  }
 },
 "nbformat": 4,
 "nbformat_minor": 5
}
