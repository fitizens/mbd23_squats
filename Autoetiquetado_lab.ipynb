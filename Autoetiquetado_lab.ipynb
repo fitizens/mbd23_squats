{
 "cells": [
  {
   "cell_type": "code",
   "execution_count": null,
   "id": "initial_id",
   "metadata": {
    "ExecuteTime": {
     "end_time": "2023-12-19T14:42:37.429442800Z",
     "start_time": "2023-12-19T14:42:34.354498600Z"
    }
   },
   "outputs": [],
   "source": [
    "import pandas as pd\n",
    "import os\n",
    "from sklearn.preprocessing import LabelEncoder\n",
    "import warnings\n",
    "import numpy as np\n",
    "from custom_libraries.load_data_for_label import load_data_for_label\n",
    "from custom_libraries.merge_data import merge_data\n",
    "from pycaret.classification import *\n",
    "from custom_libraries.find_peaks import find_peaks_cust"
   ]
  },
  {
   "cell_type": "code",
   "execution_count": null,
   "id": "c3e97d70-29a9-4cb0-9617-d24d35d5b736",
   "metadata": {
    "tags": []
   },
   "outputs": [],
   "source": [
    "pip install pycaret"
   ]
  },
  {
   "cell_type": "markdown",
   "id": "7eb5ff2cd97f8927",
   "metadata": {},
   "source": [
    "# Load Test Data"
   ]
  },
  {
   "cell_type": "code",
   "execution_count": null,
   "id": "1423cb26d2a7878",
   "metadata": {
    "ExecuteTime": {
     "end_time": "2023-12-19T14:58:24.806839900Z",
     "start_time": "2023-12-19T14:58:17.630569400Z"
    },
    "collapsed": false,
    "jupyter": {
     "outputs_hidden": false
    }
   },
   "outputs": [],
   "source": [
    "folder_path = \"LABELED\"\n",
    "os.makedirs(folder_path, exist_ok=True)\n",
    "file_names = []\n",
    "for name in os.listdir(folder_path):\n",
    "    file_path = f\"{folder_path}/{name}\"\n",
    "    file_names.append(file_path)\n",
    "#Ahora tengo que especificar mis features \n",
    "signals = [\"accX\", \"accY\", \"accZ\", \"gyroX\", \"gyroY\", \"gyroZ\", \"magnX\", \"magnY\", \"magnZ\", \"linAccX\", \"linAccY\", \"linAccZ\"]\n",
    "data = load_data_for_label(filelist=file_names[0:2], signals= signals)\n",
    "df= pd.concat(data)"
   ]
  },
  {
   "cell_type": "code",
   "execution_count": null,
   "id": "717fd6dc5511f1dc",
   "metadata": {
    "ExecuteTime": {
     "end_time": "2023-12-19T14:58:27.097749900Z",
     "start_time": "2023-12-19T14:58:27.073223800Z"
    },
    "collapsed": false,
    "jupyter": {
     "outputs_hidden": false
    }
   },
   "outputs": [],
   "source": [
    "df.shape"
   ]
  },
  {
   "cell_type": "code",
   "execution_count": null,
   "id": "e5e704da88841815",
   "metadata": {
    "ExecuteTime": {
     "end_time": "2023-12-19T14:58:29.253022200Z",
     "start_time": "2023-12-19T14:58:29.235799800Z"
    },
    "collapsed": false,
    "jupyter": {
     "outputs_hidden": false
    }
   },
   "outputs": [],
   "source": [
    "#X = df.drop(['peaks', 'first_sample','last_sample', 'first_sample_closest_peak', \n",
    " #            'last_sample_closest_peak','exercise','exercising_periods'], axis=1)\n",
    "X = df.copy()\n",
    "X.columns"
   ]
  },
  {
   "cell_type": "markdown",
   "id": "17613bd1071de9a0",
   "metadata": {},
   "source": [
    "# Auxiliary Functions"
   ]
  },
  {
   "cell_type": "code",
   "execution_count": null,
   "id": "bf1211a413f6aaa",
   "metadata": {
    "ExecuteTime": {
     "end_time": "2023-12-19T14:59:37.850564300Z",
     "start_time": "2023-12-19T14:59:37.836405100Z"
    },
    "collapsed": false,
    "jupyter": {
     "outputs_hidden": false
    }
   },
   "outputs": [],
   "source": [
    "def prepare_data(chunk_df):\n",
    "    signals = [\"accX\", \"accY\", \"accZ\", \"gyroX\", \"gyroY\", \"gyroZ\", \"magnX\", \"magnY\", \"magnZ\", \"linAccX\", \"linAccY\", \"linAccZ\"]\n",
    "    stats_dict = {}\n",
    "    series = chunk_df[signals]\n",
    "    for column in series.columns:\n",
    "        mean = series[column].mean()\n",
    "        std = series[column].std()\n",
    "        median = series[column].median()\n",
    "    \n",
    "        stats_dict[f\"{column}_mean\"] = mean\n",
    "        stats_dict[f\"{column}_std\"] = std\n",
    "        stats_dict[f\"{column}_median\"] = median\n",
    "        \n",
    "    return pd.DataFrame.from_dict(stats_dict, orient=\"index\").T"
   ]
  },
  {
   "cell_type": "markdown",
   "id": "1d98dc605e0c5698",
   "metadata": {},
   "source": [
    "# Load Model"
   ]
  },
  {
   "cell_type": "code",
   "execution_count": null,
   "id": "67398d58065613f7",
   "metadata": {
    "ExecuteTime": {
     "end_time": "2023-12-19T14:58:34.420956600Z",
     "start_time": "2023-12-19T14:58:34.360995900Z"
    },
    "collapsed": false,
    "jupyter": {
     "outputs_hidden": false
    }
   },
   "outputs": [],
   "source": [
    "# Load the model\n",
    "pipeline = load_model(model_name=\"squats_traditional\")"
   ]
  },
  {
   "cell_type": "code",
   "execution_count": null,
   "id": "a9b7d4823cb872b4",
   "metadata": {
    "ExecuteTime": {
     "end_time": "2023-12-19T15:15:13.966986Z",
     "start_time": "2023-12-19T15:15:13.694657Z"
    },
    "collapsed": false,
    "jupyter": {
     "outputs_hidden": false
    }
   },
   "outputs": [],
   "source": [
    "ventana = prepare_data(X.iloc[0:51])\n",
    "prediction = predict_model(pipeline, ventana, raw_score=True)\n",
    "prediction.prediction_label.iloc[0]"
   ]
  },
  {
   "cell_type": "markdown",
   "id": "8f2aa90e29b8d7",
   "metadata": {},
   "source": [
    "# Check Data"
   ]
  },
  {
   "cell_type": "code",
   "execution_count": null,
   "id": "5fc0a731-2c61-4b77-b055-73ef7db37f14",
   "metadata": {},
   "outputs": [],
   "source": [
    "nuevo_df_predicciones = pd.DataFrame()\n",
    "nuevo_df_list = []  # Lista para almacenar las filas\n",
    "\n",
    "for idx, fila in df.iterrows():\n",
    "    warnings.filterwarnings('ignore')\n",
    "    nuevo_df_list.append(fila.copy())  # Añadir la fila a la lista\n",
    "    \n",
    "    if pd.notna(fila['peaks']):\n",
    "        nuevo_df = pd.DataFrame(nuevo_df_list)  # Convertir la lista en DataFrame\n",
    "        X1 = prepare_data(nuevo_df)\n",
    "        prediction = predict_model(pipeline, X1, raw_score=True)\n",
    "        y_pred = prediction.prediction_label.iloc[0]\n",
    "        X1['start'] = nuevo_df.index[0]\n",
    "        X1['end'] = nuevo_df.index[-1]\n",
    "        X1['prediccion'] = y_pred\n",
    "        nuevo_df_predicciones = pd.concat([nuevo_df_predicciones, X1], ignore_index=True)\n",
    "        \n",
    "        # Limpiar la lista para la próxima ventana\n",
    "        nuevo_df_list = [fila.copy()]"
   ]
  },
  {
   "cell_type": "code",
   "execution_count": null,
   "id": "f56d4c3f4aff7cd1",
   "metadata": {
    "ExecuteTime": {
     "end_time": "2023-12-19T15:29:00.414456200Z",
     "start_time": "2023-12-19T15:29:00.393890200Z"
    },
    "collapsed": false,
    "jupyter": {
     "outputs_hidden": false
    }
   },
   "outputs": [],
   "source": [
    "nuevo_df_predicciones.shape"
   ]
  },
  {
   "cell_type": "code",
   "execution_count": null,
   "id": "8d7378f1d86d68de",
   "metadata": {
    "ExecuteTime": {
     "end_time": "2023-12-19T15:20:21.248558300Z",
     "start_time": "2023-12-19T15:20:21.209083Z"
    },
    "collapsed": false,
    "jupyter": {
     "outputs_hidden": false
    }
   },
   "outputs": [],
   "source": [
    "nuevo_df_predicciones.head()"
   ]
  },
  {
   "cell_type": "code",
   "execution_count": null,
   "id": "97389856faa1507b",
   "metadata": {
    "ExecuteTime": {
     "end_time": "2023-12-19T15:20:32.745935700Z",
     "start_time": "2023-12-19T15:20:32.687557900Z"
    },
    "collapsed": false,
    "jupyter": {
     "outputs_hidden": false
    }
   },
   "outputs": [],
   "source": [
    "np.unique(nuevo_df_predicciones.prediccion,return_counts=True)"
   ]
  },
  {
   "cell_type": "code",
   "execution_count": null,
   "id": "abc38de3e07594b",
   "metadata": {
    "ExecuteTime": {
     "end_time": "2023-12-19T15:21:27.869020400Z",
     "start_time": "2023-12-19T15:21:27.824615900Z"
    },
    "collapsed": false,
    "jupyter": {
     "outputs_hidden": false
    }
   },
   "outputs": [],
   "source": [
    "squats_detection = nuevo_df_predicciones[nuevo_df_predicciones.prediccion == 'SQUAT'][['start', 'end', 'prediccion']]\n",
    "squats_detection"
   ]
  },
  {
   "cell_type": "code",
   "execution_count": null,
   "id": "b5ddc9a84e0bf7b6",
   "metadata": {
    "ExecuteTime": {
     "end_time": "2023-12-19T15:22:38.896755Z",
     "start_time": "2023-12-19T15:22:38.861964700Z"
    },
    "collapsed": false,
    "jupyter": {
     "outputs_hidden": false
    }
   },
   "outputs": [],
   "source": [
    "squats_detection = nuevo_df_predicciones[nuevo_df_predicciones.prediccion == ('NO_EXERCISE'\n",
    "                                                                              ''\n",
    "                                                                              '')][['start', 'end', 'prediccion']]\n",
    "squats_detection"
   ]
  },
  {
   "cell_type": "code",
   "execution_count": null,
   "id": "d9e4343f-b259-41d6-92d4-9bf44f67127d",
   "metadata": {},
   "outputs": [],
   "source": []
  }
 ],
 "metadata": {
  "kernelspec": {
   "display_name": "Python 3 (ipykernel)",
   "language": "python",
   "name": "python3"
  },
  "language_info": {
   "codemirror_mode": {
    "name": "ipython",
    "version": 3
   },
   "file_extension": ".py",
   "mimetype": "text/x-python",
   "name": "python",
   "nbconvert_exporter": "python",
   "pygments_lexer": "ipython3",
   "version": "3.10.13"
  }
 },
 "nbformat": 4,
 "nbformat_minor": 5
}
