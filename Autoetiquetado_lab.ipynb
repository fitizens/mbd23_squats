{
 "cells": [
  {
   "cell_type": "code",
   "execution_count": 9,
   "id": "initial_id",
   "metadata": {
    "collapsed": true,
    "ExecuteTime": {
     "end_time": "2023-12-19T14:42:37.429442800Z",
     "start_time": "2023-12-19T14:42:34.354498600Z"
    }
   },
   "outputs": [],
   "source": [
    "from Autolabeler import workout\n",
    "import pandas as pd\n",
    "import os\n",
    "from sklearn.preprocessing import LabelEncoder\n",
    "import warnings\n",
    "import numpy as np\n",
    "from pycaret.classification import *"
   ]
  },
  {
   "cell_type": "markdown",
   "source": [
    "# Load Test Data"
   ],
   "metadata": {
    "collapsed": false
   },
   "id": "7eb5ff2cd97f8927"
  },
  {
   "cell_type": "code",
   "execution_count": 15,
   "outputs": [],
   "source": [
    "folder_path = \"LABELED\"\n",
    "os.makedirs(folder_path, exist_ok=True)\n",
    "file_names = []\n",
    "for name in os.listdir(folder_path):\n",
    "    file_path = f\"{folder_path}/{name}\"\n",
    "    file_names.append(file_path)\n",
    "#Ahora tengo que especificar mis features \n",
    "signals = [\"accX\", \"accY\", \"accZ\", \"gyroX\", \"gyroY\", \"gyroZ\", \"magnX\", \"magnY\", \"magnZ\", \"linAccX\", \"linAccY\", \"linAccZ\"]\n",
    "data = workout(filelist=file_names, signals= signals)\n",
    "df= pd.concat(data)"
   ],
   "metadata": {
    "collapsed": false,
    "ExecuteTime": {
     "end_time": "2023-12-19T14:58:24.806839900Z",
     "start_time": "2023-12-19T14:58:17.630569400Z"
    }
   },
   "id": "1423cb26d2a7878"
  },
  {
   "cell_type": "code",
   "execution_count": 16,
   "outputs": [
    {
     "data": {
      "text/plain": "(164840, 31)"
     },
     "execution_count": 16,
     "metadata": {},
     "output_type": "execute_result"
    }
   ],
   "source": [
    "df.shape"
   ],
   "metadata": {
    "collapsed": false,
    "ExecuteTime": {
     "end_time": "2023-12-19T14:58:27.097749900Z",
     "start_time": "2023-12-19T14:58:27.073223800Z"
    }
   },
   "id": "717fd6dc5511f1dc"
  },
  {
   "cell_type": "code",
   "execution_count": 17,
   "outputs": [
    {
     "data": {
      "text/plain": "Index(['accX', 'accY', 'accZ', 'gyroX', 'gyroY', 'gyroZ', 'magnX', 'magnY',\n       'magnZ', 'linAccX', 'linAccY', 'linAccZ', 'accX_mod', 'accY_mod',\n       'accZ_mod', 'gyroX_mod', 'gyroY_mod', 'gyroZ_mod', 'magnX_mod',\n       'magnY_mod', 'magnZ_mod', 'linAccX_mod', 'linAccY_mod', 'linAccZ_mod'],\n      dtype='object')"
     },
     "execution_count": 17,
     "metadata": {},
     "output_type": "execute_result"
    }
   ],
   "source": [
    "X = df.drop(['peaks', 'first_sample','last_sample', 'first_sample_closest_peak', \n",
    "             'last_sample_closest_peak','exercise','exercising_periods'], axis=1)\n",
    "X.columns"
   ],
   "metadata": {
    "collapsed": false,
    "ExecuteTime": {
     "end_time": "2023-12-19T14:58:29.253022200Z",
     "start_time": "2023-12-19T14:58:29.235799800Z"
    }
   },
   "id": "e5e704da88841815"
  },
  {
   "cell_type": "markdown",
   "source": [
    "# Auxiliary Functions"
   ],
   "metadata": {
    "collapsed": false
   },
   "id": "17613bd1071de9a0"
  },
  {
   "cell_type": "code",
   "execution_count": 26,
   "outputs": [],
   "source": [
    "def prepare_data(chunk_df):\n",
    "    signals = [\"accX\", \"accY\", \"accZ\", \"gyroX\", \"gyroY\", \"gyroZ\", \"magnX\", \"magnY\", \"magnZ\", \"linAccX\", \"linAccY\", \"linAccZ\"]\n",
    "    stats_dict = {}\n",
    "    series = chunk_df[signals]\n",
    "    for column in series.columns:\n",
    "        mean = series[column].mean()\n",
    "        std = series[column].std()\n",
    "        median = series[column].median()\n",
    "    \n",
    "        stats_dict[f\"{column}_mean\"] = mean\n",
    "        stats_dict[f\"{column}_std\"] = std\n",
    "        stats_dict[f\"{column}_median\"] = median\n",
    "        \n",
    "    return pd.DataFrame.from_dict(stats_dict, orient=\"index\").T"
   ],
   "metadata": {
    "collapsed": false,
    "ExecuteTime": {
     "end_time": "2023-12-19T14:59:37.850564300Z",
     "start_time": "2023-12-19T14:59:37.836405100Z"
    }
   },
   "id": "bf1211a413f6aaa"
  },
  {
   "cell_type": "markdown",
   "source": [
    "# Load Model"
   ],
   "metadata": {
    "collapsed": false
   },
   "id": "1d98dc605e0c5698"
  },
  {
   "cell_type": "code",
   "execution_count": 19,
   "outputs": [
    {
     "name": "stdout",
     "output_type": "stream",
     "text": [
      "Transformation Pipeline and Model Successfully Loaded\n"
     ]
    }
   ],
   "source": [
    "# Load the model\n",
    "pipeline = load_model(model_name=\"squats_traditional\")"
   ],
   "metadata": {
    "collapsed": false,
    "ExecuteTime": {
     "end_time": "2023-12-19T14:58:34.420956600Z",
     "start_time": "2023-12-19T14:58:34.360995900Z"
    }
   },
   "id": "67398d58065613f7"
  },
  {
   "cell_type": "code",
   "execution_count": 43,
   "outputs": [
    {
     "data": {
      "text/plain": "'NO_EXERCISE'"
     },
     "execution_count": 43,
     "metadata": {},
     "output_type": "execute_result"
    }
   ],
   "source": [
    "ventana = prepare_data(X.iloc[0:170])\n",
    "prediction = predict_model(pipeline, ventana, raw_score=True)\n",
    "prediction.prediction_label.iloc[0]"
   ],
   "metadata": {
    "collapsed": false,
    "ExecuteTime": {
     "end_time": "2023-12-19T15:15:13.966986Z",
     "start_time": "2023-12-19T15:15:13.694657Z"
    }
   },
   "id": "a9b7d4823cb872b4"
  },
  {
   "cell_type": "markdown",
   "source": [
    "# Check Data"
   ],
   "metadata": {
    "collapsed": false
   },
   "id": "8f2aa90e29b8d7"
  },
  {
   "cell_type": "code",
   "execution_count": 45,
   "outputs": [],
   "source": [
    "tamano_ventana = 170 \n",
    "nuevo_df = pd.DataFrame()\n",
    "nuevo_df_predicciones = pd.DataFrame()\n",
    "\n",
    "for i in range(0, len(X) - tamano_ventana + 1, tamano_ventana):\n",
    "    warnings.filterwarnings(\"ignore\")\n",
    "    ventana = X.iloc[i:i + tamano_ventana]\n",
    "    \n",
    "    X1 = prepare_data(ventana)\n",
    "    prediction = predict_model(pipeline, X1, raw_score=True)\n",
    "    y_pred = prediction.prediction_label.iloc[0]\n",
    "    X1['start'] = ventana.index[0]\n",
    "    X1['end'] = ventana.index[-1]\n",
    "    X1['prediccion'] = y_pred\n",
    "    nuevo_df_predicciones = pd.concat([nuevo_df_predicciones, X1], ignore_index=True)"
   ],
   "metadata": {
    "collapsed": false,
    "ExecuteTime": {
     "end_time": "2023-12-19T15:19:40.602081700Z",
     "start_time": "2023-12-19T15:15:49.808997600Z"
    }
   },
   "id": "c141b2a2382e57dd"
  },
  {
   "cell_type": "code",
   "execution_count": 52,
   "outputs": [
    {
     "data": {
      "text/plain": "(969, 39)"
     },
     "execution_count": 52,
     "metadata": {},
     "output_type": "execute_result"
    }
   ],
   "source": [
    "nuevo_df_predicciones.shape"
   ],
   "metadata": {
    "collapsed": false,
    "ExecuteTime": {
     "end_time": "2023-12-19T15:29:00.414456200Z",
     "start_time": "2023-12-19T15:29:00.393890200Z"
    }
   },
   "id": "f56d4c3f4aff7cd1"
  },
  {
   "cell_type": "code",
   "execution_count": 46,
   "outputs": [
    {
     "data": {
      "text/plain": "   accX_mean  accX_std  accX_median  accY_mean  accY_std  accY_median  \\\n0   0.320889  0.132123     0.346972   8.982878  0.890013     9.229446   \n1  -0.603787  0.766760    -0.407991   8.726922  3.044928     9.448398   \n2  -0.403951  0.774089     0.014357   9.344208  2.560344     9.590775   \n3  -0.109088  0.393120     0.077770   8.793008  1.531081     9.516596   \n4  -0.647070  0.808834    -0.490546   8.755257  3.869784     9.309609   \n\n   accZ_mean  accZ_std  accZ_median  gyroX_mean  ...  linAccX_median  \\\n0   2.880478  0.665896     3.129650    9.945353  ...       -0.048269   \n1  -3.940197  4.444279    -2.378824   -4.148943  ...        0.022855   \n2  -2.425908  4.935146    -0.017024   27.023705  ...        0.063224   \n3   0.143442  1.987607     1.202163  -27.714648  ...        0.021129   \n4  -2.912006  4.438672    -1.028028   -1.784178  ...        0.043280   \n\n   linAccY_mean  linAccY_std  linAccY_median  linAccZ_mean  linAccZ_std  \\\n0      0.099805     0.187570        0.067922     -0.360106     1.004781   \n1      0.065328     0.563701        0.046574      0.293226     4.306579   \n2      0.068588     0.370559        0.070765      0.689761     3.742911   \n3      0.037734     0.175710        0.023867     -0.792098     1.539848   \n4      0.080496     0.402918        0.078759     -0.035546     4.949006   \n\n   linAccZ_median                   start                     end   prediccion  \n0       -0.052835 1970-01-01 00:00:00.000 1970-01-01 00:00:01.606  NO_EXERCISE  \n1       -0.221224 1970-01-01 00:00:01.615 1970-01-01 00:00:03.222  NO_EXERCISE  \n2       -0.047036 1970-01-01 00:00:03.231 1970-01-01 00:00:04.838  NO_EXERCISE  \n3       -0.119698 1970-01-01 00:00:04.847 1970-01-01 00:00:06.454  NO_EXERCISE  \n4       -0.259682 1970-01-01 00:00:06.467 1970-01-01 00:00:08.074  NO_EXERCISE  \n\n[5 rows x 39 columns]",
      "text/html": "<div>\n<style scoped>\n    .dataframe tbody tr th:only-of-type {\n        vertical-align: middle;\n    }\n\n    .dataframe tbody tr th {\n        vertical-align: top;\n    }\n\n    .dataframe thead th {\n        text-align: right;\n    }\n</style>\n<table border=\"1\" class=\"dataframe\">\n  <thead>\n    <tr style=\"text-align: right;\">\n      <th></th>\n      <th>accX_mean</th>\n      <th>accX_std</th>\n      <th>accX_median</th>\n      <th>accY_mean</th>\n      <th>accY_std</th>\n      <th>accY_median</th>\n      <th>accZ_mean</th>\n      <th>accZ_std</th>\n      <th>accZ_median</th>\n      <th>gyroX_mean</th>\n      <th>...</th>\n      <th>linAccX_median</th>\n      <th>linAccY_mean</th>\n      <th>linAccY_std</th>\n      <th>linAccY_median</th>\n      <th>linAccZ_mean</th>\n      <th>linAccZ_std</th>\n      <th>linAccZ_median</th>\n      <th>start</th>\n      <th>end</th>\n      <th>prediccion</th>\n    </tr>\n  </thead>\n  <tbody>\n    <tr>\n      <th>0</th>\n      <td>0.320889</td>\n      <td>0.132123</td>\n      <td>0.346972</td>\n      <td>8.982878</td>\n      <td>0.890013</td>\n      <td>9.229446</td>\n      <td>2.880478</td>\n      <td>0.665896</td>\n      <td>3.129650</td>\n      <td>9.945353</td>\n      <td>...</td>\n      <td>-0.048269</td>\n      <td>0.099805</td>\n      <td>0.187570</td>\n      <td>0.067922</td>\n      <td>-0.360106</td>\n      <td>1.004781</td>\n      <td>-0.052835</td>\n      <td>1970-01-01 00:00:00.000</td>\n      <td>1970-01-01 00:00:01.606</td>\n      <td>NO_EXERCISE</td>\n    </tr>\n    <tr>\n      <th>1</th>\n      <td>-0.603787</td>\n      <td>0.766760</td>\n      <td>-0.407991</td>\n      <td>8.726922</td>\n      <td>3.044928</td>\n      <td>9.448398</td>\n      <td>-3.940197</td>\n      <td>4.444279</td>\n      <td>-2.378824</td>\n      <td>-4.148943</td>\n      <td>...</td>\n      <td>0.022855</td>\n      <td>0.065328</td>\n      <td>0.563701</td>\n      <td>0.046574</td>\n      <td>0.293226</td>\n      <td>4.306579</td>\n      <td>-0.221224</td>\n      <td>1970-01-01 00:00:01.615</td>\n      <td>1970-01-01 00:00:03.222</td>\n      <td>NO_EXERCISE</td>\n    </tr>\n    <tr>\n      <th>2</th>\n      <td>-0.403951</td>\n      <td>0.774089</td>\n      <td>0.014357</td>\n      <td>9.344208</td>\n      <td>2.560344</td>\n      <td>9.590775</td>\n      <td>-2.425908</td>\n      <td>4.935146</td>\n      <td>-0.017024</td>\n      <td>27.023705</td>\n      <td>...</td>\n      <td>0.063224</td>\n      <td>0.068588</td>\n      <td>0.370559</td>\n      <td>0.070765</td>\n      <td>0.689761</td>\n      <td>3.742911</td>\n      <td>-0.047036</td>\n      <td>1970-01-01 00:00:03.231</td>\n      <td>1970-01-01 00:00:04.838</td>\n      <td>NO_EXERCISE</td>\n    </tr>\n    <tr>\n      <th>3</th>\n      <td>-0.109088</td>\n      <td>0.393120</td>\n      <td>0.077770</td>\n      <td>8.793008</td>\n      <td>1.531081</td>\n      <td>9.516596</td>\n      <td>0.143442</td>\n      <td>1.987607</td>\n      <td>1.202163</td>\n      <td>-27.714648</td>\n      <td>...</td>\n      <td>0.021129</td>\n      <td>0.037734</td>\n      <td>0.175710</td>\n      <td>0.023867</td>\n      <td>-0.792098</td>\n      <td>1.539848</td>\n      <td>-0.119698</td>\n      <td>1970-01-01 00:00:04.847</td>\n      <td>1970-01-01 00:00:06.454</td>\n      <td>NO_EXERCISE</td>\n    </tr>\n    <tr>\n      <th>4</th>\n      <td>-0.647070</td>\n      <td>0.808834</td>\n      <td>-0.490546</td>\n      <td>8.755257</td>\n      <td>3.869784</td>\n      <td>9.309609</td>\n      <td>-2.912006</td>\n      <td>4.438672</td>\n      <td>-1.028028</td>\n      <td>-1.784178</td>\n      <td>...</td>\n      <td>0.043280</td>\n      <td>0.080496</td>\n      <td>0.402918</td>\n      <td>0.078759</td>\n      <td>-0.035546</td>\n      <td>4.949006</td>\n      <td>-0.259682</td>\n      <td>1970-01-01 00:00:06.467</td>\n      <td>1970-01-01 00:00:08.074</td>\n      <td>NO_EXERCISE</td>\n    </tr>\n  </tbody>\n</table>\n<p>5 rows × 39 columns</p>\n</div>"
     },
     "execution_count": 46,
     "metadata": {},
     "output_type": "execute_result"
    }
   ],
   "source": [
    "nuevo_df_predicciones.head()"
   ],
   "metadata": {
    "collapsed": false,
    "ExecuteTime": {
     "end_time": "2023-12-19T15:20:21.248558300Z",
     "start_time": "2023-12-19T15:20:21.209083Z"
    }
   },
   "id": "8d7378f1d86d68de"
  },
  {
   "cell_type": "code",
   "execution_count": 47,
   "outputs": [
    {
     "data": {
      "text/plain": "(array(['NO_EXERCISE', 'SQUAT'], dtype=object), array([853, 116], dtype=int64))"
     },
     "execution_count": 47,
     "metadata": {},
     "output_type": "execute_result"
    }
   ],
   "source": [
    "np.unique(nuevo_df_predicciones.prediccion,return_counts=True)"
   ],
   "metadata": {
    "collapsed": false,
    "ExecuteTime": {
     "end_time": "2023-12-19T15:20:32.745935700Z",
     "start_time": "2023-12-19T15:20:32.687557900Z"
    }
   },
   "id": "97389856faa1507b"
  },
  {
   "cell_type": "code",
   "execution_count": 50,
   "outputs": [
    {
     "data": {
      "text/plain": "                      start                     end prediccion\n42  1970-01-01 00:00:05.971 1970-01-01 00:00:07.578      SQUAT\n55  1970-01-01 00:00:26.990 1970-01-01 00:00:28.597      SQUAT\n66  1970-01-01 00:00:44.778 1970-01-01 00:00:46.385      SQUAT\n68  1970-01-01 00:00:48.014 1970-01-01 00:00:49.621      SQUAT\n69  1970-01-01 00:00:49.630 1970-01-01 00:00:51.237      SQUAT\n..                      ...                     ...        ...\n953 1970-01-01 00:00:35.291 1970-01-01 00:00:36.880      SQUAT\n957 1970-01-01 00:00:41.684 1970-01-01 00:00:43.272      SQUAT\n960 1970-01-01 00:00:46.479 1970-01-01 00:00:48.068      SQUAT\n964 1970-01-01 00:00:52.872 1970-01-01 00:00:54.460      SQUAT\n967 1970-01-01 00:00:57.664 1970-01-01 00:00:59.252      SQUAT\n\n[116 rows x 3 columns]",
      "text/html": "<div>\n<style scoped>\n    .dataframe tbody tr th:only-of-type {\n        vertical-align: middle;\n    }\n\n    .dataframe tbody tr th {\n        vertical-align: top;\n    }\n\n    .dataframe thead th {\n        text-align: right;\n    }\n</style>\n<table border=\"1\" class=\"dataframe\">\n  <thead>\n    <tr style=\"text-align: right;\">\n      <th></th>\n      <th>start</th>\n      <th>end</th>\n      <th>prediccion</th>\n    </tr>\n  </thead>\n  <tbody>\n    <tr>\n      <th>42</th>\n      <td>1970-01-01 00:00:05.971</td>\n      <td>1970-01-01 00:00:07.578</td>\n      <td>SQUAT</td>\n    </tr>\n    <tr>\n      <th>55</th>\n      <td>1970-01-01 00:00:26.990</td>\n      <td>1970-01-01 00:00:28.597</td>\n      <td>SQUAT</td>\n    </tr>\n    <tr>\n      <th>66</th>\n      <td>1970-01-01 00:00:44.778</td>\n      <td>1970-01-01 00:00:46.385</td>\n      <td>SQUAT</td>\n    </tr>\n    <tr>\n      <th>68</th>\n      <td>1970-01-01 00:00:48.014</td>\n      <td>1970-01-01 00:00:49.621</td>\n      <td>SQUAT</td>\n    </tr>\n    <tr>\n      <th>69</th>\n      <td>1970-01-01 00:00:49.630</td>\n      <td>1970-01-01 00:00:51.237</td>\n      <td>SQUAT</td>\n    </tr>\n    <tr>\n      <th>...</th>\n      <td>...</td>\n      <td>...</td>\n      <td>...</td>\n    </tr>\n    <tr>\n      <th>953</th>\n      <td>1970-01-01 00:00:35.291</td>\n      <td>1970-01-01 00:00:36.880</td>\n      <td>SQUAT</td>\n    </tr>\n    <tr>\n      <th>957</th>\n      <td>1970-01-01 00:00:41.684</td>\n      <td>1970-01-01 00:00:43.272</td>\n      <td>SQUAT</td>\n    </tr>\n    <tr>\n      <th>960</th>\n      <td>1970-01-01 00:00:46.479</td>\n      <td>1970-01-01 00:00:48.068</td>\n      <td>SQUAT</td>\n    </tr>\n    <tr>\n      <th>964</th>\n      <td>1970-01-01 00:00:52.872</td>\n      <td>1970-01-01 00:00:54.460</td>\n      <td>SQUAT</td>\n    </tr>\n    <tr>\n      <th>967</th>\n      <td>1970-01-01 00:00:57.664</td>\n      <td>1970-01-01 00:00:59.252</td>\n      <td>SQUAT</td>\n    </tr>\n  </tbody>\n</table>\n<p>116 rows × 3 columns</p>\n</div>"
     },
     "execution_count": 50,
     "metadata": {},
     "output_type": "execute_result"
    }
   ],
   "source": [
    "squats_detection = nuevo_df_predicciones[nuevo_df_predicciones.prediccion == 'SQUAT'][['start', 'end', 'prediccion']]\n",
    "squats_detection"
   ],
   "metadata": {
    "collapsed": false,
    "ExecuteTime": {
     "end_time": "2023-12-19T15:21:27.869020400Z",
     "start_time": "2023-12-19T15:21:27.824615900Z"
    }
   },
   "id": "abc38de3e07594b"
  },
  {
   "cell_type": "code",
   "execution_count": 51,
   "outputs": [
    {
     "data": {
      "text/plain": "                      start                     end   prediccion\n0   1970-01-01 00:00:00.000 1970-01-01 00:00:01.606  NO_EXERCISE\n1   1970-01-01 00:00:01.615 1970-01-01 00:00:03.222  NO_EXERCISE\n2   1970-01-01 00:00:03.231 1970-01-01 00:00:04.838  NO_EXERCISE\n3   1970-01-01 00:00:04.847 1970-01-01 00:00:06.454  NO_EXERCISE\n4   1970-01-01 00:00:06.467 1970-01-01 00:00:08.074  NO_EXERCISE\n..                      ...                     ...          ...\n962 1970-01-01 00:00:49.674 1970-01-01 00:00:51.262  NO_EXERCISE\n963 1970-01-01 00:00:51.271 1970-01-01 00:00:52.860  NO_EXERCISE\n965 1970-01-01 00:00:54.469 1970-01-01 00:00:56.057  NO_EXERCISE\n966 1970-01-01 00:00:56.066 1970-01-01 00:00:57.655  NO_EXERCISE\n968 1970-01-01 00:00:59.265 1970-01-01 00:01:00.853  NO_EXERCISE\n\n[853 rows x 3 columns]",
      "text/html": "<div>\n<style scoped>\n    .dataframe tbody tr th:only-of-type {\n        vertical-align: middle;\n    }\n\n    .dataframe tbody tr th {\n        vertical-align: top;\n    }\n\n    .dataframe thead th {\n        text-align: right;\n    }\n</style>\n<table border=\"1\" class=\"dataframe\">\n  <thead>\n    <tr style=\"text-align: right;\">\n      <th></th>\n      <th>start</th>\n      <th>end</th>\n      <th>prediccion</th>\n    </tr>\n  </thead>\n  <tbody>\n    <tr>\n      <th>0</th>\n      <td>1970-01-01 00:00:00.000</td>\n      <td>1970-01-01 00:00:01.606</td>\n      <td>NO_EXERCISE</td>\n    </tr>\n    <tr>\n      <th>1</th>\n      <td>1970-01-01 00:00:01.615</td>\n      <td>1970-01-01 00:00:03.222</td>\n      <td>NO_EXERCISE</td>\n    </tr>\n    <tr>\n      <th>2</th>\n      <td>1970-01-01 00:00:03.231</td>\n      <td>1970-01-01 00:00:04.838</td>\n      <td>NO_EXERCISE</td>\n    </tr>\n    <tr>\n      <th>3</th>\n      <td>1970-01-01 00:00:04.847</td>\n      <td>1970-01-01 00:00:06.454</td>\n      <td>NO_EXERCISE</td>\n    </tr>\n    <tr>\n      <th>4</th>\n      <td>1970-01-01 00:00:06.467</td>\n      <td>1970-01-01 00:00:08.074</td>\n      <td>NO_EXERCISE</td>\n    </tr>\n    <tr>\n      <th>...</th>\n      <td>...</td>\n      <td>...</td>\n      <td>...</td>\n    </tr>\n    <tr>\n      <th>962</th>\n      <td>1970-01-01 00:00:49.674</td>\n      <td>1970-01-01 00:00:51.262</td>\n      <td>NO_EXERCISE</td>\n    </tr>\n    <tr>\n      <th>963</th>\n      <td>1970-01-01 00:00:51.271</td>\n      <td>1970-01-01 00:00:52.860</td>\n      <td>NO_EXERCISE</td>\n    </tr>\n    <tr>\n      <th>965</th>\n      <td>1970-01-01 00:00:54.469</td>\n      <td>1970-01-01 00:00:56.057</td>\n      <td>NO_EXERCISE</td>\n    </tr>\n    <tr>\n      <th>966</th>\n      <td>1970-01-01 00:00:56.066</td>\n      <td>1970-01-01 00:00:57.655</td>\n      <td>NO_EXERCISE</td>\n    </tr>\n    <tr>\n      <th>968</th>\n      <td>1970-01-01 00:00:59.265</td>\n      <td>1970-01-01 00:01:00.853</td>\n      <td>NO_EXERCISE</td>\n    </tr>\n  </tbody>\n</table>\n<p>853 rows × 3 columns</p>\n</div>"
     },
     "execution_count": 51,
     "metadata": {},
     "output_type": "execute_result"
    }
   ],
   "source": [
    "squats_detection = nuevo_df_predicciones[nuevo_df_predicciones.prediccion == ('NO_EXERCISE'\n",
    "                                                                              ''\n",
    "                                                                              '')][['start', 'end', 'prediccion']]\n",
    "squats_detection"
   ],
   "metadata": {
    "collapsed": false,
    "ExecuteTime": {
     "end_time": "2023-12-19T15:22:38.896755Z",
     "start_time": "2023-12-19T15:22:38.861964700Z"
    }
   },
   "id": "b5ddc9a84e0bf7b6"
  }
 ],
 "metadata": {
  "kernelspec": {
   "display_name": "Python 3",
   "language": "python",
   "name": "python3"
  },
  "language_info": {
   "codemirror_mode": {
    "name": "ipython",
    "version": 2
   },
   "file_extension": ".py",
   "mimetype": "text/x-python",
   "name": "python",
   "nbconvert_exporter": "python",
   "pygments_lexer": "ipython2",
   "version": "2.7.6"
  }
 },
 "nbformat": 4,
 "nbformat_minor": 5
}
