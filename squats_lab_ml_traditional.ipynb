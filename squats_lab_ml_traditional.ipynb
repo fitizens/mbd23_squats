{
 "cells": [
  {
   "cell_type": "markdown",
   "id": "43707e493d955652",
   "metadata": {
    "collapsed": false
   },
   "source": [
    "# Importing Libraries"
   ]
  },
  {
   "cell_type": "code",
   "execution_count": null,
   "id": "cb01ee61ef9eac4c",
   "metadata": {
    "collapsed": false
   },
   "outputs": [],
   "source": [
    "from fitizens_libraries.load_and_process_training_data import load_training_data\n",
    "import os\n",
    "import pandas as pd\n",
    "import seaborn as sns\n",
    "import matplotlib.pyplot as plt\n",
    "from pycaret.classification import *"
   ]
  },
  {
   "cell_type": "markdown",
   "id": "3845be383a405ab7",
   "metadata": {
    "collapsed": false
   },
   "source": [
    "# Creating Auxiliary Functions\n",
    "### Min Max Paper: [Evaluating squat performance with a single inertial measurement unit](https://drive.google.com/file/d/1E2-rFIW66C2mi87BNUPmUFCgFs8VFoRs/view?usp=sharing)\n",
    "### Descriptive Statistics Paper [Technology in Rehabilitation: Evaluating the Single Leg Squat Exercise with Wearable Inertial Measurement Units](https://drive.google.com/file/d/1OsCXUDf5jiAYZUt5Wwcr00iw7utEVx38/view)\n",
    "### Traditional vs DeepLearning Paper: [Automatic Classification of Squat Posture Using Inertial Sensors: Deep Learning Approach](https://www.mdpi.com/1424-8220/20/2/361)"
   ]
  },
  {
   "cell_type": "code",
   "execution_count": null,
   "id": "6361b9da96fa1cc4",
   "metadata": {
    "collapsed": false
   },
   "outputs": [],
   "source": [
    "def create_custom_dataframe(series):\n",
    "    df =  series[[\"linAccX\", \"linAccY\", \"linAccZ\", \"gyroX\", \"gyroY\", \"gyroZ\", \"magnX\", \"magnY\", \"magnZ\"]]\n",
    "    return df"
   ]
  },
  {
   "cell_type": "code",
   "execution_count": null,
   "id": "f6ac6e162bded1d",
   "metadata": {
    "collapsed": false
   },
   "outputs": [],
   "source": [
    "def create_training_data_min_max(df, target):\n",
    "    stats_dict = {}\n",
    "\n",
    "    series = create_custom_dataframe(df)\n",
    "    for column in series.columns:\n",
    "        max_value = series[column].max()\n",
    "        min_value = series[column].min()\n",
    "        range_value = max_value - min_value\n",
    "    \n",
    "        stats_dict[f\"{column}_max\"] = max_value\n",
    "        stats_dict[f\"{column}_min\"] = min_value\n",
    "        stats_dict[f\"{column}_range\"] = range_value\n",
    "        \n",
    "    stats_dict[\"target\"] = target\n",
    "    return stats_dict"
   ]
  },
  {
   "cell_type": "code",
   "execution_count": null,
   "id": "89b37d736f8965fd",
   "metadata": {
    "collapsed": false
   },
   "outputs": [],
   "source": [
    "def create_training_data_mean_std_med(df, target):\n",
    "    stats_dict = {}\n",
    "\n",
    "    series = create_custom_dataframe(df)\n",
    "    for column in series.columns:\n",
    "        mean = series[column].mean()\n",
    "        std = series[column].std()\n",
    "        median = series[column].median()\n",
    "    \n",
    "        stats_dict[f\"{column}_mean\"] = mean\n",
    "        stats_dict[f\"{column}_std\"] = std\n",
    "        stats_dict[f\"{column}_median\"] = median\n",
    "        \n",
    "    stats_dict[\"target\"] = target\n",
    "    return stats_dict"
   ]
  },
  {
   "cell_type": "markdown",
   "id": "7f0e5102726367d2",
   "metadata": {
    "collapsed": false
   },
   "source": [
    "# Loading Data"
   ]
  },
  {
   "cell_type": "code",
   "execution_count": null,
   "id": "dc4325b1c23cff51",
   "metadata": {
    "collapsed": false
   },
   "outputs": [],
   "source": [
    "folder_path = \"labeled\"\n",
    "os.makedirs(folder_path, exist_ok=True)\n",
    "file_names = [f\"{folder_path}/{name}\" for name in os.listdir(folder_path)]\n",
    "signals = [\"accX\", \"accY\", \"accZ\", \"gyroX\", \"gyroY\", \"gyroZ\", \"magnX\", \"magnY\", \"magnZ\", \"linAccX\", \"linAccY\", \"linAccZ\"]\n",
    "\n",
    "data, wk = load_training_data(filelist=file_names,\n",
    "                         signals= signals,\n",
    "                          target_exercise=\"SQUAT\", other_exercises=[], is_peak_minima=True)\n",
    "data[0]"
   ]
  },
  {
   "cell_type": "markdown",
   "id": "741e5072727f77f7",
   "metadata": {
    "collapsed": false
   },
   "source": [
    "# Creating new data"
   ]
  },
  {
   "cell_type": "code",
   "execution_count": null,
   "id": "6f29df7563c81ac7",
   "metadata": {
    "collapsed": false
   },
   "outputs": [],
   "source": [
    "data_info = [create_training_data_mean_std_med(info[\"series\"], info[\"target\"]) for info in data]\n",
    "data_custom = pd.DataFrame(data_info)\n",
    "data_custom.head()"
   ]
  },
  {
   "cell_type": "markdown",
   "id": "d5358851bc5cfbc9",
   "metadata": {
    "collapsed": false
   },
   "source": [
    "# EDA"
   ]
  },
  {
   "cell_type": "code",
   "execution_count": null,
   "id": "4ccd42ef9ef4645",
   "metadata": {
    "collapsed": false
   },
   "outputs": [],
   "source": [
    "data_custom.shape"
   ]
  },
  {
   "cell_type": "code",
   "execution_count": null,
   "id": "2fd6bcd85742bc72",
   "metadata": {
    "collapsed": false
   },
   "outputs": [],
   "source": [
    "data_custom.isnull().sum()"
   ]
  },
  {
   "cell_type": "code",
   "execution_count": null,
   "id": "2e01fd446ca8132a",
   "metadata": {
    "collapsed": false
   },
   "outputs": [],
   "source": [
    "data_custom.target.value_counts()"
   ]
  },
  {
   "cell_type": "code",
   "execution_count": null,
   "id": "af60cc29265905fc",
   "metadata": {
    "collapsed": false
   },
   "outputs": [],
   "source": [
    "corr_matrix = data_custom.drop(columns=[\"target\"],axis=1).corr()\n",
    "corr_matrix"
   ]
  },
  {
   "cell_type": "code",
   "execution_count": null,
   "id": "6b3c4bb023ed08ba",
   "metadata": {
    "collapsed": false
   },
   "outputs": [],
   "source": [
    "# Create a figure and a set of subplots\n",
    "df_box = data_custom.drop(columns=[\"target\"],axis=1)\n",
    "fig, axes = plt.subplots(nrows=len(df_box.columns), ncols=1, figsize=(8, 4 * len(df_box.columns)))\n",
    "\n",
    "# Create a box plot for each column\n",
    "for i, col in enumerate(df_box.columns):\n",
    "    sns.boxplot(x=df_box[col], ax=axes[i])\n",
    "\n",
    "# Add a title (optional)\n",
    "fig.suptitle('Box Plots', fontsize=16)\n",
    "\n",
    "# Adjust the layout\n",
    "plt.tight_layout()\n",
    "\n",
    "# Show the plot\n",
    "plt.show()"
   ]
  },
  {
   "cell_type": "markdown",
   "id": "16ca865531e0bc41",
   "metadata": {
    "collapsed": false
   },
   "source": [
    "# ML with Pycaret"
   ]
  },
  {
   "cell_type": "code",
   "execution_count": null,
   "id": "1e1dd2680aeaf50f",
   "metadata": {
    "collapsed": false
   },
   "outputs": [],
   "source": [
    "data_dev = data_custom.sample(frac=0.95, random_state=786)\n",
    "data_prod = data_custom.drop(data_dev.index)\n",
    "\n",
    "data_dev.reset_index(inplace=True, drop=True)\n",
    "data_prod.reset_index(inplace=True, drop=True)\n",
    "\n",
    "print('Data for Modeling: ' + str(data_dev.shape))\n",
    "print('Simulated data For Production ' + str(data_prod.shape))"
   ]
  },
  {
   "cell_type": "code",
   "execution_count": null,
   "id": "5c43601d30f4ab3e",
   "metadata": {
    "collapsed": false
   },
   "outputs": [],
   "source": [
    "model = setup(\n",
    "    # Basic options\n",
    "    data = data_dev,\n",
    "    target = \"target\",\n",
    "    train_size = 0.7,\n",
    "    preprocess = True,\n",
    "    \n",
    "    # Dealing with multicollinearity\n",
    "    remove_multicollinearity = True,\n",
    "    multicollinearity_threshold = 0.9,\n",
    "        \n",
    "    # Feature normalization with outliers\n",
    "    normalize = True,\n",
    "    normalize_method = 'robust',\n",
    "        \n",
    "    # Paralellization options\n",
    "    n_jobs = - 1,\n",
    "    use_gpu = False,\n",
    "    \n",
    "    # Imbalance Dataset\n",
    "    fix_imbalance=True,\n",
    "    \n",
    "    # Feature Importance\n",
    "    feature_selection = True,\n",
    "    n_features_to_select= 10\n",
    ")"
   ]
  },
  {
   "cell_type": "code",
   "execution_count": null,
   "id": "9db5b1df561567cd",
   "metadata": {
    "collapsed": false
   },
   "outputs": [],
   "source": [
    "models = compare_models(sort=\"F1\", fold=2)\n",
    "models"
   ]
  },
  {
   "cell_type": "code",
   "execution_count": null,
   "id": "fd37d235dfd3abf4",
   "metadata": {
    "collapsed": false
   },
   "outputs": [],
   "source": [
    "cnt_models_df = pull()\n",
    "cnt_models_df"
   ]
  },
  {
   "cell_type": "code",
   "execution_count": null,
   "id": "ff4cfa47c9cd6b74",
   "metadata": {
    "collapsed": false
   },
   "outputs": [],
   "source": [
    "clf = create_model('et', fold = 2)"
   ]
  },
  {
   "cell_type": "code",
   "execution_count": null,
   "id": "1503658fa26b69b7",
   "metadata": {
    "collapsed": false
   },
   "outputs": [],
   "source": [
    "tuned_clf = tune_model(clf, optimize = 'F1', fold = 2)"
   ]
  },
  {
   "cell_type": "code",
   "execution_count": null,
   "id": "fb6da10f-fcbc-44e8-8fef-fcb3abc7e08a",
   "metadata": {},
   "outputs": [],
   "source": [
    "print(\"Total of features: \", len(tuned_clf.feature_importances_))"
   ]
  },
  {
   "cell_type": "code",
   "execution_count": null,
   "id": "ea25df2af832bb03",
   "metadata": {},
   "outputs": [],
   "source": [
    "evaluate_model(tuned_clf)"
   ]
  },
  {
   "cell_type": "markdown",
   "id": "8445ac7f34adee63",
   "metadata": {
    "collapsed": false
   },
   "source": [
    "# Save Model"
   ]
  },
  {
   "cell_type": "code",
   "execution_count": null,
   "id": "4c95b94d91007a83",
   "metadata": {
    "collapsed": false
   },
   "outputs": [],
   "source": [
    "# We finalize model (we train on the whole set)\n",
    "model_final = finalize_model(tuned_clf)"
   ]
  },
  {
   "cell_type": "code",
   "execution_count": null,
   "id": "c770f8596ef61b84",
   "metadata": {
    "collapsed": false
   },
   "outputs": [],
   "source": [
    "# Export the PyCaret model\n",
    "save_model(model_final, 'squats_traditional')"
   ]
  },
  {
   "cell_type": "markdown",
   "id": "e7643473c91700d6",
   "metadata": {
    "collapsed": false
   },
   "source": [
    "# Use in Production"
   ]
  },
  {
   "cell_type": "code",
   "execution_count": null,
   "id": "6ab72fbb31174d39",
   "metadata": {
    "collapsed": false
   },
   "outputs": [],
   "source": [
    "# Load the model\n",
    "pipeline = load_model(model_name=\"squats_traditional\")"
   ]
  },
  {
   "cell_type": "code",
   "execution_count": null,
   "id": "88a32c18e37564bd",
   "metadata": {
    "collapsed": false
   },
   "outputs": [],
   "source": [
    "# Utilizar modelo\n",
    "prediction = predict_model(pipeline, data_prod, raw_score=True)"
   ]
  },
  {
   "cell_type": "code",
   "execution_count": null,
   "id": "fcacc0c76701d9ac",
   "metadata": {
    "collapsed": false
   },
   "outputs": [],
   "source": [
    "prediction"
   ]
  },
  {
   "cell_type": "markdown",
   "id": "bb30dfd1aefca63e",
   "metadata": {
    "collapsed": false
   },
   "source": [
    "# Scores"
   ]
  },
  {
   "cell_type": "code",
   "execution_count": null,
   "id": "3340309baf076124",
   "metadata": {
    "collapsed": false
   },
   "outputs": [],
   "source": [
    "true_labels = prediction[\"target\"]\n",
    "predictions = prediction[\"prediction_label\"]"
   ]
  },
  {
   "cell_type": "code",
   "execution_count": null,
   "id": "5ec3ba4851f14603",
   "metadata": {
    "collapsed": false
   },
   "outputs": [],
   "source": [
    "from sklearn.metrics import accuracy_score, precision_score, recall_score, f1_score\n",
    "\n",
    "accuracy = accuracy_score(true_labels, predictions)\n",
    "positive_class_label = \"SQUAT\"\n",
    "precision = precision_score(true_labels, predictions, pos_label=positive_class_label)\n",
    "recall = recall_score(true_labels, predictions, pos_label=positive_class_label)\n",
    "f1 = f1_score(true_labels, predictions, pos_label=positive_class_label)\n",
    "\n",
    "print(f\"Accuracy: {accuracy}\")\n",
    "print(f\"Precision: {precision}\")\n",
    "print(f\"Recall: {recall}\")\n",
    "print(f\"F1: {f1}\")"
   ]
  },
  {
   "cell_type": "code",
   "execution_count": null,
   "id": "9842529f705dc0d",
   "metadata": {
    "collapsed": false
   },
   "outputs": [],
   "source": [
    "from sklearn.metrics import roc_auc_score\n",
    "\n",
    "predictions_prob = prediction[\"prediction_score_SQUAT\"]\n",
    "binary_true_labels = true_labels.map({\"SQUAT\": 1, \"NO_EXERCISE\": 0})\n",
    "auc_score = roc_auc_score(binary_true_labels, predictions_prob)\n",
    "\n",
    "print(f\"AUC: {auc_score}\")"
   ]
  }
 ],
 "metadata": {
  "kernelspec": {
   "display_name": "Python 3 (ipykernel)",
   "language": "python",
   "name": "python3"
  },
  "language_info": {
   "codemirror_mode": {
    "name": "ipython",
    "version": 3
   },
   "file_extension": ".py",
   "mimetype": "text/x-python",
   "name": "python",
   "nbconvert_exporter": "python",
   "pygments_lexer": "ipython3",
   "version": "3.10.13"
  }
 },
 "nbformat": 4,
 "nbformat_minor": 5
}
