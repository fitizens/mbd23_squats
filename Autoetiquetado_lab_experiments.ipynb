{
 "cells": [
  {
   "cell_type": "code",
   "execution_count": 2,
   "id": "initial_id",
   "metadata": {
    "collapsed": true,
    "ExecuteTime": {
     "end_time": "2023-12-19T15:57:36.114187Z",
     "start_time": "2023-12-19T15:57:33.977754600Z"
    }
   },
   "outputs": [],
   "source": [
    "from Autolabeler import workout\n",
    "import pandas as pd\n",
    "import os\n",
    "import warnings\n",
    "import numpy as np\n",
    "from pycaret.classification import *"
   ]
  },
  {
   "cell_type": "markdown",
   "source": [
    "# Load Test Data"
   ],
   "metadata": {
    "collapsed": false
   },
   "id": "7eb5ff2cd97f8927"
  },
  {
   "cell_type": "code",
   "execution_count": 14,
   "outputs": [],
   "source": [
    "folder_path = \"LABELED\"\n",
    "os.makedirs(folder_path, exist_ok=True)\n",
    "file_names = []\n",
    "for name in os.listdir(folder_path):\n",
    "    file_path = f\"{folder_path}/{name}\"\n",
    "    file_names.append(file_path)\n",
    "#Ahora tengo que especificar mis features \n",
    "signals = [\"accX\", \"accY\", \"accZ\", \"gyroX\", \"gyroY\", \"gyroZ\", \"magnX\", \"magnY\", \"magnZ\", \"linAccX\", \"linAccY\", \"linAccZ\"]\n",
    "data = workout(filelist=file_names[0:1], signals= signals)\n",
    "df= pd.concat(data)"
   ],
   "metadata": {
    "collapsed": false,
    "ExecuteTime": {
     "end_time": "2023-12-19T16:07:28.812574600Z",
     "start_time": "2023-12-19T16:07:28.575375200Z"
    }
   },
   "id": "1423cb26d2a7878"
  },
  {
   "cell_type": "code",
   "execution_count": 15,
   "outputs": [
    {
     "data": {
      "text/plain": "(8184, 31)"
     },
     "execution_count": 15,
     "metadata": {},
     "output_type": "execute_result"
    }
   ],
   "source": [
    "df.shape"
   ],
   "metadata": {
    "collapsed": false,
    "ExecuteTime": {
     "end_time": "2023-12-19T16:07:31.036148300Z",
     "start_time": "2023-12-19T16:07:31.023539600Z"
    }
   },
   "id": "717fd6dc5511f1dc"
  },
  {
   "cell_type": "code",
   "execution_count": 16,
   "outputs": [
    {
     "data": {
      "text/plain": "Index(['accX', 'accY', 'accZ', 'gyroX', 'gyroY', 'gyroZ', 'magnX', 'magnY',\n       'magnZ', 'linAccX', 'linAccY', 'linAccZ', 'accX_mod', 'accY_mod',\n       'accZ_mod', 'gyroX_mod', 'gyroY_mod', 'gyroZ_mod', 'magnX_mod',\n       'magnY_mod', 'magnZ_mod', 'linAccX_mod', 'linAccY_mod', 'linAccZ_mod'],\n      dtype='object')"
     },
     "execution_count": 16,
     "metadata": {},
     "output_type": "execute_result"
    }
   ],
   "source": [
    "X = df.drop(['peaks', 'first_sample','last_sample', 'first_sample_closest_peak', \n",
    "             'last_sample_closest_peak','exercise','exercising_periods'], axis=1)\n",
    "X.columns"
   ],
   "metadata": {
    "collapsed": false,
    "ExecuteTime": {
     "end_time": "2023-12-19T16:07:36.164220900Z",
     "start_time": "2023-12-19T16:07:36.151052500Z"
    }
   },
   "id": "e5e704da88841815"
  },
  {
   "cell_type": "markdown",
   "source": [
    "# Extract SQUAT TIME RANGE"
   ],
   "metadata": {
    "collapsed": false
   },
   "id": "d2ea3cad7ad144b8"
  },
  {
   "cell_type": "code",
   "execution_count": 35,
   "outputs": [
    {
     "data": {
      "text/plain": "(array([ 0,  1,  2,  3,  4,  5,  6,  7,  8,  9, 10, 11, 12, 13, 14, 15, 16,\n        17, 18, 19, 20, 21, 22, 23, 24, 25]),\n array([5341,  115,  126,  118,  132,  144,  125,  115,  129,  120,  108,\n         116,  111,  111,  107,  105,  106,  102,  109,  101,  112,  105,\n         108,  104,  106,  108], dtype=int64))"
     },
     "execution_count": 35,
     "metadata": {},
     "output_type": "execute_result"
    }
   ],
   "source": [
    "np.unique(df.exercising_periods, return_counts=True)"
   ],
   "metadata": {
    "collapsed": false,
    "ExecuteTime": {
     "end_time": "2023-12-19T16:14:51.171977500Z",
     "start_time": "2023-12-19T16:14:51.150311900Z"
    }
   },
   "id": "e760d3bd609a1a8"
  },
  {
   "cell_type": "code",
   "execution_count": 42,
   "outputs": [],
   "source": [
    "def extract_squat_time_range(df_workout):\n",
    "    # Identify start and end times\n",
    "    squats_detection = pd.concat([df_workout[ df_workout.first_sample == True ], df_workout[ df_workout.last_sample == True ]]).sort_index()\n",
    "    \n",
    "    start_times = squats_detection[squats_detection['first_sample']].index\n",
    "    end_times = squats_detection[squats_detection['last_sample']].index\n",
    "    \n",
    "    # Assuming each start is followed by an end, pair them\n",
    "    paired_times = list(zip(start_times, end_times))\n",
    "    \n",
    "    # Create new DataFrame\n",
    "    return pd.DataFrame(paired_times, columns=['start', 'end'])"
   ],
   "metadata": {
    "collapsed": false,
    "ExecuteTime": {
     "end_time": "2023-12-19T16:51:59.219524900Z",
     "start_time": "2023-12-19T16:51:59.195848400Z"
    }
   },
   "id": "df4fff22eae9ea58"
  },
  {
   "cell_type": "code",
   "execution_count": 43,
   "outputs": [
    {
     "data": {
      "text/plain": "                     start                     end\n0  1970-01-01 00:00:00.474 1970-01-01 00:00:01.558\n1  1970-01-01 00:00:03.012 1970-01-01 00:00:04.203\n2  1970-01-01 00:00:05.666 1970-01-01 00:00:06.781\n3  1970-01-01 00:00:08.396 1970-01-01 00:00:09.641\n4  1970-01-01 00:00:11.172 1970-01-01 00:00:12.532\n5  1970-01-01 00:00:14.170 1970-01-01 00:00:15.347\n6  1970-01-01 00:00:16.757 1970-01-01 00:00:17.840\n7  1970-01-01 00:00:19.277 1970-01-01 00:00:20.494\n8  1970-01-01 00:00:22.092 1970-01-01 00:00:23.224\n9  1970-01-01 00:00:24.916 1970-01-01 00:00:25.932\n10 1970-01-01 00:00:27.552 1970-01-01 00:00:28.645\n11 1970-01-01 00:00:30.301 1970-01-01 00:00:31.348\n12 1970-01-01 00:00:32.820 1970-01-01 00:00:33.868\n13 1970-01-01 00:00:35.560 1970-01-01 00:00:36.567\n14 1970-01-01 00:00:38.043 1970-01-01 00:00:39.033\n15 1970-01-01 00:00:40.411 1970-01-01 00:00:41.409\n16 1970-01-01 00:00:48.521 1970-01-01 00:00:49.484\n17 1970-01-01 00:00:56.131 1970-01-01 00:00:57.160\n18 1970-01-01 00:00:58.632 1970-01-01 00:00:59.586\n19 1970-01-01 00:01:01.228 1970-01-01 00:01:02.285\n20 1970-01-01 00:01:04.084 1970-01-01 00:01:05.073\n21 1970-01-01 00:01:06.554 1970-01-01 00:01:07.575\n22 1970-01-01 00:01:09.065 1970-01-01 00:01:10.045\n23 1970-01-01 00:01:11.281 1970-01-01 00:01:12.283\n24 1970-01-01 00:01:13.469 1970-01-01 00:01:14.490",
      "text/html": "<div>\n<style scoped>\n    .dataframe tbody tr th:only-of-type {\n        vertical-align: middle;\n    }\n\n    .dataframe tbody tr th {\n        vertical-align: top;\n    }\n\n    .dataframe thead th {\n        text-align: right;\n    }\n</style>\n<table border=\"1\" class=\"dataframe\">\n  <thead>\n    <tr style=\"text-align: right;\">\n      <th></th>\n      <th>start</th>\n      <th>end</th>\n    </tr>\n  </thead>\n  <tbody>\n    <tr>\n      <th>0</th>\n      <td>1970-01-01 00:00:00.474</td>\n      <td>1970-01-01 00:00:01.558</td>\n    </tr>\n    <tr>\n      <th>1</th>\n      <td>1970-01-01 00:00:03.012</td>\n      <td>1970-01-01 00:00:04.203</td>\n    </tr>\n    <tr>\n      <th>2</th>\n      <td>1970-01-01 00:00:05.666</td>\n      <td>1970-01-01 00:00:06.781</td>\n    </tr>\n    <tr>\n      <th>3</th>\n      <td>1970-01-01 00:00:08.396</td>\n      <td>1970-01-01 00:00:09.641</td>\n    </tr>\n    <tr>\n      <th>4</th>\n      <td>1970-01-01 00:00:11.172</td>\n      <td>1970-01-01 00:00:12.532</td>\n    </tr>\n    <tr>\n      <th>5</th>\n      <td>1970-01-01 00:00:14.170</td>\n      <td>1970-01-01 00:00:15.347</td>\n    </tr>\n    <tr>\n      <th>6</th>\n      <td>1970-01-01 00:00:16.757</td>\n      <td>1970-01-01 00:00:17.840</td>\n    </tr>\n    <tr>\n      <th>7</th>\n      <td>1970-01-01 00:00:19.277</td>\n      <td>1970-01-01 00:00:20.494</td>\n    </tr>\n    <tr>\n      <th>8</th>\n      <td>1970-01-01 00:00:22.092</td>\n      <td>1970-01-01 00:00:23.224</td>\n    </tr>\n    <tr>\n      <th>9</th>\n      <td>1970-01-01 00:00:24.916</td>\n      <td>1970-01-01 00:00:25.932</td>\n    </tr>\n    <tr>\n      <th>10</th>\n      <td>1970-01-01 00:00:27.552</td>\n      <td>1970-01-01 00:00:28.645</td>\n    </tr>\n    <tr>\n      <th>11</th>\n      <td>1970-01-01 00:00:30.301</td>\n      <td>1970-01-01 00:00:31.348</td>\n    </tr>\n    <tr>\n      <th>12</th>\n      <td>1970-01-01 00:00:32.820</td>\n      <td>1970-01-01 00:00:33.868</td>\n    </tr>\n    <tr>\n      <th>13</th>\n      <td>1970-01-01 00:00:35.560</td>\n      <td>1970-01-01 00:00:36.567</td>\n    </tr>\n    <tr>\n      <th>14</th>\n      <td>1970-01-01 00:00:38.043</td>\n      <td>1970-01-01 00:00:39.033</td>\n    </tr>\n    <tr>\n      <th>15</th>\n      <td>1970-01-01 00:00:40.411</td>\n      <td>1970-01-01 00:00:41.409</td>\n    </tr>\n    <tr>\n      <th>16</th>\n      <td>1970-01-01 00:00:48.521</td>\n      <td>1970-01-01 00:00:49.484</td>\n    </tr>\n    <tr>\n      <th>17</th>\n      <td>1970-01-01 00:00:56.131</td>\n      <td>1970-01-01 00:00:57.160</td>\n    </tr>\n    <tr>\n      <th>18</th>\n      <td>1970-01-01 00:00:58.632</td>\n      <td>1970-01-01 00:00:59.586</td>\n    </tr>\n    <tr>\n      <th>19</th>\n      <td>1970-01-01 00:01:01.228</td>\n      <td>1970-01-01 00:01:02.285</td>\n    </tr>\n    <tr>\n      <th>20</th>\n      <td>1970-01-01 00:01:04.084</td>\n      <td>1970-01-01 00:01:05.073</td>\n    </tr>\n    <tr>\n      <th>21</th>\n      <td>1970-01-01 00:01:06.554</td>\n      <td>1970-01-01 00:01:07.575</td>\n    </tr>\n    <tr>\n      <th>22</th>\n      <td>1970-01-01 00:01:09.065</td>\n      <td>1970-01-01 00:01:10.045</td>\n    </tr>\n    <tr>\n      <th>23</th>\n      <td>1970-01-01 00:01:11.281</td>\n      <td>1970-01-01 00:01:12.283</td>\n    </tr>\n    <tr>\n      <th>24</th>\n      <td>1970-01-01 00:01:13.469</td>\n      <td>1970-01-01 00:01:14.490</td>\n    </tr>\n  </tbody>\n</table>\n</div>"
     },
     "execution_count": 43,
     "metadata": {},
     "output_type": "execute_result"
    }
   ],
   "source": [
    "extract_squat_time_range(df)"
   ],
   "metadata": {
    "collapsed": false,
    "ExecuteTime": {
     "end_time": "2023-12-19T16:52:35.633648800Z",
     "start_time": "2023-12-19T16:52:35.599943100Z"
    }
   },
   "id": "874cd2f8a1e12e8e"
  },
  {
   "cell_type": "markdown",
   "source": [
    "# Auxiliary Functions"
   ],
   "metadata": {
    "collapsed": false
   },
   "id": "17613bd1071de9a0"
  },
  {
   "cell_type": "code",
   "execution_count": 18,
   "outputs": [],
   "source": [
    "def prepare_data(chunk_df):\n",
    "    signals_name = [\"accX\", \"accY\", \"accZ\", \"gyroX\", \"gyroY\", \"gyroZ\", \"magnX\", \"magnY\", \"magnZ\", \"linAccX\", \"linAccY\", \"linAccZ\"]\n",
    "    stats_dict = {}\n",
    "    series = chunk_df[signals_name]\n",
    "    for column in series.columns:\n",
    "        mean = series[column].mean()\n",
    "        std = series[column].std()\n",
    "        median = series[column].median()\n",
    "    \n",
    "        stats_dict[f\"{column}_mean\"] = mean\n",
    "        stats_dict[f\"{column}_std\"] = std\n",
    "        stats_dict[f\"{column}_median\"] = median\n",
    "        \n",
    "    return pd.DataFrame.from_dict(stats_dict, orient=\"index\").T"
   ],
   "metadata": {
    "collapsed": false,
    "ExecuteTime": {
     "end_time": "2023-12-19T16:08:52.723443300Z",
     "start_time": "2023-12-19T16:08:52.715684700Z"
    }
   },
   "id": "bf1211a413f6aaa"
  },
  {
   "cell_type": "code",
   "execution_count": 19,
   "outputs": [],
   "source": [
    "def predict_pycaret(pipeline_ml, ventana_df):\n",
    "    output = prepare_data(ventana_df)\n",
    "    prediction_df = predict_model(pipeline_ml, output, raw_score=True)\n",
    "    y_pred_value = prediction_df.prediction_label.iloc[0]\n",
    "    output['start'] = ventana.index[0]\n",
    "    output['end'] = ventana.index[-1]\n",
    "    output['prediction'] = y_pred_value\n",
    "    return output[['start', 'end', 'prediction']]"
   ],
   "metadata": {
    "collapsed": false,
    "ExecuteTime": {
     "end_time": "2023-12-19T16:08:55.751744300Z",
     "start_time": "2023-12-19T16:08:55.740710500Z"
    }
   },
   "id": "7f11dea1399e46e6"
  },
  {
   "cell_type": "markdown",
   "source": [
    "# Load Model"
   ],
   "metadata": {
    "collapsed": false
   },
   "id": "1d98dc605e0c5698"
  },
  {
   "cell_type": "code",
   "execution_count": 20,
   "outputs": [
    {
     "name": "stdout",
     "output_type": "stream",
     "text": [
      "Transformation Pipeline and Model Successfully Loaded\n"
     ]
    }
   ],
   "source": [
    "# Load the model\n",
    "pipeline = load_model(model_name=\"squats_traditional\")"
   ],
   "metadata": {
    "collapsed": false,
    "ExecuteTime": {
     "end_time": "2023-12-19T16:08:58.774141800Z",
     "start_time": "2023-12-19T16:08:57.730505300Z"
    }
   },
   "id": "67398d58065613f7"
  },
  {
   "cell_type": "code",
   "execution_count": 21,
   "outputs": [
    {
     "data": {
      "text/plain": "'NO_EXERCISE'"
     },
     "execution_count": 21,
     "metadata": {},
     "output_type": "execute_result"
    }
   ],
   "source": [
    "ventana = prepare_data(X.iloc[0:170])\n",
    "prediction = predict_model(pipeline, ventana, raw_score=True)\n",
    "prediction.prediction_label.iloc[0]"
   ],
   "metadata": {
    "collapsed": false,
    "ExecuteTime": {
     "end_time": "2023-12-19T16:09:01.638871Z",
     "start_time": "2023-12-19T16:09:01.420696800Z"
    }
   },
   "id": "a9b7d4823cb872b4"
  },
  {
   "cell_type": "markdown",
   "source": [
    "# Check Data"
   ],
   "metadata": {
    "collapsed": false
   },
   "id": "8f2aa90e29b8d7"
  },
  {
   "cell_type": "code",
   "execution_count": 22,
   "outputs": [
    {
     "name": "stdout",
     "output_type": "stream",
     "text": [
      "Ventana: 0 - 170\n",
      "Ventana: 170 - 340\n",
      "Ventana: 340 - 510\n",
      "Ventana: 510 - 680\n",
      "Ventana: 680 - 850\n",
      "Ventana: 850 - 1020\n",
      "Ventana: 1020 - 1190\n",
      "Ventana: 1190 - 1360\n",
      "Ventana: 1360 - 1530\n",
      "Ventana: 1530 - 1700\n",
      "Ventana: 1700 - 1870\n",
      "Ventana: 1870 - 2040\n",
      "Ventana: 2040 - 2210\n",
      "Ventana: 2210 - 2380\n",
      "Ventana: 2380 - 2550\n",
      "Ventana: 2550 - 2720\n",
      "Ventana: 2720 - 2890\n",
      "Ventana: 2890 - 3060\n",
      "Ventana: 3060 - 3230\n",
      "Ventana: 3230 - 3400\n",
      "Ventana: 3400 - 3570\n",
      "Ventana: 3570 - 3740\n",
      "Ventana: 3740 - 3910\n",
      "Ventana: 3910 - 4080\n",
      "Ventana: 4080 - 4250\n",
      "Ventana: 4250 - 4420\n",
      "Ventana: 4420 - 4590\n",
      "Ventana: 4590 - 4760\n",
      "Ventana: 4760 - 4930\n",
      "Ventana: 4930 - 5100\n",
      "Ventana: 5100 - 5270\n",
      "Ventana: 5270 - 5440\n",
      "Ventana: 5440 - 5610\n",
      "Ventana: 5610 - 5780\n",
      "Ventana: 5780 - 5950\n",
      "Ventana: 5950 - 6120\n",
      "Ventana: 6120 - 6290\n",
      "Ventana: 6290 - 6460\n",
      "Ventana: 6460 - 6630\n",
      "Ventana: 6630 - 6800\n",
      "Ventana: 6800 - 6970\n",
      "Ventana: 6970 - 7140\n",
      "Ventana: 7140 - 7310\n",
      "Ventana: 7310 - 7480\n",
      "Ventana: 7480 - 7650\n",
      "Ventana: 7650 - 7820\n",
      "Ventana: 7820 - 7990\n",
      "Ventana: 7990 - 8160\n"
     ]
    }
   ],
   "source": [
    "tamano_ventana = 170 \n",
    "nuevo_df = pd.DataFrame()\n",
    "nuevo_df_predicciones = pd.DataFrame()\n",
    "\n",
    "for i in range(0, len(X) - tamano_ventana + 1, tamano_ventana):\n",
    "    warnings.filterwarnings(\"ignore\")\n",
    "    print(f\"Ventana: {i} - {i + tamano_ventana}\")\n",
    "    ventana = X.iloc[i:i + tamano_ventana]\n",
    "    \n",
    "    X1 = predict_pycaret(pipeline, ventana)\n",
    "    nuevo_df_predicciones = pd.concat([nuevo_df_predicciones, X1], ignore_index=True)"
   ],
   "metadata": {
    "collapsed": false,
    "ExecuteTime": {
     "end_time": "2023-12-19T16:09:12.793317100Z",
     "start_time": "2023-12-19T16:09:04.197086500Z"
    }
   },
   "id": "c141b2a2382e57dd"
  },
  {
   "cell_type": "code",
   "execution_count": 23,
   "outputs": [
    {
     "data": {
      "text/plain": "(48, 3)"
     },
     "execution_count": 23,
     "metadata": {},
     "output_type": "execute_result"
    }
   ],
   "source": [
    "nuevo_df_predicciones.shape"
   ],
   "metadata": {
    "collapsed": false,
    "ExecuteTime": {
     "end_time": "2023-12-19T16:09:16.886245200Z",
     "start_time": "2023-12-19T16:09:16.864696400Z"
    }
   },
   "id": "f56d4c3f4aff7cd1"
  },
  {
   "cell_type": "code",
   "execution_count": 24,
   "outputs": [
    {
     "data": {
      "text/plain": "                    start                     end   prediction\n0 1970-01-01 00:00:00.000 1970-01-01 00:00:01.607  NO_EXERCISE\n1 1970-01-01 00:00:01.616 1970-01-01 00:00:03.223  NO_EXERCISE\n2 1970-01-01 00:00:03.232 1970-01-01 00:00:04.838  NO_EXERCISE\n3 1970-01-01 00:00:04.847 1970-01-01 00:00:06.454  NO_EXERCISE\n4 1970-01-01 00:00:06.467 1970-01-01 00:00:08.074  NO_EXERCISE",
      "text/html": "<div>\n<style scoped>\n    .dataframe tbody tr th:only-of-type {\n        vertical-align: middle;\n    }\n\n    .dataframe tbody tr th {\n        vertical-align: top;\n    }\n\n    .dataframe thead th {\n        text-align: right;\n    }\n</style>\n<table border=\"1\" class=\"dataframe\">\n  <thead>\n    <tr style=\"text-align: right;\">\n      <th></th>\n      <th>start</th>\n      <th>end</th>\n      <th>prediction</th>\n    </tr>\n  </thead>\n  <tbody>\n    <tr>\n      <th>0</th>\n      <td>1970-01-01 00:00:00.000</td>\n      <td>1970-01-01 00:00:01.607</td>\n      <td>NO_EXERCISE</td>\n    </tr>\n    <tr>\n      <th>1</th>\n      <td>1970-01-01 00:00:01.616</td>\n      <td>1970-01-01 00:00:03.223</td>\n      <td>NO_EXERCISE</td>\n    </tr>\n    <tr>\n      <th>2</th>\n      <td>1970-01-01 00:00:03.232</td>\n      <td>1970-01-01 00:00:04.838</td>\n      <td>NO_EXERCISE</td>\n    </tr>\n    <tr>\n      <th>3</th>\n      <td>1970-01-01 00:00:04.847</td>\n      <td>1970-01-01 00:00:06.454</td>\n      <td>NO_EXERCISE</td>\n    </tr>\n    <tr>\n      <th>4</th>\n      <td>1970-01-01 00:00:06.467</td>\n      <td>1970-01-01 00:00:08.074</td>\n      <td>NO_EXERCISE</td>\n    </tr>\n  </tbody>\n</table>\n</div>"
     },
     "execution_count": 24,
     "metadata": {},
     "output_type": "execute_result"
    }
   ],
   "source": [
    "nuevo_df_predicciones.head()"
   ],
   "metadata": {
    "collapsed": false,
    "ExecuteTime": {
     "end_time": "2023-12-19T16:09:18.888582400Z",
     "start_time": "2023-12-19T16:09:18.872491900Z"
    }
   },
   "id": "8d7378f1d86d68de"
  },
  {
   "cell_type": "code",
   "execution_count": 26,
   "outputs": [
    {
     "data": {
      "text/plain": "(array(['NO_EXERCISE', 'SQUAT'], dtype=object), array([45,  3], dtype=int64))"
     },
     "execution_count": 26,
     "metadata": {},
     "output_type": "execute_result"
    }
   ],
   "source": [
    "np.unique(nuevo_df_predicciones.prediction,return_counts=True)"
   ],
   "metadata": {
    "collapsed": false,
    "ExecuteTime": {
     "end_time": "2023-12-19T16:09:28.287486800Z",
     "start_time": "2023-12-19T16:09:28.259294600Z"
    }
   },
   "id": "97389856faa1507b"
  },
  {
   "cell_type": "code",
   "execution_count": 27,
   "outputs": [
    {
     "data": {
      "text/plain": "                     start                     end prediction\n5  1970-01-01 00:00:08.083 1970-01-01 00:00:09.690      SQUAT\n7  1970-01-01 00:00:11.315 1970-01-01 00:00:12.922      SQUAT\n12 1970-01-01 00:00:19.402 1970-01-01 00:00:21.009      SQUAT",
      "text/html": "<div>\n<style scoped>\n    .dataframe tbody tr th:only-of-type {\n        vertical-align: middle;\n    }\n\n    .dataframe tbody tr th {\n        vertical-align: top;\n    }\n\n    .dataframe thead th {\n        text-align: right;\n    }\n</style>\n<table border=\"1\" class=\"dataframe\">\n  <thead>\n    <tr style=\"text-align: right;\">\n      <th></th>\n      <th>start</th>\n      <th>end</th>\n      <th>prediction</th>\n    </tr>\n  </thead>\n  <tbody>\n    <tr>\n      <th>5</th>\n      <td>1970-01-01 00:00:08.083</td>\n      <td>1970-01-01 00:00:09.690</td>\n      <td>SQUAT</td>\n    </tr>\n    <tr>\n      <th>7</th>\n      <td>1970-01-01 00:00:11.315</td>\n      <td>1970-01-01 00:00:12.922</td>\n      <td>SQUAT</td>\n    </tr>\n    <tr>\n      <th>12</th>\n      <td>1970-01-01 00:00:19.402</td>\n      <td>1970-01-01 00:00:21.009</td>\n      <td>SQUAT</td>\n    </tr>\n  </tbody>\n</table>\n</div>"
     },
     "execution_count": 27,
     "metadata": {},
     "output_type": "execute_result"
    }
   ],
   "source": [
    "squats_detection = nuevo_df_predicciones[nuevo_df_predicciones.prediction == 'SQUAT'][['start', 'end', 'prediction']]\n",
    "squats_detection"
   ],
   "metadata": {
    "collapsed": false,
    "ExecuteTime": {
     "end_time": "2023-12-19T16:09:30.972704800Z",
     "start_time": "2023-12-19T16:09:30.943258700Z"
    }
   },
   "id": "abc38de3e07594b"
  },
  {
   "cell_type": "code",
   "execution_count": 28,
   "outputs": [
    {
     "data": {
      "text/plain": "                     start                     end   prediction\n0  1970-01-01 00:00:00.000 1970-01-01 00:00:01.607  NO_EXERCISE\n1  1970-01-01 00:00:01.616 1970-01-01 00:00:03.223  NO_EXERCISE\n2  1970-01-01 00:00:03.232 1970-01-01 00:00:04.838  NO_EXERCISE\n3  1970-01-01 00:00:04.847 1970-01-01 00:00:06.454  NO_EXERCISE\n4  1970-01-01 00:00:06.467 1970-01-01 00:00:08.074  NO_EXERCISE\n6  1970-01-01 00:00:09.699 1970-01-01 00:00:11.306  NO_EXERCISE\n8  1970-01-01 00:00:12.935 1970-01-01 00:00:14.542  NO_EXERCISE\n9  1970-01-01 00:00:14.551 1970-01-01 00:00:16.157  NO_EXERCISE\n10 1970-01-01 00:00:16.166 1970-01-01 00:00:17.773  NO_EXERCISE\n11 1970-01-01 00:00:17.782 1970-01-01 00:00:19.389  NO_EXERCISE\n13 1970-01-01 00:00:21.018 1970-01-01 00:00:22.625  NO_EXERCISE\n14 1970-01-01 00:00:22.634 1970-01-01 00:00:24.241  NO_EXERCISE\n15 1970-01-01 00:00:24.250 1970-01-01 00:00:25.856  NO_EXERCISE\n16 1970-01-01 00:00:25.869 1970-01-01 00:00:27.476  NO_EXERCISE\n17 1970-01-01 00:00:27.485 1970-01-01 00:00:29.092  NO_EXERCISE\n18 1970-01-01 00:00:29.101 1970-01-01 00:00:30.708  NO_EXERCISE\n19 1970-01-01 00:00:30.717 1970-01-01 00:00:32.324  NO_EXERCISE\n20 1970-01-01 00:00:32.337 1970-01-01 00:00:33.944  NO_EXERCISE\n21 1970-01-01 00:00:33.953 1970-01-01 00:00:35.560  NO_EXERCISE\n22 1970-01-01 00:00:35.569 1970-01-01 00:00:37.175  NO_EXERCISE\n23 1970-01-01 00:00:37.184 1970-01-01 00:00:38.791  NO_EXERCISE\n24 1970-01-01 00:00:38.804 1970-01-01 00:00:40.411  NO_EXERCISE\n25 1970-01-01 00:00:40.420 1970-01-01 00:00:42.027  NO_EXERCISE\n26 1970-01-01 00:00:42.036 1970-01-01 00:00:43.643  NO_EXERCISE\n27 1970-01-01 00:00:43.652 1970-01-01 00:00:45.259  NO_EXERCISE\n28 1970-01-01 00:00:45.272 1970-01-01 00:00:46.878  NO_EXERCISE\n29 1970-01-01 00:00:46.887 1970-01-01 00:00:48.494  NO_EXERCISE\n30 1970-01-01 00:00:48.503 1970-01-01 00:00:50.111  NO_EXERCISE\n31 1970-01-01 00:00:50.120 1970-01-01 00:00:51.726  NO_EXERCISE\n32 1970-01-01 00:00:51.740 1970-01-01 00:00:53.346  NO_EXERCISE\n33 1970-01-01 00:00:53.355 1970-01-01 00:00:54.962  NO_EXERCISE\n34 1970-01-01 00:00:54.971 1970-01-01 00:00:56.578  NO_EXERCISE\n35 1970-01-01 00:00:56.587 1970-01-01 00:00:58.194  NO_EXERCISE\n36 1970-01-01 00:00:58.207 1970-01-01 00:00:59.814  NO_EXERCISE\n37 1970-01-01 00:00:59.823 1970-01-01 00:01:01.430  NO_EXERCISE\n38 1970-01-01 00:01:01.439 1970-01-01 00:01:03.045  NO_EXERCISE\n39 1970-01-01 00:01:03.054 1970-01-01 00:01:04.661  NO_EXERCISE\n40 1970-01-01 00:01:04.674 1970-01-01 00:01:06.281  NO_EXERCISE\n41 1970-01-01 00:01:06.290 1970-01-01 00:01:07.897  NO_EXERCISE\n42 1970-01-01 00:01:07.906 1970-01-01 00:01:09.513  NO_EXERCISE\n43 1970-01-01 00:01:09.522 1970-01-01 00:01:11.129  NO_EXERCISE\n44 1970-01-01 00:01:11.142 1970-01-01 00:01:12.749  NO_EXERCISE\n45 1970-01-01 00:01:12.758 1970-01-01 00:01:14.364  NO_EXERCISE\n46 1970-01-01 00:01:14.373 1970-01-01 00:01:15.980  NO_EXERCISE\n47 1970-01-01 00:01:15.989 1970-01-01 00:01:17.596  NO_EXERCISE",
      "text/html": "<div>\n<style scoped>\n    .dataframe tbody tr th:only-of-type {\n        vertical-align: middle;\n    }\n\n    .dataframe tbody tr th {\n        vertical-align: top;\n    }\n\n    .dataframe thead th {\n        text-align: right;\n    }\n</style>\n<table border=\"1\" class=\"dataframe\">\n  <thead>\n    <tr style=\"text-align: right;\">\n      <th></th>\n      <th>start</th>\n      <th>end</th>\n      <th>prediction</th>\n    </tr>\n  </thead>\n  <tbody>\n    <tr>\n      <th>0</th>\n      <td>1970-01-01 00:00:00.000</td>\n      <td>1970-01-01 00:00:01.607</td>\n      <td>NO_EXERCISE</td>\n    </tr>\n    <tr>\n      <th>1</th>\n      <td>1970-01-01 00:00:01.616</td>\n      <td>1970-01-01 00:00:03.223</td>\n      <td>NO_EXERCISE</td>\n    </tr>\n    <tr>\n      <th>2</th>\n      <td>1970-01-01 00:00:03.232</td>\n      <td>1970-01-01 00:00:04.838</td>\n      <td>NO_EXERCISE</td>\n    </tr>\n    <tr>\n      <th>3</th>\n      <td>1970-01-01 00:00:04.847</td>\n      <td>1970-01-01 00:00:06.454</td>\n      <td>NO_EXERCISE</td>\n    </tr>\n    <tr>\n      <th>4</th>\n      <td>1970-01-01 00:00:06.467</td>\n      <td>1970-01-01 00:00:08.074</td>\n      <td>NO_EXERCISE</td>\n    </tr>\n    <tr>\n      <th>6</th>\n      <td>1970-01-01 00:00:09.699</td>\n      <td>1970-01-01 00:00:11.306</td>\n      <td>NO_EXERCISE</td>\n    </tr>\n    <tr>\n      <th>8</th>\n      <td>1970-01-01 00:00:12.935</td>\n      <td>1970-01-01 00:00:14.542</td>\n      <td>NO_EXERCISE</td>\n    </tr>\n    <tr>\n      <th>9</th>\n      <td>1970-01-01 00:00:14.551</td>\n      <td>1970-01-01 00:00:16.157</td>\n      <td>NO_EXERCISE</td>\n    </tr>\n    <tr>\n      <th>10</th>\n      <td>1970-01-01 00:00:16.166</td>\n      <td>1970-01-01 00:00:17.773</td>\n      <td>NO_EXERCISE</td>\n    </tr>\n    <tr>\n      <th>11</th>\n      <td>1970-01-01 00:00:17.782</td>\n      <td>1970-01-01 00:00:19.389</td>\n      <td>NO_EXERCISE</td>\n    </tr>\n    <tr>\n      <th>13</th>\n      <td>1970-01-01 00:00:21.018</td>\n      <td>1970-01-01 00:00:22.625</td>\n      <td>NO_EXERCISE</td>\n    </tr>\n    <tr>\n      <th>14</th>\n      <td>1970-01-01 00:00:22.634</td>\n      <td>1970-01-01 00:00:24.241</td>\n      <td>NO_EXERCISE</td>\n    </tr>\n    <tr>\n      <th>15</th>\n      <td>1970-01-01 00:00:24.250</td>\n      <td>1970-01-01 00:00:25.856</td>\n      <td>NO_EXERCISE</td>\n    </tr>\n    <tr>\n      <th>16</th>\n      <td>1970-01-01 00:00:25.869</td>\n      <td>1970-01-01 00:00:27.476</td>\n      <td>NO_EXERCISE</td>\n    </tr>\n    <tr>\n      <th>17</th>\n      <td>1970-01-01 00:00:27.485</td>\n      <td>1970-01-01 00:00:29.092</td>\n      <td>NO_EXERCISE</td>\n    </tr>\n    <tr>\n      <th>18</th>\n      <td>1970-01-01 00:00:29.101</td>\n      <td>1970-01-01 00:00:30.708</td>\n      <td>NO_EXERCISE</td>\n    </tr>\n    <tr>\n      <th>19</th>\n      <td>1970-01-01 00:00:30.717</td>\n      <td>1970-01-01 00:00:32.324</td>\n      <td>NO_EXERCISE</td>\n    </tr>\n    <tr>\n      <th>20</th>\n      <td>1970-01-01 00:00:32.337</td>\n      <td>1970-01-01 00:00:33.944</td>\n      <td>NO_EXERCISE</td>\n    </tr>\n    <tr>\n      <th>21</th>\n      <td>1970-01-01 00:00:33.953</td>\n      <td>1970-01-01 00:00:35.560</td>\n      <td>NO_EXERCISE</td>\n    </tr>\n    <tr>\n      <th>22</th>\n      <td>1970-01-01 00:00:35.569</td>\n      <td>1970-01-01 00:00:37.175</td>\n      <td>NO_EXERCISE</td>\n    </tr>\n    <tr>\n      <th>23</th>\n      <td>1970-01-01 00:00:37.184</td>\n      <td>1970-01-01 00:00:38.791</td>\n      <td>NO_EXERCISE</td>\n    </tr>\n    <tr>\n      <th>24</th>\n      <td>1970-01-01 00:00:38.804</td>\n      <td>1970-01-01 00:00:40.411</td>\n      <td>NO_EXERCISE</td>\n    </tr>\n    <tr>\n      <th>25</th>\n      <td>1970-01-01 00:00:40.420</td>\n      <td>1970-01-01 00:00:42.027</td>\n      <td>NO_EXERCISE</td>\n    </tr>\n    <tr>\n      <th>26</th>\n      <td>1970-01-01 00:00:42.036</td>\n      <td>1970-01-01 00:00:43.643</td>\n      <td>NO_EXERCISE</td>\n    </tr>\n    <tr>\n      <th>27</th>\n      <td>1970-01-01 00:00:43.652</td>\n      <td>1970-01-01 00:00:45.259</td>\n      <td>NO_EXERCISE</td>\n    </tr>\n    <tr>\n      <th>28</th>\n      <td>1970-01-01 00:00:45.272</td>\n      <td>1970-01-01 00:00:46.878</td>\n      <td>NO_EXERCISE</td>\n    </tr>\n    <tr>\n      <th>29</th>\n      <td>1970-01-01 00:00:46.887</td>\n      <td>1970-01-01 00:00:48.494</td>\n      <td>NO_EXERCISE</td>\n    </tr>\n    <tr>\n      <th>30</th>\n      <td>1970-01-01 00:00:48.503</td>\n      <td>1970-01-01 00:00:50.111</td>\n      <td>NO_EXERCISE</td>\n    </tr>\n    <tr>\n      <th>31</th>\n      <td>1970-01-01 00:00:50.120</td>\n      <td>1970-01-01 00:00:51.726</td>\n      <td>NO_EXERCISE</td>\n    </tr>\n    <tr>\n      <th>32</th>\n      <td>1970-01-01 00:00:51.740</td>\n      <td>1970-01-01 00:00:53.346</td>\n      <td>NO_EXERCISE</td>\n    </tr>\n    <tr>\n      <th>33</th>\n      <td>1970-01-01 00:00:53.355</td>\n      <td>1970-01-01 00:00:54.962</td>\n      <td>NO_EXERCISE</td>\n    </tr>\n    <tr>\n      <th>34</th>\n      <td>1970-01-01 00:00:54.971</td>\n      <td>1970-01-01 00:00:56.578</td>\n      <td>NO_EXERCISE</td>\n    </tr>\n    <tr>\n      <th>35</th>\n      <td>1970-01-01 00:00:56.587</td>\n      <td>1970-01-01 00:00:58.194</td>\n      <td>NO_EXERCISE</td>\n    </tr>\n    <tr>\n      <th>36</th>\n      <td>1970-01-01 00:00:58.207</td>\n      <td>1970-01-01 00:00:59.814</td>\n      <td>NO_EXERCISE</td>\n    </tr>\n    <tr>\n      <th>37</th>\n      <td>1970-01-01 00:00:59.823</td>\n      <td>1970-01-01 00:01:01.430</td>\n      <td>NO_EXERCISE</td>\n    </tr>\n    <tr>\n      <th>38</th>\n      <td>1970-01-01 00:01:01.439</td>\n      <td>1970-01-01 00:01:03.045</td>\n      <td>NO_EXERCISE</td>\n    </tr>\n    <tr>\n      <th>39</th>\n      <td>1970-01-01 00:01:03.054</td>\n      <td>1970-01-01 00:01:04.661</td>\n      <td>NO_EXERCISE</td>\n    </tr>\n    <tr>\n      <th>40</th>\n      <td>1970-01-01 00:01:04.674</td>\n      <td>1970-01-01 00:01:06.281</td>\n      <td>NO_EXERCISE</td>\n    </tr>\n    <tr>\n      <th>41</th>\n      <td>1970-01-01 00:01:06.290</td>\n      <td>1970-01-01 00:01:07.897</td>\n      <td>NO_EXERCISE</td>\n    </tr>\n    <tr>\n      <th>42</th>\n      <td>1970-01-01 00:01:07.906</td>\n      <td>1970-01-01 00:01:09.513</td>\n      <td>NO_EXERCISE</td>\n    </tr>\n    <tr>\n      <th>43</th>\n      <td>1970-01-01 00:01:09.522</td>\n      <td>1970-01-01 00:01:11.129</td>\n      <td>NO_EXERCISE</td>\n    </tr>\n    <tr>\n      <th>44</th>\n      <td>1970-01-01 00:01:11.142</td>\n      <td>1970-01-01 00:01:12.749</td>\n      <td>NO_EXERCISE</td>\n    </tr>\n    <tr>\n      <th>45</th>\n      <td>1970-01-01 00:01:12.758</td>\n      <td>1970-01-01 00:01:14.364</td>\n      <td>NO_EXERCISE</td>\n    </tr>\n    <tr>\n      <th>46</th>\n      <td>1970-01-01 00:01:14.373</td>\n      <td>1970-01-01 00:01:15.980</td>\n      <td>NO_EXERCISE</td>\n    </tr>\n    <tr>\n      <th>47</th>\n      <td>1970-01-01 00:01:15.989</td>\n      <td>1970-01-01 00:01:17.596</td>\n      <td>NO_EXERCISE</td>\n    </tr>\n  </tbody>\n</table>\n</div>"
     },
     "execution_count": 28,
     "metadata": {},
     "output_type": "execute_result"
    }
   ],
   "source": [
    "squats_detection = nuevo_df_predicciones[nuevo_df_predicciones.prediction == ('NO_EXERCISE'\n",
    "                                                                              ''\n",
    "                                                                              '')][['start', 'end', 'prediction']]\n",
    "squats_detection"
   ],
   "metadata": {
    "collapsed": false,
    "ExecuteTime": {
     "end_time": "2023-12-19T16:09:37.227533Z",
     "start_time": "2023-12-19T16:09:37.210049900Z"
    }
   },
   "id": "b5ddc9a84e0bf7b6"
  }
 ],
 "metadata": {
  "kernelspec": {
   "display_name": "Python 3",
   "language": "python",
   "name": "python3"
  },
  "language_info": {
   "codemirror_mode": {
    "name": "ipython",
    "version": 2
   },
   "file_extension": ".py",
   "mimetype": "text/x-python",
   "name": "python",
   "nbconvert_exporter": "python",
   "pygments_lexer": "ipython2",
   "version": "2.7.6"
  }
 },
 "nbformat": 4,
 "nbformat_minor": 5
}
