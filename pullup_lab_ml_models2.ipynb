{
 "cells": [
  {
   "cell_type": "markdown",
   "id": "7a26496c-e3c9-47b2-b136-ada4d9bf20b6",
   "metadata": {
    "tags": []
   },
   "source": [
    "# ETL "
   ]
  },
  {
   "cell_type": "code",
   "execution_count": 2,
   "id": "48a99f12-cbfb-40cf-b151-f245b00bb21c",
   "metadata": {},
   "outputs": [],
   "source": [
    "from fitizens_libraries.load_and_process_training_data import load_training_data\n",
    "from fitizens_libraries.load_timeseries import load_timeseries_data\n",
    "from custom_libraries.merge_data import merge_data\n",
    "from fitizens_libraries.plot_labeled_sequences import plot_labeled_sequence\n",
    "from statsmodels.graphics.tsaplots import plot_acf, plot_pacf\n",
    "from matplotlib import pyplot\n",
    "from fitizens_libraries.build_dataframe_from_list_of_signals import build_dataframe\n",
    "from collections import Counter\n",
    "from sklearn.preprocessing import OneHotEncoder, StandardScaler\n",
    "from sklearn.model_selection import train_test_split \n",
    "from sklearn.feature_selection import SelectKBest, f_classif\n",
    "from sklearn.preprocessing import LabelEncoder\n",
    "from imblearn.over_sampling import SMOTE\n",
    "from sklearn.metrics import accuracy_score\n",
    "from sklearn.metrics import confusion_matrix, classification_report\n",
    "from sklearn.metrics import roc_auc_score, roc_curve, classification_report, auc, roc_auc_score\n",
    "import plotly.graph_objects as go\n",
    "from sklearn.metrics import accuracy_score, precision_score, recall_score, f1_score\n",
    "from sklearn.metrics import roc_curve, auc\n",
    "import plotly.express as px\n",
    "import seaborn as sns\n",
    "import matplotlib.pyplot as plt\n",
    "import numpy as np\n",
    "import pandas as pd\n",
    "import os\n",
    "from pycaret.classification import *"
   ]
  },
  {
   "cell_type": "markdown",
   "id": "2e11ff26",
   "metadata": {},
   "source": [
    "# Creating Auxiliary Functions"
   ]
  },
  {
   "cell_type": "markdown",
   "id": "5271e81f",
   "metadata": {},
   "source": [
    "def create_custom_dataframe(series):\n",
    "    df =  series[[\"linAccX\", \"linAccY\", \"linAccZ\", \"gyroX\", \"gyroY\", \"gyroZ\", \"magnX\", \"magnY\", \"magnZ\"]]\n",
    "    return df"
   ]
  },
  {
   "cell_type": "code",
   "execution_count": 3,
   "id": "40326e03",
   "metadata": {},
   "outputs": [],
   "source": [
    "def create_custom_dataframe(series):\n",
    "    df =  series[[\"linAccX\", \"linAccY\", \"linAccZ\", \"gyroX\", \"gyroY\", \"gyroZ\", \"magnX\", \"magnY\", \"magnZ\"]]\n",
    "    return df"
   ]
  },
  {
   "cell_type": "code",
   "execution_count": 4,
   "id": "c8238294",
   "metadata": {},
   "outputs": [],
   "source": [
    "def create_training_data_stats(df, target):\n",
    "    stats_dict = {}\n",
    "    series = create_custom_dataframe(df)\n",
    "    \n",
    "    for column in series.columns:\n",
    "        mean = series[column].mean()\n",
    "        std = series[column].std()\n",
    "        median = series[column].median()\n",
    "        skewness = series[column].skew()\n",
    "        kurtosis = series[column].kurtosis()\n",
    "        min_val = series[column].min()\n",
    "        max_val = series[column].max()\n",
    "        range_val = max_val - min_val\n",
    "        quartile_25 = np.percentile(series[column], 25)\n",
    "        quartile_75 = np.percentile(series[column], 75)\n",
    "        iqr = quartile_75 - quartile_25\n",
    "    \n",
    "\n",
    "        stats_dict[f\"{column}_mean\"] = mean\n",
    "        stats_dict[f\"{column}_std\"] = std\n",
    "        stats_dict[f\"{column}_median\"] = median\n",
    "        stats_dict[f\"{column}_skewness\"] = skewness\n",
    "        stats_dict[f\"{column}_kurtosis\"] = kurtosis\n",
    "        stats_dict[f\"{column}_min\"] = min_val\n",
    "        stats_dict[f\"{column}_max\"] = max_val\n",
    "        stats_dict[f\"{column}_range\"] = range_val\n",
    "        stats_dict[f\"{column}_quartile_25\"] = quartile_25\n",
    "        stats_dict[f\"{column}_quartile_75\"] = quartile_75\n",
    "        stats_dict[f\"{column}_iqr\"] = iqr\n",
    "          \n",
    "    stats_dict[\"target\"] = target\n",
    "    return stats_dict"
   ]
  },
  {
   "cell_type": "markdown",
   "id": "30e95e8d",
   "metadata": {},
   "source": [
    "## LOADING DATA"
   ]
  },
  {
   "cell_type": "code",
   "execution_count": 5,
   "id": "cb92b6c3",
   "metadata": {},
   "outputs": [],
   "source": [
    "folder_path = \"PULL_UP\"\n",
    "os.makedirs(folder_path, exist_ok=True)\n",
    "file_names = [f\"{folder_path}/{name}\" for name in os.listdir(folder_path)]\n",
    "signals = ['accX', 'accY', 'accZ', 'gyroX', 'gyroY', 'gyroZ', 'magnX', 'magnY', 'magnZ', 'linAccX', 'linAccY', 'linAccZ']\n",
    "\n",
    "data, wk = load_training_data(filelist=file_names,\n",
    "                         signals= signals,\n",
    "                          target_exercise=\"PULL_UP\", other_exercises=[])\n",
    "#data[0]"
   ]
  },
  {
   "cell_type": "markdown",
   "id": "d949b7d1",
   "metadata": {},
   "source": [
    "## CREATING NEW DATA"
   ]
  },
  {
   "cell_type": "code",
   "execution_count": 6,
   "id": "aca69624",
   "metadata": {},
   "outputs": [
    {
     "data": {
      "text/html": [
       "<div>\n",
       "<style scoped>\n",
       "    .dataframe tbody tr th:only-of-type {\n",
       "        vertical-align: middle;\n",
       "    }\n",
       "\n",
       "    .dataframe tbody tr th {\n",
       "        vertical-align: top;\n",
       "    }\n",
       "\n",
       "    .dataframe thead th {\n",
       "        text-align: right;\n",
       "    }\n",
       "</style>\n",
       "<table border=\"1\" class=\"dataframe\">\n",
       "  <thead>\n",
       "    <tr style=\"text-align: right;\">\n",
       "      <th></th>\n",
       "      <th>linAccX_mean</th>\n",
       "      <th>linAccX_std</th>\n",
       "      <th>linAccX_median</th>\n",
       "      <th>linAccX_skewness</th>\n",
       "      <th>linAccX_kurtosis</th>\n",
       "      <th>linAccX_min</th>\n",
       "      <th>linAccX_max</th>\n",
       "      <th>linAccX_range</th>\n",
       "      <th>linAccX_quartile_25</th>\n",
       "      <th>linAccX_quartile_75</th>\n",
       "      <th>...</th>\n",
       "      <th>magnZ_median</th>\n",
       "      <th>magnZ_skewness</th>\n",
       "      <th>magnZ_kurtosis</th>\n",
       "      <th>magnZ_min</th>\n",
       "      <th>magnZ_max</th>\n",
       "      <th>magnZ_range</th>\n",
       "      <th>magnZ_quartile_25</th>\n",
       "      <th>magnZ_quartile_75</th>\n",
       "      <th>magnZ_iqr</th>\n",
       "      <th>target</th>\n",
       "    </tr>\n",
       "  </thead>\n",
       "  <tbody>\n",
       "    <tr>\n",
       "      <th>0</th>\n",
       "      <td>0.031360</td>\n",
       "      <td>1.071091</td>\n",
       "      <td>0.038188</td>\n",
       "      <td>-0.109850</td>\n",
       "      <td>-1.246794</td>\n",
       "      <td>-1.942501</td>\n",
       "      <td>1.811731</td>\n",
       "      <td>3.754232</td>\n",
       "      <td>-0.925485</td>\n",
       "      <td>1.007318</td>\n",
       "      <td>...</td>\n",
       "      <td>-77.272789</td>\n",
       "      <td>-0.275129</td>\n",
       "      <td>-0.777759</td>\n",
       "      <td>-84.751093</td>\n",
       "      <td>-70.096254</td>\n",
       "      <td>14.654839</td>\n",
       "      <td>-79.618439</td>\n",
       "      <td>-74.269433</td>\n",
       "      <td>5.349007</td>\n",
       "      <td>PULL_UP</td>\n",
       "    </tr>\n",
       "    <tr>\n",
       "      <th>1</th>\n",
       "      <td>-0.128505</td>\n",
       "      <td>1.033064</td>\n",
       "      <td>-0.157659</td>\n",
       "      <td>0.012384</td>\n",
       "      <td>-1.407388</td>\n",
       "      <td>-1.850275</td>\n",
       "      <td>1.440093</td>\n",
       "      <td>3.290368</td>\n",
       "      <td>-1.094480</td>\n",
       "      <td>0.908885</td>\n",
       "      <td>...</td>\n",
       "      <td>-78.648694</td>\n",
       "      <td>0.137563</td>\n",
       "      <td>-1.455297</td>\n",
       "      <td>-83.978102</td>\n",
       "      <td>-71.531203</td>\n",
       "      <td>12.446899</td>\n",
       "      <td>-82.421250</td>\n",
       "      <td>-74.212945</td>\n",
       "      <td>8.208305</td>\n",
       "      <td>PULL_UP</td>\n",
       "    </tr>\n",
       "    <tr>\n",
       "      <th>2</th>\n",
       "      <td>-0.299515</td>\n",
       "      <td>1.248926</td>\n",
       "      <td>-0.156186</td>\n",
       "      <td>-0.130530</td>\n",
       "      <td>-1.423565</td>\n",
       "      <td>-2.290351</td>\n",
       "      <td>1.957517</td>\n",
       "      <td>4.247868</td>\n",
       "      <td>-1.550839</td>\n",
       "      <td>0.919231</td>\n",
       "      <td>...</td>\n",
       "      <td>-79.384906</td>\n",
       "      <td>0.163366</td>\n",
       "      <td>-1.429985</td>\n",
       "      <td>-85.226778</td>\n",
       "      <td>-71.474750</td>\n",
       "      <td>13.752028</td>\n",
       "      <td>-83.235433</td>\n",
       "      <td>-74.527547</td>\n",
       "      <td>8.707887</td>\n",
       "      <td>PULL_UP</td>\n",
       "    </tr>\n",
       "    <tr>\n",
       "      <th>3</th>\n",
       "      <td>-0.220221</td>\n",
       "      <td>1.433931</td>\n",
       "      <td>-0.107702</td>\n",
       "      <td>-0.146439</td>\n",
       "      <td>-1.319559</td>\n",
       "      <td>-2.851186</td>\n",
       "      <td>1.998444</td>\n",
       "      <td>4.849630</td>\n",
       "      <td>-1.573721</td>\n",
       "      <td>1.139807</td>\n",
       "      <td>...</td>\n",
       "      <td>-77.601143</td>\n",
       "      <td>-0.177038</td>\n",
       "      <td>-1.013174</td>\n",
       "      <td>-86.201852</td>\n",
       "      <td>-69.294334</td>\n",
       "      <td>16.907518</td>\n",
       "      <td>-80.929011</td>\n",
       "      <td>-73.566760</td>\n",
       "      <td>7.362252</td>\n",
       "      <td>PULL_UP</td>\n",
       "    </tr>\n",
       "    <tr>\n",
       "      <th>4</th>\n",
       "      <td>-0.575884</td>\n",
       "      <td>1.587459</td>\n",
       "      <td>-0.531071</td>\n",
       "      <td>-0.040824</td>\n",
       "      <td>-1.485298</td>\n",
       "      <td>-2.944019</td>\n",
       "      <td>1.672652</td>\n",
       "      <td>4.616672</td>\n",
       "      <td>-2.143676</td>\n",
       "      <td>0.970326</td>\n",
       "      <td>...</td>\n",
       "      <td>-80.947363</td>\n",
       "      <td>0.392641</td>\n",
       "      <td>-1.183016</td>\n",
       "      <td>-86.369660</td>\n",
       "      <td>-69.425305</td>\n",
       "      <td>16.944354</td>\n",
       "      <td>-84.595873</td>\n",
       "      <td>-75.375935</td>\n",
       "      <td>9.219937</td>\n",
       "      <td>PULL_UP</td>\n",
       "    </tr>\n",
       "  </tbody>\n",
       "</table>\n",
       "<p>5 rows × 100 columns</p>\n",
       "</div>"
      ],
      "text/plain": [
       "   linAccX_mean  linAccX_std  linAccX_median  linAccX_skewness  \\\n",
       "0      0.031360     1.071091        0.038188         -0.109850   \n",
       "1     -0.128505     1.033064       -0.157659          0.012384   \n",
       "2     -0.299515     1.248926       -0.156186         -0.130530   \n",
       "3     -0.220221     1.433931       -0.107702         -0.146439   \n",
       "4     -0.575884     1.587459       -0.531071         -0.040824   \n",
       "\n",
       "   linAccX_kurtosis  linAccX_min  linAccX_max  linAccX_range  \\\n",
       "0         -1.246794    -1.942501     1.811731       3.754232   \n",
       "1         -1.407388    -1.850275     1.440093       3.290368   \n",
       "2         -1.423565    -2.290351     1.957517       4.247868   \n",
       "3         -1.319559    -2.851186     1.998444       4.849630   \n",
       "4         -1.485298    -2.944019     1.672652       4.616672   \n",
       "\n",
       "   linAccX_quartile_25  linAccX_quartile_75  ...  magnZ_median  \\\n",
       "0            -0.925485             1.007318  ...    -77.272789   \n",
       "1            -1.094480             0.908885  ...    -78.648694   \n",
       "2            -1.550839             0.919231  ...    -79.384906   \n",
       "3            -1.573721             1.139807  ...    -77.601143   \n",
       "4            -2.143676             0.970326  ...    -80.947363   \n",
       "\n",
       "   magnZ_skewness  magnZ_kurtosis  magnZ_min  magnZ_max  magnZ_range  \\\n",
       "0       -0.275129       -0.777759 -84.751093 -70.096254    14.654839   \n",
       "1        0.137563       -1.455297 -83.978102 -71.531203    12.446899   \n",
       "2        0.163366       -1.429985 -85.226778 -71.474750    13.752028   \n",
       "3       -0.177038       -1.013174 -86.201852 -69.294334    16.907518   \n",
       "4        0.392641       -1.183016 -86.369660 -69.425305    16.944354   \n",
       "\n",
       "   magnZ_quartile_25  magnZ_quartile_75  magnZ_iqr   target  \n",
       "0         -79.618439         -74.269433   5.349007  PULL_UP  \n",
       "1         -82.421250         -74.212945   8.208305  PULL_UP  \n",
       "2         -83.235433         -74.527547   8.707887  PULL_UP  \n",
       "3         -80.929011         -73.566760   7.362252  PULL_UP  \n",
       "4         -84.595873         -75.375935   9.219937  PULL_UP  \n",
       "\n",
       "[5 rows x 100 columns]"
      ]
     },
     "execution_count": 6,
     "metadata": {},
     "output_type": "execute_result"
    }
   ],
   "source": [
    "data_info = [create_training_data_stats(info[\"series\"], info[\"target\"]) for info in data] #calling the two functions\n",
    "data_custom = pd.DataFrame(data_info) #creating the DF\n",
    "data_custom.head()"
   ]
  },
  {
   "cell_type": "code",
   "execution_count": null,
   "id": "82e884af",
   "metadata": {},
   "outputs": [],
   "source": [
    "data_custom['target']"
   ]
  },
  {
   "cell_type": "markdown",
   "id": "47812d7d-32be-4d13-87e4-36240ba021a0",
   "metadata": {},
   "source": [
    "# ML with Pycaret"
   ]
  },
  {
   "cell_type": "code",
   "execution_count": 7,
   "id": "dae65040-d017-4bfa-9b86-62008a9dbfa8",
   "metadata": {},
   "outputs": [
    {
     "name": "stdout",
     "output_type": "stream",
     "text": [
      "Data for Modeling: (2801, 100)\n",
      "Simulated data For Production (147, 100)\n"
     ]
    }
   ],
   "source": [
    "data_dev = data_custom.sample(frac=0.95, random_state=786)\n",
    "data_prod = data_custom.drop(data_dev.index)\n",
    "\n",
    "data_dev.reset_index(inplace=True, drop=True)\n",
    "data_prod.reset_index(inplace=True, drop=True)\n",
    "\n",
    "print('Data for Modeling: ' + str(data_dev.shape))\n",
    "print('Simulated data For Production ' + str(data_prod.shape))"
   ]
  },
  {
   "cell_type": "code",
   "execution_count": 8,
   "id": "d17dfe16-cbbe-48a8-9029-34e7c1918ebc",
   "metadata": {},
   "outputs": [
    {
     "name": "stdout",
     "output_type": "stream",
     "text": [
      "[LightGBM] [Info] Number of positive: 2085, number of negative: 2085\n",
      "[LightGBM] [Info] Auto-choosing col-wise multi-threading, the overhead of testing was 0.001979 seconds.\n",
      "You can set `force_col_wise=true` to remove the overhead.\n",
      "[LightGBM] [Info] Total Bins 16563\n",
      "[LightGBM] [Info] Number of data points in the train set: 4170, number of used features: 65\n",
      "[LightGBM] [Info] [binary:BoostFromScore]: pavg=0.500000 -> initscore=0.000000\n"
     ]
    },
    {
     "data": {
      "text/html": [
       "<style type=\"text/css\">\n",
       "#T_e7ad6_row9_col1, #T_e7ad6_row13_col1, #T_e7ad6_row15_col1, #T_e7ad6_row17_col1, #T_e7ad6_row19_col1, #T_e7ad6_row21_col1 {\n",
       "  background-color: lightgreen;\n",
       "}\n",
       "</style>\n",
       "<table id=\"T_e7ad6\">\n",
       "  <thead>\n",
       "    <tr>\n",
       "      <th class=\"blank level0\" >&nbsp;</th>\n",
       "      <th id=\"T_e7ad6_level0_col0\" class=\"col_heading level0 col0\" >Description</th>\n",
       "      <th id=\"T_e7ad6_level0_col1\" class=\"col_heading level0 col1\" >Value</th>\n",
       "    </tr>\n",
       "  </thead>\n",
       "  <tbody>\n",
       "    <tr>\n",
       "      <th id=\"T_e7ad6_level0_row0\" class=\"row_heading level0 row0\" >0</th>\n",
       "      <td id=\"T_e7ad6_row0_col0\" class=\"data row0 col0\" >Session id</td>\n",
       "      <td id=\"T_e7ad6_row0_col1\" class=\"data row0 col1\" >2848</td>\n",
       "    </tr>\n",
       "    <tr>\n",
       "      <th id=\"T_e7ad6_level0_row1\" class=\"row_heading level0 row1\" >1</th>\n",
       "      <td id=\"T_e7ad6_row1_col0\" class=\"data row1 col0\" >Target</td>\n",
       "      <td id=\"T_e7ad6_row1_col1\" class=\"data row1 col1\" >target</td>\n",
       "    </tr>\n",
       "    <tr>\n",
       "      <th id=\"T_e7ad6_level0_row2\" class=\"row_heading level0 row2\" >2</th>\n",
       "      <td id=\"T_e7ad6_row2_col0\" class=\"data row2 col0\" >Target type</td>\n",
       "      <td id=\"T_e7ad6_row2_col1\" class=\"data row2 col1\" >Binary</td>\n",
       "    </tr>\n",
       "    <tr>\n",
       "      <th id=\"T_e7ad6_level0_row3\" class=\"row_heading level0 row3\" >3</th>\n",
       "      <td id=\"T_e7ad6_row3_col0\" class=\"data row3 col0\" >Target mapping</td>\n",
       "      <td id=\"T_e7ad6_row3_col1\" class=\"data row3 col1\" >NO_EXERCISE: 0, PULL_UP: 1</td>\n",
       "    </tr>\n",
       "    <tr>\n",
       "      <th id=\"T_e7ad6_level0_row4\" class=\"row_heading level0 row4\" >4</th>\n",
       "      <td id=\"T_e7ad6_row4_col0\" class=\"data row4 col0\" >Original data shape</td>\n",
       "      <td id=\"T_e7ad6_row4_col1\" class=\"data row4 col1\" >(2801, 100)</td>\n",
       "    </tr>\n",
       "    <tr>\n",
       "      <th id=\"T_e7ad6_level0_row5\" class=\"row_heading level0 row5\" >5</th>\n",
       "      <td id=\"T_e7ad6_row5_col0\" class=\"data row5 col0\" >Transformed data shape</td>\n",
       "      <td id=\"T_e7ad6_row5_col1\" class=\"data row5 col1\" >(4731, 11)</td>\n",
       "    </tr>\n",
       "    <tr>\n",
       "      <th id=\"T_e7ad6_level0_row6\" class=\"row_heading level0 row6\" >6</th>\n",
       "      <td id=\"T_e7ad6_row6_col0\" class=\"data row6 col0\" >Transformed train set shape</td>\n",
       "      <td id=\"T_e7ad6_row6_col1\" class=\"data row6 col1\" >(4170, 11)</td>\n",
       "    </tr>\n",
       "    <tr>\n",
       "      <th id=\"T_e7ad6_level0_row7\" class=\"row_heading level0 row7\" >7</th>\n",
       "      <td id=\"T_e7ad6_row7_col0\" class=\"data row7 col0\" >Transformed test set shape</td>\n",
       "      <td id=\"T_e7ad6_row7_col1\" class=\"data row7 col1\" >(561, 11)</td>\n",
       "    </tr>\n",
       "    <tr>\n",
       "      <th id=\"T_e7ad6_level0_row8\" class=\"row_heading level0 row8\" >8</th>\n",
       "      <td id=\"T_e7ad6_row8_col0\" class=\"data row8 col0\" >Numeric features</td>\n",
       "      <td id=\"T_e7ad6_row8_col1\" class=\"data row8 col1\" >99</td>\n",
       "    </tr>\n",
       "    <tr>\n",
       "      <th id=\"T_e7ad6_level0_row9\" class=\"row_heading level0 row9\" >9</th>\n",
       "      <td id=\"T_e7ad6_row9_col0\" class=\"data row9 col0\" >Preprocess</td>\n",
       "      <td id=\"T_e7ad6_row9_col1\" class=\"data row9 col1\" >True</td>\n",
       "    </tr>\n",
       "    <tr>\n",
       "      <th id=\"T_e7ad6_level0_row10\" class=\"row_heading level0 row10\" >10</th>\n",
       "      <td id=\"T_e7ad6_row10_col0\" class=\"data row10 col0\" >Imputation type</td>\n",
       "      <td id=\"T_e7ad6_row10_col1\" class=\"data row10 col1\" >simple</td>\n",
       "    </tr>\n",
       "    <tr>\n",
       "      <th id=\"T_e7ad6_level0_row11\" class=\"row_heading level0 row11\" >11</th>\n",
       "      <td id=\"T_e7ad6_row11_col0\" class=\"data row11 col0\" >Numeric imputation</td>\n",
       "      <td id=\"T_e7ad6_row11_col1\" class=\"data row11 col1\" >mean</td>\n",
       "    </tr>\n",
       "    <tr>\n",
       "      <th id=\"T_e7ad6_level0_row12\" class=\"row_heading level0 row12\" >12</th>\n",
       "      <td id=\"T_e7ad6_row12_col0\" class=\"data row12 col0\" >Categorical imputation</td>\n",
       "      <td id=\"T_e7ad6_row12_col1\" class=\"data row12 col1\" >mode</td>\n",
       "    </tr>\n",
       "    <tr>\n",
       "      <th id=\"T_e7ad6_level0_row13\" class=\"row_heading level0 row13\" >13</th>\n",
       "      <td id=\"T_e7ad6_row13_col0\" class=\"data row13 col0\" >Remove multicollinearity</td>\n",
       "      <td id=\"T_e7ad6_row13_col1\" class=\"data row13 col1\" >True</td>\n",
       "    </tr>\n",
       "    <tr>\n",
       "      <th id=\"T_e7ad6_level0_row14\" class=\"row_heading level0 row14\" >14</th>\n",
       "      <td id=\"T_e7ad6_row14_col0\" class=\"data row14 col0\" >Multicollinearity threshold</td>\n",
       "      <td id=\"T_e7ad6_row14_col1\" class=\"data row14 col1\" >0.900000</td>\n",
       "    </tr>\n",
       "    <tr>\n",
       "      <th id=\"T_e7ad6_level0_row15\" class=\"row_heading level0 row15\" >15</th>\n",
       "      <td id=\"T_e7ad6_row15_col0\" class=\"data row15 col0\" >Remove outliers</td>\n",
       "      <td id=\"T_e7ad6_row15_col1\" class=\"data row15 col1\" >True</td>\n",
       "    </tr>\n",
       "    <tr>\n",
       "      <th id=\"T_e7ad6_level0_row16\" class=\"row_heading level0 row16\" >16</th>\n",
       "      <td id=\"T_e7ad6_row16_col0\" class=\"data row16 col0\" >Outliers threshold</td>\n",
       "      <td id=\"T_e7ad6_row16_col1\" class=\"data row16 col1\" >0.030000</td>\n",
       "    </tr>\n",
       "    <tr>\n",
       "      <th id=\"T_e7ad6_level0_row17\" class=\"row_heading level0 row17\" >17</th>\n",
       "      <td id=\"T_e7ad6_row17_col0\" class=\"data row17 col0\" >Fix imbalance</td>\n",
       "      <td id=\"T_e7ad6_row17_col1\" class=\"data row17 col1\" >True</td>\n",
       "    </tr>\n",
       "    <tr>\n",
       "      <th id=\"T_e7ad6_level0_row18\" class=\"row_heading level0 row18\" >18</th>\n",
       "      <td id=\"T_e7ad6_row18_col0\" class=\"data row18 col0\" >Fix imbalance method</td>\n",
       "      <td id=\"T_e7ad6_row18_col1\" class=\"data row18 col1\" >SMOTE</td>\n",
       "    </tr>\n",
       "    <tr>\n",
       "      <th id=\"T_e7ad6_level0_row19\" class=\"row_heading level0 row19\" >19</th>\n",
       "      <td id=\"T_e7ad6_row19_col0\" class=\"data row19 col0\" >Normalize</td>\n",
       "      <td id=\"T_e7ad6_row19_col1\" class=\"data row19 col1\" >True</td>\n",
       "    </tr>\n",
       "    <tr>\n",
       "      <th id=\"T_e7ad6_level0_row20\" class=\"row_heading level0 row20\" >20</th>\n",
       "      <td id=\"T_e7ad6_row20_col0\" class=\"data row20 col0\" >Normalize method</td>\n",
       "      <td id=\"T_e7ad6_row20_col1\" class=\"data row20 col1\" >robust</td>\n",
       "    </tr>\n",
       "    <tr>\n",
       "      <th id=\"T_e7ad6_level0_row21\" class=\"row_heading level0 row21\" >21</th>\n",
       "      <td id=\"T_e7ad6_row21_col0\" class=\"data row21 col0\" >Feature selection</td>\n",
       "      <td id=\"T_e7ad6_row21_col1\" class=\"data row21 col1\" >True</td>\n",
       "    </tr>\n",
       "    <tr>\n",
       "      <th id=\"T_e7ad6_level0_row22\" class=\"row_heading level0 row22\" >22</th>\n",
       "      <td id=\"T_e7ad6_row22_col0\" class=\"data row22 col0\" >Feature selection method</td>\n",
       "      <td id=\"T_e7ad6_row22_col1\" class=\"data row22 col1\" >classic</td>\n",
       "    </tr>\n",
       "    <tr>\n",
       "      <th id=\"T_e7ad6_level0_row23\" class=\"row_heading level0 row23\" >23</th>\n",
       "      <td id=\"T_e7ad6_row23_col0\" class=\"data row23 col0\" >Feature selection estimator</td>\n",
       "      <td id=\"T_e7ad6_row23_col1\" class=\"data row23 col1\" >lightgbm</td>\n",
       "    </tr>\n",
       "    <tr>\n",
       "      <th id=\"T_e7ad6_level0_row24\" class=\"row_heading level0 row24\" >24</th>\n",
       "      <td id=\"T_e7ad6_row24_col0\" class=\"data row24 col0\" >Number of features selected</td>\n",
       "      <td id=\"T_e7ad6_row24_col1\" class=\"data row24 col1\" >10</td>\n",
       "    </tr>\n",
       "    <tr>\n",
       "      <th id=\"T_e7ad6_level0_row25\" class=\"row_heading level0 row25\" >25</th>\n",
       "      <td id=\"T_e7ad6_row25_col0\" class=\"data row25 col0\" >Fold Generator</td>\n",
       "      <td id=\"T_e7ad6_row25_col1\" class=\"data row25 col1\" >StratifiedKFold</td>\n",
       "    </tr>\n",
       "    <tr>\n",
       "      <th id=\"T_e7ad6_level0_row26\" class=\"row_heading level0 row26\" >26</th>\n",
       "      <td id=\"T_e7ad6_row26_col0\" class=\"data row26 col0\" >Fold Number</td>\n",
       "      <td id=\"T_e7ad6_row26_col1\" class=\"data row26 col1\" >10</td>\n",
       "    </tr>\n",
       "    <tr>\n",
       "      <th id=\"T_e7ad6_level0_row27\" class=\"row_heading level0 row27\" >27</th>\n",
       "      <td id=\"T_e7ad6_row27_col0\" class=\"data row27 col0\" >CPU Jobs</td>\n",
       "      <td id=\"T_e7ad6_row27_col1\" class=\"data row27 col1\" >-1</td>\n",
       "    </tr>\n",
       "    <tr>\n",
       "      <th id=\"T_e7ad6_level0_row28\" class=\"row_heading level0 row28\" >28</th>\n",
       "      <td id=\"T_e7ad6_row28_col0\" class=\"data row28 col0\" >Use GPU</td>\n",
       "      <td id=\"T_e7ad6_row28_col1\" class=\"data row28 col1\" >False</td>\n",
       "    </tr>\n",
       "    <tr>\n",
       "      <th id=\"T_e7ad6_level0_row29\" class=\"row_heading level0 row29\" >29</th>\n",
       "      <td id=\"T_e7ad6_row29_col0\" class=\"data row29 col0\" >Log Experiment</td>\n",
       "      <td id=\"T_e7ad6_row29_col1\" class=\"data row29 col1\" >False</td>\n",
       "    </tr>\n",
       "    <tr>\n",
       "      <th id=\"T_e7ad6_level0_row30\" class=\"row_heading level0 row30\" >30</th>\n",
       "      <td id=\"T_e7ad6_row30_col0\" class=\"data row30 col0\" >Experiment Name</td>\n",
       "      <td id=\"T_e7ad6_row30_col1\" class=\"data row30 col1\" >clf-default-name</td>\n",
       "    </tr>\n",
       "    <tr>\n",
       "      <th id=\"T_e7ad6_level0_row31\" class=\"row_heading level0 row31\" >31</th>\n",
       "      <td id=\"T_e7ad6_row31_col0\" class=\"data row31 col0\" >USI</td>\n",
       "      <td id=\"T_e7ad6_row31_col1\" class=\"data row31 col1\" >62fd</td>\n",
       "    </tr>\n",
       "  </tbody>\n",
       "</table>\n"
      ],
      "text/plain": [
       "<pandas.io.formats.style.Styler at 0x25124bab6a0>"
      ]
     },
     "metadata": {},
     "output_type": "display_data"
    }
   ],
   "source": [
    "model = setup(\n",
    "    # Basic options\n",
    "    data = data_dev,\n",
    "    target = \"target\",\n",
    "    train_size = 0.8, \n",
    "    preprocess = True,\n",
    "    \n",
    "    # Dealing with multicollinearity\n",
    "    remove_multicollinearity = True,\n",
    "    multicollinearity_threshold = 0.9,\n",
    "        \n",
    "    # Feature normalization with outliers\n",
    "    normalize = True,\n",
    "    normalize_method = 'robust',\n",
    "        \n",
    "    # Paralellization options\n",
    "    n_jobs = - 1,\n",
    "    use_gpu = False,\n",
    "    \n",
    "    # Imbalance Dataset\n",
    "    fix_imbalance=True,\n",
    "\n",
    "    remove_outliers= True, \n",
    "    outliers_threshold= 0.03,\n",
    "    \n",
    "    # Feature Importance\n",
    "    feature_selection = True,\n",
    "    n_features_to_select= 10\n",
    ")"
   ]
  },
  {
   "cell_type": "code",
   "execution_count": 9,
   "id": "04e40c4d-09e9-4a3a-846c-df58cba98a88",
   "metadata": {},
   "outputs": [
    {
     "data": {
      "text/html": [],
      "text/plain": [
       "<IPython.core.display.HTML object>"
      ]
     },
     "metadata": {},
     "output_type": "display_data"
    },
    {
     "data": {
      "text/html": [
       "<style type=\"text/css\">\n",
       "#T_315da th {\n",
       "  text-align: left;\n",
       "}\n",
       "#T_315da_row0_col0, #T_315da_row0_col1, #T_315da_row0_col3, #T_315da_row0_col4, #T_315da_row1_col0, #T_315da_row1_col1, #T_315da_row1_col2, #T_315da_row1_col3, #T_315da_row1_col4, #T_315da_row1_col5, #T_315da_row1_col6, #T_315da_row1_col7, #T_315da_row2_col0, #T_315da_row2_col1, #T_315da_row2_col2, #T_315da_row2_col3, #T_315da_row2_col4, #T_315da_row2_col5, #T_315da_row2_col6, #T_315da_row2_col7, #T_315da_row3_col0, #T_315da_row3_col1, #T_315da_row3_col2, #T_315da_row3_col3, #T_315da_row3_col4, #T_315da_row3_col5, #T_315da_row3_col6, #T_315da_row3_col7, #T_315da_row4_col0, #T_315da_row4_col2, #T_315da_row4_col4, #T_315da_row4_col5, #T_315da_row4_col6, #T_315da_row4_col7, #T_315da_row5_col0, #T_315da_row5_col1, #T_315da_row5_col2, #T_315da_row5_col3, #T_315da_row5_col4, #T_315da_row5_col5, #T_315da_row5_col6, #T_315da_row5_col7, #T_315da_row6_col0, #T_315da_row6_col1, #T_315da_row6_col2, #T_315da_row6_col3, #T_315da_row6_col4, #T_315da_row6_col5, #T_315da_row6_col6, #T_315da_row6_col7, #T_315da_row7_col0, #T_315da_row7_col1, #T_315da_row7_col2, #T_315da_row7_col3, #T_315da_row7_col4, #T_315da_row7_col5, #T_315da_row7_col6, #T_315da_row7_col7, #T_315da_row8_col0, #T_315da_row8_col1, #T_315da_row8_col2, #T_315da_row8_col3, #T_315da_row8_col4, #T_315da_row8_col5, #T_315da_row8_col6, #T_315da_row8_col7, #T_315da_row9_col0, #T_315da_row9_col1, #T_315da_row9_col2, #T_315da_row9_col3, #T_315da_row9_col4, #T_315da_row9_col5, #T_315da_row9_col6, #T_315da_row9_col7, #T_315da_row10_col0, #T_315da_row10_col1, #T_315da_row10_col2, #T_315da_row10_col3, #T_315da_row10_col4, #T_315da_row10_col5, #T_315da_row10_col6, #T_315da_row10_col7, #T_315da_row11_col0, #T_315da_row11_col1, #T_315da_row11_col2, #T_315da_row11_col3, #T_315da_row11_col4, #T_315da_row11_col5, #T_315da_row11_col6, #T_315da_row11_col7, #T_315da_row12_col0, #T_315da_row12_col1, #T_315da_row12_col2, #T_315da_row12_col3, #T_315da_row12_col4, #T_315da_row12_col5, #T_315da_row12_col6, #T_315da_row12_col7, #T_315da_row13_col0, #T_315da_row13_col1, #T_315da_row13_col2, #T_315da_row13_col3, #T_315da_row13_col4, #T_315da_row13_col5, #T_315da_row13_col6, #T_315da_row13_col7, #T_315da_row14_col0, #T_315da_row14_col1, #T_315da_row14_col2, #T_315da_row14_col3, #T_315da_row14_col5, #T_315da_row14_col6, #T_315da_row14_col7, #T_315da_row15_col0, #T_315da_row15_col1, #T_315da_row15_col2, #T_315da_row15_col3, #T_315da_row15_col4, #T_315da_row15_col5, #T_315da_row15_col6, #T_315da_row15_col7 {\n",
       "  text-align: left;\n",
       "}\n",
       "#T_315da_row0_col2, #T_315da_row0_col5, #T_315da_row0_col6, #T_315da_row0_col7, #T_315da_row4_col1, #T_315da_row4_col3, #T_315da_row14_col4 {\n",
       "  text-align: left;\n",
       "  background-color: yellow;\n",
       "}\n",
       "#T_315da_row0_col8, #T_315da_row1_col8, #T_315da_row2_col8, #T_315da_row3_col8, #T_315da_row4_col8, #T_315da_row5_col8, #T_315da_row6_col8, #T_315da_row7_col8, #T_315da_row8_col8, #T_315da_row9_col8, #T_315da_row10_col8, #T_315da_row11_col8, #T_315da_row12_col8, #T_315da_row14_col8, #T_315da_row15_col8 {\n",
       "  text-align: left;\n",
       "  background-color: lightgrey;\n",
       "}\n",
       "#T_315da_row13_col8 {\n",
       "  text-align: left;\n",
       "  background-color: yellow;\n",
       "  background-color: lightgrey;\n",
       "}\n",
       "</style>\n",
       "<table id=\"T_315da\">\n",
       "  <thead>\n",
       "    <tr>\n",
       "      <th class=\"blank level0\" >&nbsp;</th>\n",
       "      <th id=\"T_315da_level0_col0\" class=\"col_heading level0 col0\" >Model</th>\n",
       "      <th id=\"T_315da_level0_col1\" class=\"col_heading level0 col1\" >Accuracy</th>\n",
       "      <th id=\"T_315da_level0_col2\" class=\"col_heading level0 col2\" >AUC</th>\n",
       "      <th id=\"T_315da_level0_col3\" class=\"col_heading level0 col3\" >Recall</th>\n",
       "      <th id=\"T_315da_level0_col4\" class=\"col_heading level0 col4\" >Prec.</th>\n",
       "      <th id=\"T_315da_level0_col5\" class=\"col_heading level0 col5\" >F1</th>\n",
       "      <th id=\"T_315da_level0_col6\" class=\"col_heading level0 col6\" >Kappa</th>\n",
       "      <th id=\"T_315da_level0_col7\" class=\"col_heading level0 col7\" >MCC</th>\n",
       "      <th id=\"T_315da_level0_col8\" class=\"col_heading level0 col8\" >TT (Sec)</th>\n",
       "    </tr>\n",
       "  </thead>\n",
       "  <tbody>\n",
       "    <tr>\n",
       "      <th id=\"T_315da_level0_row0\" class=\"row_heading level0 row0\" >et</th>\n",
       "      <td id=\"T_315da_row0_col0\" class=\"data row0 col0\" >Extra Trees Classifier</td>\n",
       "      <td id=\"T_315da_row0_col1\" class=\"data row0 col1\" >0.9397</td>\n",
       "      <td id=\"T_315da_row0_col2\" class=\"data row0 col2\" >0.9167</td>\n",
       "      <td id=\"T_315da_row0_col3\" class=\"data row0 col3\" >0.9397</td>\n",
       "      <td id=\"T_315da_row0_col4\" class=\"data row0 col4\" >0.9522</td>\n",
       "      <td id=\"T_315da_row0_col5\" class=\"data row0 col5\" >0.9452</td>\n",
       "      <td id=\"T_315da_row0_col6\" class=\"data row0 col6\" >0.3778</td>\n",
       "      <td id=\"T_315da_row0_col7\" class=\"data row0 col7\" >0.3857</td>\n",
       "      <td id=\"T_315da_row0_col8\" class=\"data row0 col8\" >0.7900</td>\n",
       "    </tr>\n",
       "    <tr>\n",
       "      <th id=\"T_315da_level0_row1\" class=\"row_heading level0 row1\" >rf</th>\n",
       "      <td id=\"T_315da_row1_col0\" class=\"data row1 col0\" >Random Forest Classifier</td>\n",
       "      <td id=\"T_315da_row1_col1\" class=\"data row1 col1\" >0.9330</td>\n",
       "      <td id=\"T_315da_row1_col2\" class=\"data row1 col2\" >0.8934</td>\n",
       "      <td id=\"T_315da_row1_col3\" class=\"data row1 col3\" >0.9330</td>\n",
       "      <td id=\"T_315da_row1_col4\" class=\"data row1 col4\" >0.9500</td>\n",
       "      <td id=\"T_315da_row1_col5\" class=\"data row1 col5\" >0.9405</td>\n",
       "      <td id=\"T_315da_row1_col6\" class=\"data row1 col6\" >0.3435</td>\n",
       "      <td id=\"T_315da_row1_col7\" class=\"data row1 col7\" >0.3542</td>\n",
       "      <td id=\"T_315da_row1_col8\" class=\"data row1 col8\" >3.4500</td>\n",
       "    </tr>\n",
       "    <tr>\n",
       "      <th id=\"T_315da_level0_row2\" class=\"row_heading level0 row2\" >lightgbm</th>\n",
       "      <td id=\"T_315da_row2_col0\" class=\"data row2 col0\" >Light Gradient Boosting Machine</td>\n",
       "      <td id=\"T_315da_row2_col1\" class=\"data row2 col1\" >0.9317</td>\n",
       "      <td id=\"T_315da_row2_col2\" class=\"data row2 col2\" >0.8912</td>\n",
       "      <td id=\"T_315da_row2_col3\" class=\"data row2 col3\" >0.9317</td>\n",
       "      <td id=\"T_315da_row2_col4\" class=\"data row2 col4\" >0.9498</td>\n",
       "      <td id=\"T_315da_row2_col5\" class=\"data row2 col5\" >0.9396</td>\n",
       "      <td id=\"T_315da_row2_col6\" class=\"data row2 col6\" >0.3399</td>\n",
       "      <td id=\"T_315da_row2_col7\" class=\"data row2 col7\" >0.3510</td>\n",
       "      <td id=\"T_315da_row2_col8\" class=\"data row2 col8\" >0.6750</td>\n",
       "    </tr>\n",
       "    <tr>\n",
       "      <th id=\"T_315da_level0_row3\" class=\"row_heading level0 row3\" >xgboost</th>\n",
       "      <td id=\"T_315da_row3_col0\" class=\"data row3 col0\" >Extreme Gradient Boosting</td>\n",
       "      <td id=\"T_315da_row3_col1\" class=\"data row3 col1\" >0.9299</td>\n",
       "      <td id=\"T_315da_row3_col2\" class=\"data row3 col2\" >0.8935</td>\n",
       "      <td id=\"T_315da_row3_col3\" class=\"data row3 col3\" >0.9299</td>\n",
       "      <td id=\"T_315da_row3_col4\" class=\"data row3 col4\" >0.9505</td>\n",
       "      <td id=\"T_315da_row3_col5\" class=\"data row3 col5\" >0.9388</td>\n",
       "      <td id=\"T_315da_row3_col6\" class=\"data row3 col6\" >0.3431</td>\n",
       "      <td id=\"T_315da_row3_col7\" class=\"data row3 col7\" >0.3570</td>\n",
       "      <td id=\"T_315da_row3_col8\" class=\"data row3 col8\" >0.7100</td>\n",
       "    </tr>\n",
       "    <tr>\n",
       "      <th id=\"T_315da_level0_row4\" class=\"row_heading level0 row4\" >dummy</th>\n",
       "      <td id=\"T_315da_row4_col0\" class=\"data row4 col0\" >Dummy Classifier</td>\n",
       "      <td id=\"T_315da_row4_col1\" class=\"data row4 col1\" >0.9589</td>\n",
       "      <td id=\"T_315da_row4_col2\" class=\"data row4 col2\" >0.5000</td>\n",
       "      <td id=\"T_315da_row4_col3\" class=\"data row4 col3\" >0.9589</td>\n",
       "      <td id=\"T_315da_row4_col4\" class=\"data row4 col4\" >0.9195</td>\n",
       "      <td id=\"T_315da_row4_col5\" class=\"data row4 col5\" >0.9388</td>\n",
       "      <td id=\"T_315da_row4_col6\" class=\"data row4 col6\" >0.0000</td>\n",
       "      <td id=\"T_315da_row4_col7\" class=\"data row4 col7\" >0.0000</td>\n",
       "      <td id=\"T_315da_row4_col8\" class=\"data row4 col8\" >0.5600</td>\n",
       "    </tr>\n",
       "    <tr>\n",
       "      <th id=\"T_315da_level0_row5\" class=\"row_heading level0 row5\" >catboost</th>\n",
       "      <td id=\"T_315da_row5_col0\" class=\"data row5 col0\" >CatBoost Classifier</td>\n",
       "      <td id=\"T_315da_row5_col1\" class=\"data row5 col1\" >0.9268</td>\n",
       "      <td id=\"T_315da_row5_col2\" class=\"data row5 col2\" >0.9048</td>\n",
       "      <td id=\"T_315da_row5_col3\" class=\"data row5 col3\" >0.9268</td>\n",
       "      <td id=\"T_315da_row5_col4\" class=\"data row5 col4\" >0.9527</td>\n",
       "      <td id=\"T_315da_row5_col5\" class=\"data row5 col5\" >0.9376</td>\n",
       "      <td id=\"T_315da_row5_col6\" class=\"data row5 col6\" >0.3560</td>\n",
       "      <td id=\"T_315da_row5_col7\" class=\"data row5 col7\" >0.3769</td>\n",
       "      <td id=\"T_315da_row5_col8\" class=\"data row5 col8\" >3.4050</td>\n",
       "    </tr>\n",
       "    <tr>\n",
       "      <th id=\"T_315da_level0_row6\" class=\"row_heading level0 row6\" >dt</th>\n",
       "      <td id=\"T_315da_row6_col0\" class=\"data row6 col0\" >Decision Tree Classifier</td>\n",
       "      <td id=\"T_315da_row6_col1\" class=\"data row6 col1\" >0.9250</td>\n",
       "      <td id=\"T_315da_row6_col2\" class=\"data row6 col2\" >0.6644</td>\n",
       "      <td id=\"T_315da_row6_col3\" class=\"data row6 col3\" >0.9250</td>\n",
       "      <td id=\"T_315da_row6_col4\" class=\"data row6 col4\" >0.9427</td>\n",
       "      <td id=\"T_315da_row6_col5\" class=\"data row6 col5\" >0.9330</td>\n",
       "      <td id=\"T_315da_row6_col6\" class=\"data row6 col6\" >0.2569</td>\n",
       "      <td id=\"T_315da_row6_col7\" class=\"data row6 col7\" >0.2646</td>\n",
       "      <td id=\"T_315da_row6_col8\" class=\"data row6 col8\" >3.1900</td>\n",
       "    </tr>\n",
       "    <tr>\n",
       "      <th id=\"T_315da_level0_row7\" class=\"row_heading level0 row7\" >gbc</th>\n",
       "      <td id=\"T_315da_row7_col0\" class=\"data row7 col0\" >Gradient Boosting Classifier</td>\n",
       "      <td id=\"T_315da_row7_col1\" class=\"data row7 col1\" >0.9112</td>\n",
       "      <td id=\"T_315da_row7_col2\" class=\"data row7 col2\" >0.8985</td>\n",
       "      <td id=\"T_315da_row7_col3\" class=\"data row7 col3\" >0.9112</td>\n",
       "      <td id=\"T_315da_row7_col4\" class=\"data row7 col4\" >0.9526</td>\n",
       "      <td id=\"T_315da_row7_col5\" class=\"data row7 col5\" >0.9280</td>\n",
       "      <td id=\"T_315da_row7_col6\" class=\"data row7 col6\" >0.3248</td>\n",
       "      <td id=\"T_315da_row7_col7\" class=\"data row7 col7\" >0.3594</td>\n",
       "      <td id=\"T_315da_row7_col8\" class=\"data row7 col8\" >1.1100</td>\n",
       "    </tr>\n",
       "    <tr>\n",
       "      <th id=\"T_315da_level0_row8\" class=\"row_heading level0 row8\" >ada</th>\n",
       "      <td id=\"T_315da_row8_col0\" class=\"data row8 col0\" >Ada Boost Classifier</td>\n",
       "      <td id=\"T_315da_row8_col1\" class=\"data row8 col1\" >0.9009</td>\n",
       "      <td id=\"T_315da_row8_col2\" class=\"data row8 col2\" >0.8719</td>\n",
       "      <td id=\"T_315da_row8_col3\" class=\"data row8 col3\" >0.9009</td>\n",
       "      <td id=\"T_315da_row8_col4\" class=\"data row8 col4\" >0.9501</td>\n",
       "      <td id=\"T_315da_row8_col5\" class=\"data row8 col5\" >0.9211</td>\n",
       "      <td id=\"T_315da_row8_col6\" class=\"data row8 col6\" >0.2851</td>\n",
       "      <td id=\"T_315da_row8_col7\" class=\"data row8 col7\" >0.3230</td>\n",
       "      <td id=\"T_315da_row8_col8\" class=\"data row8 col8\" >0.7250</td>\n",
       "    </tr>\n",
       "    <tr>\n",
       "      <th id=\"T_315da_level0_row9\" class=\"row_heading level0 row9\" >knn</th>\n",
       "      <td id=\"T_315da_row9_col0\" class=\"data row9 col0\" >K Neighbors Classifier</td>\n",
       "      <td id=\"T_315da_row9_col1\" class=\"data row9 col1\" >0.8746</td>\n",
       "      <td id=\"T_315da_row9_col2\" class=\"data row9 col2\" >0.8379</td>\n",
       "      <td id=\"T_315da_row9_col3\" class=\"data row9 col3\" >0.8746</td>\n",
       "      <td id=\"T_315da_row9_col4\" class=\"data row9 col4\" >0.9533</td>\n",
       "      <td id=\"T_315da_row9_col5\" class=\"data row9 col5\" >0.9055</td>\n",
       "      <td id=\"T_315da_row9_col6\" class=\"data row9 col6\" >0.2646</td>\n",
       "      <td id=\"T_315da_row9_col7\" class=\"data row9 col7\" >0.3281</td>\n",
       "      <td id=\"T_315da_row9_col8\" class=\"data row9 col8\" >3.3250</td>\n",
       "    </tr>\n",
       "    <tr>\n",
       "      <th id=\"T_315da_level0_row10\" class=\"row_heading level0 row10\" >qda</th>\n",
       "      <td id=\"T_315da_row10_col0\" class=\"data row10 col0\" >Quadratic Discriminant Analysis</td>\n",
       "      <td id=\"T_315da_row10_col1\" class=\"data row10 col1\" >0.8652</td>\n",
       "      <td id=\"T_315da_row10_col2\" class=\"data row10 col2\" >0.8653</td>\n",
       "      <td id=\"T_315da_row10_col3\" class=\"data row10 col3\" >0.8652</td>\n",
       "      <td id=\"T_315da_row10_col4\" class=\"data row10 col4\" >0.9515</td>\n",
       "      <td id=\"T_315da_row10_col5\" class=\"data row10 col5\" >0.8994</td>\n",
       "      <td id=\"T_315da_row10_col6\" class=\"data row10 col6\" >0.2425</td>\n",
       "      <td id=\"T_315da_row10_col7\" class=\"data row10 col7\" >0.3051</td>\n",
       "      <td id=\"T_315da_row10_col8\" class=\"data row10 col8\" >3.2150</td>\n",
       "    </tr>\n",
       "    <tr>\n",
       "      <th id=\"T_315da_level0_row11\" class=\"row_heading level0 row11\" >lr</th>\n",
       "      <td id=\"T_315da_row11_col0\" class=\"data row11 col0\" >Logistic Regression</td>\n",
       "      <td id=\"T_315da_row11_col1\" class=\"data row11 col1\" >0.7897</td>\n",
       "      <td id=\"T_315da_row11_col2\" class=\"data row11 col2\" >0.8394</td>\n",
       "      <td id=\"T_315da_row11_col3\" class=\"data row11 col3\" >0.7897</td>\n",
       "      <td id=\"T_315da_row11_col4\" class=\"data row11 col4\" >0.9499</td>\n",
       "      <td id=\"T_315da_row11_col5\" class=\"data row11 col5\" >0.8513</td>\n",
       "      <td id=\"T_315da_row11_col6\" class=\"data row11 col6\" >0.1613</td>\n",
       "      <td id=\"T_315da_row11_col7\" class=\"data row11 col7\" >0.2419</td>\n",
       "      <td id=\"T_315da_row11_col8\" class=\"data row11 col8\" >4.6550</td>\n",
       "    </tr>\n",
       "    <tr>\n",
       "      <th id=\"T_315da_level0_row12\" class=\"row_heading level0 row12\" >svm</th>\n",
       "      <td id=\"T_315da_row12_col0\" class=\"data row12 col0\" >SVM - Linear Kernel</td>\n",
       "      <td id=\"T_315da_row12_col1\" class=\"data row12 col1\" >0.7853</td>\n",
       "      <td id=\"T_315da_row12_col2\" class=\"data row12 col2\" >0.0000</td>\n",
       "      <td id=\"T_315da_row12_col3\" class=\"data row12 col3\" >0.7853</td>\n",
       "      <td id=\"T_315da_row12_col4\" class=\"data row12 col4\" >0.9509</td>\n",
       "      <td id=\"T_315da_row12_col5\" class=\"data row12 col5\" >0.8484</td>\n",
       "      <td id=\"T_315da_row12_col6\" class=\"data row12 col6\" >0.1644</td>\n",
       "      <td id=\"T_315da_row12_col7\" class=\"data row12 col7\" >0.2484</td>\n",
       "      <td id=\"T_315da_row12_col8\" class=\"data row12 col8\" >3.5050</td>\n",
       "    </tr>\n",
       "    <tr>\n",
       "      <th id=\"T_315da_level0_row13\" class=\"row_heading level0 row13\" >lda</th>\n",
       "      <td id=\"T_315da_row13_col0\" class=\"data row13 col0\" >Linear Discriminant Analysis</td>\n",
       "      <td id=\"T_315da_row13_col1\" class=\"data row13 col1\" >0.7839</td>\n",
       "      <td id=\"T_315da_row13_col2\" class=\"data row13 col2\" >0.8620</td>\n",
       "      <td id=\"T_315da_row13_col3\" class=\"data row13 col3\" >0.7839</td>\n",
       "      <td id=\"T_315da_row13_col4\" class=\"data row13 col4\" >0.9540</td>\n",
       "      <td id=\"T_315da_row13_col5\" class=\"data row13 col5\" >0.8475</td>\n",
       "      <td id=\"T_315da_row13_col6\" class=\"data row13 col6\" >0.1754</td>\n",
       "      <td id=\"T_315da_row13_col7\" class=\"data row13 col7\" >0.2694</td>\n",
       "      <td id=\"T_315da_row13_col8\" class=\"data row13 col8\" >0.5350</td>\n",
       "    </tr>\n",
       "    <tr>\n",
       "      <th id=\"T_315da_level0_row14\" class=\"row_heading level0 row14\" >ridge</th>\n",
       "      <td id=\"T_315da_row14_col0\" class=\"data row14 col0\" >Ridge Classifier</td>\n",
       "      <td id=\"T_315da_row14_col1\" class=\"data row14 col1\" >0.7799</td>\n",
       "      <td id=\"T_315da_row14_col2\" class=\"data row14 col2\" >0.0000</td>\n",
       "      <td id=\"T_315da_row14_col3\" class=\"data row14 col3\" >0.7799</td>\n",
       "      <td id=\"T_315da_row14_col4\" class=\"data row14 col4\" >0.9544</td>\n",
       "      <td id=\"T_315da_row14_col5\" class=\"data row14 col5\" >0.8450</td>\n",
       "      <td id=\"T_315da_row14_col6\" class=\"data row14 col6\" >0.1742</td>\n",
       "      <td id=\"T_315da_row14_col7\" class=\"data row14 col7\" >0.2702</td>\n",
       "      <td id=\"T_315da_row14_col8\" class=\"data row14 col8\" >3.1900</td>\n",
       "    </tr>\n",
       "    <tr>\n",
       "      <th id=\"T_315da_level0_row15\" class=\"row_heading level0 row15\" >nb</th>\n",
       "      <td id=\"T_315da_row15_col0\" class=\"data row15 col0\" >Naive Bayes</td>\n",
       "      <td id=\"T_315da_row15_col1\" class=\"data row15 col1\" >0.7652</td>\n",
       "      <td id=\"T_315da_row15_col2\" class=\"data row15 col2\" >0.8318</td>\n",
       "      <td id=\"T_315da_row15_col3\" class=\"data row15 col3\" >0.7652</td>\n",
       "      <td id=\"T_315da_row15_col4\" class=\"data row15 col4\" >0.9519</td>\n",
       "      <td id=\"T_315da_row15_col5\" class=\"data row15 col5\" >0.8352</td>\n",
       "      <td id=\"T_315da_row15_col6\" class=\"data row15 col6\" >0.1538</td>\n",
       "      <td id=\"T_315da_row15_col7\" class=\"data row15 col7\" >0.2445</td>\n",
       "      <td id=\"T_315da_row15_col8\" class=\"data row15 col8\" >3.4950</td>\n",
       "    </tr>\n",
       "  </tbody>\n",
       "</table>\n"
      ],
      "text/plain": [
       "<pandas.io.formats.style.Styler at 0x251236019c0>"
      ]
     },
     "metadata": {},
     "output_type": "display_data"
    },
    {
     "data": {
      "text/html": [],
      "text/plain": [
       "<IPython.core.display.HTML object>"
      ]
     },
     "metadata": {},
     "output_type": "display_data"
    },
    {
     "data": {
      "text/html": [
       "<style>#sk-container-id-1 {color: black;background-color: white;}#sk-container-id-1 pre{padding: 0;}#sk-container-id-1 div.sk-toggleable {background-color: white;}#sk-container-id-1 label.sk-toggleable__label {cursor: pointer;display: block;width: 100%;margin-bottom: 0;padding: 0.3em;box-sizing: border-box;text-align: center;}#sk-container-id-1 label.sk-toggleable__label-arrow:before {content: \"▸\";float: left;margin-right: 0.25em;color: #696969;}#sk-container-id-1 label.sk-toggleable__label-arrow:hover:before {color: black;}#sk-container-id-1 div.sk-estimator:hover label.sk-toggleable__label-arrow:before {color: black;}#sk-container-id-1 div.sk-toggleable__content {max-height: 0;max-width: 0;overflow: hidden;text-align: left;background-color: #f0f8ff;}#sk-container-id-1 div.sk-toggleable__content pre {margin: 0.2em;color: black;border-radius: 0.25em;background-color: #f0f8ff;}#sk-container-id-1 input.sk-toggleable__control:checked~div.sk-toggleable__content {max-height: 200px;max-width: 100%;overflow: auto;}#sk-container-id-1 input.sk-toggleable__control:checked~label.sk-toggleable__label-arrow:before {content: \"▾\";}#sk-container-id-1 div.sk-estimator input.sk-toggleable__control:checked~label.sk-toggleable__label {background-color: #d4ebff;}#sk-container-id-1 div.sk-label input.sk-toggleable__control:checked~label.sk-toggleable__label {background-color: #d4ebff;}#sk-container-id-1 input.sk-hidden--visually {border: 0;clip: rect(1px 1px 1px 1px);clip: rect(1px, 1px, 1px, 1px);height: 1px;margin: -1px;overflow: hidden;padding: 0;position: absolute;width: 1px;}#sk-container-id-1 div.sk-estimator {font-family: monospace;background-color: #f0f8ff;border: 1px dotted black;border-radius: 0.25em;box-sizing: border-box;margin-bottom: 0.5em;}#sk-container-id-1 div.sk-estimator:hover {background-color: #d4ebff;}#sk-container-id-1 div.sk-parallel-item::after {content: \"\";width: 100%;border-bottom: 1px solid gray;flex-grow: 1;}#sk-container-id-1 div.sk-label:hover label.sk-toggleable__label {background-color: #d4ebff;}#sk-container-id-1 div.sk-serial::before {content: \"\";position: absolute;border-left: 1px solid gray;box-sizing: border-box;top: 0;bottom: 0;left: 50%;z-index: 0;}#sk-container-id-1 div.sk-serial {display: flex;flex-direction: column;align-items: center;background-color: white;padding-right: 0.2em;padding-left: 0.2em;position: relative;}#sk-container-id-1 div.sk-item {position: relative;z-index: 1;}#sk-container-id-1 div.sk-parallel {display: flex;align-items: stretch;justify-content: center;background-color: white;position: relative;}#sk-container-id-1 div.sk-item::before, #sk-container-id-1 div.sk-parallel-item::before {content: \"\";position: absolute;border-left: 1px solid gray;box-sizing: border-box;top: 0;bottom: 0;left: 50%;z-index: -1;}#sk-container-id-1 div.sk-parallel-item {display: flex;flex-direction: column;z-index: 1;position: relative;background-color: white;}#sk-container-id-1 div.sk-parallel-item:first-child::after {align-self: flex-end;width: 50%;}#sk-container-id-1 div.sk-parallel-item:last-child::after {align-self: flex-start;width: 50%;}#sk-container-id-1 div.sk-parallel-item:only-child::after {width: 0;}#sk-container-id-1 div.sk-dashed-wrapped {border: 1px dashed gray;margin: 0 0.4em 0.5em 0.4em;box-sizing: border-box;padding-bottom: 0.4em;background-color: white;}#sk-container-id-1 div.sk-label label {font-family: monospace;font-weight: bold;display: inline-block;line-height: 1.2em;}#sk-container-id-1 div.sk-label-container {text-align: center;}#sk-container-id-1 div.sk-container {/* jupyter's `normalize.less` sets `[hidden] { display: none; }` but bootstrap.min.css set `[hidden] { display: none !important; }` so we also need the `!important` here to be able to override the default hidden behavior on the sphinx rendered scikit-learn.org. See: https://github.com/scikit-learn/scikit-learn/issues/21755 */display: inline-block !important;position: relative;}#sk-container-id-1 div.sk-text-repr-fallback {display: none;}</style><div id=\"sk-container-id-1\" class=\"sk-top-container\"><div class=\"sk-text-repr-fallback\"><pre>ExtraTreesClassifier(bootstrap=False, ccp_alpha=0.0, class_weight=None,\n",
       "                     criterion=&#x27;gini&#x27;, max_depth=None, max_features=&#x27;sqrt&#x27;,\n",
       "                     max_leaf_nodes=None, max_samples=None,\n",
       "                     min_impurity_decrease=0.0, min_samples_leaf=1,\n",
       "                     min_samples_split=2, min_weight_fraction_leaf=0.0,\n",
       "                     n_estimators=100, n_jobs=-1, oob_score=False,\n",
       "                     random_state=2848, verbose=0, warm_start=False)</pre><b>In a Jupyter environment, please rerun this cell to show the HTML representation or trust the notebook. <br />On GitHub, the HTML representation is unable to render, please try loading this page with nbviewer.org.</b></div><div class=\"sk-container\" hidden><div class=\"sk-item\"><div class=\"sk-estimator sk-toggleable\"><input class=\"sk-toggleable__control sk-hidden--visually\" id=\"sk-estimator-id-1\" type=\"checkbox\" checked><label for=\"sk-estimator-id-1\" class=\"sk-toggleable__label sk-toggleable__label-arrow\">ExtraTreesClassifier</label><div class=\"sk-toggleable__content\"><pre>ExtraTreesClassifier(bootstrap=False, ccp_alpha=0.0, class_weight=None,\n",
       "                     criterion=&#x27;gini&#x27;, max_depth=None, max_features=&#x27;sqrt&#x27;,\n",
       "                     max_leaf_nodes=None, max_samples=None,\n",
       "                     min_impurity_decrease=0.0, min_samples_leaf=1,\n",
       "                     min_samples_split=2, min_weight_fraction_leaf=0.0,\n",
       "                     n_estimators=100, n_jobs=-1, oob_score=False,\n",
       "                     random_state=2848, verbose=0, warm_start=False)</pre></div></div></div></div></div>"
      ],
      "text/plain": [
       "ExtraTreesClassifier(bootstrap=False, ccp_alpha=0.0, class_weight=None,\n",
       "                     criterion='gini', max_depth=None, max_features='sqrt',\n",
       "                     max_leaf_nodes=None, max_samples=None,\n",
       "                     min_impurity_decrease=0.0, min_samples_leaf=1,\n",
       "                     min_samples_split=2, min_weight_fraction_leaf=0.0,\n",
       "                     n_estimators=100, n_jobs=-1, oob_score=False,\n",
       "                     random_state=2848, verbose=0, warm_start=False)"
      ]
     },
     "execution_count": 9,
     "metadata": {},
     "output_type": "execute_result"
    }
   ],
   "source": [
    "models = compare_models(sort=\"F1\", fold=2)\n",
    "models"
   ]
  },
  {
   "cell_type": "code",
   "execution_count": 10,
   "id": "a52fe500-97a8-41b0-81fb-8c5c7277d18f",
   "metadata": {},
   "outputs": [
    {
     "data": {
      "text/html": [
       "<div>\n",
       "<style scoped>\n",
       "    .dataframe tbody tr th:only-of-type {\n",
       "        vertical-align: middle;\n",
       "    }\n",
       "\n",
       "    .dataframe tbody tr th {\n",
       "        vertical-align: top;\n",
       "    }\n",
       "\n",
       "    .dataframe thead th {\n",
       "        text-align: right;\n",
       "    }\n",
       "</style>\n",
       "<table border=\"1\" class=\"dataframe\">\n",
       "  <thead>\n",
       "    <tr style=\"text-align: right;\">\n",
       "      <th></th>\n",
       "      <th>Model</th>\n",
       "      <th>Accuracy</th>\n",
       "      <th>AUC</th>\n",
       "      <th>Recall</th>\n",
       "      <th>Prec.</th>\n",
       "      <th>F1</th>\n",
       "      <th>Kappa</th>\n",
       "      <th>MCC</th>\n",
       "      <th>TT (Sec)</th>\n",
       "    </tr>\n",
       "  </thead>\n",
       "  <tbody>\n",
       "    <tr>\n",
       "      <th>et</th>\n",
       "      <td>Extra Trees Classifier</td>\n",
       "      <td>0.9397</td>\n",
       "      <td>0.9167</td>\n",
       "      <td>0.9397</td>\n",
       "      <td>0.9522</td>\n",
       "      <td>0.9452</td>\n",
       "      <td>0.3778</td>\n",
       "      <td>0.3857</td>\n",
       "      <td>0.790</td>\n",
       "    </tr>\n",
       "    <tr>\n",
       "      <th>rf</th>\n",
       "      <td>Random Forest Classifier</td>\n",
       "      <td>0.9330</td>\n",
       "      <td>0.8934</td>\n",
       "      <td>0.9330</td>\n",
       "      <td>0.9500</td>\n",
       "      <td>0.9405</td>\n",
       "      <td>0.3435</td>\n",
       "      <td>0.3542</td>\n",
       "      <td>3.450</td>\n",
       "    </tr>\n",
       "    <tr>\n",
       "      <th>lightgbm</th>\n",
       "      <td>Light Gradient Boosting Machine</td>\n",
       "      <td>0.9317</td>\n",
       "      <td>0.8912</td>\n",
       "      <td>0.9317</td>\n",
       "      <td>0.9498</td>\n",
       "      <td>0.9396</td>\n",
       "      <td>0.3399</td>\n",
       "      <td>0.3510</td>\n",
       "      <td>0.675</td>\n",
       "    </tr>\n",
       "    <tr>\n",
       "      <th>xgboost</th>\n",
       "      <td>Extreme Gradient Boosting</td>\n",
       "      <td>0.9299</td>\n",
       "      <td>0.8935</td>\n",
       "      <td>0.9299</td>\n",
       "      <td>0.9505</td>\n",
       "      <td>0.9388</td>\n",
       "      <td>0.3431</td>\n",
       "      <td>0.3570</td>\n",
       "      <td>0.710</td>\n",
       "    </tr>\n",
       "    <tr>\n",
       "      <th>dummy</th>\n",
       "      <td>Dummy Classifier</td>\n",
       "      <td>0.9589</td>\n",
       "      <td>0.5000</td>\n",
       "      <td>0.9589</td>\n",
       "      <td>0.9195</td>\n",
       "      <td>0.9388</td>\n",
       "      <td>0.0000</td>\n",
       "      <td>0.0000</td>\n",
       "      <td>0.560</td>\n",
       "    </tr>\n",
       "    <tr>\n",
       "      <th>catboost</th>\n",
       "      <td>CatBoost Classifier</td>\n",
       "      <td>0.9268</td>\n",
       "      <td>0.9048</td>\n",
       "      <td>0.9268</td>\n",
       "      <td>0.9527</td>\n",
       "      <td>0.9376</td>\n",
       "      <td>0.3560</td>\n",
       "      <td>0.3769</td>\n",
       "      <td>3.405</td>\n",
       "    </tr>\n",
       "    <tr>\n",
       "      <th>dt</th>\n",
       "      <td>Decision Tree Classifier</td>\n",
       "      <td>0.9250</td>\n",
       "      <td>0.6644</td>\n",
       "      <td>0.9250</td>\n",
       "      <td>0.9427</td>\n",
       "      <td>0.9330</td>\n",
       "      <td>0.2569</td>\n",
       "      <td>0.2646</td>\n",
       "      <td>3.190</td>\n",
       "    </tr>\n",
       "    <tr>\n",
       "      <th>gbc</th>\n",
       "      <td>Gradient Boosting Classifier</td>\n",
       "      <td>0.9112</td>\n",
       "      <td>0.8985</td>\n",
       "      <td>0.9112</td>\n",
       "      <td>0.9526</td>\n",
       "      <td>0.9280</td>\n",
       "      <td>0.3248</td>\n",
       "      <td>0.3594</td>\n",
       "      <td>1.110</td>\n",
       "    </tr>\n",
       "    <tr>\n",
       "      <th>ada</th>\n",
       "      <td>Ada Boost Classifier</td>\n",
       "      <td>0.9009</td>\n",
       "      <td>0.8719</td>\n",
       "      <td>0.9009</td>\n",
       "      <td>0.9501</td>\n",
       "      <td>0.9211</td>\n",
       "      <td>0.2851</td>\n",
       "      <td>0.3230</td>\n",
       "      <td>0.725</td>\n",
       "    </tr>\n",
       "    <tr>\n",
       "      <th>knn</th>\n",
       "      <td>K Neighbors Classifier</td>\n",
       "      <td>0.8746</td>\n",
       "      <td>0.8379</td>\n",
       "      <td>0.8746</td>\n",
       "      <td>0.9533</td>\n",
       "      <td>0.9055</td>\n",
       "      <td>0.2646</td>\n",
       "      <td>0.3281</td>\n",
       "      <td>3.325</td>\n",
       "    </tr>\n",
       "    <tr>\n",
       "      <th>qda</th>\n",
       "      <td>Quadratic Discriminant Analysis</td>\n",
       "      <td>0.8652</td>\n",
       "      <td>0.8653</td>\n",
       "      <td>0.8652</td>\n",
       "      <td>0.9515</td>\n",
       "      <td>0.8994</td>\n",
       "      <td>0.2425</td>\n",
       "      <td>0.3051</td>\n",
       "      <td>3.215</td>\n",
       "    </tr>\n",
       "    <tr>\n",
       "      <th>lr</th>\n",
       "      <td>Logistic Regression</td>\n",
       "      <td>0.7897</td>\n",
       "      <td>0.8394</td>\n",
       "      <td>0.7897</td>\n",
       "      <td>0.9499</td>\n",
       "      <td>0.8513</td>\n",
       "      <td>0.1613</td>\n",
       "      <td>0.2419</td>\n",
       "      <td>4.655</td>\n",
       "    </tr>\n",
       "    <tr>\n",
       "      <th>svm</th>\n",
       "      <td>SVM - Linear Kernel</td>\n",
       "      <td>0.7853</td>\n",
       "      <td>0.0000</td>\n",
       "      <td>0.7853</td>\n",
       "      <td>0.9509</td>\n",
       "      <td>0.8484</td>\n",
       "      <td>0.1644</td>\n",
       "      <td>0.2484</td>\n",
       "      <td>3.505</td>\n",
       "    </tr>\n",
       "    <tr>\n",
       "      <th>lda</th>\n",
       "      <td>Linear Discriminant Analysis</td>\n",
       "      <td>0.7839</td>\n",
       "      <td>0.8620</td>\n",
       "      <td>0.7839</td>\n",
       "      <td>0.9540</td>\n",
       "      <td>0.8475</td>\n",
       "      <td>0.1754</td>\n",
       "      <td>0.2694</td>\n",
       "      <td>0.535</td>\n",
       "    </tr>\n",
       "    <tr>\n",
       "      <th>ridge</th>\n",
       "      <td>Ridge Classifier</td>\n",
       "      <td>0.7799</td>\n",
       "      <td>0.0000</td>\n",
       "      <td>0.7799</td>\n",
       "      <td>0.9544</td>\n",
       "      <td>0.8450</td>\n",
       "      <td>0.1742</td>\n",
       "      <td>0.2702</td>\n",
       "      <td>3.190</td>\n",
       "    </tr>\n",
       "    <tr>\n",
       "      <th>nb</th>\n",
       "      <td>Naive Bayes</td>\n",
       "      <td>0.7652</td>\n",
       "      <td>0.8318</td>\n",
       "      <td>0.7652</td>\n",
       "      <td>0.9519</td>\n",
       "      <td>0.8352</td>\n",
       "      <td>0.1538</td>\n",
       "      <td>0.2445</td>\n",
       "      <td>3.495</td>\n",
       "    </tr>\n",
       "  </tbody>\n",
       "</table>\n",
       "</div>"
      ],
      "text/plain": [
       "                                    Model  Accuracy     AUC  Recall   Prec.  \\\n",
       "et                 Extra Trees Classifier    0.9397  0.9167  0.9397  0.9522   \n",
       "rf               Random Forest Classifier    0.9330  0.8934  0.9330  0.9500   \n",
       "lightgbm  Light Gradient Boosting Machine    0.9317  0.8912  0.9317  0.9498   \n",
       "xgboost         Extreme Gradient Boosting    0.9299  0.8935  0.9299  0.9505   \n",
       "dummy                    Dummy Classifier    0.9589  0.5000  0.9589  0.9195   \n",
       "catboost              CatBoost Classifier    0.9268  0.9048  0.9268  0.9527   \n",
       "dt               Decision Tree Classifier    0.9250  0.6644  0.9250  0.9427   \n",
       "gbc          Gradient Boosting Classifier    0.9112  0.8985  0.9112  0.9526   \n",
       "ada                  Ada Boost Classifier    0.9009  0.8719  0.9009  0.9501   \n",
       "knn                K Neighbors Classifier    0.8746  0.8379  0.8746  0.9533   \n",
       "qda       Quadratic Discriminant Analysis    0.8652  0.8653  0.8652  0.9515   \n",
       "lr                    Logistic Regression    0.7897  0.8394  0.7897  0.9499   \n",
       "svm                   SVM - Linear Kernel    0.7853  0.0000  0.7853  0.9509   \n",
       "lda          Linear Discriminant Analysis    0.7839  0.8620  0.7839  0.9540   \n",
       "ridge                    Ridge Classifier    0.7799  0.0000  0.7799  0.9544   \n",
       "nb                            Naive Bayes    0.7652  0.8318  0.7652  0.9519   \n",
       "\n",
       "              F1   Kappa     MCC  TT (Sec)  \n",
       "et        0.9452  0.3778  0.3857     0.790  \n",
       "rf        0.9405  0.3435  0.3542     3.450  \n",
       "lightgbm  0.9396  0.3399  0.3510     0.675  \n",
       "xgboost   0.9388  0.3431  0.3570     0.710  \n",
       "dummy     0.9388  0.0000  0.0000     0.560  \n",
       "catboost  0.9376  0.3560  0.3769     3.405  \n",
       "dt        0.9330  0.2569  0.2646     3.190  \n",
       "gbc       0.9280  0.3248  0.3594     1.110  \n",
       "ada       0.9211  0.2851  0.3230     0.725  \n",
       "knn       0.9055  0.2646  0.3281     3.325  \n",
       "qda       0.8994  0.2425  0.3051     3.215  \n",
       "lr        0.8513  0.1613  0.2419     4.655  \n",
       "svm       0.8484  0.1644  0.2484     3.505  \n",
       "lda       0.8475  0.1754  0.2694     0.535  \n",
       "ridge     0.8450  0.1742  0.2702     3.190  \n",
       "nb        0.8352  0.1538  0.2445     3.495  "
      ]
     },
     "execution_count": 10,
     "metadata": {},
     "output_type": "execute_result"
    }
   ],
   "source": [
    "cnt_models_df = pull()\n",
    "cnt_models_df"
   ]
  },
  {
   "cell_type": "code",
   "execution_count": 11,
   "id": "e0336e09-4e80-4993-86fc-48f51ea98bcd",
   "metadata": {},
   "outputs": [
    {
     "data": {
      "text/html": [],
      "text/plain": [
       "<IPython.core.display.HTML object>"
      ]
     },
     "metadata": {},
     "output_type": "display_data"
    },
    {
     "data": {
      "text/html": [
       "<style type=\"text/css\">\n",
       "#T_9d7ac_row2_col0, #T_9d7ac_row2_col1, #T_9d7ac_row2_col2, #T_9d7ac_row2_col3, #T_9d7ac_row2_col4, #T_9d7ac_row2_col5, #T_9d7ac_row2_col6 {\n",
       "  background: yellow;\n",
       "}\n",
       "</style>\n",
       "<table id=\"T_9d7ac\">\n",
       "  <thead>\n",
       "    <tr>\n",
       "      <th class=\"blank level0\" >&nbsp;</th>\n",
       "      <th id=\"T_9d7ac_level0_col0\" class=\"col_heading level0 col0\" >Accuracy</th>\n",
       "      <th id=\"T_9d7ac_level0_col1\" class=\"col_heading level0 col1\" >AUC</th>\n",
       "      <th id=\"T_9d7ac_level0_col2\" class=\"col_heading level0 col2\" >Recall</th>\n",
       "      <th id=\"T_9d7ac_level0_col3\" class=\"col_heading level0 col3\" >Prec.</th>\n",
       "      <th id=\"T_9d7ac_level0_col4\" class=\"col_heading level0 col4\" >F1</th>\n",
       "      <th id=\"T_9d7ac_level0_col5\" class=\"col_heading level0 col5\" >Kappa</th>\n",
       "      <th id=\"T_9d7ac_level0_col6\" class=\"col_heading level0 col6\" >MCC</th>\n",
       "    </tr>\n",
       "    <tr>\n",
       "      <th class=\"index_name level0\" >Fold</th>\n",
       "      <th class=\"blank col0\" >&nbsp;</th>\n",
       "      <th class=\"blank col1\" >&nbsp;</th>\n",
       "      <th class=\"blank col2\" >&nbsp;</th>\n",
       "      <th class=\"blank col3\" >&nbsp;</th>\n",
       "      <th class=\"blank col4\" >&nbsp;</th>\n",
       "      <th class=\"blank col5\" >&nbsp;</th>\n",
       "      <th class=\"blank col6\" >&nbsp;</th>\n",
       "    </tr>\n",
       "  </thead>\n",
       "  <tbody>\n",
       "    <tr>\n",
       "      <th id=\"T_9d7ac_level0_row0\" class=\"row_heading level0 row0\" >0</th>\n",
       "      <td id=\"T_9d7ac_row0_col0\" class=\"data row0 col0\" >0.9455</td>\n",
       "      <td id=\"T_9d7ac_row0_col1\" class=\"data row0 col1\" >0.9153</td>\n",
       "      <td id=\"T_9d7ac_row0_col2\" class=\"data row0 col2\" >0.9455</td>\n",
       "      <td id=\"T_9d7ac_row0_col3\" class=\"data row0 col3\" >0.9505</td>\n",
       "      <td id=\"T_9d7ac_row0_col4\" class=\"data row0 col4\" >0.9478</td>\n",
       "      <td id=\"T_9d7ac_row0_col5\" class=\"data row0 col5\" >0.3678</td>\n",
       "      <td id=\"T_9d7ac_row0_col6\" class=\"data row0 col6\" >0.3694</td>\n",
       "    </tr>\n",
       "    <tr>\n",
       "      <th id=\"T_9d7ac_level0_row1\" class=\"row_heading level0 row1\" >1</th>\n",
       "      <td id=\"T_9d7ac_row1_col0\" class=\"data row1 col0\" >0.9384</td>\n",
       "      <td id=\"T_9d7ac_row1_col1\" class=\"data row1 col1\" >0.9167</td>\n",
       "      <td id=\"T_9d7ac_row1_col2\" class=\"data row1 col2\" >0.9384</td>\n",
       "      <td id=\"T_9d7ac_row1_col3\" class=\"data row1 col3\" >0.9527</td>\n",
       "      <td id=\"T_9d7ac_row1_col4\" class=\"data row1 col4\" >0.9446</td>\n",
       "      <td id=\"T_9d7ac_row1_col5\" class=\"data row1 col5\" >0.3793</td>\n",
       "      <td id=\"T_9d7ac_row1_col6\" class=\"data row1 col6\" >0.3893</td>\n",
       "    </tr>\n",
       "    <tr>\n",
       "      <th id=\"T_9d7ac_level0_row2\" class=\"row_heading level0 row2\" >Mean</th>\n",
       "      <td id=\"T_9d7ac_row2_col0\" class=\"data row2 col0\" >0.9420</td>\n",
       "      <td id=\"T_9d7ac_row2_col1\" class=\"data row2 col1\" >0.9160</td>\n",
       "      <td id=\"T_9d7ac_row2_col2\" class=\"data row2 col2\" >0.9420</td>\n",
       "      <td id=\"T_9d7ac_row2_col3\" class=\"data row2 col3\" >0.9516</td>\n",
       "      <td id=\"T_9d7ac_row2_col4\" class=\"data row2 col4\" >0.9462</td>\n",
       "      <td id=\"T_9d7ac_row2_col5\" class=\"data row2 col5\" >0.3735</td>\n",
       "      <td id=\"T_9d7ac_row2_col6\" class=\"data row2 col6\" >0.3793</td>\n",
       "    </tr>\n",
       "    <tr>\n",
       "      <th id=\"T_9d7ac_level0_row3\" class=\"row_heading level0 row3\" >Std</th>\n",
       "      <td id=\"T_9d7ac_row3_col0\" class=\"data row3 col0\" >0.0036</td>\n",
       "      <td id=\"T_9d7ac_row3_col1\" class=\"data row3 col1\" >0.0007</td>\n",
       "      <td id=\"T_9d7ac_row3_col2\" class=\"data row3 col2\" >0.0036</td>\n",
       "      <td id=\"T_9d7ac_row3_col3\" class=\"data row3 col3\" >0.0011</td>\n",
       "      <td id=\"T_9d7ac_row3_col4\" class=\"data row3 col4\" >0.0016</td>\n",
       "      <td id=\"T_9d7ac_row3_col5\" class=\"data row3 col5\" >0.0058</td>\n",
       "      <td id=\"T_9d7ac_row3_col6\" class=\"data row3 col6\" >0.0100</td>\n",
       "    </tr>\n",
       "  </tbody>\n",
       "</table>\n"
      ],
      "text/plain": [
       "<pandas.io.formats.style.Styler at 0x2511f319a50>"
      ]
     },
     "metadata": {},
     "output_type": "display_data"
    },
    {
     "data": {
      "text/html": [],
      "text/plain": [
       "<IPython.core.display.HTML object>"
      ]
     },
     "metadata": {},
     "output_type": "display_data"
    }
   ],
   "source": [
    "clf = create_model('et', fold = 2)"
   ]
  },
  {
   "cell_type": "code",
   "execution_count": 12,
   "id": "da2f93fe-f50c-44f4-9295-bb34a60233f4",
   "metadata": {},
   "outputs": [
    {
     "data": {
      "text/html": [],
      "text/plain": [
       "<IPython.core.display.HTML object>"
      ]
     },
     "metadata": {},
     "output_type": "display_data"
    },
    {
     "data": {
      "text/html": [
       "<style type=\"text/css\">\n",
       "#T_3fb73_row2_col0, #T_3fb73_row2_col1, #T_3fb73_row2_col2, #T_3fb73_row2_col3, #T_3fb73_row2_col4, #T_3fb73_row2_col5, #T_3fb73_row2_col6 {\n",
       "  background: yellow;\n",
       "}\n",
       "</style>\n",
       "<table id=\"T_3fb73\">\n",
       "  <thead>\n",
       "    <tr>\n",
       "      <th class=\"blank level0\" >&nbsp;</th>\n",
       "      <th id=\"T_3fb73_level0_col0\" class=\"col_heading level0 col0\" >Accuracy</th>\n",
       "      <th id=\"T_3fb73_level0_col1\" class=\"col_heading level0 col1\" >AUC</th>\n",
       "      <th id=\"T_3fb73_level0_col2\" class=\"col_heading level0 col2\" >Recall</th>\n",
       "      <th id=\"T_3fb73_level0_col3\" class=\"col_heading level0 col3\" >Prec.</th>\n",
       "      <th id=\"T_3fb73_level0_col4\" class=\"col_heading level0 col4\" >F1</th>\n",
       "      <th id=\"T_3fb73_level0_col5\" class=\"col_heading level0 col5\" >Kappa</th>\n",
       "      <th id=\"T_3fb73_level0_col6\" class=\"col_heading level0 col6\" >MCC</th>\n",
       "    </tr>\n",
       "    <tr>\n",
       "      <th class=\"index_name level0\" >Fold</th>\n",
       "      <th class=\"blank col0\" >&nbsp;</th>\n",
       "      <th class=\"blank col1\" >&nbsp;</th>\n",
       "      <th class=\"blank col2\" >&nbsp;</th>\n",
       "      <th class=\"blank col3\" >&nbsp;</th>\n",
       "      <th class=\"blank col4\" >&nbsp;</th>\n",
       "      <th class=\"blank col5\" >&nbsp;</th>\n",
       "      <th class=\"blank col6\" >&nbsp;</th>\n",
       "    </tr>\n",
       "  </thead>\n",
       "  <tbody>\n",
       "    <tr>\n",
       "      <th id=\"T_3fb73_level0_row0\" class=\"row_heading level0 row0\" >0</th>\n",
       "      <td id=\"T_3fb73_row0_col0\" class=\"data row0 col0\" >0.9589</td>\n",
       "      <td id=\"T_3fb73_row0_col1\" class=\"data row0 col1\" >0.5000</td>\n",
       "      <td id=\"T_3fb73_row0_col2\" class=\"data row0 col2\" >0.9589</td>\n",
       "      <td id=\"T_3fb73_row0_col3\" class=\"data row0 col3\" >0.9195</td>\n",
       "      <td id=\"T_3fb73_row0_col4\" class=\"data row0 col4\" >0.9388</td>\n",
       "      <td id=\"T_3fb73_row0_col5\" class=\"data row0 col5\" >0.0000</td>\n",
       "      <td id=\"T_3fb73_row0_col6\" class=\"data row0 col6\" >0.0000</td>\n",
       "    </tr>\n",
       "    <tr>\n",
       "      <th id=\"T_3fb73_level0_row1\" class=\"row_heading level0 row1\" >1</th>\n",
       "      <td id=\"T_3fb73_row1_col0\" class=\"data row1 col0\" >0.9589</td>\n",
       "      <td id=\"T_3fb73_row1_col1\" class=\"data row1 col1\" >0.5000</td>\n",
       "      <td id=\"T_3fb73_row1_col2\" class=\"data row1 col2\" >0.9589</td>\n",
       "      <td id=\"T_3fb73_row1_col3\" class=\"data row1 col3\" >0.9195</td>\n",
       "      <td id=\"T_3fb73_row1_col4\" class=\"data row1 col4\" >0.9388</td>\n",
       "      <td id=\"T_3fb73_row1_col5\" class=\"data row1 col5\" >0.0000</td>\n",
       "      <td id=\"T_3fb73_row1_col6\" class=\"data row1 col6\" >0.0000</td>\n",
       "    </tr>\n",
       "    <tr>\n",
       "      <th id=\"T_3fb73_level0_row2\" class=\"row_heading level0 row2\" >Mean</th>\n",
       "      <td id=\"T_3fb73_row2_col0\" class=\"data row2 col0\" >0.9589</td>\n",
       "      <td id=\"T_3fb73_row2_col1\" class=\"data row2 col1\" >0.5000</td>\n",
       "      <td id=\"T_3fb73_row2_col2\" class=\"data row2 col2\" >0.9589</td>\n",
       "      <td id=\"T_3fb73_row2_col3\" class=\"data row2 col3\" >0.9195</td>\n",
       "      <td id=\"T_3fb73_row2_col4\" class=\"data row2 col4\" >0.9388</td>\n",
       "      <td id=\"T_3fb73_row2_col5\" class=\"data row2 col5\" >0.0000</td>\n",
       "      <td id=\"T_3fb73_row2_col6\" class=\"data row2 col6\" >0.0000</td>\n",
       "    </tr>\n",
       "    <tr>\n",
       "      <th id=\"T_3fb73_level0_row3\" class=\"row_heading level0 row3\" >Std</th>\n",
       "      <td id=\"T_3fb73_row3_col0\" class=\"data row3 col0\" >0.0000</td>\n",
       "      <td id=\"T_3fb73_row3_col1\" class=\"data row3 col1\" >0.0000</td>\n",
       "      <td id=\"T_3fb73_row3_col2\" class=\"data row3 col2\" >0.0000</td>\n",
       "      <td id=\"T_3fb73_row3_col3\" class=\"data row3 col3\" >0.0000</td>\n",
       "      <td id=\"T_3fb73_row3_col4\" class=\"data row3 col4\" >0.0000</td>\n",
       "      <td id=\"T_3fb73_row3_col5\" class=\"data row3 col5\" >0.0000</td>\n",
       "      <td id=\"T_3fb73_row3_col6\" class=\"data row3 col6\" >0.0000</td>\n",
       "    </tr>\n",
       "  </tbody>\n",
       "</table>\n"
      ],
      "text/plain": [
       "<pandas.io.formats.style.Styler at 0x25124cc7460>"
      ]
     },
     "metadata": {},
     "output_type": "display_data"
    },
    {
     "data": {
      "text/html": [],
      "text/plain": [
       "<IPython.core.display.HTML object>"
      ]
     },
     "metadata": {},
     "output_type": "display_data"
    },
    {
     "name": "stdout",
     "output_type": "stream",
     "text": [
      "Fitting 2 folds for each of 10 candidates, totalling 20 fits\n",
      "Original model was better than the tuned model, hence it will be returned. NOTE: The display metrics are for the tuned model (not the original one).\n"
     ]
    }
   ],
   "source": [
    "tuned_clf = tune_model(clf, optimize = 'F1', fold = 2)"
   ]
  },
  {
   "cell_type": "code",
   "execution_count": 13,
   "id": "a65394a2-5966-48a1-8104-b94377a2515b",
   "metadata": {},
   "outputs": [
    {
     "name": "stdout",
     "output_type": "stream",
     "text": [
      "Total of features:  10\n"
     ]
    }
   ],
   "source": [
    "print(\"Total of features: \", len(tuned_clf.feature_importances_))"
   ]
  },
  {
   "cell_type": "code",
   "execution_count": 14,
   "id": "50fdd8a9-7fff-4794-b913-c19ce52986a7",
   "metadata": {},
   "outputs": [
    {
     "data": {
      "application/vnd.jupyter.widget-view+json": {
       "model_id": "b0a9ccf0d0de47b7bfe0a36074bc36f3",
       "version_major": 2,
       "version_minor": 0
      },
      "text/plain": [
       "interactive(children=(ToggleButtons(description='Plot Type:', icons=('',), options=(('Pipeline Plot', 'pipelin…"
      ]
     },
     "metadata": {},
     "output_type": "display_data"
    }
   ],
   "source": [
    "evaluate_model(tuned_clf)"
   ]
  },
  {
   "cell_type": "code",
   "execution_count": 15,
   "id": "72b52f0a-15ed-4457-9f09-b7d4a2c45767",
   "metadata": {},
   "outputs": [],
   "source": [
    "model_final = finalize_model(tuned_clf)"
   ]
  },
  {
   "cell_type": "code",
   "execution_count": 16,
   "id": "8a16235b-f84e-4b1d-9862-68903c048c8c",
   "metadata": {},
   "outputs": [
    {
     "name": "stdout",
     "output_type": "stream",
     "text": [
      "Transformation Pipeline and Model Successfully Saved\n"
     ]
    },
    {
     "data": {
      "text/plain": [
       "(Pipeline(memory=Memory(location=None),\n",
       "          steps=[('label_encoding',\n",
       "                  TransformerWrapperWithInverse(exclude=None, include=None,\n",
       "                                                transformer=LabelEncoder())),\n",
       "                 ('numerical_imputer',\n",
       "                  TransformerWrapper(exclude=None,\n",
       "                                     include=['linAccX_mean', 'linAccX_std',\n",
       "                                              'linAccX_median',\n",
       "                                              'linAccX_skewness',\n",
       "                                              'linAccX_kurtosis', 'linAccX_min',\n",
       "                                              'linAccX_max', 'linAccX_range',\n",
       "                                              'linAccX_qua...\n",
       "                  ExtraTreesClassifier(bootstrap=False, ccp_alpha=0.0,\n",
       "                                       class_weight=None, criterion='gini',\n",
       "                                       max_depth=None, max_features='sqrt',\n",
       "                                       max_leaf_nodes=None, max_samples=None,\n",
       "                                       min_impurity_decrease=0.0,\n",
       "                                       min_samples_leaf=1, min_samples_split=2,\n",
       "                                       min_weight_fraction_leaf=0.0,\n",
       "                                       n_estimators=100, n_jobs=-1,\n",
       "                                       oob_score=False, random_state=2848,\n",
       "                                       verbose=0, warm_start=False))],\n",
       "          verbose=False),\n",
       " 'pullup_model.pkl')"
      ]
     },
     "execution_count": 16,
     "metadata": {},
     "output_type": "execute_result"
    }
   ],
   "source": [
    "save_model(model_final, 'pullup_model')"
   ]
  },
  {
   "cell_type": "markdown",
   "id": "71708783-eb2b-440d-a6ce-74eaafd23afd",
   "metadata": {},
   "source": [
    "# Use in production"
   ]
  },
  {
   "cell_type": "code",
   "execution_count": 17,
   "id": "5101f036-155d-4d88-a9df-1b32003d5cbb",
   "metadata": {},
   "outputs": [
    {
     "name": "stdout",
     "output_type": "stream",
     "text": [
      "Transformation Pipeline and Model Successfully Loaded\n"
     ]
    }
   ],
   "source": [
    "pipeline = load_model(model_name=\"pullup_model\")"
   ]
  },
  {
   "cell_type": "code",
   "execution_count": 18,
   "id": "d9f08b22-7a45-4ff4-afa0-72ea55d228b6",
   "metadata": {},
   "outputs": [
    {
     "data": {
      "text/html": [
       "<style type=\"text/css\">\n",
       "</style>\n",
       "<table id=\"T_0ffb0\">\n",
       "  <thead>\n",
       "    <tr>\n",
       "      <th class=\"blank level0\" >&nbsp;</th>\n",
       "      <th id=\"T_0ffb0_level0_col0\" class=\"col_heading level0 col0\" >Model</th>\n",
       "      <th id=\"T_0ffb0_level0_col1\" class=\"col_heading level0 col1\" >Accuracy</th>\n",
       "      <th id=\"T_0ffb0_level0_col2\" class=\"col_heading level0 col2\" >AUC</th>\n",
       "      <th id=\"T_0ffb0_level0_col3\" class=\"col_heading level0 col3\" >Recall</th>\n",
       "      <th id=\"T_0ffb0_level0_col4\" class=\"col_heading level0 col4\" >Prec.</th>\n",
       "      <th id=\"T_0ffb0_level0_col5\" class=\"col_heading level0 col5\" >F1</th>\n",
       "      <th id=\"T_0ffb0_level0_col6\" class=\"col_heading level0 col6\" >Kappa</th>\n",
       "      <th id=\"T_0ffb0_level0_col7\" class=\"col_heading level0 col7\" >MCC</th>\n",
       "    </tr>\n",
       "  </thead>\n",
       "  <tbody>\n",
       "    <tr>\n",
       "      <th id=\"T_0ffb0_level0_row0\" class=\"row_heading level0 row0\" >0</th>\n",
       "      <td id=\"T_0ffb0_row0_col0\" class=\"data row0 col0\" >Extra Trees Classifier</td>\n",
       "      <td id=\"T_0ffb0_row0_col1\" class=\"data row0 col1\" >0.9592</td>\n",
       "      <td id=\"T_0ffb0_row0_col2\" class=\"data row0 col2\" >0.9634</td>\n",
       "      <td id=\"T_0ffb0_row0_col3\" class=\"data row0 col3\" >0.9592</td>\n",
       "      <td id=\"T_0ffb0_row0_col4\" class=\"data row0 col4\" >0.9557</td>\n",
       "      <td id=\"T_0ffb0_row0_col5\" class=\"data row0 col5\" >0.9568</td>\n",
       "      <td id=\"T_0ffb0_row0_col6\" class=\"data row0 col6\" >0.6038</td>\n",
       "      <td id=\"T_0ffb0_row0_col7\" class=\"data row0 col7\" >0.6091</td>\n",
       "    </tr>\n",
       "  </tbody>\n",
       "</table>\n"
      ],
      "text/plain": [
       "<pandas.io.formats.style.Styler at 0x25124d80e50>"
      ]
     },
     "metadata": {},
     "output_type": "display_data"
    }
   ],
   "source": [
    "prediction = predict_model(pipeline, data_prod, raw_score=True)"
   ]
  },
  {
   "cell_type": "code",
   "execution_count": null,
   "id": "56782ab9-51f5-4f60-8930-f78974ef2c2b",
   "metadata": {},
   "outputs": [],
   "source": []
  },
  {
   "cell_type": "code",
   "execution_count": null,
   "id": "42d3aff9-a172-4b6d-8ac3-2a96eb5d653d",
   "metadata": {},
   "outputs": [],
   "source": []
  },
  {
   "cell_type": "code",
   "execution_count": null,
   "id": "c1e98ff0",
   "metadata": {},
   "outputs": [],
   "source": [
    "data_custom['target'].count()"
   ]
  },
  {
   "cell_type": "markdown",
   "id": "b380d7e8",
   "metadata": {},
   "source": [
    "Mapping to transform it into a binqary problem ready to do the ML models:"
   ]
  },
  {
   "cell_type": "code",
   "execution_count": null,
   "id": "6a47b28e",
   "metadata": {},
   "outputs": [],
   "source": [
    "mapping = {'PULL_UP': 1, 'NO_EXERCISE': 0}\n",
    "\n",
    "# Mapping the values in the 'target' column:\n",
    "data_custom['target'] = data_custom['target'].map(mapping)"
   ]
  },
  {
   "cell_type": "code",
   "execution_count": null,
   "id": "eb5261a9",
   "metadata": {},
   "outputs": [],
   "source": [
    "data_custom.head()"
   ]
  },
  {
   "cell_type": "code",
   "execution_count": null,
   "id": "24fd3a1d",
   "metadata": {},
   "outputs": [],
   "source": [
    "data_custom['target']"
   ]
  },
  {
   "cell_type": "code",
   "execution_count": null,
   "id": "a9d46717",
   "metadata": {},
   "outputs": [],
   "source": [
    "data_custom['target'].count()"
   ]
  },
  {
   "cell_type": "code",
   "execution_count": null,
   "id": "cd039a8b",
   "metadata": {},
   "outputs": [],
   "source": [
    "data_custom.info()"
   ]
  },
  {
   "cell_type": "markdown",
   "id": "defc710a-6ac1-4c61-b612-0134506f8855",
   "metadata": {
    "jp-MarkdownHeadingCollapsed": true,
    "tags": []
   },
   "source": [
    "# EDA"
   ]
  },
  {
   "cell_type": "code",
   "execution_count": null,
   "id": "40b273a2736a7321",
   "metadata": {
    "collapsed": false,
    "jupyter": {
     "outputs_hidden": false
    }
   },
   "outputs": [],
   "source": [
    "fig = px.box(data_custom, y=\"linAccZ_mean\", color=\"target\",title = 'Distribution of linAccZ_mean vs target variable')\n",
    "fig.update_traces(quartilemethod=\"exclusive\") \n",
    "fig.show()"
   ]
  },
  {
   "cell_type": "code",
   "execution_count": null,
   "id": "2deb6671b27b5dbd",
   "metadata": {
    "collapsed": false,
    "jupyter": {
     "outputs_hidden": false
    }
   },
   "outputs": [],
   "source": [
    "fig = px.box(data_custom, y=\"linAccY_mean\", color=\"target\",title = 'Distribution of linAccY_mean vs target variable')\n",
    "fig.update_traces(quartilemethod=\"exclusive\") \n",
    "fig.show()"
   ]
  },
  {
   "cell_type": "code",
   "execution_count": null,
   "id": "6436e7eb48e43157",
   "metadata": {
    "collapsed": false,
    "jupyter": {
     "outputs_hidden": false
    }
   },
   "outputs": [],
   "source": [
    "fig = px.box(data_custom, y=\"linAccX_mean\", color=\"target\",title = 'Distribution of linAccX_mean vs target variable')\n",
    "fig.update_traces(quartilemethod=\"exclusive\") \n",
    "fig.show()"
   ]
  },
  {
   "cell_type": "code",
   "execution_count": null,
   "id": "b61dbb1b",
   "metadata": {},
   "outputs": [],
   "source": [
    "fig = px.box(data_custom, y=\"linAccZ_std\", color=\"target\",title = 'Distribution of linAccZ_std vs target variable')\n",
    "fig.update_traces(quartilemethod=\"exclusive\") \n",
    "fig.show()"
   ]
  },
  {
   "cell_type": "code",
   "execution_count": null,
   "id": "d911a6b3",
   "metadata": {},
   "outputs": [],
   "source": [
    "fig = px.box(data_custom, y=\"linAccY_std\", color=\"target\",title = 'Distribution of linAccY_std vs target variable')\n",
    "fig.update_traces(quartilemethod=\"exclusive\") \n",
    "fig.show()"
   ]
  },
  {
   "cell_type": "code",
   "execution_count": null,
   "id": "606aad252d7a3211",
   "metadata": {
    "collapsed": false,
    "jupyter": {
     "outputs_hidden": false
    }
   },
   "outputs": [],
   "source": [
    "fig = px.box(data_custom, y=\"linAccX_std\", color=\"target\",title = 'Distribution of linAccX_std vs target variable')\n",
    "fig.update_traces(quartilemethod=\"exclusive\") \n",
    "fig.show()"
   ]
  },
  {
   "cell_type": "code",
   "execution_count": null,
   "id": "f22fb8ae",
   "metadata": {},
   "outputs": [],
   "source": [
    "fig = px.box(data_custom, y=\"linAccZ_skewness\", color=\"target\",title = 'Distribution of linAccZ_skewness vs target variable')\n",
    "fig.update_traces(quartilemethod=\"exclusive\") \n",
    "fig.show()"
   ]
  },
  {
   "cell_type": "code",
   "execution_count": null,
   "id": "00621698",
   "metadata": {},
   "outputs": [],
   "source": [
    "fig = px.box(data_custom, y=\"linAccY_skewness\", color=\"target\",title = 'Distribution of linAccY_skewness vs target variable')\n",
    "fig.update_traces(quartilemethod=\"exclusive\") \n",
    "fig.show()"
   ]
  },
  {
   "cell_type": "code",
   "execution_count": null,
   "id": "332403e4",
   "metadata": {},
   "outputs": [],
   "source": [
    "fig = px.box(data_custom, y=\"linAccX_skewness\", color=\"target\",title = 'Distribution of linAccX_skewness vs target variable')\n",
    "fig.update_traces(quartilemethod=\"exclusive\") \n",
    "fig.show()"
   ]
  },
  {
   "cell_type": "markdown",
   "id": "32d201f6-c79d-4aab-a5e0-84b73af6d0d0",
   "metadata": {
    "tags": []
   },
   "source": [
    "# Data prep for model"
   ]
  },
  {
   "cell_type": "code",
   "execution_count": null,
   "id": "dcf9653b-fe1e-4eb1-9f0d-b7d567d212c8",
   "metadata": {},
   "outputs": [],
   "source": [
    "len(data_custom)"
   ]
  },
  {
   "cell_type": "code",
   "execution_count": null,
   "id": "ea81d21c-c9e0-4ab4-8591-5323dce0bddf",
   "metadata": {},
   "outputs": [],
   "source": [
    "#target imbalanced classes\n",
    "data_custom.groupby('target').size()"
   ]
  },
  {
   "cell_type": "code",
   "execution_count": null,
   "id": "ce560ff6-8882-4c2d-94ea-60151f61c6a0",
   "metadata": {},
   "outputs": [],
   "source": [
    "sns.countplot(x=data_custom['target'], label = \"pushup\")"
   ]
  },
  {
   "cell_type": "code",
   "execution_count": null,
   "id": "8e94793e-9865-4201-8123-eef928d76a55",
   "metadata": {},
   "outputs": [],
   "source": [
    "#sns.pairplot(data_custom, hue= 'target',vars=[\"linAccX_mean\", \"linAccY_mean\", \"linAccZ_mean\"])"
   ]
  },
  {
   "cell_type": "markdown",
   "id": "6747a4e4",
   "metadata": {},
   "source": [
    "## TREATING THE IMBALANCE "
   ]
  },
  {
   "cell_type": "code",
   "execution_count": null,
   "id": "b0e4383d",
   "metadata": {},
   "outputs": [],
   "source": [
    "import pandas as pd\n",
    "from sklearn.model_selection import train_test_split\n",
    "from sklearn.utils import resample\n",
    "\n",
    "\n",
    "# Separate the minority and majority classes\n",
    "minority_class = data_custom[data_custom['target'] == 1]  \n",
    "majority_class = data_custom[data_custom['target'] == 0]  \n",
    "\n",
    "# Downsample the majority class \n",
    "majority_downsampled = resample(majority_class, replace=False, n_samples=len(minority_class), random_state=42)\n",
    "\n",
    "# Concatenate BOTH\n",
    "balanced_data = pd.concat([minority_class, majority_downsampled])\n",
    "\n",
    "# SPLIT the data into features (X) and target variable (y)\n",
    "X = balanced_data.drop('target', axis=1)  # Assuming 'target' is the column to be predicted\n",
    "y = balanced_data['target']\n",
    "\n",
    "# Split the data into training and testing sets with stratification\n",
    "X_train, X_test, y_train, y_test = train_test_split(X, y, test_size=0.25, random_state=42, stratify=y)\n",
    "\n",
    "# Display shapes of the split datasets\n",
    "print(\"Shapes - X_train:\", X_train.shape, \"X_test:\", X_test.shape, \"y_train:\", y_train.shape, \"y_test:\", y_test.shape)"
   ]
  },
  {
   "cell_type": "markdown",
   "id": "dfd38356",
   "metadata": {},
   "source": [
    "## KBEST + SCALER"
   ]
  },
  {
   "cell_type": "code",
   "execution_count": null,
   "id": "2a0a6263",
   "metadata": {},
   "outputs": [],
   "source": [
    "selected = SelectKBest(score_func=f_classif, k=9)\n",
    "X_train_selected=selected.fit_transform(X_train, y_train)\n",
    "X_test_selected = selected.transform(X_test) \n",
    "selected.get_feature_names_out()"
   ]
  },
  {
   "cell_type": "code",
   "execution_count": null,
   "id": "53daca05",
   "metadata": {},
   "outputs": [],
   "source": [
    "# Scale Data\n",
    "import joblib\n",
    "scaler = StandardScaler()\n",
    "X_train_full = scaler.fit_transform(X_train_selected) #ONLY USING SELECTED VARIABLES\n",
    "joblib.dump(scaler,'scaler_pullup.pkl')\n",
    "X_test_full = scaler.transform(X_test_selected)"
   ]
  },
  {
   "cell_type": "markdown",
   "id": "29e3963d",
   "metadata": {},
   "source": [
    "##SAVING MODELS"
   ]
  },
  {
   "cell_type": "code",
   "execution_count": null,
   "id": "1a55526e",
   "metadata": {},
   "outputs": [],
   "source": [
    "results_hard = {}\n",
    "results_soft = {}"
   ]
  },
  {
   "cell_type": "markdown",
   "id": "2b070e0f",
   "metadata": {},
   "source": [
    "## SVM"
   ]
  },
  {
   "cell_type": "code",
   "execution_count": null,
   "id": "3acf403b",
   "metadata": {},
   "outputs": [],
   "source": [
    "import sklearn\n",
    "sklearn.metrics.get_scorer_names()"
   ]
  },
  {
   "cell_type": "code",
   "execution_count": null,
   "id": "7b9bce1b",
   "metadata": {},
   "outputs": [],
   "source": [
    "from sklearn.svm import SVC\n",
    "import numpy as np\n",
    "from sklearn.model_selection import RandomizedSearchCV\n",
    "svm = SVC(probability=True)\n",
    "\n",
    "param_grid = {'C': [0.1, 1, 10, 100, 1000], \n",
    "              'gamma': [1, 0.1, 0.01, 0.001, 0.0001], \n",
    "              'kernel': ['linear']}\n",
    "\n",
    "\n",
    "# Realizar la búsqueda aleatoria de hiperparámetros\n",
    "random_search_svm = RandomizedSearchCV(\n",
    "    estimator=svm,\n",
    "    param_distributions=param_grid,\n",
    "    n_iter=5,  \n",
    "    scoring=\"roc_auc\",  \n",
    "    n_jobs=7,\n",
    "    return_train_score=True\n",
    ")\n",
    "random_search_svm.fit(X_train_full, y_train)"
   ]
  },
  {
   "cell_type": "code",
   "execution_count": null,
   "id": "a8a04cf3",
   "metadata": {},
   "outputs": [],
   "source": [
    "#Evaluate: TRAIN\n",
    "proba_train = random_search_svm.predict_proba(X_train_full)\n",
    "pred_train = random_search_svm.predict(X_train_full)\n",
    "print(classification_report(y_train,pred_train))"
   ]
  },
  {
   "cell_type": "code",
   "execution_count": null,
   "id": "95e70f49",
   "metadata": {},
   "outputs": [],
   "source": [
    "#Evaluate: TEST\n",
    "proba_test = random_search_svm.predict_proba(X_test_full)\n",
    "pred_test = random_search_svm.predict(X_test_full)\n",
    "print(classification_report(y_test,pred_test))"
   ]
  },
  {
   "cell_type": "markdown",
   "id": "161f5511",
   "metadata": {},
   "source": [
    "## ANOTHER APPROACH"
   ]
  },
  {
   "cell_type": "code",
   "execution_count": null,
   "id": "2baceb9a",
   "metadata": {},
   "outputs": [],
   "source": [
    "from sklearn.svm import SVC\n",
    "import numpy as np\n",
    "from sklearn.model_selection import GridSearchCV\n",
    "\n",
    "param_grid = {'C': [0.1, 1, 10, 100, 1000], \n",
    "              'gamma': [1, 0.1, 0.01, 0.001, 0.0001], \n",
    "              'kernel': ['linear', 'rbf', 'poly', 'sigmoid']}\n",
    "\n",
    "# Perform GridSearchCV\n",
    "grid_search = GridSearchCV(svm, param_grid, scoring='f1', cv=6)  \n",
    "grid_search.fit(X_train_full, y_train)  \n",
    "\n",
    "# Get the best parameters and best F1 score\n",
    "best_params = grid_search.best_params_\n",
    "best_f1 = grid_search.best_score_\n",
    "\n",
    "# Use the best model for prediction on test data\n",
    "best_model = grid_search.best_estimator_\n",
    "y_pred = best_model.predict(X_test_full)\n",
    "\n",
    "# Calculate F1 score on the test set\n",
    "f1_test = f1_score(y_test, y_pred)\n",
    "\n",
    "print(\"Best Parameters:\", best_params)\n",
    "print(\"Best F1 Score (Cross-validation):\", best_f1)\n",
    "print(\"F1 Score on Test Set:\", f1_test)\n"
   ]
  },
  {
   "cell_type": "code",
   "execution_count": null,
   "id": "778d712d",
   "metadata": {},
   "outputs": [],
   "source": [
    "from sklearn.svm import SVC\n",
    "import numpy as np\n",
    "from sklearn.model_selection import GridSearchCV\n",
    "\n",
    "param_grid = {'C': [0.1, 1, 10], \n",
    "              'gamma': [1, 0.1, 0.01], \n",
    "              'kernel': ['linear']}\n",
    "\n",
    "grid= GridSearchCV(SVC(), param_grid, refit=True, verbose= 10)\n",
    "\n",
    "grid.fit(X_train_full, y_train)"
   ]
  },
  {
   "cell_type": "code",
   "execution_count": null,
   "id": "adda2d01",
   "metadata": {},
   "outputs": [],
   "source": [
    "grid_predictions= grid.predict(X_test_full)\n",
    "print(classification_report(y_test, grid_predictions))"
   ]
  },
  {
   "cell_type": "markdown",
   "id": "ba81b7e6",
   "metadata": {},
   "source": [
    "## LOGISTIC REGRESSION"
   ]
  },
  {
   "cell_type": "code",
   "execution_count": null,
   "id": "6bd8b102",
   "metadata": {},
   "outputs": [],
   "source": [
    "from sklearn.linear_model import LogisticRegression\n",
    "from sklearn.metrics import classification_report\n",
    "\n",
    "\n",
    "# Instantiate the Logistic Regression model\n",
    "logistic_model = LogisticRegression(random_state=42)\n",
    "\n",
    "# Fit the model on the resampled training data\n",
    "logistic_model.fit(X_train_full, y_train)\n",
    "\n",
    "# Predict on the test set\n",
    "y_pred = logistic_model.predict(X_test_full)\n",
    "\n",
    "# Evaluate the model\n",
    "print(classification_report(y_test, y_pred))"
   ]
  },
  {
   "cell_type": "markdown",
   "id": "993c2b96",
   "metadata": {},
   "source": [
    "## XGBOOST"
   ]
  },
  {
   "cell_type": "code",
   "execution_count": null,
   "id": "71a4046d",
   "metadata": {},
   "outputs": [],
   "source": [
    "import xgboost as xgb\n",
    "xgb = xgb.XGBClassifier()\n",
    "from sklearn.model_selection import RandomizedSearchCV"
   ]
  },
  {
   "cell_type": "code",
   "execution_count": null,
   "id": "746a1209",
   "metadata": {},
   "outputs": [],
   "source": [
    "param_dist = {\n",
    "    'n_estimators': range(1500, 1800, 2000), \n",
    "    'max_depth': range(10, 15, 20),\n",
    "    'booster': ['gbtree', 'gblinear'],\n",
    "    'min_child_weight': range(1, 2, 3),  \n",
    "    'learning_rate': [0.1, 0.15, 0.20],\n",
    "    'gamma': [0, 0.1, 0.2, 0.3]\n",
    "}\n",
    "\n",
    "#hyperparameters\n",
    "random_search_XGB = RandomizedSearchCV(\n",
    "    estimator=xgb,\n",
    "    param_distributions=param_dist,\n",
    "    n_iter=2, #4\n",
    "    scoring=\"roc_auc\",  \n",
    "    n_jobs=5, #7\n",
    "    return_train_score=True\n",
    ")"
   ]
  },
  {
   "cell_type": "code",
   "execution_count": null,
   "id": "d1ceace4",
   "metadata": {},
   "outputs": [],
   "source": [
    "# w/o scaling \n",
    "random_search_XGB.fit(X_train_selected, y_train)"
   ]
  },
  {
   "cell_type": "code",
   "execution_count": null,
   "id": "bf2eac15",
   "metadata": {},
   "outputs": [],
   "source": [
    "print(random_search_XGB.best_params_)"
   ]
  },
  {
   "cell_type": "code",
   "execution_count": null,
   "id": "cbb1ef7c-5080-40e0-b227-614b07a87e71",
   "metadata": {},
   "outputs": [],
   "source": [
    "import joblib  \n",
    "joblib.dump(random_search_XGB, 'pullup_model.pkl')"
   ]
  },
  {
   "cell_type": "code",
   "execution_count": null,
   "id": "e22d18e7",
   "metadata": {},
   "outputs": [],
   "source": [
    "# train\n",
    "proba_train_XGB = random_search_XGB.predict_proba(X_train_selected)\n",
    "pred_train_XGB = random_search_XGB.predict(X_train_selected)\n",
    "print(classification_report(y_train,pred_train_XGB))"
   ]
  },
  {
   "cell_type": "code",
   "execution_count": null,
   "id": "0ae224ee",
   "metadata": {},
   "outputs": [],
   "source": [
    "# test\n",
    "proba_test_XGB = random_search_XGB.predict_proba(X_test_selected)\n",
    "pred_test_XGB = random_search_XGB.predict(X_test_selected)\n",
    "print(classification_report(y_test,pred_test_XGB))"
   ]
  },
  {
   "cell_type": "markdown",
   "id": "cd914d54",
   "metadata": {},
   "source": [
    "## NAIVE BAYES"
   ]
  },
  {
   "cell_type": "code",
   "execution_count": null,
   "id": "849d1fe9",
   "metadata": {},
   "outputs": [],
   "source": [
    "from sklearn.naive_bayes import GaussianNB\n",
    "gaus = GaussianNB()\n",
    "param_dist_NB = {\n",
    "    'priors': [[0.2, 0.8], [0.5, 0.5], [0.8, 0.2],[0.3, 0.7],[0.7, 0.3]]\n",
    "}\n",
    "\n",
    "\n",
    "random_search_NB = RandomizedSearchCV(\n",
    "    estimator=gaus,\n",
    "    param_distributions=param_dist_NB,\n",
    "    n_iter=5,  \n",
    "    scoring=\"roc_auc\",  \n",
    "    n_jobs=7,\n",
    "    return_train_score=True\n",
    ")"
   ]
  },
  {
   "cell_type": "code",
   "execution_count": null,
   "id": "8c64b4c8",
   "metadata": {},
   "outputs": [],
   "source": [
    "# Entrenar el modelo con la búsqueda aleatoria de hiperparámetros\n",
    "random_search_NB.fit(X_train_full, y_train)"
   ]
  },
  {
   "cell_type": "code",
   "execution_count": null,
   "id": "c5bd5155",
   "metadata": {},
   "outputs": [],
   "source": [
    "print(random_search_NB.best_params_)"
   ]
  },
  {
   "cell_type": "code",
   "execution_count": null,
   "id": "1d8b51c9",
   "metadata": {},
   "outputs": [],
   "source": [
    "#First evaluate on train\n",
    "proba_train_NB = random_search_NB.predict_proba(X_train_full)\n",
    "pred_train_NB = random_search_NB.predict(X_train_full)\n",
    "print(classification_report(y_train,pred_train_NB))"
   ]
  },
  {
   "cell_type": "code",
   "execution_count": null,
   "id": "00b22ece",
   "metadata": {},
   "outputs": [],
   "source": [
    "#now I will check with the test\n",
    "proba_test_NB = random_search_NB.predict_proba(X_test_full)\n",
    "pred_test_NB = random_search_NB.predict(X_test_full)\n",
    "print(classification_report(y_test,pred_test_NB))"
   ]
  },
  {
   "cell_type": "markdown",
   "id": "53a32e28-6635-40ff-aad7-0ec25a0c8981",
   "metadata": {
    "tags": []
   },
   "source": [
    "## Model evaluation"
   ]
  },
  {
   "cell_type": "code",
   "execution_count": null,
   "id": "de1d18a2-f565-4f08-8c94-308807b9d260",
   "metadata": {},
   "outputs": [],
   "source": [
    "pred_SV = random_search_svm.predict(X_test_full)\n",
    "proba_SV = random_search_svm.predict_proba(X_test_full)\n",
    "results_hard[\"Support_Vector\"] = pred_SV\n",
    "results_soft[\"Support_Vector\"] = proba_SV[:,1]\n",
    "\n",
    "proba_logistic = logistic_model.predict_proba(X_test_full)\n",
    "pred_logistic = logistic_model.predict(X_test_full)\n",
    "results_hard[\"Logistic_Regr\"] = pred_logistic\n",
    "results_soft[\"Logistic_Regr\"] = proba_logistic[:,1]\n",
    "\n",
    "proba_XGB = random_search_XGB.predict_proba(X_test_selected)\n",
    "pred_XGB = random_search_XGB.predict(X_test_selected)\n",
    "results_hard[\"XGBOOST\"] = pred_XGB\n",
    "results_soft[\"XGBOOST\"] = proba_XGB[:,1]\n",
    "\n",
    "proba_NB = random_search_NB.predict_proba(X_test_full)\n",
    "pred_NB = random_search_NB.predict(X_test_full)\n",
    "results_hard[\"Naive_Bayes\"] = pred_NB\n",
    "results_soft[\"Naive_Bayes\"] = proba_NB[:,1]\n",
    "\n",
    "results_hard = pd.DataFrame(results_hard)\n",
    "results_soft = pd.DataFrame(results_soft)"
   ]
  },
  {
   "cell_type": "code",
   "execution_count": null,
   "id": "6a079c4b-0682-4852-bbe3-5346a14446a1",
   "metadata": {},
   "outputs": [],
   "source": [
    "metrics = {}\n",
    "\n",
    "metrics[\"Accuracy\"] = {\n",
    "    \"Naive_Bayes\": accuracy_score(y_test, results_hard.Naive_Bayes),\n",
    "    \"Support_Vector\": accuracy_score(y_test, results_hard.Support_Vector),\n",
    "    \"XGBOOST\": accuracy_score(y_test, results_hard.XGBOOST),\n",
    "    \"Logistic_Regr\": accuracy_score(y_test, results_hard.Logistic_Regr)\n",
    "}\n",
    "metrics[\"Precision\"] = {\n",
    "    \"Naive_Bayes\": precision_score(y_test, results_hard.Naive_Bayes),\n",
    "    \"Support_Vector\": precision_score(y_test, results_hard.Support_Vector),\n",
    "    \"XGBOOST\": precision_score(y_test, results_hard.XGBOOST),\n",
    "    \"Logistic_Regr\": precision_score(y_test, results_hard.Logistic_Regr)\n",
    "}\n",
    "metrics[\"Recall\"] = {\n",
    "    \"Naive_Bayes\": recall_score(y_test, results_hard.Naive_Bayes),\n",
    "    \"Support_Vector\": recall_score(y_test, results_hard.Support_Vector),\n",
    "    \"XGBOOST\": recall_score(y_test, results_hard.XGBOOST),\n",
    "    \"Logistic_Regr\": recall_score(y_test, results_hard.Logistic_Regr)\n",
    "}\n",
    "metrics[\"F1\"] = {\n",
    "    \"Naive_Bayes\": f1_score(y_test, results_hard.Naive_Bayes),\n",
    "    \"Support_Vector\": f1_score(y_test, results_hard.Support_Vector),\n",
    "    \"XGBOOST\": f1_score(y_test, results_hard.XGBOOST),\n",
    "    \"Logistic_Regr\": f1_score(y_test, results_hard.Logistic_Regr)\n",
    "}\n",
    "\n",
    "metrics = pd.DataFrame(metrics)\n",
    "metrics"
   ]
  },
  {
   "cell_type": "markdown",
   "id": "221b271a-eee2-4fd5-a6ee-e36a7e63e698",
   "metadata": {},
   "source": [
    "## ROC Curves"
   ]
  },
  {
   "cell_type": "code",
   "execution_count": null,
   "id": "4f53787a-9f6b-4c7e-a19d-803cf2f03ad0",
   "metadata": {},
   "outputs": [],
   "source": [
    "# Datos de FPR y TPR para los tres modelos \n",
    "fpr_Naive_Bayes,tpr_Naive_Bayes,_ = roc_curve(y_test, results_soft.Naive_Bayes)\n",
    "fpr_Support_Vector,tpr_Support_Vector,_ = roc_curve(y_test, results_soft.Support_Vector)\n",
    "fpr_XGBOOST,tpr_XGBOOST,_ = roc_curve(y_test, results_soft.XGBOOST)\n",
    "fpr_Logistic_Reg,tpr_Logistic_Regr,_ = roc_curve(y_test, results_soft.Logistic_Regr)\n",
    "\n",
    "# Calcular el área bajo la curva ROC (AUC) para cada modelo\n",
    "auc_Naive_Bayes = auc(fpr_Naive_Bayes,tpr_Naive_Bayes)\n",
    "auc_Support_Vector = auc(fpr_Support_Vector,tpr_Support_Vector)\n",
    "auc_XGBOOST = auc(fpr_XGBOOST,tpr_XGBOOST)\n",
    "auc_Logistic_Regr = auc(fpr_Logistic_Reg,tpr_Logistic_Regr)"
   ]
  },
  {
   "cell_type": "code",
   "execution_count": null,
   "id": "3406fe27-c3fb-4b68-b666-5f2e18833d2d",
   "metadata": {},
   "outputs": [],
   "source": [
    "# Crear la gráfica ROC\n",
    "plt.figure(figsize=(8, 6))\n",
    "\n",
    "# Graficar las curvas ROC para los tres modelos\n",
    "plt.plot(fpr_Naive_Bayes,tpr_Naive_Bayes, label=f'Naive bayes (AUC = {auc_Naive_Bayes:.2f})')\n",
    "plt.plot(fpr_XGBOOST,tpr_XGBOOST, label=f'Xgboost (AUC = {auc_XGBOOST:.2f})')\n",
    "plt.plot(fpr_Support_Vector,tpr_Support_Vector, label=f'Support Vector (AUC = {auc_Support_Vector:.2f})')\n",
    "plt.plot(fpr_Logistic_Reg,tpr_Logistic_Regr, label=f'Support Vector (AUC = {auc_Logistic_Regr:.2f})')\n",
    "\n",
    "\n",
    "# Configurar la gráfica\n",
    "plt.plot([0, 1], [0, 1], 'k--', lw=2)  # Línea diagonal para referencia\n",
    "plt.xlim([0.0, 1.0])\n",
    "plt.ylim([0.0, 1.05])\n",
    "plt.xlabel('Tasa de Falsos Positivos (FPR)')\n",
    "plt.ylabel('Tasa de Verdaderos Positivos (TPR)')\n",
    "plt.title('Curva ROC de Modelos')\n",
    "plt.legend(loc=\"lower right\")\n",
    "\n",
    "# Mostrar la gráfica\n",
    "plt.show()"
   ]
  }
 ],
 "metadata": {
  "kernelspec": {
   "display_name": "Python 3 (ipykernel)",
   "language": "python",
   "name": "python3"
  },
  "language_info": {
   "codemirror_mode": {
    "name": "ipython",
    "version": 3
   },
   "file_extension": ".py",
   "mimetype": "text/x-python",
   "name": "python",
   "nbconvert_exporter": "python",
   "pygments_lexer": "ipython3",
   "version": "3.10.13"
  }
 },
 "nbformat": 4,
 "nbformat_minor": 5
}
