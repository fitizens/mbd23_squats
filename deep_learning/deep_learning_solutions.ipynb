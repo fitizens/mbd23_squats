{
 "cells": [
  {
   "cell_type": "markdown",
   "source": [
    "# Importing libraries"
   ],
   "metadata": {
    "collapsed": false
   },
   "id": "42915944d9735d22"
  },
  {
   "cell_type": "code",
   "execution_count": 40,
   "outputs": [],
   "source": [
    "import numpy as np\n",
    "from fitizens_libraries.load_and_process_training_data import load_training_data\n",
    "import os\n",
    "import pandas as pd\n",
    "import statistics as stat\n",
    "import tensorflow as tf\n",
    "from tensorflow.keras.models import Sequential\n",
    "from tensorflow.keras.layers import Conv1D, MaxPooling1D, Flatten,Dense\n",
    "from sklearn.model_selection import train_test_split\n",
    "from tensorflow.keras.utils import to_categorical\n",
    "from tensorflow.keras.metrics import F1Score\n",
    "from sklearn.model_selection import ParameterGrid"
   ],
   "metadata": {
    "collapsed": false,
    "ExecuteTime": {
     "end_time": "2023-12-20T21:11:11.776287100Z",
     "start_time": "2023-12-20T21:11:11.758444800Z"
    }
   },
   "id": "8db0d1922b4d9000"
  },
  {
   "cell_type": "markdown",
   "source": [
    "# Creating Functions"
   ],
   "metadata": {
    "collapsed": false
   },
   "id": "5bdce6bd314dcf6"
  },
  {
   "cell_type": "code",
   "execution_count": 41,
   "outputs": [],
   "source": [
    "from enum import Enum\n",
    "class ExerciseType(Enum):\n",
    "    BURPEE = \"BURPEE\"\n",
    "    DUMBBELL_SNATCH = \"DUMBBELL_SNATCH\"\n",
    "    JUMPING_JACK = \"JUMPING_JACK\"\n",
    "    SQUAT_JUMP = \"SQUAT_JUMP\"\n",
    "    PULL_UP = \"PULL_UP\"\n",
    "    PUSH_UP = \"PUSH_UP\"\n",
    "    SIT_UP = \"SIT_UP\"\n",
    "    SQUAT = \"SQUAT\"\n",
    "\n",
    "class ExerciseFolder(Enum):\n",
    "    BURPEE = \"BURPEE\"\n",
    "    DUMBBELL_SNATCH = \"DUMBBELL\"\n",
    "    JUMPING_JACK = \"JACK\"\n",
    "    SQUAT_JUMP = \"JUMPS\"\n",
    "    PULL_UP = \"PULLUP\"\n",
    "    PUSH_UP = \"PUSHUP\"\n",
    "    SIT_UP = \"SITUP\"\n",
    "    SQUAT = \"SQUATS\""
   ],
   "metadata": {
    "collapsed": false,
    "ExecuteTime": {
     "end_time": "2023-12-20T21:11:13.597862500Z",
     "start_time": "2023-12-20T21:11:13.575277300Z"
    }
   },
   "id": "11bb7a52d291838f"
  },
  {
   "cell_type": "code",
   "execution_count": 42,
   "outputs": [],
   "source": [
    "class ExerciseInfo:\n",
    "    def __init__(self, exercise: ExerciseType, folder_path: ExerciseFolder):\n",
    "        self.exercise = exercise.value\n",
    "        self.folder_path = f\"data/{folder_path.value}\""
   ],
   "metadata": {
    "collapsed": false,
    "ExecuteTime": {
     "end_time": "2023-12-20T21:11:15.411667Z",
     "start_time": "2023-12-20T21:11:15.394361500Z"
    }
   },
   "id": "1e4386061922a2a5"
  },
  {
   "cell_type": "code",
   "execution_count": 43,
   "outputs": [],
   "source": [
    "def requires_peak_minima(exercise: str):\n",
    "    if exercise == ExerciseType.PULL_UP.value or exercise == ExerciseType.SIT_UP.value or exercise == ExerciseType.JUMPING_JACK.value:\n",
    "        return False\n",
    "    else:\n",
    "        return True"
   ],
   "metadata": {
    "collapsed": false,
    "ExecuteTime": {
     "end_time": "2023-12-20T21:11:16.983984100Z",
     "start_time": "2023-12-20T21:11:16.966649600Z"
    }
   },
   "id": "3c453124fd480969"
  },
  {
   "cell_type": "code",
   "execution_count": 44,
   "outputs": [],
   "source": [
    "def load_data(exercise: str, folder_path: str):\n",
    "    os.makedirs(folder_path, exist_ok=True)\n",
    "    file_names = [f\"{folder_path}/{name}\" for name in os.listdir(folder_path)]\n",
    "    signals = [\"accX\", \"accY\", \"accZ\", \"gyroX\", \"gyroY\", \"gyroZ\", \"magnX\", \"magnY\", \"magnZ\", \"linAccX\", \"linAccY\", \"linAccZ\"]\n",
    "    \n",
    "    data, wk = load_training_data(filelist=file_names,\n",
    "                             signals= signals,\n",
    "                              target_exercise=exercise, other_exercises=[], is_peak_minima=requires_peak_minima(exercise))\n",
    "    print(f\"'{exercise}' data loaded\")\n",
    "    return data"
   ],
   "metadata": {
    "collapsed": false,
    "ExecuteTime": {
     "end_time": "2023-12-20T21:11:19.532615800Z",
     "start_time": "2023-12-20T21:11:19.517575400Z"
    }
   },
   "id": "68f52da504d3e771"
  },
  {
   "cell_type": "code",
   "execution_count": 45,
   "outputs": [],
   "source": [
    "def resampling_data(df_input, desired_rows, columns):\n",
    "    df = df_input[columns]\n",
    "    if df.shape[0] == desired_rows:\n",
    "        return df    \n",
    "\n",
    "    additional_index = pd.date_range(start=df.index.min(),  \n",
    "                                     end=df.index.max(),\n",
    "                                     periods=desired_rows)\n",
    "    resampled_df = df.reindex(additional_index).interpolate()\n",
    "    \n",
    "    return resampled_df"
   ],
   "metadata": {
    "collapsed": false,
    "ExecuteTime": {
     "end_time": "2023-12-20T21:11:21.488895300Z",
     "start_time": "2023-12-20T21:11:21.460442500Z"
    }
   },
   "id": "65146ad658dfb43f"
  },
  {
   "cell_type": "code",
   "execution_count": 46,
   "outputs": [],
   "source": [
    "def get_training_test_data(exercise_tag: str, folder_path: str, columns_selected: list):\n",
    "    data = load_data(exercise_tag, folder_path)\n",
    "    \n",
    "    exercise = [element[\"series\"] for element in list(filter(lambda info: info[\"target\"] == exercise_tag, data))]\n",
    "    no_exercise = [element[\"series\"] for element in list(filter(lambda info: info[\"target\"] == \"NO_EXERCISE\", data))]\n",
    "    \n",
    "    exercise_len = len(exercise)\n",
    "    no_exercise_len = len(no_exercise)\n",
    "    total_len = exercise_len + no_exercise_len\n",
    "    exercise_weight = total_len / ( 2 * exercise_len )\n",
    "    no_exercise_weight = total_len / ( 2* no_exercise_len )\n",
    "    \n",
    "    metric = int(stat.median([info.shape[0] for info in exercise]))\n",
    "    resampled_exercise = [resampling_data(info, metric, columns_selected) for info in exercise]\n",
    "    resampled_no_exercise = [resampling_data(info, metric, columns_selected) for info in no_exercise]\n",
    "    \n",
    "    resampled_exercise_labeled = [1] * len(resampled_exercise)\n",
    "    resampled_no_exercise_labeled = [0] * len(resampled_no_exercise)\n",
    "    \n",
    "    input_data = resampled_exercise + resampled_no_exercise\n",
    "    input_data = np.stack([df.to_numpy() for df in input_data])\n",
    "    output_data = np.array(resampled_exercise_labeled + resampled_no_exercise_labeled)\n",
    "    \n",
    "    return {\"X\": input_data, \"Y\": output_data, \"exercise_weight\": exercise_weight, \"no_exercise_weight\": no_exercise_weight, \"metric\": metric}"
   ],
   "metadata": {
    "collapsed": false,
    "ExecuteTime": {
     "end_time": "2023-12-20T21:11:23.465771500Z",
     "start_time": "2023-12-20T21:11:23.450184100Z"
    }
   },
   "id": "9b60412448df7789"
  },
  {
   "cell_type": "code",
   "execution_count": 47,
   "outputs": [],
   "source": [
    "def create_model(params, input_shape):\n",
    "    model = Sequential()\n",
    "    model.add(Conv1D(filters=params['filters'], kernel_size=params['kernel_size'], \n",
    "                     activation='relu', padding='same', input_shape=input_shape))\n",
    "    model.add(MaxPooling1D(2))\n",
    "    model.add(Flatten())\n",
    "    model.add(Dense(params['dense_units'], activation='relu', kernel_regularizer=tf.keras.regularizers.l2(0.001)))\n",
    "    model.add(Dense(2, activation='softmax'))\n",
    "    optimizer = tf.keras.optimizers.Adam(learning_rate=params['learning_rate'])\n",
    "    model.compile(optimizer=optimizer, loss='categorical_crossentropy', metrics=[F1Score()])\n",
    "    return model"
   ],
   "metadata": {
    "collapsed": false,
    "ExecuteTime": {
     "end_time": "2023-12-20T21:11:25.264587600Z",
     "start_time": "2023-12-20T21:11:25.245885900Z"
    }
   },
   "id": "de3e69e2cad3a0ee"
  },
  {
   "cell_type": "code",
   "execution_count": 48,
   "outputs": [],
   "source": [
    "def hyperparameter_tuning(X_train, y_train, X_test, y_test, input_shape, class_weights_dict):\n",
    "    param_grid = {\n",
    "        'filters': [32], # [32, 64, 128]\n",
    "        'kernel_size': [3], # [3, 5]\n",
    "        'dense_units': [64], # [32, 64, 128]\n",
    "        'learning_rate': [0.001] # [0.001, 0.0001]\n",
    "    }\n",
    "\n",
    "    best_f1 = 0\n",
    "    best_model = None\n",
    "    best_params = None\n",
    "\n",
    "    for params in ParameterGrid(param_grid):\n",
    "        model = create_model(params, input_shape)\n",
    "        model.fit(X_train, y_train, epochs=100, batch_size=32, class_weight=class_weights_dict, validation_split=0.2, verbose=0)\n",
    "        _, f1 = model.evaluate(X_test, y_test, verbose=0)\n",
    "        f1_exercise = f1[1]\n",
    "        if f1_exercise > best_f1:\n",
    "            best_f1 = f1_exercise\n",
    "            best_model = model\n",
    "            best_params = params\n",
    "        print(f\"F1 Iteration: {f1_exercise}\")\n",
    "\n",
    "    return best_model, best_f1, best_params"
   ],
   "metadata": {
    "collapsed": false,
    "ExecuteTime": {
     "end_time": "2023-12-20T21:11:26.973524400Z",
     "start_time": "2023-12-20T21:11:26.961269400Z"
    }
   },
   "id": "e66ea8d9502e6e93"
  },
  {
   "cell_type": "code",
   "execution_count": 49,
   "outputs": [],
   "source": [
    "def predict_deep_learning(exercise_tag: str, folder_path: str, columns_selected: list):\n",
    "    print(f\"Predict {exercise_tag}\")\n",
    "    data = get_training_test_data(exercise_tag, folder_path, columns_selected)\n",
    "    \n",
    "    X_train, X_test, y_train, y_test = train_test_split(data[\"X\"], data[\"Y\"], test_size=0.2, random_state=123)\n",
    "    y_train = to_categorical(y_train, num_classes=2)\n",
    "    y_test = to_categorical(y_test, num_classes=2)\n",
    "    class_weights_dict = {0: data[\"no_exercise_weight\"], 1: data[\"exercise_weight\"]}\n",
    "    input_shape = (data[\"metric\"], len(columns_selected))\n",
    "\n",
    "    return hyperparameter_tuning(X_train, y_train, X_test, y_test, input_shape, class_weights_dict)"
   ],
   "metadata": {
    "collapsed": false,
    "ExecuteTime": {
     "end_time": "2023-12-20T21:11:29.305184500Z",
     "start_time": "2023-12-20T21:11:29.288941300Z"
    }
   },
   "id": "e562be0d190c0dc5"
  },
  {
   "cell_type": "markdown",
   "source": [
    "# Testing"
   ],
   "metadata": {
    "collapsed": false
   },
   "id": "2ff2a0e0e7d4934c"
  },
  {
   "cell_type": "code",
   "execution_count": 50,
   "outputs": [
    {
     "name": "stdout",
     "output_type": "stream",
     "text": [
      "Predict BURPEE\n",
      "'BURPEE' data loaded\n",
      "F1 Iteration: 0.6696428656578064\n",
      "Predict DUMBBELL_SNATCH\n",
      "'DUMBBELL_SNATCH' data loaded\n",
      "F1 Iteration: 0.9813084006309509\n",
      "Predict JUMPING_JACK\n",
      "'JUMPING_JACK' data loaded\n",
      "F1 Iteration: 0.90666663646698\n",
      "Predict SQUAT_JUMP\n",
      "'SQUAT_JUMP' data loaded\n",
      "F1 Iteration: 0.8769230842590332\n",
      "Predict PULL_UP\n",
      "'PULL_UP' data loaded\n",
      "F1 Iteration: 0.5964912176132202\n",
      "Predict PUSH_UP\n",
      "'PUSH_UP' data loaded\n",
      "F1 Iteration: 0.7931034564971924\n",
      "Predict SIT_UP\n",
      "'SIT_UP' data loaded\n",
      "F1 Iteration: 0.49629631638526917\n",
      "Predict SQUAT\n",
      "'SQUAT' data loaded\n",
      "F1 Iteration: 0.936781644821167\n"
     ]
    }
   ],
   "source": [
    "features = [\"accX\", \"accY\", \"accZ\", \"linAccX\", \"linAccY\", \"linAccZ\", \"gyroX\", \"gyroY\", \"gyroZ\", \"magnX\", \"magnY\", \"magnZ\"]\n",
    "\n",
    "models = [ExerciseInfo(ExerciseType.BURPEE, ExerciseFolder.BURPEE),\n",
    "          ExerciseInfo(ExerciseType.DUMBBELL_SNATCH, ExerciseFolder.DUMBBELL_SNATCH),\n",
    "          ExerciseInfo(ExerciseType.JUMPING_JACK, ExerciseFolder.JUMPING_JACK),\n",
    "          ExerciseInfo(ExerciseType.SQUAT_JUMP, ExerciseFolder.SQUAT_JUMP),\n",
    "          ExerciseInfo(ExerciseType.PULL_UP, ExerciseFolder.PULL_UP),\n",
    "          ExerciseInfo(ExerciseType.PUSH_UP, ExerciseFolder.PUSH_UP),\n",
    "          ExerciseInfo(ExerciseType.SIT_UP, ExerciseFolder.SIT_UP),\n",
    "          ExerciseInfo(ExerciseType.SQUAT, ExerciseFolder.SQUAT)]\n",
    "\n",
    "outcomes = []\n",
    "for model in models:\n",
    "    outcome = {}\n",
    "    model_name = model.exercise\n",
    "    \n",
    "    best_model_generated, best_f1_generated, best_params_generated = predict_deep_learning(model_name, model.folder_path, features)\n",
    "    \n",
    "    outcome[\"model_name\"] = model_name\n",
    "    outcome[\"f1\"] = best_f1_generated\n",
    "    outcome[\"dense_units\"] = best_params_generated[\"dense_units\"]\n",
    "    outcome[\"filters\"] = best_params_generated[\"filters\"]\n",
    "    outcome[\"kernel_size\"] = best_params_generated[\"kernel_size\"]\n",
    "    outcome[\"learning_rate\"] = best_params_generated[\"learning_rate\"]\n",
    "    \n",
    "    outcomes.append(outcome)\n",
    "    \n",
    "    best_model_generated.save(f\"models/{model_name}.keras\")\n",
    "\n",
    "outcomes_df = pd.DataFrame(outcomes)"
   ],
   "metadata": {
    "collapsed": false,
    "ExecuteTime": {
     "end_time": "2023-12-20T21:33:06.732120900Z",
     "start_time": "2023-12-20T21:11:34.136176100Z"
    }
   },
   "id": "4c6b98ec8ec292b5"
  },
  {
   "cell_type": "code",
   "execution_count": 51,
   "outputs": [
    {
     "data": {
      "text/plain": "        model_name        f1  dense_units  filters  kernel_size  learning_rate\n0           BURPEE  0.669643           64       32            3          0.001\n1  DUMBBELL_SNATCH  0.981308           64       32            3          0.001\n2     JUMPING_JACK  0.906667           64       32            3          0.001\n3       SQUAT_JUMP  0.876923           64       32            3          0.001\n4          PULL_UP  0.596491           64       32            3          0.001\n5          PUSH_UP  0.793103           64       32            3          0.001\n6           SIT_UP  0.496296           64       32            3          0.001\n7            SQUAT  0.936782           64       32            3          0.001",
      "text/html": "<div>\n<style scoped>\n    .dataframe tbody tr th:only-of-type {\n        vertical-align: middle;\n    }\n\n    .dataframe tbody tr th {\n        vertical-align: top;\n    }\n\n    .dataframe thead th {\n        text-align: right;\n    }\n</style>\n<table border=\"1\" class=\"dataframe\">\n  <thead>\n    <tr style=\"text-align: right;\">\n      <th></th>\n      <th>model_name</th>\n      <th>f1</th>\n      <th>dense_units</th>\n      <th>filters</th>\n      <th>kernel_size</th>\n      <th>learning_rate</th>\n    </tr>\n  </thead>\n  <tbody>\n    <tr>\n      <th>0</th>\n      <td>BURPEE</td>\n      <td>0.669643</td>\n      <td>64</td>\n      <td>32</td>\n      <td>3</td>\n      <td>0.001</td>\n    </tr>\n    <tr>\n      <th>1</th>\n      <td>DUMBBELL_SNATCH</td>\n      <td>0.981308</td>\n      <td>64</td>\n      <td>32</td>\n      <td>3</td>\n      <td>0.001</td>\n    </tr>\n    <tr>\n      <th>2</th>\n      <td>JUMPING_JACK</td>\n      <td>0.906667</td>\n      <td>64</td>\n      <td>32</td>\n      <td>3</td>\n      <td>0.001</td>\n    </tr>\n    <tr>\n      <th>3</th>\n      <td>SQUAT_JUMP</td>\n      <td>0.876923</td>\n      <td>64</td>\n      <td>32</td>\n      <td>3</td>\n      <td>0.001</td>\n    </tr>\n    <tr>\n      <th>4</th>\n      <td>PULL_UP</td>\n      <td>0.596491</td>\n      <td>64</td>\n      <td>32</td>\n      <td>3</td>\n      <td>0.001</td>\n    </tr>\n    <tr>\n      <th>5</th>\n      <td>PUSH_UP</td>\n      <td>0.793103</td>\n      <td>64</td>\n      <td>32</td>\n      <td>3</td>\n      <td>0.001</td>\n    </tr>\n    <tr>\n      <th>6</th>\n      <td>SIT_UP</td>\n      <td>0.496296</td>\n      <td>64</td>\n      <td>32</td>\n      <td>3</td>\n      <td>0.001</td>\n    </tr>\n    <tr>\n      <th>7</th>\n      <td>SQUAT</td>\n      <td>0.936782</td>\n      <td>64</td>\n      <td>32</td>\n      <td>3</td>\n      <td>0.001</td>\n    </tr>\n  </tbody>\n</table>\n</div>"
     },
     "execution_count": 51,
     "metadata": {},
     "output_type": "execute_result"
    }
   ],
   "source": [
    "outcomes_df"
   ],
   "metadata": {
    "collapsed": false,
    "ExecuteTime": {
     "end_time": "2023-12-20T21:35:12.206709800Z",
     "start_time": "2023-12-20T21:35:12.180053100Z"
    }
   },
   "id": "2ca3d14904c2ac54"
  }
 ],
 "metadata": {
  "kernelspec": {
   "display_name": "Python 3",
   "language": "python",
   "name": "python3"
  },
  "language_info": {
   "codemirror_mode": {
    "name": "ipython",
    "version": 2
   },
   "file_extension": ".py",
   "mimetype": "text/x-python",
   "name": "python",
   "nbconvert_exporter": "python",
   "pygments_lexer": "ipython2",
   "version": "2.7.6"
  }
 },
 "nbformat": 4,
 "nbformat_minor": 5
}
