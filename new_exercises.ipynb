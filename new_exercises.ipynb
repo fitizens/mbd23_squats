{
 "cells": [
  {
   "cell_type": "code",
   "execution_count": null,
   "id": "initial_id",
   "metadata": {
    "tags": []
   },
   "outputs": [],
   "source": [
    "import pandas as pd\n",
    "import os\n",
    "import plotly.express as px\n",
    "from custom_libraries.gz_to_json import gz_to_json\n",
    "from custom_libraries.process_json_file import process_json_files"
   ]
  },
  {
   "cell_type": "code",
   "execution_count": null,
   "outputs": [],
   "source": [
    "input_folder = r'C:\\Users\\57301\\Documents\\MASTER_IE\\TERM_III\\FITIZENS\\GitHub\\mbd23_squats\\barbell-row'\n",
    "output_folder = r'C:\\Users\\57301\\Documents\\MASTER_IE\\TERM_III\\FITIZENS\\GitHub\\mbd23_squats\\barbell-row_json'\n",
    "\n",
    "gz_to_json(input_folder, output_folder)"
   ],
   "metadata": {
    "collapsed": false
   },
   "id": "2fa7ef8641a43f7f"
  },
  {
   "cell_type": "code",
   "execution_count": null,
   "outputs": [],
   "source": [
    "folder_path = \"barbell-clean_json\"\n",
    "os.makedirs(folder_path, exist_ok=True) #Referenciamos la carpeta LABELED en la que están las carpetas zip con los json\n",
    "#Ahora voy a iterar en esa carpeta LABELED para obtener la ruta de los archivos, que es el LABELED/NOMBRE y eso lo guardo en una lista\n",
    "file_names = []\n",
    "for name in os.listdir(folder_path):\n",
    "    file_path = f\"{folder_path}/{name}\"\n",
    "    file_names.append(file_path)\n",
    "#Ahora tengo que especificar mis features \n",
    "signals = [\"accX\", \"accY\", \"accZ\", \"gyroX\", \"gyroY\", \"gyroZ\", \"magnX\", \"magnY\", \"magnZ\", \"linAccX\", \"linAccY\", \"linAccZ\"]"
   ],
   "metadata": {
    "collapsed": false
   },
   "id": "de88ada6e45222a9"
  },
  {
   "cell_type": "code",
   "execution_count": null,
   "outputs": [],
   "source": [
    "datos = process_json_files(filelist=file_names,\n",
    "                       signals= signals, time_column_name='time',is_peak_minima= True)"
   ],
   "metadata": {
    "collapsed": false
   },
   "id": "b51d6be882b79952"
  },
  {
   "cell_type": "code",
   "execution_count": null,
   "id": "8483fc77509de51",
   "metadata": {
    "collapsed": false
   },
   "outputs": [],
   "source": [
    "df = pd.concat(datos,axis=0)\n",
    "#df.head()\n",
    "len(df)"
   ]
  },
  {
   "cell_type": "code",
   "execution_count": null,
   "id": "9f496832c86e6d17",
   "metadata": {
    "collapsed": false
   },
   "outputs": [],
   "source": [
    "prim_1000 = df.head(3000)\n",
    "fig = px.line(prim_1000, x=prim_1000.index, y='linAccZ', title='Time serie of exercise linAccZ')\n",
    "fig.show()"
   ]
  },
  {
   "cell_type": "code",
   "execution_count": null,
   "id": "19c3d24a3ca5a98f",
   "metadata": {
    "collapsed": false
   },
   "outputs": [],
   "source": [
    "import plotly.graph_objects as go\n",
    "\n",
    "# Crear la figura de la serie de tiempo\n",
    "fig = go.Figure()\n",
    "\n",
    "# Añadir la línea de la serie de tiempo\n",
    "fig.add_trace(go.Scatter(x=prim_1000.index, y=prim_1000['linAccZ'], mode='lines', name='linAccZ'))\n",
    "\n",
    "# Filtrar los índices de los picos\n",
    "peaks_indices = prim_1000.index[prim_1000['peaks'].notna()]\n",
    "\n",
    "# Añadir marcadores para los picos en la gráfica\n",
    "fig.add_trace(go.Scatter(x=peaks_indices, y=prim_1000.loc[peaks_indices, 'linAccZ'],\n",
    "                         mode='markers', marker=dict(color='red'), name='peaks'))\n",
    "\n",
    "# Establecer el título de la gráfica\n",
    "fig.update_layout(title='Time serie of exercise linAccZ')\n",
    "\n",
    "# Mostrar la gráfica\n",
    "fig.show()"
   ]
  },
  {
   "cell_type": "markdown",
   "source": [
    "# Label Studio"
   ],
   "metadata": {
    "collapsed": false
   },
   "id": "6259bdba527b4165"
  },
  {
   "cell_type": "code",
   "execution_count": null,
   "outputs": [],
   "source": [
    "df['tiempo_seguido'] = range(0, len(df) * 9, 9)\n",
    "df['tiempo_seguido'] = pd.to_datetime(df['tiempo_seguido'],unit='ms')\n",
    "df.tail()"
   ],
   "metadata": {
    "collapsed": false
   },
   "id": "2c64bab087105b11"
  },
  {
   "cell_type": "code",
   "execution_count": null,
   "outputs": [],
   "source": [
    "time_column_name = 'tiempo_seguido'\n",
    "df_procesado = df.set_index(time_column_name)\n",
    "df_procesado = df_procesado.sort_index()"
   ],
   "metadata": {
    "collapsed": false
   },
   "id": "1e67ef0fe3d4d9e0"
  },
  {
   "cell_type": "code",
   "execution_count": null,
   "outputs": [],
   "source": [
    "df_procesado.tail()"
   ],
   "metadata": {
    "collapsed": false
   },
   "id": "5f29910eeb64f213"
  },
  {
   "cell_type": "code",
   "execution_count": null,
   "outputs": [],
   "source": [
    "df_procesado.index = df_procesado.index.strftime('%Y-%m-%d %H:%M:%S.%f')"
   ],
   "metadata": {
    "collapsed": false
   },
   "id": "47b4ea1cb22ca794"
  },
  {
   "cell_type": "code",
   "execution_count": null,
   "outputs": [],
   "source": [
    "df_reset_index = df_procesado.reset_index()\n",
    "df_reset_index.tail()"
   ],
   "metadata": {
    "collapsed": false
   },
   "id": "90a97fbb7073cb2f"
  },
  {
   "cell_type": "code",
   "execution_count": null,
   "outputs": [],
   "source": [
    "df_reset_index.to_csv('BARBELLCLEAN.csv')"
   ],
   "metadata": {
    "collapsed": false
   },
   "id": "df4aa9a02475f1d"
  },
  {
   "cell_type": "code",
   "execution_count": null,
   "id": "c1e260400382fc99",
   "metadata": {
    "collapsed": false
   },
   "outputs": [],
   "source": [
    "len(df_reset_index)"
   ]
  },
  {
   "cell_type": "code",
   "execution_count": null,
   "outputs": [],
   "source": [],
   "metadata": {
    "collapsed": false
   },
   "id": "ea96df8bcf28516b"
  }
 ],
 "metadata": {
  "kernelspec": {
   "display_name": "Python 3 (ipykernel)",
   "language": "python",
   "name": "python3"
  },
  "language_info": {
   "codemirror_mode": {
    "name": "ipython",
    "version": 3
   },
   "file_extension": ".py",
   "mimetype": "text/x-python",
   "name": "python",
   "nbconvert_exporter": "python",
   "pygments_lexer": "ipython3",
   "version": "3.10.13"
  }
 },
 "nbformat": 4,
 "nbformat_minor": 5
}
