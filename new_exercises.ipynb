{
 "cells": [
  {
   "cell_type": "code",
   "execution_count": 329,
   "id": "initial_id",
   "metadata": {
    "tags": [],
    "ExecuteTime": {
     "end_time": "2024-02-21T09:59:07.349274400Z",
     "start_time": "2024-02-21T09:59:07.337113Z"
    }
   },
   "outputs": [],
   "source": [
    "import pandas as pd\n",
    "import os\n",
    "import plotly.express as px\n",
    "from custom_libraries.gz_to_json import gz_to_json\n",
    "from custom_libraries.process_json_file import process_json_files"
   ]
  },
  {
   "cell_type": "code",
   "execution_count": 330,
   "outputs": [],
   "source": [
    "input_folder = r'C:\\Users\\57301\\Documents\\MASTER_IE\\TERM_III\\FITIZENS\\GitHub\\mbd23_squats\\barbell-row'\n",
    "output_folder = r'C:\\Users\\57301\\Documents\\MASTER_IE\\TERM_III\\FITIZENS\\GitHub\\mbd23_squats\\barbell-row_json'\n",
    "\n",
    "gz_to_json(input_folder, output_folder)"
   ],
   "metadata": {
    "collapsed": false,
    "ExecuteTime": {
     "end_time": "2024-02-21T09:59:12.151106500Z",
     "start_time": "2024-02-21T09:59:07.769378800Z"
    }
   },
   "id": "2fa7ef8641a43f7f"
  },
  {
   "cell_type": "code",
   "execution_count": 331,
   "outputs": [],
   "source": [
    "folder_path = \"barbell-clean_json\"\n",
    "os.makedirs(folder_path, exist_ok=True) #Referenciamos la carpeta LABELED en la que están las carpetas zip con los json\n",
    "#Ahora voy a iterar en esa carpeta LABELED para obtener la ruta de los archivos, que es el LABELED/NOMBRE y eso lo guardo en una lista\n",
    "file_names = []\n",
    "for name in os.listdir(folder_path):\n",
    "    file_path = f\"{folder_path}/{name}\"\n",
    "    file_names.append(file_path)\n",
    "#Ahora tengo que especificar mis features \n",
    "signals = [\"accX\", \"accY\", \"accZ\", \"gyroX\", \"gyroY\", \"gyroZ\", \"magnX\", \"magnY\", \"magnZ\", \"linAccX\", \"linAccY\", \"linAccZ\"]"
   ],
   "metadata": {
    "collapsed": false,
    "ExecuteTime": {
     "end_time": "2024-02-21T09:59:12.166682100Z",
     "start_time": "2024-02-21T09:59:12.154905900Z"
    }
   },
   "id": "de88ada6e45222a9"
  },
  {
   "cell_type": "code",
   "execution_count": 332,
   "outputs": [],
   "source": [
    "datos = process_json_files(filelist=file_names,\n",
    "                       signals= signals, time_column_name='time',is_peak_minima= True)"
   ],
   "metadata": {
    "collapsed": false,
    "ExecuteTime": {
     "end_time": "2024-02-21T09:59:14.022122600Z",
     "start_time": "2024-02-21T09:59:12.167680300Z"
    }
   },
   "id": "b51d6be882b79952"
  },
  {
   "cell_type": "code",
   "execution_count": 334,
   "id": "8483fc77509de51",
   "metadata": {
    "collapsed": false,
    "ExecuteTime": {
     "end_time": "2024-02-21T09:59:23.273864100Z",
     "start_time": "2024-02-21T09:59:23.043426200Z"
    }
   },
   "outputs": [
    {
     "data": {
      "text/plain": "                         accX_orig  accY_orig  accZ_orig  gyroX_orig  \\\ntime                                                                   \n1970-01-01 00:00:00.000   4.307235   5.422330  -7.543916  -33.110001   \n1970-01-01 00:00:00.009   4.369450   5.278755  -7.503237  -35.559998   \n1970-01-01 00:00:00.018   4.371843   5.295506  -7.395556  -36.469997   \n1970-01-01 00:00:00.027   4.335949   5.276362  -7.488879  -37.239998   \n1970-01-01 00:00:00.036   4.379022   5.321827  -7.397949  -38.500000   \n\n                         gyroY_orig  gyroZ_orig  magnX_orig  magnY_orig  \\\ntime                                                                      \n1970-01-01 00:00:00.000       -3.64  -14.000000  -35.619839   14.358332   \n1970-01-01 00:00:00.009       -3.92  -14.420000  -36.098572   14.415115   \n1970-01-01 00:00:00.018       -4.62  -15.330000  -35.850216   14.108833   \n1970-01-01 00:00:00.027       -5.11  -16.030001  -36.469837   13.934953   \n1970-01-01 00:00:00.036       -5.74  -16.940001  -36.131542   14.408175   \n\n                         magnZ_orig  linAccX_orig  linAccY_orig  linAccZ_orig  \\\ntime                                                                            \n1970-01-01 00:00:00.000   67.129181     -1.187993     -0.024817      0.361715   \n1970-01-01 00:00:00.009   65.179855     -1.369609     -0.037644      0.259218   \n1970-01-01 00:00:00.018   65.264084     -1.382902      0.013206      0.187385   \n1970-01-01 00:00:00.027   64.115921     -1.454919     -0.104977      0.220258   \n1970-01-01 00:00:00.036   64.197548     -1.483978     -0.027218      0.191745   \n\n                            accX      accY      accZ      gyroX     gyroY  \\\ntime                                                                        \n1970-01-01 00:00:00.000  3.50287  6.975315 -6.718895 -51.004624  4.987675   \n1970-01-01 00:00:00.009  3.50287  6.975315 -6.718895 -51.004624  4.987675   \n1970-01-01 00:00:00.018  3.50287  6.975315 -6.718895 -51.004624  4.987675   \n1970-01-01 00:00:00.027  3.50287  6.975315 -6.718895 -51.004624  4.987675   \n1970-01-01 00:00:00.036  3.50287  6.975315 -6.718895 -51.004624  4.987675   \n\n                            gyroZ     magnX      magnY     magnZ   linAccX  \\\ntime                                                                         \n1970-01-01 00:00:00.000 -12.34695 -37.18205  16.819144  62.17661 -0.632855   \n1970-01-01 00:00:00.009 -12.34695 -37.18205  16.819144  62.17661 -0.632855   \n1970-01-01 00:00:00.018 -12.34695 -37.18205  16.819144  62.17661 -0.632855   \n1970-01-01 00:00:00.027 -12.34695 -37.18205  16.819144  62.17661 -0.632855   \n1970-01-01 00:00:00.036 -12.34695 -37.18205  16.819144  62.17661 -0.632855   \n\n                          linAccY   linAccZ   accX_mod   accY_mod   accZ_mod  \\\ntime                                                                           \n1970-01-01 00:00:00.000 -0.283702  0.527344  12.270101  48.655019  45.143556   \n1970-01-01 00:00:00.009 -0.283702  0.527344  12.270101  48.655019  45.143556   \n1970-01-01 00:00:00.018 -0.283702  0.527344  12.270101  48.655019  45.143556   \n1970-01-01 00:00:00.027 -0.283702  0.527344  12.270101  48.655019  45.143556   \n1970-01-01 00:00:00.036 -0.283702  0.527344  12.270101  48.655019  45.143556   \n\n                           gyroX_mod  gyroY_mod   gyroZ_mod    magnX_mod  \\\ntime                                                                       \n1970-01-01 00:00:00.000  2601.471697  24.876901  152.447181  1382.504824   \n1970-01-01 00:00:00.009  2601.471697  24.876901  152.447181  1382.504824   \n1970-01-01 00:00:00.018  2601.471697  24.876901  152.447181  1382.504824   \n1970-01-01 00:00:00.027  2601.471697  24.876901  152.447181  1382.504824   \n1970-01-01 00:00:00.036  2601.471697  24.876901  152.447181  1382.504824   \n\n                         magnY_mod    magnZ_mod  linAccX_mod  linAccY_mod  \\\ntime                                                                        \n1970-01-01 00:00:00.000   282.8836  3865.930807     0.400506     0.080487   \n1970-01-01 00:00:00.009   282.8836  3865.930807     0.400506     0.080487   \n1970-01-01 00:00:00.018   282.8836  3865.930807     0.400506     0.080487   \n1970-01-01 00:00:00.027   282.8836  3865.930807     0.400506     0.080487   \n1970-01-01 00:00:00.036   282.8836  3865.930807     0.400506     0.080487   \n\n                         linAccZ_mod  peaks  \ntime                                         \n1970-01-01 00:00:00.000     0.278092    NaN  \n1970-01-01 00:00:00.009     0.278092    NaN  \n1970-01-01 00:00:00.018     0.278092    NaN  \n1970-01-01 00:00:00.027     0.278092    NaN  \n1970-01-01 00:00:00.036     0.278092    NaN  ",
      "text/html": "<div>\n<style scoped>\n    .dataframe tbody tr th:only-of-type {\n        vertical-align: middle;\n    }\n\n    .dataframe tbody tr th {\n        vertical-align: top;\n    }\n\n    .dataframe thead th {\n        text-align: right;\n    }\n</style>\n<table border=\"1\" class=\"dataframe\">\n  <thead>\n    <tr style=\"text-align: right;\">\n      <th></th>\n      <th>accX_orig</th>\n      <th>accY_orig</th>\n      <th>accZ_orig</th>\n      <th>gyroX_orig</th>\n      <th>gyroY_orig</th>\n      <th>gyroZ_orig</th>\n      <th>magnX_orig</th>\n      <th>magnY_orig</th>\n      <th>magnZ_orig</th>\n      <th>linAccX_orig</th>\n      <th>linAccY_orig</th>\n      <th>linAccZ_orig</th>\n      <th>accX</th>\n      <th>accY</th>\n      <th>accZ</th>\n      <th>gyroX</th>\n      <th>gyroY</th>\n      <th>gyroZ</th>\n      <th>magnX</th>\n      <th>magnY</th>\n      <th>magnZ</th>\n      <th>linAccX</th>\n      <th>linAccY</th>\n      <th>linAccZ</th>\n      <th>accX_mod</th>\n      <th>accY_mod</th>\n      <th>accZ_mod</th>\n      <th>gyroX_mod</th>\n      <th>gyroY_mod</th>\n      <th>gyroZ_mod</th>\n      <th>magnX_mod</th>\n      <th>magnY_mod</th>\n      <th>magnZ_mod</th>\n      <th>linAccX_mod</th>\n      <th>linAccY_mod</th>\n      <th>linAccZ_mod</th>\n      <th>peaks</th>\n    </tr>\n    <tr>\n      <th>time</th>\n      <th></th>\n      <th></th>\n      <th></th>\n      <th></th>\n      <th></th>\n      <th></th>\n      <th></th>\n      <th></th>\n      <th></th>\n      <th></th>\n      <th></th>\n      <th></th>\n      <th></th>\n      <th></th>\n      <th></th>\n      <th></th>\n      <th></th>\n      <th></th>\n      <th></th>\n      <th></th>\n      <th></th>\n      <th></th>\n      <th></th>\n      <th></th>\n      <th></th>\n      <th></th>\n      <th></th>\n      <th></th>\n      <th></th>\n      <th></th>\n      <th></th>\n      <th></th>\n      <th></th>\n      <th></th>\n      <th></th>\n      <th></th>\n      <th></th>\n    </tr>\n  </thead>\n  <tbody>\n    <tr>\n      <th>1970-01-01 00:00:00.000</th>\n      <td>4.307235</td>\n      <td>5.422330</td>\n      <td>-7.543916</td>\n      <td>-33.110001</td>\n      <td>-3.64</td>\n      <td>-14.000000</td>\n      <td>-35.619839</td>\n      <td>14.358332</td>\n      <td>67.129181</td>\n      <td>-1.187993</td>\n      <td>-0.024817</td>\n      <td>0.361715</td>\n      <td>3.50287</td>\n      <td>6.975315</td>\n      <td>-6.718895</td>\n      <td>-51.004624</td>\n      <td>4.987675</td>\n      <td>-12.34695</td>\n      <td>-37.18205</td>\n      <td>16.819144</td>\n      <td>62.17661</td>\n      <td>-0.632855</td>\n      <td>-0.283702</td>\n      <td>0.527344</td>\n      <td>12.270101</td>\n      <td>48.655019</td>\n      <td>45.143556</td>\n      <td>2601.471697</td>\n      <td>24.876901</td>\n      <td>152.447181</td>\n      <td>1382.504824</td>\n      <td>282.8836</td>\n      <td>3865.930807</td>\n      <td>0.400506</td>\n      <td>0.080487</td>\n      <td>0.278092</td>\n      <td>NaN</td>\n    </tr>\n    <tr>\n      <th>1970-01-01 00:00:00.009</th>\n      <td>4.369450</td>\n      <td>5.278755</td>\n      <td>-7.503237</td>\n      <td>-35.559998</td>\n      <td>-3.92</td>\n      <td>-14.420000</td>\n      <td>-36.098572</td>\n      <td>14.415115</td>\n      <td>65.179855</td>\n      <td>-1.369609</td>\n      <td>-0.037644</td>\n      <td>0.259218</td>\n      <td>3.50287</td>\n      <td>6.975315</td>\n      <td>-6.718895</td>\n      <td>-51.004624</td>\n      <td>4.987675</td>\n      <td>-12.34695</td>\n      <td>-37.18205</td>\n      <td>16.819144</td>\n      <td>62.17661</td>\n      <td>-0.632855</td>\n      <td>-0.283702</td>\n      <td>0.527344</td>\n      <td>12.270101</td>\n      <td>48.655019</td>\n      <td>45.143556</td>\n      <td>2601.471697</td>\n      <td>24.876901</td>\n      <td>152.447181</td>\n      <td>1382.504824</td>\n      <td>282.8836</td>\n      <td>3865.930807</td>\n      <td>0.400506</td>\n      <td>0.080487</td>\n      <td>0.278092</td>\n      <td>NaN</td>\n    </tr>\n    <tr>\n      <th>1970-01-01 00:00:00.018</th>\n      <td>4.371843</td>\n      <td>5.295506</td>\n      <td>-7.395556</td>\n      <td>-36.469997</td>\n      <td>-4.62</td>\n      <td>-15.330000</td>\n      <td>-35.850216</td>\n      <td>14.108833</td>\n      <td>65.264084</td>\n      <td>-1.382902</td>\n      <td>0.013206</td>\n      <td>0.187385</td>\n      <td>3.50287</td>\n      <td>6.975315</td>\n      <td>-6.718895</td>\n      <td>-51.004624</td>\n      <td>4.987675</td>\n      <td>-12.34695</td>\n      <td>-37.18205</td>\n      <td>16.819144</td>\n      <td>62.17661</td>\n      <td>-0.632855</td>\n      <td>-0.283702</td>\n      <td>0.527344</td>\n      <td>12.270101</td>\n      <td>48.655019</td>\n      <td>45.143556</td>\n      <td>2601.471697</td>\n      <td>24.876901</td>\n      <td>152.447181</td>\n      <td>1382.504824</td>\n      <td>282.8836</td>\n      <td>3865.930807</td>\n      <td>0.400506</td>\n      <td>0.080487</td>\n      <td>0.278092</td>\n      <td>NaN</td>\n    </tr>\n    <tr>\n      <th>1970-01-01 00:00:00.027</th>\n      <td>4.335949</td>\n      <td>5.276362</td>\n      <td>-7.488879</td>\n      <td>-37.239998</td>\n      <td>-5.11</td>\n      <td>-16.030001</td>\n      <td>-36.469837</td>\n      <td>13.934953</td>\n      <td>64.115921</td>\n      <td>-1.454919</td>\n      <td>-0.104977</td>\n      <td>0.220258</td>\n      <td>3.50287</td>\n      <td>6.975315</td>\n      <td>-6.718895</td>\n      <td>-51.004624</td>\n      <td>4.987675</td>\n      <td>-12.34695</td>\n      <td>-37.18205</td>\n      <td>16.819144</td>\n      <td>62.17661</td>\n      <td>-0.632855</td>\n      <td>-0.283702</td>\n      <td>0.527344</td>\n      <td>12.270101</td>\n      <td>48.655019</td>\n      <td>45.143556</td>\n      <td>2601.471697</td>\n      <td>24.876901</td>\n      <td>152.447181</td>\n      <td>1382.504824</td>\n      <td>282.8836</td>\n      <td>3865.930807</td>\n      <td>0.400506</td>\n      <td>0.080487</td>\n      <td>0.278092</td>\n      <td>NaN</td>\n    </tr>\n    <tr>\n      <th>1970-01-01 00:00:00.036</th>\n      <td>4.379022</td>\n      <td>5.321827</td>\n      <td>-7.397949</td>\n      <td>-38.500000</td>\n      <td>-5.74</td>\n      <td>-16.940001</td>\n      <td>-36.131542</td>\n      <td>14.408175</td>\n      <td>64.197548</td>\n      <td>-1.483978</td>\n      <td>-0.027218</td>\n      <td>0.191745</td>\n      <td>3.50287</td>\n      <td>6.975315</td>\n      <td>-6.718895</td>\n      <td>-51.004624</td>\n      <td>4.987675</td>\n      <td>-12.34695</td>\n      <td>-37.18205</td>\n      <td>16.819144</td>\n      <td>62.17661</td>\n      <td>-0.632855</td>\n      <td>-0.283702</td>\n      <td>0.527344</td>\n      <td>12.270101</td>\n      <td>48.655019</td>\n      <td>45.143556</td>\n      <td>2601.471697</td>\n      <td>24.876901</td>\n      <td>152.447181</td>\n      <td>1382.504824</td>\n      <td>282.8836</td>\n      <td>3865.930807</td>\n      <td>0.400506</td>\n      <td>0.080487</td>\n      <td>0.278092</td>\n      <td>NaN</td>\n    </tr>\n  </tbody>\n</table>\n</div>"
     },
     "execution_count": 334,
     "metadata": {},
     "output_type": "execute_result"
    }
   ],
   "source": [
    "df = pd.concat(datos,axis=0)\n",
    "df.head()\n",
    "#len(df)"
   ]
  },
  {
   "cell_type": "code",
   "execution_count": null,
   "id": "9f496832c86e6d17",
   "metadata": {
    "collapsed": false
   },
   "outputs": [],
   "source": [
    "prim_1000 = df.head(3000)\n",
    "fig = px.line(prim_1000, x=prim_1000.index, y='linAccZ', title='Time serie of exercise linAccZ')\n",
    "fig.show()"
   ]
  },
  {
   "cell_type": "code",
   "execution_count": null,
   "id": "19c3d24a3ca5a98f",
   "metadata": {
    "collapsed": false
   },
   "outputs": [],
   "source": [
    "import plotly.graph_objects as go\n",
    "\n",
    "# Crear la figura de la serie de tiempo\n",
    "fig = go.Figure()\n",
    "\n",
    "# Añadir la línea de la serie de tiempo\n",
    "fig.add_trace(go.Scatter(x=prim_1000.index, y=prim_1000['linAccZ'], mode='lines', name='linAccZ'))\n",
    "\n",
    "# Filtrar los índices de los picos\n",
    "peaks_indices = prim_1000.index[prim_1000['peaks'].notna()]\n",
    "\n",
    "# Añadir marcadores para los picos en la gráfica\n",
    "fig.add_trace(go.Scatter(x=peaks_indices, y=prim_1000.loc[peaks_indices, 'linAccZ'],\n",
    "                         mode='markers', marker=dict(color='red'), name='peaks'))\n",
    "\n",
    "# Establecer el título de la gráfica\n",
    "fig.update_layout(title='Time serie of exercise linAccZ')\n",
    "\n",
    "# Mostrar la gráfica\n",
    "fig.show()"
   ]
  },
  {
   "cell_type": "markdown",
   "source": [
    "# Label Studio"
   ],
   "metadata": {
    "collapsed": false
   },
   "id": "6259bdba527b4165"
  },
  {
   "cell_type": "code",
   "execution_count": 335,
   "outputs": [
    {
     "data": {
      "text/plain": "                         accX_orig  accY_orig  accZ_orig  gyroX_orig  \\\ntime                                                                   \n1970-01-01 00:01:12.361   2.014829   5.285934  -8.692513       -2.73   \n1970-01-01 00:01:12.370   1.904755   5.218932  -7.950711       -5.46   \n1970-01-01 00:01:12.379   1.955006   5.400794  -7.697063       -1.96   \n1970-01-01 00:01:12.388   1.899969   5.587440  -8.012926        0.56   \n1970-01-01 00:01:12.397   1.823396   5.652049  -8.307254       -2.66   \n\n                         gyroY_orig  gyroZ_orig  magnX_orig  magnY_orig  \\\ntime                                                                      \n1970-01-01 00:01:12.361       -4.55       -4.20  -34.755638    1.023753   \n1970-01-01 00:01:12.370       -3.92       -3.43  -34.851608   -1.077159   \n1970-01-01 00:01:12.379       -3.57       -2.80  -33.535233    1.367548   \n1970-01-01 00:01:12.388       -2.87       -2.73  -35.283245   -1.010462   \n1970-01-01 00:01:12.397       -1.96       -3.43  -33.395229    0.557668   \n\n                         magnZ_orig  linAccX_orig  linAccY_orig  linAccZ_orig  \\\ntime                                                                            \n1970-01-01 00:01:12.361   71.909103     -0.358931      0.055067      0.555173   \n1970-01-01 00:01:12.370   72.098068     -0.059283      0.213413     -0.112638   \n1970-01-01 00:01:12.379   73.644104      0.166582      0.404346     -0.215507   \n1970-01-01 00:01:12.388   71.552040      0.199482      0.295956      0.135820   \n1970-01-01 00:01:12.397   74.340714      0.148882      0.140581      0.400237   \n\n                             accX      accY      accZ     gyroX     gyroY  \\\ntime                                                                        \n1970-01-01 00:01:12.361  1.956143  5.108548 -8.105974 -4.842075 -7.071575   \n1970-01-01 00:01:12.370  1.956143  5.108548 -8.105974 -4.842075 -7.071575   \n1970-01-01 00:01:12.379  1.956143  5.108548 -8.105974 -4.842075 -7.071575   \n1970-01-01 00:01:12.388  1.956143  5.108548 -8.105974 -4.842075 -7.071575   \n1970-01-01 00:01:12.397  1.956143  5.108548 -8.105974 -4.842075 -7.071575   \n\n                            gyroZ      magnX     magnY      magnZ   linAccX  \\\ntime                                                                          \n1970-01-01 00:01:12.361  0.488775 -34.231374 -0.872102  72.532949 -0.069835   \n1970-01-01 00:01:12.370  0.488775 -34.231374 -0.872102  72.532949 -0.069835   \n1970-01-01 00:01:12.379  0.488775 -34.231374 -0.872102  72.532949 -0.069835   \n1970-01-01 00:01:12.388  0.488775 -34.231374 -0.872102  72.532949 -0.069835   \n1970-01-01 00:01:12.397  0.488775 -34.231374 -0.872102  72.532949 -0.069835   \n\n                         linAccY   linAccZ  accX_mod   accY_mod   accZ_mod  \\\ntime                                                                         \n1970-01-01 00:01:12.361  0.16255 -0.031879  3.826494  26.097258  65.706822   \n1970-01-01 00:01:12.370  0.16255 -0.031879  3.826494  26.097258  65.706822   \n1970-01-01 00:01:12.379  0.16255 -0.031879  3.826494  26.097258  65.706822   \n1970-01-01 00:01:12.388  0.16255 -0.031879  3.826494  26.097258  65.706822   \n1970-01-01 00:01:12.397  0.16255 -0.031879  3.826494  26.097258  65.706822   \n\n                         gyroX_mod  gyroY_mod  gyroZ_mod    magnX_mod  \\\ntime                                                                    \n1970-01-01 00:01:12.361  23.445691  50.007174   0.238901  1171.786983   \n1970-01-01 00:01:12.370  23.445691  50.007174   0.238901  1171.786983   \n1970-01-01 00:01:12.379  23.445691  50.007174   0.238901  1171.786983   \n1970-01-01 00:01:12.388  23.445691  50.007174   0.238901  1171.786983   \n1970-01-01 00:01:12.397  23.445691  50.007174   0.238901  1171.786983   \n\n                         magnY_mod    magnZ_mod  linAccX_mod  linAccY_mod  \\\ntime                                                                        \n1970-01-01 00:01:12.361   0.760562  5261.028656     0.004877     0.026422   \n1970-01-01 00:01:12.370   0.760562  5261.028656     0.004877     0.026422   \n1970-01-01 00:01:12.379   0.760562  5261.028656     0.004877     0.026422   \n1970-01-01 00:01:12.388   0.760562  5261.028656     0.004877     0.026422   \n1970-01-01 00:01:12.397   0.760562  5261.028656     0.004877     0.026422   \n\n                         linAccZ_mod  peaks          tiempo_seguido  \ntime                                                                 \n1970-01-01 00:01:12.361     0.001016    NaN 1970-01-01 00:18:45.603  \n1970-01-01 00:01:12.370     0.001016    NaN 1970-01-01 00:18:45.612  \n1970-01-01 00:01:12.379     0.001016    NaN 1970-01-01 00:18:45.621  \n1970-01-01 00:01:12.388     0.001016    NaN 1970-01-01 00:18:45.630  \n1970-01-01 00:01:12.397     0.001016    NaN 1970-01-01 00:18:45.639  ",
      "text/html": "<div>\n<style scoped>\n    .dataframe tbody tr th:only-of-type {\n        vertical-align: middle;\n    }\n\n    .dataframe tbody tr th {\n        vertical-align: top;\n    }\n\n    .dataframe thead th {\n        text-align: right;\n    }\n</style>\n<table border=\"1\" class=\"dataframe\">\n  <thead>\n    <tr style=\"text-align: right;\">\n      <th></th>\n      <th>accX_orig</th>\n      <th>accY_orig</th>\n      <th>accZ_orig</th>\n      <th>gyroX_orig</th>\n      <th>gyroY_orig</th>\n      <th>gyroZ_orig</th>\n      <th>magnX_orig</th>\n      <th>magnY_orig</th>\n      <th>magnZ_orig</th>\n      <th>linAccX_orig</th>\n      <th>linAccY_orig</th>\n      <th>linAccZ_orig</th>\n      <th>accX</th>\n      <th>accY</th>\n      <th>accZ</th>\n      <th>gyroX</th>\n      <th>gyroY</th>\n      <th>gyroZ</th>\n      <th>magnX</th>\n      <th>magnY</th>\n      <th>magnZ</th>\n      <th>linAccX</th>\n      <th>linAccY</th>\n      <th>linAccZ</th>\n      <th>accX_mod</th>\n      <th>accY_mod</th>\n      <th>accZ_mod</th>\n      <th>gyroX_mod</th>\n      <th>gyroY_mod</th>\n      <th>gyroZ_mod</th>\n      <th>magnX_mod</th>\n      <th>magnY_mod</th>\n      <th>magnZ_mod</th>\n      <th>linAccX_mod</th>\n      <th>linAccY_mod</th>\n      <th>linAccZ_mod</th>\n      <th>peaks</th>\n      <th>tiempo_seguido</th>\n    </tr>\n    <tr>\n      <th>time</th>\n      <th></th>\n      <th></th>\n      <th></th>\n      <th></th>\n      <th></th>\n      <th></th>\n      <th></th>\n      <th></th>\n      <th></th>\n      <th></th>\n      <th></th>\n      <th></th>\n      <th></th>\n      <th></th>\n      <th></th>\n      <th></th>\n      <th></th>\n      <th></th>\n      <th></th>\n      <th></th>\n      <th></th>\n      <th></th>\n      <th></th>\n      <th></th>\n      <th></th>\n      <th></th>\n      <th></th>\n      <th></th>\n      <th></th>\n      <th></th>\n      <th></th>\n      <th></th>\n      <th></th>\n      <th></th>\n      <th></th>\n      <th></th>\n      <th></th>\n      <th></th>\n    </tr>\n  </thead>\n  <tbody>\n    <tr>\n      <th>1970-01-01 00:01:12.361</th>\n      <td>2.014829</td>\n      <td>5.285934</td>\n      <td>-8.692513</td>\n      <td>-2.73</td>\n      <td>-4.55</td>\n      <td>-4.20</td>\n      <td>-34.755638</td>\n      <td>1.023753</td>\n      <td>71.909103</td>\n      <td>-0.358931</td>\n      <td>0.055067</td>\n      <td>0.555173</td>\n      <td>1.956143</td>\n      <td>5.108548</td>\n      <td>-8.105974</td>\n      <td>-4.842075</td>\n      <td>-7.071575</td>\n      <td>0.488775</td>\n      <td>-34.231374</td>\n      <td>-0.872102</td>\n      <td>72.532949</td>\n      <td>-0.069835</td>\n      <td>0.16255</td>\n      <td>-0.031879</td>\n      <td>3.826494</td>\n      <td>26.097258</td>\n      <td>65.706822</td>\n      <td>23.445691</td>\n      <td>50.007174</td>\n      <td>0.238901</td>\n      <td>1171.786983</td>\n      <td>0.760562</td>\n      <td>5261.028656</td>\n      <td>0.004877</td>\n      <td>0.026422</td>\n      <td>0.001016</td>\n      <td>NaN</td>\n      <td>1970-01-01 00:18:45.603</td>\n    </tr>\n    <tr>\n      <th>1970-01-01 00:01:12.370</th>\n      <td>1.904755</td>\n      <td>5.218932</td>\n      <td>-7.950711</td>\n      <td>-5.46</td>\n      <td>-3.92</td>\n      <td>-3.43</td>\n      <td>-34.851608</td>\n      <td>-1.077159</td>\n      <td>72.098068</td>\n      <td>-0.059283</td>\n      <td>0.213413</td>\n      <td>-0.112638</td>\n      <td>1.956143</td>\n      <td>5.108548</td>\n      <td>-8.105974</td>\n      <td>-4.842075</td>\n      <td>-7.071575</td>\n      <td>0.488775</td>\n      <td>-34.231374</td>\n      <td>-0.872102</td>\n      <td>72.532949</td>\n      <td>-0.069835</td>\n      <td>0.16255</td>\n      <td>-0.031879</td>\n      <td>3.826494</td>\n      <td>26.097258</td>\n      <td>65.706822</td>\n      <td>23.445691</td>\n      <td>50.007174</td>\n      <td>0.238901</td>\n      <td>1171.786983</td>\n      <td>0.760562</td>\n      <td>5261.028656</td>\n      <td>0.004877</td>\n      <td>0.026422</td>\n      <td>0.001016</td>\n      <td>NaN</td>\n      <td>1970-01-01 00:18:45.612</td>\n    </tr>\n    <tr>\n      <th>1970-01-01 00:01:12.379</th>\n      <td>1.955006</td>\n      <td>5.400794</td>\n      <td>-7.697063</td>\n      <td>-1.96</td>\n      <td>-3.57</td>\n      <td>-2.80</td>\n      <td>-33.535233</td>\n      <td>1.367548</td>\n      <td>73.644104</td>\n      <td>0.166582</td>\n      <td>0.404346</td>\n      <td>-0.215507</td>\n      <td>1.956143</td>\n      <td>5.108548</td>\n      <td>-8.105974</td>\n      <td>-4.842075</td>\n      <td>-7.071575</td>\n      <td>0.488775</td>\n      <td>-34.231374</td>\n      <td>-0.872102</td>\n      <td>72.532949</td>\n      <td>-0.069835</td>\n      <td>0.16255</td>\n      <td>-0.031879</td>\n      <td>3.826494</td>\n      <td>26.097258</td>\n      <td>65.706822</td>\n      <td>23.445691</td>\n      <td>50.007174</td>\n      <td>0.238901</td>\n      <td>1171.786983</td>\n      <td>0.760562</td>\n      <td>5261.028656</td>\n      <td>0.004877</td>\n      <td>0.026422</td>\n      <td>0.001016</td>\n      <td>NaN</td>\n      <td>1970-01-01 00:18:45.621</td>\n    </tr>\n    <tr>\n      <th>1970-01-01 00:01:12.388</th>\n      <td>1.899969</td>\n      <td>5.587440</td>\n      <td>-8.012926</td>\n      <td>0.56</td>\n      <td>-2.87</td>\n      <td>-2.73</td>\n      <td>-35.283245</td>\n      <td>-1.010462</td>\n      <td>71.552040</td>\n      <td>0.199482</td>\n      <td>0.295956</td>\n      <td>0.135820</td>\n      <td>1.956143</td>\n      <td>5.108548</td>\n      <td>-8.105974</td>\n      <td>-4.842075</td>\n      <td>-7.071575</td>\n      <td>0.488775</td>\n      <td>-34.231374</td>\n      <td>-0.872102</td>\n      <td>72.532949</td>\n      <td>-0.069835</td>\n      <td>0.16255</td>\n      <td>-0.031879</td>\n      <td>3.826494</td>\n      <td>26.097258</td>\n      <td>65.706822</td>\n      <td>23.445691</td>\n      <td>50.007174</td>\n      <td>0.238901</td>\n      <td>1171.786983</td>\n      <td>0.760562</td>\n      <td>5261.028656</td>\n      <td>0.004877</td>\n      <td>0.026422</td>\n      <td>0.001016</td>\n      <td>NaN</td>\n      <td>1970-01-01 00:18:45.630</td>\n    </tr>\n    <tr>\n      <th>1970-01-01 00:01:12.397</th>\n      <td>1.823396</td>\n      <td>5.652049</td>\n      <td>-8.307254</td>\n      <td>-2.66</td>\n      <td>-1.96</td>\n      <td>-3.43</td>\n      <td>-33.395229</td>\n      <td>0.557668</td>\n      <td>74.340714</td>\n      <td>0.148882</td>\n      <td>0.140581</td>\n      <td>0.400237</td>\n      <td>1.956143</td>\n      <td>5.108548</td>\n      <td>-8.105974</td>\n      <td>-4.842075</td>\n      <td>-7.071575</td>\n      <td>0.488775</td>\n      <td>-34.231374</td>\n      <td>-0.872102</td>\n      <td>72.532949</td>\n      <td>-0.069835</td>\n      <td>0.16255</td>\n      <td>-0.031879</td>\n      <td>3.826494</td>\n      <td>26.097258</td>\n      <td>65.706822</td>\n      <td>23.445691</td>\n      <td>50.007174</td>\n      <td>0.238901</td>\n      <td>1171.786983</td>\n      <td>0.760562</td>\n      <td>5261.028656</td>\n      <td>0.004877</td>\n      <td>0.026422</td>\n      <td>0.001016</td>\n      <td>NaN</td>\n      <td>1970-01-01 00:18:45.639</td>\n    </tr>\n  </tbody>\n</table>\n</div>"
     },
     "execution_count": 335,
     "metadata": {},
     "output_type": "execute_result"
    }
   ],
   "source": [
    "df['tiempo_seguido'] = range(0, len(df) * 9, 9)\n",
    "df['tiempo_seguido'] = pd.to_datetime(df['tiempo_seguido'],unit='ms')\n",
    "df.tail()"
   ],
   "metadata": {
    "collapsed": false,
    "ExecuteTime": {
     "end_time": "2024-02-21T10:03:22.777472300Z",
     "start_time": "2024-02-21T10:03:22.724874300Z"
    }
   },
   "id": "2c64bab087105b11"
  },
  {
   "cell_type": "code",
   "execution_count": 336,
   "outputs": [],
   "source": [
    "time_column_name = 'tiempo_seguido'\n",
    "df_procesado = df.set_index(time_column_name)\n",
    "df_procesado = df_procesado.sort_index()"
   ],
   "metadata": {
    "collapsed": false,
    "ExecuteTime": {
     "end_time": "2024-02-21T10:03:55.241337800Z",
     "start_time": "2024-02-21T10:03:55.130988Z"
    }
   },
   "id": "1e67ef0fe3d4d9e0"
  },
  {
   "cell_type": "code",
   "execution_count": 337,
   "outputs": [
    {
     "data": {
      "text/plain": "                         accX_orig  accY_orig  accZ_orig  gyroX_orig  \\\ntiempo_seguido                                                         \n1970-01-01 00:18:45.603   2.014829   5.285934  -8.692513       -2.73   \n1970-01-01 00:18:45.612   1.904755   5.218932  -7.950711       -5.46   \n1970-01-01 00:18:45.621   1.955006   5.400794  -7.697063       -1.96   \n1970-01-01 00:18:45.630   1.899969   5.587440  -8.012926        0.56   \n1970-01-01 00:18:45.639   1.823396   5.652049  -8.307254       -2.66   \n\n                         gyroY_orig  gyroZ_orig  magnX_orig  magnY_orig  \\\ntiempo_seguido                                                            \n1970-01-01 00:18:45.603       -4.55       -4.20  -34.755638    1.023753   \n1970-01-01 00:18:45.612       -3.92       -3.43  -34.851608   -1.077159   \n1970-01-01 00:18:45.621       -3.57       -2.80  -33.535233    1.367548   \n1970-01-01 00:18:45.630       -2.87       -2.73  -35.283245   -1.010462   \n1970-01-01 00:18:45.639       -1.96       -3.43  -33.395229    0.557668   \n\n                         magnZ_orig  linAccX_orig  linAccY_orig  linAccZ_orig  \\\ntiempo_seguido                                                                  \n1970-01-01 00:18:45.603   71.909103     -0.358931      0.055067      0.555173   \n1970-01-01 00:18:45.612   72.098068     -0.059283      0.213413     -0.112638   \n1970-01-01 00:18:45.621   73.644104      0.166582      0.404346     -0.215507   \n1970-01-01 00:18:45.630   71.552040      0.199482      0.295956      0.135820   \n1970-01-01 00:18:45.639   74.340714      0.148882      0.140581      0.400237   \n\n                             accX      accY      accZ     gyroX     gyroY  \\\ntiempo_seguido                                                              \n1970-01-01 00:18:45.603  1.956143  5.108548 -8.105974 -4.842075 -7.071575   \n1970-01-01 00:18:45.612  1.956143  5.108548 -8.105974 -4.842075 -7.071575   \n1970-01-01 00:18:45.621  1.956143  5.108548 -8.105974 -4.842075 -7.071575   \n1970-01-01 00:18:45.630  1.956143  5.108548 -8.105974 -4.842075 -7.071575   \n1970-01-01 00:18:45.639  1.956143  5.108548 -8.105974 -4.842075 -7.071575   \n\n                            gyroZ      magnX     magnY      magnZ   linAccX  \\\ntiempo_seguido                                                                \n1970-01-01 00:18:45.603  0.488775 -34.231374 -0.872102  72.532949 -0.069835   \n1970-01-01 00:18:45.612  0.488775 -34.231374 -0.872102  72.532949 -0.069835   \n1970-01-01 00:18:45.621  0.488775 -34.231374 -0.872102  72.532949 -0.069835   \n1970-01-01 00:18:45.630  0.488775 -34.231374 -0.872102  72.532949 -0.069835   \n1970-01-01 00:18:45.639  0.488775 -34.231374 -0.872102  72.532949 -0.069835   \n\n                         linAccY   linAccZ  accX_mod   accY_mod   accZ_mod  \\\ntiempo_seguido                                                               \n1970-01-01 00:18:45.603  0.16255 -0.031879  3.826494  26.097258  65.706822   \n1970-01-01 00:18:45.612  0.16255 -0.031879  3.826494  26.097258  65.706822   \n1970-01-01 00:18:45.621  0.16255 -0.031879  3.826494  26.097258  65.706822   \n1970-01-01 00:18:45.630  0.16255 -0.031879  3.826494  26.097258  65.706822   \n1970-01-01 00:18:45.639  0.16255 -0.031879  3.826494  26.097258  65.706822   \n\n                         gyroX_mod  gyroY_mod  gyroZ_mod    magnX_mod  \\\ntiempo_seguido                                                          \n1970-01-01 00:18:45.603  23.445691  50.007174   0.238901  1171.786983   \n1970-01-01 00:18:45.612  23.445691  50.007174   0.238901  1171.786983   \n1970-01-01 00:18:45.621  23.445691  50.007174   0.238901  1171.786983   \n1970-01-01 00:18:45.630  23.445691  50.007174   0.238901  1171.786983   \n1970-01-01 00:18:45.639  23.445691  50.007174   0.238901  1171.786983   \n\n                         magnY_mod    magnZ_mod  linAccX_mod  linAccY_mod  \\\ntiempo_seguido                                                              \n1970-01-01 00:18:45.603   0.760562  5261.028656     0.004877     0.026422   \n1970-01-01 00:18:45.612   0.760562  5261.028656     0.004877     0.026422   \n1970-01-01 00:18:45.621   0.760562  5261.028656     0.004877     0.026422   \n1970-01-01 00:18:45.630   0.760562  5261.028656     0.004877     0.026422   \n1970-01-01 00:18:45.639   0.760562  5261.028656     0.004877     0.026422   \n\n                         linAccZ_mod  peaks  \ntiempo_seguido                               \n1970-01-01 00:18:45.603     0.001016    NaN  \n1970-01-01 00:18:45.612     0.001016    NaN  \n1970-01-01 00:18:45.621     0.001016    NaN  \n1970-01-01 00:18:45.630     0.001016    NaN  \n1970-01-01 00:18:45.639     0.001016    NaN  ",
      "text/html": "<div>\n<style scoped>\n    .dataframe tbody tr th:only-of-type {\n        vertical-align: middle;\n    }\n\n    .dataframe tbody tr th {\n        vertical-align: top;\n    }\n\n    .dataframe thead th {\n        text-align: right;\n    }\n</style>\n<table border=\"1\" class=\"dataframe\">\n  <thead>\n    <tr style=\"text-align: right;\">\n      <th></th>\n      <th>accX_orig</th>\n      <th>accY_orig</th>\n      <th>accZ_orig</th>\n      <th>gyroX_orig</th>\n      <th>gyroY_orig</th>\n      <th>gyroZ_orig</th>\n      <th>magnX_orig</th>\n      <th>magnY_orig</th>\n      <th>magnZ_orig</th>\n      <th>linAccX_orig</th>\n      <th>linAccY_orig</th>\n      <th>linAccZ_orig</th>\n      <th>accX</th>\n      <th>accY</th>\n      <th>accZ</th>\n      <th>gyroX</th>\n      <th>gyroY</th>\n      <th>gyroZ</th>\n      <th>magnX</th>\n      <th>magnY</th>\n      <th>magnZ</th>\n      <th>linAccX</th>\n      <th>linAccY</th>\n      <th>linAccZ</th>\n      <th>accX_mod</th>\n      <th>accY_mod</th>\n      <th>accZ_mod</th>\n      <th>gyroX_mod</th>\n      <th>gyroY_mod</th>\n      <th>gyroZ_mod</th>\n      <th>magnX_mod</th>\n      <th>magnY_mod</th>\n      <th>magnZ_mod</th>\n      <th>linAccX_mod</th>\n      <th>linAccY_mod</th>\n      <th>linAccZ_mod</th>\n      <th>peaks</th>\n    </tr>\n    <tr>\n      <th>tiempo_seguido</th>\n      <th></th>\n      <th></th>\n      <th></th>\n      <th></th>\n      <th></th>\n      <th></th>\n      <th></th>\n      <th></th>\n      <th></th>\n      <th></th>\n      <th></th>\n      <th></th>\n      <th></th>\n      <th></th>\n      <th></th>\n      <th></th>\n      <th></th>\n      <th></th>\n      <th></th>\n      <th></th>\n      <th></th>\n      <th></th>\n      <th></th>\n      <th></th>\n      <th></th>\n      <th></th>\n      <th></th>\n      <th></th>\n      <th></th>\n      <th></th>\n      <th></th>\n      <th></th>\n      <th></th>\n      <th></th>\n      <th></th>\n      <th></th>\n      <th></th>\n    </tr>\n  </thead>\n  <tbody>\n    <tr>\n      <th>1970-01-01 00:18:45.603</th>\n      <td>2.014829</td>\n      <td>5.285934</td>\n      <td>-8.692513</td>\n      <td>-2.73</td>\n      <td>-4.55</td>\n      <td>-4.20</td>\n      <td>-34.755638</td>\n      <td>1.023753</td>\n      <td>71.909103</td>\n      <td>-0.358931</td>\n      <td>0.055067</td>\n      <td>0.555173</td>\n      <td>1.956143</td>\n      <td>5.108548</td>\n      <td>-8.105974</td>\n      <td>-4.842075</td>\n      <td>-7.071575</td>\n      <td>0.488775</td>\n      <td>-34.231374</td>\n      <td>-0.872102</td>\n      <td>72.532949</td>\n      <td>-0.069835</td>\n      <td>0.16255</td>\n      <td>-0.031879</td>\n      <td>3.826494</td>\n      <td>26.097258</td>\n      <td>65.706822</td>\n      <td>23.445691</td>\n      <td>50.007174</td>\n      <td>0.238901</td>\n      <td>1171.786983</td>\n      <td>0.760562</td>\n      <td>5261.028656</td>\n      <td>0.004877</td>\n      <td>0.026422</td>\n      <td>0.001016</td>\n      <td>NaN</td>\n    </tr>\n    <tr>\n      <th>1970-01-01 00:18:45.612</th>\n      <td>1.904755</td>\n      <td>5.218932</td>\n      <td>-7.950711</td>\n      <td>-5.46</td>\n      <td>-3.92</td>\n      <td>-3.43</td>\n      <td>-34.851608</td>\n      <td>-1.077159</td>\n      <td>72.098068</td>\n      <td>-0.059283</td>\n      <td>0.213413</td>\n      <td>-0.112638</td>\n      <td>1.956143</td>\n      <td>5.108548</td>\n      <td>-8.105974</td>\n      <td>-4.842075</td>\n      <td>-7.071575</td>\n      <td>0.488775</td>\n      <td>-34.231374</td>\n      <td>-0.872102</td>\n      <td>72.532949</td>\n      <td>-0.069835</td>\n      <td>0.16255</td>\n      <td>-0.031879</td>\n      <td>3.826494</td>\n      <td>26.097258</td>\n      <td>65.706822</td>\n      <td>23.445691</td>\n      <td>50.007174</td>\n      <td>0.238901</td>\n      <td>1171.786983</td>\n      <td>0.760562</td>\n      <td>5261.028656</td>\n      <td>0.004877</td>\n      <td>0.026422</td>\n      <td>0.001016</td>\n      <td>NaN</td>\n    </tr>\n    <tr>\n      <th>1970-01-01 00:18:45.621</th>\n      <td>1.955006</td>\n      <td>5.400794</td>\n      <td>-7.697063</td>\n      <td>-1.96</td>\n      <td>-3.57</td>\n      <td>-2.80</td>\n      <td>-33.535233</td>\n      <td>1.367548</td>\n      <td>73.644104</td>\n      <td>0.166582</td>\n      <td>0.404346</td>\n      <td>-0.215507</td>\n      <td>1.956143</td>\n      <td>5.108548</td>\n      <td>-8.105974</td>\n      <td>-4.842075</td>\n      <td>-7.071575</td>\n      <td>0.488775</td>\n      <td>-34.231374</td>\n      <td>-0.872102</td>\n      <td>72.532949</td>\n      <td>-0.069835</td>\n      <td>0.16255</td>\n      <td>-0.031879</td>\n      <td>3.826494</td>\n      <td>26.097258</td>\n      <td>65.706822</td>\n      <td>23.445691</td>\n      <td>50.007174</td>\n      <td>0.238901</td>\n      <td>1171.786983</td>\n      <td>0.760562</td>\n      <td>5261.028656</td>\n      <td>0.004877</td>\n      <td>0.026422</td>\n      <td>0.001016</td>\n      <td>NaN</td>\n    </tr>\n    <tr>\n      <th>1970-01-01 00:18:45.630</th>\n      <td>1.899969</td>\n      <td>5.587440</td>\n      <td>-8.012926</td>\n      <td>0.56</td>\n      <td>-2.87</td>\n      <td>-2.73</td>\n      <td>-35.283245</td>\n      <td>-1.010462</td>\n      <td>71.552040</td>\n      <td>0.199482</td>\n      <td>0.295956</td>\n      <td>0.135820</td>\n      <td>1.956143</td>\n      <td>5.108548</td>\n      <td>-8.105974</td>\n      <td>-4.842075</td>\n      <td>-7.071575</td>\n      <td>0.488775</td>\n      <td>-34.231374</td>\n      <td>-0.872102</td>\n      <td>72.532949</td>\n      <td>-0.069835</td>\n      <td>0.16255</td>\n      <td>-0.031879</td>\n      <td>3.826494</td>\n      <td>26.097258</td>\n      <td>65.706822</td>\n      <td>23.445691</td>\n      <td>50.007174</td>\n      <td>0.238901</td>\n      <td>1171.786983</td>\n      <td>0.760562</td>\n      <td>5261.028656</td>\n      <td>0.004877</td>\n      <td>0.026422</td>\n      <td>0.001016</td>\n      <td>NaN</td>\n    </tr>\n    <tr>\n      <th>1970-01-01 00:18:45.639</th>\n      <td>1.823396</td>\n      <td>5.652049</td>\n      <td>-8.307254</td>\n      <td>-2.66</td>\n      <td>-1.96</td>\n      <td>-3.43</td>\n      <td>-33.395229</td>\n      <td>0.557668</td>\n      <td>74.340714</td>\n      <td>0.148882</td>\n      <td>0.140581</td>\n      <td>0.400237</td>\n      <td>1.956143</td>\n      <td>5.108548</td>\n      <td>-8.105974</td>\n      <td>-4.842075</td>\n      <td>-7.071575</td>\n      <td>0.488775</td>\n      <td>-34.231374</td>\n      <td>-0.872102</td>\n      <td>72.532949</td>\n      <td>-0.069835</td>\n      <td>0.16255</td>\n      <td>-0.031879</td>\n      <td>3.826494</td>\n      <td>26.097258</td>\n      <td>65.706822</td>\n      <td>23.445691</td>\n      <td>50.007174</td>\n      <td>0.238901</td>\n      <td>1171.786983</td>\n      <td>0.760562</td>\n      <td>5261.028656</td>\n      <td>0.004877</td>\n      <td>0.026422</td>\n      <td>0.001016</td>\n      <td>NaN</td>\n    </tr>\n  </tbody>\n</table>\n</div>"
     },
     "execution_count": 337,
     "metadata": {},
     "output_type": "execute_result"
    }
   ],
   "source": [
    "df_procesado.tail()"
   ],
   "metadata": {
    "collapsed": false,
    "ExecuteTime": {
     "end_time": "2024-02-21T10:03:58.019878400Z",
     "start_time": "2024-02-21T10:03:57.973040500Z"
    }
   },
   "id": "5f29910eeb64f213"
  },
  {
   "cell_type": "code",
   "execution_count": 338,
   "outputs": [],
   "source": [
    "df_procesado.index = df_procesado.index.strftime('%Y-%m-%d %H:%M:%S.%f')"
   ],
   "metadata": {
    "collapsed": false,
    "ExecuteTime": {
     "end_time": "2024-02-21T10:04:04.592511Z",
     "start_time": "2024-02-21T10:04:04.380226600Z"
    }
   },
   "id": "47b4ea1cb22ca794"
  },
  {
   "cell_type": "code",
   "execution_count": 339,
   "outputs": [
    {
     "data": {
      "text/plain": "                    tiempo_seguido  accX_orig  accY_orig  accZ_orig  \\\n125067  1970-01-01 00:18:45.603000   2.014829   5.285934  -8.692513   \n125068  1970-01-01 00:18:45.612000   1.904755   5.218932  -7.950711   \n125069  1970-01-01 00:18:45.621000   1.955006   5.400794  -7.697063   \n125070  1970-01-01 00:18:45.630000   1.899969   5.587440  -8.012926   \n125071  1970-01-01 00:18:45.639000   1.823396   5.652049  -8.307254   \n\n        gyroX_orig  gyroY_orig  gyroZ_orig  magnX_orig  magnY_orig  \\\n125067       -2.73       -4.55       -4.20  -34.755638    1.023753   \n125068       -5.46       -3.92       -3.43  -34.851608   -1.077159   \n125069       -1.96       -3.57       -2.80  -33.535233    1.367548   \n125070        0.56       -2.87       -2.73  -35.283245   -1.010462   \n125071       -2.66       -1.96       -3.43  -33.395229    0.557668   \n\n        magnZ_orig  linAccX_orig  linAccY_orig  linAccZ_orig      accX  \\\n125067   71.909103     -0.358931      0.055067      0.555173  1.956143   \n125068   72.098068     -0.059283      0.213413     -0.112638  1.956143   \n125069   73.644104      0.166582      0.404346     -0.215507  1.956143   \n125070   71.552040      0.199482      0.295956      0.135820  1.956143   \n125071   74.340714      0.148882      0.140581      0.400237  1.956143   \n\n            accY      accZ     gyroX     gyroY     gyroZ      magnX     magnY  \\\n125067  5.108548 -8.105974 -4.842075 -7.071575  0.488775 -34.231374 -0.872102   \n125068  5.108548 -8.105974 -4.842075 -7.071575  0.488775 -34.231374 -0.872102   \n125069  5.108548 -8.105974 -4.842075 -7.071575  0.488775 -34.231374 -0.872102   \n125070  5.108548 -8.105974 -4.842075 -7.071575  0.488775 -34.231374 -0.872102   \n125071  5.108548 -8.105974 -4.842075 -7.071575  0.488775 -34.231374 -0.872102   \n\n            magnZ   linAccX  linAccY   linAccZ  accX_mod   accY_mod  \\\n125067  72.532949 -0.069835  0.16255 -0.031879  3.826494  26.097258   \n125068  72.532949 -0.069835  0.16255 -0.031879  3.826494  26.097258   \n125069  72.532949 -0.069835  0.16255 -0.031879  3.826494  26.097258   \n125070  72.532949 -0.069835  0.16255 -0.031879  3.826494  26.097258   \n125071  72.532949 -0.069835  0.16255 -0.031879  3.826494  26.097258   \n\n         accZ_mod  gyroX_mod  gyroY_mod  gyroZ_mod    magnX_mod  magnY_mod  \\\n125067  65.706822  23.445691  50.007174   0.238901  1171.786983   0.760562   \n125068  65.706822  23.445691  50.007174   0.238901  1171.786983   0.760562   \n125069  65.706822  23.445691  50.007174   0.238901  1171.786983   0.760562   \n125070  65.706822  23.445691  50.007174   0.238901  1171.786983   0.760562   \n125071  65.706822  23.445691  50.007174   0.238901  1171.786983   0.760562   \n\n          magnZ_mod  linAccX_mod  linAccY_mod  linAccZ_mod  peaks  \n125067  5261.028656     0.004877     0.026422     0.001016    NaN  \n125068  5261.028656     0.004877     0.026422     0.001016    NaN  \n125069  5261.028656     0.004877     0.026422     0.001016    NaN  \n125070  5261.028656     0.004877     0.026422     0.001016    NaN  \n125071  5261.028656     0.004877     0.026422     0.001016    NaN  ",
      "text/html": "<div>\n<style scoped>\n    .dataframe tbody tr th:only-of-type {\n        vertical-align: middle;\n    }\n\n    .dataframe tbody tr th {\n        vertical-align: top;\n    }\n\n    .dataframe thead th {\n        text-align: right;\n    }\n</style>\n<table border=\"1\" class=\"dataframe\">\n  <thead>\n    <tr style=\"text-align: right;\">\n      <th></th>\n      <th>tiempo_seguido</th>\n      <th>accX_orig</th>\n      <th>accY_orig</th>\n      <th>accZ_orig</th>\n      <th>gyroX_orig</th>\n      <th>gyroY_orig</th>\n      <th>gyroZ_orig</th>\n      <th>magnX_orig</th>\n      <th>magnY_orig</th>\n      <th>magnZ_orig</th>\n      <th>linAccX_orig</th>\n      <th>linAccY_orig</th>\n      <th>linAccZ_orig</th>\n      <th>accX</th>\n      <th>accY</th>\n      <th>accZ</th>\n      <th>gyroX</th>\n      <th>gyroY</th>\n      <th>gyroZ</th>\n      <th>magnX</th>\n      <th>magnY</th>\n      <th>magnZ</th>\n      <th>linAccX</th>\n      <th>linAccY</th>\n      <th>linAccZ</th>\n      <th>accX_mod</th>\n      <th>accY_mod</th>\n      <th>accZ_mod</th>\n      <th>gyroX_mod</th>\n      <th>gyroY_mod</th>\n      <th>gyroZ_mod</th>\n      <th>magnX_mod</th>\n      <th>magnY_mod</th>\n      <th>magnZ_mod</th>\n      <th>linAccX_mod</th>\n      <th>linAccY_mod</th>\n      <th>linAccZ_mod</th>\n      <th>peaks</th>\n    </tr>\n  </thead>\n  <tbody>\n    <tr>\n      <th>125067</th>\n      <td>1970-01-01 00:18:45.603000</td>\n      <td>2.014829</td>\n      <td>5.285934</td>\n      <td>-8.692513</td>\n      <td>-2.73</td>\n      <td>-4.55</td>\n      <td>-4.20</td>\n      <td>-34.755638</td>\n      <td>1.023753</td>\n      <td>71.909103</td>\n      <td>-0.358931</td>\n      <td>0.055067</td>\n      <td>0.555173</td>\n      <td>1.956143</td>\n      <td>5.108548</td>\n      <td>-8.105974</td>\n      <td>-4.842075</td>\n      <td>-7.071575</td>\n      <td>0.488775</td>\n      <td>-34.231374</td>\n      <td>-0.872102</td>\n      <td>72.532949</td>\n      <td>-0.069835</td>\n      <td>0.16255</td>\n      <td>-0.031879</td>\n      <td>3.826494</td>\n      <td>26.097258</td>\n      <td>65.706822</td>\n      <td>23.445691</td>\n      <td>50.007174</td>\n      <td>0.238901</td>\n      <td>1171.786983</td>\n      <td>0.760562</td>\n      <td>5261.028656</td>\n      <td>0.004877</td>\n      <td>0.026422</td>\n      <td>0.001016</td>\n      <td>NaN</td>\n    </tr>\n    <tr>\n      <th>125068</th>\n      <td>1970-01-01 00:18:45.612000</td>\n      <td>1.904755</td>\n      <td>5.218932</td>\n      <td>-7.950711</td>\n      <td>-5.46</td>\n      <td>-3.92</td>\n      <td>-3.43</td>\n      <td>-34.851608</td>\n      <td>-1.077159</td>\n      <td>72.098068</td>\n      <td>-0.059283</td>\n      <td>0.213413</td>\n      <td>-0.112638</td>\n      <td>1.956143</td>\n      <td>5.108548</td>\n      <td>-8.105974</td>\n      <td>-4.842075</td>\n      <td>-7.071575</td>\n      <td>0.488775</td>\n      <td>-34.231374</td>\n      <td>-0.872102</td>\n      <td>72.532949</td>\n      <td>-0.069835</td>\n      <td>0.16255</td>\n      <td>-0.031879</td>\n      <td>3.826494</td>\n      <td>26.097258</td>\n      <td>65.706822</td>\n      <td>23.445691</td>\n      <td>50.007174</td>\n      <td>0.238901</td>\n      <td>1171.786983</td>\n      <td>0.760562</td>\n      <td>5261.028656</td>\n      <td>0.004877</td>\n      <td>0.026422</td>\n      <td>0.001016</td>\n      <td>NaN</td>\n    </tr>\n    <tr>\n      <th>125069</th>\n      <td>1970-01-01 00:18:45.621000</td>\n      <td>1.955006</td>\n      <td>5.400794</td>\n      <td>-7.697063</td>\n      <td>-1.96</td>\n      <td>-3.57</td>\n      <td>-2.80</td>\n      <td>-33.535233</td>\n      <td>1.367548</td>\n      <td>73.644104</td>\n      <td>0.166582</td>\n      <td>0.404346</td>\n      <td>-0.215507</td>\n      <td>1.956143</td>\n      <td>5.108548</td>\n      <td>-8.105974</td>\n      <td>-4.842075</td>\n      <td>-7.071575</td>\n      <td>0.488775</td>\n      <td>-34.231374</td>\n      <td>-0.872102</td>\n      <td>72.532949</td>\n      <td>-0.069835</td>\n      <td>0.16255</td>\n      <td>-0.031879</td>\n      <td>3.826494</td>\n      <td>26.097258</td>\n      <td>65.706822</td>\n      <td>23.445691</td>\n      <td>50.007174</td>\n      <td>0.238901</td>\n      <td>1171.786983</td>\n      <td>0.760562</td>\n      <td>5261.028656</td>\n      <td>0.004877</td>\n      <td>0.026422</td>\n      <td>0.001016</td>\n      <td>NaN</td>\n    </tr>\n    <tr>\n      <th>125070</th>\n      <td>1970-01-01 00:18:45.630000</td>\n      <td>1.899969</td>\n      <td>5.587440</td>\n      <td>-8.012926</td>\n      <td>0.56</td>\n      <td>-2.87</td>\n      <td>-2.73</td>\n      <td>-35.283245</td>\n      <td>-1.010462</td>\n      <td>71.552040</td>\n      <td>0.199482</td>\n      <td>0.295956</td>\n      <td>0.135820</td>\n      <td>1.956143</td>\n      <td>5.108548</td>\n      <td>-8.105974</td>\n      <td>-4.842075</td>\n      <td>-7.071575</td>\n      <td>0.488775</td>\n      <td>-34.231374</td>\n      <td>-0.872102</td>\n      <td>72.532949</td>\n      <td>-0.069835</td>\n      <td>0.16255</td>\n      <td>-0.031879</td>\n      <td>3.826494</td>\n      <td>26.097258</td>\n      <td>65.706822</td>\n      <td>23.445691</td>\n      <td>50.007174</td>\n      <td>0.238901</td>\n      <td>1171.786983</td>\n      <td>0.760562</td>\n      <td>5261.028656</td>\n      <td>0.004877</td>\n      <td>0.026422</td>\n      <td>0.001016</td>\n      <td>NaN</td>\n    </tr>\n    <tr>\n      <th>125071</th>\n      <td>1970-01-01 00:18:45.639000</td>\n      <td>1.823396</td>\n      <td>5.652049</td>\n      <td>-8.307254</td>\n      <td>-2.66</td>\n      <td>-1.96</td>\n      <td>-3.43</td>\n      <td>-33.395229</td>\n      <td>0.557668</td>\n      <td>74.340714</td>\n      <td>0.148882</td>\n      <td>0.140581</td>\n      <td>0.400237</td>\n      <td>1.956143</td>\n      <td>5.108548</td>\n      <td>-8.105974</td>\n      <td>-4.842075</td>\n      <td>-7.071575</td>\n      <td>0.488775</td>\n      <td>-34.231374</td>\n      <td>-0.872102</td>\n      <td>72.532949</td>\n      <td>-0.069835</td>\n      <td>0.16255</td>\n      <td>-0.031879</td>\n      <td>3.826494</td>\n      <td>26.097258</td>\n      <td>65.706822</td>\n      <td>23.445691</td>\n      <td>50.007174</td>\n      <td>0.238901</td>\n      <td>1171.786983</td>\n      <td>0.760562</td>\n      <td>5261.028656</td>\n      <td>0.004877</td>\n      <td>0.026422</td>\n      <td>0.001016</td>\n      <td>NaN</td>\n    </tr>\n  </tbody>\n</table>\n</div>"
     },
     "execution_count": 339,
     "metadata": {},
     "output_type": "execute_result"
    }
   ],
   "source": [
    "df_reset_index = df_procesado.reset_index()\n",
    "df_reset_index.tail()"
   ],
   "metadata": {
    "collapsed": false,
    "ExecuteTime": {
     "end_time": "2024-02-21T10:04:08.785774500Z",
     "start_time": "2024-02-21T10:04:08.729829Z"
    }
   },
   "id": "90a97fbb7073cb2f"
  },
  {
   "cell_type": "code",
   "execution_count": 340,
   "outputs": [],
   "source": [
    "df_reset_index.to_csv('BARBELLCLEAN.csv')"
   ],
   "metadata": {
    "collapsed": false,
    "ExecuteTime": {
     "end_time": "2024-02-21T10:04:32.095531900Z",
     "start_time": "2024-02-21T10:04:25.681471Z"
    }
   },
   "id": "df4aa9a02475f1d"
  },
  {
   "cell_type": "code",
   "execution_count": null,
   "id": "c1e260400382fc99",
   "metadata": {
    "collapsed": false
   },
   "outputs": [],
   "source": [
    "len(df_reset_index)"
   ]
  },
  {
   "cell_type": "code",
   "execution_count": null,
   "outputs": [],
   "source": [],
   "metadata": {
    "collapsed": false
   },
   "id": "ea96df8bcf28516b"
  }
 ],
 "metadata": {
  "kernelspec": {
   "display_name": "Python 3 (ipykernel)",
   "language": "python",
   "name": "python3"
  },
  "language_info": {
   "codemirror_mode": {
    "name": "ipython",
    "version": 3
   },
   "file_extension": ".py",
   "mimetype": "text/x-python",
   "name": "python",
   "nbconvert_exporter": "python",
   "pygments_lexer": "ipython3",
   "version": "3.10.13"
  }
 },
 "nbformat": 4,
 "nbformat_minor": 5
}
