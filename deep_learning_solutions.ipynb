{
 "cells": [
  {
   "cell_type": "markdown",
   "source": [
    "# Importing libraries"
   ],
   "metadata": {
    "collapsed": false
   },
   "id": "42915944d9735d22"
  },
  {
   "cell_type": "code",
   "execution_count": 32,
   "outputs": [],
   "source": [
    "import numpy as np\n",
    "from fitizens_libraries.load_and_process_training_data import load_training_data\n",
    "import os\n",
    "import pandas as pd\n",
    "import statistics as stat\n",
    "import tensorflow as tf\n",
    "from tensorflow.keras.models import Sequential\n",
    "from tensorflow.keras.layers import Conv1D, MaxPooling1D, Flatten,Dense\n",
    "from sklearn.model_selection import train_test_split\n",
    "from tensorflow.keras.utils import to_categorical\n",
    "from tensorflow.keras.metrics import F1Score\n",
    "from sklearn.model_selection import ParameterGrid"
   ],
   "metadata": {
    "collapsed": false,
    "ExecuteTime": {
     "end_time": "2023-12-20T12:39:27.150755800Z",
     "start_time": "2023-12-20T12:39:27.139881700Z"
    }
   },
   "id": "8db0d1922b4d9000"
  },
  {
   "cell_type": "markdown",
   "source": [
    "# Creating Functions"
   ],
   "metadata": {
    "collapsed": false
   },
   "id": "5bdce6bd314dcf6"
  },
  {
   "cell_type": "code",
   "execution_count": 42,
   "outputs": [],
   "source": [
    "def requires_peak_minima(exercise: str):\n",
    "    if exercise == \"SQUAT\":\n",
    "        return True\n",
    "    else:\n",
    "        return False"
   ],
   "metadata": {
    "collapsed": false,
    "ExecuteTime": {
     "end_time": "2023-12-20T12:46:13.339536900Z",
     "start_time": "2023-12-20T12:46:13.329474900Z"
    }
   },
   "id": "3c453124fd480969"
  },
  {
   "cell_type": "code",
   "execution_count": 43,
   "outputs": [],
   "source": [
    "def load_data(exercise: str, folder_path: str):\n",
    "    os.makedirs(folder_path, exist_ok=True)\n",
    "    file_names = [f\"{folder_path}/{name}\" for name in os.listdir(folder_path)]\n",
    "    signals = [\"accX\", \"accY\", \"accZ\", \"gyroX\", \"gyroY\", \"gyroZ\", \"magnX\", \"magnY\", \"magnZ\", \"linAccX\", \"linAccY\", \"linAccZ\"]\n",
    "    \n",
    "    data, wk = load_training_data(filelist=file_names,\n",
    "                             signals= signals,\n",
    "                              target_exercise=exercise, other_exercises=[], is_peak_minima=requires_peak_minima(exercise))\n",
    "    return data"
   ],
   "metadata": {
    "collapsed": false,
    "ExecuteTime": {
     "end_time": "2023-12-20T12:46:14.514257Z",
     "start_time": "2023-12-20T12:46:14.511786400Z"
    }
   },
   "id": "68f52da504d3e771"
  },
  {
   "cell_type": "code",
   "execution_count": 44,
   "outputs": [],
   "source": [
    "def resampling_data(df_input, desired_rows, columns):\n",
    "    df = df_input[columns]\n",
    "    if df.shape[0] == desired_rows:\n",
    "        return df    \n",
    "\n",
    "    additional_index = pd.date_range(start=df.index.min(),  \n",
    "                                     end=df.index.max(),\n",
    "                                     periods=desired_rows)\n",
    "    resampled_df = df.reindex(additional_index).interpolate()\n",
    "    \n",
    "    return resampled_df"
   ],
   "metadata": {
    "collapsed": false,
    "ExecuteTime": {
     "end_time": "2023-12-20T12:46:16.487277400Z",
     "start_time": "2023-12-20T12:46:16.475080500Z"
    }
   },
   "id": "65146ad658dfb43f"
  },
  {
   "cell_type": "code",
   "execution_count": 45,
   "outputs": [],
   "source": [
    "def get_training_test_data(exercise_tag: str, folder_path: str, columns_selected: list):\n",
    "    data = load_data(exercise_tag, folder_path)\n",
    "    \n",
    "    exercise = [element[\"series\"] for element in list(filter(lambda info: info[\"target\"] == exercise_tag, data))]\n",
    "    no_exercise = [element[\"series\"] for element in list(filter(lambda info: info[\"target\"] == \"NO_EXERCISE\", data))]\n",
    "    \n",
    "    exercise_len = len(exercise)\n",
    "    no_exercise_len = len(no_exercise)\n",
    "    total_len = exercise_len + no_exercise_len\n",
    "    exercise_weight = total_len / ( 2 * exercise_len )\n",
    "    no_exercise_weight = total_len / ( 2* no_exercise_len )\n",
    "    \n",
    "    metric = int(stat.median([info.shape[0] for info in exercise]))\n",
    "    resampled_exercise = [resampling_data(info, metric, columns_selected) for info in exercise]\n",
    "    resampled_no_exercise = [resampling_data(info, metric, columns_selected) for info in no_exercise]\n",
    "    \n",
    "    resampled_exercise_labeled = [1] * len(resampled_exercise)\n",
    "    resampled_no_exercise_labeled = [0] * len(resampled_no_exercise)\n",
    "    \n",
    "    input_data = resampled_exercise + resampled_no_exercise\n",
    "    input_data = np.stack([df.to_numpy() for df in input_data])\n",
    "    output_data = np.array(resampled_exercise_labeled + resampled_no_exercise_labeled)\n",
    "    \n",
    "    return {\"X\": input_data, \"Y\": output_data, \"exercise_weight\": exercise_weight, \"no_exercise_weight\": no_exercise_weight, \"metric\": metric}"
   ],
   "metadata": {
    "collapsed": false,
    "ExecuteTime": {
     "end_time": "2023-12-20T12:46:18.413051200Z",
     "start_time": "2023-12-20T12:46:18.393287600Z"
    }
   },
   "id": "9b60412448df7789"
  },
  {
   "cell_type": "code",
   "execution_count": 46,
   "outputs": [],
   "source": [
    "def create_model(params, input_shape):\n",
    "    model = Sequential()\n",
    "    model.add(Conv1D(filters=params['filters'], kernel_size=params['kernel_size'], \n",
    "                     activation='relu', padding='same', input_shape=input_shape))\n",
    "    model.add(MaxPooling1D(2))\n",
    "    model.add(Flatten())\n",
    "    model.add(Dense(params['dense_units'], activation='relu', kernel_regularizer=tf.keras.regularizers.l2(0.001)))\n",
    "    model.add(Dense(2, activation='softmax'))\n",
    "    optimizer = tf.keras.optimizers.Adam(learning_rate=params['learning_rate'])\n",
    "    model.compile(optimizer=optimizer, loss='categorical_crossentropy', metrics=[F1Score()])\n",
    "    return model"
   ],
   "metadata": {
    "collapsed": false,
    "ExecuteTime": {
     "end_time": "2023-12-20T12:46:20.997348800Z",
     "start_time": "2023-12-20T12:46:20.972770300Z"
    }
   },
   "id": "de3e69e2cad3a0ee"
  },
  {
   "cell_type": "code",
   "execution_count": 47,
   "outputs": [],
   "source": [
    "def hyperparameter_tuning(X_train, y_train, X_test, y_test, input_shape, class_weights_dict):\n",
    "    param_grid = {\n",
    "        'filters': [32, 64, 128],\n",
    "        'kernel_size': [3, 5],\n",
    "        'dense_units': [32, 64, 128],\n",
    "        'learning_rate': [0.001, 0.0001]\n",
    "    }\n",
    "\n",
    "    best_f1 = 0\n",
    "    best_model = None\n",
    "    best_params = None\n",
    "\n",
    "    for params in ParameterGrid(param_grid):\n",
    "        model = create_model(params, input_shape)\n",
    "        model.fit(X_train, y_train, epochs=100, batch_size=32, class_weight=class_weights_dict, validation_split=0.2, verbose=0)\n",
    "        _, f1 = model.evaluate(X_test, y_test, verbose=0)\n",
    "        f1_exercise = f1[1]\n",
    "        if f1_exercise > best_f1:\n",
    "            best_f1 = f1_exercise\n",
    "            best_model = model\n",
    "            best_params = params\n",
    "\n",
    "    return best_model, best_f1, best_params"
   ],
   "metadata": {
    "collapsed": false,
    "ExecuteTime": {
     "end_time": "2023-12-20T12:46:23.412243400Z",
     "start_time": "2023-12-20T12:46:23.373713900Z"
    }
   },
   "id": "e66ea8d9502e6e93"
  },
  {
   "cell_type": "code",
   "execution_count": 48,
   "outputs": [],
   "source": [
    "def predict_deep_learning(exercise_tag: str, folder_path: str, columns_selected: list):\n",
    "    data = get_training_test_data(exercise_tag, folder_path, columns_selected)\n",
    "    \n",
    "    X_train, X_test, y_train, y_test = train_test_split(data[\"X\"], data[\"Y\"], test_size=0.2, random_state=123)\n",
    "    y_train = to_categorical(y_train, num_classes=2)\n",
    "    y_test = to_categorical(y_test, num_classes=2)\n",
    "    class_weights_dict = {0: data[\"no_exercise_weight\"], 1: data[\"exercise_weight\"]}\n",
    "    input_shape = (data[\"metric\"], len(columns_selected))\n",
    "\n",
    "    return hyperparameter_tuning(X_train, y_train, X_test, y_test, input_shape, class_weights_dict)"
   ],
   "metadata": {
    "collapsed": false,
    "ExecuteTime": {
     "end_time": "2023-12-20T12:46:28.335576300Z",
     "start_time": "2023-12-20T12:46:28.322238500Z"
    }
   },
   "id": "e562be0d190c0dc5"
  },
  {
   "cell_type": "markdown",
   "source": [
    "# Testing"
   ],
   "metadata": {
    "collapsed": false
   },
   "id": "2ff2a0e0e7d4934c"
  },
  {
   "cell_type": "code",
   "execution_count": 49,
   "outputs": [
    {
     "data": {
      "text/plain": "0.97897893"
     },
     "execution_count": 49,
     "metadata": {},
     "output_type": "execute_result"
    }
   ],
   "source": [
    "features = [\"accX\", \"accY\", \"accZ\", \"linAccX\", \"linAccY\", \"linAccZ\", \"gyroX\", \"gyroY\", \"gyroZ\", \"magnX\", \"magnY\", \"magnZ\"]\n",
    "\n",
    "best_model_generated, best_f1_generated, best_params_generated = predict_deep_learning(\"SQUAT\", \"LABELED\", features)\n",
    "best_f1_generated"
   ],
   "metadata": {
    "collapsed": false,
    "ExecuteTime": {
     "end_time": "2023-12-20T13:17:55.260183700Z",
     "start_time": "2023-12-20T12:46:30.392088900Z"
    }
   },
   "id": "88770f54f440cc0f"
  },
  {
   "cell_type": "code",
   "execution_count": 50,
   "outputs": [
    {
     "data": {
      "text/plain": "{'dense_units': 32, 'filters': 32, 'kernel_size': 3, 'learning_rate': 0.0001}"
     },
     "execution_count": 50,
     "metadata": {},
     "output_type": "execute_result"
    }
   ],
   "source": [
    "best_params_generated"
   ],
   "metadata": {
    "collapsed": false,
    "ExecuteTime": {
     "end_time": "2023-12-20T13:39:48.639457100Z",
     "start_time": "2023-12-20T13:39:48.626027500Z"
    }
   },
   "id": "34ab958d0c1847f8"
  },
  {
   "cell_type": "code",
   "execution_count": 52,
   "outputs": [
    {
     "name": "stdout",
     "output_type": "stream",
     "text": [
      "Model: \"sequential_6\"\n",
      "_________________________________________________________________\n",
      " Layer (type)                Output Shape              Param #   \n",
      "=================================================================\n",
      " conv1d_6 (Conv1D)           (None, 109, 32)           1184      \n",
      "                                                                 \n",
      " max_pooling1d_6 (MaxPoolin  (None, 54, 32)            0         \n",
      " g1D)                                                            \n",
      "                                                                 \n",
      " flatten_6 (Flatten)         (None, 1728)              0         \n",
      "                                                                 \n",
      " dense_12 (Dense)            (None, 32)                55328     \n",
      "                                                                 \n",
      " dense_13 (Dense)            (None, 2)                 66        \n",
      "                                                                 \n",
      "=================================================================\n",
      "Total params: 56578 (221.01 KB)\n",
      "Trainable params: 56578 (221.01 KB)\n",
      "Non-trainable params: 0 (0.00 Byte)\n",
      "_________________________________________________________________\n"
     ]
    }
   ],
   "source": [
    "best_model_generated.summary()"
   ],
   "metadata": {
    "collapsed": false,
    "ExecuteTime": {
     "end_time": "2023-12-20T13:40:14.612150300Z",
     "start_time": "2023-12-20T13:40:14.571777900Z"
    }
   },
   "id": "29c1867500bc5374"
  }
 ],
 "metadata": {
  "kernelspec": {
   "display_name": "Python 3",
   "language": "python",
   "name": "python3"
  },
  "language_info": {
   "codemirror_mode": {
    "name": "ipython",
    "version": 2
   },
   "file_extension": ".py",
   "mimetype": "text/x-python",
   "name": "python",
   "nbconvert_exporter": "python",
   "pygments_lexer": "ipython2",
   "version": "2.7.6"
  }
 },
 "nbformat": 4,
 "nbformat_minor": 5
}
